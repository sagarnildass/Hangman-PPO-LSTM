{
 "cells": [
  {
   "cell_type": "code",
   "execution_count": 1,
   "id": "1fa543e5-e6b3-442c-a0d1-0e3f4247ba0c",
   "metadata": {},
   "outputs": [
    {
     "name": "stderr",
     "output_type": "stream",
     "text": [
      "2024-11-18 15:32:19.035748: I tensorflow/core/util/port.cc:113] oneDNN custom operations are on. You may see slightly different numerical results due to floating-point round-off errors from different computation orders. To turn them off, set the environment variable `TF_ENABLE_ONEDNN_OPTS=0`.\n",
      "2024-11-18 15:32:19.057273: E external/local_xla/xla/stream_executor/cuda/cuda_dnn.cc:9261] Unable to register cuDNN factory: Attempting to register factory for plugin cuDNN when one has already been registered\n",
      "2024-11-18 15:32:19.057297: E external/local_xla/xla/stream_executor/cuda/cuda_fft.cc:607] Unable to register cuFFT factory: Attempting to register factory for plugin cuFFT when one has already been registered\n",
      "2024-11-18 15:32:19.058020: E external/local_xla/xla/stream_executor/cuda/cuda_blas.cc:1515] Unable to register cuBLAS factory: Attempting to register factory for plugin cuBLAS when one has already been registered\n",
      "2024-11-18 15:32:19.061881: I tensorflow/core/platform/cpu_feature_guard.cc:182] This TensorFlow binary is optimized to use available CPU instructions in performance-critical operations.\n",
      "To enable the following instructions: AVX2 AVX_VNNI FMA, in other operations, rebuild TensorFlow with the appropriate compiler flags.\n",
      "2024-11-18 15:32:19.448741: W tensorflow/compiler/tf2tensorrt/utils/py_utils.cc:38] TF-TRT Warning: Could not find TensorRT\n"
     ]
    }
   ],
   "source": [
    "import gymnasium as gym\n",
    "from gymnasium import spaces\n",
    "import numpy as np\n",
    "import random\n",
    "import re\n",
    "from collections import Counter\n",
    "import json\n",
    "import torch\n",
    "import torch.nn as nn\n",
    "from sb3_contrib import RecurrentPPO\n",
    "from stable_baselines3.common.vec_env import DummyVecEnv\n",
    "from stable_baselines3.common.env_checker import check_env\n",
    "from stable_baselines3.common.callbacks import BaseCallback, CallbackList\n",
    "from stable_baselines3.common.vec_env import VecMonitor\n",
    "\n",
    "# =======================\n",
    "# Curriculum Management\n",
    "# =======================\n",
    "\n",
    "class Curriculum:\n",
    "    \"\"\"\n",
    "    Manages the curriculum phases for training the Hangman agent with state persistence.\n",
    "    \"\"\"\n",
    "    def __init__(self, state_file='curriculum_state.json'):\n",
    "        self.current_phase = 1\n",
    "        self.phases = {\n",
    "            1: {'word_length_range': (3, 6), 'max_attempts': 12},\n",
    "            2: {'word_length_range': (6, 8), 'max_attempts': 10},\n",
    "            3: {'word_length_range': (8, 10), 'max_attempts': 8},\n",
    "            4: {'word_length_range': (10, 12), 'max_attempts': 7},\n",
    "            5: {'word_length_range': (12, 15), 'max_attempts': 6},\n",
    "            6: {'word_length_range': (15, 20), 'max_attempts': 6},\n",
    "        }\n",
    "        self.state_file = state_file\n",
    "        self.load_state()\n",
    "\n",
    "    def get_current_config(self):\n",
    "        return self.phases[self.current_phase]\n",
    "\n",
    "    def advance_phase(self):\n",
    "        if self.current_phase < len(self.phases):\n",
    "            self.current_phase += 1\n",
    "            print(f\"Advancing to Phase {self.current_phase}\")\n",
    "            self.save_state()\n",
    "        else:\n",
    "            if self.current_phase == len(self.phases):\n",
    "                print(\"Already in the final curriculum phase.\")\n",
    "\n",
    "    def regress_phase(self):\n",
    "        if self.current_phase > 1:\n",
    "            self.current_phase -= 1\n",
    "            print(f\"Regressing to Phase {self.current_phase}\")\n",
    "            self.save_state()\n",
    "        else:\n",
    "            print(\"Already in the first curriculum phase.\")\n",
    "\n",
    "    def save_state(self):\n",
    "        state = {'current_phase': self.current_phase}\n",
    "        with open(self.state_file, 'w') as f:\n",
    "            json.dump(state, f)\n",
    "        print(f\"Curriculum state saved to {self.state_file}\")\n",
    "\n",
    "    def load_state(self):\n",
    "        try:\n",
    "            with open(self.state_file, 'r') as f:\n",
    "                state = json.load(f)\n",
    "                self.current_phase = state.get('current_phase', 1)\n",
    "                print(f\"Curriculum state loaded: Phase {self.current_phase}\")\n",
    "        except FileNotFoundError:\n",
    "            print(\"No existing curriculum state found. Starting from Phase 1.\")\n",
    "\n",
    "# =======================\n",
    "# Optimized Hangman Env\n",
    "# =======================\n",
    "\n",
    "class HangmanEnv(gym.Env):\n",
    "    \"\"\"\n",
    "    Optimized Hangman Environment for Reinforcement Learning with Curriculum Learning.\n",
    "    \"\"\"\n",
    "    metadata = {'render.modes': ['human']}\n",
    "\n",
    "    def __init__(self, word_list, curriculum, max_word_length=20):\n",
    "        super(HangmanEnv, self).__init__()\n",
    "\n",
    "        self.word_list = word_list\n",
    "        self.max_word_length = max_word_length\n",
    "\n",
    "        # Action space: 26 letters of the alphabet\n",
    "        self.action_space = spaces.Discrete(26)\n",
    "\n",
    "        # Observation space:\n",
    "        # - Revealed word: max_word_length (integer encoding)\n",
    "        # - Guessed letters: 26 (binary vector)\n",
    "        # - Remaining attempts: 1\n",
    "        # - Word length: 1\n",
    "        # - Letter frequencies: 26\n",
    "        # - Last action: 26 (one-hot vector)\n",
    "        # - Unique letters remaining: 1\n",
    "        # - Letter probabilities: 26\n",
    "        obs_size = (\n",
    "            self.max_word_length +  # Revealed word\n",
    "            26 +                     # Guessed letters\n",
    "            1 +                      # Remaining attempts\n",
    "            1 +                      # Word length\n",
    "            26 +                     # Letter frequencies\n",
    "            26 +                     # Last action\n",
    "            1 +                      # Unique letters remaining\n",
    "            26                       # Letter probabilities\n",
    "        )\n",
    "\n",
    "        self.observation_space = spaces.Box(\n",
    "            low=-1.0,   # -1 represents unknown letters\n",
    "            high=25.0,  # 'z' is represented by 25\n",
    "            shape=(obs_size,),\n",
    "            dtype=np.float32\n",
    "        )\n",
    "\n",
    "        # Initialize state variables\n",
    "        self.current_word = None\n",
    "        self.guessed_letters = None\n",
    "        self.remaining_attempts = None\n",
    "        self.word_length = None\n",
    "        self.last_action = None\n",
    "        self.unique_letters_remaining = None\n",
    "\n",
    "        # Precompute letter frequencies\n",
    "        self.letter_frequencies = self._compute_letter_frequencies()\n",
    "\n",
    "        # Curriculum instance\n",
    "        self.curriculum = curriculum\n",
    "\n",
    "        # Initialize max_attempts\n",
    "        self.max_attempts = None  # Will be set in reset()\n",
    "\n",
    "        # Initialize incorrect guesses\n",
    "        self.incorrect_guesses = set()\n",
    "\n",
    "    def reset(self, word=None, *, seed=None, options=None):\n",
    "        super().reset(seed=seed)\n",
    "\n",
    "        # Get current curriculum configuration\n",
    "        config = self.curriculum.get_current_config()\n",
    "        min_len, max_len = config['word_length_range']\n",
    "        current_max_attempts = config['max_attempts']\n",
    "\n",
    "        # Assign max_attempts based on current phase\n",
    "        self.max_attempts = current_max_attempts\n",
    "\n",
    "        # Reset incorrect guesses\n",
    "        self.incorrect_guesses = set()\n",
    "\n",
    "        # Select a word\n",
    "        if word is not None:\n",
    "            self.current_word = word.lower()\n",
    "            self.word_length = len(self.current_word)\n",
    "            if self.word_length > self.max_word_length:\n",
    "                raise ValueError(f\"Word length ({self.word_length}) exceeds max_word_length ({self.max_word_length}).\")\n",
    "            if not re.match('^[a-z]+$', self.current_word):\n",
    "                raise ValueError(\"The word must contain only lowercase letters a-z.\")\n",
    "        else:\n",
    "            # Efficiently select a word within the current word length range\n",
    "            eligible_words = [w for w in self.word_list if min_len <= len(w) <= max_len]\n",
    "            if not eligible_words:\n",
    "                raise ValueError(\"No words found within the current word length range.\")\n",
    "            self.current_word = random.choice(eligible_words).lower()\n",
    "            self.word_length = len(self.current_word)\n",
    "\n",
    "        # Initialize revealed word: -1 for unknown, 0-25 for revealed letters\n",
    "        self.revealed_word = np.full((self.max_word_length, 27), -1, dtype=np.int32)\n",
    "        for i in range(self.max_word_length):\n",
    "            if i < self.word_length:\n",
    "                self.revealed_word[i, 26] = 1  # Unknown token\n",
    "            else:\n",
    "                self.revealed_word[i, :] = -1  # Padding\n",
    "\n",
    "        # Initialize guessed letters: 0 for not guessed, 1 for guessed\n",
    "        self.guessed_letters = np.zeros(26, dtype=np.float32)\n",
    "\n",
    "        # Reset remaining attempts based on curriculum\n",
    "        self.remaining_attempts = current_max_attempts\n",
    "\n",
    "        # Reset last action\n",
    "        self.last_action = -1  # No action taken yet\n",
    "\n",
    "        # Calculate unique letters remaining\n",
    "        self.unique_letters_in_word = set(self.current_word)\n",
    "        self.unique_letters_remaining = len(self.unique_letters_in_word)\n",
    "\n",
    "        # Initialize letter probabilities\n",
    "        self.letter_probabilities = self._compute_letter_probabilities()\n",
    "\n",
    "        # Update state\n",
    "        self._update_state()\n",
    "\n",
    "        return self._get_observation(), {}\n",
    "\n",
    "    def _compute_letter_frequencies(self):\n",
    "        \"\"\"\n",
    "        Compute the frequency of each letter in the training word list.\n",
    "        \"\"\"\n",
    "        all_letters = ''.join(self.word_list)\n",
    "        letter_counts = Counter(all_letters)\n",
    "        total_letters = sum(letter_counts.values())\n",
    "        frequencies = np.zeros(26, dtype=np.float32)\n",
    "        for i in range(26):\n",
    "            letter = chr(i + ord('a'))\n",
    "            frequencies[i] = letter_counts.get(letter, 0) / total_letters if total_letters > 0 else 0.0\n",
    "        return frequencies\n",
    "\n",
    "    def _compute_letter_probabilities(self):\n",
    "        \"\"\"\n",
    "        Compute the probability of each letter being in the word given the current state.\n",
    "        Optimized using precompiled regex and vectorized operations.\n",
    "        \"\"\"\n",
    "        # Get current word length range from curriculum\n",
    "        config = self.curriculum.get_current_config()\n",
    "        min_len, max_len = config['word_length_range']\n",
    "\n",
    "        # Create a regex pattern based on the revealed word\n",
    "        pattern = ''.join(\n",
    "            [f\"[{chr(int(self.revealed_word[i, :26].argmax() + ord('a')))}]\" if self.revealed_word[i, 26] == 0 else '.' \n",
    "             for i in range(self.word_length)]\n",
    "        )\n",
    "        regex = re.compile(f\"^{pattern}$\")\n",
    "\n",
    "        # Filter possible words that match the pattern\n",
    "        possible_words = [word for word in self.word_list if regex.match(word)]\n",
    "\n",
    "        # Exclude words containing any incorrect guessed letters\n",
    "        if self.incorrect_guesses:\n",
    "            possible_words = [word for word in possible_words if not any(letter in word for letter in self.incorrect_guesses)]\n",
    "\n",
    "        if not possible_words:\n",
    "            # If no words match, assign uniform probabilities\n",
    "            return np.ones(26, dtype=np.float32) / 26\n",
    "\n",
    "        # Count the frequency of each letter in the possible words\n",
    "        letter_counts = Counter(''.join(possible_words))\n",
    "        total_letters = sum(letter_counts.values())\n",
    "        probabilities = np.zeros(26, dtype=np.float32)\n",
    "        for i in range(26):\n",
    "            letter = chr(i + ord('a'))\n",
    "            probabilities[i] = letter_counts.get(letter, 0) / total_letters if total_letters > 0 else 0.0\n",
    "        return probabilities\n",
    "\n",
    "    def _word_matches(self, word):\n",
    "        \"\"\"\n",
    "        Check if the word matches the current revealed word and hasn't been eliminated.\n",
    "        \"\"\"\n",
    "        if len(word) != self.word_length:\n",
    "            return False\n",
    "        for idx, char in enumerate(word):\n",
    "            if self.revealed_word[idx, 26] == 0:\n",
    "                # Letter is revealed; must match\n",
    "                revealed_letter_index = np.argmax(self.revealed_word[idx, :26])\n",
    "                if ord(char) - ord('a') != revealed_letter_index:\n",
    "                    return False\n",
    "            else:\n",
    "                # Letter is hidden; must not have been guessed if it's not in the word\n",
    "                if self.guessed_letters[ord(char) - ord('a')] == 1.0 and char not in self.current_word:\n",
    "                    return False\n",
    "        return True\n",
    "\n",
    "    def step(self, action):\n",
    "        done = False\n",
    "        reward = 0\n",
    "\n",
    "        # Validate action\n",
    "        if not self.action_space.contains(action):\n",
    "            raise ValueError(f\"Invalid action: {action}\")\n",
    "\n",
    "        # Map action to corresponding letter\n",
    "        letter = chr(action + ord('a'))\n",
    "\n",
    "        # Update last action\n",
    "        self.last_action = action\n",
    "\n",
    "        # Compute letter probabilities based on current state\n",
    "        self.letter_probabilities = self._compute_letter_probabilities()\n",
    "\n",
    "        # Get the probability of the current action\n",
    "        letter_prob = self.letter_probabilities[action]\n",
    "\n",
    "        # Check if the letter has already been guessed\n",
    "        if self.guessed_letters[action] == 1.0:\n",
    "            # Invalid action selected\n",
    "            reward -= 10  # Significant penalty for invalid action\n",
    "            self.remaining_attempts -= 1  # Decrease remaining attempts\n",
    "\n",
    "            # Check if the agent has run out of attempts\n",
    "            if self.remaining_attempts <= 0:\n",
    "                reward -= 20  # Penalty for losing the game\n",
    "                done = True\n",
    "        else:\n",
    "            # Update guessed letters\n",
    "            self.guessed_letters[action] = 1.0\n",
    "\n",
    "            # Check if the guessed letter is in the word\n",
    "            if letter in self.current_word:\n",
    "                # Correct guess\n",
    "                indices = [i for i, l in enumerate(self.current_word) if l == letter]\n",
    "                new_letters_revealed = 0\n",
    "                for idx in indices:\n",
    "                    if self.revealed_word[idx, 26] == 1:\n",
    "                        new_letters_revealed += 1\n",
    "                        # Reveal the letter\n",
    "                        self.revealed_word[idx, :] = -1  # Reset previous state\n",
    "                        self.revealed_word[idx, action] = 0  # Encode revealed letter\n",
    "                        self.revealed_word[idx, 26] = 0  # Reset unknown token\n",
    "                # Reward for each new letter revealed\n",
    "                reward += 5 * new_letters_revealed\n",
    "\n",
    "                # Additional reward based on letter probability\n",
    "                reward += 10 * letter_prob  # Heuristic-based reward\n",
    "\n",
    "                # Update unique letters remaining\n",
    "                self.unique_letters_in_word.discard(letter)\n",
    "                self.unique_letters_remaining = len(self.unique_letters_in_word)\n",
    "\n",
    "                # Check if the word is completely revealed\n",
    "                if self.unique_letters_remaining == 0:\n",
    "                    # Efficiency bonus: reward proportional to remaining attempts\n",
    "                    efficiency_bonus = 10 * (self.remaining_attempts / self.max_attempts)\n",
    "                    reward += 50 + efficiency_bonus  # Increased reward for winning\n",
    "                    done = True\n",
    "            else:\n",
    "                # Incorrect guess\n",
    "                self.remaining_attempts -= 1\n",
    "                reward -= 2  # Increased penalty\n",
    "\n",
    "                # Additional penalty based on letter probability\n",
    "                reward -= 5 * (1 - letter_prob)  # Heuristic-based penalty\n",
    "\n",
    "                # Track incorrect guess\n",
    "                self.incorrect_guesses.add(letter)\n",
    "\n",
    "                # Check if the agent has run out of attempts\n",
    "                if self.remaining_attempts <= 0:\n",
    "                    reward -= 20  # Increased penalty for losing\n",
    "                    done = True\n",
    "\n",
    "        # Update state\n",
    "        self._update_state()\n",
    "\n",
    "        # Prepare observation\n",
    "        observation = self._get_observation()\n",
    "\n",
    "        # In gymnasium, return (observation, reward, terminated, truncated, info)\n",
    "        terminated = done\n",
    "        truncated = False  # Assuming no truncation\n",
    "        info = {}\n",
    "\n",
    "        return observation, reward, terminated, truncated, info\n",
    "\n",
    "    def _update_state(self):\n",
    "        \"\"\"\n",
    "        Update normalized state variables and last action vector.\n",
    "        \"\"\"\n",
    "        # Normalize remaining attempts\n",
    "        self.normalized_attempts = self.remaining_attempts / self.max_attempts\n",
    "\n",
    "        # Normalize word length\n",
    "        self.normalized_word_length = self.word_length / self.max_word_length\n",
    "\n",
    "        # Normalize unique letters remaining\n",
    "        self.normalized_unique_letters_remaining = self.unique_letters_remaining / 26\n",
    "\n",
    "        # One-hot encode the last action\n",
    "        self.last_action_vec = np.zeros(26, dtype=np.float32)\n",
    "        if self.last_action >= 0:\n",
    "            self.last_action_vec[self.last_action] = 1.0\n",
    "\n",
    "    def _get_observation(self):\n",
    "        \"\"\"\n",
    "        Construct the observation vector.\n",
    "        \"\"\"\n",
    "        # Revealed word as integer encoding (-1 for unknown, 0-25 for revealed letters)\n",
    "        revealed_word_int = np.full(self.max_word_length, -1.0, dtype=np.float32)\n",
    "        for i in range(self.word_length):\n",
    "            if self.revealed_word[i, 26] == 0:\n",
    "                # Letter is revealed\n",
    "                letter_index = np.argmax(self.revealed_word[i, :26])\n",
    "                revealed_word_int[i] = float(letter_index)\n",
    "            else:\n",
    "                # Letter is hidden\n",
    "                revealed_word_int[i] = -1.0\n",
    "\n",
    "        # Guessed letters as binary vector (0.0 or 1.0)\n",
    "        guessed_letters_binary = self.guessed_letters.astype(np.float32)\n",
    "\n",
    "        # Remaining attempts (normalized between 0 and 1)\n",
    "        remaining_attempts = np.array([self.normalized_attempts], dtype=np.float32)\n",
    "\n",
    "        # Word length (normalized between 0 and 1)\n",
    "        word_length = np.array([self.normalized_word_length], dtype=np.float32)\n",
    "\n",
    "        # Letter frequencies (float32)\n",
    "        letter_frequencies = self.letter_frequencies.astype(np.float32)\n",
    "\n",
    "        # Last action vector (one-hot encoded)\n",
    "        last_action_vector = self.last_action_vec.astype(np.float32)\n",
    "\n",
    "        # Unique letters remaining (normalized between 0 and 1)\n",
    "        unique_letters_remaining = np.array([self.normalized_unique_letters_remaining], dtype=np.float32)\n",
    "\n",
    "        # Letter probabilities (float32)\n",
    "        letter_probabilities = self.letter_probabilities.astype(np.float32)\n",
    "\n",
    "        # Concatenate all components into a single observation vector\n",
    "        observation = np.concatenate([\n",
    "            revealed_word_int,             # Revealed word\n",
    "            guessed_letters_binary,       # Guessed letters\n",
    "            remaining_attempts,           # Remaining attempts\n",
    "            word_length,                  # Word length\n",
    "            letter_frequencies,           # Letter frequencies\n",
    "            last_action_vector,           # Last action\n",
    "            unique_letters_remaining,     # Unique letters remaining\n",
    "            letter_probabilities          # Letter probabilities\n",
    "        ])\n",
    "\n",
    "        return observation\n",
    "\n",
    "    def render(self, mode='human'):\n",
    "        \"\"\"\n",
    "        Render the current state of the game.\n",
    "        \"\"\"\n",
    "        # Displayed word with underscores for unknown letters\n",
    "        displayed_word = ''\n",
    "        for i in range(self.word_length):\n",
    "            if self.revealed_word[i, 26] == 1:\n",
    "                displayed_word += '_'\n",
    "            else:\n",
    "                letter_index = np.argmax(self.revealed_word[i, :26])\n",
    "                displayed_word += chr(letter_index + ord('a'))\n",
    "        print(f\"Word: {displayed_word}\")\n",
    "\n",
    "        # List of guessed letters\n",
    "        guessed_letters_list = [chr(i + ord('a')) for i in range(26) if self.guessed_letters[i] == 1.0]\n",
    "        print(f\"Guessed Letters: {guessed_letters_list}\")\n",
    "\n",
    "        # Remaining attempts\n",
    "        print(f\"Remaining Attempts: {self.remaining_attempts}\")\n",
    "\n",
    "    def close(self):\n",
    "        pass\n"
   ]
  },
  {
   "cell_type": "markdown",
   "id": "c9053e04-61a0-4811-9156-f8b3b473332d",
   "metadata": {},
   "source": [
    "# 1. Read word list and filter"
   ]
  },
  {
   "cell_type": "code",
   "execution_count": 2,
   "id": "1c767b38-ddb6-44bd-82ed-16a2951a4b62",
   "metadata": {},
   "outputs": [
    {
     "name": "stdout",
     "output_type": "stream",
     "text": [
      "Original word count: 227300\n",
      "Cleaned word count: 226836\n"
     ]
    },
    {
     "name": "stderr",
     "output_type": "stream",
     "text": [
      "[nltk_data] Downloading package words to\n",
      "[nltk_data]     /home/sagarnildass/nltk_data...\n",
      "[nltk_data]   Package words is already up-to-date!\n"
     ]
    }
   ],
   "source": [
    "import re\n",
    "from nltk.corpus import words\n",
    "import nltk\n",
    "\n",
    "# Download the English words corpus\n",
    "nltk.download(\"words\")\n",
    "english_words = set(words.words())\n",
    "\n",
    "# Load your word list from the file\n",
    "def load_word_list(file_path):\n",
    "    with open(file_path, 'r') as file:\n",
    "        words = file.read().splitlines()\n",
    "    return [word.strip().lower() for word in words if word.strip()]  # Remove empty lines and whitespace\n",
    "\n",
    "# Clean the word list\n",
    "def clean_word_list(word_list, min_length=3, max_length=20):\n",
    "    cleaned_words = []\n",
    "    for word in word_list:\n",
    "        # Check if the word meets all criteria\n",
    "        if (\n",
    "            min_length <= len(word) <= max_length  # Length criteria\n",
    "            and word.isalpha()                   # Contains only alphabetic characters\n",
    "            # and word in english_words            # Valid English word\n",
    "            and len(set(word)) > 1               # Avoid repeated patterns like \"aaa\"\n",
    "        ):\n",
    "            cleaned_words.append(word)\n",
    "    return cleaned_words\n",
    "\n",
    "# File path to the word list\n",
    "file_path = 'words_250000_train.txt'\n",
    "\n",
    "# Load and clean the word list\n",
    "raw_word_list = load_word_list(file_path)\n",
    "cleaned_word_list = clean_word_list(raw_word_list)\n",
    "\n",
    "# Save the cleaned word list to a new file\n",
    "output_file_path = 'cleaned_word_list.txt'\n",
    "with open(output_file_path, 'w') as file:\n",
    "    file.write('\\n'.join(cleaned_word_list))\n",
    "\n",
    "print(f\"Original word count: {len(raw_word_list)}\")\n",
    "print(f\"Cleaned word count: {len(cleaned_word_list)}\")"
   ]
  },
  {
   "cell_type": "code",
   "execution_count": 3,
   "id": "713aa604-7e2c-4bd2-9abc-acff83994d49",
   "metadata": {},
   "outputs": [],
   "source": [
    "import numpy as np\n",
    "import random\n",
    "import torch\n",
    "import torch.nn as nn\n",
    "import torch.optim as optim\n",
    "from torch.distributions import Categorical\n",
    "import re\n",
    "\n",
    "# Load the word list from the text file\n",
    "def load_word_list(file_path):\n",
    "    with open(file_path, 'r') as file:\n",
    "        words = file.read().splitlines()\n",
    "    # Filter out empty lines and strip whitespace\n",
    "    words = [word.strip() for word in words if word.strip()]\n",
    "    return words\n",
    "\n",
    "# Specify the path to your text file\n",
    "file_path = 'cleaned_word_list.txt'\n",
    "word_list = load_word_list(file_path)\n",
    "\n",
    "# Clean the word list to include only lowercase letters\n",
    "cleaned_word_list = [word.lower() for word in word_list if re.match('^[a-z]+$', word.lower())]\n",
    "\n",
    "# Use the cleaned word list\n",
    "word_list = cleaned_word_list\n",
    "\n",
    "# Set the maximum word length\n",
    "max_word_length = 20  # Adjust as needed\n",
    "\n",
    "# Filter out words longer than `max_word_length`\n",
    "filtered_word_list = [word for word in word_list if len(word) <= max_word_length]\n",
    "\n",
    "# Check if the filtered list is not empty\n",
    "if not filtered_word_list:\n",
    "    raise ValueError(\"No words found with length less than or equal to max_word_length.\")\n",
    "\n",
    "# Use the filtered word list\n",
    "word_list = filtered_word_list"
   ]
  },
  {
   "cell_type": "code",
   "execution_count": 4,
   "id": "786d0751-b133-45ba-8aa5-d3bb000ca9f9",
   "metadata": {},
   "outputs": [],
   "source": [
    "# from sklearn.model_selection import train_test_split\n",
    "\n",
    "# # Split the word list into 80% training and 20% evaluation\n",
    "# train_words, eval_words = train_test_split(word_list, test_size=0.2, random_state=42)"
   ]
  },
  {
   "cell_type": "code",
   "execution_count": 5,
   "id": "68909ace-1deb-489b-a7f1-47ad1f4fde25",
   "metadata": {},
   "outputs": [],
   "source": [
    "# !pip install --upgrade stable-baselines3[extra]\n",
    "# !pip install sb3-contrib"
   ]
  },
  {
   "cell_type": "markdown",
   "id": "dd0cfa54-10ea-4af6-baea-25693ac17586",
   "metadata": {},
   "source": [
    "# 2. Initialize the environment and Network Architecture parameters"
   ]
  },
  {
   "cell_type": "code",
   "execution_count": 7,
   "id": "ff4fccc7-bbd6-4461-95be-f0d8f18a53f8",
   "metadata": {},
   "outputs": [
    {
     "name": "stdout",
     "output_type": "stream",
     "text": [
      "Curriculum state loaded: Phase 1\n"
     ]
    }
   ],
   "source": [
    "import torch\n",
    "import torch.nn as nn\n",
    "from sb3_contrib import RecurrentPPO\n",
    "# Removed unnecessary import of RecurrentActorCriticPolicy\n",
    "from stable_baselines3.common.vec_env import DummyVecEnv\n",
    "from stable_baselines3.common.env_checker import check_env\n",
    "\n",
    "\n",
    "# Training environment\n",
    "# Initialize the Curriculum instance\n",
    "curriculum = Curriculum()\n",
    "\n",
    "# Initialize the training environment with curriculum\n",
    "env = HangmanEnv(word_list=word_list, curriculum=curriculum, max_word_length=max_word_length)\n",
    "\n",
    "# Evaluation environment\n",
    "# eval_env = HangmanEnv(word_list=eval_words, max_attempts=6, max_word_length=max_word_length)\n",
    "\n",
    "# Check the environment for compatibility\n",
    "check_env(env)\n",
    "# check_env(eval_env)\n"
   ]
  },
  {
   "cell_type": "code",
   "execution_count": 11,
   "id": "854c1e4c-a9cd-4823-9fa6-3dd74e7acecb",
   "metadata": {},
   "outputs": [],
   "source": [
    "# policy_kwargs = dict(\n",
    "#     activation_fn=nn.ReLU,\n",
    "#     net_arch=dict(pi=[128], vf=[128]),  # Corrected net_arch\n",
    "#     lstm_hidden_size=128,\n",
    "#     n_lstm_layers=1,\n",
    "#     shared_lstm=True,\n",
    "#     enable_critic_lstm=False,  # Disable separate LSTM for the critic\n",
    "# )\n",
    "\n",
    "policy_kwargs = dict(\n",
    "    activation_fn=nn.ReLU,\n",
    "    net_arch=dict(pi=[256, 128], vf=[256, 128]),  # Increased network layers and units\n",
    "    lstm_hidden_size=128,\n",
    "    n_lstm_layers=1,\n",
    "    shared_lstm=True,\n",
    "    enable_critic_lstm=False,\n",
    ")\n",
    "\n"
   ]
  },
  {
   "cell_type": "markdown",
   "id": "1d1ef482-7932-458b-813b-742cb4b3518d",
   "metadata": {},
   "source": [
    "# 3. Define Callbacks"
   ]
  },
  {
   "cell_type": "code",
   "execution_count": 4,
   "id": "f3fe6600-7606-4266-82c9-7401b69ad837",
   "metadata": {},
   "outputs": [],
   "source": [
    "from stable_baselines3.common.callbacks import BaseCallback\n",
    "\n",
    "class CurriculumCallback(BaseCallback):\n",
    "    \"\"\"\n",
    "    A custom callback to manage curriculum learning by advancing phases based on training steps.\n",
    "    \"\"\"\n",
    "    def __init__(self, curriculum, phase_timesteps, verbose=1):\n",
    "        \"\"\"\n",
    "        :param curriculum: Instance of Curriculum class.\n",
    "        :param phase_timesteps: List of timesteps at which to advance the curriculum phases.\n",
    "        :param verbose: Verbosity level.\n",
    "        \"\"\"\n",
    "        super(CurriculumCallback, self).__init__(verbose)\n",
    "        self.curriculum = curriculum\n",
    "        self.phase_timesteps = phase_timesteps\n",
    "        self.current_phase_index = 0\n",
    "\n",
    "    def _on_step(self) -> bool:\n",
    "        \"\"\"\n",
    "        Called at every step. Checks if it's time to advance the curriculum.\n",
    "        \"\"\"\n",
    "        if self.current_phase_index >= len(self.phase_timesteps):\n",
    "            return True  # No more phases to advance\n",
    "\n",
    "        if self.num_timesteps >= self.phase_timesteps[self.current_phase_index]:\n",
    "            self.curriculum.advance_phase()\n",
    "            self.current_phase_index += 1\n",
    "\n",
    "        return True\n",
    "\n",
    "class AverageRewardCallback(BaseCallback):\n",
    "    \"\"\"\n",
    "    A custom callback that logs average reward over a specified number of steps.\n",
    "    \"\"\"\n",
    "    def __init__(self, check_freq: int, verbose=0):\n",
    "        super(AverageRewardCallback, self).__init__(verbose)\n",
    "        self.check_freq = check_freq\n",
    "        self.rewards = []\n",
    "        self.total_steps = 0\n",
    "\n",
    "    def _on_step(self) -> bool:\n",
    "        # Safely collect rewards\n",
    "        rewards = self.locals.get('rewards', [])\n",
    "        if len(rewards) > 0:\n",
    "            reward = rewards[0]\n",
    "            self.rewards.append(reward)\n",
    "            self.total_steps += 1\n",
    "    \n",
    "            # Check if it's time to compute the average reward\n",
    "            if self.total_steps % self.check_freq == 0:\n",
    "                avg_reward = np.mean(self.rewards[-self.check_freq:])\n",
    "                print(f\"Average reward over last {self.check_freq} steps: {avg_reward:.2f}\")\n",
    "        return True\n"
   ]
  },
  {
   "cell_type": "code",
   "execution_count": 8,
   "id": "c4fe6ea2-bbf1-4759-90b9-e497807f057a",
   "metadata": {},
   "outputs": [],
   "source": [
    "\n",
    "from stable_baselines3.common.callbacks import CallbackList\n",
    "from stable_baselines3.common.callbacks import CheckpointCallback\n",
    "\n",
    "# Define when to advance phases (e.g., after 100k, 300k, and 500k timesteps)\n",
    "phase_timesteps = [800_000, 1_600_000, 2_400_000, 3_200_000, 4_000_000]\n",
    "\n",
    "# Initialize the CurriculumCallback\n",
    "curriculum_callback = CurriculumCallback(\n",
    "    curriculum=curriculum,\n",
    "    phase_timesteps=phase_timesteps,\n",
    "    verbose=1\n",
    ")\n",
    "\n",
    "\n",
    "# Initialize the AverageRewardCallback\n",
    "average_reward_callback = AverageRewardCallback(check_freq=5000, verbose=1)\n",
    "\n",
    "# Define the CheckpointCallback to save models periodically\n",
    "checkpoint_callback = CheckpointCallback(\n",
    "    save_freq=50000,               # Save every 50,000 steps\n",
    "    save_path='./PPO_LSTM_MORE_ROUNDS/',         # Directory to save models\n",
    "    name_prefix='hangman_model_PPO_LSTM',   # Prefix for saved model files\n",
    "    save_replay_buffer=False,      # Not needed for PPO\n",
    "    save_vecnormalize=False        # Not needed if VecNormalize not used\n",
    ")\n",
    "\n",
    "# Combine all callbacks\n",
    "callback = CallbackList([curriculum_callback, average_reward_callback, checkpoint_callback])\n"
   ]
  },
  {
   "cell_type": "markdown",
   "id": "98d58ce7-6554-4a18-b1a9-f4a74389293b",
   "metadata": {},
   "source": [
    "# 4. Wrapper Class"
   ]
  },
  {
   "cell_type": "code",
   "execution_count": 9,
   "id": "a9605633-2bf2-431f-8406-86e1e6ff3b65",
   "metadata": {},
   "outputs": [],
   "source": [
    "from stable_baselines3.common.vec_env import VecMonitor\n",
    "from stable_baselines3.common.vec_env import SubprocVecEnv\n",
    "\n",
    "# num_envs = 6  # Number of parallel environments\n",
    "# vec_train_env = SubprocVecEnv([lambda: HangmanEnv(word_list, max_attempts=6, max_word_length=15) for _ in range(num_envs)])\n",
    "# vec_train_env = VecMonitor(vec_train_env)\n",
    "\n",
    "# Wrap the training environment\n",
    "vec_train_env = DummyVecEnv([lambda: env])\n",
    "vec_train_env = VecMonitor(vec_train_env)\n",
    "\n",
    "# Wrap the evaluation environment\n",
    "# vec_eval_env = DummyVecEnv([lambda: eval_env])"
   ]
  },
  {
   "cell_type": "markdown",
   "id": "98dc9f1f-08ae-43e1-b4ed-41e69f12e6a4",
   "metadata": {},
   "source": [
    "# 5. Training Hyperparameters"
   ]
  },
  {
   "cell_type": "code",
   "execution_count": 12,
   "id": "7c83389b-987c-400e-8b13-a4caf10aa9aa",
   "metadata": {},
   "outputs": [
    {
     "name": "stdout",
     "output_type": "stream",
     "text": [
      "Using device: cuda\n"
     ]
    }
   ],
   "source": [
    "# Check if GPU is available\n",
    "device = torch.device('cuda' if torch.cuda.is_available() else 'cpu')\n",
    "print(f\"Using device: {device}\")\n",
    "\n",
    "# Initialize the RecurrentPPO model\n",
    "model = RecurrentPPO(\n",
    "    \"MlpLstmPolicy\",\n",
    "    vec_train_env,\n",
    "    policy_kwargs=policy_kwargs,\n",
    "    learning_rate=1e-4,\n",
    "    n_steps=256,\n",
    "    batch_size=128,\n",
    "    n_epochs=4,\n",
    "    gamma=0.99,\n",
    "    gae_lambda=0.95,\n",
    "    clip_range=0.2,\n",
    "    ent_coef=0.01,\n",
    "    vf_coef=0.5,\n",
    "    max_grad_norm=0.5,\n",
    "    verbose=0,\n",
    "    device=device,\n",
    "    tensorboard_log=\"./PPO_Hangman_tensorboard/\"\n",
    ")"
   ]
  },
  {
   "cell_type": "markdown",
   "id": "8d9753a7-5ef7-4062-be78-a96610305a10",
   "metadata": {},
   "source": [
    "# 6. Start Training"
   ]
  },
  {
   "cell_type": "code",
   "execution_count": 12,
   "id": "97bae92c-d0ef-4d61-8a62-eb3152fa0142",
   "metadata": {
    "scrolled": true
   },
   "outputs": [
    {
     "data": {
      "application/vnd.jupyter.widget-view+json": {
       "model_id": "216a43f5009446a2bdb1a15d9c3dc4af",
       "version_major": 2,
       "version_minor": 0
      },
      "text/plain": [
       "Output()"
      ]
     },
     "metadata": {},
     "output_type": "display_data"
    },
    {
     "data": {
      "text/html": [
       "<pre style=\"white-space:pre;overflow-x:auto;line-height:normal;font-family:Menlo,'DejaVu Sans Mono',consolas,'Courier New',monospace\">Average reward over last 5000 steps: -7.05\n",
       "</pre>\n"
      ],
      "text/plain": [
       "Average reward over last 5000 steps: -7.05\n"
      ]
     },
     "metadata": {},
     "output_type": "display_data"
    },
    {
     "data": {
      "text/html": [
       "<pre style=\"white-space:pre;overflow-x:auto;line-height:normal;font-family:Menlo,'DejaVu Sans Mono',consolas,'Courier New',monospace\">Average reward over last 5000 steps: -6.98\n",
       "</pre>\n"
      ],
      "text/plain": [
       "Average reward over last 5000 steps: -6.98\n"
      ]
     },
     "metadata": {},
     "output_type": "display_data"
    },
    {
     "data": {
      "text/html": [
       "<pre style=\"white-space:pre;overflow-x:auto;line-height:normal;font-family:Menlo,'DejaVu Sans Mono',consolas,'Courier New',monospace\">Average reward over last 5000 steps: -7.04\n",
       "</pre>\n"
      ],
      "text/plain": [
       "Average reward over last 5000 steps: -7.04\n"
      ]
     },
     "metadata": {},
     "output_type": "display_data"
    },
    {
     "data": {
      "text/html": [
       "<pre style=\"white-space:pre;overflow-x:auto;line-height:normal;font-family:Menlo,'DejaVu Sans Mono',consolas,'Courier New',monospace\">Average reward over last 5000 steps: -6.89\n",
       "</pre>\n"
      ],
      "text/plain": [
       "Average reward over last 5000 steps: -6.89\n"
      ]
     },
     "metadata": {},
     "output_type": "display_data"
    },
    {
     "data": {
      "text/html": [
       "<pre style=\"white-space:pre;overflow-x:auto;line-height:normal;font-family:Menlo,'DejaVu Sans Mono',consolas,'Courier New',monospace\">Average reward over last 5000 steps: -7.00\n",
       "</pre>\n"
      ],
      "text/plain": [
       "Average reward over last 5000 steps: -7.00\n"
      ]
     },
     "metadata": {},
     "output_type": "display_data"
    },
    {
     "data": {
      "text/html": [
       "<pre style=\"white-space:pre;overflow-x:auto;line-height:normal;font-family:Menlo,'DejaVu Sans Mono',consolas,'Courier New',monospace\">Average reward over last 5000 steps: -6.95\n",
       "</pre>\n"
      ],
      "text/plain": [
       "Average reward over last 5000 steps: -6.95\n"
      ]
     },
     "metadata": {},
     "output_type": "display_data"
    },
    {
     "data": {
      "text/html": [
       "<pre style=\"white-space:pre;overflow-x:auto;line-height:normal;font-family:Menlo,'DejaVu Sans Mono',consolas,'Courier New',monospace\">Average reward over last 5000 steps: -7.08\n",
       "</pre>\n"
      ],
      "text/plain": [
       "Average reward over last 5000 steps: -7.08\n"
      ]
     },
     "metadata": {},
     "output_type": "display_data"
    },
    {
     "data": {
      "text/html": [
       "<pre style=\"white-space:pre;overflow-x:auto;line-height:normal;font-family:Menlo,'DejaVu Sans Mono',consolas,'Courier New',monospace\">Average reward over last 5000 steps: -6.81\n",
       "</pre>\n"
      ],
      "text/plain": [
       "Average reward over last 5000 steps: -6.81\n"
      ]
     },
     "metadata": {},
     "output_type": "display_data"
    },
    {
     "data": {
      "text/html": [
       "<pre style=\"white-space:pre;overflow-x:auto;line-height:normal;font-family:Menlo,'DejaVu Sans Mono',consolas,'Courier New',monospace\">Average reward over last 5000 steps: -6.97\n",
       "</pre>\n"
      ],
      "text/plain": [
       "Average reward over last 5000 steps: -6.97\n"
      ]
     },
     "metadata": {},
     "output_type": "display_data"
    },
    {
     "data": {
      "text/html": [
       "<pre style=\"white-space:pre;overflow-x:auto;line-height:normal;font-family:Menlo,'DejaVu Sans Mono',consolas,'Courier New',monospace\">Average reward over last 5000 steps: -7.01\n",
       "</pre>\n"
      ],
      "text/plain": [
       "Average reward over last 5000 steps: -7.01\n"
      ]
     },
     "metadata": {},
     "output_type": "display_data"
    },
    {
     "data": {
      "text/html": [
       "<pre style=\"white-space:pre;overflow-x:auto;line-height:normal;font-family:Menlo,'DejaVu Sans Mono',consolas,'Courier New',monospace\">Average reward over last 5000 steps: -6.97\n",
       "</pre>\n"
      ],
      "text/plain": [
       "Average reward over last 5000 steps: -6.97\n"
      ]
     },
     "metadata": {},
     "output_type": "display_data"
    },
    {
     "data": {
      "text/html": [
       "<pre style=\"white-space:pre;overflow-x:auto;line-height:normal;font-family:Menlo,'DejaVu Sans Mono',consolas,'Courier New',monospace\">Average reward over last 5000 steps: -6.73\n",
       "</pre>\n"
      ],
      "text/plain": [
       "Average reward over last 5000 steps: -6.73\n"
      ]
     },
     "metadata": {},
     "output_type": "display_data"
    },
    {
     "data": {
      "text/html": [
       "<pre style=\"white-space:pre;overflow-x:auto;line-height:normal;font-family:Menlo,'DejaVu Sans Mono',consolas,'Courier New',monospace\">Average reward over last 5000 steps: -6.98\n",
       "</pre>\n"
      ],
      "text/plain": [
       "Average reward over last 5000 steps: -6.98\n"
      ]
     },
     "metadata": {},
     "output_type": "display_data"
    },
    {
     "data": {
      "text/html": [
       "<pre style=\"white-space:pre;overflow-x:auto;line-height:normal;font-family:Menlo,'DejaVu Sans Mono',consolas,'Courier New',monospace\">Average reward over last 5000 steps: -6.94\n",
       "</pre>\n"
      ],
      "text/plain": [
       "Average reward over last 5000 steps: -6.94\n"
      ]
     },
     "metadata": {},
     "output_type": "display_data"
    },
    {
     "data": {
      "text/html": [
       "<pre style=\"white-space:pre;overflow-x:auto;line-height:normal;font-family:Menlo,'DejaVu Sans Mono',consolas,'Courier New',monospace\">Average reward over last 5000 steps: -6.90\n",
       "</pre>\n"
      ],
      "text/plain": [
       "Average reward over last 5000 steps: -6.90\n"
      ]
     },
     "metadata": {},
     "output_type": "display_data"
    },
    {
     "data": {
      "text/html": [
       "<pre style=\"white-space:pre;overflow-x:auto;line-height:normal;font-family:Menlo,'DejaVu Sans Mono',consolas,'Courier New',monospace\">Average reward over last 5000 steps: -6.82\n",
       "</pre>\n"
      ],
      "text/plain": [
       "Average reward over last 5000 steps: -6.82\n"
      ]
     },
     "metadata": {},
     "output_type": "display_data"
    },
    {
     "data": {
      "text/html": [
       "<pre style=\"white-space:pre;overflow-x:auto;line-height:normal;font-family:Menlo,'DejaVu Sans Mono',consolas,'Courier New',monospace\">Average reward over last 5000 steps: -6.92\n",
       "</pre>\n"
      ],
      "text/plain": [
       "Average reward over last 5000 steps: -6.92\n"
      ]
     },
     "metadata": {},
     "output_type": "display_data"
    },
    {
     "data": {
      "text/html": [
       "<pre style=\"white-space:pre;overflow-x:auto;line-height:normal;font-family:Menlo,'DejaVu Sans Mono',consolas,'Courier New',monospace\">Average reward over last 5000 steps: -6.81\n",
       "</pre>\n"
      ],
      "text/plain": [
       "Average reward over last 5000 steps: -6.81\n"
      ]
     },
     "metadata": {},
     "output_type": "display_data"
    },
    {
     "data": {
      "text/html": [
       "<pre style=\"white-space:pre;overflow-x:auto;line-height:normal;font-family:Menlo,'DejaVu Sans Mono',consolas,'Courier New',monospace\">Average reward over last 5000 steps: -6.67\n",
       "</pre>\n"
      ],
      "text/plain": [
       "Average reward over last 5000 steps: -6.67\n"
      ]
     },
     "metadata": {},
     "output_type": "display_data"
    },
    {
     "data": {
      "text/html": [
       "<pre style=\"white-space:pre;overflow-x:auto;line-height:normal;font-family:Menlo,'DejaVu Sans Mono',consolas,'Courier New',monospace\">Average reward over last 5000 steps: -6.73\n",
       "</pre>\n"
      ],
      "text/plain": [
       "Average reward over last 5000 steps: -6.73\n"
      ]
     },
     "metadata": {},
     "output_type": "display_data"
    },
    {
     "data": {
      "text/html": [
       "<pre style=\"white-space:pre;overflow-x:auto;line-height:normal;font-family:Menlo,'DejaVu Sans Mono',consolas,'Courier New',monospace\">Average reward over last 5000 steps: -6.82\n",
       "</pre>\n"
      ],
      "text/plain": [
       "Average reward over last 5000 steps: -6.82\n"
      ]
     },
     "metadata": {},
     "output_type": "display_data"
    },
    {
     "data": {
      "text/html": [
       "<pre style=\"white-space:pre;overflow-x:auto;line-height:normal;font-family:Menlo,'DejaVu Sans Mono',consolas,'Courier New',monospace\">Average reward over last 5000 steps: -6.82\n",
       "</pre>\n"
      ],
      "text/plain": [
       "Average reward over last 5000 steps: -6.82\n"
      ]
     },
     "metadata": {},
     "output_type": "display_data"
    },
    {
     "data": {
      "text/html": [
       "<pre style=\"white-space:pre;overflow-x:auto;line-height:normal;font-family:Menlo,'DejaVu Sans Mono',consolas,'Courier New',monospace\">Average reward over last 5000 steps: -6.85\n",
       "</pre>\n"
      ],
      "text/plain": [
       "Average reward over last 5000 steps: -6.85\n"
      ]
     },
     "metadata": {},
     "output_type": "display_data"
    },
    {
     "data": {
      "text/html": [
       "<pre style=\"white-space:pre;overflow-x:auto;line-height:normal;font-family:Menlo,'DejaVu Sans Mono',consolas,'Courier New',monospace\">Average reward over last 5000 steps: -6.80\n",
       "</pre>\n"
      ],
      "text/plain": [
       "Average reward over last 5000 steps: -6.80\n"
      ]
     },
     "metadata": {},
     "output_type": "display_data"
    },
    {
     "data": {
      "text/html": [
       "<pre style=\"white-space:pre;overflow-x:auto;line-height:normal;font-family:Menlo,'DejaVu Sans Mono',consolas,'Courier New',monospace\">Average reward over last 5000 steps: -6.77\n",
       "</pre>\n"
      ],
      "text/plain": [
       "Average reward over last 5000 steps: -6.77\n"
      ]
     },
     "metadata": {},
     "output_type": "display_data"
    },
    {
     "data": {
      "text/html": [
       "<pre style=\"white-space:pre;overflow-x:auto;line-height:normal;font-family:Menlo,'DejaVu Sans Mono',consolas,'Courier New',monospace\">Average reward over last 5000 steps: -6.59\n",
       "</pre>\n"
      ],
      "text/plain": [
       "Average reward over last 5000 steps: -6.59\n"
      ]
     },
     "metadata": {},
     "output_type": "display_data"
    },
    {
     "data": {
      "text/html": [
       "<pre style=\"white-space:pre;overflow-x:auto;line-height:normal;font-family:Menlo,'DejaVu Sans Mono',consolas,'Courier New',monospace\">Average reward over last 5000 steps: -6.61\n",
       "</pre>\n"
      ],
      "text/plain": [
       "Average reward over last 5000 steps: -6.61\n"
      ]
     },
     "metadata": {},
     "output_type": "display_data"
    },
    {
     "data": {
      "text/html": [
       "<pre style=\"white-space:pre;overflow-x:auto;line-height:normal;font-family:Menlo,'DejaVu Sans Mono',consolas,'Courier New',monospace\">Average reward over last 5000 steps: -6.66\n",
       "</pre>\n"
      ],
      "text/plain": [
       "Average reward over last 5000 steps: -6.66\n"
      ]
     },
     "metadata": {},
     "output_type": "display_data"
    },
    {
     "data": {
      "text/html": [
       "<pre style=\"white-space:pre;overflow-x:auto;line-height:normal;font-family:Menlo,'DejaVu Sans Mono',consolas,'Courier New',monospace\">Average reward over last 5000 steps: -6.44\n",
       "</pre>\n"
      ],
      "text/plain": [
       "Average reward over last 5000 steps: -6.44\n"
      ]
     },
     "metadata": {},
     "output_type": "display_data"
    },
    {
     "data": {
      "text/html": [
       "<pre style=\"white-space:pre;overflow-x:auto;line-height:normal;font-family:Menlo,'DejaVu Sans Mono',consolas,'Courier New',monospace\">Average reward over last 5000 steps: -6.68\n",
       "</pre>\n"
      ],
      "text/plain": [
       "Average reward over last 5000 steps: -6.68\n"
      ]
     },
     "metadata": {},
     "output_type": "display_data"
    },
    {
     "data": {
      "text/html": [
       "<pre style=\"white-space:pre;overflow-x:auto;line-height:normal;font-family:Menlo,'DejaVu Sans Mono',consolas,'Courier New',monospace\">Average reward over last 5000 steps: -6.63\n",
       "</pre>\n"
      ],
      "text/plain": [
       "Average reward over last 5000 steps: -6.63\n"
      ]
     },
     "metadata": {},
     "output_type": "display_data"
    },
    {
     "data": {
      "text/html": [
       "<pre style=\"white-space:pre;overflow-x:auto;line-height:normal;font-family:Menlo,'DejaVu Sans Mono',consolas,'Courier New',monospace\">Average reward over last 5000 steps: -6.67\n",
       "</pre>\n"
      ],
      "text/plain": [
       "Average reward over last 5000 steps: -6.67\n"
      ]
     },
     "metadata": {},
     "output_type": "display_data"
    },
    {
     "data": {
      "text/html": [
       "<pre style=\"white-space:pre;overflow-x:auto;line-height:normal;font-family:Menlo,'DejaVu Sans Mono',consolas,'Courier New',monospace\">Average reward over last 5000 steps: -6.66\n",
       "</pre>\n"
      ],
      "text/plain": [
       "Average reward over last 5000 steps: -6.66\n"
      ]
     },
     "metadata": {},
     "output_type": "display_data"
    },
    {
     "data": {
      "text/html": [
       "<pre style=\"white-space:pre;overflow-x:auto;line-height:normal;font-family:Menlo,'DejaVu Sans Mono',consolas,'Courier New',monospace\">Average reward over last 5000 steps: -6.82\n",
       "</pre>\n"
      ],
      "text/plain": [
       "Average reward over last 5000 steps: -6.82\n"
      ]
     },
     "metadata": {},
     "output_type": "display_data"
    },
    {
     "data": {
      "text/html": [
       "<pre style=\"white-space:pre;overflow-x:auto;line-height:normal;font-family:Menlo,'DejaVu Sans Mono',consolas,'Courier New',monospace\">Average reward over last 5000 steps: -6.67\n",
       "</pre>\n"
      ],
      "text/plain": [
       "Average reward over last 5000 steps: -6.67\n"
      ]
     },
     "metadata": {},
     "output_type": "display_data"
    },
    {
     "data": {
      "text/html": [
       "<pre style=\"white-space:pre;overflow-x:auto;line-height:normal;font-family:Menlo,'DejaVu Sans Mono',consolas,'Courier New',monospace\">Average reward over last 5000 steps: -6.60\n",
       "</pre>\n"
      ],
      "text/plain": [
       "Average reward over last 5000 steps: -6.60\n"
      ]
     },
     "metadata": {},
     "output_type": "display_data"
    },
    {
     "data": {
      "text/html": [
       "<pre style=\"white-space:pre;overflow-x:auto;line-height:normal;font-family:Menlo,'DejaVu Sans Mono',consolas,'Courier New',monospace\">Average reward over last 5000 steps: -6.66\n",
       "</pre>\n"
      ],
      "text/plain": [
       "Average reward over last 5000 steps: -6.66\n"
      ]
     },
     "metadata": {},
     "output_type": "display_data"
    },
    {
     "data": {
      "text/html": [
       "<pre style=\"white-space:pre;overflow-x:auto;line-height:normal;font-family:Menlo,'DejaVu Sans Mono',consolas,'Courier New',monospace\">Average reward over last 5000 steps: -6.47\n",
       "</pre>\n"
      ],
      "text/plain": [
       "Average reward over last 5000 steps: -6.47\n"
      ]
     },
     "metadata": {},
     "output_type": "display_data"
    },
    {
     "data": {
      "text/html": [
       "<pre style=\"white-space:pre;overflow-x:auto;line-height:normal;font-family:Menlo,'DejaVu Sans Mono',consolas,'Courier New',monospace\">Average reward over last 5000 steps: -6.61\n",
       "</pre>\n"
      ],
      "text/plain": [
       "Average reward over last 5000 steps: -6.61\n"
      ]
     },
     "metadata": {},
     "output_type": "display_data"
    },
    {
     "data": {
      "text/html": [
       "<pre style=\"white-space:pre;overflow-x:auto;line-height:normal;font-family:Menlo,'DejaVu Sans Mono',consolas,'Courier New',monospace\">Average reward over last 5000 steps: -6.57\n",
       "</pre>\n"
      ],
      "text/plain": [
       "Average reward over last 5000 steps: -6.57\n"
      ]
     },
     "metadata": {},
     "output_type": "display_data"
    },
    {
     "data": {
      "text/html": [
       "<pre style=\"white-space:pre;overflow-x:auto;line-height:normal;font-family:Menlo,'DejaVu Sans Mono',consolas,'Courier New',monospace\">Average reward over last 5000 steps: -6.58\n",
       "</pre>\n"
      ],
      "text/plain": [
       "Average reward over last 5000 steps: -6.58\n"
      ]
     },
     "metadata": {},
     "output_type": "display_data"
    },
    {
     "data": {
      "text/html": [
       "<pre style=\"white-space:pre;overflow-x:auto;line-height:normal;font-family:Menlo,'DejaVu Sans Mono',consolas,'Courier New',monospace\">Average reward over last 5000 steps: -6.65\n",
       "</pre>\n"
      ],
      "text/plain": [
       "Average reward over last 5000 steps: -6.65\n"
      ]
     },
     "metadata": {},
     "output_type": "display_data"
    },
    {
     "data": {
      "text/html": [
       "<pre style=\"white-space:pre;overflow-x:auto;line-height:normal;font-family:Menlo,'DejaVu Sans Mono',consolas,'Courier New',monospace\">Average reward over last 5000 steps: -6.64\n",
       "</pre>\n"
      ],
      "text/plain": [
       "Average reward over last 5000 steps: -6.64\n"
      ]
     },
     "metadata": {},
     "output_type": "display_data"
    },
    {
     "data": {
      "text/html": [
       "<pre style=\"white-space:pre;overflow-x:auto;line-height:normal;font-family:Menlo,'DejaVu Sans Mono',consolas,'Courier New',monospace\">Average reward over last 5000 steps: -6.65\n",
       "</pre>\n"
      ],
      "text/plain": [
       "Average reward over last 5000 steps: -6.65\n"
      ]
     },
     "metadata": {},
     "output_type": "display_data"
    },
    {
     "data": {
      "text/html": [
       "<pre style=\"white-space:pre;overflow-x:auto;line-height:normal;font-family:Menlo,'DejaVu Sans Mono',consolas,'Courier New',monospace\">Average reward over last 5000 steps: -6.68\n",
       "</pre>\n"
      ],
      "text/plain": [
       "Average reward over last 5000 steps: -6.68\n"
      ]
     },
     "metadata": {},
     "output_type": "display_data"
    },
    {
     "data": {
      "text/html": [
       "<pre style=\"white-space:pre;overflow-x:auto;line-height:normal;font-family:Menlo,'DejaVu Sans Mono',consolas,'Courier New',monospace\">Average reward over last 5000 steps: -6.73\n",
       "</pre>\n"
      ],
      "text/plain": [
       "Average reward over last 5000 steps: -6.73\n"
      ]
     },
     "metadata": {},
     "output_type": "display_data"
    },
    {
     "data": {
      "text/html": [
       "<pre style=\"white-space:pre;overflow-x:auto;line-height:normal;font-family:Menlo,'DejaVu Sans Mono',consolas,'Courier New',monospace\">Average reward over last 5000 steps: -6.69\n",
       "</pre>\n"
      ],
      "text/plain": [
       "Average reward over last 5000 steps: -6.69\n"
      ]
     },
     "metadata": {},
     "output_type": "display_data"
    },
    {
     "data": {
      "text/html": [
       "<pre style=\"white-space:pre;overflow-x:auto;line-height:normal;font-family:Menlo,'DejaVu Sans Mono',consolas,'Courier New',monospace\">Average reward over last 5000 steps: -6.65\n",
       "</pre>\n"
      ],
      "text/plain": [
       "Average reward over last 5000 steps: -6.65\n"
      ]
     },
     "metadata": {},
     "output_type": "display_data"
    },
    {
     "data": {
      "text/html": [
       "<pre style=\"white-space:pre;overflow-x:auto;line-height:normal;font-family:Menlo,'DejaVu Sans Mono',consolas,'Courier New',monospace\">Average reward over last 5000 steps: -6.67\n",
       "</pre>\n"
      ],
      "text/plain": [
       "Average reward over last 5000 steps: -6.67\n"
      ]
     },
     "metadata": {},
     "output_type": "display_data"
    },
    {
     "data": {
      "text/html": [
       "<pre style=\"white-space:pre;overflow-x:auto;line-height:normal;font-family:Menlo,'DejaVu Sans Mono',consolas,'Courier New',monospace\">Average reward over last 5000 steps: -6.52\n",
       "</pre>\n"
      ],
      "text/plain": [
       "Average reward over last 5000 steps: -6.52\n"
      ]
     },
     "metadata": {},
     "output_type": "display_data"
    },
    {
     "data": {
      "text/html": [
       "<pre style=\"white-space:pre;overflow-x:auto;line-height:normal;font-family:Menlo,'DejaVu Sans Mono',consolas,'Courier New',monospace\">Average reward over last 5000 steps: -6.67\n",
       "</pre>\n"
      ],
      "text/plain": [
       "Average reward over last 5000 steps: -6.67\n"
      ]
     },
     "metadata": {},
     "output_type": "display_data"
    },
    {
     "data": {
      "text/html": [
       "<pre style=\"white-space:pre;overflow-x:auto;line-height:normal;font-family:Menlo,'DejaVu Sans Mono',consolas,'Courier New',monospace\">Average reward over last 5000 steps: -6.64\n",
       "</pre>\n"
      ],
      "text/plain": [
       "Average reward over last 5000 steps: -6.64\n"
      ]
     },
     "metadata": {},
     "output_type": "display_data"
    },
    {
     "data": {
      "text/html": [
       "<pre style=\"white-space:pre;overflow-x:auto;line-height:normal;font-family:Menlo,'DejaVu Sans Mono',consolas,'Courier New',monospace\">Average reward over last 5000 steps: -6.61\n",
       "</pre>\n"
      ],
      "text/plain": [
       "Average reward over last 5000 steps: -6.61\n"
      ]
     },
     "metadata": {},
     "output_type": "display_data"
    },
    {
     "data": {
      "text/html": [
       "<pre style=\"white-space:pre;overflow-x:auto;line-height:normal;font-family:Menlo,'DejaVu Sans Mono',consolas,'Courier New',monospace\">Average reward over last 5000 steps: -6.54\n",
       "</pre>\n"
      ],
      "text/plain": [
       "Average reward over last 5000 steps: -6.54\n"
      ]
     },
     "metadata": {},
     "output_type": "display_data"
    },
    {
     "data": {
      "text/html": [
       "<pre style=\"white-space:pre;overflow-x:auto;line-height:normal;font-family:Menlo,'DejaVu Sans Mono',consolas,'Courier New',monospace\">Average reward over last 5000 steps: -6.60\n",
       "</pre>\n"
      ],
      "text/plain": [
       "Average reward over last 5000 steps: -6.60\n"
      ]
     },
     "metadata": {},
     "output_type": "display_data"
    },
    {
     "data": {
      "text/html": [
       "<pre style=\"white-space:pre;overflow-x:auto;line-height:normal;font-family:Menlo,'DejaVu Sans Mono',consolas,'Courier New',monospace\">Average reward over last 5000 steps: -6.74\n",
       "</pre>\n"
      ],
      "text/plain": [
       "Average reward over last 5000 steps: -6.74\n"
      ]
     },
     "metadata": {},
     "output_type": "display_data"
    },
    {
     "data": {
      "text/html": [
       "<pre style=\"white-space:pre;overflow-x:auto;line-height:normal;font-family:Menlo,'DejaVu Sans Mono',consolas,'Courier New',monospace\">Average reward over last 5000 steps: -6.43\n",
       "</pre>\n"
      ],
      "text/plain": [
       "Average reward over last 5000 steps: -6.43\n"
      ]
     },
     "metadata": {},
     "output_type": "display_data"
    },
    {
     "data": {
      "text/html": [
       "<pre style=\"white-space:pre;overflow-x:auto;line-height:normal;font-family:Menlo,'DejaVu Sans Mono',consolas,'Courier New',monospace\">Average reward over last 5000 steps: -6.51\n",
       "</pre>\n"
      ],
      "text/plain": [
       "Average reward over last 5000 steps: -6.51\n"
      ]
     },
     "metadata": {},
     "output_type": "display_data"
    },
    {
     "data": {
      "text/html": [
       "<pre style=\"white-space:pre;overflow-x:auto;line-height:normal;font-family:Menlo,'DejaVu Sans Mono',consolas,'Courier New',monospace\">Average reward over last 5000 steps: -6.54\n",
       "</pre>\n"
      ],
      "text/plain": [
       "Average reward over last 5000 steps: -6.54\n"
      ]
     },
     "metadata": {},
     "output_type": "display_data"
    },
    {
     "data": {
      "text/html": [
       "<pre style=\"white-space:pre;overflow-x:auto;line-height:normal;font-family:Menlo,'DejaVu Sans Mono',consolas,'Courier New',monospace\">Average reward over last 5000 steps: -6.62\n",
       "</pre>\n"
      ],
      "text/plain": [
       "Average reward over last 5000 steps: -6.62\n"
      ]
     },
     "metadata": {},
     "output_type": "display_data"
    },
    {
     "data": {
      "text/html": [
       "<pre style=\"white-space:pre;overflow-x:auto;line-height:normal;font-family:Menlo,'DejaVu Sans Mono',consolas,'Courier New',monospace\">Average reward over last 5000 steps: -6.55\n",
       "</pre>\n"
      ],
      "text/plain": [
       "Average reward over last 5000 steps: -6.55\n"
      ]
     },
     "metadata": {},
     "output_type": "display_data"
    },
    {
     "data": {
      "text/html": [
       "<pre style=\"white-space:pre;overflow-x:auto;line-height:normal;font-family:Menlo,'DejaVu Sans Mono',consolas,'Courier New',monospace\">Average reward over last 5000 steps: -6.56\n",
       "</pre>\n"
      ],
      "text/plain": [
       "Average reward over last 5000 steps: -6.56\n"
      ]
     },
     "metadata": {},
     "output_type": "display_data"
    },
    {
     "data": {
      "text/html": [
       "<pre style=\"white-space:pre;overflow-x:auto;line-height:normal;font-family:Menlo,'DejaVu Sans Mono',consolas,'Courier New',monospace\">Average reward over last 5000 steps: -6.63\n",
       "</pre>\n"
      ],
      "text/plain": [
       "Average reward over last 5000 steps: -6.63\n"
      ]
     },
     "metadata": {},
     "output_type": "display_data"
    },
    {
     "data": {
      "text/html": [
       "<pre style=\"white-space:pre;overflow-x:auto;line-height:normal;font-family:Menlo,'DejaVu Sans Mono',consolas,'Courier New',monospace\">Average reward over last 5000 steps: -6.64\n",
       "</pre>\n"
      ],
      "text/plain": [
       "Average reward over last 5000 steps: -6.64\n"
      ]
     },
     "metadata": {},
     "output_type": "display_data"
    },
    {
     "data": {
      "text/html": [
       "<pre style=\"white-space:pre;overflow-x:auto;line-height:normal;font-family:Menlo,'DejaVu Sans Mono',consolas,'Courier New',monospace\">Average reward over last 5000 steps: -6.60\n",
       "</pre>\n"
      ],
      "text/plain": [
       "Average reward over last 5000 steps: -6.60\n"
      ]
     },
     "metadata": {},
     "output_type": "display_data"
    },
    {
     "data": {
      "text/html": [
       "<pre style=\"white-space:pre;overflow-x:auto;line-height:normal;font-family:Menlo,'DejaVu Sans Mono',consolas,'Courier New',monospace\">Average reward over last 5000 steps: -6.66\n",
       "</pre>\n"
      ],
      "text/plain": [
       "Average reward over last 5000 steps: -6.66\n"
      ]
     },
     "metadata": {},
     "output_type": "display_data"
    },
    {
     "data": {
      "text/html": [
       "<pre style=\"white-space:pre;overflow-x:auto;line-height:normal;font-family:Menlo,'DejaVu Sans Mono',consolas,'Courier New',monospace\">Average reward over last 5000 steps: -6.68\n",
       "</pre>\n"
      ],
      "text/plain": [
       "Average reward over last 5000 steps: -6.68\n"
      ]
     },
     "metadata": {},
     "output_type": "display_data"
    },
    {
     "data": {
      "text/html": [
       "<pre style=\"white-space:pre;overflow-x:auto;line-height:normal;font-family:Menlo,'DejaVu Sans Mono',consolas,'Courier New',monospace\">Average reward over last 5000 steps: -6.58\n",
       "</pre>\n"
      ],
      "text/plain": [
       "Average reward over last 5000 steps: -6.58\n"
      ]
     },
     "metadata": {},
     "output_type": "display_data"
    },
    {
     "data": {
      "text/html": [
       "<pre style=\"white-space:pre;overflow-x:auto;line-height:normal;font-family:Menlo,'DejaVu Sans Mono',consolas,'Courier New',monospace\">Average reward over last 5000 steps: -6.60\n",
       "</pre>\n"
      ],
      "text/plain": [
       "Average reward over last 5000 steps: -6.60\n"
      ]
     },
     "metadata": {},
     "output_type": "display_data"
    },
    {
     "data": {
      "text/html": [
       "<pre style=\"white-space:pre;overflow-x:auto;line-height:normal;font-family:Menlo,'DejaVu Sans Mono',consolas,'Courier New',monospace\">Average reward over last 5000 steps: -6.73\n",
       "</pre>\n"
      ],
      "text/plain": [
       "Average reward over last 5000 steps: -6.73\n"
      ]
     },
     "metadata": {},
     "output_type": "display_data"
    },
    {
     "data": {
      "text/html": [
       "<pre style=\"white-space:pre;overflow-x:auto;line-height:normal;font-family:Menlo,'DejaVu Sans Mono',consolas,'Courier New',monospace\">Average reward over last 5000 steps: -6.71\n",
       "</pre>\n"
      ],
      "text/plain": [
       "Average reward over last 5000 steps: -6.71\n"
      ]
     },
     "metadata": {},
     "output_type": "display_data"
    },
    {
     "data": {
      "text/html": [
       "<pre style=\"white-space:pre;overflow-x:auto;line-height:normal;font-family:Menlo,'DejaVu Sans Mono',consolas,'Courier New',monospace\">Average reward over last 5000 steps: -6.64\n",
       "</pre>\n"
      ],
      "text/plain": [
       "Average reward over last 5000 steps: -6.64\n"
      ]
     },
     "metadata": {},
     "output_type": "display_data"
    },
    {
     "data": {
      "text/html": [
       "<pre style=\"white-space:pre;overflow-x:auto;line-height:normal;font-family:Menlo,'DejaVu Sans Mono',consolas,'Courier New',monospace\">Average reward over last 5000 steps: -6.61\n",
       "</pre>\n"
      ],
      "text/plain": [
       "Average reward over last 5000 steps: -6.61\n"
      ]
     },
     "metadata": {},
     "output_type": "display_data"
    },
    {
     "data": {
      "text/html": [
       "<pre style=\"white-space:pre;overflow-x:auto;line-height:normal;font-family:Menlo,'DejaVu Sans Mono',consolas,'Courier New',monospace\">Average reward over last 5000 steps: -6.66\n",
       "</pre>\n"
      ],
      "text/plain": [
       "Average reward over last 5000 steps: -6.66\n"
      ]
     },
     "metadata": {},
     "output_type": "display_data"
    },
    {
     "data": {
      "text/html": [
       "<pre style=\"white-space:pre;overflow-x:auto;line-height:normal;font-family:Menlo,'DejaVu Sans Mono',consolas,'Courier New',monospace\">Average reward over last 5000 steps: -6.67\n",
       "</pre>\n"
      ],
      "text/plain": [
       "Average reward over last 5000 steps: -6.67\n"
      ]
     },
     "metadata": {},
     "output_type": "display_data"
    },
    {
     "data": {
      "text/html": [
       "<pre style=\"white-space:pre;overflow-x:auto;line-height:normal;font-family:Menlo,'DejaVu Sans Mono',consolas,'Courier New',monospace\">Average reward over last 5000 steps: -6.63\n",
       "</pre>\n"
      ],
      "text/plain": [
       "Average reward over last 5000 steps: -6.63\n"
      ]
     },
     "metadata": {},
     "output_type": "display_data"
    },
    {
     "data": {
      "text/html": [
       "<pre style=\"white-space:pre;overflow-x:auto;line-height:normal;font-family:Menlo,'DejaVu Sans Mono',consolas,'Courier New',monospace\">Average reward over last 5000 steps: -6.54\n",
       "</pre>\n"
      ],
      "text/plain": [
       "Average reward over last 5000 steps: -6.54\n"
      ]
     },
     "metadata": {},
     "output_type": "display_data"
    },
    {
     "data": {
      "text/html": [
       "<pre style=\"white-space:pre;overflow-x:auto;line-height:normal;font-family:Menlo,'DejaVu Sans Mono',consolas,'Courier New',monospace\">Average reward over last 5000 steps: -6.46\n",
       "</pre>\n"
      ],
      "text/plain": [
       "Average reward over last 5000 steps: -6.46\n"
      ]
     },
     "metadata": {},
     "output_type": "display_data"
    },
    {
     "data": {
      "text/html": [
       "<pre style=\"white-space:pre;overflow-x:auto;line-height:normal;font-family:Menlo,'DejaVu Sans Mono',consolas,'Courier New',monospace\">Average reward over last 5000 steps: -6.51\n",
       "</pre>\n"
      ],
      "text/plain": [
       "Average reward over last 5000 steps: -6.51\n"
      ]
     },
     "metadata": {},
     "output_type": "display_data"
    },
    {
     "data": {
      "text/html": [
       "<pre style=\"white-space:pre;overflow-x:auto;line-height:normal;font-family:Menlo,'DejaVu Sans Mono',consolas,'Courier New',monospace\">Average reward over last 5000 steps: -6.66\n",
       "</pre>\n"
      ],
      "text/plain": [
       "Average reward over last 5000 steps: -6.66\n"
      ]
     },
     "metadata": {},
     "output_type": "display_data"
    },
    {
     "data": {
      "text/html": [
       "<pre style=\"white-space:pre;overflow-x:auto;line-height:normal;font-family:Menlo,'DejaVu Sans Mono',consolas,'Courier New',monospace\">Average reward over last 5000 steps: -6.56\n",
       "</pre>\n"
      ],
      "text/plain": [
       "Average reward over last 5000 steps: -6.56\n"
      ]
     },
     "metadata": {},
     "output_type": "display_data"
    },
    {
     "data": {
      "text/html": [
       "<pre style=\"white-space:pre;overflow-x:auto;line-height:normal;font-family:Menlo,'DejaVu Sans Mono',consolas,'Courier New',monospace\">Average reward over last 5000 steps: -6.52\n",
       "</pre>\n"
      ],
      "text/plain": [
       "Average reward over last 5000 steps: -6.52\n"
      ]
     },
     "metadata": {},
     "output_type": "display_data"
    },
    {
     "data": {
      "text/html": [
       "<pre style=\"white-space:pre;overflow-x:auto;line-height:normal;font-family:Menlo,'DejaVu Sans Mono',consolas,'Courier New',monospace\">Average reward over last 5000 steps: -6.55\n",
       "</pre>\n"
      ],
      "text/plain": [
       "Average reward over last 5000 steps: -6.55\n"
      ]
     },
     "metadata": {},
     "output_type": "display_data"
    },
    {
     "data": {
      "text/html": [
       "<pre style=\"white-space:pre;overflow-x:auto;line-height:normal;font-family:Menlo,'DejaVu Sans Mono',consolas,'Courier New',monospace\">Average reward over last 5000 steps: -6.69\n",
       "</pre>\n"
      ],
      "text/plain": [
       "Average reward over last 5000 steps: -6.69\n"
      ]
     },
     "metadata": {},
     "output_type": "display_data"
    },
    {
     "data": {
      "text/html": [
       "<pre style=\"white-space:pre;overflow-x:auto;line-height:normal;font-family:Menlo,'DejaVu Sans Mono',consolas,'Courier New',monospace\">Average reward over last 5000 steps: -6.73\n",
       "</pre>\n"
      ],
      "text/plain": [
       "Average reward over last 5000 steps: -6.73\n"
      ]
     },
     "metadata": {},
     "output_type": "display_data"
    },
    {
     "data": {
      "text/html": [
       "<pre style=\"white-space:pre;overflow-x:auto;line-height:normal;font-family:Menlo,'DejaVu Sans Mono',consolas,'Courier New',monospace\">Average reward over last 5000 steps: -6.47\n",
       "</pre>\n"
      ],
      "text/plain": [
       "Average reward over last 5000 steps: -6.47\n"
      ]
     },
     "metadata": {},
     "output_type": "display_data"
    },
    {
     "data": {
      "text/html": [
       "<pre style=\"white-space:pre;overflow-x:auto;line-height:normal;font-family:Menlo,'DejaVu Sans Mono',consolas,'Courier New',monospace\">Average reward over last 5000 steps: -6.73\n",
       "</pre>\n"
      ],
      "text/plain": [
       "Average reward over last 5000 steps: -6.73\n"
      ]
     },
     "metadata": {},
     "output_type": "display_data"
    },
    {
     "data": {
      "text/html": [
       "<pre style=\"white-space:pre;overflow-x:auto;line-height:normal;font-family:Menlo,'DejaVu Sans Mono',consolas,'Courier New',monospace\">Average reward over last 5000 steps: -6.79\n",
       "</pre>\n"
      ],
      "text/plain": [
       "Average reward over last 5000 steps: -6.79\n"
      ]
     },
     "metadata": {},
     "output_type": "display_data"
    },
    {
     "data": {
      "text/html": [
       "<pre style=\"white-space:pre;overflow-x:auto;line-height:normal;font-family:Menlo,'DejaVu Sans Mono',consolas,'Courier New',monospace\">Average reward over last 5000 steps: -6.63\n",
       "</pre>\n"
      ],
      "text/plain": [
       "Average reward over last 5000 steps: -6.63\n"
      ]
     },
     "metadata": {},
     "output_type": "display_data"
    },
    {
     "data": {
      "text/html": [
       "<pre style=\"white-space:pre;overflow-x:auto;line-height:normal;font-family:Menlo,'DejaVu Sans Mono',consolas,'Courier New',monospace\">Average reward over last 5000 steps: -6.53\n",
       "</pre>\n"
      ],
      "text/plain": [
       "Average reward over last 5000 steps: -6.53\n"
      ]
     },
     "metadata": {},
     "output_type": "display_data"
    },
    {
     "data": {
      "text/html": [
       "<pre style=\"white-space:pre;overflow-x:auto;line-height:normal;font-family:Menlo,'DejaVu Sans Mono',consolas,'Courier New',monospace\">Average reward over last 5000 steps: -6.58\n",
       "</pre>\n"
      ],
      "text/plain": [
       "Average reward over last 5000 steps: -6.58\n"
      ]
     },
     "metadata": {},
     "output_type": "display_data"
    },
    {
     "data": {
      "text/html": [
       "<pre style=\"white-space:pre;overflow-x:auto;line-height:normal;font-family:Menlo,'DejaVu Sans Mono',consolas,'Courier New',monospace\">Average reward over last 5000 steps: -6.54\n",
       "</pre>\n"
      ],
      "text/plain": [
       "Average reward over last 5000 steps: -6.54\n"
      ]
     },
     "metadata": {},
     "output_type": "display_data"
    },
    {
     "data": {
      "text/html": [
       "<pre style=\"white-space:pre;overflow-x:auto;line-height:normal;font-family:Menlo,'DejaVu Sans Mono',consolas,'Courier New',monospace\">Average reward over last 5000 steps: -6.56\n",
       "</pre>\n"
      ],
      "text/plain": [
       "Average reward over last 5000 steps: -6.56\n"
      ]
     },
     "metadata": {},
     "output_type": "display_data"
    },
    {
     "data": {
      "text/html": [
       "<pre style=\"white-space:pre;overflow-x:auto;line-height:normal;font-family:Menlo,'DejaVu Sans Mono',consolas,'Courier New',monospace\">Average reward over last 5000 steps: -6.49\n",
       "</pre>\n"
      ],
      "text/plain": [
       "Average reward over last 5000 steps: -6.49\n"
      ]
     },
     "metadata": {},
     "output_type": "display_data"
    },
    {
     "data": {
      "text/html": [
       "<pre style=\"white-space:pre;overflow-x:auto;line-height:normal;font-family:Menlo,'DejaVu Sans Mono',consolas,'Courier New',monospace\">Average reward over last 5000 steps: -6.55\n",
       "</pre>\n"
      ],
      "text/plain": [
       "Average reward over last 5000 steps: -6.55\n"
      ]
     },
     "metadata": {},
     "output_type": "display_data"
    },
    {
     "data": {
      "text/html": [
       "<pre style=\"white-space:pre;overflow-x:auto;line-height:normal;font-family:Menlo,'DejaVu Sans Mono',consolas,'Courier New',monospace\">Average reward over last 5000 steps: -6.49\n",
       "</pre>\n"
      ],
      "text/plain": [
       "Average reward over last 5000 steps: -6.49\n"
      ]
     },
     "metadata": {},
     "output_type": "display_data"
    },
    {
     "data": {
      "text/html": [
       "<pre style=\"white-space:pre;overflow-x:auto;line-height:normal;font-family:Menlo,'DejaVu Sans Mono',consolas,'Courier New',monospace\">Average reward over last 5000 steps: -6.71\n",
       "</pre>\n"
      ],
      "text/plain": [
       "Average reward over last 5000 steps: -6.71\n"
      ]
     },
     "metadata": {},
     "output_type": "display_data"
    },
    {
     "data": {
      "text/html": [
       "<pre style=\"white-space:pre;overflow-x:auto;line-height:normal;font-family:Menlo,'DejaVu Sans Mono',consolas,'Courier New',monospace\">Average reward over last 5000 steps: -6.62\n",
       "</pre>\n"
      ],
      "text/plain": [
       "Average reward over last 5000 steps: -6.62\n"
      ]
     },
     "metadata": {},
     "output_type": "display_data"
    },
    {
     "data": {
      "text/html": [
       "<pre style=\"white-space:pre;overflow-x:auto;line-height:normal;font-family:Menlo,'DejaVu Sans Mono',consolas,'Courier New',monospace\">Average reward over last 5000 steps: -6.54\n",
       "</pre>\n"
      ],
      "text/plain": [
       "Average reward over last 5000 steps: -6.54\n"
      ]
     },
     "metadata": {},
     "output_type": "display_data"
    },
    {
     "data": {
      "text/html": [
       "<pre style=\"white-space:pre;overflow-x:auto;line-height:normal;font-family:Menlo,'DejaVu Sans Mono',consolas,'Courier New',monospace\">Average reward over last 5000 steps: -6.48\n",
       "</pre>\n"
      ],
      "text/plain": [
       "Average reward over last 5000 steps: -6.48\n"
      ]
     },
     "metadata": {},
     "output_type": "display_data"
    },
    {
     "data": {
      "text/html": [
       "<pre style=\"white-space:pre;overflow-x:auto;line-height:normal;font-family:Menlo,'DejaVu Sans Mono',consolas,'Courier New',monospace\">Average reward over last 5000 steps: -6.57\n",
       "</pre>\n"
      ],
      "text/plain": [
       "Average reward over last 5000 steps: -6.57\n"
      ]
     },
     "metadata": {},
     "output_type": "display_data"
    },
    {
     "data": {
      "text/html": [
       "<pre style=\"white-space:pre;overflow-x:auto;line-height:normal;font-family:Menlo,'DejaVu Sans Mono',consolas,'Courier New',monospace\">Average reward over last 5000 steps: -6.60\n",
       "</pre>\n"
      ],
      "text/plain": [
       "Average reward over last 5000 steps: -6.60\n"
      ]
     },
     "metadata": {},
     "output_type": "display_data"
    },
    {
     "data": {
      "text/html": [
       "<pre style=\"white-space:pre;overflow-x:auto;line-height:normal;font-family:Menlo,'DejaVu Sans Mono',consolas,'Courier New',monospace\">Average reward over last 5000 steps: -6.52\n",
       "</pre>\n"
      ],
      "text/plain": [
       "Average reward over last 5000 steps: -6.52\n"
      ]
     },
     "metadata": {},
     "output_type": "display_data"
    },
    {
     "data": {
      "text/html": [
       "<pre style=\"white-space:pre;overflow-x:auto;line-height:normal;font-family:Menlo,'DejaVu Sans Mono',consolas,'Courier New',monospace\">Average reward over last 5000 steps: -6.43\n",
       "</pre>\n"
      ],
      "text/plain": [
       "Average reward over last 5000 steps: -6.43\n"
      ]
     },
     "metadata": {},
     "output_type": "display_data"
    },
    {
     "data": {
      "text/html": [
       "<pre style=\"white-space:pre;overflow-x:auto;line-height:normal;font-family:Menlo,'DejaVu Sans Mono',consolas,'Courier New',monospace\">Average reward over last 5000 steps: -6.61\n",
       "</pre>\n"
      ],
      "text/plain": [
       "Average reward over last 5000 steps: -6.61\n"
      ]
     },
     "metadata": {},
     "output_type": "display_data"
    },
    {
     "data": {
      "text/html": [
       "<pre style=\"white-space:pre;overflow-x:auto;line-height:normal;font-family:Menlo,'DejaVu Sans Mono',consolas,'Courier New',monospace\">Average reward over last 5000 steps: -6.85\n",
       "</pre>\n"
      ],
      "text/plain": [
       "Average reward over last 5000 steps: -6.85\n"
      ]
     },
     "metadata": {},
     "output_type": "display_data"
    },
    {
     "data": {
      "text/html": [
       "<pre style=\"white-space:pre;overflow-x:auto;line-height:normal;font-family:Menlo,'DejaVu Sans Mono',consolas,'Courier New',monospace\">Average reward over last 5000 steps: -6.64\n",
       "</pre>\n"
      ],
      "text/plain": [
       "Average reward over last 5000 steps: -6.64\n"
      ]
     },
     "metadata": {},
     "output_type": "display_data"
    },
    {
     "data": {
      "text/html": [
       "<pre style=\"white-space:pre;overflow-x:auto;line-height:normal;font-family:Menlo,'DejaVu Sans Mono',consolas,'Courier New',monospace\">Average reward over last 5000 steps: -6.63\n",
       "</pre>\n"
      ],
      "text/plain": [
       "Average reward over last 5000 steps: -6.63\n"
      ]
     },
     "metadata": {},
     "output_type": "display_data"
    },
    {
     "data": {
      "text/html": [
       "<pre style=\"white-space:pre;overflow-x:auto;line-height:normal;font-family:Menlo,'DejaVu Sans Mono',consolas,'Courier New',monospace\">Average reward over last 5000 steps: -6.63\n",
       "</pre>\n"
      ],
      "text/plain": [
       "Average reward over last 5000 steps: -6.63\n"
      ]
     },
     "metadata": {},
     "output_type": "display_data"
    },
    {
     "data": {
      "text/html": [
       "<pre style=\"white-space:pre;overflow-x:auto;line-height:normal;font-family:Menlo,'DejaVu Sans Mono',consolas,'Courier New',monospace\">Average reward over last 5000 steps: -6.66\n",
       "</pre>\n"
      ],
      "text/plain": [
       "Average reward over last 5000 steps: -6.66\n"
      ]
     },
     "metadata": {},
     "output_type": "display_data"
    },
    {
     "data": {
      "text/html": [
       "<pre style=\"white-space:pre;overflow-x:auto;line-height:normal;font-family:Menlo,'DejaVu Sans Mono',consolas,'Courier New',monospace\">Average reward over last 5000 steps: -6.53\n",
       "</pre>\n"
      ],
      "text/plain": [
       "Average reward over last 5000 steps: -6.53\n"
      ]
     },
     "metadata": {},
     "output_type": "display_data"
    },
    {
     "data": {
      "text/html": [
       "<pre style=\"white-space:pre;overflow-x:auto;line-height:normal;font-family:Menlo,'DejaVu Sans Mono',consolas,'Courier New',monospace\">Average reward over last 5000 steps: -6.56\n",
       "</pre>\n"
      ],
      "text/plain": [
       "Average reward over last 5000 steps: -6.56\n"
      ]
     },
     "metadata": {},
     "output_type": "display_data"
    },
    {
     "data": {
      "text/html": [
       "<pre style=\"white-space:pre;overflow-x:auto;line-height:normal;font-family:Menlo,'DejaVu Sans Mono',consolas,'Courier New',monospace\">Average reward over last 5000 steps: -6.51\n",
       "</pre>\n"
      ],
      "text/plain": [
       "Average reward over last 5000 steps: -6.51\n"
      ]
     },
     "metadata": {},
     "output_type": "display_data"
    },
    {
     "data": {
      "text/html": [
       "<pre style=\"white-space:pre;overflow-x:auto;line-height:normal;font-family:Menlo,'DejaVu Sans Mono',consolas,'Courier New',monospace\">Average reward over last 5000 steps: -6.57\n",
       "</pre>\n"
      ],
      "text/plain": [
       "Average reward over last 5000 steps: -6.57\n"
      ]
     },
     "metadata": {},
     "output_type": "display_data"
    },
    {
     "data": {
      "text/html": [
       "<pre style=\"white-space:pre;overflow-x:auto;line-height:normal;font-family:Menlo,'DejaVu Sans Mono',consolas,'Courier New',monospace\">Average reward over last 5000 steps: -6.48\n",
       "</pre>\n"
      ],
      "text/plain": [
       "Average reward over last 5000 steps: -6.48\n"
      ]
     },
     "metadata": {},
     "output_type": "display_data"
    },
    {
     "data": {
      "text/html": [
       "<pre style=\"white-space:pre;overflow-x:auto;line-height:normal;font-family:Menlo,'DejaVu Sans Mono',consolas,'Courier New',monospace\">Average reward over last 5000 steps: -6.74\n",
       "</pre>\n"
      ],
      "text/plain": [
       "Average reward over last 5000 steps: -6.74\n"
      ]
     },
     "metadata": {},
     "output_type": "display_data"
    },
    {
     "data": {
      "text/html": [
       "<pre style=\"white-space:pre;overflow-x:auto;line-height:normal;font-family:Menlo,'DejaVu Sans Mono',consolas,'Courier New',monospace\">Average reward over last 5000 steps: -6.61\n",
       "</pre>\n"
      ],
      "text/plain": [
       "Average reward over last 5000 steps: -6.61\n"
      ]
     },
     "metadata": {},
     "output_type": "display_data"
    },
    {
     "data": {
      "text/html": [
       "<pre style=\"white-space:pre;overflow-x:auto;line-height:normal;font-family:Menlo,'DejaVu Sans Mono',consolas,'Courier New',monospace\">Average reward over last 5000 steps: -6.71\n",
       "</pre>\n"
      ],
      "text/plain": [
       "Average reward over last 5000 steps: -6.71\n"
      ]
     },
     "metadata": {},
     "output_type": "display_data"
    },
    {
     "data": {
      "text/html": [
       "<pre style=\"white-space:pre;overflow-x:auto;line-height:normal;font-family:Menlo,'DejaVu Sans Mono',consolas,'Courier New',monospace\">Average reward over last 5000 steps: -6.57\n",
       "</pre>\n"
      ],
      "text/plain": [
       "Average reward over last 5000 steps: -6.57\n"
      ]
     },
     "metadata": {},
     "output_type": "display_data"
    },
    {
     "data": {
      "text/html": [
       "<pre style=\"white-space:pre;overflow-x:auto;line-height:normal;font-family:Menlo,'DejaVu Sans Mono',consolas,'Courier New',monospace\">Average reward over last 5000 steps: -6.69\n",
       "</pre>\n"
      ],
      "text/plain": [
       "Average reward over last 5000 steps: -6.69\n"
      ]
     },
     "metadata": {},
     "output_type": "display_data"
    },
    {
     "data": {
      "text/html": [
       "<pre style=\"white-space:pre;overflow-x:auto;line-height:normal;font-family:Menlo,'DejaVu Sans Mono',consolas,'Courier New',monospace\">Average reward over last 5000 steps: -6.59\n",
       "</pre>\n"
      ],
      "text/plain": [
       "Average reward over last 5000 steps: -6.59\n"
      ]
     },
     "metadata": {},
     "output_type": "display_data"
    },
    {
     "data": {
      "text/html": [
       "<pre style=\"white-space:pre;overflow-x:auto;line-height:normal;font-family:Menlo,'DejaVu Sans Mono',consolas,'Courier New',monospace\">Average reward over last 5000 steps: -6.62\n",
       "</pre>\n"
      ],
      "text/plain": [
       "Average reward over last 5000 steps: -6.62\n"
      ]
     },
     "metadata": {},
     "output_type": "display_data"
    },
    {
     "data": {
      "text/html": [
       "<pre style=\"white-space:pre;overflow-x:auto;line-height:normal;font-family:Menlo,'DejaVu Sans Mono',consolas,'Courier New',monospace\">Average reward over last 5000 steps: -6.60\n",
       "</pre>\n"
      ],
      "text/plain": [
       "Average reward over last 5000 steps: -6.60\n"
      ]
     },
     "metadata": {},
     "output_type": "display_data"
    },
    {
     "data": {
      "text/html": [
       "<pre style=\"white-space:pre;overflow-x:auto;line-height:normal;font-family:Menlo,'DejaVu Sans Mono',consolas,'Courier New',monospace\">Average reward over last 5000 steps: -6.50\n",
       "</pre>\n"
      ],
      "text/plain": [
       "Average reward over last 5000 steps: -6.50\n"
      ]
     },
     "metadata": {},
     "output_type": "display_data"
    },
    {
     "data": {
      "text/html": [
       "<pre style=\"white-space:pre;overflow-x:auto;line-height:normal;font-family:Menlo,'DejaVu Sans Mono',consolas,'Courier New',monospace\">Average reward over last 5000 steps: -6.57\n",
       "</pre>\n"
      ],
      "text/plain": [
       "Average reward over last 5000 steps: -6.57\n"
      ]
     },
     "metadata": {},
     "output_type": "display_data"
    },
    {
     "data": {
      "text/html": [
       "<pre style=\"white-space:pre;overflow-x:auto;line-height:normal;font-family:Menlo,'DejaVu Sans Mono',consolas,'Courier New',monospace\">Average reward over last 5000 steps: -6.86\n",
       "</pre>\n"
      ],
      "text/plain": [
       "Average reward over last 5000 steps: -6.86\n"
      ]
     },
     "metadata": {},
     "output_type": "display_data"
    },
    {
     "data": {
      "text/html": [
       "<pre style=\"white-space:pre;overflow-x:auto;line-height:normal;font-family:Menlo,'DejaVu Sans Mono',consolas,'Courier New',monospace\">Average reward over last 5000 steps: -6.59\n",
       "</pre>\n"
      ],
      "text/plain": [
       "Average reward over last 5000 steps: -6.59\n"
      ]
     },
     "metadata": {},
     "output_type": "display_data"
    },
    {
     "data": {
      "text/html": [
       "<pre style=\"white-space:pre;overflow-x:auto;line-height:normal;font-family:Menlo,'DejaVu Sans Mono',consolas,'Courier New',monospace\">Average reward over last 5000 steps: -6.53\n",
       "</pre>\n"
      ],
      "text/plain": [
       "Average reward over last 5000 steps: -6.53\n"
      ]
     },
     "metadata": {},
     "output_type": "display_data"
    },
    {
     "data": {
      "text/html": [
       "<pre style=\"white-space:pre;overflow-x:auto;line-height:normal;font-family:Menlo,'DejaVu Sans Mono',consolas,'Courier New',monospace\">Average reward over last 5000 steps: -6.58\n",
       "</pre>\n"
      ],
      "text/plain": [
       "Average reward over last 5000 steps: -6.58\n"
      ]
     },
     "metadata": {},
     "output_type": "display_data"
    },
    {
     "data": {
      "text/html": [
       "<pre style=\"white-space:pre;overflow-x:auto;line-height:normal;font-family:Menlo,'DejaVu Sans Mono',consolas,'Courier New',monospace\">Average reward over last 5000 steps: -6.60\n",
       "</pre>\n"
      ],
      "text/plain": [
       "Average reward over last 5000 steps: -6.60\n"
      ]
     },
     "metadata": {},
     "output_type": "display_data"
    },
    {
     "data": {
      "text/html": [
       "<pre style=\"white-space:pre;overflow-x:auto;line-height:normal;font-family:Menlo,'DejaVu Sans Mono',consolas,'Courier New',monospace\">Average reward over last 5000 steps: -6.68\n",
       "</pre>\n"
      ],
      "text/plain": [
       "Average reward over last 5000 steps: -6.68\n"
      ]
     },
     "metadata": {},
     "output_type": "display_data"
    },
    {
     "data": {
      "text/html": [
       "<pre style=\"white-space:pre;overflow-x:auto;line-height:normal;font-family:Menlo,'DejaVu Sans Mono',consolas,'Courier New',monospace\">Average reward over last 5000 steps: -6.60\n",
       "</pre>\n"
      ],
      "text/plain": [
       "Average reward over last 5000 steps: -6.60\n"
      ]
     },
     "metadata": {},
     "output_type": "display_data"
    },
    {
     "data": {
      "text/html": [
       "<pre style=\"white-space:pre;overflow-x:auto;line-height:normal;font-family:Menlo,'DejaVu Sans Mono',consolas,'Courier New',monospace\">Average reward over last 5000 steps: -6.56\n",
       "</pre>\n"
      ],
      "text/plain": [
       "Average reward over last 5000 steps: -6.56\n"
      ]
     },
     "metadata": {},
     "output_type": "display_data"
    },
    {
     "data": {
      "text/html": [
       "<pre style=\"white-space:pre;overflow-x:auto;line-height:normal;font-family:Menlo,'DejaVu Sans Mono',consolas,'Courier New',monospace\">Average reward over last 5000 steps: -6.68\n",
       "</pre>\n"
      ],
      "text/plain": [
       "Average reward over last 5000 steps: -6.68\n"
      ]
     },
     "metadata": {},
     "output_type": "display_data"
    },
    {
     "data": {
      "text/html": [
       "<pre style=\"white-space:pre;overflow-x:auto;line-height:normal;font-family:Menlo,'DejaVu Sans Mono',consolas,'Courier New',monospace\">Average reward over last 5000 steps: -6.43\n",
       "</pre>\n"
      ],
      "text/plain": [
       "Average reward over last 5000 steps: -6.43\n"
      ]
     },
     "metadata": {},
     "output_type": "display_data"
    },
    {
     "data": {
      "text/html": [
       "<pre style=\"white-space:pre;overflow-x:auto;line-height:normal;font-family:Menlo,'DejaVu Sans Mono',consolas,'Courier New',monospace\">Average reward over last 5000 steps: -6.60\n",
       "</pre>\n"
      ],
      "text/plain": [
       "Average reward over last 5000 steps: -6.60\n"
      ]
     },
     "metadata": {},
     "output_type": "display_data"
    },
    {
     "data": {
      "text/html": [
       "<pre style=\"white-space:pre;overflow-x:auto;line-height:normal;font-family:Menlo,'DejaVu Sans Mono',consolas,'Courier New',monospace\">Average reward over last 5000 steps: -6.68\n",
       "</pre>\n"
      ],
      "text/plain": [
       "Average reward over last 5000 steps: -6.68\n"
      ]
     },
     "metadata": {},
     "output_type": "display_data"
    },
    {
     "data": {
      "text/html": [
       "<pre style=\"white-space:pre;overflow-x:auto;line-height:normal;font-family:Menlo,'DejaVu Sans Mono',consolas,'Courier New',monospace\">Average reward over last 5000 steps: -6.64\n",
       "</pre>\n"
      ],
      "text/plain": [
       "Average reward over last 5000 steps: -6.64\n"
      ]
     },
     "metadata": {},
     "output_type": "display_data"
    },
    {
     "data": {
      "text/html": [
       "<pre style=\"white-space:pre;overflow-x:auto;line-height:normal;font-family:Menlo,'DejaVu Sans Mono',consolas,'Courier New',monospace\">Average reward over last 5000 steps: -6.68\n",
       "</pre>\n"
      ],
      "text/plain": [
       "Average reward over last 5000 steps: -6.68\n"
      ]
     },
     "metadata": {},
     "output_type": "display_data"
    },
    {
     "data": {
      "text/html": [
       "<pre style=\"white-space:pre;overflow-x:auto;line-height:normal;font-family:Menlo,'DejaVu Sans Mono',consolas,'Courier New',monospace\">Average reward over last 5000 steps: -6.68\n",
       "</pre>\n"
      ],
      "text/plain": [
       "Average reward over last 5000 steps: -6.68\n"
      ]
     },
     "metadata": {},
     "output_type": "display_data"
    },
    {
     "data": {
      "text/html": [
       "<pre style=\"white-space:pre;overflow-x:auto;line-height:normal;font-family:Menlo,'DejaVu Sans Mono',consolas,'Courier New',monospace\">Average reward over last 5000 steps: -6.71\n",
       "</pre>\n"
      ],
      "text/plain": [
       "Average reward over last 5000 steps: -6.71\n"
      ]
     },
     "metadata": {},
     "output_type": "display_data"
    },
    {
     "data": {
      "text/html": [
       "<pre style=\"white-space:pre;overflow-x:auto;line-height:normal;font-family:Menlo,'DejaVu Sans Mono',consolas,'Courier New',monospace\">Average reward over last 5000 steps: -6.50\n",
       "</pre>\n"
      ],
      "text/plain": [
       "Average reward over last 5000 steps: -6.50\n"
      ]
     },
     "metadata": {},
     "output_type": "display_data"
    },
    {
     "data": {
      "text/html": [
       "<pre style=\"white-space:pre;overflow-x:auto;line-height:normal;font-family:Menlo,'DejaVu Sans Mono',consolas,'Courier New',monospace\">Average reward over last 5000 steps: -6.49\n",
       "</pre>\n"
      ],
      "text/plain": [
       "Average reward over last 5000 steps: -6.49\n"
      ]
     },
     "metadata": {},
     "output_type": "display_data"
    },
    {
     "data": {
      "text/html": [
       "<pre style=\"white-space:pre;overflow-x:auto;line-height:normal;font-family:Menlo,'DejaVu Sans Mono',consolas,'Courier New',monospace\">Average reward over last 5000 steps: -6.47\n",
       "</pre>\n"
      ],
      "text/plain": [
       "Average reward over last 5000 steps: -6.47\n"
      ]
     },
     "metadata": {},
     "output_type": "display_data"
    },
    {
     "data": {
      "text/html": [
       "<pre style=\"white-space:pre;overflow-x:auto;line-height:normal;font-family:Menlo,'DejaVu Sans Mono',consolas,'Courier New',monospace\">Average reward over last 5000 steps: -6.56\n",
       "</pre>\n"
      ],
      "text/plain": [
       "Average reward over last 5000 steps: -6.56\n"
      ]
     },
     "metadata": {},
     "output_type": "display_data"
    },
    {
     "data": {
      "text/html": [
       "<pre style=\"white-space:pre;overflow-x:auto;line-height:normal;font-family:Menlo,'DejaVu Sans Mono',consolas,'Courier New',monospace\">Average reward over last 5000 steps: -6.66\n",
       "</pre>\n"
      ],
      "text/plain": [
       "Average reward over last 5000 steps: -6.66\n"
      ]
     },
     "metadata": {},
     "output_type": "display_data"
    },
    {
     "data": {
      "text/html": [
       "<pre style=\"white-space:pre;overflow-x:auto;line-height:normal;font-family:Menlo,'DejaVu Sans Mono',consolas,'Courier New',monospace\">Average reward over last 5000 steps: -6.70\n",
       "</pre>\n"
      ],
      "text/plain": [
       "Average reward over last 5000 steps: -6.70\n"
      ]
     },
     "metadata": {},
     "output_type": "display_data"
    },
    {
     "data": {
      "text/html": [
       "<pre style=\"white-space:pre;overflow-x:auto;line-height:normal;font-family:Menlo,'DejaVu Sans Mono',consolas,'Courier New',monospace\">Average reward over last 5000 steps: -6.56\n",
       "</pre>\n"
      ],
      "text/plain": [
       "Average reward over last 5000 steps: -6.56\n"
      ]
     },
     "metadata": {},
     "output_type": "display_data"
    },
    {
     "data": {
      "text/html": [
       "<pre style=\"white-space:pre;overflow-x:auto;line-height:normal;font-family:Menlo,'DejaVu Sans Mono',consolas,'Courier New',monospace\">Average reward over last 5000 steps: -6.48\n",
       "</pre>\n"
      ],
      "text/plain": [
       "Average reward over last 5000 steps: -6.48\n"
      ]
     },
     "metadata": {},
     "output_type": "display_data"
    },
    {
     "data": {
      "text/html": [
       "<pre style=\"white-space:pre;overflow-x:auto;line-height:normal;font-family:Menlo,'DejaVu Sans Mono',consolas,'Courier New',monospace\">Average reward over last 5000 steps: -6.49\n",
       "</pre>\n"
      ],
      "text/plain": [
       "Average reward over last 5000 steps: -6.49\n"
      ]
     },
     "metadata": {},
     "output_type": "display_data"
    },
    {
     "data": {
      "text/html": [
       "<pre style=\"white-space:pre;overflow-x:auto;line-height:normal;font-family:Menlo,'DejaVu Sans Mono',consolas,'Courier New',monospace\">Average reward over last 5000 steps: -6.35\n",
       "</pre>\n"
      ],
      "text/plain": [
       "Average reward over last 5000 steps: -6.35\n"
      ]
     },
     "metadata": {},
     "output_type": "display_data"
    },
    {
     "data": {
      "text/html": [
       "<pre style=\"white-space:pre;overflow-x:auto;line-height:normal;font-family:Menlo,'DejaVu Sans Mono',consolas,'Courier New',monospace\">Average reward over last 5000 steps: -6.57\n",
       "</pre>\n"
      ],
      "text/plain": [
       "Average reward over last 5000 steps: -6.57\n"
      ]
     },
     "metadata": {},
     "output_type": "display_data"
    },
    {
     "data": {
      "text/html": [
       "<pre style=\"white-space:pre;overflow-x:auto;line-height:normal;font-family:Menlo,'DejaVu Sans Mono',consolas,'Courier New',monospace\">Average reward over last 5000 steps: -6.70\n",
       "</pre>\n"
      ],
      "text/plain": [
       "Average reward over last 5000 steps: -6.70\n"
      ]
     },
     "metadata": {},
     "output_type": "display_data"
    },
    {
     "data": {
      "text/html": [
       "<pre style=\"white-space:pre;overflow-x:auto;line-height:normal;font-family:Menlo,'DejaVu Sans Mono',consolas,'Courier New',monospace\">Average reward over last 5000 steps: -6.56\n",
       "</pre>\n"
      ],
      "text/plain": [
       "Average reward over last 5000 steps: -6.56\n"
      ]
     },
     "metadata": {},
     "output_type": "display_data"
    },
    {
     "data": {
      "text/html": [
       "<pre style=\"white-space:pre;overflow-x:auto;line-height:normal;font-family:Menlo,'DejaVu Sans Mono',consolas,'Courier New',monospace\">Average reward over last 5000 steps: -6.53\n",
       "</pre>\n"
      ],
      "text/plain": [
       "Average reward over last 5000 steps: -6.53\n"
      ]
     },
     "metadata": {},
     "output_type": "display_data"
    },
    {
     "data": {
      "text/html": [
       "<pre style=\"white-space:pre;overflow-x:auto;line-height:normal;font-family:Menlo,'DejaVu Sans Mono',consolas,'Courier New',monospace\">Average reward over last 5000 steps: -6.58\n",
       "</pre>\n"
      ],
      "text/plain": [
       "Average reward over last 5000 steps: -6.58\n"
      ]
     },
     "metadata": {},
     "output_type": "display_data"
    },
    {
     "data": {
      "text/html": [
       "<pre style=\"white-space:pre;overflow-x:auto;line-height:normal;font-family:Menlo,'DejaVu Sans Mono',consolas,'Courier New',monospace\">Average reward over last 5000 steps: -6.64\n",
       "</pre>\n"
      ],
      "text/plain": [
       "Average reward over last 5000 steps: -6.64\n"
      ]
     },
     "metadata": {},
     "output_type": "display_data"
    },
    {
     "data": {
      "text/html": [
       "<pre style=\"white-space:pre;overflow-x:auto;line-height:normal;font-family:Menlo,'DejaVu Sans Mono',consolas,'Courier New',monospace\">Average reward over last 5000 steps: -6.59\n",
       "</pre>\n"
      ],
      "text/plain": [
       "Average reward over last 5000 steps: -6.59\n"
      ]
     },
     "metadata": {},
     "output_type": "display_data"
    },
    {
     "data": {
      "text/html": [
       "<pre style=\"white-space:pre;overflow-x:auto;line-height:normal;font-family:Menlo,'DejaVu Sans Mono',consolas,'Courier New',monospace\">Advancing to Phase 2\n",
       "</pre>\n"
      ],
      "text/plain": [
       "Advancing to Phase 2\n"
      ]
     },
     "metadata": {},
     "output_type": "display_data"
    },
    {
     "data": {
      "text/html": [
       "<pre style=\"white-space:pre;overflow-x:auto;line-height:normal;font-family:Menlo,'DejaVu Sans Mono',consolas,'Courier New',monospace\">Average reward over last 5000 steps: -6.41\n",
       "</pre>\n"
      ],
      "text/plain": [
       "Average reward over last 5000 steps: -6.41\n"
      ]
     },
     "metadata": {},
     "output_type": "display_data"
    },
    {
     "data": {
      "text/html": [
       "<pre style=\"white-space:pre;overflow-x:auto;line-height:normal;font-family:Menlo,'DejaVu Sans Mono',consolas,'Courier New',monospace\">Average reward over last 5000 steps: -6.01\n",
       "</pre>\n"
      ],
      "text/plain": [
       "Average reward over last 5000 steps: -6.01\n"
      ]
     },
     "metadata": {},
     "output_type": "display_data"
    },
    {
     "data": {
      "text/html": [
       "<pre style=\"white-space:pre;overflow-x:auto;line-height:normal;font-family:Menlo,'DejaVu Sans Mono',consolas,'Courier New',monospace\">Average reward over last 5000 steps: -5.99\n",
       "</pre>\n"
      ],
      "text/plain": [
       "Average reward over last 5000 steps: -5.99\n"
      ]
     },
     "metadata": {},
     "output_type": "display_data"
    },
    {
     "data": {
      "text/html": [
       "<pre style=\"white-space:pre;overflow-x:auto;line-height:normal;font-family:Menlo,'DejaVu Sans Mono',consolas,'Courier New',monospace\">Average reward over last 5000 steps: -6.06\n",
       "</pre>\n"
      ],
      "text/plain": [
       "Average reward over last 5000 steps: -6.06\n"
      ]
     },
     "metadata": {},
     "output_type": "display_data"
    },
    {
     "data": {
      "text/html": [
       "<pre style=\"white-space:pre;overflow-x:auto;line-height:normal;font-family:Menlo,'DejaVu Sans Mono',consolas,'Courier New',monospace\">Average reward over last 5000 steps: -5.87\n",
       "</pre>\n"
      ],
      "text/plain": [
       "Average reward over last 5000 steps: -5.87\n"
      ]
     },
     "metadata": {},
     "output_type": "display_data"
    },
    {
     "data": {
      "text/html": [
       "<pre style=\"white-space:pre;overflow-x:auto;line-height:normal;font-family:Menlo,'DejaVu Sans Mono',consolas,'Courier New',monospace\">Average reward over last 5000 steps: -6.03\n",
       "</pre>\n"
      ],
      "text/plain": [
       "Average reward over last 5000 steps: -6.03\n"
      ]
     },
     "metadata": {},
     "output_type": "display_data"
    },
    {
     "data": {
      "text/html": [
       "<pre style=\"white-space:pre;overflow-x:auto;line-height:normal;font-family:Menlo,'DejaVu Sans Mono',consolas,'Courier New',monospace\">Average reward over last 5000 steps: -6.00\n",
       "</pre>\n"
      ],
      "text/plain": [
       "Average reward over last 5000 steps: -6.00\n"
      ]
     },
     "metadata": {},
     "output_type": "display_data"
    },
    {
     "data": {
      "text/html": [
       "<pre style=\"white-space:pre;overflow-x:auto;line-height:normal;font-family:Menlo,'DejaVu Sans Mono',consolas,'Courier New',monospace\">Average reward over last 5000 steps: -5.84\n",
       "</pre>\n"
      ],
      "text/plain": [
       "Average reward over last 5000 steps: -5.84\n"
      ]
     },
     "metadata": {},
     "output_type": "display_data"
    },
    {
     "data": {
      "text/html": [
       "<pre style=\"white-space:pre;overflow-x:auto;line-height:normal;font-family:Menlo,'DejaVu Sans Mono',consolas,'Courier New',monospace\">Average reward over last 5000 steps: -5.93\n",
       "</pre>\n"
      ],
      "text/plain": [
       "Average reward over last 5000 steps: -5.93\n"
      ]
     },
     "metadata": {},
     "output_type": "display_data"
    },
    {
     "data": {
      "text/html": [
       "<pre style=\"white-space:pre;overflow-x:auto;line-height:normal;font-family:Menlo,'DejaVu Sans Mono',consolas,'Courier New',monospace\">Average reward over last 5000 steps: -5.99\n",
       "</pre>\n"
      ],
      "text/plain": [
       "Average reward over last 5000 steps: -5.99\n"
      ]
     },
     "metadata": {},
     "output_type": "display_data"
    },
    {
     "data": {
      "text/html": [
       "<pre style=\"white-space:pre;overflow-x:auto;line-height:normal;font-family:Menlo,'DejaVu Sans Mono',consolas,'Courier New',monospace\">Average reward over last 5000 steps: -5.91\n",
       "</pre>\n"
      ],
      "text/plain": [
       "Average reward over last 5000 steps: -5.91\n"
      ]
     },
     "metadata": {},
     "output_type": "display_data"
    },
    {
     "data": {
      "text/html": [
       "<pre style=\"white-space:pre;overflow-x:auto;line-height:normal;font-family:Menlo,'DejaVu Sans Mono',consolas,'Courier New',monospace\">Average reward over last 5000 steps: -5.98\n",
       "</pre>\n"
      ],
      "text/plain": [
       "Average reward over last 5000 steps: -5.98\n"
      ]
     },
     "metadata": {},
     "output_type": "display_data"
    },
    {
     "data": {
      "text/html": [
       "<pre style=\"white-space:pre;overflow-x:auto;line-height:normal;font-family:Menlo,'DejaVu Sans Mono',consolas,'Courier New',monospace\">Average reward over last 5000 steps: -5.90\n",
       "</pre>\n"
      ],
      "text/plain": [
       "Average reward over last 5000 steps: -5.90\n"
      ]
     },
     "metadata": {},
     "output_type": "display_data"
    },
    {
     "data": {
      "text/html": [
       "<pre style=\"white-space:pre;overflow-x:auto;line-height:normal;font-family:Menlo,'DejaVu Sans Mono',consolas,'Courier New',monospace\">Average reward over last 5000 steps: -5.87\n",
       "</pre>\n"
      ],
      "text/plain": [
       "Average reward over last 5000 steps: -5.87\n"
      ]
     },
     "metadata": {},
     "output_type": "display_data"
    },
    {
     "data": {
      "text/html": [
       "<pre style=\"white-space:pre;overflow-x:auto;line-height:normal;font-family:Menlo,'DejaVu Sans Mono',consolas,'Courier New',monospace\">Average reward over last 5000 steps: -6.05\n",
       "</pre>\n"
      ],
      "text/plain": [
       "Average reward over last 5000 steps: -6.05\n"
      ]
     },
     "metadata": {},
     "output_type": "display_data"
    },
    {
     "data": {
      "text/html": [
       "<pre style=\"white-space:pre;overflow-x:auto;line-height:normal;font-family:Menlo,'DejaVu Sans Mono',consolas,'Courier New',monospace\">Average reward over last 5000 steps: -5.83\n",
       "</pre>\n"
      ],
      "text/plain": [
       "Average reward over last 5000 steps: -5.83\n"
      ]
     },
     "metadata": {},
     "output_type": "display_data"
    },
    {
     "data": {
      "text/html": [
       "<pre style=\"white-space:pre;overflow-x:auto;line-height:normal;font-family:Menlo,'DejaVu Sans Mono',consolas,'Courier New',monospace\">Average reward over last 5000 steps: -5.63\n",
       "</pre>\n"
      ],
      "text/plain": [
       "Average reward over last 5000 steps: -5.63\n"
      ]
     },
     "metadata": {},
     "output_type": "display_data"
    },
    {
     "data": {
      "text/html": [
       "<pre style=\"white-space:pre;overflow-x:auto;line-height:normal;font-family:Menlo,'DejaVu Sans Mono',consolas,'Courier New',monospace\">Average reward over last 5000 steps: -5.95\n",
       "</pre>\n"
      ],
      "text/plain": [
       "Average reward over last 5000 steps: -5.95\n"
      ]
     },
     "metadata": {},
     "output_type": "display_data"
    },
    {
     "data": {
      "text/html": [
       "<pre style=\"white-space:pre;overflow-x:auto;line-height:normal;font-family:Menlo,'DejaVu Sans Mono',consolas,'Courier New',monospace\">Average reward over last 5000 steps: -5.88\n",
       "</pre>\n"
      ],
      "text/plain": [
       "Average reward over last 5000 steps: -5.88\n"
      ]
     },
     "metadata": {},
     "output_type": "display_data"
    },
    {
     "data": {
      "text/html": [
       "<pre style=\"white-space:pre;overflow-x:auto;line-height:normal;font-family:Menlo,'DejaVu Sans Mono',consolas,'Courier New',monospace\">Average reward over last 5000 steps: -5.79\n",
       "</pre>\n"
      ],
      "text/plain": [
       "Average reward over last 5000 steps: -5.79\n"
      ]
     },
     "metadata": {},
     "output_type": "display_data"
    },
    {
     "data": {
      "text/html": [
       "<pre style=\"white-space:pre;overflow-x:auto;line-height:normal;font-family:Menlo,'DejaVu Sans Mono',consolas,'Courier New',monospace\">Average reward over last 5000 steps: -5.85\n",
       "</pre>\n"
      ],
      "text/plain": [
       "Average reward over last 5000 steps: -5.85\n"
      ]
     },
     "metadata": {},
     "output_type": "display_data"
    },
    {
     "data": {
      "text/html": [
       "<pre style=\"white-space:pre;overflow-x:auto;line-height:normal;font-family:Menlo,'DejaVu Sans Mono',consolas,'Courier New',monospace\">Average reward over last 5000 steps: -5.87\n",
       "</pre>\n"
      ],
      "text/plain": [
       "Average reward over last 5000 steps: -5.87\n"
      ]
     },
     "metadata": {},
     "output_type": "display_data"
    },
    {
     "data": {
      "text/html": [
       "<pre style=\"white-space:pre;overflow-x:auto;line-height:normal;font-family:Menlo,'DejaVu Sans Mono',consolas,'Courier New',monospace\">Average reward over last 5000 steps: -5.88\n",
       "</pre>\n"
      ],
      "text/plain": [
       "Average reward over last 5000 steps: -5.88\n"
      ]
     },
     "metadata": {},
     "output_type": "display_data"
    },
    {
     "data": {
      "text/html": [
       "<pre style=\"white-space:pre;overflow-x:auto;line-height:normal;font-family:Menlo,'DejaVu Sans Mono',consolas,'Courier New',monospace\">Average reward over last 5000 steps: -5.89\n",
       "</pre>\n"
      ],
      "text/plain": [
       "Average reward over last 5000 steps: -5.89\n"
      ]
     },
     "metadata": {},
     "output_type": "display_data"
    },
    {
     "data": {
      "text/html": [
       "<pre style=\"white-space:pre;overflow-x:auto;line-height:normal;font-family:Menlo,'DejaVu Sans Mono',consolas,'Courier New',monospace\">Average reward over last 5000 steps: -5.74\n",
       "</pre>\n"
      ],
      "text/plain": [
       "Average reward over last 5000 steps: -5.74\n"
      ]
     },
     "metadata": {},
     "output_type": "display_data"
    },
    {
     "data": {
      "text/html": [
       "<pre style=\"white-space:pre;overflow-x:auto;line-height:normal;font-family:Menlo,'DejaVu Sans Mono',consolas,'Courier New',monospace\">Average reward over last 5000 steps: -5.99\n",
       "</pre>\n"
      ],
      "text/plain": [
       "Average reward over last 5000 steps: -5.99\n"
      ]
     },
     "metadata": {},
     "output_type": "display_data"
    },
    {
     "data": {
      "text/html": [
       "<pre style=\"white-space:pre;overflow-x:auto;line-height:normal;font-family:Menlo,'DejaVu Sans Mono',consolas,'Courier New',monospace\">Average reward over last 5000 steps: -6.02\n",
       "</pre>\n"
      ],
      "text/plain": [
       "Average reward over last 5000 steps: -6.02\n"
      ]
     },
     "metadata": {},
     "output_type": "display_data"
    },
    {
     "data": {
      "text/html": [
       "<pre style=\"white-space:pre;overflow-x:auto;line-height:normal;font-family:Menlo,'DejaVu Sans Mono',consolas,'Courier New',monospace\">Average reward over last 5000 steps: -5.91\n",
       "</pre>\n"
      ],
      "text/plain": [
       "Average reward over last 5000 steps: -5.91\n"
      ]
     },
     "metadata": {},
     "output_type": "display_data"
    },
    {
     "data": {
      "text/html": [
       "<pre style=\"white-space:pre;overflow-x:auto;line-height:normal;font-family:Menlo,'DejaVu Sans Mono',consolas,'Courier New',monospace\">Average reward over last 5000 steps: -5.87\n",
       "</pre>\n"
      ],
      "text/plain": [
       "Average reward over last 5000 steps: -5.87\n"
      ]
     },
     "metadata": {},
     "output_type": "display_data"
    },
    {
     "data": {
      "text/html": [
       "<pre style=\"white-space:pre;overflow-x:auto;line-height:normal;font-family:Menlo,'DejaVu Sans Mono',consolas,'Courier New',monospace\">Average reward over last 5000 steps: -5.85\n",
       "</pre>\n"
      ],
      "text/plain": [
       "Average reward over last 5000 steps: -5.85\n"
      ]
     },
     "metadata": {},
     "output_type": "display_data"
    },
    {
     "data": {
      "text/html": [
       "<pre style=\"white-space:pre;overflow-x:auto;line-height:normal;font-family:Menlo,'DejaVu Sans Mono',consolas,'Courier New',monospace\">Average reward over last 5000 steps: -5.84\n",
       "</pre>\n"
      ],
      "text/plain": [
       "Average reward over last 5000 steps: -5.84\n"
      ]
     },
     "metadata": {},
     "output_type": "display_data"
    },
    {
     "data": {
      "text/html": [
       "<pre style=\"white-space:pre;overflow-x:auto;line-height:normal;font-family:Menlo,'DejaVu Sans Mono',consolas,'Courier New',monospace\">Average reward over last 5000 steps: -5.79\n",
       "</pre>\n"
      ],
      "text/plain": [
       "Average reward over last 5000 steps: -5.79\n"
      ]
     },
     "metadata": {},
     "output_type": "display_data"
    },
    {
     "data": {
      "text/html": [
       "<pre style=\"white-space:pre;overflow-x:auto;line-height:normal;font-family:Menlo,'DejaVu Sans Mono',consolas,'Courier New',monospace\">Average reward over last 5000 steps: -5.85\n",
       "</pre>\n"
      ],
      "text/plain": [
       "Average reward over last 5000 steps: -5.85\n"
      ]
     },
     "metadata": {},
     "output_type": "display_data"
    },
    {
     "data": {
      "text/html": [
       "<pre style=\"white-space:pre;overflow-x:auto;line-height:normal;font-family:Menlo,'DejaVu Sans Mono',consolas,'Courier New',monospace\">Average reward over last 5000 steps: -5.88\n",
       "</pre>\n"
      ],
      "text/plain": [
       "Average reward over last 5000 steps: -5.88\n"
      ]
     },
     "metadata": {},
     "output_type": "display_data"
    },
    {
     "data": {
      "text/html": [
       "<pre style=\"white-space:pre;overflow-x:auto;line-height:normal;font-family:Menlo,'DejaVu Sans Mono',consolas,'Courier New',monospace\">Average reward over last 5000 steps: -5.72\n",
       "</pre>\n"
      ],
      "text/plain": [
       "Average reward over last 5000 steps: -5.72\n"
      ]
     },
     "metadata": {},
     "output_type": "display_data"
    },
    {
     "data": {
      "text/html": [
       "<pre style=\"white-space:pre;overflow-x:auto;line-height:normal;font-family:Menlo,'DejaVu Sans Mono',consolas,'Courier New',monospace\">Average reward over last 5000 steps: -5.84\n",
       "</pre>\n"
      ],
      "text/plain": [
       "Average reward over last 5000 steps: -5.84\n"
      ]
     },
     "metadata": {},
     "output_type": "display_data"
    },
    {
     "data": {
      "text/html": [
       "<pre style=\"white-space:pre;overflow-x:auto;line-height:normal;font-family:Menlo,'DejaVu Sans Mono',consolas,'Courier New',monospace\">Average reward over last 5000 steps: -5.83\n",
       "</pre>\n"
      ],
      "text/plain": [
       "Average reward over last 5000 steps: -5.83\n"
      ]
     },
     "metadata": {},
     "output_type": "display_data"
    },
    {
     "data": {
      "text/html": [
       "<pre style=\"white-space:pre;overflow-x:auto;line-height:normal;font-family:Menlo,'DejaVu Sans Mono',consolas,'Courier New',monospace\">Average reward over last 5000 steps: -5.84\n",
       "</pre>\n"
      ],
      "text/plain": [
       "Average reward over last 5000 steps: -5.84\n"
      ]
     },
     "metadata": {},
     "output_type": "display_data"
    },
    {
     "data": {
      "text/html": [
       "<pre style=\"white-space:pre;overflow-x:auto;line-height:normal;font-family:Menlo,'DejaVu Sans Mono',consolas,'Courier New',monospace\">Average reward over last 5000 steps: -6.01\n",
       "</pre>\n"
      ],
      "text/plain": [
       "Average reward over last 5000 steps: -6.01\n"
      ]
     },
     "metadata": {},
     "output_type": "display_data"
    },
    {
     "data": {
      "text/html": [
       "<pre style=\"white-space:pre;overflow-x:auto;line-height:normal;font-family:Menlo,'DejaVu Sans Mono',consolas,'Courier New',monospace\">Average reward over last 5000 steps: -5.82\n",
       "</pre>\n"
      ],
      "text/plain": [
       "Average reward over last 5000 steps: -5.82\n"
      ]
     },
     "metadata": {},
     "output_type": "display_data"
    },
    {
     "data": {
      "text/html": [
       "<pre style=\"white-space:pre;overflow-x:auto;line-height:normal;font-family:Menlo,'DejaVu Sans Mono',consolas,'Courier New',monospace\">Average reward over last 5000 steps: -5.66\n",
       "</pre>\n"
      ],
      "text/plain": [
       "Average reward over last 5000 steps: -5.66\n"
      ]
     },
     "metadata": {},
     "output_type": "display_data"
    },
    {
     "data": {
      "text/html": [
       "<pre style=\"white-space:pre;overflow-x:auto;line-height:normal;font-family:Menlo,'DejaVu Sans Mono',consolas,'Courier New',monospace\">Average reward over last 5000 steps: -5.73\n",
       "</pre>\n"
      ],
      "text/plain": [
       "Average reward over last 5000 steps: -5.73\n"
      ]
     },
     "metadata": {},
     "output_type": "display_data"
    },
    {
     "data": {
      "text/html": [
       "<pre style=\"white-space:pre;overflow-x:auto;line-height:normal;font-family:Menlo,'DejaVu Sans Mono',consolas,'Courier New',monospace\">Average reward over last 5000 steps: -5.83\n",
       "</pre>\n"
      ],
      "text/plain": [
       "Average reward over last 5000 steps: -5.83\n"
      ]
     },
     "metadata": {},
     "output_type": "display_data"
    },
    {
     "data": {
      "text/html": [
       "<pre style=\"white-space:pre;overflow-x:auto;line-height:normal;font-family:Menlo,'DejaVu Sans Mono',consolas,'Courier New',monospace\">Average reward over last 5000 steps: -5.88\n",
       "</pre>\n"
      ],
      "text/plain": [
       "Average reward over last 5000 steps: -5.88\n"
      ]
     },
     "metadata": {},
     "output_type": "display_data"
    },
    {
     "data": {
      "text/html": [
       "<pre style=\"white-space:pre;overflow-x:auto;line-height:normal;font-family:Menlo,'DejaVu Sans Mono',consolas,'Courier New',monospace\">Average reward over last 5000 steps: -5.78\n",
       "</pre>\n"
      ],
      "text/plain": [
       "Average reward over last 5000 steps: -5.78\n"
      ]
     },
     "metadata": {},
     "output_type": "display_data"
    },
    {
     "data": {
      "text/html": [
       "<pre style=\"white-space:pre;overflow-x:auto;line-height:normal;font-family:Menlo,'DejaVu Sans Mono',consolas,'Courier New',monospace\">Average reward over last 5000 steps: -5.87\n",
       "</pre>\n"
      ],
      "text/plain": [
       "Average reward over last 5000 steps: -5.87\n"
      ]
     },
     "metadata": {},
     "output_type": "display_data"
    },
    {
     "data": {
      "text/html": [
       "<pre style=\"white-space:pre;overflow-x:auto;line-height:normal;font-family:Menlo,'DejaVu Sans Mono',consolas,'Courier New',monospace\">Average reward over last 5000 steps: -5.78\n",
       "</pre>\n"
      ],
      "text/plain": [
       "Average reward over last 5000 steps: -5.78\n"
      ]
     },
     "metadata": {},
     "output_type": "display_data"
    },
    {
     "data": {
      "text/html": [
       "<pre style=\"white-space:pre;overflow-x:auto;line-height:normal;font-family:Menlo,'DejaVu Sans Mono',consolas,'Courier New',monospace\">Average reward over last 5000 steps: -5.83\n",
       "</pre>\n"
      ],
      "text/plain": [
       "Average reward over last 5000 steps: -5.83\n"
      ]
     },
     "metadata": {},
     "output_type": "display_data"
    },
    {
     "data": {
      "text/html": [
       "<pre style=\"white-space:pre;overflow-x:auto;line-height:normal;font-family:Menlo,'DejaVu Sans Mono',consolas,'Courier New',monospace\">Average reward over last 5000 steps: -5.79\n",
       "</pre>\n"
      ],
      "text/plain": [
       "Average reward over last 5000 steps: -5.79\n"
      ]
     },
     "metadata": {},
     "output_type": "display_data"
    },
    {
     "data": {
      "text/html": [
       "<pre style=\"white-space:pre;overflow-x:auto;line-height:normal;font-family:Menlo,'DejaVu Sans Mono',consolas,'Courier New',monospace\">Average reward over last 5000 steps: -5.83\n",
       "</pre>\n"
      ],
      "text/plain": [
       "Average reward over last 5000 steps: -5.83\n"
      ]
     },
     "metadata": {},
     "output_type": "display_data"
    },
    {
     "data": {
      "text/html": [
       "<pre style=\"white-space:pre;overflow-x:auto;line-height:normal;font-family:Menlo,'DejaVu Sans Mono',consolas,'Courier New',monospace\">Average reward over last 5000 steps: -5.76\n",
       "</pre>\n"
      ],
      "text/plain": [
       "Average reward over last 5000 steps: -5.76\n"
      ]
     },
     "metadata": {},
     "output_type": "display_data"
    },
    {
     "data": {
      "text/html": [
       "<pre style=\"white-space:pre;overflow-x:auto;line-height:normal;font-family:Menlo,'DejaVu Sans Mono',consolas,'Courier New',monospace\">Average reward over last 5000 steps: -5.75\n",
       "</pre>\n"
      ],
      "text/plain": [
       "Average reward over last 5000 steps: -5.75\n"
      ]
     },
     "metadata": {},
     "output_type": "display_data"
    },
    {
     "data": {
      "text/html": [
       "<pre style=\"white-space:pre;overflow-x:auto;line-height:normal;font-family:Menlo,'DejaVu Sans Mono',consolas,'Courier New',monospace\">Average reward over last 5000 steps: -5.80\n",
       "</pre>\n"
      ],
      "text/plain": [
       "Average reward over last 5000 steps: -5.80\n"
      ]
     },
     "metadata": {},
     "output_type": "display_data"
    },
    {
     "data": {
      "text/html": [
       "<pre style=\"white-space:pre;overflow-x:auto;line-height:normal;font-family:Menlo,'DejaVu Sans Mono',consolas,'Courier New',monospace\">Average reward over last 5000 steps: -5.70\n",
       "</pre>\n"
      ],
      "text/plain": [
       "Average reward over last 5000 steps: -5.70\n"
      ]
     },
     "metadata": {},
     "output_type": "display_data"
    },
    {
     "data": {
      "text/html": [
       "<pre style=\"white-space:pre;overflow-x:auto;line-height:normal;font-family:Menlo,'DejaVu Sans Mono',consolas,'Courier New',monospace\">Average reward over last 5000 steps: -5.84\n",
       "</pre>\n"
      ],
      "text/plain": [
       "Average reward over last 5000 steps: -5.84\n"
      ]
     },
     "metadata": {},
     "output_type": "display_data"
    },
    {
     "data": {
      "text/html": [
       "<pre style=\"white-space:pre;overflow-x:auto;line-height:normal;font-family:Menlo,'DejaVu Sans Mono',consolas,'Courier New',monospace\">Average reward over last 5000 steps: -5.67\n",
       "</pre>\n"
      ],
      "text/plain": [
       "Average reward over last 5000 steps: -5.67\n"
      ]
     },
     "metadata": {},
     "output_type": "display_data"
    },
    {
     "data": {
      "text/html": [
       "<pre style=\"white-space:pre;overflow-x:auto;line-height:normal;font-family:Menlo,'DejaVu Sans Mono',consolas,'Courier New',monospace\">Average reward over last 5000 steps: -5.79\n",
       "</pre>\n"
      ],
      "text/plain": [
       "Average reward over last 5000 steps: -5.79\n"
      ]
     },
     "metadata": {},
     "output_type": "display_data"
    },
    {
     "data": {
      "text/html": [
       "<pre style=\"white-space:pre;overflow-x:auto;line-height:normal;font-family:Menlo,'DejaVu Sans Mono',consolas,'Courier New',monospace\">Average reward over last 5000 steps: -5.64\n",
       "</pre>\n"
      ],
      "text/plain": [
       "Average reward over last 5000 steps: -5.64\n"
      ]
     },
     "metadata": {},
     "output_type": "display_data"
    },
    {
     "data": {
      "text/html": [
       "<pre style=\"white-space:pre;overflow-x:auto;line-height:normal;font-family:Menlo,'DejaVu Sans Mono',consolas,'Courier New',monospace\">Average reward over last 5000 steps: -5.71\n",
       "</pre>\n"
      ],
      "text/plain": [
       "Average reward over last 5000 steps: -5.71\n"
      ]
     },
     "metadata": {},
     "output_type": "display_data"
    },
    {
     "data": {
      "text/html": [
       "<pre style=\"white-space:pre;overflow-x:auto;line-height:normal;font-family:Menlo,'DejaVu Sans Mono',consolas,'Courier New',monospace\">Average reward over last 5000 steps: -5.89\n",
       "</pre>\n"
      ],
      "text/plain": [
       "Average reward over last 5000 steps: -5.89\n"
      ]
     },
     "metadata": {},
     "output_type": "display_data"
    },
    {
     "data": {
      "text/html": [
       "<pre style=\"white-space:pre;overflow-x:auto;line-height:normal;font-family:Menlo,'DejaVu Sans Mono',consolas,'Courier New',monospace\">Average reward over last 5000 steps: -5.62\n",
       "</pre>\n"
      ],
      "text/plain": [
       "Average reward over last 5000 steps: -5.62\n"
      ]
     },
     "metadata": {},
     "output_type": "display_data"
    },
    {
     "data": {
      "text/html": [
       "<pre style=\"white-space:pre;overflow-x:auto;line-height:normal;font-family:Menlo,'DejaVu Sans Mono',consolas,'Courier New',monospace\">Average reward over last 5000 steps: -5.77\n",
       "</pre>\n"
      ],
      "text/plain": [
       "Average reward over last 5000 steps: -5.77\n"
      ]
     },
     "metadata": {},
     "output_type": "display_data"
    },
    {
     "data": {
      "text/html": [
       "<pre style=\"white-space:pre;overflow-x:auto;line-height:normal;font-family:Menlo,'DejaVu Sans Mono',consolas,'Courier New',monospace\">Average reward over last 5000 steps: -5.59\n",
       "</pre>\n"
      ],
      "text/plain": [
       "Average reward over last 5000 steps: -5.59\n"
      ]
     },
     "metadata": {},
     "output_type": "display_data"
    },
    {
     "data": {
      "text/html": [
       "<pre style=\"white-space:pre;overflow-x:auto;line-height:normal;font-family:Menlo,'DejaVu Sans Mono',consolas,'Courier New',monospace\">Average reward over last 5000 steps: -5.63\n",
       "</pre>\n"
      ],
      "text/plain": [
       "Average reward over last 5000 steps: -5.63\n"
      ]
     },
     "metadata": {},
     "output_type": "display_data"
    },
    {
     "data": {
      "text/html": [
       "<pre style=\"white-space:pre;overflow-x:auto;line-height:normal;font-family:Menlo,'DejaVu Sans Mono',consolas,'Courier New',monospace\">Average reward over last 5000 steps: -5.61\n",
       "</pre>\n"
      ],
      "text/plain": [
       "Average reward over last 5000 steps: -5.61\n"
      ]
     },
     "metadata": {},
     "output_type": "display_data"
    },
    {
     "data": {
      "text/html": [
       "<pre style=\"white-space:pre;overflow-x:auto;line-height:normal;font-family:Menlo,'DejaVu Sans Mono',consolas,'Courier New',monospace\">Average reward over last 5000 steps: -5.60\n",
       "</pre>\n"
      ],
      "text/plain": [
       "Average reward over last 5000 steps: -5.60\n"
      ]
     },
     "metadata": {},
     "output_type": "display_data"
    },
    {
     "data": {
      "text/html": [
       "<pre style=\"white-space:pre;overflow-x:auto;line-height:normal;font-family:Menlo,'DejaVu Sans Mono',consolas,'Courier New',monospace\">Average reward over last 5000 steps: -5.49\n",
       "</pre>\n"
      ],
      "text/plain": [
       "Average reward over last 5000 steps: -5.49\n"
      ]
     },
     "metadata": {},
     "output_type": "display_data"
    },
    {
     "data": {
      "text/html": [
       "<pre style=\"white-space:pre;overflow-x:auto;line-height:normal;font-family:Menlo,'DejaVu Sans Mono',consolas,'Courier New',monospace\">Average reward over last 5000 steps: -5.70\n",
       "</pre>\n"
      ],
      "text/plain": [
       "Average reward over last 5000 steps: -5.70\n"
      ]
     },
     "metadata": {},
     "output_type": "display_data"
    },
    {
     "data": {
      "text/html": [
       "<pre style=\"white-space:pre;overflow-x:auto;line-height:normal;font-family:Menlo,'DejaVu Sans Mono',consolas,'Courier New',monospace\">Average reward over last 5000 steps: -5.57\n",
       "</pre>\n"
      ],
      "text/plain": [
       "Average reward over last 5000 steps: -5.57\n"
      ]
     },
     "metadata": {},
     "output_type": "display_data"
    },
    {
     "data": {
      "text/html": [
       "<pre style=\"white-space:pre;overflow-x:auto;line-height:normal;font-family:Menlo,'DejaVu Sans Mono',consolas,'Courier New',monospace\">Average reward over last 5000 steps: -5.71\n",
       "</pre>\n"
      ],
      "text/plain": [
       "Average reward over last 5000 steps: -5.71\n"
      ]
     },
     "metadata": {},
     "output_type": "display_data"
    },
    {
     "data": {
      "text/html": [
       "<pre style=\"white-space:pre;overflow-x:auto;line-height:normal;font-family:Menlo,'DejaVu Sans Mono',consolas,'Courier New',monospace\">Average reward over last 5000 steps: -5.50\n",
       "</pre>\n"
      ],
      "text/plain": [
       "Average reward over last 5000 steps: -5.50\n"
      ]
     },
     "metadata": {},
     "output_type": "display_data"
    },
    {
     "data": {
      "text/html": [
       "<pre style=\"white-space:pre;overflow-x:auto;line-height:normal;font-family:Menlo,'DejaVu Sans Mono',consolas,'Courier New',monospace\">Average reward over last 5000 steps: -5.45\n",
       "</pre>\n"
      ],
      "text/plain": [
       "Average reward over last 5000 steps: -5.45\n"
      ]
     },
     "metadata": {},
     "output_type": "display_data"
    },
    {
     "data": {
      "text/html": [
       "<pre style=\"white-space:pre;overflow-x:auto;line-height:normal;font-family:Menlo,'DejaVu Sans Mono',consolas,'Courier New',monospace\">Average reward over last 5000 steps: -5.44\n",
       "</pre>\n"
      ],
      "text/plain": [
       "Average reward over last 5000 steps: -5.44\n"
      ]
     },
     "metadata": {},
     "output_type": "display_data"
    },
    {
     "data": {
      "text/html": [
       "<pre style=\"white-space:pre;overflow-x:auto;line-height:normal;font-family:Menlo,'DejaVu Sans Mono',consolas,'Courier New',monospace\">Average reward over last 5000 steps: -5.51\n",
       "</pre>\n"
      ],
      "text/plain": [
       "Average reward over last 5000 steps: -5.51\n"
      ]
     },
     "metadata": {},
     "output_type": "display_data"
    },
    {
     "data": {
      "text/html": [
       "<pre style=\"white-space:pre;overflow-x:auto;line-height:normal;font-family:Menlo,'DejaVu Sans Mono',consolas,'Courier New',monospace\">Average reward over last 5000 steps: -5.77\n",
       "</pre>\n"
      ],
      "text/plain": [
       "Average reward over last 5000 steps: -5.77\n"
      ]
     },
     "metadata": {},
     "output_type": "display_data"
    },
    {
     "data": {
      "text/html": [
       "<pre style=\"white-space:pre;overflow-x:auto;line-height:normal;font-family:Menlo,'DejaVu Sans Mono',consolas,'Courier New',monospace\">Average reward over last 5000 steps: -5.48\n",
       "</pre>\n"
      ],
      "text/plain": [
       "Average reward over last 5000 steps: -5.48\n"
      ]
     },
     "metadata": {},
     "output_type": "display_data"
    },
    {
     "data": {
      "text/html": [
       "<pre style=\"white-space:pre;overflow-x:auto;line-height:normal;font-family:Menlo,'DejaVu Sans Mono',consolas,'Courier New',monospace\">Average reward over last 5000 steps: -5.52\n",
       "</pre>\n"
      ],
      "text/plain": [
       "Average reward over last 5000 steps: -5.52\n"
      ]
     },
     "metadata": {},
     "output_type": "display_data"
    },
    {
     "data": {
      "text/html": [
       "<pre style=\"white-space:pre;overflow-x:auto;line-height:normal;font-family:Menlo,'DejaVu Sans Mono',consolas,'Courier New',monospace\">Average reward over last 5000 steps: -5.48\n",
       "</pre>\n"
      ],
      "text/plain": [
       "Average reward over last 5000 steps: -5.48\n"
      ]
     },
     "metadata": {},
     "output_type": "display_data"
    },
    {
     "data": {
      "text/html": [
       "<pre style=\"white-space:pre;overflow-x:auto;line-height:normal;font-family:Menlo,'DejaVu Sans Mono',consolas,'Courier New',monospace\">Average reward over last 5000 steps: -5.35\n",
       "</pre>\n"
      ],
      "text/plain": [
       "Average reward over last 5000 steps: -5.35\n"
      ]
     },
     "metadata": {},
     "output_type": "display_data"
    },
    {
     "data": {
      "text/html": [
       "<pre style=\"white-space:pre;overflow-x:auto;line-height:normal;font-family:Menlo,'DejaVu Sans Mono',consolas,'Courier New',monospace\">Average reward over last 5000 steps: -5.41\n",
       "</pre>\n"
      ],
      "text/plain": [
       "Average reward over last 5000 steps: -5.41\n"
      ]
     },
     "metadata": {},
     "output_type": "display_data"
    },
    {
     "data": {
      "text/html": [
       "<pre style=\"white-space:pre;overflow-x:auto;line-height:normal;font-family:Menlo,'DejaVu Sans Mono',consolas,'Courier New',monospace\">Average reward over last 5000 steps: -5.44\n",
       "</pre>\n"
      ],
      "text/plain": [
       "Average reward over last 5000 steps: -5.44\n"
      ]
     },
     "metadata": {},
     "output_type": "display_data"
    },
    {
     "data": {
      "text/html": [
       "<pre style=\"white-space:pre;overflow-x:auto;line-height:normal;font-family:Menlo,'DejaVu Sans Mono',consolas,'Courier New',monospace\">Average reward over last 5000 steps: -5.45\n",
       "</pre>\n"
      ],
      "text/plain": [
       "Average reward over last 5000 steps: -5.45\n"
      ]
     },
     "metadata": {},
     "output_type": "display_data"
    },
    {
     "data": {
      "text/html": [
       "<pre style=\"white-space:pre;overflow-x:auto;line-height:normal;font-family:Menlo,'DejaVu Sans Mono',consolas,'Courier New',monospace\">Average reward over last 5000 steps: -5.49\n",
       "</pre>\n"
      ],
      "text/plain": [
       "Average reward over last 5000 steps: -5.49\n"
      ]
     },
     "metadata": {},
     "output_type": "display_data"
    },
    {
     "data": {
      "text/html": [
       "<pre style=\"white-space:pre;overflow-x:auto;line-height:normal;font-family:Menlo,'DejaVu Sans Mono',consolas,'Courier New',monospace\">Average reward over last 5000 steps: -5.46\n",
       "</pre>\n"
      ],
      "text/plain": [
       "Average reward over last 5000 steps: -5.46\n"
      ]
     },
     "metadata": {},
     "output_type": "display_data"
    },
    {
     "data": {
      "text/html": [
       "<pre style=\"white-space:pre;overflow-x:auto;line-height:normal;font-family:Menlo,'DejaVu Sans Mono',consolas,'Courier New',monospace\">Average reward over last 5000 steps: -5.26\n",
       "</pre>\n"
      ],
      "text/plain": [
       "Average reward over last 5000 steps: -5.26\n"
      ]
     },
     "metadata": {},
     "output_type": "display_data"
    },
    {
     "data": {
      "text/html": [
       "<pre style=\"white-space:pre;overflow-x:auto;line-height:normal;font-family:Menlo,'DejaVu Sans Mono',consolas,'Courier New',monospace\">Average reward over last 5000 steps: -5.40\n",
       "</pre>\n"
      ],
      "text/plain": [
       "Average reward over last 5000 steps: -5.40\n"
      ]
     },
     "metadata": {},
     "output_type": "display_data"
    },
    {
     "data": {
      "text/html": [
       "<pre style=\"white-space:pre;overflow-x:auto;line-height:normal;font-family:Menlo,'DejaVu Sans Mono',consolas,'Courier New',monospace\">Average reward over last 5000 steps: -5.21\n",
       "</pre>\n"
      ],
      "text/plain": [
       "Average reward over last 5000 steps: -5.21\n"
      ]
     },
     "metadata": {},
     "output_type": "display_data"
    },
    {
     "data": {
      "text/html": [
       "<pre style=\"white-space:pre;overflow-x:auto;line-height:normal;font-family:Menlo,'DejaVu Sans Mono',consolas,'Courier New',monospace\">Average reward over last 5000 steps: -5.28\n",
       "</pre>\n"
      ],
      "text/plain": [
       "Average reward over last 5000 steps: -5.28\n"
      ]
     },
     "metadata": {},
     "output_type": "display_data"
    },
    {
     "data": {
      "text/html": [
       "<pre style=\"white-space:pre;overflow-x:auto;line-height:normal;font-family:Menlo,'DejaVu Sans Mono',consolas,'Courier New',monospace\">Average reward over last 5000 steps: -5.12\n",
       "</pre>\n"
      ],
      "text/plain": [
       "Average reward over last 5000 steps: -5.12\n"
      ]
     },
     "metadata": {},
     "output_type": "display_data"
    },
    {
     "data": {
      "text/html": [
       "<pre style=\"white-space:pre;overflow-x:auto;line-height:normal;font-family:Menlo,'DejaVu Sans Mono',consolas,'Courier New',monospace\">Average reward over last 5000 steps: -5.36\n",
       "</pre>\n"
      ],
      "text/plain": [
       "Average reward over last 5000 steps: -5.36\n"
      ]
     },
     "metadata": {},
     "output_type": "display_data"
    },
    {
     "data": {
      "text/html": [
       "<pre style=\"white-space:pre;overflow-x:auto;line-height:normal;font-family:Menlo,'DejaVu Sans Mono',consolas,'Courier New',monospace\">Average reward over last 5000 steps: -5.21\n",
       "</pre>\n"
      ],
      "text/plain": [
       "Average reward over last 5000 steps: -5.21\n"
      ]
     },
     "metadata": {},
     "output_type": "display_data"
    },
    {
     "data": {
      "text/html": [
       "<pre style=\"white-space:pre;overflow-x:auto;line-height:normal;font-family:Menlo,'DejaVu Sans Mono',consolas,'Courier New',monospace\">Average reward over last 5000 steps: -5.30\n",
       "</pre>\n"
      ],
      "text/plain": [
       "Average reward over last 5000 steps: -5.30\n"
      ]
     },
     "metadata": {},
     "output_type": "display_data"
    },
    {
     "data": {
      "text/html": [
       "<pre style=\"white-space:pre;overflow-x:auto;line-height:normal;font-family:Menlo,'DejaVu Sans Mono',consolas,'Courier New',monospace\">Average reward over last 5000 steps: -5.25\n",
       "</pre>\n"
      ],
      "text/plain": [
       "Average reward over last 5000 steps: -5.25\n"
      ]
     },
     "metadata": {},
     "output_type": "display_data"
    },
    {
     "data": {
      "text/html": [
       "<pre style=\"white-space:pre;overflow-x:auto;line-height:normal;font-family:Menlo,'DejaVu Sans Mono',consolas,'Courier New',monospace\">Average reward over last 5000 steps: -5.36\n",
       "</pre>\n"
      ],
      "text/plain": [
       "Average reward over last 5000 steps: -5.36\n"
      ]
     },
     "metadata": {},
     "output_type": "display_data"
    },
    {
     "data": {
      "text/html": [
       "<pre style=\"white-space:pre;overflow-x:auto;line-height:normal;font-family:Menlo,'DejaVu Sans Mono',consolas,'Courier New',monospace\">Average reward over last 5000 steps: -5.24\n",
       "</pre>\n"
      ],
      "text/plain": [
       "Average reward over last 5000 steps: -5.24\n"
      ]
     },
     "metadata": {},
     "output_type": "display_data"
    },
    {
     "data": {
      "text/html": [
       "<pre style=\"white-space:pre;overflow-x:auto;line-height:normal;font-family:Menlo,'DejaVu Sans Mono',consolas,'Courier New',monospace\">Average reward over last 5000 steps: -5.20\n",
       "</pre>\n"
      ],
      "text/plain": [
       "Average reward over last 5000 steps: -5.20\n"
      ]
     },
     "metadata": {},
     "output_type": "display_data"
    },
    {
     "data": {
      "text/html": [
       "<pre style=\"white-space:pre;overflow-x:auto;line-height:normal;font-family:Menlo,'DejaVu Sans Mono',consolas,'Courier New',monospace\">Average reward over last 5000 steps: -5.39\n",
       "</pre>\n"
      ],
      "text/plain": [
       "Average reward over last 5000 steps: -5.39\n"
      ]
     },
     "metadata": {},
     "output_type": "display_data"
    },
    {
     "data": {
      "text/html": [
       "<pre style=\"white-space:pre;overflow-x:auto;line-height:normal;font-family:Menlo,'DejaVu Sans Mono',consolas,'Courier New',monospace\">Average reward over last 5000 steps: -5.33\n",
       "</pre>\n"
      ],
      "text/plain": [
       "Average reward over last 5000 steps: -5.33\n"
      ]
     },
     "metadata": {},
     "output_type": "display_data"
    },
    {
     "data": {
      "text/html": [
       "<pre style=\"white-space:pre;overflow-x:auto;line-height:normal;font-family:Menlo,'DejaVu Sans Mono',consolas,'Courier New',monospace\">Average reward over last 5000 steps: -5.20\n",
       "</pre>\n"
      ],
      "text/plain": [
       "Average reward over last 5000 steps: -5.20\n"
      ]
     },
     "metadata": {},
     "output_type": "display_data"
    },
    {
     "data": {
      "text/html": [
       "<pre style=\"white-space:pre;overflow-x:auto;line-height:normal;font-family:Menlo,'DejaVu Sans Mono',consolas,'Courier New',monospace\">Average reward over last 5000 steps: -5.27\n",
       "</pre>\n"
      ],
      "text/plain": [
       "Average reward over last 5000 steps: -5.27\n"
      ]
     },
     "metadata": {},
     "output_type": "display_data"
    },
    {
     "data": {
      "text/html": [
       "<pre style=\"white-space:pre;overflow-x:auto;line-height:normal;font-family:Menlo,'DejaVu Sans Mono',consolas,'Courier New',monospace\">Average reward over last 5000 steps: -5.36\n",
       "</pre>\n"
      ],
      "text/plain": [
       "Average reward over last 5000 steps: -5.36\n"
      ]
     },
     "metadata": {},
     "output_type": "display_data"
    },
    {
     "data": {
      "text/html": [
       "<pre style=\"white-space:pre;overflow-x:auto;line-height:normal;font-family:Menlo,'DejaVu Sans Mono',consolas,'Courier New',monospace\">Average reward over last 5000 steps: -5.18\n",
       "</pre>\n"
      ],
      "text/plain": [
       "Average reward over last 5000 steps: -5.18\n"
      ]
     },
     "metadata": {},
     "output_type": "display_data"
    },
    {
     "data": {
      "text/html": [
       "<pre style=\"white-space:pre;overflow-x:auto;line-height:normal;font-family:Menlo,'DejaVu Sans Mono',consolas,'Courier New',monospace\">Average reward over last 5000 steps: -5.21\n",
       "</pre>\n"
      ],
      "text/plain": [
       "Average reward over last 5000 steps: -5.21\n"
      ]
     },
     "metadata": {},
     "output_type": "display_data"
    },
    {
     "data": {
      "text/html": [
       "<pre style=\"white-space:pre;overflow-x:auto;line-height:normal;font-family:Menlo,'DejaVu Sans Mono',consolas,'Courier New',monospace\">Average reward over last 5000 steps: -5.24\n",
       "</pre>\n"
      ],
      "text/plain": [
       "Average reward over last 5000 steps: -5.24\n"
      ]
     },
     "metadata": {},
     "output_type": "display_data"
    },
    {
     "data": {
      "text/html": [
       "<pre style=\"white-space:pre;overflow-x:auto;line-height:normal;font-family:Menlo,'DejaVu Sans Mono',consolas,'Courier New',monospace\">Average reward over last 5000 steps: -5.32\n",
       "</pre>\n"
      ],
      "text/plain": [
       "Average reward over last 5000 steps: -5.32\n"
      ]
     },
     "metadata": {},
     "output_type": "display_data"
    },
    {
     "data": {
      "text/html": [
       "<pre style=\"white-space:pre;overflow-x:auto;line-height:normal;font-family:Menlo,'DejaVu Sans Mono',consolas,'Courier New',monospace\">Average reward over last 5000 steps: -5.10\n",
       "</pre>\n"
      ],
      "text/plain": [
       "Average reward over last 5000 steps: -5.10\n"
      ]
     },
     "metadata": {},
     "output_type": "display_data"
    },
    {
     "data": {
      "text/html": [
       "<pre style=\"white-space:pre;overflow-x:auto;line-height:normal;font-family:Menlo,'DejaVu Sans Mono',consolas,'Courier New',monospace\">Average reward over last 5000 steps: -5.12\n",
       "</pre>\n"
      ],
      "text/plain": [
       "Average reward over last 5000 steps: -5.12\n"
      ]
     },
     "metadata": {},
     "output_type": "display_data"
    },
    {
     "data": {
      "text/html": [
       "<pre style=\"white-space:pre;overflow-x:auto;line-height:normal;font-family:Menlo,'DejaVu Sans Mono',consolas,'Courier New',monospace\">Average reward over last 5000 steps: -5.17\n",
       "</pre>\n"
      ],
      "text/plain": [
       "Average reward over last 5000 steps: -5.17\n"
      ]
     },
     "metadata": {},
     "output_type": "display_data"
    },
    {
     "data": {
      "text/html": [
       "<pre style=\"white-space:pre;overflow-x:auto;line-height:normal;font-family:Menlo,'DejaVu Sans Mono',consolas,'Courier New',monospace\">Average reward over last 5000 steps: -5.15\n",
       "</pre>\n"
      ],
      "text/plain": [
       "Average reward over last 5000 steps: -5.15\n"
      ]
     },
     "metadata": {},
     "output_type": "display_data"
    },
    {
     "data": {
      "text/html": [
       "<pre style=\"white-space:pre;overflow-x:auto;line-height:normal;font-family:Menlo,'DejaVu Sans Mono',consolas,'Courier New',monospace\">Average reward over last 5000 steps: -5.14\n",
       "</pre>\n"
      ],
      "text/plain": [
       "Average reward over last 5000 steps: -5.14\n"
      ]
     },
     "metadata": {},
     "output_type": "display_data"
    },
    {
     "data": {
      "text/html": [
       "<pre style=\"white-space:pre;overflow-x:auto;line-height:normal;font-family:Menlo,'DejaVu Sans Mono',consolas,'Courier New',monospace\">Average reward over last 5000 steps: -5.17\n",
       "</pre>\n"
      ],
      "text/plain": [
       "Average reward over last 5000 steps: -5.17\n"
      ]
     },
     "metadata": {},
     "output_type": "display_data"
    },
    {
     "data": {
      "text/html": [
       "<pre style=\"white-space:pre;overflow-x:auto;line-height:normal;font-family:Menlo,'DejaVu Sans Mono',consolas,'Courier New',monospace\">Average reward over last 5000 steps: -5.09\n",
       "</pre>\n"
      ],
      "text/plain": [
       "Average reward over last 5000 steps: -5.09\n"
      ]
     },
     "metadata": {},
     "output_type": "display_data"
    },
    {
     "data": {
      "text/html": [
       "<pre style=\"white-space:pre;overflow-x:auto;line-height:normal;font-family:Menlo,'DejaVu Sans Mono',consolas,'Courier New',monospace\">Average reward over last 5000 steps: -5.12\n",
       "</pre>\n"
      ],
      "text/plain": [
       "Average reward over last 5000 steps: -5.12\n"
      ]
     },
     "metadata": {},
     "output_type": "display_data"
    },
    {
     "data": {
      "text/html": [
       "<pre style=\"white-space:pre;overflow-x:auto;line-height:normal;font-family:Menlo,'DejaVu Sans Mono',consolas,'Courier New',monospace\">Average reward over last 5000 steps: -5.35\n",
       "</pre>\n"
      ],
      "text/plain": [
       "Average reward over last 5000 steps: -5.35\n"
      ]
     },
     "metadata": {},
     "output_type": "display_data"
    },
    {
     "data": {
      "text/html": [
       "<pre style=\"white-space:pre;overflow-x:auto;line-height:normal;font-family:Menlo,'DejaVu Sans Mono',consolas,'Courier New',monospace\">Average reward over last 5000 steps: -5.04\n",
       "</pre>\n"
      ],
      "text/plain": [
       "Average reward over last 5000 steps: -5.04\n"
      ]
     },
     "metadata": {},
     "output_type": "display_data"
    },
    {
     "data": {
      "text/html": [
       "<pre style=\"white-space:pre;overflow-x:auto;line-height:normal;font-family:Menlo,'DejaVu Sans Mono',consolas,'Courier New',monospace\">Average reward over last 5000 steps: -5.01\n",
       "</pre>\n"
      ],
      "text/plain": [
       "Average reward over last 5000 steps: -5.01\n"
      ]
     },
     "metadata": {},
     "output_type": "display_data"
    },
    {
     "data": {
      "text/html": [
       "<pre style=\"white-space:pre;overflow-x:auto;line-height:normal;font-family:Menlo,'DejaVu Sans Mono',consolas,'Courier New',monospace\">Average reward over last 5000 steps: -5.15\n",
       "</pre>\n"
      ],
      "text/plain": [
       "Average reward over last 5000 steps: -5.15\n"
      ]
     },
     "metadata": {},
     "output_type": "display_data"
    },
    {
     "data": {
      "text/html": [
       "<pre style=\"white-space:pre;overflow-x:auto;line-height:normal;font-family:Menlo,'DejaVu Sans Mono',consolas,'Courier New',monospace\">Average reward over last 5000 steps: -5.22\n",
       "</pre>\n"
      ],
      "text/plain": [
       "Average reward over last 5000 steps: -5.22\n"
      ]
     },
     "metadata": {},
     "output_type": "display_data"
    },
    {
     "data": {
      "text/html": [
       "<pre style=\"white-space:pre;overflow-x:auto;line-height:normal;font-family:Menlo,'DejaVu Sans Mono',consolas,'Courier New',monospace\">Average reward over last 5000 steps: -5.05\n",
       "</pre>\n"
      ],
      "text/plain": [
       "Average reward over last 5000 steps: -5.05\n"
      ]
     },
     "metadata": {},
     "output_type": "display_data"
    },
    {
     "data": {
      "text/html": [
       "<pre style=\"white-space:pre;overflow-x:auto;line-height:normal;font-family:Menlo,'DejaVu Sans Mono',consolas,'Courier New',monospace\">Average reward over last 5000 steps: -5.26\n",
       "</pre>\n"
      ],
      "text/plain": [
       "Average reward over last 5000 steps: -5.26\n"
      ]
     },
     "metadata": {},
     "output_type": "display_data"
    },
    {
     "data": {
      "text/html": [
       "<pre style=\"white-space:pre;overflow-x:auto;line-height:normal;font-family:Menlo,'DejaVu Sans Mono',consolas,'Courier New',monospace\">Average reward over last 5000 steps: -5.37\n",
       "</pre>\n"
      ],
      "text/plain": [
       "Average reward over last 5000 steps: -5.37\n"
      ]
     },
     "metadata": {},
     "output_type": "display_data"
    },
    {
     "data": {
      "text/html": [
       "<pre style=\"white-space:pre;overflow-x:auto;line-height:normal;font-family:Menlo,'DejaVu Sans Mono',consolas,'Courier New',monospace\">Average reward over last 5000 steps: -5.03\n",
       "</pre>\n"
      ],
      "text/plain": [
       "Average reward over last 5000 steps: -5.03\n"
      ]
     },
     "metadata": {},
     "output_type": "display_data"
    },
    {
     "data": {
      "text/html": [
       "<pre style=\"white-space:pre;overflow-x:auto;line-height:normal;font-family:Menlo,'DejaVu Sans Mono',consolas,'Courier New',monospace\">Average reward over last 5000 steps: -5.04\n",
       "</pre>\n"
      ],
      "text/plain": [
       "Average reward over last 5000 steps: -5.04\n"
      ]
     },
     "metadata": {},
     "output_type": "display_data"
    },
    {
     "data": {
      "text/html": [
       "<pre style=\"white-space:pre;overflow-x:auto;line-height:normal;font-family:Menlo,'DejaVu Sans Mono',consolas,'Courier New',monospace\">Average reward over last 5000 steps: -5.03\n",
       "</pre>\n"
      ],
      "text/plain": [
       "Average reward over last 5000 steps: -5.03\n"
      ]
     },
     "metadata": {},
     "output_type": "display_data"
    },
    {
     "data": {
      "text/html": [
       "<pre style=\"white-space:pre;overflow-x:auto;line-height:normal;font-family:Menlo,'DejaVu Sans Mono',consolas,'Courier New',monospace\">Average reward over last 5000 steps: -5.04\n",
       "</pre>\n"
      ],
      "text/plain": [
       "Average reward over last 5000 steps: -5.04\n"
      ]
     },
     "metadata": {},
     "output_type": "display_data"
    },
    {
     "data": {
      "text/html": [
       "<pre style=\"white-space:pre;overflow-x:auto;line-height:normal;font-family:Menlo,'DejaVu Sans Mono',consolas,'Courier New',monospace\">Average reward over last 5000 steps: -5.13\n",
       "</pre>\n"
      ],
      "text/plain": [
       "Average reward over last 5000 steps: -5.13\n"
      ]
     },
     "metadata": {},
     "output_type": "display_data"
    },
    {
     "data": {
      "text/html": [
       "<pre style=\"white-space:pre;overflow-x:auto;line-height:normal;font-family:Menlo,'DejaVu Sans Mono',consolas,'Courier New',monospace\">Average reward over last 5000 steps: -5.08\n",
       "</pre>\n"
      ],
      "text/plain": [
       "Average reward over last 5000 steps: -5.08\n"
      ]
     },
     "metadata": {},
     "output_type": "display_data"
    },
    {
     "data": {
      "text/html": [
       "<pre style=\"white-space:pre;overflow-x:auto;line-height:normal;font-family:Menlo,'DejaVu Sans Mono',consolas,'Courier New',monospace\">Average reward over last 5000 steps: -5.05\n",
       "</pre>\n"
      ],
      "text/plain": [
       "Average reward over last 5000 steps: -5.05\n"
      ]
     },
     "metadata": {},
     "output_type": "display_data"
    },
    {
     "data": {
      "text/html": [
       "<pre style=\"white-space:pre;overflow-x:auto;line-height:normal;font-family:Menlo,'DejaVu Sans Mono',consolas,'Courier New',monospace\">Average reward over last 5000 steps: -4.88\n",
       "</pre>\n"
      ],
      "text/plain": [
       "Average reward over last 5000 steps: -4.88\n"
      ]
     },
     "metadata": {},
     "output_type": "display_data"
    },
    {
     "data": {
      "text/html": [
       "<pre style=\"white-space:pre;overflow-x:auto;line-height:normal;font-family:Menlo,'DejaVu Sans Mono',consolas,'Courier New',monospace\">Average reward over last 5000 steps: -5.09\n",
       "</pre>\n"
      ],
      "text/plain": [
       "Average reward over last 5000 steps: -5.09\n"
      ]
     },
     "metadata": {},
     "output_type": "display_data"
    },
    {
     "data": {
      "text/html": [
       "<pre style=\"white-space:pre;overflow-x:auto;line-height:normal;font-family:Menlo,'DejaVu Sans Mono',consolas,'Courier New',monospace\">Average reward over last 5000 steps: -4.89\n",
       "</pre>\n"
      ],
      "text/plain": [
       "Average reward over last 5000 steps: -4.89\n"
      ]
     },
     "metadata": {},
     "output_type": "display_data"
    },
    {
     "data": {
      "text/html": [
       "<pre style=\"white-space:pre;overflow-x:auto;line-height:normal;font-family:Menlo,'DejaVu Sans Mono',consolas,'Courier New',monospace\">Average reward over last 5000 steps: -5.05\n",
       "</pre>\n"
      ],
      "text/plain": [
       "Average reward over last 5000 steps: -5.05\n"
      ]
     },
     "metadata": {},
     "output_type": "display_data"
    },
    {
     "data": {
      "text/html": [
       "<pre style=\"white-space:pre;overflow-x:auto;line-height:normal;font-family:Menlo,'DejaVu Sans Mono',consolas,'Courier New',monospace\">Average reward over last 5000 steps: -5.00\n",
       "</pre>\n"
      ],
      "text/plain": [
       "Average reward over last 5000 steps: -5.00\n"
      ]
     },
     "metadata": {},
     "output_type": "display_data"
    },
    {
     "data": {
      "text/html": [
       "<pre style=\"white-space:pre;overflow-x:auto;line-height:normal;font-family:Menlo,'DejaVu Sans Mono',consolas,'Courier New',monospace\">Average reward over last 5000 steps: -5.03\n",
       "</pre>\n"
      ],
      "text/plain": [
       "Average reward over last 5000 steps: -5.03\n"
      ]
     },
     "metadata": {},
     "output_type": "display_data"
    },
    {
     "data": {
      "text/html": [
       "<pre style=\"white-space:pre;overflow-x:auto;line-height:normal;font-family:Menlo,'DejaVu Sans Mono',consolas,'Courier New',monospace\">Average reward over last 5000 steps: -5.07\n",
       "</pre>\n"
      ],
      "text/plain": [
       "Average reward over last 5000 steps: -5.07\n"
      ]
     },
     "metadata": {},
     "output_type": "display_data"
    },
    {
     "data": {
      "text/html": [
       "<pre style=\"white-space:pre;overflow-x:auto;line-height:normal;font-family:Menlo,'DejaVu Sans Mono',consolas,'Courier New',monospace\">Average reward over last 5000 steps: -4.83\n",
       "</pre>\n"
      ],
      "text/plain": [
       "Average reward over last 5000 steps: -4.83\n"
      ]
     },
     "metadata": {},
     "output_type": "display_data"
    },
    {
     "data": {
      "text/html": [
       "<pre style=\"white-space:pre;overflow-x:auto;line-height:normal;font-family:Menlo,'DejaVu Sans Mono',consolas,'Courier New',monospace\">Average reward over last 5000 steps: -4.99\n",
       "</pre>\n"
      ],
      "text/plain": [
       "Average reward over last 5000 steps: -4.99\n"
      ]
     },
     "metadata": {},
     "output_type": "display_data"
    },
    {
     "data": {
      "text/html": [
       "<pre style=\"white-space:pre;overflow-x:auto;line-height:normal;font-family:Menlo,'DejaVu Sans Mono',consolas,'Courier New',monospace\">Average reward over last 5000 steps: -4.99\n",
       "</pre>\n"
      ],
      "text/plain": [
       "Average reward over last 5000 steps: -4.99\n"
      ]
     },
     "metadata": {},
     "output_type": "display_data"
    },
    {
     "data": {
      "text/html": [
       "<pre style=\"white-space:pre;overflow-x:auto;line-height:normal;font-family:Menlo,'DejaVu Sans Mono',consolas,'Courier New',monospace\">Average reward over last 5000 steps: -5.14\n",
       "</pre>\n"
      ],
      "text/plain": [
       "Average reward over last 5000 steps: -5.14\n"
      ]
     },
     "metadata": {},
     "output_type": "display_data"
    },
    {
     "data": {
      "text/html": [
       "<pre style=\"white-space:pre;overflow-x:auto;line-height:normal;font-family:Menlo,'DejaVu Sans Mono',consolas,'Courier New',monospace\">Average reward over last 5000 steps: -5.05\n",
       "</pre>\n"
      ],
      "text/plain": [
       "Average reward over last 5000 steps: -5.05\n"
      ]
     },
     "metadata": {},
     "output_type": "display_data"
    },
    {
     "data": {
      "text/html": [
       "<pre style=\"white-space:pre;overflow-x:auto;line-height:normal;font-family:Menlo,'DejaVu Sans Mono',consolas,'Courier New',monospace\">Average reward over last 5000 steps: -4.98\n",
       "</pre>\n"
      ],
      "text/plain": [
       "Average reward over last 5000 steps: -4.98\n"
      ]
     },
     "metadata": {},
     "output_type": "display_data"
    },
    {
     "data": {
      "text/html": [
       "<pre style=\"white-space:pre;overflow-x:auto;line-height:normal;font-family:Menlo,'DejaVu Sans Mono',consolas,'Courier New',monospace\">Average reward over last 5000 steps: -4.93\n",
       "</pre>\n"
      ],
      "text/plain": [
       "Average reward over last 5000 steps: -4.93\n"
      ]
     },
     "metadata": {},
     "output_type": "display_data"
    },
    {
     "data": {
      "text/html": [
       "<pre style=\"white-space:pre;overflow-x:auto;line-height:normal;font-family:Menlo,'DejaVu Sans Mono',consolas,'Courier New',monospace\">Average reward over last 5000 steps: -5.05\n",
       "</pre>\n"
      ],
      "text/plain": [
       "Average reward over last 5000 steps: -5.05\n"
      ]
     },
     "metadata": {},
     "output_type": "display_data"
    },
    {
     "data": {
      "text/html": [
       "<pre style=\"white-space:pre;overflow-x:auto;line-height:normal;font-family:Menlo,'DejaVu Sans Mono',consolas,'Courier New',monospace\">Average reward over last 5000 steps: -4.84\n",
       "</pre>\n"
      ],
      "text/plain": [
       "Average reward over last 5000 steps: -4.84\n"
      ]
     },
     "metadata": {},
     "output_type": "display_data"
    },
    {
     "data": {
      "text/html": [
       "<pre style=\"white-space:pre;overflow-x:auto;line-height:normal;font-family:Menlo,'DejaVu Sans Mono',consolas,'Courier New',monospace\">Average reward over last 5000 steps: -4.86\n",
       "</pre>\n"
      ],
      "text/plain": [
       "Average reward over last 5000 steps: -4.86\n"
      ]
     },
     "metadata": {},
     "output_type": "display_data"
    },
    {
     "data": {
      "text/html": [
       "<pre style=\"white-space:pre;overflow-x:auto;line-height:normal;font-family:Menlo,'DejaVu Sans Mono',consolas,'Courier New',monospace\">Average reward over last 5000 steps: -5.05\n",
       "</pre>\n"
      ],
      "text/plain": [
       "Average reward over last 5000 steps: -5.05\n"
      ]
     },
     "metadata": {},
     "output_type": "display_data"
    },
    {
     "data": {
      "text/html": [
       "<pre style=\"white-space:pre;overflow-x:auto;line-height:normal;font-family:Menlo,'DejaVu Sans Mono',consolas,'Courier New',monospace\">Average reward over last 5000 steps: -5.14\n",
       "</pre>\n"
      ],
      "text/plain": [
       "Average reward over last 5000 steps: -5.14\n"
      ]
     },
     "metadata": {},
     "output_type": "display_data"
    },
    {
     "data": {
      "text/html": [
       "<pre style=\"white-space:pre;overflow-x:auto;line-height:normal;font-family:Menlo,'DejaVu Sans Mono',consolas,'Courier New',monospace\">Average reward over last 5000 steps: -5.22\n",
       "</pre>\n"
      ],
      "text/plain": [
       "Average reward over last 5000 steps: -5.22\n"
      ]
     },
     "metadata": {},
     "output_type": "display_data"
    },
    {
     "data": {
      "text/html": [
       "<pre style=\"white-space:pre;overflow-x:auto;line-height:normal;font-family:Menlo,'DejaVu Sans Mono',consolas,'Courier New',monospace\">Average reward over last 5000 steps: -4.77\n",
       "</pre>\n"
      ],
      "text/plain": [
       "Average reward over last 5000 steps: -4.77\n"
      ]
     },
     "metadata": {},
     "output_type": "display_data"
    },
    {
     "data": {
      "text/html": [
       "<pre style=\"white-space:pre;overflow-x:auto;line-height:normal;font-family:Menlo,'DejaVu Sans Mono',consolas,'Courier New',monospace\">Average reward over last 5000 steps: -4.98\n",
       "</pre>\n"
      ],
      "text/plain": [
       "Average reward over last 5000 steps: -4.98\n"
      ]
     },
     "metadata": {},
     "output_type": "display_data"
    },
    {
     "data": {
      "text/html": [
       "<pre style=\"white-space:pre;overflow-x:auto;line-height:normal;font-family:Menlo,'DejaVu Sans Mono',consolas,'Courier New',monospace\">Average reward over last 5000 steps: -4.97\n",
       "</pre>\n"
      ],
      "text/plain": [
       "Average reward over last 5000 steps: -4.97\n"
      ]
     },
     "metadata": {},
     "output_type": "display_data"
    },
    {
     "data": {
      "text/html": [
       "<pre style=\"white-space:pre;overflow-x:auto;line-height:normal;font-family:Menlo,'DejaVu Sans Mono',consolas,'Courier New',monospace\">Average reward over last 5000 steps: -4.91\n",
       "</pre>\n"
      ],
      "text/plain": [
       "Average reward over last 5000 steps: -4.91\n"
      ]
     },
     "metadata": {},
     "output_type": "display_data"
    },
    {
     "data": {
      "text/html": [
       "<pre style=\"white-space:pre;overflow-x:auto;line-height:normal;font-family:Menlo,'DejaVu Sans Mono',consolas,'Courier New',monospace\">Average reward over last 5000 steps: -4.96\n",
       "</pre>\n"
      ],
      "text/plain": [
       "Average reward over last 5000 steps: -4.96\n"
      ]
     },
     "metadata": {},
     "output_type": "display_data"
    },
    {
     "data": {
      "text/html": [
       "<pre style=\"white-space:pre;overflow-x:auto;line-height:normal;font-family:Menlo,'DejaVu Sans Mono',consolas,'Courier New',monospace\">Average reward over last 5000 steps: -4.83\n",
       "</pre>\n"
      ],
      "text/plain": [
       "Average reward over last 5000 steps: -4.83\n"
      ]
     },
     "metadata": {},
     "output_type": "display_data"
    },
    {
     "data": {
      "text/html": [
       "<pre style=\"white-space:pre;overflow-x:auto;line-height:normal;font-family:Menlo,'DejaVu Sans Mono',consolas,'Courier New',monospace\">Average reward over last 5000 steps: -4.93\n",
       "</pre>\n"
      ],
      "text/plain": [
       "Average reward over last 5000 steps: -4.93\n"
      ]
     },
     "metadata": {},
     "output_type": "display_data"
    },
    {
     "data": {
      "text/html": [
       "<pre style=\"white-space:pre;overflow-x:auto;line-height:normal;font-family:Menlo,'DejaVu Sans Mono',consolas,'Courier New',monospace\">Average reward over last 5000 steps: -4.86\n",
       "</pre>\n"
      ],
      "text/plain": [
       "Average reward over last 5000 steps: -4.86\n"
      ]
     },
     "metadata": {},
     "output_type": "display_data"
    },
    {
     "data": {
      "text/html": [
       "<pre style=\"white-space:pre;overflow-x:auto;line-height:normal;font-family:Menlo,'DejaVu Sans Mono',consolas,'Courier New',monospace\">Average reward over last 5000 steps: -4.94\n",
       "</pre>\n"
      ],
      "text/plain": [
       "Average reward over last 5000 steps: -4.94\n"
      ]
     },
     "metadata": {},
     "output_type": "display_data"
    },
    {
     "data": {
      "text/html": [
       "<pre style=\"white-space:pre;overflow-x:auto;line-height:normal;font-family:Menlo,'DejaVu Sans Mono',consolas,'Courier New',monospace\">Average reward over last 5000 steps: -4.93\n",
       "</pre>\n"
      ],
      "text/plain": [
       "Average reward over last 5000 steps: -4.93\n"
      ]
     },
     "metadata": {},
     "output_type": "display_data"
    },
    {
     "data": {
      "text/html": [
       "<pre style=\"white-space:pre;overflow-x:auto;line-height:normal;font-family:Menlo,'DejaVu Sans Mono',consolas,'Courier New',monospace\">Advancing to Phase 3\n",
       "</pre>\n"
      ],
      "text/plain": [
       "Advancing to Phase 3\n"
      ]
     },
     "metadata": {},
     "output_type": "display_data"
    },
    {
     "data": {
      "text/html": [
       "<pre style=\"white-space:pre;overflow-x:auto;line-height:normal;font-family:Menlo,'DejaVu Sans Mono',consolas,'Courier New',monospace\">Average reward over last 5000 steps: -4.81\n",
       "</pre>\n"
      ],
      "text/plain": [
       "Average reward over last 5000 steps: -4.81\n"
      ]
     },
     "metadata": {},
     "output_type": "display_data"
    },
    {
     "data": {
      "text/html": [
       "<pre style=\"white-space:pre;overflow-x:auto;line-height:normal;font-family:Menlo,'DejaVu Sans Mono',consolas,'Courier New',monospace\">Average reward over last 5000 steps: -4.14\n",
       "</pre>\n"
      ],
      "text/plain": [
       "Average reward over last 5000 steps: -4.14\n"
      ]
     },
     "metadata": {},
     "output_type": "display_data"
    },
    {
     "data": {
      "text/html": [
       "<pre style=\"white-space:pre;overflow-x:auto;line-height:normal;font-family:Menlo,'DejaVu Sans Mono',consolas,'Courier New',monospace\">Average reward over last 5000 steps: -4.11\n",
       "</pre>\n"
      ],
      "text/plain": [
       "Average reward over last 5000 steps: -4.11\n"
      ]
     },
     "metadata": {},
     "output_type": "display_data"
    },
    {
     "data": {
      "text/html": [
       "<pre style=\"white-space:pre;overflow-x:auto;line-height:normal;font-family:Menlo,'DejaVu Sans Mono',consolas,'Courier New',monospace\">Average reward over last 5000 steps: -4.08\n",
       "</pre>\n"
      ],
      "text/plain": [
       "Average reward over last 5000 steps: -4.08\n"
      ]
     },
     "metadata": {},
     "output_type": "display_data"
    },
    {
     "data": {
      "text/html": [
       "<pre style=\"white-space:pre;overflow-x:auto;line-height:normal;font-family:Menlo,'DejaVu Sans Mono',consolas,'Courier New',monospace\">Average reward over last 5000 steps: -4.11\n",
       "</pre>\n"
      ],
      "text/plain": [
       "Average reward over last 5000 steps: -4.11\n"
      ]
     },
     "metadata": {},
     "output_type": "display_data"
    },
    {
     "data": {
      "text/html": [
       "<pre style=\"white-space:pre;overflow-x:auto;line-height:normal;font-family:Menlo,'DejaVu Sans Mono',consolas,'Courier New',monospace\">Average reward over last 5000 steps: -3.96\n",
       "</pre>\n"
      ],
      "text/plain": [
       "Average reward over last 5000 steps: -3.96\n"
      ]
     },
     "metadata": {},
     "output_type": "display_data"
    },
    {
     "data": {
      "text/html": [
       "<pre style=\"white-space:pre;overflow-x:auto;line-height:normal;font-family:Menlo,'DejaVu Sans Mono',consolas,'Courier New',monospace\">Average reward over last 5000 steps: -3.94\n",
       "</pre>\n"
      ],
      "text/plain": [
       "Average reward over last 5000 steps: -3.94\n"
      ]
     },
     "metadata": {},
     "output_type": "display_data"
    },
    {
     "data": {
      "text/html": [
       "<pre style=\"white-space:pre;overflow-x:auto;line-height:normal;font-family:Menlo,'DejaVu Sans Mono',consolas,'Courier New',monospace\">Average reward over last 5000 steps: -3.93\n",
       "</pre>\n"
      ],
      "text/plain": [
       "Average reward over last 5000 steps: -3.93\n"
      ]
     },
     "metadata": {},
     "output_type": "display_data"
    },
    {
     "data": {
      "text/html": [
       "<pre style=\"white-space:pre;overflow-x:auto;line-height:normal;font-family:Menlo,'DejaVu Sans Mono',consolas,'Courier New',monospace\">Average reward over last 5000 steps: -3.70\n",
       "</pre>\n"
      ],
      "text/plain": [
       "Average reward over last 5000 steps: -3.70\n"
      ]
     },
     "metadata": {},
     "output_type": "display_data"
    },
    {
     "data": {
      "text/html": [
       "<pre style=\"white-space:pre;overflow-x:auto;line-height:normal;font-family:Menlo,'DejaVu Sans Mono',consolas,'Courier New',monospace\">Average reward over last 5000 steps: -3.97\n",
       "</pre>\n"
      ],
      "text/plain": [
       "Average reward over last 5000 steps: -3.97\n"
      ]
     },
     "metadata": {},
     "output_type": "display_data"
    },
    {
     "data": {
      "text/html": [
       "<pre style=\"white-space:pre;overflow-x:auto;line-height:normal;font-family:Menlo,'DejaVu Sans Mono',consolas,'Courier New',monospace\">Average reward over last 5000 steps: -4.03\n",
       "</pre>\n"
      ],
      "text/plain": [
       "Average reward over last 5000 steps: -4.03\n"
      ]
     },
     "metadata": {},
     "output_type": "display_data"
    },
    {
     "data": {
      "text/html": [
       "<pre style=\"white-space:pre;overflow-x:auto;line-height:normal;font-family:Menlo,'DejaVu Sans Mono',consolas,'Courier New',monospace\">Average reward over last 5000 steps: -3.90\n",
       "</pre>\n"
      ],
      "text/plain": [
       "Average reward over last 5000 steps: -3.90\n"
      ]
     },
     "metadata": {},
     "output_type": "display_data"
    },
    {
     "data": {
      "text/html": [
       "<pre style=\"white-space:pre;overflow-x:auto;line-height:normal;font-family:Menlo,'DejaVu Sans Mono',consolas,'Courier New',monospace\">Average reward over last 5000 steps: -3.94\n",
       "</pre>\n"
      ],
      "text/plain": [
       "Average reward over last 5000 steps: -3.94\n"
      ]
     },
     "metadata": {},
     "output_type": "display_data"
    },
    {
     "data": {
      "text/html": [
       "<pre style=\"white-space:pre;overflow-x:auto;line-height:normal;font-family:Menlo,'DejaVu Sans Mono',consolas,'Courier New',monospace\">Average reward over last 5000 steps: -3.79\n",
       "</pre>\n"
      ],
      "text/plain": [
       "Average reward over last 5000 steps: -3.79\n"
      ]
     },
     "metadata": {},
     "output_type": "display_data"
    },
    {
     "data": {
      "text/html": [
       "<pre style=\"white-space:pre;overflow-x:auto;line-height:normal;font-family:Menlo,'DejaVu Sans Mono',consolas,'Courier New',monospace\">Average reward over last 5000 steps: -3.85\n",
       "</pre>\n"
      ],
      "text/plain": [
       "Average reward over last 5000 steps: -3.85\n"
      ]
     },
     "metadata": {},
     "output_type": "display_data"
    },
    {
     "data": {
      "text/html": [
       "<pre style=\"white-space:pre;overflow-x:auto;line-height:normal;font-family:Menlo,'DejaVu Sans Mono',consolas,'Courier New',monospace\">Average reward over last 5000 steps: -3.92\n",
       "</pre>\n"
      ],
      "text/plain": [
       "Average reward over last 5000 steps: -3.92\n"
      ]
     },
     "metadata": {},
     "output_type": "display_data"
    },
    {
     "data": {
      "text/html": [
       "<pre style=\"white-space:pre;overflow-x:auto;line-height:normal;font-family:Menlo,'DejaVu Sans Mono',consolas,'Courier New',monospace\">Average reward over last 5000 steps: -3.82\n",
       "</pre>\n"
      ],
      "text/plain": [
       "Average reward over last 5000 steps: -3.82\n"
      ]
     },
     "metadata": {},
     "output_type": "display_data"
    },
    {
     "data": {
      "text/html": [
       "<pre style=\"white-space:pre;overflow-x:auto;line-height:normal;font-family:Menlo,'DejaVu Sans Mono',consolas,'Courier New',monospace\">Average reward over last 5000 steps: -3.71\n",
       "</pre>\n"
      ],
      "text/plain": [
       "Average reward over last 5000 steps: -3.71\n"
      ]
     },
     "metadata": {},
     "output_type": "display_data"
    },
    {
     "data": {
      "text/html": [
       "<pre style=\"white-space:pre;overflow-x:auto;line-height:normal;font-family:Menlo,'DejaVu Sans Mono',consolas,'Courier New',monospace\">Average reward over last 5000 steps: -3.76\n",
       "</pre>\n"
      ],
      "text/plain": [
       "Average reward over last 5000 steps: -3.76\n"
      ]
     },
     "metadata": {},
     "output_type": "display_data"
    },
    {
     "data": {
      "text/html": [
       "<pre style=\"white-space:pre;overflow-x:auto;line-height:normal;font-family:Menlo,'DejaVu Sans Mono',consolas,'Courier New',monospace\">Average reward over last 5000 steps: -3.72\n",
       "</pre>\n"
      ],
      "text/plain": [
       "Average reward over last 5000 steps: -3.72\n"
      ]
     },
     "metadata": {},
     "output_type": "display_data"
    },
    {
     "data": {
      "text/html": [
       "<pre style=\"white-space:pre;overflow-x:auto;line-height:normal;font-family:Menlo,'DejaVu Sans Mono',consolas,'Courier New',monospace\">Average reward over last 5000 steps: -3.89\n",
       "</pre>\n"
      ],
      "text/plain": [
       "Average reward over last 5000 steps: -3.89\n"
      ]
     },
     "metadata": {},
     "output_type": "display_data"
    },
    {
     "data": {
      "text/html": [
       "<pre style=\"white-space:pre;overflow-x:auto;line-height:normal;font-family:Menlo,'DejaVu Sans Mono',consolas,'Courier New',monospace\">Average reward over last 5000 steps: -3.76\n",
       "</pre>\n"
      ],
      "text/plain": [
       "Average reward over last 5000 steps: -3.76\n"
      ]
     },
     "metadata": {},
     "output_type": "display_data"
    },
    {
     "data": {
      "text/html": [
       "<pre style=\"white-space:pre;overflow-x:auto;line-height:normal;font-family:Menlo,'DejaVu Sans Mono',consolas,'Courier New',monospace\">Average reward over last 5000 steps: -3.76\n",
       "</pre>\n"
      ],
      "text/plain": [
       "Average reward over last 5000 steps: -3.76\n"
      ]
     },
     "metadata": {},
     "output_type": "display_data"
    },
    {
     "data": {
      "text/html": [
       "<pre style=\"white-space:pre;overflow-x:auto;line-height:normal;font-family:Menlo,'DejaVu Sans Mono',consolas,'Courier New',monospace\">Average reward over last 5000 steps: -3.81\n",
       "</pre>\n"
      ],
      "text/plain": [
       "Average reward over last 5000 steps: -3.81\n"
      ]
     },
     "metadata": {},
     "output_type": "display_data"
    },
    {
     "data": {
      "text/html": [
       "<pre style=\"white-space:pre;overflow-x:auto;line-height:normal;font-family:Menlo,'DejaVu Sans Mono',consolas,'Courier New',monospace\">Average reward over last 5000 steps: -3.73\n",
       "</pre>\n"
      ],
      "text/plain": [
       "Average reward over last 5000 steps: -3.73\n"
      ]
     },
     "metadata": {},
     "output_type": "display_data"
    },
    {
     "data": {
      "text/html": [
       "<pre style=\"white-space:pre;overflow-x:auto;line-height:normal;font-family:Menlo,'DejaVu Sans Mono',consolas,'Courier New',monospace\">Average reward over last 5000 steps: -3.81\n",
       "</pre>\n"
      ],
      "text/plain": [
       "Average reward over last 5000 steps: -3.81\n"
      ]
     },
     "metadata": {},
     "output_type": "display_data"
    },
    {
     "data": {
      "text/html": [
       "<pre style=\"white-space:pre;overflow-x:auto;line-height:normal;font-family:Menlo,'DejaVu Sans Mono',consolas,'Courier New',monospace\">Average reward over last 5000 steps: -3.78\n",
       "</pre>\n"
      ],
      "text/plain": [
       "Average reward over last 5000 steps: -3.78\n"
      ]
     },
     "metadata": {},
     "output_type": "display_data"
    },
    {
     "data": {
      "text/html": [
       "<pre style=\"white-space:pre;overflow-x:auto;line-height:normal;font-family:Menlo,'DejaVu Sans Mono',consolas,'Courier New',monospace\">Average reward over last 5000 steps: -3.83\n",
       "</pre>\n"
      ],
      "text/plain": [
       "Average reward over last 5000 steps: -3.83\n"
      ]
     },
     "metadata": {},
     "output_type": "display_data"
    },
    {
     "data": {
      "text/html": [
       "<pre style=\"white-space:pre;overflow-x:auto;line-height:normal;font-family:Menlo,'DejaVu Sans Mono',consolas,'Courier New',monospace\">Average reward over last 5000 steps: -3.80\n",
       "</pre>\n"
      ],
      "text/plain": [
       "Average reward over last 5000 steps: -3.80\n"
      ]
     },
     "metadata": {},
     "output_type": "display_data"
    },
    {
     "data": {
      "text/html": [
       "<pre style=\"white-space:pre;overflow-x:auto;line-height:normal;font-family:Menlo,'DejaVu Sans Mono',consolas,'Courier New',monospace\">Average reward over last 5000 steps: -3.73\n",
       "</pre>\n"
      ],
      "text/plain": [
       "Average reward over last 5000 steps: -3.73\n"
      ]
     },
     "metadata": {},
     "output_type": "display_data"
    },
    {
     "data": {
      "text/html": [
       "<pre style=\"white-space:pre;overflow-x:auto;line-height:normal;font-family:Menlo,'DejaVu Sans Mono',consolas,'Courier New',monospace\">Average reward over last 5000 steps: -3.84\n",
       "</pre>\n"
      ],
      "text/plain": [
       "Average reward over last 5000 steps: -3.84\n"
      ]
     },
     "metadata": {},
     "output_type": "display_data"
    },
    {
     "data": {
      "text/html": [
       "<pre style=\"white-space:pre;overflow-x:auto;line-height:normal;font-family:Menlo,'DejaVu Sans Mono',consolas,'Courier New',monospace\">Average reward over last 5000 steps: -3.57\n",
       "</pre>\n"
      ],
      "text/plain": [
       "Average reward over last 5000 steps: -3.57\n"
      ]
     },
     "metadata": {},
     "output_type": "display_data"
    },
    {
     "data": {
      "text/html": [
       "<pre style=\"white-space:pre;overflow-x:auto;line-height:normal;font-family:Menlo,'DejaVu Sans Mono',consolas,'Courier New',monospace\">Average reward over last 5000 steps: -3.90\n",
       "</pre>\n"
      ],
      "text/plain": [
       "Average reward over last 5000 steps: -3.90\n"
      ]
     },
     "metadata": {},
     "output_type": "display_data"
    },
    {
     "data": {
      "text/html": [
       "<pre style=\"white-space:pre;overflow-x:auto;line-height:normal;font-family:Menlo,'DejaVu Sans Mono',consolas,'Courier New',monospace\">Average reward over last 5000 steps: -3.68\n",
       "</pre>\n"
      ],
      "text/plain": [
       "Average reward over last 5000 steps: -3.68\n"
      ]
     },
     "metadata": {},
     "output_type": "display_data"
    },
    {
     "data": {
      "text/html": [
       "<pre style=\"white-space:pre;overflow-x:auto;line-height:normal;font-family:Menlo,'DejaVu Sans Mono',consolas,'Courier New',monospace\">Average reward over last 5000 steps: -3.67\n",
       "</pre>\n"
      ],
      "text/plain": [
       "Average reward over last 5000 steps: -3.67\n"
      ]
     },
     "metadata": {},
     "output_type": "display_data"
    },
    {
     "data": {
      "text/html": [
       "<pre style=\"white-space:pre;overflow-x:auto;line-height:normal;font-family:Menlo,'DejaVu Sans Mono',consolas,'Courier New',monospace\">Average reward over last 5000 steps: -3.63\n",
       "</pre>\n"
      ],
      "text/plain": [
       "Average reward over last 5000 steps: -3.63\n"
      ]
     },
     "metadata": {},
     "output_type": "display_data"
    },
    {
     "data": {
      "text/html": [
       "<pre style=\"white-space:pre;overflow-x:auto;line-height:normal;font-family:Menlo,'DejaVu Sans Mono',consolas,'Courier New',monospace\">Average reward over last 5000 steps: -3.80\n",
       "</pre>\n"
      ],
      "text/plain": [
       "Average reward over last 5000 steps: -3.80\n"
      ]
     },
     "metadata": {},
     "output_type": "display_data"
    },
    {
     "data": {
      "text/html": [
       "<pre style=\"white-space:pre;overflow-x:auto;line-height:normal;font-family:Menlo,'DejaVu Sans Mono',consolas,'Courier New',monospace\">Average reward over last 5000 steps: -3.67\n",
       "</pre>\n"
      ],
      "text/plain": [
       "Average reward over last 5000 steps: -3.67\n"
      ]
     },
     "metadata": {},
     "output_type": "display_data"
    },
    {
     "data": {
      "text/html": [
       "<pre style=\"white-space:pre;overflow-x:auto;line-height:normal;font-family:Menlo,'DejaVu Sans Mono',consolas,'Courier New',monospace\">Average reward over last 5000 steps: -3.69\n",
       "</pre>\n"
      ],
      "text/plain": [
       "Average reward over last 5000 steps: -3.69\n"
      ]
     },
     "metadata": {},
     "output_type": "display_data"
    },
    {
     "data": {
      "text/html": [
       "<pre style=\"white-space:pre;overflow-x:auto;line-height:normal;font-family:Menlo,'DejaVu Sans Mono',consolas,'Courier New',monospace\">Average reward over last 5000 steps: -3.73\n",
       "</pre>\n"
      ],
      "text/plain": [
       "Average reward over last 5000 steps: -3.73\n"
      ]
     },
     "metadata": {},
     "output_type": "display_data"
    },
    {
     "data": {
      "text/html": [
       "<pre style=\"white-space:pre;overflow-x:auto;line-height:normal;font-family:Menlo,'DejaVu Sans Mono',consolas,'Courier New',monospace\">Average reward over last 5000 steps: -3.89\n",
       "</pre>\n"
      ],
      "text/plain": [
       "Average reward over last 5000 steps: -3.89\n"
      ]
     },
     "metadata": {},
     "output_type": "display_data"
    },
    {
     "data": {
      "text/html": [
       "<pre style=\"white-space:pre;overflow-x:auto;line-height:normal;font-family:Menlo,'DejaVu Sans Mono',consolas,'Courier New',monospace\">Average reward over last 5000 steps: -3.79\n",
       "</pre>\n"
      ],
      "text/plain": [
       "Average reward over last 5000 steps: -3.79\n"
      ]
     },
     "metadata": {},
     "output_type": "display_data"
    },
    {
     "data": {
      "text/html": [
       "<pre style=\"white-space:pre;overflow-x:auto;line-height:normal;font-family:Menlo,'DejaVu Sans Mono',consolas,'Courier New',monospace\">Average reward over last 5000 steps: -3.63\n",
       "</pre>\n"
      ],
      "text/plain": [
       "Average reward over last 5000 steps: -3.63\n"
      ]
     },
     "metadata": {},
     "output_type": "display_data"
    },
    {
     "data": {
      "text/html": [
       "<pre style=\"white-space:pre;overflow-x:auto;line-height:normal;font-family:Menlo,'DejaVu Sans Mono',consolas,'Courier New',monospace\">Average reward over last 5000 steps: -3.62\n",
       "</pre>\n"
      ],
      "text/plain": [
       "Average reward over last 5000 steps: -3.62\n"
      ]
     },
     "metadata": {},
     "output_type": "display_data"
    },
    {
     "data": {
      "text/html": [
       "<pre style=\"white-space:pre;overflow-x:auto;line-height:normal;font-family:Menlo,'DejaVu Sans Mono',consolas,'Courier New',monospace\">Average reward over last 5000 steps: -3.54\n",
       "</pre>\n"
      ],
      "text/plain": [
       "Average reward over last 5000 steps: -3.54\n"
      ]
     },
     "metadata": {},
     "output_type": "display_data"
    },
    {
     "data": {
      "text/html": [
       "<pre style=\"white-space:pre;overflow-x:auto;line-height:normal;font-family:Menlo,'DejaVu Sans Mono',consolas,'Courier New',monospace\">Average reward over last 5000 steps: -3.73\n",
       "</pre>\n"
      ],
      "text/plain": [
       "Average reward over last 5000 steps: -3.73\n"
      ]
     },
     "metadata": {},
     "output_type": "display_data"
    },
    {
     "data": {
      "text/html": [
       "<pre style=\"white-space:pre;overflow-x:auto;line-height:normal;font-family:Menlo,'DejaVu Sans Mono',consolas,'Courier New',monospace\">Average reward over last 5000 steps: -3.62\n",
       "</pre>\n"
      ],
      "text/plain": [
       "Average reward over last 5000 steps: -3.62\n"
      ]
     },
     "metadata": {},
     "output_type": "display_data"
    },
    {
     "data": {
      "text/html": [
       "<pre style=\"white-space:pre;overflow-x:auto;line-height:normal;font-family:Menlo,'DejaVu Sans Mono',consolas,'Courier New',monospace\">Average reward over last 5000 steps: -3.61\n",
       "</pre>\n"
      ],
      "text/plain": [
       "Average reward over last 5000 steps: -3.61\n"
      ]
     },
     "metadata": {},
     "output_type": "display_data"
    },
    {
     "data": {
      "text/html": [
       "<pre style=\"white-space:pre;overflow-x:auto;line-height:normal;font-family:Menlo,'DejaVu Sans Mono',consolas,'Courier New',monospace\">Average reward over last 5000 steps: -3.33\n",
       "</pre>\n"
      ],
      "text/plain": [
       "Average reward over last 5000 steps: -3.33\n"
      ]
     },
     "metadata": {},
     "output_type": "display_data"
    },
    {
     "data": {
      "text/html": [
       "<pre style=\"white-space:pre;overflow-x:auto;line-height:normal;font-family:Menlo,'DejaVu Sans Mono',consolas,'Courier New',monospace\">Average reward over last 5000 steps: -3.68\n",
       "</pre>\n"
      ],
      "text/plain": [
       "Average reward over last 5000 steps: -3.68\n"
      ]
     },
     "metadata": {},
     "output_type": "display_data"
    },
    {
     "data": {
      "text/html": [
       "<pre style=\"white-space:pre;overflow-x:auto;line-height:normal;font-family:Menlo,'DejaVu Sans Mono',consolas,'Courier New',monospace\">Average reward over last 5000 steps: -3.67\n",
       "</pre>\n"
      ],
      "text/plain": [
       "Average reward over last 5000 steps: -3.67\n"
      ]
     },
     "metadata": {},
     "output_type": "display_data"
    },
    {
     "data": {
      "text/html": [
       "<pre style=\"white-space:pre;overflow-x:auto;line-height:normal;font-family:Menlo,'DejaVu Sans Mono',consolas,'Courier New',monospace\">Average reward over last 5000 steps: -3.50\n",
       "</pre>\n"
      ],
      "text/plain": [
       "Average reward over last 5000 steps: -3.50\n"
      ]
     },
     "metadata": {},
     "output_type": "display_data"
    },
    {
     "data": {
      "text/html": [
       "<pre style=\"white-space:pre;overflow-x:auto;line-height:normal;font-family:Menlo,'DejaVu Sans Mono',consolas,'Courier New',monospace\">Average reward over last 5000 steps: -3.41\n",
       "</pre>\n"
      ],
      "text/plain": [
       "Average reward over last 5000 steps: -3.41\n"
      ]
     },
     "metadata": {},
     "output_type": "display_data"
    },
    {
     "data": {
      "text/html": [
       "<pre style=\"white-space:pre;overflow-x:auto;line-height:normal;font-family:Menlo,'DejaVu Sans Mono',consolas,'Courier New',monospace\">Average reward over last 5000 steps: -3.44\n",
       "</pre>\n"
      ],
      "text/plain": [
       "Average reward over last 5000 steps: -3.44\n"
      ]
     },
     "metadata": {},
     "output_type": "display_data"
    },
    {
     "data": {
      "text/html": [
       "<pre style=\"white-space:pre;overflow-x:auto;line-height:normal;font-family:Menlo,'DejaVu Sans Mono',consolas,'Courier New',monospace\">Average reward over last 5000 steps: -3.38\n",
       "</pre>\n"
      ],
      "text/plain": [
       "Average reward over last 5000 steps: -3.38\n"
      ]
     },
     "metadata": {},
     "output_type": "display_data"
    },
    {
     "data": {
      "text/html": [
       "<pre style=\"white-space:pre;overflow-x:auto;line-height:normal;font-family:Menlo,'DejaVu Sans Mono',consolas,'Courier New',monospace\">Average reward over last 5000 steps: -3.39\n",
       "</pre>\n"
      ],
      "text/plain": [
       "Average reward over last 5000 steps: -3.39\n"
      ]
     },
     "metadata": {},
     "output_type": "display_data"
    },
    {
     "data": {
      "text/html": [
       "<pre style=\"white-space:pre;overflow-x:auto;line-height:normal;font-family:Menlo,'DejaVu Sans Mono',consolas,'Courier New',monospace\">Average reward over last 5000 steps: -3.54\n",
       "</pre>\n"
      ],
      "text/plain": [
       "Average reward over last 5000 steps: -3.54\n"
      ]
     },
     "metadata": {},
     "output_type": "display_data"
    },
    {
     "data": {
      "text/html": [
       "<pre style=\"white-space:pre;overflow-x:auto;line-height:normal;font-family:Menlo,'DejaVu Sans Mono',consolas,'Courier New',monospace\">Average reward over last 5000 steps: -3.40\n",
       "</pre>\n"
      ],
      "text/plain": [
       "Average reward over last 5000 steps: -3.40\n"
      ]
     },
     "metadata": {},
     "output_type": "display_data"
    },
    {
     "data": {
      "text/html": [
       "<pre style=\"white-space:pre;overflow-x:auto;line-height:normal;font-family:Menlo,'DejaVu Sans Mono',consolas,'Courier New',monospace\">Average reward over last 5000 steps: -3.38\n",
       "</pre>\n"
      ],
      "text/plain": [
       "Average reward over last 5000 steps: -3.38\n"
      ]
     },
     "metadata": {},
     "output_type": "display_data"
    },
    {
     "data": {
      "text/html": [
       "<pre style=\"white-space:pre;overflow-x:auto;line-height:normal;font-family:Menlo,'DejaVu Sans Mono',consolas,'Courier New',monospace\">Average reward over last 5000 steps: -3.53\n",
       "</pre>\n"
      ],
      "text/plain": [
       "Average reward over last 5000 steps: -3.53\n"
      ]
     },
     "metadata": {},
     "output_type": "display_data"
    },
    {
     "data": {
      "text/html": [
       "<pre style=\"white-space:pre;overflow-x:auto;line-height:normal;font-family:Menlo,'DejaVu Sans Mono',consolas,'Courier New',monospace\">Average reward over last 5000 steps: -3.42\n",
       "</pre>\n"
      ],
      "text/plain": [
       "Average reward over last 5000 steps: -3.42\n"
      ]
     },
     "metadata": {},
     "output_type": "display_data"
    },
    {
     "data": {
      "text/html": [
       "<pre style=\"white-space:pre;overflow-x:auto;line-height:normal;font-family:Menlo,'DejaVu Sans Mono',consolas,'Courier New',monospace\">Average reward over last 5000 steps: -3.32\n",
       "</pre>\n"
      ],
      "text/plain": [
       "Average reward over last 5000 steps: -3.32\n"
      ]
     },
     "metadata": {},
     "output_type": "display_data"
    },
    {
     "data": {
      "text/html": [
       "<pre style=\"white-space:pre;overflow-x:auto;line-height:normal;font-family:Menlo,'DejaVu Sans Mono',consolas,'Courier New',monospace\">Average reward over last 5000 steps: -3.28\n",
       "</pre>\n"
      ],
      "text/plain": [
       "Average reward over last 5000 steps: -3.28\n"
      ]
     },
     "metadata": {},
     "output_type": "display_data"
    },
    {
     "data": {
      "text/html": [
       "<pre style=\"white-space:pre;overflow-x:auto;line-height:normal;font-family:Menlo,'DejaVu Sans Mono',consolas,'Courier New',monospace\">Average reward over last 5000 steps: -3.45\n",
       "</pre>\n"
      ],
      "text/plain": [
       "Average reward over last 5000 steps: -3.45\n"
      ]
     },
     "metadata": {},
     "output_type": "display_data"
    },
    {
     "data": {
      "text/html": [
       "<pre style=\"white-space:pre;overflow-x:auto;line-height:normal;font-family:Menlo,'DejaVu Sans Mono',consolas,'Courier New',monospace\">Average reward over last 5000 steps: -3.47\n",
       "</pre>\n"
      ],
      "text/plain": [
       "Average reward over last 5000 steps: -3.47\n"
      ]
     },
     "metadata": {},
     "output_type": "display_data"
    },
    {
     "data": {
      "text/html": [
       "<pre style=\"white-space:pre;overflow-x:auto;line-height:normal;font-family:Menlo,'DejaVu Sans Mono',consolas,'Courier New',monospace\">Average reward over last 5000 steps: -3.49\n",
       "</pre>\n"
      ],
      "text/plain": [
       "Average reward over last 5000 steps: -3.49\n"
      ]
     },
     "metadata": {},
     "output_type": "display_data"
    },
    {
     "data": {
      "text/html": [
       "<pre style=\"white-space:pre;overflow-x:auto;line-height:normal;font-family:Menlo,'DejaVu Sans Mono',consolas,'Courier New',monospace\">Average reward over last 5000 steps: -3.27\n",
       "</pre>\n"
      ],
      "text/plain": [
       "Average reward over last 5000 steps: -3.27\n"
      ]
     },
     "metadata": {},
     "output_type": "display_data"
    },
    {
     "data": {
      "text/html": [
       "<pre style=\"white-space:pre;overflow-x:auto;line-height:normal;font-family:Menlo,'DejaVu Sans Mono',consolas,'Courier New',monospace\">Average reward over last 5000 steps: -3.41\n",
       "</pre>\n"
      ],
      "text/plain": [
       "Average reward over last 5000 steps: -3.41\n"
      ]
     },
     "metadata": {},
     "output_type": "display_data"
    },
    {
     "data": {
      "text/html": [
       "<pre style=\"white-space:pre;overflow-x:auto;line-height:normal;font-family:Menlo,'DejaVu Sans Mono',consolas,'Courier New',monospace\">Average reward over last 5000 steps: -3.25\n",
       "</pre>\n"
      ],
      "text/plain": [
       "Average reward over last 5000 steps: -3.25\n"
      ]
     },
     "metadata": {},
     "output_type": "display_data"
    },
    {
     "data": {
      "text/html": [
       "<pre style=\"white-space:pre;overflow-x:auto;line-height:normal;font-family:Menlo,'DejaVu Sans Mono',consolas,'Courier New',monospace\">Average reward over last 5000 steps: -3.24\n",
       "</pre>\n"
      ],
      "text/plain": [
       "Average reward over last 5000 steps: -3.24\n"
      ]
     },
     "metadata": {},
     "output_type": "display_data"
    },
    {
     "data": {
      "text/html": [
       "<pre style=\"white-space:pre;overflow-x:auto;line-height:normal;font-family:Menlo,'DejaVu Sans Mono',consolas,'Courier New',monospace\">Average reward over last 5000 steps: -3.30\n",
       "</pre>\n"
      ],
      "text/plain": [
       "Average reward over last 5000 steps: -3.30\n"
      ]
     },
     "metadata": {},
     "output_type": "display_data"
    },
    {
     "data": {
      "text/html": [
       "<pre style=\"white-space:pre;overflow-x:auto;line-height:normal;font-family:Menlo,'DejaVu Sans Mono',consolas,'Courier New',monospace\">Average reward over last 5000 steps: -3.35\n",
       "</pre>\n"
      ],
      "text/plain": [
       "Average reward over last 5000 steps: -3.35\n"
      ]
     },
     "metadata": {},
     "output_type": "display_data"
    },
    {
     "data": {
      "text/html": [
       "<pre style=\"white-space:pre;overflow-x:auto;line-height:normal;font-family:Menlo,'DejaVu Sans Mono',consolas,'Courier New',monospace\">Average reward over last 5000 steps: -3.08\n",
       "</pre>\n"
      ],
      "text/plain": [
       "Average reward over last 5000 steps: -3.08\n"
      ]
     },
     "metadata": {},
     "output_type": "display_data"
    },
    {
     "data": {
      "text/html": [
       "<pre style=\"white-space:pre;overflow-x:auto;line-height:normal;font-family:Menlo,'DejaVu Sans Mono',consolas,'Courier New',monospace\">Average reward over last 5000 steps: -3.37\n",
       "</pre>\n"
      ],
      "text/plain": [
       "Average reward over last 5000 steps: -3.37\n"
      ]
     },
     "metadata": {},
     "output_type": "display_data"
    },
    {
     "data": {
      "text/html": [
       "<pre style=\"white-space:pre;overflow-x:auto;line-height:normal;font-family:Menlo,'DejaVu Sans Mono',consolas,'Courier New',monospace\">Average reward over last 5000 steps: -3.28\n",
       "</pre>\n"
      ],
      "text/plain": [
       "Average reward over last 5000 steps: -3.28\n"
      ]
     },
     "metadata": {},
     "output_type": "display_data"
    },
    {
     "data": {
      "text/html": [
       "<pre style=\"white-space:pre;overflow-x:auto;line-height:normal;font-family:Menlo,'DejaVu Sans Mono',consolas,'Courier New',monospace\">Average reward over last 5000 steps: -3.22\n",
       "</pre>\n"
      ],
      "text/plain": [
       "Average reward over last 5000 steps: -3.22\n"
      ]
     },
     "metadata": {},
     "output_type": "display_data"
    },
    {
     "data": {
      "text/html": [
       "<pre style=\"white-space:pre;overflow-x:auto;line-height:normal;font-family:Menlo,'DejaVu Sans Mono',consolas,'Courier New',monospace\">Average reward over last 5000 steps: -3.31\n",
       "</pre>\n"
      ],
      "text/plain": [
       "Average reward over last 5000 steps: -3.31\n"
      ]
     },
     "metadata": {},
     "output_type": "display_data"
    },
    {
     "data": {
      "text/html": [
       "<pre style=\"white-space:pre;overflow-x:auto;line-height:normal;font-family:Menlo,'DejaVu Sans Mono',consolas,'Courier New',monospace\">Average reward over last 5000 steps: -3.12\n",
       "</pre>\n"
      ],
      "text/plain": [
       "Average reward over last 5000 steps: -3.12\n"
      ]
     },
     "metadata": {},
     "output_type": "display_data"
    },
    {
     "data": {
      "text/html": [
       "<pre style=\"white-space:pre;overflow-x:auto;line-height:normal;font-family:Menlo,'DejaVu Sans Mono',consolas,'Courier New',monospace\">Average reward over last 5000 steps: -3.21\n",
       "</pre>\n"
      ],
      "text/plain": [
       "Average reward over last 5000 steps: -3.21\n"
      ]
     },
     "metadata": {},
     "output_type": "display_data"
    },
    {
     "data": {
      "text/html": [
       "<pre style=\"white-space:pre;overflow-x:auto;line-height:normal;font-family:Menlo,'DejaVu Sans Mono',consolas,'Courier New',monospace\">Average reward over last 5000 steps: -3.07\n",
       "</pre>\n"
      ],
      "text/plain": [
       "Average reward over last 5000 steps: -3.07\n"
      ]
     },
     "metadata": {},
     "output_type": "display_data"
    },
    {
     "data": {
      "text/html": [
       "<pre style=\"white-space:pre;overflow-x:auto;line-height:normal;font-family:Menlo,'DejaVu Sans Mono',consolas,'Courier New',monospace\">Average reward over last 5000 steps: -3.17\n",
       "</pre>\n"
      ],
      "text/plain": [
       "Average reward over last 5000 steps: -3.17\n"
      ]
     },
     "metadata": {},
     "output_type": "display_data"
    },
    {
     "data": {
      "text/html": [
       "<pre style=\"white-space:pre;overflow-x:auto;line-height:normal;font-family:Menlo,'DejaVu Sans Mono',consolas,'Courier New',monospace\">Average reward over last 5000 steps: -3.20\n",
       "</pre>\n"
      ],
      "text/plain": [
       "Average reward over last 5000 steps: -3.20\n"
      ]
     },
     "metadata": {},
     "output_type": "display_data"
    },
    {
     "data": {
      "text/html": [
       "<pre style=\"white-space:pre;overflow-x:auto;line-height:normal;font-family:Menlo,'DejaVu Sans Mono',consolas,'Courier New',monospace\">Average reward over last 5000 steps: -3.11\n",
       "</pre>\n"
      ],
      "text/plain": [
       "Average reward over last 5000 steps: -3.11\n"
      ]
     },
     "metadata": {},
     "output_type": "display_data"
    },
    {
     "data": {
      "text/html": [
       "<pre style=\"white-space:pre;overflow-x:auto;line-height:normal;font-family:Menlo,'DejaVu Sans Mono',consolas,'Courier New',monospace\">Average reward over last 5000 steps: -3.18\n",
       "</pre>\n"
      ],
      "text/plain": [
       "Average reward over last 5000 steps: -3.18\n"
      ]
     },
     "metadata": {},
     "output_type": "display_data"
    },
    {
     "data": {
      "text/html": [
       "<pre style=\"white-space:pre;overflow-x:auto;line-height:normal;font-family:Menlo,'DejaVu Sans Mono',consolas,'Courier New',monospace\">Average reward over last 5000 steps: -3.31\n",
       "</pre>\n"
      ],
      "text/plain": [
       "Average reward over last 5000 steps: -3.31\n"
      ]
     },
     "metadata": {},
     "output_type": "display_data"
    },
    {
     "data": {
      "text/html": [
       "<pre style=\"white-space:pre;overflow-x:auto;line-height:normal;font-family:Menlo,'DejaVu Sans Mono',consolas,'Courier New',monospace\">Average reward over last 5000 steps: -3.22\n",
       "</pre>\n"
      ],
      "text/plain": [
       "Average reward over last 5000 steps: -3.22\n"
      ]
     },
     "metadata": {},
     "output_type": "display_data"
    },
    {
     "data": {
      "text/html": [
       "<pre style=\"white-space:pre;overflow-x:auto;line-height:normal;font-family:Menlo,'DejaVu Sans Mono',consolas,'Courier New',monospace\">Average reward over last 5000 steps: -3.06\n",
       "</pre>\n"
      ],
      "text/plain": [
       "Average reward over last 5000 steps: -3.06\n"
      ]
     },
     "metadata": {},
     "output_type": "display_data"
    },
    {
     "data": {
      "text/html": [
       "<pre style=\"white-space:pre;overflow-x:auto;line-height:normal;font-family:Menlo,'DejaVu Sans Mono',consolas,'Courier New',monospace\">Average reward over last 5000 steps: -3.10\n",
       "</pre>\n"
      ],
      "text/plain": [
       "Average reward over last 5000 steps: -3.10\n"
      ]
     },
     "metadata": {},
     "output_type": "display_data"
    },
    {
     "data": {
      "text/html": [
       "<pre style=\"white-space:pre;overflow-x:auto;line-height:normal;font-family:Menlo,'DejaVu Sans Mono',consolas,'Courier New',monospace\">Average reward over last 5000 steps: -2.99\n",
       "</pre>\n"
      ],
      "text/plain": [
       "Average reward over last 5000 steps: -2.99\n"
      ]
     },
     "metadata": {},
     "output_type": "display_data"
    },
    {
     "data": {
      "text/html": [
       "<pre style=\"white-space:pre;overflow-x:auto;line-height:normal;font-family:Menlo,'DejaVu Sans Mono',consolas,'Courier New',monospace\">Average reward over last 5000 steps: -3.00\n",
       "</pre>\n"
      ],
      "text/plain": [
       "Average reward over last 5000 steps: -3.00\n"
      ]
     },
     "metadata": {},
     "output_type": "display_data"
    },
    {
     "data": {
      "text/html": [
       "<pre style=\"white-space:pre;overflow-x:auto;line-height:normal;font-family:Menlo,'DejaVu Sans Mono',consolas,'Courier New',monospace\">Average reward over last 5000 steps: -3.09\n",
       "</pre>\n"
      ],
      "text/plain": [
       "Average reward over last 5000 steps: -3.09\n"
      ]
     },
     "metadata": {},
     "output_type": "display_data"
    },
    {
     "data": {
      "text/html": [
       "<pre style=\"white-space:pre;overflow-x:auto;line-height:normal;font-family:Menlo,'DejaVu Sans Mono',consolas,'Courier New',monospace\">Average reward over last 5000 steps: -3.22\n",
       "</pre>\n"
      ],
      "text/plain": [
       "Average reward over last 5000 steps: -3.22\n"
      ]
     },
     "metadata": {},
     "output_type": "display_data"
    },
    {
     "data": {
      "text/html": [
       "<pre style=\"white-space:pre;overflow-x:auto;line-height:normal;font-family:Menlo,'DejaVu Sans Mono',consolas,'Courier New',monospace\">Average reward over last 5000 steps: -3.02\n",
       "</pre>\n"
      ],
      "text/plain": [
       "Average reward over last 5000 steps: -3.02\n"
      ]
     },
     "metadata": {},
     "output_type": "display_data"
    },
    {
     "data": {
      "text/html": [
       "<pre style=\"white-space:pre;overflow-x:auto;line-height:normal;font-family:Menlo,'DejaVu Sans Mono',consolas,'Courier New',monospace\">Average reward over last 5000 steps: -3.09\n",
       "</pre>\n"
      ],
      "text/plain": [
       "Average reward over last 5000 steps: -3.09\n"
      ]
     },
     "metadata": {},
     "output_type": "display_data"
    },
    {
     "data": {
      "text/html": [
       "<pre style=\"white-space:pre;overflow-x:auto;line-height:normal;font-family:Menlo,'DejaVu Sans Mono',consolas,'Courier New',monospace\">Average reward over last 5000 steps: -2.99\n",
       "</pre>\n"
      ],
      "text/plain": [
       "Average reward over last 5000 steps: -2.99\n"
      ]
     },
     "metadata": {},
     "output_type": "display_data"
    },
    {
     "data": {
      "text/html": [
       "<pre style=\"white-space:pre;overflow-x:auto;line-height:normal;font-family:Menlo,'DejaVu Sans Mono',consolas,'Courier New',monospace\">Average reward over last 5000 steps: -2.93\n",
       "</pre>\n"
      ],
      "text/plain": [
       "Average reward over last 5000 steps: -2.93\n"
      ]
     },
     "metadata": {},
     "output_type": "display_data"
    },
    {
     "data": {
      "text/html": [
       "<pre style=\"white-space:pre;overflow-x:auto;line-height:normal;font-family:Menlo,'DejaVu Sans Mono',consolas,'Courier New',monospace\">Average reward over last 5000 steps: -2.98\n",
       "</pre>\n"
      ],
      "text/plain": [
       "Average reward over last 5000 steps: -2.98\n"
      ]
     },
     "metadata": {},
     "output_type": "display_data"
    },
    {
     "data": {
      "text/html": [
       "<pre style=\"white-space:pre;overflow-x:auto;line-height:normal;font-family:Menlo,'DejaVu Sans Mono',consolas,'Courier New',monospace\">Average reward over last 5000 steps: -2.92\n",
       "</pre>\n"
      ],
      "text/plain": [
       "Average reward over last 5000 steps: -2.92\n"
      ]
     },
     "metadata": {},
     "output_type": "display_data"
    },
    {
     "data": {
      "text/html": [
       "<pre style=\"white-space:pre;overflow-x:auto;line-height:normal;font-family:Menlo,'DejaVu Sans Mono',consolas,'Courier New',monospace\">Average reward over last 5000 steps: -2.99\n",
       "</pre>\n"
      ],
      "text/plain": [
       "Average reward over last 5000 steps: -2.99\n"
      ]
     },
     "metadata": {},
     "output_type": "display_data"
    },
    {
     "data": {
      "text/html": [
       "<pre style=\"white-space:pre;overflow-x:auto;line-height:normal;font-family:Menlo,'DejaVu Sans Mono',consolas,'Courier New',monospace\">Average reward over last 5000 steps: -2.85\n",
       "</pre>\n"
      ],
      "text/plain": [
       "Average reward over last 5000 steps: -2.85\n"
      ]
     },
     "metadata": {},
     "output_type": "display_data"
    },
    {
     "data": {
      "text/html": [
       "<pre style=\"white-space:pre;overflow-x:auto;line-height:normal;font-family:Menlo,'DejaVu Sans Mono',consolas,'Courier New',monospace\">Average reward over last 5000 steps: -3.06\n",
       "</pre>\n"
      ],
      "text/plain": [
       "Average reward over last 5000 steps: -3.06\n"
      ]
     },
     "metadata": {},
     "output_type": "display_data"
    },
    {
     "data": {
      "text/html": [
       "<pre style=\"white-space:pre;overflow-x:auto;line-height:normal;font-family:Menlo,'DejaVu Sans Mono',consolas,'Courier New',monospace\">Average reward over last 5000 steps: -2.90\n",
       "</pre>\n"
      ],
      "text/plain": [
       "Average reward over last 5000 steps: -2.90\n"
      ]
     },
     "metadata": {},
     "output_type": "display_data"
    },
    {
     "data": {
      "text/html": [
       "<pre style=\"white-space:pre;overflow-x:auto;line-height:normal;font-family:Menlo,'DejaVu Sans Mono',consolas,'Courier New',monospace\">Average reward over last 5000 steps: -2.91\n",
       "</pre>\n"
      ],
      "text/plain": [
       "Average reward over last 5000 steps: -2.91\n"
      ]
     },
     "metadata": {},
     "output_type": "display_data"
    },
    {
     "data": {
      "text/html": [
       "<pre style=\"white-space:pre;overflow-x:auto;line-height:normal;font-family:Menlo,'DejaVu Sans Mono',consolas,'Courier New',monospace\">Average reward over last 5000 steps: -3.10\n",
       "</pre>\n"
      ],
      "text/plain": [
       "Average reward over last 5000 steps: -3.10\n"
      ]
     },
     "metadata": {},
     "output_type": "display_data"
    },
    {
     "data": {
      "text/html": [
       "<pre style=\"white-space:pre;overflow-x:auto;line-height:normal;font-family:Menlo,'DejaVu Sans Mono',consolas,'Courier New',monospace\">Average reward over last 5000 steps: -3.08\n",
       "</pre>\n"
      ],
      "text/plain": [
       "Average reward over last 5000 steps: -3.08\n"
      ]
     },
     "metadata": {},
     "output_type": "display_data"
    },
    {
     "data": {
      "text/html": [
       "<pre style=\"white-space:pre;overflow-x:auto;line-height:normal;font-family:Menlo,'DejaVu Sans Mono',consolas,'Courier New',monospace\">Average reward over last 5000 steps: -2.74\n",
       "</pre>\n"
      ],
      "text/plain": [
       "Average reward over last 5000 steps: -2.74\n"
      ]
     },
     "metadata": {},
     "output_type": "display_data"
    },
    {
     "data": {
      "text/html": [
       "<pre style=\"white-space:pre;overflow-x:auto;line-height:normal;font-family:Menlo,'DejaVu Sans Mono',consolas,'Courier New',monospace\">Average reward over last 5000 steps: -2.95\n",
       "</pre>\n"
      ],
      "text/plain": [
       "Average reward over last 5000 steps: -2.95\n"
      ]
     },
     "metadata": {},
     "output_type": "display_data"
    },
    {
     "data": {
      "text/html": [
       "<pre style=\"white-space:pre;overflow-x:auto;line-height:normal;font-family:Menlo,'DejaVu Sans Mono',consolas,'Courier New',monospace\">Average reward over last 5000 steps: -2.79\n",
       "</pre>\n"
      ],
      "text/plain": [
       "Average reward over last 5000 steps: -2.79\n"
      ]
     },
     "metadata": {},
     "output_type": "display_data"
    },
    {
     "data": {
      "text/html": [
       "<pre style=\"white-space:pre;overflow-x:auto;line-height:normal;font-family:Menlo,'DejaVu Sans Mono',consolas,'Courier New',monospace\">Average reward over last 5000 steps: -2.80\n",
       "</pre>\n"
      ],
      "text/plain": [
       "Average reward over last 5000 steps: -2.80\n"
      ]
     },
     "metadata": {},
     "output_type": "display_data"
    },
    {
     "data": {
      "text/html": [
       "<pre style=\"white-space:pre;overflow-x:auto;line-height:normal;font-family:Menlo,'DejaVu Sans Mono',consolas,'Courier New',monospace\">Average reward over last 5000 steps: -2.93\n",
       "</pre>\n"
      ],
      "text/plain": [
       "Average reward over last 5000 steps: -2.93\n"
      ]
     },
     "metadata": {},
     "output_type": "display_data"
    },
    {
     "data": {
      "text/html": [
       "<pre style=\"white-space:pre;overflow-x:auto;line-height:normal;font-family:Menlo,'DejaVu Sans Mono',consolas,'Courier New',monospace\">Average reward over last 5000 steps: -2.95\n",
       "</pre>\n"
      ],
      "text/plain": [
       "Average reward over last 5000 steps: -2.95\n"
      ]
     },
     "metadata": {},
     "output_type": "display_data"
    },
    {
     "data": {
      "text/html": [
       "<pre style=\"white-space:pre;overflow-x:auto;line-height:normal;font-family:Menlo,'DejaVu Sans Mono',consolas,'Courier New',monospace\">Average reward over last 5000 steps: -2.99\n",
       "</pre>\n"
      ],
      "text/plain": [
       "Average reward over last 5000 steps: -2.99\n"
      ]
     },
     "metadata": {},
     "output_type": "display_data"
    },
    {
     "data": {
      "text/html": [
       "<pre style=\"white-space:pre;overflow-x:auto;line-height:normal;font-family:Menlo,'DejaVu Sans Mono',consolas,'Courier New',monospace\">Average reward over last 5000 steps: -3.05\n",
       "</pre>\n"
      ],
      "text/plain": [
       "Average reward over last 5000 steps: -3.05\n"
      ]
     },
     "metadata": {},
     "output_type": "display_data"
    },
    {
     "data": {
      "text/html": [
       "<pre style=\"white-space:pre;overflow-x:auto;line-height:normal;font-family:Menlo,'DejaVu Sans Mono',consolas,'Courier New',monospace\">Average reward over last 5000 steps: -2.85\n",
       "</pre>\n"
      ],
      "text/plain": [
       "Average reward over last 5000 steps: -2.85\n"
      ]
     },
     "metadata": {},
     "output_type": "display_data"
    },
    {
     "data": {
      "text/html": [
       "<pre style=\"white-space:pre;overflow-x:auto;line-height:normal;font-family:Menlo,'DejaVu Sans Mono',consolas,'Courier New',monospace\">Average reward over last 5000 steps: -2.71\n",
       "</pre>\n"
      ],
      "text/plain": [
       "Average reward over last 5000 steps: -2.71\n"
      ]
     },
     "metadata": {},
     "output_type": "display_data"
    },
    {
     "data": {
      "text/html": [
       "<pre style=\"white-space:pre;overflow-x:auto;line-height:normal;font-family:Menlo,'DejaVu Sans Mono',consolas,'Courier New',monospace\">Average reward over last 5000 steps: -2.76\n",
       "</pre>\n"
      ],
      "text/plain": [
       "Average reward over last 5000 steps: -2.76\n"
      ]
     },
     "metadata": {},
     "output_type": "display_data"
    },
    {
     "data": {
      "text/html": [
       "<pre style=\"white-space:pre;overflow-x:auto;line-height:normal;font-family:Menlo,'DejaVu Sans Mono',consolas,'Courier New',monospace\">Average reward over last 5000 steps: -2.74\n",
       "</pre>\n"
      ],
      "text/plain": [
       "Average reward over last 5000 steps: -2.74\n"
      ]
     },
     "metadata": {},
     "output_type": "display_data"
    },
    {
     "data": {
      "text/html": [
       "<pre style=\"white-space:pre;overflow-x:auto;line-height:normal;font-family:Menlo,'DejaVu Sans Mono',consolas,'Courier New',monospace\">Average reward over last 5000 steps: -2.85\n",
       "</pre>\n"
      ],
      "text/plain": [
       "Average reward over last 5000 steps: -2.85\n"
      ]
     },
     "metadata": {},
     "output_type": "display_data"
    },
    {
     "data": {
      "text/html": [
       "<pre style=\"white-space:pre;overflow-x:auto;line-height:normal;font-family:Menlo,'DejaVu Sans Mono',consolas,'Courier New',monospace\">Average reward over last 5000 steps: -2.90\n",
       "</pre>\n"
      ],
      "text/plain": [
       "Average reward over last 5000 steps: -2.90\n"
      ]
     },
     "metadata": {},
     "output_type": "display_data"
    },
    {
     "data": {
      "text/html": [
       "<pre style=\"white-space:pre;overflow-x:auto;line-height:normal;font-family:Menlo,'DejaVu Sans Mono',consolas,'Courier New',monospace\">Average reward over last 5000 steps: -2.75\n",
       "</pre>\n"
      ],
      "text/plain": [
       "Average reward over last 5000 steps: -2.75\n"
      ]
     },
     "metadata": {},
     "output_type": "display_data"
    },
    {
     "data": {
      "text/html": [
       "<pre style=\"white-space:pre;overflow-x:auto;line-height:normal;font-family:Menlo,'DejaVu Sans Mono',consolas,'Courier New',monospace\">Average reward over last 5000 steps: -2.70\n",
       "</pre>\n"
      ],
      "text/plain": [
       "Average reward over last 5000 steps: -2.70\n"
      ]
     },
     "metadata": {},
     "output_type": "display_data"
    },
    {
     "data": {
      "text/html": [
       "<pre style=\"white-space:pre;overflow-x:auto;line-height:normal;font-family:Menlo,'DejaVu Sans Mono',consolas,'Courier New',monospace\">Average reward over last 5000 steps: -2.69\n",
       "</pre>\n"
      ],
      "text/plain": [
       "Average reward over last 5000 steps: -2.69\n"
      ]
     },
     "metadata": {},
     "output_type": "display_data"
    },
    {
     "data": {
      "text/html": [
       "<pre style=\"white-space:pre;overflow-x:auto;line-height:normal;font-family:Menlo,'DejaVu Sans Mono',consolas,'Courier New',monospace\">Average reward over last 5000 steps: -2.46\n",
       "</pre>\n"
      ],
      "text/plain": [
       "Average reward over last 5000 steps: -2.46\n"
      ]
     },
     "metadata": {},
     "output_type": "display_data"
    },
    {
     "data": {
      "text/html": [
       "<pre style=\"white-space:pre;overflow-x:auto;line-height:normal;font-family:Menlo,'DejaVu Sans Mono',consolas,'Courier New',monospace\">Average reward over last 5000 steps: -2.71\n",
       "</pre>\n"
      ],
      "text/plain": [
       "Average reward over last 5000 steps: -2.71\n"
      ]
     },
     "metadata": {},
     "output_type": "display_data"
    },
    {
     "data": {
      "text/html": [
       "<pre style=\"white-space:pre;overflow-x:auto;line-height:normal;font-family:Menlo,'DejaVu Sans Mono',consolas,'Courier New',monospace\">Average reward over last 5000 steps: -2.62\n",
       "</pre>\n"
      ],
      "text/plain": [
       "Average reward over last 5000 steps: -2.62\n"
      ]
     },
     "metadata": {},
     "output_type": "display_data"
    },
    {
     "data": {
      "text/html": [
       "<pre style=\"white-space:pre;overflow-x:auto;line-height:normal;font-family:Menlo,'DejaVu Sans Mono',consolas,'Courier New',monospace\">Average reward over last 5000 steps: -2.67\n",
       "</pre>\n"
      ],
      "text/plain": [
       "Average reward over last 5000 steps: -2.67\n"
      ]
     },
     "metadata": {},
     "output_type": "display_data"
    },
    {
     "data": {
      "text/html": [
       "<pre style=\"white-space:pre;overflow-x:auto;line-height:normal;font-family:Menlo,'DejaVu Sans Mono',consolas,'Courier New',monospace\">Average reward over last 5000 steps: -2.53\n",
       "</pre>\n"
      ],
      "text/plain": [
       "Average reward over last 5000 steps: -2.53\n"
      ]
     },
     "metadata": {},
     "output_type": "display_data"
    },
    {
     "data": {
      "text/html": [
       "<pre style=\"white-space:pre;overflow-x:auto;line-height:normal;font-family:Menlo,'DejaVu Sans Mono',consolas,'Courier New',monospace\">Average reward over last 5000 steps: -2.51\n",
       "</pre>\n"
      ],
      "text/plain": [
       "Average reward over last 5000 steps: -2.51\n"
      ]
     },
     "metadata": {},
     "output_type": "display_data"
    },
    {
     "data": {
      "text/html": [
       "<pre style=\"white-space:pre;overflow-x:auto;line-height:normal;font-family:Menlo,'DejaVu Sans Mono',consolas,'Courier New',monospace\">Average reward over last 5000 steps: -2.62\n",
       "</pre>\n"
      ],
      "text/plain": [
       "Average reward over last 5000 steps: -2.62\n"
      ]
     },
     "metadata": {},
     "output_type": "display_data"
    },
    {
     "data": {
      "text/html": [
       "<pre style=\"white-space:pre;overflow-x:auto;line-height:normal;font-family:Menlo,'DejaVu Sans Mono',consolas,'Courier New',monospace\">Average reward over last 5000 steps: -2.69\n",
       "</pre>\n"
      ],
      "text/plain": [
       "Average reward over last 5000 steps: -2.69\n"
      ]
     },
     "metadata": {},
     "output_type": "display_data"
    },
    {
     "data": {
      "text/html": [
       "<pre style=\"white-space:pre;overflow-x:auto;line-height:normal;font-family:Menlo,'DejaVu Sans Mono',consolas,'Courier New',monospace\">Average reward over last 5000 steps: -2.55\n",
       "</pre>\n"
      ],
      "text/plain": [
       "Average reward over last 5000 steps: -2.55\n"
      ]
     },
     "metadata": {},
     "output_type": "display_data"
    },
    {
     "data": {
      "text/html": [
       "<pre style=\"white-space:pre;overflow-x:auto;line-height:normal;font-family:Menlo,'DejaVu Sans Mono',consolas,'Courier New',monospace\">Average reward over last 5000 steps: -2.66\n",
       "</pre>\n"
      ],
      "text/plain": [
       "Average reward over last 5000 steps: -2.66\n"
      ]
     },
     "metadata": {},
     "output_type": "display_data"
    },
    {
     "data": {
      "text/html": [
       "<pre style=\"white-space:pre;overflow-x:auto;line-height:normal;font-family:Menlo,'DejaVu Sans Mono',consolas,'Courier New',monospace\">Average reward over last 5000 steps: -2.69\n",
       "</pre>\n"
      ],
      "text/plain": [
       "Average reward over last 5000 steps: -2.69\n"
      ]
     },
     "metadata": {},
     "output_type": "display_data"
    },
    {
     "data": {
      "text/html": [
       "<pre style=\"white-space:pre;overflow-x:auto;line-height:normal;font-family:Menlo,'DejaVu Sans Mono',consolas,'Courier New',monospace\">Average reward over last 5000 steps: -2.52\n",
       "</pre>\n"
      ],
      "text/plain": [
       "Average reward over last 5000 steps: -2.52\n"
      ]
     },
     "metadata": {},
     "output_type": "display_data"
    },
    {
     "data": {
      "text/html": [
       "<pre style=\"white-space:pre;overflow-x:auto;line-height:normal;font-family:Menlo,'DejaVu Sans Mono',consolas,'Courier New',monospace\">Average reward over last 5000 steps: -2.54\n",
       "</pre>\n"
      ],
      "text/plain": [
       "Average reward over last 5000 steps: -2.54\n"
      ]
     },
     "metadata": {},
     "output_type": "display_data"
    },
    {
     "data": {
      "text/html": [
       "<pre style=\"white-space:pre;overflow-x:auto;line-height:normal;font-family:Menlo,'DejaVu Sans Mono',consolas,'Courier New',monospace\">Average reward over last 5000 steps: -2.61\n",
       "</pre>\n"
      ],
      "text/plain": [
       "Average reward over last 5000 steps: -2.61\n"
      ]
     },
     "metadata": {},
     "output_type": "display_data"
    },
    {
     "data": {
      "text/html": [
       "<pre style=\"white-space:pre;overflow-x:auto;line-height:normal;font-family:Menlo,'DejaVu Sans Mono',consolas,'Courier New',monospace\">Average reward over last 5000 steps: -2.75\n",
       "</pre>\n"
      ],
      "text/plain": [
       "Average reward over last 5000 steps: -2.75\n"
      ]
     },
     "metadata": {},
     "output_type": "display_data"
    },
    {
     "data": {
      "text/html": [
       "<pre style=\"white-space:pre;overflow-x:auto;line-height:normal;font-family:Menlo,'DejaVu Sans Mono',consolas,'Courier New',monospace\">Average reward over last 5000 steps: -2.76\n",
       "</pre>\n"
      ],
      "text/plain": [
       "Average reward over last 5000 steps: -2.76\n"
      ]
     },
     "metadata": {},
     "output_type": "display_data"
    },
    {
     "data": {
      "text/html": [
       "<pre style=\"white-space:pre;overflow-x:auto;line-height:normal;font-family:Menlo,'DejaVu Sans Mono',consolas,'Courier New',monospace\">Average reward over last 5000 steps: -2.57\n",
       "</pre>\n"
      ],
      "text/plain": [
       "Average reward over last 5000 steps: -2.57\n"
      ]
     },
     "metadata": {},
     "output_type": "display_data"
    },
    {
     "data": {
      "text/html": [
       "<pre style=\"white-space:pre;overflow-x:auto;line-height:normal;font-family:Menlo,'DejaVu Sans Mono',consolas,'Courier New',monospace\">Average reward over last 5000 steps: -2.74\n",
       "</pre>\n"
      ],
      "text/plain": [
       "Average reward over last 5000 steps: -2.74\n"
      ]
     },
     "metadata": {},
     "output_type": "display_data"
    },
    {
     "data": {
      "text/html": [
       "<pre style=\"white-space:pre;overflow-x:auto;line-height:normal;font-family:Menlo,'DejaVu Sans Mono',consolas,'Courier New',monospace\">Average reward over last 5000 steps: -2.80\n",
       "</pre>\n"
      ],
      "text/plain": [
       "Average reward over last 5000 steps: -2.80\n"
      ]
     },
     "metadata": {},
     "output_type": "display_data"
    },
    {
     "data": {
      "text/html": [
       "<pre style=\"white-space:pre;overflow-x:auto;line-height:normal;font-family:Menlo,'DejaVu Sans Mono',consolas,'Courier New',monospace\">Average reward over last 5000 steps: -2.61\n",
       "</pre>\n"
      ],
      "text/plain": [
       "Average reward over last 5000 steps: -2.61\n"
      ]
     },
     "metadata": {},
     "output_type": "display_data"
    },
    {
     "data": {
      "text/html": [
       "<pre style=\"white-space:pre;overflow-x:auto;line-height:normal;font-family:Menlo,'DejaVu Sans Mono',consolas,'Courier New',monospace\">Average reward over last 5000 steps: -2.52\n",
       "</pre>\n"
      ],
      "text/plain": [
       "Average reward over last 5000 steps: -2.52\n"
      ]
     },
     "metadata": {},
     "output_type": "display_data"
    },
    {
     "data": {
      "text/html": [
       "<pre style=\"white-space:pre;overflow-x:auto;line-height:normal;font-family:Menlo,'DejaVu Sans Mono',consolas,'Courier New',monospace\">Average reward over last 5000 steps: -2.84\n",
       "</pre>\n"
      ],
      "text/plain": [
       "Average reward over last 5000 steps: -2.84\n"
      ]
     },
     "metadata": {},
     "output_type": "display_data"
    },
    {
     "data": {
      "text/html": [
       "<pre style=\"white-space:pre;overflow-x:auto;line-height:normal;font-family:Menlo,'DejaVu Sans Mono',consolas,'Courier New',monospace\">Average reward over last 5000 steps: -2.85\n",
       "</pre>\n"
      ],
      "text/plain": [
       "Average reward over last 5000 steps: -2.85\n"
      ]
     },
     "metadata": {},
     "output_type": "display_data"
    },
    {
     "data": {
      "text/html": [
       "<pre style=\"white-space:pre;overflow-x:auto;line-height:normal;font-family:Menlo,'DejaVu Sans Mono',consolas,'Courier New',monospace\">Average reward over last 5000 steps: -2.90\n",
       "</pre>\n"
      ],
      "text/plain": [
       "Average reward over last 5000 steps: -2.90\n"
      ]
     },
     "metadata": {},
     "output_type": "display_data"
    },
    {
     "data": {
      "text/html": [
       "<pre style=\"white-space:pre;overflow-x:auto;line-height:normal;font-family:Menlo,'DejaVu Sans Mono',consolas,'Courier New',monospace\">Average reward over last 5000 steps: -2.57\n",
       "</pre>\n"
      ],
      "text/plain": [
       "Average reward over last 5000 steps: -2.57\n"
      ]
     },
     "metadata": {},
     "output_type": "display_data"
    },
    {
     "data": {
      "text/html": [
       "<pre style=\"white-space:pre;overflow-x:auto;line-height:normal;font-family:Menlo,'DejaVu Sans Mono',consolas,'Courier New',monospace\">Average reward over last 5000 steps: -2.19\n",
       "</pre>\n"
      ],
      "text/plain": [
       "Average reward over last 5000 steps: -2.19\n"
      ]
     },
     "metadata": {},
     "output_type": "display_data"
    },
    {
     "data": {
      "text/html": [
       "<pre style=\"white-space:pre;overflow-x:auto;line-height:normal;font-family:Menlo,'DejaVu Sans Mono',consolas,'Courier New',monospace\">Average reward over last 5000 steps: -2.59\n",
       "</pre>\n"
      ],
      "text/plain": [
       "Average reward over last 5000 steps: -2.59\n"
      ]
     },
     "metadata": {},
     "output_type": "display_data"
    },
    {
     "data": {
      "text/html": [
       "<pre style=\"white-space:pre;overflow-x:auto;line-height:normal;font-family:Menlo,'DejaVu Sans Mono',consolas,'Courier New',monospace\">Average reward over last 5000 steps: -2.57\n",
       "</pre>\n"
      ],
      "text/plain": [
       "Average reward over last 5000 steps: -2.57\n"
      ]
     },
     "metadata": {},
     "output_type": "display_data"
    },
    {
     "data": {
      "text/html": [
       "<pre style=\"white-space:pre;overflow-x:auto;line-height:normal;font-family:Menlo,'DejaVu Sans Mono',consolas,'Courier New',monospace\">Average reward over last 5000 steps: -2.50\n",
       "</pre>\n"
      ],
      "text/plain": [
       "Average reward over last 5000 steps: -2.50\n"
      ]
     },
     "metadata": {},
     "output_type": "display_data"
    },
    {
     "data": {
      "text/html": [
       "<pre style=\"white-space:pre;overflow-x:auto;line-height:normal;font-family:Menlo,'DejaVu Sans Mono',consolas,'Courier New',monospace\">Average reward over last 5000 steps: -2.53\n",
       "</pre>\n"
      ],
      "text/plain": [
       "Average reward over last 5000 steps: -2.53\n"
      ]
     },
     "metadata": {},
     "output_type": "display_data"
    },
    {
     "data": {
      "text/html": [
       "<pre style=\"white-space:pre;overflow-x:auto;line-height:normal;font-family:Menlo,'DejaVu Sans Mono',consolas,'Courier New',monospace\">Average reward over last 5000 steps: -2.36\n",
       "</pre>\n"
      ],
      "text/plain": [
       "Average reward over last 5000 steps: -2.36\n"
      ]
     },
     "metadata": {},
     "output_type": "display_data"
    },
    {
     "data": {
      "text/html": [
       "<pre style=\"white-space:pre;overflow-x:auto;line-height:normal;font-family:Menlo,'DejaVu Sans Mono',consolas,'Courier New',monospace\">Average reward over last 5000 steps: -2.38\n",
       "</pre>\n"
      ],
      "text/plain": [
       "Average reward over last 5000 steps: -2.38\n"
      ]
     },
     "metadata": {},
     "output_type": "display_data"
    },
    {
     "data": {
      "text/html": [
       "<pre style=\"white-space:pre;overflow-x:auto;line-height:normal;font-family:Menlo,'DejaVu Sans Mono',consolas,'Courier New',monospace\">Average reward over last 5000 steps: -2.22\n",
       "</pre>\n"
      ],
      "text/plain": [
       "Average reward over last 5000 steps: -2.22\n"
      ]
     },
     "metadata": {},
     "output_type": "display_data"
    },
    {
     "data": {
      "text/html": [
       "<pre style=\"white-space:pre;overflow-x:auto;line-height:normal;font-family:Menlo,'DejaVu Sans Mono',consolas,'Courier New',monospace\">Average reward over last 5000 steps: -2.40\n",
       "</pre>\n"
      ],
      "text/plain": [
       "Average reward over last 5000 steps: -2.40\n"
      ]
     },
     "metadata": {},
     "output_type": "display_data"
    },
    {
     "data": {
      "text/html": [
       "<pre style=\"white-space:pre;overflow-x:auto;line-height:normal;font-family:Menlo,'DejaVu Sans Mono',consolas,'Courier New',monospace\">Advancing to Phase 4\n",
       "</pre>\n"
      ],
      "text/plain": [
       "Advancing to Phase 4\n"
      ]
     },
     "metadata": {},
     "output_type": "display_data"
    },
    {
     "data": {
      "text/html": [
       "<pre style=\"white-space:pre;overflow-x:auto;line-height:normal;font-family:Menlo,'DejaVu Sans Mono',consolas,'Courier New',monospace\">Average reward over last 5000 steps: -2.46\n",
       "</pre>\n"
      ],
      "text/plain": [
       "Average reward over last 5000 steps: -2.46\n"
      ]
     },
     "metadata": {},
     "output_type": "display_data"
    },
    {
     "data": {
      "text/html": [
       "<pre style=\"white-space:pre;overflow-x:auto;line-height:normal;font-family:Menlo,'DejaVu Sans Mono',consolas,'Courier New',monospace\">Average reward over last 5000 steps: -1.83\n",
       "</pre>\n"
      ],
      "text/plain": [
       "Average reward over last 5000 steps: -1.83\n"
      ]
     },
     "metadata": {},
     "output_type": "display_data"
    },
    {
     "data": {
      "text/html": [
       "<pre style=\"white-space:pre;overflow-x:auto;line-height:normal;font-family:Menlo,'DejaVu Sans Mono',consolas,'Courier New',monospace\">Average reward over last 5000 steps: -1.92\n",
       "</pre>\n"
      ],
      "text/plain": [
       "Average reward over last 5000 steps: -1.92\n"
      ]
     },
     "metadata": {},
     "output_type": "display_data"
    },
    {
     "data": {
      "text/html": [
       "<pre style=\"white-space:pre;overflow-x:auto;line-height:normal;font-family:Menlo,'DejaVu Sans Mono',consolas,'Courier New',monospace\">Average reward over last 5000 steps: -2.00\n",
       "</pre>\n"
      ],
      "text/plain": [
       "Average reward over last 5000 steps: -2.00\n"
      ]
     },
     "metadata": {},
     "output_type": "display_data"
    },
    {
     "data": {
      "text/html": [
       "<pre style=\"white-space:pre;overflow-x:auto;line-height:normal;font-family:Menlo,'DejaVu Sans Mono',consolas,'Courier New',monospace\">Average reward over last 5000 steps: -1.97\n",
       "</pre>\n"
      ],
      "text/plain": [
       "Average reward over last 5000 steps: -1.97\n"
      ]
     },
     "metadata": {},
     "output_type": "display_data"
    },
    {
     "data": {
      "text/html": [
       "<pre style=\"white-space:pre;overflow-x:auto;line-height:normal;font-family:Menlo,'DejaVu Sans Mono',consolas,'Courier New',monospace\">Average reward over last 5000 steps: -1.85\n",
       "</pre>\n"
      ],
      "text/plain": [
       "Average reward over last 5000 steps: -1.85\n"
      ]
     },
     "metadata": {},
     "output_type": "display_data"
    },
    {
     "data": {
      "text/html": [
       "<pre style=\"white-space:pre;overflow-x:auto;line-height:normal;font-family:Menlo,'DejaVu Sans Mono',consolas,'Courier New',monospace\">Average reward over last 5000 steps: -1.73\n",
       "</pre>\n"
      ],
      "text/plain": [
       "Average reward over last 5000 steps: -1.73\n"
      ]
     },
     "metadata": {},
     "output_type": "display_data"
    },
    {
     "data": {
      "text/html": [
       "<pre style=\"white-space:pre;overflow-x:auto;line-height:normal;font-family:Menlo,'DejaVu Sans Mono',consolas,'Courier New',monospace\">Average reward over last 5000 steps: -1.80\n",
       "</pre>\n"
      ],
      "text/plain": [
       "Average reward over last 5000 steps: -1.80\n"
      ]
     },
     "metadata": {},
     "output_type": "display_data"
    },
    {
     "data": {
      "text/html": [
       "<pre style=\"white-space:pre;overflow-x:auto;line-height:normal;font-family:Menlo,'DejaVu Sans Mono',consolas,'Courier New',monospace\">Average reward over last 5000 steps: -1.64\n",
       "</pre>\n"
      ],
      "text/plain": [
       "Average reward over last 5000 steps: -1.64\n"
      ]
     },
     "metadata": {},
     "output_type": "display_data"
    },
    {
     "data": {
      "text/html": [
       "<pre style=\"white-space:pre;overflow-x:auto;line-height:normal;font-family:Menlo,'DejaVu Sans Mono',consolas,'Courier New',monospace\">Average reward over last 5000 steps: -1.58\n",
       "</pre>\n"
      ],
      "text/plain": [
       "Average reward over last 5000 steps: -1.58\n"
      ]
     },
     "metadata": {},
     "output_type": "display_data"
    },
    {
     "data": {
      "text/html": [
       "<pre style=\"white-space:pre;overflow-x:auto;line-height:normal;font-family:Menlo,'DejaVu Sans Mono',consolas,'Courier New',monospace\">Average reward over last 5000 steps: -1.60\n",
       "</pre>\n"
      ],
      "text/plain": [
       "Average reward over last 5000 steps: -1.60\n"
      ]
     },
     "metadata": {},
     "output_type": "display_data"
    },
    {
     "data": {
      "text/html": [
       "<pre style=\"white-space:pre;overflow-x:auto;line-height:normal;font-family:Menlo,'DejaVu Sans Mono',consolas,'Courier New',monospace\">Average reward over last 5000 steps: -1.67\n",
       "</pre>\n"
      ],
      "text/plain": [
       "Average reward over last 5000 steps: -1.67\n"
      ]
     },
     "metadata": {},
     "output_type": "display_data"
    },
    {
     "data": {
      "text/html": [
       "<pre style=\"white-space:pre;overflow-x:auto;line-height:normal;font-family:Menlo,'DejaVu Sans Mono',consolas,'Courier New',monospace\">Average reward over last 5000 steps: -1.60\n",
       "</pre>\n"
      ],
      "text/plain": [
       "Average reward over last 5000 steps: -1.60\n"
      ]
     },
     "metadata": {},
     "output_type": "display_data"
    },
    {
     "data": {
      "text/html": [
       "<pre style=\"white-space:pre;overflow-x:auto;line-height:normal;font-family:Menlo,'DejaVu Sans Mono',consolas,'Courier New',monospace\">Average reward over last 5000 steps: -1.51\n",
       "</pre>\n"
      ],
      "text/plain": [
       "Average reward over last 5000 steps: -1.51\n"
      ]
     },
     "metadata": {},
     "output_type": "display_data"
    },
    {
     "data": {
      "text/html": [
       "<pre style=\"white-space:pre;overflow-x:auto;line-height:normal;font-family:Menlo,'DejaVu Sans Mono',consolas,'Courier New',monospace\">Average reward over last 5000 steps: -1.72\n",
       "</pre>\n"
      ],
      "text/plain": [
       "Average reward over last 5000 steps: -1.72\n"
      ]
     },
     "metadata": {},
     "output_type": "display_data"
    },
    {
     "data": {
      "text/html": [
       "<pre style=\"white-space:pre;overflow-x:auto;line-height:normal;font-family:Menlo,'DejaVu Sans Mono',consolas,'Courier New',monospace\">Average reward over last 5000 steps: -1.56\n",
       "</pre>\n"
      ],
      "text/plain": [
       "Average reward over last 5000 steps: -1.56\n"
      ]
     },
     "metadata": {},
     "output_type": "display_data"
    },
    {
     "data": {
      "text/html": [
       "<pre style=\"white-space:pre;overflow-x:auto;line-height:normal;font-family:Menlo,'DejaVu Sans Mono',consolas,'Courier New',monospace\">Average reward over last 5000 steps: -1.83\n",
       "</pre>\n"
      ],
      "text/plain": [
       "Average reward over last 5000 steps: -1.83\n"
      ]
     },
     "metadata": {},
     "output_type": "display_data"
    },
    {
     "data": {
      "text/html": [
       "<pre style=\"white-space:pre;overflow-x:auto;line-height:normal;font-family:Menlo,'DejaVu Sans Mono',consolas,'Courier New',monospace\">Average reward over last 5000 steps: -1.45\n",
       "</pre>\n"
      ],
      "text/plain": [
       "Average reward over last 5000 steps: -1.45\n"
      ]
     },
     "metadata": {},
     "output_type": "display_data"
    },
    {
     "data": {
      "text/html": [
       "<pre style=\"white-space:pre;overflow-x:auto;line-height:normal;font-family:Menlo,'DejaVu Sans Mono',consolas,'Courier New',monospace\">Average reward over last 5000 steps: -1.61\n",
       "</pre>\n"
      ],
      "text/plain": [
       "Average reward over last 5000 steps: -1.61\n"
      ]
     },
     "metadata": {},
     "output_type": "display_data"
    },
    {
     "data": {
      "text/html": [
       "<pre style=\"white-space:pre;overflow-x:auto;line-height:normal;font-family:Menlo,'DejaVu Sans Mono',consolas,'Courier New',monospace\">Average reward over last 5000 steps: -1.57\n",
       "</pre>\n"
      ],
      "text/plain": [
       "Average reward over last 5000 steps: -1.57\n"
      ]
     },
     "metadata": {},
     "output_type": "display_data"
    },
    {
     "data": {
      "text/html": [
       "<pre style=\"white-space:pre;overflow-x:auto;line-height:normal;font-family:Menlo,'DejaVu Sans Mono',consolas,'Courier New',monospace\">Average reward over last 5000 steps: -1.12\n",
       "</pre>\n"
      ],
      "text/plain": [
       "Average reward over last 5000 steps: -1.12\n"
      ]
     },
     "metadata": {},
     "output_type": "display_data"
    },
    {
     "data": {
      "text/html": [
       "<pre style=\"white-space:pre;overflow-x:auto;line-height:normal;font-family:Menlo,'DejaVu Sans Mono',consolas,'Courier New',monospace\">Average reward over last 5000 steps: -1.39\n",
       "</pre>\n"
      ],
      "text/plain": [
       "Average reward over last 5000 steps: -1.39\n"
      ]
     },
     "metadata": {},
     "output_type": "display_data"
    },
    {
     "data": {
      "text/html": [
       "<pre style=\"white-space:pre;overflow-x:auto;line-height:normal;font-family:Menlo,'DejaVu Sans Mono',consolas,'Courier New',monospace\">Average reward over last 5000 steps: -1.70\n",
       "</pre>\n"
      ],
      "text/plain": [
       "Average reward over last 5000 steps: -1.70\n"
      ]
     },
     "metadata": {},
     "output_type": "display_data"
    },
    {
     "data": {
      "text/html": [
       "<pre style=\"white-space:pre;overflow-x:auto;line-height:normal;font-family:Menlo,'DejaVu Sans Mono',consolas,'Courier New',monospace\">Average reward over last 5000 steps: -1.25\n",
       "</pre>\n"
      ],
      "text/plain": [
       "Average reward over last 5000 steps: -1.25\n"
      ]
     },
     "metadata": {},
     "output_type": "display_data"
    },
    {
     "data": {
      "text/html": [
       "<pre style=\"white-space:pre;overflow-x:auto;line-height:normal;font-family:Menlo,'DejaVu Sans Mono',consolas,'Courier New',monospace\">Average reward over last 5000 steps: -1.59\n",
       "</pre>\n"
      ],
      "text/plain": [
       "Average reward over last 5000 steps: -1.59\n"
      ]
     },
     "metadata": {},
     "output_type": "display_data"
    },
    {
     "data": {
      "text/html": [
       "<pre style=\"white-space:pre;overflow-x:auto;line-height:normal;font-family:Menlo,'DejaVu Sans Mono',consolas,'Courier New',monospace\">Average reward over last 5000 steps: -1.29\n",
       "</pre>\n"
      ],
      "text/plain": [
       "Average reward over last 5000 steps: -1.29\n"
      ]
     },
     "metadata": {},
     "output_type": "display_data"
    },
    {
     "data": {
      "text/html": [
       "<pre style=\"white-space:pre;overflow-x:auto;line-height:normal;font-family:Menlo,'DejaVu Sans Mono',consolas,'Courier New',monospace\">Average reward over last 5000 steps: -1.43\n",
       "</pre>\n"
      ],
      "text/plain": [
       "Average reward over last 5000 steps: -1.43\n"
      ]
     },
     "metadata": {},
     "output_type": "display_data"
    },
    {
     "data": {
      "text/html": [
       "<pre style=\"white-space:pre;overflow-x:auto;line-height:normal;font-family:Menlo,'DejaVu Sans Mono',consolas,'Courier New',monospace\">Average reward over last 5000 steps: -1.27\n",
       "</pre>\n"
      ],
      "text/plain": [
       "Average reward over last 5000 steps: -1.27\n"
      ]
     },
     "metadata": {},
     "output_type": "display_data"
    },
    {
     "data": {
      "text/html": [
       "<pre style=\"white-space:pre;overflow-x:auto;line-height:normal;font-family:Menlo,'DejaVu Sans Mono',consolas,'Courier New',monospace\">Average reward over last 5000 steps: -1.27\n",
       "</pre>\n"
      ],
      "text/plain": [
       "Average reward over last 5000 steps: -1.27\n"
      ]
     },
     "metadata": {},
     "output_type": "display_data"
    },
    {
     "data": {
      "text/html": [
       "<pre style=\"white-space:pre;overflow-x:auto;line-height:normal;font-family:Menlo,'DejaVu Sans Mono',consolas,'Courier New',monospace\">Average reward over last 5000 steps: -1.38\n",
       "</pre>\n"
      ],
      "text/plain": [
       "Average reward over last 5000 steps: -1.38\n"
      ]
     },
     "metadata": {},
     "output_type": "display_data"
    },
    {
     "data": {
      "text/html": [
       "<pre style=\"white-space:pre;overflow-x:auto;line-height:normal;font-family:Menlo,'DejaVu Sans Mono',consolas,'Courier New',monospace\">Average reward over last 5000 steps: -1.50\n",
       "</pre>\n"
      ],
      "text/plain": [
       "Average reward over last 5000 steps: -1.50\n"
      ]
     },
     "metadata": {},
     "output_type": "display_data"
    },
    {
     "data": {
      "text/html": [
       "<pre style=\"white-space:pre;overflow-x:auto;line-height:normal;font-family:Menlo,'DejaVu Sans Mono',consolas,'Courier New',monospace\">Average reward over last 5000 steps: -1.43\n",
       "</pre>\n"
      ],
      "text/plain": [
       "Average reward over last 5000 steps: -1.43\n"
      ]
     },
     "metadata": {},
     "output_type": "display_data"
    },
    {
     "data": {
      "text/html": [
       "<pre style=\"white-space:pre;overflow-x:auto;line-height:normal;font-family:Menlo,'DejaVu Sans Mono',consolas,'Courier New',monospace\">Average reward over last 5000 steps: -1.23\n",
       "</pre>\n"
      ],
      "text/plain": [
       "Average reward over last 5000 steps: -1.23\n"
      ]
     },
     "metadata": {},
     "output_type": "display_data"
    },
    {
     "data": {
      "text/html": [
       "<pre style=\"white-space:pre;overflow-x:auto;line-height:normal;font-family:Menlo,'DejaVu Sans Mono',consolas,'Courier New',monospace\">Average reward over last 5000 steps: -1.62\n",
       "</pre>\n"
      ],
      "text/plain": [
       "Average reward over last 5000 steps: -1.62\n"
      ]
     },
     "metadata": {},
     "output_type": "display_data"
    },
    {
     "data": {
      "text/html": [
       "<pre style=\"white-space:pre;overflow-x:auto;line-height:normal;font-family:Menlo,'DejaVu Sans Mono',consolas,'Courier New',monospace\">Average reward over last 5000 steps: -1.30\n",
       "</pre>\n"
      ],
      "text/plain": [
       "Average reward over last 5000 steps: -1.30\n"
      ]
     },
     "metadata": {},
     "output_type": "display_data"
    },
    {
     "data": {
      "text/html": [
       "<pre style=\"white-space:pre;overflow-x:auto;line-height:normal;font-family:Menlo,'DejaVu Sans Mono',consolas,'Courier New',monospace\">Average reward over last 5000 steps: -1.23\n",
       "</pre>\n"
      ],
      "text/plain": [
       "Average reward over last 5000 steps: -1.23\n"
      ]
     },
     "metadata": {},
     "output_type": "display_data"
    },
    {
     "data": {
      "text/html": [
       "<pre style=\"white-space:pre;overflow-x:auto;line-height:normal;font-family:Menlo,'DejaVu Sans Mono',consolas,'Courier New',monospace\">Average reward over last 5000 steps: -1.34\n",
       "</pre>\n"
      ],
      "text/plain": [
       "Average reward over last 5000 steps: -1.34\n"
      ]
     },
     "metadata": {},
     "output_type": "display_data"
    },
    {
     "data": {
      "text/html": [
       "<pre style=\"white-space:pre;overflow-x:auto;line-height:normal;font-family:Menlo,'DejaVu Sans Mono',consolas,'Courier New',monospace\">Average reward over last 5000 steps: -1.46\n",
       "</pre>\n"
      ],
      "text/plain": [
       "Average reward over last 5000 steps: -1.46\n"
      ]
     },
     "metadata": {},
     "output_type": "display_data"
    },
    {
     "data": {
      "text/html": [
       "<pre style=\"white-space:pre;overflow-x:auto;line-height:normal;font-family:Menlo,'DejaVu Sans Mono',consolas,'Courier New',monospace\">Average reward over last 5000 steps: -1.39\n",
       "</pre>\n"
      ],
      "text/plain": [
       "Average reward over last 5000 steps: -1.39\n"
      ]
     },
     "metadata": {},
     "output_type": "display_data"
    },
    {
     "data": {
      "text/html": [
       "<pre style=\"white-space:pre;overflow-x:auto;line-height:normal;font-family:Menlo,'DejaVu Sans Mono',consolas,'Courier New',monospace\">Average reward over last 5000 steps: -1.56\n",
       "</pre>\n"
      ],
      "text/plain": [
       "Average reward over last 5000 steps: -1.56\n"
      ]
     },
     "metadata": {},
     "output_type": "display_data"
    },
    {
     "data": {
      "text/html": [
       "<pre style=\"white-space:pre;overflow-x:auto;line-height:normal;font-family:Menlo,'DejaVu Sans Mono',consolas,'Courier New',monospace\">Average reward over last 5000 steps: -1.34\n",
       "</pre>\n"
      ],
      "text/plain": [
       "Average reward over last 5000 steps: -1.34\n"
      ]
     },
     "metadata": {},
     "output_type": "display_data"
    },
    {
     "data": {
      "text/html": [
       "<pre style=\"white-space:pre;overflow-x:auto;line-height:normal;font-family:Menlo,'DejaVu Sans Mono',consolas,'Courier New',monospace\">Average reward over last 5000 steps: -1.25\n",
       "</pre>\n"
      ],
      "text/plain": [
       "Average reward over last 5000 steps: -1.25\n"
      ]
     },
     "metadata": {},
     "output_type": "display_data"
    },
    {
     "data": {
      "text/html": [
       "<pre style=\"white-space:pre;overflow-x:auto;line-height:normal;font-family:Menlo,'DejaVu Sans Mono',consolas,'Courier New',monospace\">Average reward over last 5000 steps: -1.03\n",
       "</pre>\n"
      ],
      "text/plain": [
       "Average reward over last 5000 steps: -1.03\n"
      ]
     },
     "metadata": {},
     "output_type": "display_data"
    },
    {
     "data": {
      "text/html": [
       "<pre style=\"white-space:pre;overflow-x:auto;line-height:normal;font-family:Menlo,'DejaVu Sans Mono',consolas,'Courier New',monospace\">Average reward over last 5000 steps: -1.07\n",
       "</pre>\n"
      ],
      "text/plain": [
       "Average reward over last 5000 steps: -1.07\n"
      ]
     },
     "metadata": {},
     "output_type": "display_data"
    },
    {
     "data": {
      "text/html": [
       "<pre style=\"white-space:pre;overflow-x:auto;line-height:normal;font-family:Menlo,'DejaVu Sans Mono',consolas,'Courier New',monospace\">Average reward over last 5000 steps: -1.18\n",
       "</pre>\n"
      ],
      "text/plain": [
       "Average reward over last 5000 steps: -1.18\n"
      ]
     },
     "metadata": {},
     "output_type": "display_data"
    },
    {
     "data": {
      "text/html": [
       "<pre style=\"white-space:pre;overflow-x:auto;line-height:normal;font-family:Menlo,'DejaVu Sans Mono',consolas,'Courier New',monospace\">Average reward over last 5000 steps: -1.06\n",
       "</pre>\n"
      ],
      "text/plain": [
       "Average reward over last 5000 steps: -1.06\n"
      ]
     },
     "metadata": {},
     "output_type": "display_data"
    },
    {
     "data": {
      "text/html": [
       "<pre style=\"white-space:pre;overflow-x:auto;line-height:normal;font-family:Menlo,'DejaVu Sans Mono',consolas,'Courier New',monospace\">Average reward over last 5000 steps: -1.19\n",
       "</pre>\n"
      ],
      "text/plain": [
       "Average reward over last 5000 steps: -1.19\n"
      ]
     },
     "metadata": {},
     "output_type": "display_data"
    },
    {
     "data": {
      "text/html": [
       "<pre style=\"white-space:pre;overflow-x:auto;line-height:normal;font-family:Menlo,'DejaVu Sans Mono',consolas,'Courier New',monospace\">Average reward over last 5000 steps: -1.05\n",
       "</pre>\n"
      ],
      "text/plain": [
       "Average reward over last 5000 steps: -1.05\n"
      ]
     },
     "metadata": {},
     "output_type": "display_data"
    },
    {
     "data": {
      "text/html": [
       "<pre style=\"white-space:pre;overflow-x:auto;line-height:normal;font-family:Menlo,'DejaVu Sans Mono',consolas,'Courier New',monospace\">Average reward over last 5000 steps: -1.38\n",
       "</pre>\n"
      ],
      "text/plain": [
       "Average reward over last 5000 steps: -1.38\n"
      ]
     },
     "metadata": {},
     "output_type": "display_data"
    },
    {
     "data": {
      "text/html": [
       "<pre style=\"white-space:pre;overflow-x:auto;line-height:normal;font-family:Menlo,'DejaVu Sans Mono',consolas,'Courier New',monospace\">Average reward over last 5000 steps: -1.17\n",
       "</pre>\n"
      ],
      "text/plain": [
       "Average reward over last 5000 steps: -1.17\n"
      ]
     },
     "metadata": {},
     "output_type": "display_data"
    },
    {
     "data": {
      "text/html": [
       "<pre style=\"white-space:pre;overflow-x:auto;line-height:normal;font-family:Menlo,'DejaVu Sans Mono',consolas,'Courier New',monospace\">Average reward over last 5000 steps: -1.16\n",
       "</pre>\n"
      ],
      "text/plain": [
       "Average reward over last 5000 steps: -1.16\n"
      ]
     },
     "metadata": {},
     "output_type": "display_data"
    },
    {
     "data": {
      "text/html": [
       "<pre style=\"white-space:pre;overflow-x:auto;line-height:normal;font-family:Menlo,'DejaVu Sans Mono',consolas,'Courier New',monospace\">Average reward over last 5000 steps: -1.43\n",
       "</pre>\n"
      ],
      "text/plain": [
       "Average reward over last 5000 steps: -1.43\n"
      ]
     },
     "metadata": {},
     "output_type": "display_data"
    },
    {
     "data": {
      "text/html": [
       "<pre style=\"white-space:pre;overflow-x:auto;line-height:normal;font-family:Menlo,'DejaVu Sans Mono',consolas,'Courier New',monospace\">Average reward over last 5000 steps: -1.16\n",
       "</pre>\n"
      ],
      "text/plain": [
       "Average reward over last 5000 steps: -1.16\n"
      ]
     },
     "metadata": {},
     "output_type": "display_data"
    },
    {
     "data": {
      "text/html": [
       "<pre style=\"white-space:pre;overflow-x:auto;line-height:normal;font-family:Menlo,'DejaVu Sans Mono',consolas,'Courier New',monospace\">Average reward over last 5000 steps: -1.18\n",
       "</pre>\n"
      ],
      "text/plain": [
       "Average reward over last 5000 steps: -1.18\n"
      ]
     },
     "metadata": {},
     "output_type": "display_data"
    },
    {
     "data": {
      "text/html": [
       "<pre style=\"white-space:pre;overflow-x:auto;line-height:normal;font-family:Menlo,'DejaVu Sans Mono',consolas,'Courier New',monospace\">Average reward over last 5000 steps: -0.99\n",
       "</pre>\n"
      ],
      "text/plain": [
       "Average reward over last 5000 steps: -0.99\n"
      ]
     },
     "metadata": {},
     "output_type": "display_data"
    },
    {
     "data": {
      "text/html": [
       "<pre style=\"white-space:pre;overflow-x:auto;line-height:normal;font-family:Menlo,'DejaVu Sans Mono',consolas,'Courier New',monospace\">Average reward over last 5000 steps: -0.94\n",
       "</pre>\n"
      ],
      "text/plain": [
       "Average reward over last 5000 steps: -0.94\n"
      ]
     },
     "metadata": {},
     "output_type": "display_data"
    },
    {
     "data": {
      "text/html": [
       "<pre style=\"white-space:pre;overflow-x:auto;line-height:normal;font-family:Menlo,'DejaVu Sans Mono',consolas,'Courier New',monospace\">Average reward over last 5000 steps: -1.35\n",
       "</pre>\n"
      ],
      "text/plain": [
       "Average reward over last 5000 steps: -1.35\n"
      ]
     },
     "metadata": {},
     "output_type": "display_data"
    },
    {
     "data": {
      "text/html": [
       "<pre style=\"white-space:pre;overflow-x:auto;line-height:normal;font-family:Menlo,'DejaVu Sans Mono',consolas,'Courier New',monospace\">Average reward over last 5000 steps: -1.12\n",
       "</pre>\n"
      ],
      "text/plain": [
       "Average reward over last 5000 steps: -1.12\n"
      ]
     },
     "metadata": {},
     "output_type": "display_data"
    },
    {
     "data": {
      "text/html": [
       "<pre style=\"white-space:pre;overflow-x:auto;line-height:normal;font-family:Menlo,'DejaVu Sans Mono',consolas,'Courier New',monospace\">Average reward over last 5000 steps: -1.09\n",
       "</pre>\n"
      ],
      "text/plain": [
       "Average reward over last 5000 steps: -1.09\n"
      ]
     },
     "metadata": {},
     "output_type": "display_data"
    },
    {
     "data": {
      "text/html": [
       "<pre style=\"white-space:pre;overflow-x:auto;line-height:normal;font-family:Menlo,'DejaVu Sans Mono',consolas,'Courier New',monospace\">Average reward over last 5000 steps: -1.18\n",
       "</pre>\n"
      ],
      "text/plain": [
       "Average reward over last 5000 steps: -1.18\n"
      ]
     },
     "metadata": {},
     "output_type": "display_data"
    },
    {
     "data": {
      "text/html": [
       "<pre style=\"white-space:pre;overflow-x:auto;line-height:normal;font-family:Menlo,'DejaVu Sans Mono',consolas,'Courier New',monospace\">Average reward over last 5000 steps: -1.01\n",
       "</pre>\n"
      ],
      "text/plain": [
       "Average reward over last 5000 steps: -1.01\n"
      ]
     },
     "metadata": {},
     "output_type": "display_data"
    },
    {
     "data": {
      "text/html": [
       "<pre style=\"white-space:pre;overflow-x:auto;line-height:normal;font-family:Menlo,'DejaVu Sans Mono',consolas,'Courier New',monospace\">Average reward over last 5000 steps: -1.19\n",
       "</pre>\n"
      ],
      "text/plain": [
       "Average reward over last 5000 steps: -1.19\n"
      ]
     },
     "metadata": {},
     "output_type": "display_data"
    },
    {
     "data": {
      "text/html": [
       "<pre style=\"white-space:pre;overflow-x:auto;line-height:normal;font-family:Menlo,'DejaVu Sans Mono',consolas,'Courier New',monospace\">Average reward over last 5000 steps: -1.06\n",
       "</pre>\n"
      ],
      "text/plain": [
       "Average reward over last 5000 steps: -1.06\n"
      ]
     },
     "metadata": {},
     "output_type": "display_data"
    },
    {
     "data": {
      "text/html": [
       "<pre style=\"white-space:pre;overflow-x:auto;line-height:normal;font-family:Menlo,'DejaVu Sans Mono',consolas,'Courier New',monospace\">Average reward over last 5000 steps: -1.13\n",
       "</pre>\n"
      ],
      "text/plain": [
       "Average reward over last 5000 steps: -1.13\n"
      ]
     },
     "metadata": {},
     "output_type": "display_data"
    },
    {
     "data": {
      "text/html": [
       "<pre style=\"white-space:pre;overflow-x:auto;line-height:normal;font-family:Menlo,'DejaVu Sans Mono',consolas,'Courier New',monospace\">Average reward over last 5000 steps: -0.66\n",
       "</pre>\n"
      ],
      "text/plain": [
       "Average reward over last 5000 steps: -0.66\n"
      ]
     },
     "metadata": {},
     "output_type": "display_data"
    },
    {
     "data": {
      "text/html": [
       "<pre style=\"white-space:pre;overflow-x:auto;line-height:normal;font-family:Menlo,'DejaVu Sans Mono',consolas,'Courier New',monospace\">Average reward over last 5000 steps: -0.90\n",
       "</pre>\n"
      ],
      "text/plain": [
       "Average reward over last 5000 steps: -0.90\n"
      ]
     },
     "metadata": {},
     "output_type": "display_data"
    },
    {
     "data": {
      "text/html": [
       "<pre style=\"white-space:pre;overflow-x:auto;line-height:normal;font-family:Menlo,'DejaVu Sans Mono',consolas,'Courier New',monospace\">Average reward over last 5000 steps: -1.09\n",
       "</pre>\n"
      ],
      "text/plain": [
       "Average reward over last 5000 steps: -1.09\n"
      ]
     },
     "metadata": {},
     "output_type": "display_data"
    },
    {
     "data": {
      "text/html": [
       "<pre style=\"white-space:pre;overflow-x:auto;line-height:normal;font-family:Menlo,'DejaVu Sans Mono',consolas,'Courier New',monospace\">Average reward over last 5000 steps: -0.84\n",
       "</pre>\n"
      ],
      "text/plain": [
       "Average reward over last 5000 steps: -0.84\n"
      ]
     },
     "metadata": {},
     "output_type": "display_data"
    },
    {
     "data": {
      "text/html": [
       "<pre style=\"white-space:pre;overflow-x:auto;line-height:normal;font-family:Menlo,'DejaVu Sans Mono',consolas,'Courier New',monospace\">Average reward over last 5000 steps: -1.02\n",
       "</pre>\n"
      ],
      "text/plain": [
       "Average reward over last 5000 steps: -1.02\n"
      ]
     },
     "metadata": {},
     "output_type": "display_data"
    },
    {
     "data": {
      "text/html": [
       "<pre style=\"white-space:pre;overflow-x:auto;line-height:normal;font-family:Menlo,'DejaVu Sans Mono',consolas,'Courier New',monospace\">Average reward over last 5000 steps: -1.01\n",
       "</pre>\n"
      ],
      "text/plain": [
       "Average reward over last 5000 steps: -1.01\n"
      ]
     },
     "metadata": {},
     "output_type": "display_data"
    },
    {
     "data": {
      "text/html": [
       "<pre style=\"white-space:pre;overflow-x:auto;line-height:normal;font-family:Menlo,'DejaVu Sans Mono',consolas,'Courier New',monospace\">Average reward over last 5000 steps: -0.82\n",
       "</pre>\n"
      ],
      "text/plain": [
       "Average reward over last 5000 steps: -0.82\n"
      ]
     },
     "metadata": {},
     "output_type": "display_data"
    },
    {
     "data": {
      "text/html": [
       "<pre style=\"white-space:pre;overflow-x:auto;line-height:normal;font-family:Menlo,'DejaVu Sans Mono',consolas,'Courier New',monospace\">Average reward over last 5000 steps: -1.12\n",
       "</pre>\n"
      ],
      "text/plain": [
       "Average reward over last 5000 steps: -1.12\n"
      ]
     },
     "metadata": {},
     "output_type": "display_data"
    },
    {
     "data": {
      "text/html": [
       "<pre style=\"white-space:pre;overflow-x:auto;line-height:normal;font-family:Menlo,'DejaVu Sans Mono',consolas,'Courier New',monospace\">Average reward over last 5000 steps: -0.72\n",
       "</pre>\n"
      ],
      "text/plain": [
       "Average reward over last 5000 steps: -0.72\n"
      ]
     },
     "metadata": {},
     "output_type": "display_data"
    },
    {
     "data": {
      "text/html": [
       "<pre style=\"white-space:pre;overflow-x:auto;line-height:normal;font-family:Menlo,'DejaVu Sans Mono',consolas,'Courier New',monospace\">Average reward over last 5000 steps: -1.20\n",
       "</pre>\n"
      ],
      "text/plain": [
       "Average reward over last 5000 steps: -1.20\n"
      ]
     },
     "metadata": {},
     "output_type": "display_data"
    },
    {
     "data": {
      "text/html": [
       "<pre style=\"white-space:pre;overflow-x:auto;line-height:normal;font-family:Menlo,'DejaVu Sans Mono',consolas,'Courier New',monospace\">Average reward over last 5000 steps: -1.11\n",
       "</pre>\n"
      ],
      "text/plain": [
       "Average reward over last 5000 steps: -1.11\n"
      ]
     },
     "metadata": {},
     "output_type": "display_data"
    },
    {
     "data": {
      "text/html": [
       "<pre style=\"white-space:pre;overflow-x:auto;line-height:normal;font-family:Menlo,'DejaVu Sans Mono',consolas,'Courier New',monospace\">Average reward over last 5000 steps: -1.08\n",
       "</pre>\n"
      ],
      "text/plain": [
       "Average reward over last 5000 steps: -1.08\n"
      ]
     },
     "metadata": {},
     "output_type": "display_data"
    },
    {
     "data": {
      "text/html": [
       "<pre style=\"white-space:pre;overflow-x:auto;line-height:normal;font-family:Menlo,'DejaVu Sans Mono',consolas,'Courier New',monospace\">Average reward over last 5000 steps: -1.07\n",
       "</pre>\n"
      ],
      "text/plain": [
       "Average reward over last 5000 steps: -1.07\n"
      ]
     },
     "metadata": {},
     "output_type": "display_data"
    },
    {
     "data": {
      "text/html": [
       "<pre style=\"white-space:pre;overflow-x:auto;line-height:normal;font-family:Menlo,'DejaVu Sans Mono',consolas,'Courier New',monospace\">Average reward over last 5000 steps: -1.04\n",
       "</pre>\n"
      ],
      "text/plain": [
       "Average reward over last 5000 steps: -1.04\n"
      ]
     },
     "metadata": {},
     "output_type": "display_data"
    },
    {
     "data": {
      "text/html": [
       "<pre style=\"white-space:pre;overflow-x:auto;line-height:normal;font-family:Menlo,'DejaVu Sans Mono',consolas,'Courier New',monospace\">Average reward over last 5000 steps: -1.11\n",
       "</pre>\n"
      ],
      "text/plain": [
       "Average reward over last 5000 steps: -1.11\n"
      ]
     },
     "metadata": {},
     "output_type": "display_data"
    },
    {
     "data": {
      "text/html": [
       "<pre style=\"white-space:pre;overflow-x:auto;line-height:normal;font-family:Menlo,'DejaVu Sans Mono',consolas,'Courier New',monospace\">Average reward over last 5000 steps: -1.25\n",
       "</pre>\n"
      ],
      "text/plain": [
       "Average reward over last 5000 steps: -1.25\n"
      ]
     },
     "metadata": {},
     "output_type": "display_data"
    },
    {
     "data": {
      "text/html": [
       "<pre style=\"white-space:pre;overflow-x:auto;line-height:normal;font-family:Menlo,'DejaVu Sans Mono',consolas,'Courier New',monospace\">Average reward over last 5000 steps: -1.26\n",
       "</pre>\n"
      ],
      "text/plain": [
       "Average reward over last 5000 steps: -1.26\n"
      ]
     },
     "metadata": {},
     "output_type": "display_data"
    },
    {
     "data": {
      "text/html": [
       "<pre style=\"white-space:pre;overflow-x:auto;line-height:normal;font-family:Menlo,'DejaVu Sans Mono',consolas,'Courier New',monospace\">Average reward over last 5000 steps: -1.10\n",
       "</pre>\n"
      ],
      "text/plain": [
       "Average reward over last 5000 steps: -1.10\n"
      ]
     },
     "metadata": {},
     "output_type": "display_data"
    },
    {
     "data": {
      "text/html": [
       "<pre style=\"white-space:pre;overflow-x:auto;line-height:normal;font-family:Menlo,'DejaVu Sans Mono',consolas,'Courier New',monospace\">Average reward over last 5000 steps: -0.84\n",
       "</pre>\n"
      ],
      "text/plain": [
       "Average reward over last 5000 steps: -0.84\n"
      ]
     },
     "metadata": {},
     "output_type": "display_data"
    },
    {
     "data": {
      "text/html": [
       "<pre style=\"white-space:pre;overflow-x:auto;line-height:normal;font-family:Menlo,'DejaVu Sans Mono',consolas,'Courier New',monospace\">Average reward over last 5000 steps: -1.18\n",
       "</pre>\n"
      ],
      "text/plain": [
       "Average reward over last 5000 steps: -1.18\n"
      ]
     },
     "metadata": {},
     "output_type": "display_data"
    },
    {
     "data": {
      "text/html": [
       "<pre style=\"white-space:pre;overflow-x:auto;line-height:normal;font-family:Menlo,'DejaVu Sans Mono',consolas,'Courier New',monospace\">Average reward over last 5000 steps: -0.73\n",
       "</pre>\n"
      ],
      "text/plain": [
       "Average reward over last 5000 steps: -0.73\n"
      ]
     },
     "metadata": {},
     "output_type": "display_data"
    },
    {
     "data": {
      "text/html": [
       "<pre style=\"white-space:pre;overflow-x:auto;line-height:normal;font-family:Menlo,'DejaVu Sans Mono',consolas,'Courier New',monospace\">Average reward over last 5000 steps: -0.63\n",
       "</pre>\n"
      ],
      "text/plain": [
       "Average reward over last 5000 steps: -0.63\n"
      ]
     },
     "metadata": {},
     "output_type": "display_data"
    },
    {
     "data": {
      "text/html": [
       "<pre style=\"white-space:pre;overflow-x:auto;line-height:normal;font-family:Menlo,'DejaVu Sans Mono',consolas,'Courier New',monospace\">Average reward over last 5000 steps: -0.88\n",
       "</pre>\n"
      ],
      "text/plain": [
       "Average reward over last 5000 steps: -0.88\n"
      ]
     },
     "metadata": {},
     "output_type": "display_data"
    },
    {
     "data": {
      "text/html": [
       "<pre style=\"white-space:pre;overflow-x:auto;line-height:normal;font-family:Menlo,'DejaVu Sans Mono',consolas,'Courier New',monospace\">Average reward over last 5000 steps: -0.95\n",
       "</pre>\n"
      ],
      "text/plain": [
       "Average reward over last 5000 steps: -0.95\n"
      ]
     },
     "metadata": {},
     "output_type": "display_data"
    },
    {
     "data": {
      "text/html": [
       "<pre style=\"white-space:pre;overflow-x:auto;line-height:normal;font-family:Menlo,'DejaVu Sans Mono',consolas,'Courier New',monospace\">Average reward over last 5000 steps: -0.90\n",
       "</pre>\n"
      ],
      "text/plain": [
       "Average reward over last 5000 steps: -0.90\n"
      ]
     },
     "metadata": {},
     "output_type": "display_data"
    },
    {
     "data": {
      "text/html": [
       "<pre style=\"white-space:pre;overflow-x:auto;line-height:normal;font-family:Menlo,'DejaVu Sans Mono',consolas,'Courier New',monospace\">Average reward over last 5000 steps: -1.06\n",
       "</pre>\n"
      ],
      "text/plain": [
       "Average reward over last 5000 steps: -1.06\n"
      ]
     },
     "metadata": {},
     "output_type": "display_data"
    },
    {
     "data": {
      "text/html": [
       "<pre style=\"white-space:pre;overflow-x:auto;line-height:normal;font-family:Menlo,'DejaVu Sans Mono',consolas,'Courier New',monospace\">Average reward over last 5000 steps: -1.01\n",
       "</pre>\n"
      ],
      "text/plain": [
       "Average reward over last 5000 steps: -1.01\n"
      ]
     },
     "metadata": {},
     "output_type": "display_data"
    },
    {
     "data": {
      "text/html": [
       "<pre style=\"white-space:pre;overflow-x:auto;line-height:normal;font-family:Menlo,'DejaVu Sans Mono',consolas,'Courier New',monospace\">Average reward over last 5000 steps: -1.03\n",
       "</pre>\n"
      ],
      "text/plain": [
       "Average reward over last 5000 steps: -1.03\n"
      ]
     },
     "metadata": {},
     "output_type": "display_data"
    },
    {
     "data": {
      "text/html": [
       "<pre style=\"white-space:pre;overflow-x:auto;line-height:normal;font-family:Menlo,'DejaVu Sans Mono',consolas,'Courier New',monospace\">Average reward over last 5000 steps: -0.98\n",
       "</pre>\n"
      ],
      "text/plain": [
       "Average reward over last 5000 steps: -0.98\n"
      ]
     },
     "metadata": {},
     "output_type": "display_data"
    },
    {
     "data": {
      "text/html": [
       "<pre style=\"white-space:pre;overflow-x:auto;line-height:normal;font-family:Menlo,'DejaVu Sans Mono',consolas,'Courier New',monospace\">Average reward over last 5000 steps: -0.87\n",
       "</pre>\n"
      ],
      "text/plain": [
       "Average reward over last 5000 steps: -0.87\n"
      ]
     },
     "metadata": {},
     "output_type": "display_data"
    },
    {
     "data": {
      "text/html": [
       "<pre style=\"white-space:pre;overflow-x:auto;line-height:normal;font-family:Menlo,'DejaVu Sans Mono',consolas,'Courier New',monospace\">Average reward over last 5000 steps: -0.87\n",
       "</pre>\n"
      ],
      "text/plain": [
       "Average reward over last 5000 steps: -0.87\n"
      ]
     },
     "metadata": {},
     "output_type": "display_data"
    },
    {
     "data": {
      "text/html": [
       "<pre style=\"white-space:pre;overflow-x:auto;line-height:normal;font-family:Menlo,'DejaVu Sans Mono',consolas,'Courier New',monospace\">Average reward over last 5000 steps: -0.92\n",
       "</pre>\n"
      ],
      "text/plain": [
       "Average reward over last 5000 steps: -0.92\n"
      ]
     },
     "metadata": {},
     "output_type": "display_data"
    },
    {
     "data": {
      "text/html": [
       "<pre style=\"white-space:pre;overflow-x:auto;line-height:normal;font-family:Menlo,'DejaVu Sans Mono',consolas,'Courier New',monospace\">Average reward over last 5000 steps: -0.96\n",
       "</pre>\n"
      ],
      "text/plain": [
       "Average reward over last 5000 steps: -0.96\n"
      ]
     },
     "metadata": {},
     "output_type": "display_data"
    },
    {
     "data": {
      "text/html": [
       "<pre style=\"white-space:pre;overflow-x:auto;line-height:normal;font-family:Menlo,'DejaVu Sans Mono',consolas,'Courier New',monospace\">Average reward over last 5000 steps: -1.10\n",
       "</pre>\n"
      ],
      "text/plain": [
       "Average reward over last 5000 steps: -1.10\n"
      ]
     },
     "metadata": {},
     "output_type": "display_data"
    },
    {
     "data": {
      "text/html": [
       "<pre style=\"white-space:pre;overflow-x:auto;line-height:normal;font-family:Menlo,'DejaVu Sans Mono',consolas,'Courier New',monospace\">Average reward over last 5000 steps: -0.59\n",
       "</pre>\n"
      ],
      "text/plain": [
       "Average reward over last 5000 steps: -0.59\n"
      ]
     },
     "metadata": {},
     "output_type": "display_data"
    },
    {
     "data": {
      "text/html": [
       "<pre style=\"white-space:pre;overflow-x:auto;line-height:normal;font-family:Menlo,'DejaVu Sans Mono',consolas,'Courier New',monospace\">Average reward over last 5000 steps: -0.74\n",
       "</pre>\n"
      ],
      "text/plain": [
       "Average reward over last 5000 steps: -0.74\n"
      ]
     },
     "metadata": {},
     "output_type": "display_data"
    },
    {
     "data": {
      "text/html": [
       "<pre style=\"white-space:pre;overflow-x:auto;line-height:normal;font-family:Menlo,'DejaVu Sans Mono',consolas,'Courier New',monospace\">Average reward over last 5000 steps: -0.99\n",
       "</pre>\n"
      ],
      "text/plain": [
       "Average reward over last 5000 steps: -0.99\n"
      ]
     },
     "metadata": {},
     "output_type": "display_data"
    },
    {
     "data": {
      "text/html": [
       "<pre style=\"white-space:pre;overflow-x:auto;line-height:normal;font-family:Menlo,'DejaVu Sans Mono',consolas,'Courier New',monospace\">Average reward over last 5000 steps: -0.88\n",
       "</pre>\n"
      ],
      "text/plain": [
       "Average reward over last 5000 steps: -0.88\n"
      ]
     },
     "metadata": {},
     "output_type": "display_data"
    },
    {
     "data": {
      "text/html": [
       "<pre style=\"white-space:pre;overflow-x:auto;line-height:normal;font-family:Menlo,'DejaVu Sans Mono',consolas,'Courier New',monospace\">Average reward over last 5000 steps: -0.71\n",
       "</pre>\n"
      ],
      "text/plain": [
       "Average reward over last 5000 steps: -0.71\n"
      ]
     },
     "metadata": {},
     "output_type": "display_data"
    },
    {
     "data": {
      "text/html": [
       "<pre style=\"white-space:pre;overflow-x:auto;line-height:normal;font-family:Menlo,'DejaVu Sans Mono',consolas,'Courier New',monospace\">Average reward over last 5000 steps: -0.73\n",
       "</pre>\n"
      ],
      "text/plain": [
       "Average reward over last 5000 steps: -0.73\n"
      ]
     },
     "metadata": {},
     "output_type": "display_data"
    },
    {
     "data": {
      "text/html": [
       "<pre style=\"white-space:pre;overflow-x:auto;line-height:normal;font-family:Menlo,'DejaVu Sans Mono',consolas,'Courier New',monospace\">Average reward over last 5000 steps: -1.09\n",
       "</pre>\n"
      ],
      "text/plain": [
       "Average reward over last 5000 steps: -1.09\n"
      ]
     },
     "metadata": {},
     "output_type": "display_data"
    },
    {
     "data": {
      "text/html": [
       "<pre style=\"white-space:pre;overflow-x:auto;line-height:normal;font-family:Menlo,'DejaVu Sans Mono',consolas,'Courier New',monospace\">Average reward over last 5000 steps: -0.56\n",
       "</pre>\n"
      ],
      "text/plain": [
       "Average reward over last 5000 steps: -0.56\n"
      ]
     },
     "metadata": {},
     "output_type": "display_data"
    },
    {
     "data": {
      "text/html": [
       "<pre style=\"white-space:pre;overflow-x:auto;line-height:normal;font-family:Menlo,'DejaVu Sans Mono',consolas,'Courier New',monospace\">Average reward over last 5000 steps: -0.79\n",
       "</pre>\n"
      ],
      "text/plain": [
       "Average reward over last 5000 steps: -0.79\n"
      ]
     },
     "metadata": {},
     "output_type": "display_data"
    },
    {
     "data": {
      "text/html": [
       "<pre style=\"white-space:pre;overflow-x:auto;line-height:normal;font-family:Menlo,'DejaVu Sans Mono',consolas,'Courier New',monospace\">Average reward over last 5000 steps: -0.91\n",
       "</pre>\n"
      ],
      "text/plain": [
       "Average reward over last 5000 steps: -0.91\n"
      ]
     },
     "metadata": {},
     "output_type": "display_data"
    },
    {
     "data": {
      "text/html": [
       "<pre style=\"white-space:pre;overflow-x:auto;line-height:normal;font-family:Menlo,'DejaVu Sans Mono',consolas,'Courier New',monospace\">Average reward over last 5000 steps: -0.83\n",
       "</pre>\n"
      ],
      "text/plain": [
       "Average reward over last 5000 steps: -0.83\n"
      ]
     },
     "metadata": {},
     "output_type": "display_data"
    },
    {
     "data": {
      "text/html": [
       "<pre style=\"white-space:pre;overflow-x:auto;line-height:normal;font-family:Menlo,'DejaVu Sans Mono',consolas,'Courier New',monospace\">Average reward over last 5000 steps: -0.96\n",
       "</pre>\n"
      ],
      "text/plain": [
       "Average reward over last 5000 steps: -0.96\n"
      ]
     },
     "metadata": {},
     "output_type": "display_data"
    },
    {
     "data": {
      "text/html": [
       "<pre style=\"white-space:pre;overflow-x:auto;line-height:normal;font-family:Menlo,'DejaVu Sans Mono',consolas,'Courier New',monospace\">Average reward over last 5000 steps: -0.72\n",
       "</pre>\n"
      ],
      "text/plain": [
       "Average reward over last 5000 steps: -0.72\n"
      ]
     },
     "metadata": {},
     "output_type": "display_data"
    },
    {
     "data": {
      "text/html": [
       "<pre style=\"white-space:pre;overflow-x:auto;line-height:normal;font-family:Menlo,'DejaVu Sans Mono',consolas,'Courier New',monospace\">Average reward over last 5000 steps: -0.79\n",
       "</pre>\n"
      ],
      "text/plain": [
       "Average reward over last 5000 steps: -0.79\n"
      ]
     },
     "metadata": {},
     "output_type": "display_data"
    },
    {
     "data": {
      "text/html": [
       "<pre style=\"white-space:pre;overflow-x:auto;line-height:normal;font-family:Menlo,'DejaVu Sans Mono',consolas,'Courier New',monospace\">Average reward over last 5000 steps: -0.83\n",
       "</pre>\n"
      ],
      "text/plain": [
       "Average reward over last 5000 steps: -0.83\n"
      ]
     },
     "metadata": {},
     "output_type": "display_data"
    },
    {
     "data": {
      "text/html": [
       "<pre style=\"white-space:pre;overflow-x:auto;line-height:normal;font-family:Menlo,'DejaVu Sans Mono',consolas,'Courier New',monospace\">Average reward over last 5000 steps: -0.80\n",
       "</pre>\n"
      ],
      "text/plain": [
       "Average reward over last 5000 steps: -0.80\n"
      ]
     },
     "metadata": {},
     "output_type": "display_data"
    },
    {
     "data": {
      "text/html": [
       "<pre style=\"white-space:pre;overflow-x:auto;line-height:normal;font-family:Menlo,'DejaVu Sans Mono',consolas,'Courier New',monospace\">Average reward over last 5000 steps: -0.77\n",
       "</pre>\n"
      ],
      "text/plain": [
       "Average reward over last 5000 steps: -0.77\n"
      ]
     },
     "metadata": {},
     "output_type": "display_data"
    },
    {
     "data": {
      "text/html": [
       "<pre style=\"white-space:pre;overflow-x:auto;line-height:normal;font-family:Menlo,'DejaVu Sans Mono',consolas,'Courier New',monospace\">Average reward over last 5000 steps: -1.04\n",
       "</pre>\n"
      ],
      "text/plain": [
       "Average reward over last 5000 steps: -1.04\n"
      ]
     },
     "metadata": {},
     "output_type": "display_data"
    },
    {
     "data": {
      "text/html": [
       "<pre style=\"white-space:pre;overflow-x:auto;line-height:normal;font-family:Menlo,'DejaVu Sans Mono',consolas,'Courier New',monospace\">Average reward over last 5000 steps: -0.85\n",
       "</pre>\n"
      ],
      "text/plain": [
       "Average reward over last 5000 steps: -0.85\n"
      ]
     },
     "metadata": {},
     "output_type": "display_data"
    },
    {
     "data": {
      "text/html": [
       "<pre style=\"white-space:pre;overflow-x:auto;line-height:normal;font-family:Menlo,'DejaVu Sans Mono',consolas,'Courier New',monospace\">Average reward over last 5000 steps: -0.85\n",
       "</pre>\n"
      ],
      "text/plain": [
       "Average reward over last 5000 steps: -0.85\n"
      ]
     },
     "metadata": {},
     "output_type": "display_data"
    },
    {
     "data": {
      "text/html": [
       "<pre style=\"white-space:pre;overflow-x:auto;line-height:normal;font-family:Menlo,'DejaVu Sans Mono',consolas,'Courier New',monospace\">Average reward over last 5000 steps: -0.60\n",
       "</pre>\n"
      ],
      "text/plain": [
       "Average reward over last 5000 steps: -0.60\n"
      ]
     },
     "metadata": {},
     "output_type": "display_data"
    },
    {
     "data": {
      "text/html": [
       "<pre style=\"white-space:pre;overflow-x:auto;line-height:normal;font-family:Menlo,'DejaVu Sans Mono',consolas,'Courier New',monospace\">Average reward over last 5000 steps: -0.69\n",
       "</pre>\n"
      ],
      "text/plain": [
       "Average reward over last 5000 steps: -0.69\n"
      ]
     },
     "metadata": {},
     "output_type": "display_data"
    },
    {
     "data": {
      "text/html": [
       "<pre style=\"white-space:pre;overflow-x:auto;line-height:normal;font-family:Menlo,'DejaVu Sans Mono',consolas,'Courier New',monospace\">Average reward over last 5000 steps: -1.04\n",
       "</pre>\n"
      ],
      "text/plain": [
       "Average reward over last 5000 steps: -1.04\n"
      ]
     },
     "metadata": {},
     "output_type": "display_data"
    },
    {
     "data": {
      "text/html": [
       "<pre style=\"white-space:pre;overflow-x:auto;line-height:normal;font-family:Menlo,'DejaVu Sans Mono',consolas,'Courier New',monospace\">Average reward over last 5000 steps: -0.73\n",
       "</pre>\n"
      ],
      "text/plain": [
       "Average reward over last 5000 steps: -0.73\n"
      ]
     },
     "metadata": {},
     "output_type": "display_data"
    },
    {
     "data": {
      "text/html": [
       "<pre style=\"white-space:pre;overflow-x:auto;line-height:normal;font-family:Menlo,'DejaVu Sans Mono',consolas,'Courier New',monospace\">Average reward over last 5000 steps: -0.76\n",
       "</pre>\n"
      ],
      "text/plain": [
       "Average reward over last 5000 steps: -0.76\n"
      ]
     },
     "metadata": {},
     "output_type": "display_data"
    },
    {
     "data": {
      "text/html": [
       "<pre style=\"white-space:pre;overflow-x:auto;line-height:normal;font-family:Menlo,'DejaVu Sans Mono',consolas,'Courier New',monospace\">Average reward over last 5000 steps: -0.83\n",
       "</pre>\n"
      ],
      "text/plain": [
       "Average reward over last 5000 steps: -0.83\n"
      ]
     },
     "metadata": {},
     "output_type": "display_data"
    },
    {
     "data": {
      "text/html": [
       "<pre style=\"white-space:pre;overflow-x:auto;line-height:normal;font-family:Menlo,'DejaVu Sans Mono',consolas,'Courier New',monospace\">Average reward over last 5000 steps: -0.75\n",
       "</pre>\n"
      ],
      "text/plain": [
       "Average reward over last 5000 steps: -0.75\n"
      ]
     },
     "metadata": {},
     "output_type": "display_data"
    },
    {
     "data": {
      "text/html": [
       "<pre style=\"white-space:pre;overflow-x:auto;line-height:normal;font-family:Menlo,'DejaVu Sans Mono',consolas,'Courier New',monospace\">Average reward over last 5000 steps: -1.03\n",
       "</pre>\n"
      ],
      "text/plain": [
       "Average reward over last 5000 steps: -1.03\n"
      ]
     },
     "metadata": {},
     "output_type": "display_data"
    },
    {
     "data": {
      "text/html": [
       "<pre style=\"white-space:pre;overflow-x:auto;line-height:normal;font-family:Menlo,'DejaVu Sans Mono',consolas,'Courier New',monospace\">Average reward over last 5000 steps: -0.74\n",
       "</pre>\n"
      ],
      "text/plain": [
       "Average reward over last 5000 steps: -0.74\n"
      ]
     },
     "metadata": {},
     "output_type": "display_data"
    },
    {
     "data": {
      "text/html": [
       "<pre style=\"white-space:pre;overflow-x:auto;line-height:normal;font-family:Menlo,'DejaVu Sans Mono',consolas,'Courier New',monospace\">Average reward over last 5000 steps: -0.90\n",
       "</pre>\n"
      ],
      "text/plain": [
       "Average reward over last 5000 steps: -0.90\n"
      ]
     },
     "metadata": {},
     "output_type": "display_data"
    },
    {
     "data": {
      "text/html": [
       "<pre style=\"white-space:pre;overflow-x:auto;line-height:normal;font-family:Menlo,'DejaVu Sans Mono',consolas,'Courier New',monospace\">Average reward over last 5000 steps: -0.78\n",
       "</pre>\n"
      ],
      "text/plain": [
       "Average reward over last 5000 steps: -0.78\n"
      ]
     },
     "metadata": {},
     "output_type": "display_data"
    },
    {
     "data": {
      "text/html": [
       "<pre style=\"white-space:pre;overflow-x:auto;line-height:normal;font-family:Menlo,'DejaVu Sans Mono',consolas,'Courier New',monospace\">Average reward over last 5000 steps: -0.83\n",
       "</pre>\n"
      ],
      "text/plain": [
       "Average reward over last 5000 steps: -0.83\n"
      ]
     },
     "metadata": {},
     "output_type": "display_data"
    },
    {
     "data": {
      "text/html": [
       "<pre style=\"white-space:pre;overflow-x:auto;line-height:normal;font-family:Menlo,'DejaVu Sans Mono',consolas,'Courier New',monospace\">Average reward over last 5000 steps: -0.81\n",
       "</pre>\n"
      ],
      "text/plain": [
       "Average reward over last 5000 steps: -0.81\n"
      ]
     },
     "metadata": {},
     "output_type": "display_data"
    },
    {
     "data": {
      "text/html": [
       "<pre style=\"white-space:pre;overflow-x:auto;line-height:normal;font-family:Menlo,'DejaVu Sans Mono',consolas,'Courier New',monospace\">Average reward over last 5000 steps: -0.98\n",
       "</pre>\n"
      ],
      "text/plain": [
       "Average reward over last 5000 steps: -0.98\n"
      ]
     },
     "metadata": {},
     "output_type": "display_data"
    },
    {
     "data": {
      "text/html": [
       "<pre style=\"white-space:pre;overflow-x:auto;line-height:normal;font-family:Menlo,'DejaVu Sans Mono',consolas,'Courier New',monospace\">Average reward over last 5000 steps: -0.72\n",
       "</pre>\n"
      ],
      "text/plain": [
       "Average reward over last 5000 steps: -0.72\n"
      ]
     },
     "metadata": {},
     "output_type": "display_data"
    },
    {
     "data": {
      "text/html": [
       "<pre style=\"white-space:pre;overflow-x:auto;line-height:normal;font-family:Menlo,'DejaVu Sans Mono',consolas,'Courier New',monospace\">Average reward over last 5000 steps: -0.40\n",
       "</pre>\n"
      ],
      "text/plain": [
       "Average reward over last 5000 steps: -0.40\n"
      ]
     },
     "metadata": {},
     "output_type": "display_data"
    },
    {
     "data": {
      "text/html": [
       "<pre style=\"white-space:pre;overflow-x:auto;line-height:normal;font-family:Menlo,'DejaVu Sans Mono',consolas,'Courier New',monospace\">Average reward over last 5000 steps: -0.57\n",
       "</pre>\n"
      ],
      "text/plain": [
       "Average reward over last 5000 steps: -0.57\n"
      ]
     },
     "metadata": {},
     "output_type": "display_data"
    },
    {
     "data": {
      "text/html": [
       "<pre style=\"white-space:pre;overflow-x:auto;line-height:normal;font-family:Menlo,'DejaVu Sans Mono',consolas,'Courier New',monospace\">Average reward over last 5000 steps: -0.70\n",
       "</pre>\n"
      ],
      "text/plain": [
       "Average reward over last 5000 steps: -0.70\n"
      ]
     },
     "metadata": {},
     "output_type": "display_data"
    },
    {
     "data": {
      "text/html": [
       "<pre style=\"white-space:pre;overflow-x:auto;line-height:normal;font-family:Menlo,'DejaVu Sans Mono',consolas,'Courier New',monospace\">Average reward over last 5000 steps: -0.94\n",
       "</pre>\n"
      ],
      "text/plain": [
       "Average reward over last 5000 steps: -0.94\n"
      ]
     },
     "metadata": {},
     "output_type": "display_data"
    },
    {
     "data": {
      "text/html": [
       "<pre style=\"white-space:pre;overflow-x:auto;line-height:normal;font-family:Menlo,'DejaVu Sans Mono',consolas,'Courier New',monospace\">Average reward over last 5000 steps: -0.77\n",
       "</pre>\n"
      ],
      "text/plain": [
       "Average reward over last 5000 steps: -0.77\n"
      ]
     },
     "metadata": {},
     "output_type": "display_data"
    },
    {
     "data": {
      "text/html": [
       "<pre style=\"white-space:pre;overflow-x:auto;line-height:normal;font-family:Menlo,'DejaVu Sans Mono',consolas,'Courier New',monospace\">Average reward over last 5000 steps: -0.53\n",
       "</pre>\n"
      ],
      "text/plain": [
       "Average reward over last 5000 steps: -0.53\n"
      ]
     },
     "metadata": {},
     "output_type": "display_data"
    },
    {
     "data": {
      "text/html": [
       "<pre style=\"white-space:pre;overflow-x:auto;line-height:normal;font-family:Menlo,'DejaVu Sans Mono',consolas,'Courier New',monospace\">Average reward over last 5000 steps: -0.82\n",
       "</pre>\n"
      ],
      "text/plain": [
       "Average reward over last 5000 steps: -0.82\n"
      ]
     },
     "metadata": {},
     "output_type": "display_data"
    },
    {
     "data": {
      "text/html": [
       "<pre style=\"white-space:pre;overflow-x:auto;line-height:normal;font-family:Menlo,'DejaVu Sans Mono',consolas,'Courier New',monospace\">Average reward over last 5000 steps: -0.58\n",
       "</pre>\n"
      ],
      "text/plain": [
       "Average reward over last 5000 steps: -0.58\n"
      ]
     },
     "metadata": {},
     "output_type": "display_data"
    },
    {
     "data": {
      "text/html": [
       "<pre style=\"white-space:pre;overflow-x:auto;line-height:normal;font-family:Menlo,'DejaVu Sans Mono',consolas,'Courier New',monospace\">Average reward over last 5000 steps: -0.51\n",
       "</pre>\n"
      ],
      "text/plain": [
       "Average reward over last 5000 steps: -0.51\n"
      ]
     },
     "metadata": {},
     "output_type": "display_data"
    },
    {
     "data": {
      "text/html": [
       "<pre style=\"white-space:pre;overflow-x:auto;line-height:normal;font-family:Menlo,'DejaVu Sans Mono',consolas,'Courier New',monospace\">Average reward over last 5000 steps: -0.73\n",
       "</pre>\n"
      ],
      "text/plain": [
       "Average reward over last 5000 steps: -0.73\n"
      ]
     },
     "metadata": {},
     "output_type": "display_data"
    },
    {
     "data": {
      "text/html": [
       "<pre style=\"white-space:pre;overflow-x:auto;line-height:normal;font-family:Menlo,'DejaVu Sans Mono',consolas,'Courier New',monospace\">Average reward over last 5000 steps: -0.75\n",
       "</pre>\n"
      ],
      "text/plain": [
       "Average reward over last 5000 steps: -0.75\n"
      ]
     },
     "metadata": {},
     "output_type": "display_data"
    },
    {
     "data": {
      "text/html": [
       "<pre style=\"white-space:pre;overflow-x:auto;line-height:normal;font-family:Menlo,'DejaVu Sans Mono',consolas,'Courier New',monospace\">Average reward over last 5000 steps: -0.87\n",
       "</pre>\n"
      ],
      "text/plain": [
       "Average reward over last 5000 steps: -0.87\n"
      ]
     },
     "metadata": {},
     "output_type": "display_data"
    },
    {
     "data": {
      "text/html": [
       "<pre style=\"white-space:pre;overflow-x:auto;line-height:normal;font-family:Menlo,'DejaVu Sans Mono',consolas,'Courier New',monospace\">Average reward over last 5000 steps: -1.00\n",
       "</pre>\n"
      ],
      "text/plain": [
       "Average reward over last 5000 steps: -1.00\n"
      ]
     },
     "metadata": {},
     "output_type": "display_data"
    },
    {
     "data": {
      "text/html": [
       "<pre style=\"white-space:pre;overflow-x:auto;line-height:normal;font-family:Menlo,'DejaVu Sans Mono',consolas,'Courier New',monospace\">Average reward over last 5000 steps: -0.88\n",
       "</pre>\n"
      ],
      "text/plain": [
       "Average reward over last 5000 steps: -0.88\n"
      ]
     },
     "metadata": {},
     "output_type": "display_data"
    },
    {
     "data": {
      "text/html": [
       "<pre style=\"white-space:pre;overflow-x:auto;line-height:normal;font-family:Menlo,'DejaVu Sans Mono',consolas,'Courier New',monospace\">Average reward over last 5000 steps: -0.60\n",
       "</pre>\n"
      ],
      "text/plain": [
       "Average reward over last 5000 steps: -0.60\n"
      ]
     },
     "metadata": {},
     "output_type": "display_data"
    },
    {
     "data": {
      "text/html": [
       "<pre style=\"white-space:pre;overflow-x:auto;line-height:normal;font-family:Menlo,'DejaVu Sans Mono',consolas,'Courier New',monospace\">Average reward over last 5000 steps: -0.83\n",
       "</pre>\n"
      ],
      "text/plain": [
       "Average reward over last 5000 steps: -0.83\n"
      ]
     },
     "metadata": {},
     "output_type": "display_data"
    },
    {
     "data": {
      "text/html": [
       "<pre style=\"white-space:pre;overflow-x:auto;line-height:normal;font-family:Menlo,'DejaVu Sans Mono',consolas,'Courier New',monospace\">Average reward over last 5000 steps: -0.59\n",
       "</pre>\n"
      ],
      "text/plain": [
       "Average reward over last 5000 steps: -0.59\n"
      ]
     },
     "metadata": {},
     "output_type": "display_data"
    },
    {
     "data": {
      "text/html": [
       "<pre style=\"white-space:pre;overflow-x:auto;line-height:normal;font-family:Menlo,'DejaVu Sans Mono',consolas,'Courier New',monospace\">Average reward over last 5000 steps: -0.77\n",
       "</pre>\n"
      ],
      "text/plain": [
       "Average reward over last 5000 steps: -0.77\n"
      ]
     },
     "metadata": {},
     "output_type": "display_data"
    },
    {
     "data": {
      "text/html": [
       "<pre style=\"white-space:pre;overflow-x:auto;line-height:normal;font-family:Menlo,'DejaVu Sans Mono',consolas,'Courier New',monospace\">Average reward over last 5000 steps: -0.75\n",
       "</pre>\n"
      ],
      "text/plain": [
       "Average reward over last 5000 steps: -0.75\n"
      ]
     },
     "metadata": {},
     "output_type": "display_data"
    },
    {
     "data": {
      "text/html": [
       "<pre style=\"white-space:pre;overflow-x:auto;line-height:normal;font-family:Menlo,'DejaVu Sans Mono',consolas,'Courier New',monospace\">Average reward over last 5000 steps: -0.67\n",
       "</pre>\n"
      ],
      "text/plain": [
       "Average reward over last 5000 steps: -0.67\n"
      ]
     },
     "metadata": {},
     "output_type": "display_data"
    },
    {
     "data": {
      "text/html": [
       "<pre style=\"white-space:pre;overflow-x:auto;line-height:normal;font-family:Menlo,'DejaVu Sans Mono',consolas,'Courier New',monospace\">Average reward over last 5000 steps: -0.90\n",
       "</pre>\n"
      ],
      "text/plain": [
       "Average reward over last 5000 steps: -0.90\n"
      ]
     },
     "metadata": {},
     "output_type": "display_data"
    },
    {
     "data": {
      "text/html": [
       "<pre style=\"white-space:pre;overflow-x:auto;line-height:normal;font-family:Menlo,'DejaVu Sans Mono',consolas,'Courier New',monospace\">Average reward over last 5000 steps: -0.60\n",
       "</pre>\n"
      ],
      "text/plain": [
       "Average reward over last 5000 steps: -0.60\n"
      ]
     },
     "metadata": {},
     "output_type": "display_data"
    },
    {
     "data": {
      "text/html": [
       "<pre style=\"white-space:pre;overflow-x:auto;line-height:normal;font-family:Menlo,'DejaVu Sans Mono',consolas,'Courier New',monospace\">Average reward over last 5000 steps: -0.41\n",
       "</pre>\n"
      ],
      "text/plain": [
       "Average reward over last 5000 steps: -0.41\n"
      ]
     },
     "metadata": {},
     "output_type": "display_data"
    },
    {
     "data": {
      "text/html": [
       "<pre style=\"white-space:pre;overflow-x:auto;line-height:normal;font-family:Menlo,'DejaVu Sans Mono',consolas,'Courier New',monospace\">Average reward over last 5000 steps: -0.84\n",
       "</pre>\n"
      ],
      "text/plain": [
       "Average reward over last 5000 steps: -0.84\n"
      ]
     },
     "metadata": {},
     "output_type": "display_data"
    },
    {
     "data": {
      "text/html": [
       "<pre style=\"white-space:pre;overflow-x:auto;line-height:normal;font-family:Menlo,'DejaVu Sans Mono',consolas,'Courier New',monospace\">Average reward over last 5000 steps: -0.66\n",
       "</pre>\n"
      ],
      "text/plain": [
       "Average reward over last 5000 steps: -0.66\n"
      ]
     },
     "metadata": {},
     "output_type": "display_data"
    },
    {
     "data": {
      "text/html": [
       "<pre style=\"white-space:pre;overflow-x:auto;line-height:normal;font-family:Menlo,'DejaVu Sans Mono',consolas,'Courier New',monospace\">Average reward over last 5000 steps: -0.27\n",
       "</pre>\n"
      ],
      "text/plain": [
       "Average reward over last 5000 steps: -0.27\n"
      ]
     },
     "metadata": {},
     "output_type": "display_data"
    },
    {
     "data": {
      "text/html": [
       "<pre style=\"white-space:pre;overflow-x:auto;line-height:normal;font-family:Menlo,'DejaVu Sans Mono',consolas,'Courier New',monospace\">Average reward over last 5000 steps: -0.69\n",
       "</pre>\n"
      ],
      "text/plain": [
       "Average reward over last 5000 steps: -0.69\n"
      ]
     },
     "metadata": {},
     "output_type": "display_data"
    },
    {
     "data": {
      "text/html": [
       "<pre style=\"white-space:pre;overflow-x:auto;line-height:normal;font-family:Menlo,'DejaVu Sans Mono',consolas,'Courier New',monospace\">Advancing to Phase 5\n",
       "</pre>\n"
      ],
      "text/plain": [
       "Advancing to Phase 5\n"
      ]
     },
     "metadata": {},
     "output_type": "display_data"
    },
    {
     "data": {
      "text/html": [
       "<pre style=\"white-space:pre;overflow-x:auto;line-height:normal;font-family:Menlo,'DejaVu Sans Mono',consolas,'Courier New',monospace\">Average reward over last 5000 steps: -0.72\n",
       "</pre>\n"
      ],
      "text/plain": [
       "Average reward over last 5000 steps: -0.72\n"
      ]
     },
     "metadata": {},
     "output_type": "display_data"
    },
    {
     "data": {
      "text/html": [
       "<pre style=\"white-space:pre;overflow-x:auto;line-height:normal;font-family:Menlo,'DejaVu Sans Mono',consolas,'Courier New',monospace\">Average reward over last 5000 steps: -0.16\n",
       "</pre>\n"
      ],
      "text/plain": [
       "Average reward over last 5000 steps: -0.16\n"
      ]
     },
     "metadata": {},
     "output_type": "display_data"
    },
    {
     "data": {
      "text/html": [
       "<pre style=\"white-space:pre;overflow-x:auto;line-height:normal;font-family:Menlo,'DejaVu Sans Mono',consolas,'Courier New',monospace\">Average reward over last 5000 steps: -0.27\n",
       "</pre>\n"
      ],
      "text/plain": [
       "Average reward over last 5000 steps: -0.27\n"
      ]
     },
     "metadata": {},
     "output_type": "display_data"
    },
    {
     "data": {
      "text/html": [
       "<pre style=\"white-space:pre;overflow-x:auto;line-height:normal;font-family:Menlo,'DejaVu Sans Mono',consolas,'Courier New',monospace\">Average reward over last 5000 steps: -0.42\n",
       "</pre>\n"
      ],
      "text/plain": [
       "Average reward over last 5000 steps: -0.42\n"
      ]
     },
     "metadata": {},
     "output_type": "display_data"
    },
    {
     "data": {
      "text/html": [
       "<pre style=\"white-space:pre;overflow-x:auto;line-height:normal;font-family:Menlo,'DejaVu Sans Mono',consolas,'Courier New',monospace\">Average reward over last 5000 steps: -0.20\n",
       "</pre>\n"
      ],
      "text/plain": [
       "Average reward over last 5000 steps: -0.20\n"
      ]
     },
     "metadata": {},
     "output_type": "display_data"
    },
    {
     "data": {
      "text/html": [
       "<pre style=\"white-space:pre;overflow-x:auto;line-height:normal;font-family:Menlo,'DejaVu Sans Mono',consolas,'Courier New',monospace\">Average reward over last 5000 steps: -0.06\n",
       "</pre>\n"
      ],
      "text/plain": [
       "Average reward over last 5000 steps: -0.06\n"
      ]
     },
     "metadata": {},
     "output_type": "display_data"
    },
    {
     "data": {
      "text/html": [
       "<pre style=\"white-space:pre;overflow-x:auto;line-height:normal;font-family:Menlo,'DejaVu Sans Mono',consolas,'Courier New',monospace\">Average reward over last 5000 steps: -0.17\n",
       "</pre>\n"
      ],
      "text/plain": [
       "Average reward over last 5000 steps: -0.17\n"
      ]
     },
     "metadata": {},
     "output_type": "display_data"
    },
    {
     "data": {
      "text/html": [
       "<pre style=\"white-space:pre;overflow-x:auto;line-height:normal;font-family:Menlo,'DejaVu Sans Mono',consolas,'Courier New',monospace\">Average reward over last 5000 steps: -0.04\n",
       "</pre>\n"
      ],
      "text/plain": [
       "Average reward over last 5000 steps: -0.04\n"
      ]
     },
     "metadata": {},
     "output_type": "display_data"
    },
    {
     "data": {
      "text/html": [
       "<pre style=\"white-space:pre;overflow-x:auto;line-height:normal;font-family:Menlo,'DejaVu Sans Mono',consolas,'Courier New',monospace\">Average reward over last 5000 steps: 0.04\n",
       "</pre>\n"
      ],
      "text/plain": [
       "Average reward over last 5000 steps: 0.04\n"
      ]
     },
     "metadata": {},
     "output_type": "display_data"
    },
    {
     "data": {
      "text/html": [
       "<pre style=\"white-space:pre;overflow-x:auto;line-height:normal;font-family:Menlo,'DejaVu Sans Mono',consolas,'Courier New',monospace\">Average reward over last 5000 steps: 0.07\n",
       "</pre>\n"
      ],
      "text/plain": [
       "Average reward over last 5000 steps: 0.07\n"
      ]
     },
     "metadata": {},
     "output_type": "display_data"
    },
    {
     "data": {
      "text/html": [
       "<pre style=\"white-space:pre;overflow-x:auto;line-height:normal;font-family:Menlo,'DejaVu Sans Mono',consolas,'Courier New',monospace\">Average reward over last 5000 steps: 0.03\n",
       "</pre>\n"
      ],
      "text/plain": [
       "Average reward over last 5000 steps: 0.03\n"
      ]
     },
     "metadata": {},
     "output_type": "display_data"
    },
    {
     "data": {
      "text/html": [
       "<pre style=\"white-space:pre;overflow-x:auto;line-height:normal;font-family:Menlo,'DejaVu Sans Mono',consolas,'Courier New',monospace\">Average reward over last 5000 steps: 0.19\n",
       "</pre>\n"
      ],
      "text/plain": [
       "Average reward over last 5000 steps: 0.19\n"
      ]
     },
     "metadata": {},
     "output_type": "display_data"
    },
    {
     "data": {
      "text/html": [
       "<pre style=\"white-space:pre;overflow-x:auto;line-height:normal;font-family:Menlo,'DejaVu Sans Mono',consolas,'Courier New',monospace\">Average reward over last 5000 steps: 0.04\n",
       "</pre>\n"
      ],
      "text/plain": [
       "Average reward over last 5000 steps: 0.04\n"
      ]
     },
     "metadata": {},
     "output_type": "display_data"
    },
    {
     "data": {
      "text/html": [
       "<pre style=\"white-space:pre;overflow-x:auto;line-height:normal;font-family:Menlo,'DejaVu Sans Mono',consolas,'Courier New',monospace\">Average reward over last 5000 steps: 0.01\n",
       "</pre>\n"
      ],
      "text/plain": [
       "Average reward over last 5000 steps: 0.01\n"
      ]
     },
     "metadata": {},
     "output_type": "display_data"
    },
    {
     "data": {
      "text/html": [
       "<pre style=\"white-space:pre;overflow-x:auto;line-height:normal;font-family:Menlo,'DejaVu Sans Mono',consolas,'Courier New',monospace\">Average reward over last 5000 steps: -0.09\n",
       "</pre>\n"
      ],
      "text/plain": [
       "Average reward over last 5000 steps: -0.09\n"
      ]
     },
     "metadata": {},
     "output_type": "display_data"
    },
    {
     "data": {
      "text/html": [
       "<pre style=\"white-space:pre;overflow-x:auto;line-height:normal;font-family:Menlo,'DejaVu Sans Mono',consolas,'Courier New',monospace\">Average reward over last 5000 steps: 0.19\n",
       "</pre>\n"
      ],
      "text/plain": [
       "Average reward over last 5000 steps: 0.19\n"
      ]
     },
     "metadata": {},
     "output_type": "display_data"
    },
    {
     "data": {
      "text/html": [
       "<pre style=\"white-space:pre;overflow-x:auto;line-height:normal;font-family:Menlo,'DejaVu Sans Mono',consolas,'Courier New',monospace\">Average reward over last 5000 steps: -0.18\n",
       "</pre>\n"
      ],
      "text/plain": [
       "Average reward over last 5000 steps: -0.18\n"
      ]
     },
     "metadata": {},
     "output_type": "display_data"
    },
    {
     "data": {
      "text/html": [
       "<pre style=\"white-space:pre;overflow-x:auto;line-height:normal;font-family:Menlo,'DejaVu Sans Mono',consolas,'Courier New',monospace\">Average reward over last 5000 steps: 0.03\n",
       "</pre>\n"
      ],
      "text/plain": [
       "Average reward over last 5000 steps: 0.03\n"
      ]
     },
     "metadata": {},
     "output_type": "display_data"
    },
    {
     "data": {
      "text/html": [
       "<pre style=\"white-space:pre;overflow-x:auto;line-height:normal;font-family:Menlo,'DejaVu Sans Mono',consolas,'Courier New',monospace\">Average reward over last 5000 steps: 0.28\n",
       "</pre>\n"
      ],
      "text/plain": [
       "Average reward over last 5000 steps: 0.28\n"
      ]
     },
     "metadata": {},
     "output_type": "display_data"
    },
    {
     "data": {
      "text/html": [
       "<pre style=\"white-space:pre;overflow-x:auto;line-height:normal;font-family:Menlo,'DejaVu Sans Mono',consolas,'Courier New',monospace\">Average reward over last 5000 steps: 0.16\n",
       "</pre>\n"
      ],
      "text/plain": [
       "Average reward over last 5000 steps: 0.16\n"
      ]
     },
     "metadata": {},
     "output_type": "display_data"
    },
    {
     "data": {
      "text/html": [
       "<pre style=\"white-space:pre;overflow-x:auto;line-height:normal;font-family:Menlo,'DejaVu Sans Mono',consolas,'Courier New',monospace\">Average reward over last 5000 steps: 0.20\n",
       "</pre>\n"
      ],
      "text/plain": [
       "Average reward over last 5000 steps: 0.20\n"
      ]
     },
     "metadata": {},
     "output_type": "display_data"
    },
    {
     "data": {
      "text/html": [
       "<pre style=\"white-space:pre;overflow-x:auto;line-height:normal;font-family:Menlo,'DejaVu Sans Mono',consolas,'Courier New',monospace\">Average reward over last 5000 steps: 0.00\n",
       "</pre>\n"
      ],
      "text/plain": [
       "Average reward over last 5000 steps: 0.00\n"
      ]
     },
     "metadata": {},
     "output_type": "display_data"
    },
    {
     "data": {
      "text/html": [
       "<pre style=\"white-space:pre;overflow-x:auto;line-height:normal;font-family:Menlo,'DejaVu Sans Mono',consolas,'Courier New',monospace\">Average reward over last 5000 steps: 0.08\n",
       "</pre>\n"
      ],
      "text/plain": [
       "Average reward over last 5000 steps: 0.08\n"
      ]
     },
     "metadata": {},
     "output_type": "display_data"
    },
    {
     "data": {
      "text/html": [
       "<pre style=\"white-space:pre;overflow-x:auto;line-height:normal;font-family:Menlo,'DejaVu Sans Mono',consolas,'Courier New',monospace\">Average reward over last 5000 steps: 0.28\n",
       "</pre>\n"
      ],
      "text/plain": [
       "Average reward over last 5000 steps: 0.28\n"
      ]
     },
     "metadata": {},
     "output_type": "display_data"
    },
    {
     "data": {
      "text/html": [
       "<pre style=\"white-space:pre;overflow-x:auto;line-height:normal;font-family:Menlo,'DejaVu Sans Mono',consolas,'Courier New',monospace\">Average reward over last 5000 steps: 0.28\n",
       "</pre>\n"
      ],
      "text/plain": [
       "Average reward over last 5000 steps: 0.28\n"
      ]
     },
     "metadata": {},
     "output_type": "display_data"
    },
    {
     "data": {
      "text/html": [
       "<pre style=\"white-space:pre;overflow-x:auto;line-height:normal;font-family:Menlo,'DejaVu Sans Mono',consolas,'Courier New',monospace\">Average reward over last 5000 steps: 0.34\n",
       "</pre>\n"
      ],
      "text/plain": [
       "Average reward over last 5000 steps: 0.34\n"
      ]
     },
     "metadata": {},
     "output_type": "display_data"
    },
    {
     "data": {
      "text/html": [
       "<pre style=\"white-space:pre;overflow-x:auto;line-height:normal;font-family:Menlo,'DejaVu Sans Mono',consolas,'Courier New',monospace\">Average reward over last 5000 steps: 0.27\n",
       "</pre>\n"
      ],
      "text/plain": [
       "Average reward over last 5000 steps: 0.27\n"
      ]
     },
     "metadata": {},
     "output_type": "display_data"
    },
    {
     "data": {
      "text/html": [
       "<pre style=\"white-space:pre;overflow-x:auto;line-height:normal;font-family:Menlo,'DejaVu Sans Mono',consolas,'Courier New',monospace\">Average reward over last 5000 steps: 0.01\n",
       "</pre>\n"
      ],
      "text/plain": [
       "Average reward over last 5000 steps: 0.01\n"
      ]
     },
     "metadata": {},
     "output_type": "display_data"
    },
    {
     "data": {
      "text/html": [
       "<pre style=\"white-space:pre;overflow-x:auto;line-height:normal;font-family:Menlo,'DejaVu Sans Mono',consolas,'Courier New',monospace\">Average reward over last 5000 steps: 0.20\n",
       "</pre>\n"
      ],
      "text/plain": [
       "Average reward over last 5000 steps: 0.20\n"
      ]
     },
     "metadata": {},
     "output_type": "display_data"
    },
    {
     "data": {
      "text/html": [
       "<pre style=\"white-space:pre;overflow-x:auto;line-height:normal;font-family:Menlo,'DejaVu Sans Mono',consolas,'Courier New',monospace\">Average reward over last 5000 steps: 0.33\n",
       "</pre>\n"
      ],
      "text/plain": [
       "Average reward over last 5000 steps: 0.33\n"
      ]
     },
     "metadata": {},
     "output_type": "display_data"
    },
    {
     "data": {
      "text/html": [
       "<pre style=\"white-space:pre;overflow-x:auto;line-height:normal;font-family:Menlo,'DejaVu Sans Mono',consolas,'Courier New',monospace\">Average reward over last 5000 steps: 0.42\n",
       "</pre>\n"
      ],
      "text/plain": [
       "Average reward over last 5000 steps: 0.42\n"
      ]
     },
     "metadata": {},
     "output_type": "display_data"
    },
    {
     "data": {
      "text/html": [
       "<pre style=\"white-space:pre;overflow-x:auto;line-height:normal;font-family:Menlo,'DejaVu Sans Mono',consolas,'Courier New',monospace\">Average reward over last 5000 steps: 0.28\n",
       "</pre>\n"
      ],
      "text/plain": [
       "Average reward over last 5000 steps: 0.28\n"
      ]
     },
     "metadata": {},
     "output_type": "display_data"
    },
    {
     "data": {
      "text/html": [
       "<pre style=\"white-space:pre;overflow-x:auto;line-height:normal;font-family:Menlo,'DejaVu Sans Mono',consolas,'Courier New',monospace\">Average reward over last 5000 steps: 0.30\n",
       "</pre>\n"
      ],
      "text/plain": [
       "Average reward over last 5000 steps: 0.30\n"
      ]
     },
     "metadata": {},
     "output_type": "display_data"
    },
    {
     "data": {
      "text/html": [
       "<pre style=\"white-space:pre;overflow-x:auto;line-height:normal;font-family:Menlo,'DejaVu Sans Mono',consolas,'Courier New',monospace\">Average reward over last 5000 steps: 0.29\n",
       "</pre>\n"
      ],
      "text/plain": [
       "Average reward over last 5000 steps: 0.29\n"
      ]
     },
     "metadata": {},
     "output_type": "display_data"
    },
    {
     "data": {
      "text/html": [
       "<pre style=\"white-space:pre;overflow-x:auto;line-height:normal;font-family:Menlo,'DejaVu Sans Mono',consolas,'Courier New',monospace\">Average reward over last 5000 steps: 0.20\n",
       "</pre>\n"
      ],
      "text/plain": [
       "Average reward over last 5000 steps: 0.20\n"
      ]
     },
     "metadata": {},
     "output_type": "display_data"
    },
    {
     "data": {
      "text/html": [
       "<pre style=\"white-space:pre;overflow-x:auto;line-height:normal;font-family:Menlo,'DejaVu Sans Mono',consolas,'Courier New',monospace\">Average reward over last 5000 steps: 0.05\n",
       "</pre>\n"
      ],
      "text/plain": [
       "Average reward over last 5000 steps: 0.05\n"
      ]
     },
     "metadata": {},
     "output_type": "display_data"
    },
    {
     "data": {
      "text/html": [
       "<pre style=\"white-space:pre;overflow-x:auto;line-height:normal;font-family:Menlo,'DejaVu Sans Mono',consolas,'Courier New',monospace\">Average reward over last 5000 steps: 0.29\n",
       "</pre>\n"
      ],
      "text/plain": [
       "Average reward over last 5000 steps: 0.29\n"
      ]
     },
     "metadata": {},
     "output_type": "display_data"
    },
    {
     "data": {
      "text/html": [
       "<pre style=\"white-space:pre;overflow-x:auto;line-height:normal;font-family:Menlo,'DejaVu Sans Mono',consolas,'Courier New',monospace\">Average reward over last 5000 steps: 0.53\n",
       "</pre>\n"
      ],
      "text/plain": [
       "Average reward over last 5000 steps: 0.53\n"
      ]
     },
     "metadata": {},
     "output_type": "display_data"
    },
    {
     "data": {
      "text/html": [
       "<pre style=\"white-space:pre;overflow-x:auto;line-height:normal;font-family:Menlo,'DejaVu Sans Mono',consolas,'Courier New',monospace\">Average reward over last 5000 steps: 0.25\n",
       "</pre>\n"
      ],
      "text/plain": [
       "Average reward over last 5000 steps: 0.25\n"
      ]
     },
     "metadata": {},
     "output_type": "display_data"
    },
    {
     "data": {
      "text/html": [
       "<pre style=\"white-space:pre;overflow-x:auto;line-height:normal;font-family:Menlo,'DejaVu Sans Mono',consolas,'Courier New',monospace\">Average reward over last 5000 steps: 0.20\n",
       "</pre>\n"
      ],
      "text/plain": [
       "Average reward over last 5000 steps: 0.20\n"
      ]
     },
     "metadata": {},
     "output_type": "display_data"
    },
    {
     "data": {
      "text/html": [
       "<pre style=\"white-space:pre;overflow-x:auto;line-height:normal;font-family:Menlo,'DejaVu Sans Mono',consolas,'Courier New',monospace\">Average reward over last 5000 steps: 0.48\n",
       "</pre>\n"
      ],
      "text/plain": [
       "Average reward over last 5000 steps: 0.48\n"
      ]
     },
     "metadata": {},
     "output_type": "display_data"
    },
    {
     "data": {
      "text/html": [
       "<pre style=\"white-space:pre;overflow-x:auto;line-height:normal;font-family:Menlo,'DejaVu Sans Mono',consolas,'Courier New',monospace\">Average reward over last 5000 steps: 0.47\n",
       "</pre>\n"
      ],
      "text/plain": [
       "Average reward over last 5000 steps: 0.47\n"
      ]
     },
     "metadata": {},
     "output_type": "display_data"
    },
    {
     "data": {
      "text/html": [
       "<pre style=\"white-space:pre;overflow-x:auto;line-height:normal;font-family:Menlo,'DejaVu Sans Mono',consolas,'Courier New',monospace\">Average reward over last 5000 steps: 0.55\n",
       "</pre>\n"
      ],
      "text/plain": [
       "Average reward over last 5000 steps: 0.55\n"
      ]
     },
     "metadata": {},
     "output_type": "display_data"
    },
    {
     "data": {
      "text/html": [
       "<pre style=\"white-space:pre;overflow-x:auto;line-height:normal;font-family:Menlo,'DejaVu Sans Mono',consolas,'Courier New',monospace\">Average reward over last 5000 steps: 0.39\n",
       "</pre>\n"
      ],
      "text/plain": [
       "Average reward over last 5000 steps: 0.39\n"
      ]
     },
     "metadata": {},
     "output_type": "display_data"
    },
    {
     "data": {
      "text/html": [
       "<pre style=\"white-space:pre;overflow-x:auto;line-height:normal;font-family:Menlo,'DejaVu Sans Mono',consolas,'Courier New',monospace\">Average reward over last 5000 steps: 0.46\n",
       "</pre>\n"
      ],
      "text/plain": [
       "Average reward over last 5000 steps: 0.46\n"
      ]
     },
     "metadata": {},
     "output_type": "display_data"
    },
    {
     "data": {
      "text/html": [
       "<pre style=\"white-space:pre;overflow-x:auto;line-height:normal;font-family:Menlo,'DejaVu Sans Mono',consolas,'Courier New',monospace\">Average reward over last 5000 steps: 0.62\n",
       "</pre>\n"
      ],
      "text/plain": [
       "Average reward over last 5000 steps: 0.62\n"
      ]
     },
     "metadata": {},
     "output_type": "display_data"
    },
    {
     "data": {
      "text/html": [
       "<pre style=\"white-space:pre;overflow-x:auto;line-height:normal;font-family:Menlo,'DejaVu Sans Mono',consolas,'Courier New',monospace\">Average reward over last 5000 steps: 0.52\n",
       "</pre>\n"
      ],
      "text/plain": [
       "Average reward over last 5000 steps: 0.52\n"
      ]
     },
     "metadata": {},
     "output_type": "display_data"
    },
    {
     "data": {
      "text/html": [
       "<pre style=\"white-space:pre;overflow-x:auto;line-height:normal;font-family:Menlo,'DejaVu Sans Mono',consolas,'Courier New',monospace\">Average reward over last 5000 steps: 0.36\n",
       "</pre>\n"
      ],
      "text/plain": [
       "Average reward over last 5000 steps: 0.36\n"
      ]
     },
     "metadata": {},
     "output_type": "display_data"
    },
    {
     "data": {
      "text/html": [
       "<pre style=\"white-space:pre;overflow-x:auto;line-height:normal;font-family:Menlo,'DejaVu Sans Mono',consolas,'Courier New',monospace\">Average reward over last 5000 steps: 0.39\n",
       "</pre>\n"
      ],
      "text/plain": [
       "Average reward over last 5000 steps: 0.39\n"
      ]
     },
     "metadata": {},
     "output_type": "display_data"
    },
    {
     "data": {
      "text/html": [
       "<pre style=\"white-space:pre;overflow-x:auto;line-height:normal;font-family:Menlo,'DejaVu Sans Mono',consolas,'Courier New',monospace\">Average reward over last 5000 steps: 0.23\n",
       "</pre>\n"
      ],
      "text/plain": [
       "Average reward over last 5000 steps: 0.23\n"
      ]
     },
     "metadata": {},
     "output_type": "display_data"
    },
    {
     "data": {
      "text/html": [
       "<pre style=\"white-space:pre;overflow-x:auto;line-height:normal;font-family:Menlo,'DejaVu Sans Mono',consolas,'Courier New',monospace\">Average reward over last 5000 steps: 0.54\n",
       "</pre>\n"
      ],
      "text/plain": [
       "Average reward over last 5000 steps: 0.54\n"
      ]
     },
     "metadata": {},
     "output_type": "display_data"
    },
    {
     "data": {
      "text/html": [
       "<pre style=\"white-space:pre;overflow-x:auto;line-height:normal;font-family:Menlo,'DejaVu Sans Mono',consolas,'Courier New',monospace\">Average reward over last 5000 steps: 0.28\n",
       "</pre>\n"
      ],
      "text/plain": [
       "Average reward over last 5000 steps: 0.28\n"
      ]
     },
     "metadata": {},
     "output_type": "display_data"
    },
    {
     "data": {
      "text/html": [
       "<pre style=\"white-space:pre;overflow-x:auto;line-height:normal;font-family:Menlo,'DejaVu Sans Mono',consolas,'Courier New',monospace\">Average reward over last 5000 steps: 0.67\n",
       "</pre>\n"
      ],
      "text/plain": [
       "Average reward over last 5000 steps: 0.67\n"
      ]
     },
     "metadata": {},
     "output_type": "display_data"
    },
    {
     "data": {
      "text/html": [
       "<pre style=\"white-space:pre;overflow-x:auto;line-height:normal;font-family:Menlo,'DejaVu Sans Mono',consolas,'Courier New',monospace\">Average reward over last 5000 steps: 0.40\n",
       "</pre>\n"
      ],
      "text/plain": [
       "Average reward over last 5000 steps: 0.40\n"
      ]
     },
     "metadata": {},
     "output_type": "display_data"
    },
    {
     "data": {
      "text/html": [
       "<pre style=\"white-space:pre;overflow-x:auto;line-height:normal;font-family:Menlo,'DejaVu Sans Mono',consolas,'Courier New',monospace\">Average reward over last 5000 steps: 0.48\n",
       "</pre>\n"
      ],
      "text/plain": [
       "Average reward over last 5000 steps: 0.48\n"
      ]
     },
     "metadata": {},
     "output_type": "display_data"
    },
    {
     "data": {
      "text/html": [
       "<pre style=\"white-space:pre;overflow-x:auto;line-height:normal;font-family:Menlo,'DejaVu Sans Mono',consolas,'Courier New',monospace\">Average reward over last 5000 steps: 0.57\n",
       "</pre>\n"
      ],
      "text/plain": [
       "Average reward over last 5000 steps: 0.57\n"
      ]
     },
     "metadata": {},
     "output_type": "display_data"
    },
    {
     "data": {
      "text/html": [
       "<pre style=\"white-space:pre;overflow-x:auto;line-height:normal;font-family:Menlo,'DejaVu Sans Mono',consolas,'Courier New',monospace\">Average reward over last 5000 steps: 0.23\n",
       "</pre>\n"
      ],
      "text/plain": [
       "Average reward over last 5000 steps: 0.23\n"
      ]
     },
     "metadata": {},
     "output_type": "display_data"
    },
    {
     "data": {
      "text/html": [
       "<pre style=\"white-space:pre;overflow-x:auto;line-height:normal;font-family:Menlo,'DejaVu Sans Mono',consolas,'Courier New',monospace\">Average reward over last 5000 steps: 0.39\n",
       "</pre>\n"
      ],
      "text/plain": [
       "Average reward over last 5000 steps: 0.39\n"
      ]
     },
     "metadata": {},
     "output_type": "display_data"
    },
    {
     "data": {
      "text/html": [
       "<pre style=\"white-space:pre;overflow-x:auto;line-height:normal;font-family:Menlo,'DejaVu Sans Mono',consolas,'Courier New',monospace\">Average reward over last 5000 steps: 0.26\n",
       "</pre>\n"
      ],
      "text/plain": [
       "Average reward over last 5000 steps: 0.26\n"
      ]
     },
     "metadata": {},
     "output_type": "display_data"
    },
    {
     "data": {
      "text/html": [
       "<pre style=\"white-space:pre;overflow-x:auto;line-height:normal;font-family:Menlo,'DejaVu Sans Mono',consolas,'Courier New',monospace\">Average reward over last 5000 steps: 0.19\n",
       "</pre>\n"
      ],
      "text/plain": [
       "Average reward over last 5000 steps: 0.19\n"
      ]
     },
     "metadata": {},
     "output_type": "display_data"
    },
    {
     "data": {
      "text/html": [
       "<pre style=\"white-space:pre;overflow-x:auto;line-height:normal;font-family:Menlo,'DejaVu Sans Mono',consolas,'Courier New',monospace\">Average reward over last 5000 steps: 0.59\n",
       "</pre>\n"
      ],
      "text/plain": [
       "Average reward over last 5000 steps: 0.59\n"
      ]
     },
     "metadata": {},
     "output_type": "display_data"
    },
    {
     "data": {
      "text/html": [
       "<pre style=\"white-space:pre;overflow-x:auto;line-height:normal;font-family:Menlo,'DejaVu Sans Mono',consolas,'Courier New',monospace\">Average reward over last 5000 steps: 0.62\n",
       "</pre>\n"
      ],
      "text/plain": [
       "Average reward over last 5000 steps: 0.62\n"
      ]
     },
     "metadata": {},
     "output_type": "display_data"
    },
    {
     "data": {
      "text/html": [
       "<pre style=\"white-space:pre;overflow-x:auto;line-height:normal;font-family:Menlo,'DejaVu Sans Mono',consolas,'Courier New',monospace\">Average reward over last 5000 steps: 0.79\n",
       "</pre>\n"
      ],
      "text/plain": [
       "Average reward over last 5000 steps: 0.79\n"
      ]
     },
     "metadata": {},
     "output_type": "display_data"
    },
    {
     "data": {
      "text/html": [
       "<pre style=\"white-space:pre;overflow-x:auto;line-height:normal;font-family:Menlo,'DejaVu Sans Mono',consolas,'Courier New',monospace\">Average reward over last 5000 steps: 0.35\n",
       "</pre>\n"
      ],
      "text/plain": [
       "Average reward over last 5000 steps: 0.35\n"
      ]
     },
     "metadata": {},
     "output_type": "display_data"
    },
    {
     "data": {
      "text/html": [
       "<pre style=\"white-space:pre;overflow-x:auto;line-height:normal;font-family:Menlo,'DejaVu Sans Mono',consolas,'Courier New',monospace\">Average reward over last 5000 steps: 0.45\n",
       "</pre>\n"
      ],
      "text/plain": [
       "Average reward over last 5000 steps: 0.45\n"
      ]
     },
     "metadata": {},
     "output_type": "display_data"
    },
    {
     "data": {
      "text/html": [
       "<pre style=\"white-space:pre;overflow-x:auto;line-height:normal;font-family:Menlo,'DejaVu Sans Mono',consolas,'Courier New',monospace\">Average reward over last 5000 steps: 0.30\n",
       "</pre>\n"
      ],
      "text/plain": [
       "Average reward over last 5000 steps: 0.30\n"
      ]
     },
     "metadata": {},
     "output_type": "display_data"
    },
    {
     "data": {
      "text/html": [
       "<pre style=\"white-space:pre;overflow-x:auto;line-height:normal;font-family:Menlo,'DejaVu Sans Mono',consolas,'Courier New',monospace\">Average reward over last 5000 steps: 0.50\n",
       "</pre>\n"
      ],
      "text/plain": [
       "Average reward over last 5000 steps: 0.50\n"
      ]
     },
     "metadata": {},
     "output_type": "display_data"
    },
    {
     "data": {
      "text/html": [
       "<pre style=\"white-space:pre;overflow-x:auto;line-height:normal;font-family:Menlo,'DejaVu Sans Mono',consolas,'Courier New',monospace\">Average reward over last 5000 steps: 0.43\n",
       "</pre>\n"
      ],
      "text/plain": [
       "Average reward over last 5000 steps: 0.43\n"
      ]
     },
     "metadata": {},
     "output_type": "display_data"
    },
    {
     "data": {
      "text/html": [
       "<pre style=\"white-space:pre;overflow-x:auto;line-height:normal;font-family:Menlo,'DejaVu Sans Mono',consolas,'Courier New',monospace\">Average reward over last 5000 steps: 0.69\n",
       "</pre>\n"
      ],
      "text/plain": [
       "Average reward over last 5000 steps: 0.69\n"
      ]
     },
     "metadata": {},
     "output_type": "display_data"
    },
    {
     "data": {
      "text/html": [
       "<pre style=\"white-space:pre;overflow-x:auto;line-height:normal;font-family:Menlo,'DejaVu Sans Mono',consolas,'Courier New',monospace\">Average reward over last 5000 steps: 0.38\n",
       "</pre>\n"
      ],
      "text/plain": [
       "Average reward over last 5000 steps: 0.38\n"
      ]
     },
     "metadata": {},
     "output_type": "display_data"
    },
    {
     "data": {
      "text/html": [
       "<pre style=\"white-space:pre;overflow-x:auto;line-height:normal;font-family:Menlo,'DejaVu Sans Mono',consolas,'Courier New',monospace\">Average reward over last 5000 steps: 0.70\n",
       "</pre>\n"
      ],
      "text/plain": [
       "Average reward over last 5000 steps: 0.70\n"
      ]
     },
     "metadata": {},
     "output_type": "display_data"
    },
    {
     "data": {
      "text/html": [
       "<pre style=\"white-space:pre;overflow-x:auto;line-height:normal;font-family:Menlo,'DejaVu Sans Mono',consolas,'Courier New',monospace\">Average reward over last 5000 steps: 0.63\n",
       "</pre>\n"
      ],
      "text/plain": [
       "Average reward over last 5000 steps: 0.63\n"
      ]
     },
     "metadata": {},
     "output_type": "display_data"
    },
    {
     "data": {
      "text/html": [
       "<pre style=\"white-space:pre;overflow-x:auto;line-height:normal;font-family:Menlo,'DejaVu Sans Mono',consolas,'Courier New',monospace\">Average reward over last 5000 steps: 0.68\n",
       "</pre>\n"
      ],
      "text/plain": [
       "Average reward over last 5000 steps: 0.68\n"
      ]
     },
     "metadata": {},
     "output_type": "display_data"
    },
    {
     "data": {
      "text/html": [
       "<pre style=\"white-space:pre;overflow-x:auto;line-height:normal;font-family:Menlo,'DejaVu Sans Mono',consolas,'Courier New',monospace\">Average reward over last 5000 steps: 0.51\n",
       "</pre>\n"
      ],
      "text/plain": [
       "Average reward over last 5000 steps: 0.51\n"
      ]
     },
     "metadata": {},
     "output_type": "display_data"
    },
    {
     "data": {
      "text/html": [
       "<pre style=\"white-space:pre;overflow-x:auto;line-height:normal;font-family:Menlo,'DejaVu Sans Mono',consolas,'Courier New',monospace\">Average reward over last 5000 steps: 0.44\n",
       "</pre>\n"
      ],
      "text/plain": [
       "Average reward over last 5000 steps: 0.44\n"
      ]
     },
     "metadata": {},
     "output_type": "display_data"
    },
    {
     "data": {
      "text/html": [
       "<pre style=\"white-space:pre;overflow-x:auto;line-height:normal;font-family:Menlo,'DejaVu Sans Mono',consolas,'Courier New',monospace\">Average reward over last 5000 steps: 0.11\n",
       "</pre>\n"
      ],
      "text/plain": [
       "Average reward over last 5000 steps: 0.11\n"
      ]
     },
     "metadata": {},
     "output_type": "display_data"
    },
    {
     "data": {
      "text/html": [
       "<pre style=\"white-space:pre;overflow-x:auto;line-height:normal;font-family:Menlo,'DejaVu Sans Mono',consolas,'Courier New',monospace\">Average reward over last 5000 steps: 0.22\n",
       "</pre>\n"
      ],
      "text/plain": [
       "Average reward over last 5000 steps: 0.22\n"
      ]
     },
     "metadata": {},
     "output_type": "display_data"
    },
    {
     "data": {
      "text/html": [
       "<pre style=\"white-space:pre;overflow-x:auto;line-height:normal;font-family:Menlo,'DejaVu Sans Mono',consolas,'Courier New',monospace\">Average reward over last 5000 steps: 0.57\n",
       "</pre>\n"
      ],
      "text/plain": [
       "Average reward over last 5000 steps: 0.57\n"
      ]
     },
     "metadata": {},
     "output_type": "display_data"
    },
    {
     "data": {
      "text/html": [
       "<pre style=\"white-space:pre;overflow-x:auto;line-height:normal;font-family:Menlo,'DejaVu Sans Mono',consolas,'Courier New',monospace\">Average reward over last 5000 steps: 0.27\n",
       "</pre>\n"
      ],
      "text/plain": [
       "Average reward over last 5000 steps: 0.27\n"
      ]
     },
     "metadata": {},
     "output_type": "display_data"
    },
    {
     "data": {
      "text/html": [
       "<pre style=\"white-space:pre;overflow-x:auto;line-height:normal;font-family:Menlo,'DejaVu Sans Mono',consolas,'Courier New',monospace\">Average reward over last 5000 steps: 0.43\n",
       "</pre>\n"
      ],
      "text/plain": [
       "Average reward over last 5000 steps: 0.43\n"
      ]
     },
     "metadata": {},
     "output_type": "display_data"
    },
    {
     "data": {
      "text/html": [
       "<pre style=\"white-space:pre;overflow-x:auto;line-height:normal;font-family:Menlo,'DejaVu Sans Mono',consolas,'Courier New',monospace\">Average reward over last 5000 steps: 0.44\n",
       "</pre>\n"
      ],
      "text/plain": [
       "Average reward over last 5000 steps: 0.44\n"
      ]
     },
     "metadata": {},
     "output_type": "display_data"
    },
    {
     "data": {
      "text/html": [
       "<pre style=\"white-space:pre;overflow-x:auto;line-height:normal;font-family:Menlo,'DejaVu Sans Mono',consolas,'Courier New',monospace\">Average reward over last 5000 steps: 0.44\n",
       "</pre>\n"
      ],
      "text/plain": [
       "Average reward over last 5000 steps: 0.44\n"
      ]
     },
     "metadata": {},
     "output_type": "display_data"
    },
    {
     "data": {
      "text/html": [
       "<pre style=\"white-space:pre;overflow-x:auto;line-height:normal;font-family:Menlo,'DejaVu Sans Mono',consolas,'Courier New',monospace\">Average reward over last 5000 steps: 0.54\n",
       "</pre>\n"
      ],
      "text/plain": [
       "Average reward over last 5000 steps: 0.54\n"
      ]
     },
     "metadata": {},
     "output_type": "display_data"
    },
    {
     "data": {
      "text/html": [
       "<pre style=\"white-space:pre;overflow-x:auto;line-height:normal;font-family:Menlo,'DejaVu Sans Mono',consolas,'Courier New',monospace\">Average reward over last 5000 steps: 0.60\n",
       "</pre>\n"
      ],
      "text/plain": [
       "Average reward over last 5000 steps: 0.60\n"
      ]
     },
     "metadata": {},
     "output_type": "display_data"
    },
    {
     "data": {
      "text/html": [
       "<pre style=\"white-space:pre;overflow-x:auto;line-height:normal;font-family:Menlo,'DejaVu Sans Mono',consolas,'Courier New',monospace\">Average reward over last 5000 steps: 0.71\n",
       "</pre>\n"
      ],
      "text/plain": [
       "Average reward over last 5000 steps: 0.71\n"
      ]
     },
     "metadata": {},
     "output_type": "display_data"
    },
    {
     "data": {
      "text/html": [
       "<pre style=\"white-space:pre;overflow-x:auto;line-height:normal;font-family:Menlo,'DejaVu Sans Mono',consolas,'Courier New',monospace\">Average reward over last 5000 steps: 0.81\n",
       "</pre>\n"
      ],
      "text/plain": [
       "Average reward over last 5000 steps: 0.81\n"
      ]
     },
     "metadata": {},
     "output_type": "display_data"
    },
    {
     "data": {
      "text/html": [
       "<pre style=\"white-space:pre;overflow-x:auto;line-height:normal;font-family:Menlo,'DejaVu Sans Mono',consolas,'Courier New',monospace\">Average reward over last 5000 steps: 0.65\n",
       "</pre>\n"
      ],
      "text/plain": [
       "Average reward over last 5000 steps: 0.65\n"
      ]
     },
     "metadata": {},
     "output_type": "display_data"
    },
    {
     "data": {
      "text/html": [
       "<pre style=\"white-space:pre;overflow-x:auto;line-height:normal;font-family:Menlo,'DejaVu Sans Mono',consolas,'Courier New',monospace\">Average reward over last 5000 steps: 0.68\n",
       "</pre>\n"
      ],
      "text/plain": [
       "Average reward over last 5000 steps: 0.68\n"
      ]
     },
     "metadata": {},
     "output_type": "display_data"
    },
    {
     "data": {
      "text/html": [
       "<pre style=\"white-space:pre;overflow-x:auto;line-height:normal;font-family:Menlo,'DejaVu Sans Mono',consolas,'Courier New',monospace\">Average reward over last 5000 steps: 0.68\n",
       "</pre>\n"
      ],
      "text/plain": [
       "Average reward over last 5000 steps: 0.68\n"
      ]
     },
     "metadata": {},
     "output_type": "display_data"
    },
    {
     "data": {
      "text/html": [
       "<pre style=\"white-space:pre;overflow-x:auto;line-height:normal;font-family:Menlo,'DejaVu Sans Mono',consolas,'Courier New',monospace\">Average reward over last 5000 steps: 0.89\n",
       "</pre>\n"
      ],
      "text/plain": [
       "Average reward over last 5000 steps: 0.89\n"
      ]
     },
     "metadata": {},
     "output_type": "display_data"
    },
    {
     "data": {
      "text/html": [
       "<pre style=\"white-space:pre;overflow-x:auto;line-height:normal;font-family:Menlo,'DejaVu Sans Mono',consolas,'Courier New',monospace\">Average reward over last 5000 steps: 0.67\n",
       "</pre>\n"
      ],
      "text/plain": [
       "Average reward over last 5000 steps: 0.67\n"
      ]
     },
     "metadata": {},
     "output_type": "display_data"
    },
    {
     "data": {
      "text/html": [
       "<pre style=\"white-space:pre;overflow-x:auto;line-height:normal;font-family:Menlo,'DejaVu Sans Mono',consolas,'Courier New',monospace\">Average reward over last 5000 steps: 0.54\n",
       "</pre>\n"
      ],
      "text/plain": [
       "Average reward over last 5000 steps: 0.54\n"
      ]
     },
     "metadata": {},
     "output_type": "display_data"
    },
    {
     "data": {
      "text/html": [
       "<pre style=\"white-space:pre;overflow-x:auto;line-height:normal;font-family:Menlo,'DejaVu Sans Mono',consolas,'Courier New',monospace\">Average reward over last 5000 steps: 0.73\n",
       "</pre>\n"
      ],
      "text/plain": [
       "Average reward over last 5000 steps: 0.73\n"
      ]
     },
     "metadata": {},
     "output_type": "display_data"
    },
    {
     "data": {
      "text/html": [
       "<pre style=\"white-space:pre;overflow-x:auto;line-height:normal;font-family:Menlo,'DejaVu Sans Mono',consolas,'Courier New',monospace\">Average reward over last 5000 steps: 0.42\n",
       "</pre>\n"
      ],
      "text/plain": [
       "Average reward over last 5000 steps: 0.42\n"
      ]
     },
     "metadata": {},
     "output_type": "display_data"
    },
    {
     "data": {
      "text/html": [
       "<pre style=\"white-space:pre;overflow-x:auto;line-height:normal;font-family:Menlo,'DejaVu Sans Mono',consolas,'Courier New',monospace\">Average reward over last 5000 steps: 0.91\n",
       "</pre>\n"
      ],
      "text/plain": [
       "Average reward over last 5000 steps: 0.91\n"
      ]
     },
     "metadata": {},
     "output_type": "display_data"
    },
    {
     "data": {
      "text/html": [
       "<pre style=\"white-space:pre;overflow-x:auto;line-height:normal;font-family:Menlo,'DejaVu Sans Mono',consolas,'Courier New',monospace\">Average reward over last 5000 steps: 0.46\n",
       "</pre>\n"
      ],
      "text/plain": [
       "Average reward over last 5000 steps: 0.46\n"
      ]
     },
     "metadata": {},
     "output_type": "display_data"
    },
    {
     "data": {
      "text/html": [
       "<pre style=\"white-space:pre;overflow-x:auto;line-height:normal;font-family:Menlo,'DejaVu Sans Mono',consolas,'Courier New',monospace\">Average reward over last 5000 steps: 0.76\n",
       "</pre>\n"
      ],
      "text/plain": [
       "Average reward over last 5000 steps: 0.76\n"
      ]
     },
     "metadata": {},
     "output_type": "display_data"
    },
    {
     "data": {
      "text/html": [
       "<pre style=\"white-space:pre;overflow-x:auto;line-height:normal;font-family:Menlo,'DejaVu Sans Mono',consolas,'Courier New',monospace\">Average reward over last 5000 steps: 0.87\n",
       "</pre>\n"
      ],
      "text/plain": [
       "Average reward over last 5000 steps: 0.87\n"
      ]
     },
     "metadata": {},
     "output_type": "display_data"
    },
    {
     "data": {
      "text/html": [
       "<pre style=\"white-space:pre;overflow-x:auto;line-height:normal;font-family:Menlo,'DejaVu Sans Mono',consolas,'Courier New',monospace\">Average reward over last 5000 steps: 0.85\n",
       "</pre>\n"
      ],
      "text/plain": [
       "Average reward over last 5000 steps: 0.85\n"
      ]
     },
     "metadata": {},
     "output_type": "display_data"
    },
    {
     "data": {
      "text/html": [
       "<pre style=\"white-space:pre;overflow-x:auto;line-height:normal;font-family:Menlo,'DejaVu Sans Mono',consolas,'Courier New',monospace\">Average reward over last 5000 steps: 1.02\n",
       "</pre>\n"
      ],
      "text/plain": [
       "Average reward over last 5000 steps: 1.02\n"
      ]
     },
     "metadata": {},
     "output_type": "display_data"
    },
    {
     "data": {
      "text/html": [
       "<pre style=\"white-space:pre;overflow-x:auto;line-height:normal;font-family:Menlo,'DejaVu Sans Mono',consolas,'Courier New',monospace\">Average reward over last 5000 steps: 0.81\n",
       "</pre>\n"
      ],
      "text/plain": [
       "Average reward over last 5000 steps: 0.81\n"
      ]
     },
     "metadata": {},
     "output_type": "display_data"
    },
    {
     "data": {
      "text/html": [
       "<pre style=\"white-space:pre;overflow-x:auto;line-height:normal;font-family:Menlo,'DejaVu Sans Mono',consolas,'Courier New',monospace\">Average reward over last 5000 steps: 0.56\n",
       "</pre>\n"
      ],
      "text/plain": [
       "Average reward over last 5000 steps: 0.56\n"
      ]
     },
     "metadata": {},
     "output_type": "display_data"
    },
    {
     "data": {
      "text/html": [
       "<pre style=\"white-space:pre;overflow-x:auto;line-height:normal;font-family:Menlo,'DejaVu Sans Mono',consolas,'Courier New',monospace\">Average reward over last 5000 steps: 0.67\n",
       "</pre>\n"
      ],
      "text/plain": [
       "Average reward over last 5000 steps: 0.67\n"
      ]
     },
     "metadata": {},
     "output_type": "display_data"
    },
    {
     "data": {
      "text/html": [
       "<pre style=\"white-space:pre;overflow-x:auto;line-height:normal;font-family:Menlo,'DejaVu Sans Mono',consolas,'Courier New',monospace\">Average reward over last 5000 steps: 0.83\n",
       "</pre>\n"
      ],
      "text/plain": [
       "Average reward over last 5000 steps: 0.83\n"
      ]
     },
     "metadata": {},
     "output_type": "display_data"
    },
    {
     "data": {
      "text/html": [
       "<pre style=\"white-space:pre;overflow-x:auto;line-height:normal;font-family:Menlo,'DejaVu Sans Mono',consolas,'Courier New',monospace\">Average reward over last 5000 steps: 0.81\n",
       "</pre>\n"
      ],
      "text/plain": [
       "Average reward over last 5000 steps: 0.81\n"
      ]
     },
     "metadata": {},
     "output_type": "display_data"
    },
    {
     "data": {
      "text/html": [
       "<pre style=\"white-space:pre;overflow-x:auto;line-height:normal;font-family:Menlo,'DejaVu Sans Mono',consolas,'Courier New',monospace\">Average reward over last 5000 steps: 0.78\n",
       "</pre>\n"
      ],
      "text/plain": [
       "Average reward over last 5000 steps: 0.78\n"
      ]
     },
     "metadata": {},
     "output_type": "display_data"
    },
    {
     "data": {
      "text/html": [
       "<pre style=\"white-space:pre;overflow-x:auto;line-height:normal;font-family:Menlo,'DejaVu Sans Mono',consolas,'Courier New',monospace\">Average reward over last 5000 steps: 0.92\n",
       "</pre>\n"
      ],
      "text/plain": [
       "Average reward over last 5000 steps: 0.92\n"
      ]
     },
     "metadata": {},
     "output_type": "display_data"
    },
    {
     "data": {
      "text/html": [
       "<pre style=\"white-space:pre;overflow-x:auto;line-height:normal;font-family:Menlo,'DejaVu Sans Mono',consolas,'Courier New',monospace\">Average reward over last 5000 steps: 0.60\n",
       "</pre>\n"
      ],
      "text/plain": [
       "Average reward over last 5000 steps: 0.60\n"
      ]
     },
     "metadata": {},
     "output_type": "display_data"
    },
    {
     "data": {
      "text/html": [
       "<pre style=\"white-space:pre;overflow-x:auto;line-height:normal;font-family:Menlo,'DejaVu Sans Mono',consolas,'Courier New',monospace\">Average reward over last 5000 steps: 0.50\n",
       "</pre>\n"
      ],
      "text/plain": [
       "Average reward over last 5000 steps: 0.50\n"
      ]
     },
     "metadata": {},
     "output_type": "display_data"
    },
    {
     "data": {
      "text/html": [
       "<pre style=\"white-space:pre;overflow-x:auto;line-height:normal;font-family:Menlo,'DejaVu Sans Mono',consolas,'Courier New',monospace\">Average reward over last 5000 steps: 0.76\n",
       "</pre>\n"
      ],
      "text/plain": [
       "Average reward over last 5000 steps: 0.76\n"
      ]
     },
     "metadata": {},
     "output_type": "display_data"
    },
    {
     "data": {
      "text/html": [
       "<pre style=\"white-space:pre;overflow-x:auto;line-height:normal;font-family:Menlo,'DejaVu Sans Mono',consolas,'Courier New',monospace\">Average reward over last 5000 steps: 0.41\n",
       "</pre>\n"
      ],
      "text/plain": [
       "Average reward over last 5000 steps: 0.41\n"
      ]
     },
     "metadata": {},
     "output_type": "display_data"
    },
    {
     "data": {
      "text/html": [
       "<pre style=\"white-space:pre;overflow-x:auto;line-height:normal;font-family:Menlo,'DejaVu Sans Mono',consolas,'Courier New',monospace\">Average reward over last 5000 steps: 0.48\n",
       "</pre>\n"
      ],
      "text/plain": [
       "Average reward over last 5000 steps: 0.48\n"
      ]
     },
     "metadata": {},
     "output_type": "display_data"
    },
    {
     "data": {
      "text/html": [
       "<pre style=\"white-space:pre;overflow-x:auto;line-height:normal;font-family:Menlo,'DejaVu Sans Mono',consolas,'Courier New',monospace\">Average reward over last 5000 steps: 0.82\n",
       "</pre>\n"
      ],
      "text/plain": [
       "Average reward over last 5000 steps: 0.82\n"
      ]
     },
     "metadata": {},
     "output_type": "display_data"
    },
    {
     "data": {
      "text/html": [
       "<pre style=\"white-space:pre;overflow-x:auto;line-height:normal;font-family:Menlo,'DejaVu Sans Mono',consolas,'Courier New',monospace\">Average reward over last 5000 steps: 0.72\n",
       "</pre>\n"
      ],
      "text/plain": [
       "Average reward over last 5000 steps: 0.72\n"
      ]
     },
     "metadata": {},
     "output_type": "display_data"
    },
    {
     "data": {
      "text/html": [
       "<pre style=\"white-space:pre;overflow-x:auto;line-height:normal;font-family:Menlo,'DejaVu Sans Mono',consolas,'Courier New',monospace\">Average reward over last 5000 steps: 0.87\n",
       "</pre>\n"
      ],
      "text/plain": [
       "Average reward over last 5000 steps: 0.87\n"
      ]
     },
     "metadata": {},
     "output_type": "display_data"
    },
    {
     "data": {
      "text/html": [
       "<pre style=\"white-space:pre;overflow-x:auto;line-height:normal;font-family:Menlo,'DejaVu Sans Mono',consolas,'Courier New',monospace\">Average reward over last 5000 steps: 0.68\n",
       "</pre>\n"
      ],
      "text/plain": [
       "Average reward over last 5000 steps: 0.68\n"
      ]
     },
     "metadata": {},
     "output_type": "display_data"
    },
    {
     "data": {
      "text/html": [
       "<pre style=\"white-space:pre;overflow-x:auto;line-height:normal;font-family:Menlo,'DejaVu Sans Mono',consolas,'Courier New',monospace\">Average reward over last 5000 steps: 0.76\n",
       "</pre>\n"
      ],
      "text/plain": [
       "Average reward over last 5000 steps: 0.76\n"
      ]
     },
     "metadata": {},
     "output_type": "display_data"
    },
    {
     "data": {
      "text/html": [
       "<pre style=\"white-space:pre;overflow-x:auto;line-height:normal;font-family:Menlo,'DejaVu Sans Mono',consolas,'Courier New',monospace\">Average reward over last 5000 steps: 0.57\n",
       "</pre>\n"
      ],
      "text/plain": [
       "Average reward over last 5000 steps: 0.57\n"
      ]
     },
     "metadata": {},
     "output_type": "display_data"
    },
    {
     "data": {
      "text/html": [
       "<pre style=\"white-space:pre;overflow-x:auto;line-height:normal;font-family:Menlo,'DejaVu Sans Mono',consolas,'Courier New',monospace\">Average reward over last 5000 steps: 0.75\n",
       "</pre>\n"
      ],
      "text/plain": [
       "Average reward over last 5000 steps: 0.75\n"
      ]
     },
     "metadata": {},
     "output_type": "display_data"
    },
    {
     "data": {
      "text/html": [
       "<pre style=\"white-space:pre;overflow-x:auto;line-height:normal;font-family:Menlo,'DejaVu Sans Mono',consolas,'Courier New',monospace\">Average reward over last 5000 steps: 0.71\n",
       "</pre>\n"
      ],
      "text/plain": [
       "Average reward over last 5000 steps: 0.71\n"
      ]
     },
     "metadata": {},
     "output_type": "display_data"
    },
    {
     "data": {
      "text/html": [
       "<pre style=\"white-space:pre;overflow-x:auto;line-height:normal;font-family:Menlo,'DejaVu Sans Mono',consolas,'Courier New',monospace\">Average reward over last 5000 steps: 0.58\n",
       "</pre>\n"
      ],
      "text/plain": [
       "Average reward over last 5000 steps: 0.58\n"
      ]
     },
     "metadata": {},
     "output_type": "display_data"
    },
    {
     "data": {
      "text/html": [
       "<pre style=\"white-space:pre;overflow-x:auto;line-height:normal;font-family:Menlo,'DejaVu Sans Mono',consolas,'Courier New',monospace\">Average reward over last 5000 steps: 0.63\n",
       "</pre>\n"
      ],
      "text/plain": [
       "Average reward over last 5000 steps: 0.63\n"
      ]
     },
     "metadata": {},
     "output_type": "display_data"
    },
    {
     "data": {
      "text/html": [
       "<pre style=\"white-space:pre;overflow-x:auto;line-height:normal;font-family:Menlo,'DejaVu Sans Mono',consolas,'Courier New',monospace\">Average reward over last 5000 steps: 0.80\n",
       "</pre>\n"
      ],
      "text/plain": [
       "Average reward over last 5000 steps: 0.80\n"
      ]
     },
     "metadata": {},
     "output_type": "display_data"
    },
    {
     "data": {
      "text/html": [
       "<pre style=\"white-space:pre;overflow-x:auto;line-height:normal;font-family:Menlo,'DejaVu Sans Mono',consolas,'Courier New',monospace\">Average reward over last 5000 steps: 0.79\n",
       "</pre>\n"
      ],
      "text/plain": [
       "Average reward over last 5000 steps: 0.79\n"
      ]
     },
     "metadata": {},
     "output_type": "display_data"
    },
    {
     "data": {
      "text/html": [
       "<pre style=\"white-space:pre;overflow-x:auto;line-height:normal;font-family:Menlo,'DejaVu Sans Mono',consolas,'Courier New',monospace\">Average reward over last 5000 steps: 0.49\n",
       "</pre>\n"
      ],
      "text/plain": [
       "Average reward over last 5000 steps: 0.49\n"
      ]
     },
     "metadata": {},
     "output_type": "display_data"
    },
    {
     "data": {
      "text/html": [
       "<pre style=\"white-space:pre;overflow-x:auto;line-height:normal;font-family:Menlo,'DejaVu Sans Mono',consolas,'Courier New',monospace\">Average reward over last 5000 steps: 0.73\n",
       "</pre>\n"
      ],
      "text/plain": [
       "Average reward over last 5000 steps: 0.73\n"
      ]
     },
     "metadata": {},
     "output_type": "display_data"
    },
    {
     "data": {
      "text/html": [
       "<pre style=\"white-space:pre;overflow-x:auto;line-height:normal;font-family:Menlo,'DejaVu Sans Mono',consolas,'Courier New',monospace\">Average reward over last 5000 steps: 0.73\n",
       "</pre>\n"
      ],
      "text/plain": [
       "Average reward over last 5000 steps: 0.73\n"
      ]
     },
     "metadata": {},
     "output_type": "display_data"
    },
    {
     "data": {
      "text/html": [
       "<pre style=\"white-space:pre;overflow-x:auto;line-height:normal;font-family:Menlo,'DejaVu Sans Mono',consolas,'Courier New',monospace\">Average reward over last 5000 steps: 0.51\n",
       "</pre>\n"
      ],
      "text/plain": [
       "Average reward over last 5000 steps: 0.51\n"
      ]
     },
     "metadata": {},
     "output_type": "display_data"
    },
    {
     "data": {
      "text/html": [
       "<pre style=\"white-space:pre;overflow-x:auto;line-height:normal;font-family:Menlo,'DejaVu Sans Mono',consolas,'Courier New',monospace\">Average reward over last 5000 steps: 1.03\n",
       "</pre>\n"
      ],
      "text/plain": [
       "Average reward over last 5000 steps: 1.03\n"
      ]
     },
     "metadata": {},
     "output_type": "display_data"
    },
    {
     "data": {
      "text/html": [
       "<pre style=\"white-space:pre;overflow-x:auto;line-height:normal;font-family:Menlo,'DejaVu Sans Mono',consolas,'Courier New',monospace\">Average reward over last 5000 steps: 0.88\n",
       "</pre>\n"
      ],
      "text/plain": [
       "Average reward over last 5000 steps: 0.88\n"
      ]
     },
     "metadata": {},
     "output_type": "display_data"
    },
    {
     "data": {
      "text/html": [
       "<pre style=\"white-space:pre;overflow-x:auto;line-height:normal;font-family:Menlo,'DejaVu Sans Mono',consolas,'Courier New',monospace\">Average reward over last 5000 steps: 0.95\n",
       "</pre>\n"
      ],
      "text/plain": [
       "Average reward over last 5000 steps: 0.95\n"
      ]
     },
     "metadata": {},
     "output_type": "display_data"
    },
    {
     "data": {
      "text/html": [
       "<pre style=\"white-space:pre;overflow-x:auto;line-height:normal;font-family:Menlo,'DejaVu Sans Mono',consolas,'Courier New',monospace\">Average reward over last 5000 steps: 0.93\n",
       "</pre>\n"
      ],
      "text/plain": [
       "Average reward over last 5000 steps: 0.93\n"
      ]
     },
     "metadata": {},
     "output_type": "display_data"
    },
    {
     "data": {
      "text/html": [
       "<pre style=\"white-space:pre;overflow-x:auto;line-height:normal;font-family:Menlo,'DejaVu Sans Mono',consolas,'Courier New',monospace\">Average reward over last 5000 steps: 1.13\n",
       "</pre>\n"
      ],
      "text/plain": [
       "Average reward over last 5000 steps: 1.13\n"
      ]
     },
     "metadata": {},
     "output_type": "display_data"
    },
    {
     "data": {
      "text/html": [
       "<pre style=\"white-space:pre;overflow-x:auto;line-height:normal;font-family:Menlo,'DejaVu Sans Mono',consolas,'Courier New',monospace\">Average reward over last 5000 steps: 1.01\n",
       "</pre>\n"
      ],
      "text/plain": [
       "Average reward over last 5000 steps: 1.01\n"
      ]
     },
     "metadata": {},
     "output_type": "display_data"
    },
    {
     "data": {
      "text/html": [
       "<pre style=\"white-space:pre;overflow-x:auto;line-height:normal;font-family:Menlo,'DejaVu Sans Mono',consolas,'Courier New',monospace\">Average reward over last 5000 steps: 0.71\n",
       "</pre>\n"
      ],
      "text/plain": [
       "Average reward over last 5000 steps: 0.71\n"
      ]
     },
     "metadata": {},
     "output_type": "display_data"
    },
    {
     "data": {
      "text/html": [
       "<pre style=\"white-space:pre;overflow-x:auto;line-height:normal;font-family:Menlo,'DejaVu Sans Mono',consolas,'Courier New',monospace\">Average reward over last 5000 steps: 0.69\n",
       "</pre>\n"
      ],
      "text/plain": [
       "Average reward over last 5000 steps: 0.69\n"
      ]
     },
     "metadata": {},
     "output_type": "display_data"
    },
    {
     "data": {
      "text/html": [
       "<pre style=\"white-space:pre;overflow-x:auto;line-height:normal;font-family:Menlo,'DejaVu Sans Mono',consolas,'Courier New',monospace\">Average reward over last 5000 steps: 0.50\n",
       "</pre>\n"
      ],
      "text/plain": [
       "Average reward over last 5000 steps: 0.50\n"
      ]
     },
     "metadata": {},
     "output_type": "display_data"
    },
    {
     "data": {
      "text/html": [
       "<pre style=\"white-space:pre;overflow-x:auto;line-height:normal;font-family:Menlo,'DejaVu Sans Mono',consolas,'Courier New',monospace\">Average reward over last 5000 steps: 0.73\n",
       "</pre>\n"
      ],
      "text/plain": [
       "Average reward over last 5000 steps: 0.73\n"
      ]
     },
     "metadata": {},
     "output_type": "display_data"
    },
    {
     "data": {
      "text/html": [
       "<pre style=\"white-space:pre;overflow-x:auto;line-height:normal;font-family:Menlo,'DejaVu Sans Mono',consolas,'Courier New',monospace\">Average reward over last 5000 steps: 1.01\n",
       "</pre>\n"
      ],
      "text/plain": [
       "Average reward over last 5000 steps: 1.01\n"
      ]
     },
     "metadata": {},
     "output_type": "display_data"
    },
    {
     "data": {
      "text/html": [
       "<pre style=\"white-space:pre;overflow-x:auto;line-height:normal;font-family:Menlo,'DejaVu Sans Mono',consolas,'Courier New',monospace\">Average reward over last 5000 steps: 0.76\n",
       "</pre>\n"
      ],
      "text/plain": [
       "Average reward over last 5000 steps: 0.76\n"
      ]
     },
     "metadata": {},
     "output_type": "display_data"
    },
    {
     "data": {
      "text/html": [
       "<pre style=\"white-space:pre;overflow-x:auto;line-height:normal;font-family:Menlo,'DejaVu Sans Mono',consolas,'Courier New',monospace\">Average reward over last 5000 steps: 0.68\n",
       "</pre>\n"
      ],
      "text/plain": [
       "Average reward over last 5000 steps: 0.68\n"
      ]
     },
     "metadata": {},
     "output_type": "display_data"
    },
    {
     "data": {
      "text/html": [
       "<pre style=\"white-space:pre;overflow-x:auto;line-height:normal;font-family:Menlo,'DejaVu Sans Mono',consolas,'Courier New',monospace\">Average reward over last 5000 steps: 0.69\n",
       "</pre>\n"
      ],
      "text/plain": [
       "Average reward over last 5000 steps: 0.69\n"
      ]
     },
     "metadata": {},
     "output_type": "display_data"
    },
    {
     "data": {
      "text/html": [
       "<pre style=\"white-space:pre;overflow-x:auto;line-height:normal;font-family:Menlo,'DejaVu Sans Mono',consolas,'Courier New',monospace\">Average reward over last 5000 steps: 0.69\n",
       "</pre>\n"
      ],
      "text/plain": [
       "Average reward over last 5000 steps: 0.69\n"
      ]
     },
     "metadata": {},
     "output_type": "display_data"
    },
    {
     "data": {
      "text/html": [
       "<pre style=\"white-space:pre;overflow-x:auto;line-height:normal;font-family:Menlo,'DejaVu Sans Mono',consolas,'Courier New',monospace\">Average reward over last 5000 steps: 0.52\n",
       "</pre>\n"
      ],
      "text/plain": [
       "Average reward over last 5000 steps: 0.52\n"
      ]
     },
     "metadata": {},
     "output_type": "display_data"
    },
    {
     "data": {
      "text/html": [
       "<pre style=\"white-space:pre;overflow-x:auto;line-height:normal;font-family:Menlo,'DejaVu Sans Mono',consolas,'Courier New',monospace\">Average reward over last 5000 steps: 0.85\n",
       "</pre>\n"
      ],
      "text/plain": [
       "Average reward over last 5000 steps: 0.85\n"
      ]
     },
     "metadata": {},
     "output_type": "display_data"
    },
    {
     "data": {
      "text/html": [
       "<pre style=\"white-space:pre;overflow-x:auto;line-height:normal;font-family:Menlo,'DejaVu Sans Mono',consolas,'Courier New',monospace\">Average reward over last 5000 steps: 0.80\n",
       "</pre>\n"
      ],
      "text/plain": [
       "Average reward over last 5000 steps: 0.80\n"
      ]
     },
     "metadata": {},
     "output_type": "display_data"
    },
    {
     "data": {
      "text/html": [
       "<pre style=\"white-space:pre;overflow-x:auto;line-height:normal;font-family:Menlo,'DejaVu Sans Mono',consolas,'Courier New',monospace\">Average reward over last 5000 steps: 0.57\n",
       "</pre>\n"
      ],
      "text/plain": [
       "Average reward over last 5000 steps: 0.57\n"
      ]
     },
     "metadata": {},
     "output_type": "display_data"
    },
    {
     "data": {
      "text/html": [
       "<pre style=\"white-space:pre;overflow-x:auto;line-height:normal;font-family:Menlo,'DejaVu Sans Mono',consolas,'Courier New',monospace\">Average reward over last 5000 steps: 0.63\n",
       "</pre>\n"
      ],
      "text/plain": [
       "Average reward over last 5000 steps: 0.63\n"
      ]
     },
     "metadata": {},
     "output_type": "display_data"
    },
    {
     "data": {
      "text/html": [
       "<pre style=\"white-space:pre;overflow-x:auto;line-height:normal;font-family:Menlo,'DejaVu Sans Mono',consolas,'Courier New',monospace\">Average reward over last 5000 steps: 0.71\n",
       "</pre>\n"
      ],
      "text/plain": [
       "Average reward over last 5000 steps: 0.71\n"
      ]
     },
     "metadata": {},
     "output_type": "display_data"
    },
    {
     "data": {
      "text/html": [
       "<pre style=\"white-space:pre;overflow-x:auto;line-height:normal;font-family:Menlo,'DejaVu Sans Mono',consolas,'Courier New',monospace\">Average reward over last 5000 steps: 0.95\n",
       "</pre>\n"
      ],
      "text/plain": [
       "Average reward over last 5000 steps: 0.95\n"
      ]
     },
     "metadata": {},
     "output_type": "display_data"
    },
    {
     "data": {
      "text/html": [
       "<pre style=\"white-space:pre;overflow-x:auto;line-height:normal;font-family:Menlo,'DejaVu Sans Mono',consolas,'Courier New',monospace\">Average reward over last 5000 steps: 0.64\n",
       "</pre>\n"
      ],
      "text/plain": [
       "Average reward over last 5000 steps: 0.64\n"
      ]
     },
     "metadata": {},
     "output_type": "display_data"
    },
    {
     "data": {
      "text/html": [
       "<pre style=\"white-space:pre;overflow-x:auto;line-height:normal;font-family:Menlo,'DejaVu Sans Mono',consolas,'Courier New',monospace\">Average reward over last 5000 steps: 0.56\n",
       "</pre>\n"
      ],
      "text/plain": [
       "Average reward over last 5000 steps: 0.56\n"
      ]
     },
     "metadata": {},
     "output_type": "display_data"
    },
    {
     "data": {
      "text/html": [
       "<pre style=\"white-space:pre;overflow-x:auto;line-height:normal;font-family:Menlo,'DejaVu Sans Mono',consolas,'Courier New',monospace\">Average reward over last 5000 steps: 0.49\n",
       "</pre>\n"
      ],
      "text/plain": [
       "Average reward over last 5000 steps: 0.49\n"
      ]
     },
     "metadata": {},
     "output_type": "display_data"
    },
    {
     "data": {
      "text/html": [
       "<pre style=\"white-space:pre;overflow-x:auto;line-height:normal;font-family:Menlo,'DejaVu Sans Mono',consolas,'Courier New',monospace\">Average reward over last 5000 steps: 0.37\n",
       "</pre>\n"
      ],
      "text/plain": [
       "Average reward over last 5000 steps: 0.37\n"
      ]
     },
     "metadata": {},
     "output_type": "display_data"
    },
    {
     "data": {
      "text/html": [
       "<pre style=\"white-space:pre;overflow-x:auto;line-height:normal;font-family:Menlo,'DejaVu Sans Mono',consolas,'Courier New',monospace\">Average reward over last 5000 steps: 0.88\n",
       "</pre>\n"
      ],
      "text/plain": [
       "Average reward over last 5000 steps: 0.88\n"
      ]
     },
     "metadata": {},
     "output_type": "display_data"
    },
    {
     "data": {
      "text/html": [
       "<pre style=\"white-space:pre;overflow-x:auto;line-height:normal;font-family:Menlo,'DejaVu Sans Mono',consolas,'Courier New',monospace\">Average reward over last 5000 steps: 0.54\n",
       "</pre>\n"
      ],
      "text/plain": [
       "Average reward over last 5000 steps: 0.54\n"
      ]
     },
     "metadata": {},
     "output_type": "display_data"
    },
    {
     "data": {
      "text/html": [
       "<pre style=\"white-space:pre;overflow-x:auto;line-height:normal;font-family:Menlo,'DejaVu Sans Mono',consolas,'Courier New',monospace\">Average reward over last 5000 steps: 0.78\n",
       "</pre>\n"
      ],
      "text/plain": [
       "Average reward over last 5000 steps: 0.78\n"
      ]
     },
     "metadata": {},
     "output_type": "display_data"
    },
    {
     "data": {
      "text/html": [
       "<pre style=\"white-space:pre;overflow-x:auto;line-height:normal;font-family:Menlo,'DejaVu Sans Mono',consolas,'Courier New',monospace\">Average reward over last 5000 steps: 0.72\n",
       "</pre>\n"
      ],
      "text/plain": [
       "Average reward over last 5000 steps: 0.72\n"
      ]
     },
     "metadata": {},
     "output_type": "display_data"
    },
    {
     "data": {
      "text/html": [
       "<pre style=\"white-space:pre;overflow-x:auto;line-height:normal;font-family:Menlo,'DejaVu Sans Mono',consolas,'Courier New',monospace\">Average reward over last 5000 steps: 0.51\n",
       "</pre>\n"
      ],
      "text/plain": [
       "Average reward over last 5000 steps: 0.51\n"
      ]
     },
     "metadata": {},
     "output_type": "display_data"
    },
    {
     "data": {
      "text/html": [
       "<pre style=\"white-space:pre;overflow-x:auto;line-height:normal;font-family:Menlo,'DejaVu Sans Mono',consolas,'Courier New',monospace\">Average reward over last 5000 steps: 0.48\n",
       "</pre>\n"
      ],
      "text/plain": [
       "Average reward over last 5000 steps: 0.48\n"
      ]
     },
     "metadata": {},
     "output_type": "display_data"
    },
    {
     "data": {
      "text/html": [
       "<pre style=\"white-space:pre;overflow-x:auto;line-height:normal;font-family:Menlo,'DejaVu Sans Mono',consolas,'Courier New',monospace\">Advancing to Phase 6\n",
       "</pre>\n"
      ],
      "text/plain": [
       "Advancing to Phase 6\n"
      ]
     },
     "metadata": {},
     "output_type": "display_data"
    },
    {
     "data": {
      "text/html": [
       "<pre style=\"white-space:pre;overflow-x:auto;line-height:normal;font-family:Menlo,'DejaVu Sans Mono',consolas,'Courier New',monospace\">Average reward over last 5000 steps: 1.03\n",
       "</pre>\n"
      ],
      "text/plain": [
       "Average reward over last 5000 steps: 1.03\n"
      ]
     },
     "metadata": {},
     "output_type": "display_data"
    },
    {
     "data": {
      "text/html": [
       "<pre style=\"white-space:pre;overflow-x:auto;line-height:normal;font-family:Menlo,'DejaVu Sans Mono',consolas,'Courier New',monospace\">Average reward over last 5000 steps: 0.89\n",
       "</pre>\n"
      ],
      "text/plain": [
       "Average reward over last 5000 steps: 0.89\n"
      ]
     },
     "metadata": {},
     "output_type": "display_data"
    },
    {
     "data": {
      "text/html": [
       "<pre style=\"white-space:pre;overflow-x:auto;line-height:normal;font-family:Menlo,'DejaVu Sans Mono',consolas,'Courier New',monospace\">Average reward over last 5000 steps: 1.04\n",
       "</pre>\n"
      ],
      "text/plain": [
       "Average reward over last 5000 steps: 1.04\n"
      ]
     },
     "metadata": {},
     "output_type": "display_data"
    },
    {
     "data": {
      "text/html": [
       "<pre style=\"white-space:pre;overflow-x:auto;line-height:normal;font-family:Menlo,'DejaVu Sans Mono',consolas,'Courier New',monospace\">Average reward over last 5000 steps: 1.15\n",
       "</pre>\n"
      ],
      "text/plain": [
       "Average reward over last 5000 steps: 1.15\n"
      ]
     },
     "metadata": {},
     "output_type": "display_data"
    },
    {
     "data": {
      "text/html": [
       "<pre style=\"white-space:pre;overflow-x:auto;line-height:normal;font-family:Menlo,'DejaVu Sans Mono',consolas,'Courier New',monospace\">Average reward over last 5000 steps: 0.90\n",
       "</pre>\n"
      ],
      "text/plain": [
       "Average reward over last 5000 steps: 0.90\n"
      ]
     },
     "metadata": {},
     "output_type": "display_data"
    },
    {
     "data": {
      "text/html": [
       "<pre style=\"white-space:pre;overflow-x:auto;line-height:normal;font-family:Menlo,'DejaVu Sans Mono',consolas,'Courier New',monospace\">Average reward over last 5000 steps: 0.93\n",
       "</pre>\n"
      ],
      "text/plain": [
       "Average reward over last 5000 steps: 0.93\n"
      ]
     },
     "metadata": {},
     "output_type": "display_data"
    },
    {
     "data": {
      "text/html": [
       "<pre style=\"white-space:pre;overflow-x:auto;line-height:normal;font-family:Menlo,'DejaVu Sans Mono',consolas,'Courier New',monospace\">Average reward over last 5000 steps: 1.19\n",
       "</pre>\n"
      ],
      "text/plain": [
       "Average reward over last 5000 steps: 1.19\n"
      ]
     },
     "metadata": {},
     "output_type": "display_data"
    },
    {
     "data": {
      "text/html": [
       "<pre style=\"white-space:pre;overflow-x:auto;line-height:normal;font-family:Menlo,'DejaVu Sans Mono',consolas,'Courier New',monospace\">Average reward over last 5000 steps: 0.96\n",
       "</pre>\n"
      ],
      "text/plain": [
       "Average reward over last 5000 steps: 0.96\n"
      ]
     },
     "metadata": {},
     "output_type": "display_data"
    },
    {
     "data": {
      "text/html": [
       "<pre style=\"white-space:pre;overflow-x:auto;line-height:normal;font-family:Menlo,'DejaVu Sans Mono',consolas,'Courier New',monospace\">Average reward over last 5000 steps: 1.22\n",
       "</pre>\n"
      ],
      "text/plain": [
       "Average reward over last 5000 steps: 1.22\n"
      ]
     },
     "metadata": {},
     "output_type": "display_data"
    },
    {
     "data": {
      "text/html": [
       "<pre style=\"white-space:pre;overflow-x:auto;line-height:normal;font-family:Menlo,'DejaVu Sans Mono',consolas,'Courier New',monospace\">Average reward over last 5000 steps: 1.10\n",
       "</pre>\n"
      ],
      "text/plain": [
       "Average reward over last 5000 steps: 1.10\n"
      ]
     },
     "metadata": {},
     "output_type": "display_data"
    },
    {
     "data": {
      "text/html": [
       "<pre style=\"white-space:pre;overflow-x:auto;line-height:normal;font-family:Menlo,'DejaVu Sans Mono',consolas,'Courier New',monospace\">Average reward over last 5000 steps: 1.22\n",
       "</pre>\n"
      ],
      "text/plain": [
       "Average reward over last 5000 steps: 1.22\n"
      ]
     },
     "metadata": {},
     "output_type": "display_data"
    },
    {
     "data": {
      "text/html": [
       "<pre style=\"white-space:pre;overflow-x:auto;line-height:normal;font-family:Menlo,'DejaVu Sans Mono',consolas,'Courier New',monospace\">Average reward over last 5000 steps: 1.36\n",
       "</pre>\n"
      ],
      "text/plain": [
       "Average reward over last 5000 steps: 1.36\n"
      ]
     },
     "metadata": {},
     "output_type": "display_data"
    },
    {
     "data": {
      "text/html": [
       "<pre style=\"white-space:pre;overflow-x:auto;line-height:normal;font-family:Menlo,'DejaVu Sans Mono',consolas,'Courier New',monospace\">Average reward over last 5000 steps: 1.44\n",
       "</pre>\n"
      ],
      "text/plain": [
       "Average reward over last 5000 steps: 1.44\n"
      ]
     },
     "metadata": {},
     "output_type": "display_data"
    },
    {
     "data": {
      "text/html": [
       "<pre style=\"white-space:pre;overflow-x:auto;line-height:normal;font-family:Menlo,'DejaVu Sans Mono',consolas,'Courier New',monospace\">Average reward over last 5000 steps: 1.50\n",
       "</pre>\n"
      ],
      "text/plain": [
       "Average reward over last 5000 steps: 1.50\n"
      ]
     },
     "metadata": {},
     "output_type": "display_data"
    },
    {
     "data": {
      "text/html": [
       "<pre style=\"white-space:pre;overflow-x:auto;line-height:normal;font-family:Menlo,'DejaVu Sans Mono',consolas,'Courier New',monospace\">Average reward over last 5000 steps: 1.49\n",
       "</pre>\n"
      ],
      "text/plain": [
       "Average reward over last 5000 steps: 1.49\n"
      ]
     },
     "metadata": {},
     "output_type": "display_data"
    },
    {
     "data": {
      "text/html": [
       "<pre style=\"white-space:pre;overflow-x:auto;line-height:normal;font-family:Menlo,'DejaVu Sans Mono',consolas,'Courier New',monospace\">Average reward over last 5000 steps: 1.72\n",
       "</pre>\n"
      ],
      "text/plain": [
       "Average reward over last 5000 steps: 1.72\n"
      ]
     },
     "metadata": {},
     "output_type": "display_data"
    },
    {
     "data": {
      "text/html": [
       "<pre style=\"white-space:pre;overflow-x:auto;line-height:normal;font-family:Menlo,'DejaVu Sans Mono',consolas,'Courier New',monospace\">Average reward over last 5000 steps: 1.43\n",
       "</pre>\n"
      ],
      "text/plain": [
       "Average reward over last 5000 steps: 1.43\n"
      ]
     },
     "metadata": {},
     "output_type": "display_data"
    },
    {
     "data": {
      "text/html": [
       "<pre style=\"white-space:pre;overflow-x:auto;line-height:normal;font-family:Menlo,'DejaVu Sans Mono',consolas,'Courier New',monospace\">Average reward over last 5000 steps: 1.36\n",
       "</pre>\n"
      ],
      "text/plain": [
       "Average reward over last 5000 steps: 1.36\n"
      ]
     },
     "metadata": {},
     "output_type": "display_data"
    },
    {
     "data": {
      "text/html": [
       "<pre style=\"white-space:pre;overflow-x:auto;line-height:normal;font-family:Menlo,'DejaVu Sans Mono',consolas,'Courier New',monospace\">Average reward over last 5000 steps: 1.51\n",
       "</pre>\n"
      ],
      "text/plain": [
       "Average reward over last 5000 steps: 1.51\n"
      ]
     },
     "metadata": {},
     "output_type": "display_data"
    },
    {
     "data": {
      "text/html": [
       "<pre style=\"white-space:pre;overflow-x:auto;line-height:normal;font-family:Menlo,'DejaVu Sans Mono',consolas,'Courier New',monospace\">Average reward over last 5000 steps: 1.60\n",
       "</pre>\n"
      ],
      "text/plain": [
       "Average reward over last 5000 steps: 1.60\n"
      ]
     },
     "metadata": {},
     "output_type": "display_data"
    },
    {
     "data": {
      "text/html": [
       "<pre style=\"white-space:pre;overflow-x:auto;line-height:normal;font-family:Menlo,'DejaVu Sans Mono',consolas,'Courier New',monospace\">Average reward over last 5000 steps: 1.50\n",
       "</pre>\n"
      ],
      "text/plain": [
       "Average reward over last 5000 steps: 1.50\n"
      ]
     },
     "metadata": {},
     "output_type": "display_data"
    },
    {
     "data": {
      "text/html": [
       "<pre style=\"white-space:pre;overflow-x:auto;line-height:normal;font-family:Menlo,'DejaVu Sans Mono',consolas,'Courier New',monospace\">Average reward over last 5000 steps: 1.58\n",
       "</pre>\n"
      ],
      "text/plain": [
       "Average reward over last 5000 steps: 1.58\n"
      ]
     },
     "metadata": {},
     "output_type": "display_data"
    },
    {
     "data": {
      "text/html": [
       "<pre style=\"white-space:pre;overflow-x:auto;line-height:normal;font-family:Menlo,'DejaVu Sans Mono',consolas,'Courier New',monospace\">Average reward over last 5000 steps: 1.44\n",
       "</pre>\n"
      ],
      "text/plain": [
       "Average reward over last 5000 steps: 1.44\n"
      ]
     },
     "metadata": {},
     "output_type": "display_data"
    },
    {
     "data": {
      "text/html": [
       "<pre style=\"white-space:pre;overflow-x:auto;line-height:normal;font-family:Menlo,'DejaVu Sans Mono',consolas,'Courier New',monospace\">Average reward over last 5000 steps: 1.58\n",
       "</pre>\n"
      ],
      "text/plain": [
       "Average reward over last 5000 steps: 1.58\n"
      ]
     },
     "metadata": {},
     "output_type": "display_data"
    },
    {
     "data": {
      "text/html": [
       "<pre style=\"white-space:pre;overflow-x:auto;line-height:normal;font-family:Menlo,'DejaVu Sans Mono',consolas,'Courier New',monospace\">Average reward over last 5000 steps: 1.68\n",
       "</pre>\n"
      ],
      "text/plain": [
       "Average reward over last 5000 steps: 1.68\n"
      ]
     },
     "metadata": {},
     "output_type": "display_data"
    },
    {
     "data": {
      "text/html": [
       "<pre style=\"white-space:pre;overflow-x:auto;line-height:normal;font-family:Menlo,'DejaVu Sans Mono',consolas,'Courier New',monospace\">Average reward over last 5000 steps: 1.47\n",
       "</pre>\n"
      ],
      "text/plain": [
       "Average reward over last 5000 steps: 1.47\n"
      ]
     },
     "metadata": {},
     "output_type": "display_data"
    },
    {
     "data": {
      "text/html": [
       "<pre style=\"white-space:pre;overflow-x:auto;line-height:normal;font-family:Menlo,'DejaVu Sans Mono',consolas,'Courier New',monospace\">Average reward over last 5000 steps: 1.57\n",
       "</pre>\n"
      ],
      "text/plain": [
       "Average reward over last 5000 steps: 1.57\n"
      ]
     },
     "metadata": {},
     "output_type": "display_data"
    },
    {
     "data": {
      "text/html": [
       "<pre style=\"white-space:pre;overflow-x:auto;line-height:normal;font-family:Menlo,'DejaVu Sans Mono',consolas,'Courier New',monospace\">Average reward over last 5000 steps: 1.65\n",
       "</pre>\n"
      ],
      "text/plain": [
       "Average reward over last 5000 steps: 1.65\n"
      ]
     },
     "metadata": {},
     "output_type": "display_data"
    },
    {
     "data": {
      "text/html": [
       "<pre style=\"white-space:pre;overflow-x:auto;line-height:normal;font-family:Menlo,'DejaVu Sans Mono',consolas,'Courier New',monospace\">Average reward over last 5000 steps: 1.81\n",
       "</pre>\n"
      ],
      "text/plain": [
       "Average reward over last 5000 steps: 1.81\n"
      ]
     },
     "metadata": {},
     "output_type": "display_data"
    },
    {
     "data": {
      "text/html": [
       "<pre style=\"white-space:pre;overflow-x:auto;line-height:normal;font-family:Menlo,'DejaVu Sans Mono',consolas,'Courier New',monospace\">Average reward over last 5000 steps: 1.58\n",
       "</pre>\n"
      ],
      "text/plain": [
       "Average reward over last 5000 steps: 1.58\n"
      ]
     },
     "metadata": {},
     "output_type": "display_data"
    },
    {
     "data": {
      "text/html": [
       "<pre style=\"white-space:pre;overflow-x:auto;line-height:normal;font-family:Menlo,'DejaVu Sans Mono',consolas,'Courier New',monospace\">Average reward over last 5000 steps: 1.91\n",
       "</pre>\n"
      ],
      "text/plain": [
       "Average reward over last 5000 steps: 1.91\n"
      ]
     },
     "metadata": {},
     "output_type": "display_data"
    },
    {
     "data": {
      "text/html": [
       "<pre style=\"white-space:pre;overflow-x:auto;line-height:normal;font-family:Menlo,'DejaVu Sans Mono',consolas,'Courier New',monospace\">Average reward over last 5000 steps: 1.56\n",
       "</pre>\n"
      ],
      "text/plain": [
       "Average reward over last 5000 steps: 1.56\n"
      ]
     },
     "metadata": {},
     "output_type": "display_data"
    },
    {
     "data": {
      "text/html": [
       "<pre style=\"white-space:pre;overflow-x:auto;line-height:normal;font-family:Menlo,'DejaVu Sans Mono',consolas,'Courier New',monospace\">Average reward over last 5000 steps: 1.70\n",
       "</pre>\n"
      ],
      "text/plain": [
       "Average reward over last 5000 steps: 1.70\n"
      ]
     },
     "metadata": {},
     "output_type": "display_data"
    },
    {
     "data": {
      "text/html": [
       "<pre style=\"white-space:pre;overflow-x:auto;line-height:normal;font-family:Menlo,'DejaVu Sans Mono',consolas,'Courier New',monospace\">Average reward over last 5000 steps: 1.77\n",
       "</pre>\n"
      ],
      "text/plain": [
       "Average reward over last 5000 steps: 1.77\n"
      ]
     },
     "metadata": {},
     "output_type": "display_data"
    },
    {
     "data": {
      "text/html": [
       "<pre style=\"white-space:pre;overflow-x:auto;line-height:normal;font-family:Menlo,'DejaVu Sans Mono',consolas,'Courier New',monospace\">Average reward over last 5000 steps: 1.74\n",
       "</pre>\n"
      ],
      "text/plain": [
       "Average reward over last 5000 steps: 1.74\n"
      ]
     },
     "metadata": {},
     "output_type": "display_data"
    },
    {
     "data": {
      "text/html": [
       "<pre style=\"white-space:pre;overflow-x:auto;line-height:normal;font-family:Menlo,'DejaVu Sans Mono',consolas,'Courier New',monospace\">Average reward over last 5000 steps: 1.70\n",
       "</pre>\n"
      ],
      "text/plain": [
       "Average reward over last 5000 steps: 1.70\n"
      ]
     },
     "metadata": {},
     "output_type": "display_data"
    },
    {
     "data": {
      "text/html": [
       "<pre style=\"white-space:pre;overflow-x:auto;line-height:normal;font-family:Menlo,'DejaVu Sans Mono',consolas,'Courier New',monospace\">Average reward over last 5000 steps: 2.12\n",
       "</pre>\n"
      ],
      "text/plain": [
       "Average reward over last 5000 steps: 2.12\n"
      ]
     },
     "metadata": {},
     "output_type": "display_data"
    },
    {
     "data": {
      "text/html": [
       "<pre style=\"white-space:pre;overflow-x:auto;line-height:normal;font-family:Menlo,'DejaVu Sans Mono',consolas,'Courier New',monospace\">Average reward over last 5000 steps: 1.59\n",
       "</pre>\n"
      ],
      "text/plain": [
       "Average reward over last 5000 steps: 1.59\n"
      ]
     },
     "metadata": {},
     "output_type": "display_data"
    },
    {
     "data": {
      "text/html": [
       "<pre style=\"white-space:pre;overflow-x:auto;line-height:normal;font-family:Menlo,'DejaVu Sans Mono',consolas,'Courier New',monospace\">Average reward over last 5000 steps: 1.62\n",
       "</pre>\n"
      ],
      "text/plain": [
       "Average reward over last 5000 steps: 1.62\n"
      ]
     },
     "metadata": {},
     "output_type": "display_data"
    },
    {
     "data": {
      "text/html": [
       "<pre style=\"white-space:pre;overflow-x:auto;line-height:normal;font-family:Menlo,'DejaVu Sans Mono',consolas,'Courier New',monospace\">Average reward over last 5000 steps: 1.76\n",
       "</pre>\n"
      ],
      "text/plain": [
       "Average reward over last 5000 steps: 1.76\n"
      ]
     },
     "metadata": {},
     "output_type": "display_data"
    },
    {
     "data": {
      "text/html": [
       "<pre style=\"white-space:pre;overflow-x:auto;line-height:normal;font-family:Menlo,'DejaVu Sans Mono',consolas,'Courier New',monospace\">Average reward over last 5000 steps: 1.66\n",
       "</pre>\n"
      ],
      "text/plain": [
       "Average reward over last 5000 steps: 1.66\n"
      ]
     },
     "metadata": {},
     "output_type": "display_data"
    },
    {
     "data": {
      "text/html": [
       "<pre style=\"white-space:pre;overflow-x:auto;line-height:normal;font-family:Menlo,'DejaVu Sans Mono',consolas,'Courier New',monospace\">Average reward over last 5000 steps: 1.77\n",
       "</pre>\n"
      ],
      "text/plain": [
       "Average reward over last 5000 steps: 1.77\n"
      ]
     },
     "metadata": {},
     "output_type": "display_data"
    },
    {
     "data": {
      "text/html": [
       "<pre style=\"white-space:pre;overflow-x:auto;line-height:normal;font-family:Menlo,'DejaVu Sans Mono',consolas,'Courier New',monospace\">Average reward over last 5000 steps: 1.94\n",
       "</pre>\n"
      ],
      "text/plain": [
       "Average reward over last 5000 steps: 1.94\n"
      ]
     },
     "metadata": {},
     "output_type": "display_data"
    },
    {
     "data": {
      "text/html": [
       "<pre style=\"white-space:pre;overflow-x:auto;line-height:normal;font-family:Menlo,'DejaVu Sans Mono',consolas,'Courier New',monospace\">Average reward over last 5000 steps: 1.86\n",
       "</pre>\n"
      ],
      "text/plain": [
       "Average reward over last 5000 steps: 1.86\n"
      ]
     },
     "metadata": {},
     "output_type": "display_data"
    },
    {
     "data": {
      "text/html": [
       "<pre style=\"white-space:pre;overflow-x:auto;line-height:normal;font-family:Menlo,'DejaVu Sans Mono',consolas,'Courier New',monospace\">Average reward over last 5000 steps: 1.59\n",
       "</pre>\n"
      ],
      "text/plain": [
       "Average reward over last 5000 steps: 1.59\n"
      ]
     },
     "metadata": {},
     "output_type": "display_data"
    },
    {
     "data": {
      "text/html": [
       "<pre style=\"white-space:pre;overflow-x:auto;line-height:normal;font-family:Menlo,'DejaVu Sans Mono',consolas,'Courier New',monospace\">Average reward over last 5000 steps: 1.70\n",
       "</pre>\n"
      ],
      "text/plain": [
       "Average reward over last 5000 steps: 1.70\n"
      ]
     },
     "metadata": {},
     "output_type": "display_data"
    },
    {
     "data": {
      "text/html": [
       "<pre style=\"white-space:pre;overflow-x:auto;line-height:normal;font-family:Menlo,'DejaVu Sans Mono',consolas,'Courier New',monospace\">Average reward over last 5000 steps: 1.86\n",
       "</pre>\n"
      ],
      "text/plain": [
       "Average reward over last 5000 steps: 1.86\n"
      ]
     },
     "metadata": {},
     "output_type": "display_data"
    },
    {
     "data": {
      "text/html": [
       "<pre style=\"white-space:pre;overflow-x:auto;line-height:normal;font-family:Menlo,'DejaVu Sans Mono',consolas,'Courier New',monospace\">Average reward over last 5000 steps: 1.76\n",
       "</pre>\n"
      ],
      "text/plain": [
       "Average reward over last 5000 steps: 1.76\n"
      ]
     },
     "metadata": {},
     "output_type": "display_data"
    },
    {
     "data": {
      "text/html": [
       "<pre style=\"white-space:pre;overflow-x:auto;line-height:normal;font-family:Menlo,'DejaVu Sans Mono',consolas,'Courier New',monospace\">Average reward over last 5000 steps: 1.97\n",
       "</pre>\n"
      ],
      "text/plain": [
       "Average reward over last 5000 steps: 1.97\n"
      ]
     },
     "metadata": {},
     "output_type": "display_data"
    },
    {
     "data": {
      "text/html": [
       "<pre style=\"white-space:pre;overflow-x:auto;line-height:normal;font-family:Menlo,'DejaVu Sans Mono',consolas,'Courier New',monospace\">Average reward over last 5000 steps: 1.43\n",
       "</pre>\n"
      ],
      "text/plain": [
       "Average reward over last 5000 steps: 1.43\n"
      ]
     },
     "metadata": {},
     "output_type": "display_data"
    },
    {
     "data": {
      "text/html": [
       "<pre style=\"white-space:pre;overflow-x:auto;line-height:normal;font-family:Menlo,'DejaVu Sans Mono',consolas,'Courier New',monospace\">Average reward over last 5000 steps: 1.80\n",
       "</pre>\n"
      ],
      "text/plain": [
       "Average reward over last 5000 steps: 1.80\n"
      ]
     },
     "metadata": {},
     "output_type": "display_data"
    },
    {
     "data": {
      "text/html": [
       "<pre style=\"white-space:pre;overflow-x:auto;line-height:normal;font-family:Menlo,'DejaVu Sans Mono',consolas,'Courier New',monospace\">Average reward over last 5000 steps: 1.81\n",
       "</pre>\n"
      ],
      "text/plain": [
       "Average reward over last 5000 steps: 1.81\n"
      ]
     },
     "metadata": {},
     "output_type": "display_data"
    },
    {
     "data": {
      "text/html": [
       "<pre style=\"white-space:pre;overflow-x:auto;line-height:normal;font-family:Menlo,'DejaVu Sans Mono',consolas,'Courier New',monospace\">Average reward over last 5000 steps: 1.91\n",
       "</pre>\n"
      ],
      "text/plain": [
       "Average reward over last 5000 steps: 1.91\n"
      ]
     },
     "metadata": {},
     "output_type": "display_data"
    },
    {
     "data": {
      "text/html": [
       "<pre style=\"white-space:pre;overflow-x:auto;line-height:normal;font-family:Menlo,'DejaVu Sans Mono',consolas,'Courier New',monospace\">Average reward over last 5000 steps: 1.87\n",
       "</pre>\n"
      ],
      "text/plain": [
       "Average reward over last 5000 steps: 1.87\n"
      ]
     },
     "metadata": {},
     "output_type": "display_data"
    },
    {
     "data": {
      "text/html": [
       "<pre style=\"white-space:pre;overflow-x:auto;line-height:normal;font-family:Menlo,'DejaVu Sans Mono',consolas,'Courier New',monospace\">Average reward over last 5000 steps: 1.70\n",
       "</pre>\n"
      ],
      "text/plain": [
       "Average reward over last 5000 steps: 1.70\n"
      ]
     },
     "metadata": {},
     "output_type": "display_data"
    },
    {
     "data": {
      "text/html": [
       "<pre style=\"white-space:pre;overflow-x:auto;line-height:normal;font-family:Menlo,'DejaVu Sans Mono',consolas,'Courier New',monospace\">Average reward over last 5000 steps: 1.87\n",
       "</pre>\n"
      ],
      "text/plain": [
       "Average reward over last 5000 steps: 1.87\n"
      ]
     },
     "metadata": {},
     "output_type": "display_data"
    },
    {
     "data": {
      "text/html": [
       "<pre style=\"white-space:pre;overflow-x:auto;line-height:normal;font-family:Menlo,'DejaVu Sans Mono',consolas,'Courier New',monospace\">Average reward over last 5000 steps: 1.97\n",
       "</pre>\n"
      ],
      "text/plain": [
       "Average reward over last 5000 steps: 1.97\n"
      ]
     },
     "metadata": {},
     "output_type": "display_data"
    },
    {
     "data": {
      "text/html": [
       "<pre style=\"white-space:pre;overflow-x:auto;line-height:normal;font-family:Menlo,'DejaVu Sans Mono',consolas,'Courier New',monospace\">Average reward over last 5000 steps: 2.13\n",
       "</pre>\n"
      ],
      "text/plain": [
       "Average reward over last 5000 steps: 2.13\n"
      ]
     },
     "metadata": {},
     "output_type": "display_data"
    },
    {
     "data": {
      "text/html": [
       "<pre style=\"white-space:pre;overflow-x:auto;line-height:normal;font-family:Menlo,'DejaVu Sans Mono',consolas,'Courier New',monospace\">Average reward over last 5000 steps: 2.11\n",
       "</pre>\n"
      ],
      "text/plain": [
       "Average reward over last 5000 steps: 2.11\n"
      ]
     },
     "metadata": {},
     "output_type": "display_data"
    },
    {
     "data": {
      "text/html": [
       "<pre style=\"white-space:pre;overflow-x:auto;line-height:normal;font-family:Menlo,'DejaVu Sans Mono',consolas,'Courier New',monospace\">Average reward over last 5000 steps: 1.74\n",
       "</pre>\n"
      ],
      "text/plain": [
       "Average reward over last 5000 steps: 1.74\n"
      ]
     },
     "metadata": {},
     "output_type": "display_data"
    },
    {
     "data": {
      "text/html": [
       "<pre style=\"white-space:pre;overflow-x:auto;line-height:normal;font-family:Menlo,'DejaVu Sans Mono',consolas,'Courier New',monospace\">Average reward over last 5000 steps: 1.89\n",
       "</pre>\n"
      ],
      "text/plain": [
       "Average reward over last 5000 steps: 1.89\n"
      ]
     },
     "metadata": {},
     "output_type": "display_data"
    },
    {
     "data": {
      "text/html": [
       "<pre style=\"white-space:pre;overflow-x:auto;line-height:normal;font-family:Menlo,'DejaVu Sans Mono',consolas,'Courier New',monospace\">Average reward over last 5000 steps: 2.11\n",
       "</pre>\n"
      ],
      "text/plain": [
       "Average reward over last 5000 steps: 2.11\n"
      ]
     },
     "metadata": {},
     "output_type": "display_data"
    },
    {
     "data": {
      "text/html": [
       "<pre style=\"white-space:pre;overflow-x:auto;line-height:normal;font-family:Menlo,'DejaVu Sans Mono',consolas,'Courier New',monospace\">Average reward over last 5000 steps: 1.71\n",
       "</pre>\n"
      ],
      "text/plain": [
       "Average reward over last 5000 steps: 1.71\n"
      ]
     },
     "metadata": {},
     "output_type": "display_data"
    },
    {
     "data": {
      "text/html": [
       "<pre style=\"white-space:pre;overflow-x:auto;line-height:normal;font-family:Menlo,'DejaVu Sans Mono',consolas,'Courier New',monospace\">Average reward over last 5000 steps: 1.56\n",
       "</pre>\n"
      ],
      "text/plain": [
       "Average reward over last 5000 steps: 1.56\n"
      ]
     },
     "metadata": {},
     "output_type": "display_data"
    },
    {
     "data": {
      "text/html": [
       "<pre style=\"white-space:pre;overflow-x:auto;line-height:normal;font-family:Menlo,'DejaVu Sans Mono',consolas,'Courier New',monospace\">Average reward over last 5000 steps: 2.12\n",
       "</pre>\n"
      ],
      "text/plain": [
       "Average reward over last 5000 steps: 2.12\n"
      ]
     },
     "metadata": {},
     "output_type": "display_data"
    },
    {
     "data": {
      "text/html": [
       "<pre style=\"white-space:pre;overflow-x:auto;line-height:normal;font-family:Menlo,'DejaVu Sans Mono',consolas,'Courier New',monospace\">Average reward over last 5000 steps: 1.90\n",
       "</pre>\n"
      ],
      "text/plain": [
       "Average reward over last 5000 steps: 1.90\n"
      ]
     },
     "metadata": {},
     "output_type": "display_data"
    },
    {
     "data": {
      "text/html": [
       "<pre style=\"white-space:pre;overflow-x:auto;line-height:normal;font-family:Menlo,'DejaVu Sans Mono',consolas,'Courier New',monospace\">Average reward over last 5000 steps: 1.74\n",
       "</pre>\n"
      ],
      "text/plain": [
       "Average reward over last 5000 steps: 1.74\n"
      ]
     },
     "metadata": {},
     "output_type": "display_data"
    },
    {
     "data": {
      "text/html": [
       "<pre style=\"white-space:pre;overflow-x:auto;line-height:normal;font-family:Menlo,'DejaVu Sans Mono',consolas,'Courier New',monospace\">Average reward over last 5000 steps: 2.25\n",
       "</pre>\n"
      ],
      "text/plain": [
       "Average reward over last 5000 steps: 2.25\n"
      ]
     },
     "metadata": {},
     "output_type": "display_data"
    },
    {
     "data": {
      "text/html": [
       "<pre style=\"white-space:pre;overflow-x:auto;line-height:normal;font-family:Menlo,'DejaVu Sans Mono',consolas,'Courier New',monospace\">Average reward over last 5000 steps: 2.25\n",
       "</pre>\n"
      ],
      "text/plain": [
       "Average reward over last 5000 steps: 2.25\n"
      ]
     },
     "metadata": {},
     "output_type": "display_data"
    },
    {
     "data": {
      "text/html": [
       "<pre style=\"white-space:pre;overflow-x:auto;line-height:normal;font-family:Menlo,'DejaVu Sans Mono',consolas,'Courier New',monospace\">Average reward over last 5000 steps: 1.97\n",
       "</pre>\n"
      ],
      "text/plain": [
       "Average reward over last 5000 steps: 1.97\n"
      ]
     },
     "metadata": {},
     "output_type": "display_data"
    },
    {
     "data": {
      "text/html": [
       "<pre style=\"white-space:pre;overflow-x:auto;line-height:normal;font-family:Menlo,'DejaVu Sans Mono',consolas,'Courier New',monospace\">Average reward over last 5000 steps: 1.97\n",
       "</pre>\n"
      ],
      "text/plain": [
       "Average reward over last 5000 steps: 1.97\n"
      ]
     },
     "metadata": {},
     "output_type": "display_data"
    },
    {
     "data": {
      "text/html": [
       "<pre style=\"white-space:pre;overflow-x:auto;line-height:normal;font-family:Menlo,'DejaVu Sans Mono',consolas,'Courier New',monospace\">Average reward over last 5000 steps: 1.81\n",
       "</pre>\n"
      ],
      "text/plain": [
       "Average reward over last 5000 steps: 1.81\n"
      ]
     },
     "metadata": {},
     "output_type": "display_data"
    },
    {
     "data": {
      "text/html": [
       "<pre style=\"white-space:pre;overflow-x:auto;line-height:normal;font-family:Menlo,'DejaVu Sans Mono',consolas,'Courier New',monospace\">Average reward over last 5000 steps: 2.12\n",
       "</pre>\n"
      ],
      "text/plain": [
       "Average reward over last 5000 steps: 2.12\n"
      ]
     },
     "metadata": {},
     "output_type": "display_data"
    },
    {
     "data": {
      "text/html": [
       "<pre style=\"white-space:pre;overflow-x:auto;line-height:normal;font-family:Menlo,'DejaVu Sans Mono',consolas,'Courier New',monospace\">Average reward over last 5000 steps: 1.92\n",
       "</pre>\n"
      ],
      "text/plain": [
       "Average reward over last 5000 steps: 1.92\n"
      ]
     },
     "metadata": {},
     "output_type": "display_data"
    },
    {
     "data": {
      "text/html": [
       "<pre style=\"white-space:pre;overflow-x:auto;line-height:normal;font-family:Menlo,'DejaVu Sans Mono',consolas,'Courier New',monospace\">Average reward over last 5000 steps: 2.05\n",
       "</pre>\n"
      ],
      "text/plain": [
       "Average reward over last 5000 steps: 2.05\n"
      ]
     },
     "metadata": {},
     "output_type": "display_data"
    },
    {
     "data": {
      "text/html": [
       "<pre style=\"white-space:pre;overflow-x:auto;line-height:normal;font-family:Menlo,'DejaVu Sans Mono',consolas,'Courier New',monospace\">Average reward over last 5000 steps: 1.80\n",
       "</pre>\n"
      ],
      "text/plain": [
       "Average reward over last 5000 steps: 1.80\n"
      ]
     },
     "metadata": {},
     "output_type": "display_data"
    },
    {
     "data": {
      "text/html": [
       "<pre style=\"white-space:pre;overflow-x:auto;line-height:normal;font-family:Menlo,'DejaVu Sans Mono',consolas,'Courier New',monospace\">Average reward over last 5000 steps: 2.16\n",
       "</pre>\n"
      ],
      "text/plain": [
       "Average reward over last 5000 steps: 2.16\n"
      ]
     },
     "metadata": {},
     "output_type": "display_data"
    },
    {
     "data": {
      "text/html": [
       "<pre style=\"white-space:pre;overflow-x:auto;line-height:normal;font-family:Menlo,'DejaVu Sans Mono',consolas,'Courier New',monospace\">Average reward over last 5000 steps: 1.70\n",
       "</pre>\n"
      ],
      "text/plain": [
       "Average reward over last 5000 steps: 1.70\n"
      ]
     },
     "metadata": {},
     "output_type": "display_data"
    },
    {
     "data": {
      "text/html": [
       "<pre style=\"white-space:pre;overflow-x:auto;line-height:normal;font-family:Menlo,'DejaVu Sans Mono',consolas,'Courier New',monospace\">Average reward over last 5000 steps: 1.95\n",
       "</pre>\n"
      ],
      "text/plain": [
       "Average reward over last 5000 steps: 1.95\n"
      ]
     },
     "metadata": {},
     "output_type": "display_data"
    },
    {
     "data": {
      "text/html": [
       "<pre style=\"white-space:pre;overflow-x:auto;line-height:normal;font-family:Menlo,'DejaVu Sans Mono',consolas,'Courier New',monospace\">Average reward over last 5000 steps: 1.89\n",
       "</pre>\n"
      ],
      "text/plain": [
       "Average reward over last 5000 steps: 1.89\n"
      ]
     },
     "metadata": {},
     "output_type": "display_data"
    },
    {
     "data": {
      "text/html": [
       "<pre style=\"white-space:pre;overflow-x:auto;line-height:normal;font-family:Menlo,'DejaVu Sans Mono',consolas,'Courier New',monospace\">Average reward over last 5000 steps: 1.52\n",
       "</pre>\n"
      ],
      "text/plain": [
       "Average reward over last 5000 steps: 1.52\n"
      ]
     },
     "metadata": {},
     "output_type": "display_data"
    },
    {
     "data": {
      "text/html": [
       "<pre style=\"white-space:pre;overflow-x:auto;line-height:normal;font-family:Menlo,'DejaVu Sans Mono',consolas,'Courier New',monospace\">Average reward over last 5000 steps: 1.76\n",
       "</pre>\n"
      ],
      "text/plain": [
       "Average reward over last 5000 steps: 1.76\n"
      ]
     },
     "metadata": {},
     "output_type": "display_data"
    },
    {
     "data": {
      "text/html": [
       "<pre style=\"white-space:pre;overflow-x:auto;line-height:normal;font-family:Menlo,'DejaVu Sans Mono',consolas,'Courier New',monospace\">Average reward over last 5000 steps: 2.09\n",
       "</pre>\n"
      ],
      "text/plain": [
       "Average reward over last 5000 steps: 2.09\n"
      ]
     },
     "metadata": {},
     "output_type": "display_data"
    },
    {
     "data": {
      "text/html": [
       "<pre style=\"white-space:pre;overflow-x:auto;line-height:normal;font-family:Menlo,'DejaVu Sans Mono',consolas,'Courier New',monospace\">Average reward over last 5000 steps: 2.24\n",
       "</pre>\n"
      ],
      "text/plain": [
       "Average reward over last 5000 steps: 2.24\n"
      ]
     },
     "metadata": {},
     "output_type": "display_data"
    },
    {
     "data": {
      "text/html": [
       "<pre style=\"white-space:pre;overflow-x:auto;line-height:normal;font-family:Menlo,'DejaVu Sans Mono',consolas,'Courier New',monospace\">Average reward over last 5000 steps: 2.29\n",
       "</pre>\n"
      ],
      "text/plain": [
       "Average reward over last 5000 steps: 2.29\n"
      ]
     },
     "metadata": {},
     "output_type": "display_data"
    },
    {
     "data": {
      "text/html": [
       "<pre style=\"white-space:pre;overflow-x:auto;line-height:normal;font-family:Menlo,'DejaVu Sans Mono',consolas,'Courier New',monospace\">Average reward over last 5000 steps: 2.09\n",
       "</pre>\n"
      ],
      "text/plain": [
       "Average reward over last 5000 steps: 2.09\n"
      ]
     },
     "metadata": {},
     "output_type": "display_data"
    },
    {
     "data": {
      "text/html": [
       "<pre style=\"white-space:pre;overflow-x:auto;line-height:normal;font-family:Menlo,'DejaVu Sans Mono',consolas,'Courier New',monospace\">Average reward over last 5000 steps: 1.90\n",
       "</pre>\n"
      ],
      "text/plain": [
       "Average reward over last 5000 steps: 1.90\n"
      ]
     },
     "metadata": {},
     "output_type": "display_data"
    },
    {
     "data": {
      "text/html": [
       "<pre style=\"white-space:pre;overflow-x:auto;line-height:normal;font-family:Menlo,'DejaVu Sans Mono',consolas,'Courier New',monospace\">Average reward over last 5000 steps: 1.79\n",
       "</pre>\n"
      ],
      "text/plain": [
       "Average reward over last 5000 steps: 1.79\n"
      ]
     },
     "metadata": {},
     "output_type": "display_data"
    },
    {
     "data": {
      "text/html": [
       "<pre style=\"white-space:pre;overflow-x:auto;line-height:normal;font-family:Menlo,'DejaVu Sans Mono',consolas,'Courier New',monospace\">Average reward over last 5000 steps: 1.94\n",
       "</pre>\n"
      ],
      "text/plain": [
       "Average reward over last 5000 steps: 1.94\n"
      ]
     },
     "metadata": {},
     "output_type": "display_data"
    },
    {
     "data": {
      "text/html": [
       "<pre style=\"white-space:pre;overflow-x:auto;line-height:normal;font-family:Menlo,'DejaVu Sans Mono',consolas,'Courier New',monospace\">Average reward over last 5000 steps: 1.96\n",
       "</pre>\n"
      ],
      "text/plain": [
       "Average reward over last 5000 steps: 1.96\n"
      ]
     },
     "metadata": {},
     "output_type": "display_data"
    },
    {
     "data": {
      "text/html": [
       "<pre style=\"white-space:pre;overflow-x:auto;line-height:normal;font-family:Menlo,'DejaVu Sans Mono',consolas,'Courier New',monospace\">Average reward over last 5000 steps: 1.74\n",
       "</pre>\n"
      ],
      "text/plain": [
       "Average reward over last 5000 steps: 1.74\n"
      ]
     },
     "metadata": {},
     "output_type": "display_data"
    },
    {
     "data": {
      "text/html": [
       "<pre style=\"white-space:pre;overflow-x:auto;line-height:normal;font-family:Menlo,'DejaVu Sans Mono',consolas,'Courier New',monospace\">Average reward over last 5000 steps: 2.00\n",
       "</pre>\n"
      ],
      "text/plain": [
       "Average reward over last 5000 steps: 2.00\n"
      ]
     },
     "metadata": {},
     "output_type": "display_data"
    },
    {
     "data": {
      "text/html": [
       "<pre style=\"white-space:pre;overflow-x:auto;line-height:normal;font-family:Menlo,'DejaVu Sans Mono',consolas,'Courier New',monospace\">Average reward over last 5000 steps: 2.08\n",
       "</pre>\n"
      ],
      "text/plain": [
       "Average reward over last 5000 steps: 2.08\n"
      ]
     },
     "metadata": {},
     "output_type": "display_data"
    },
    {
     "data": {
      "text/html": [
       "<pre style=\"white-space:pre;overflow-x:auto;line-height:normal;font-family:Menlo,'DejaVu Sans Mono',consolas,'Courier New',monospace\">Average reward over last 5000 steps: 2.40\n",
       "</pre>\n"
      ],
      "text/plain": [
       "Average reward over last 5000 steps: 2.40\n"
      ]
     },
     "metadata": {},
     "output_type": "display_data"
    },
    {
     "data": {
      "text/html": [
       "<pre style=\"white-space:pre;overflow-x:auto;line-height:normal;font-family:Menlo,'DejaVu Sans Mono',consolas,'Courier New',monospace\">Average reward over last 5000 steps: 2.11\n",
       "</pre>\n"
      ],
      "text/plain": [
       "Average reward over last 5000 steps: 2.11\n"
      ]
     },
     "metadata": {},
     "output_type": "display_data"
    },
    {
     "data": {
      "text/html": [
       "<pre style=\"white-space:pre;overflow-x:auto;line-height:normal;font-family:Menlo,'DejaVu Sans Mono',consolas,'Courier New',monospace\">Average reward over last 5000 steps: 2.03\n",
       "</pre>\n"
      ],
      "text/plain": [
       "Average reward over last 5000 steps: 2.03\n"
      ]
     },
     "metadata": {},
     "output_type": "display_data"
    },
    {
     "data": {
      "text/html": [
       "<pre style=\"white-space:pre;overflow-x:auto;line-height:normal;font-family:Menlo,'DejaVu Sans Mono',consolas,'Courier New',monospace\">Average reward over last 5000 steps: 2.11\n",
       "</pre>\n"
      ],
      "text/plain": [
       "Average reward over last 5000 steps: 2.11\n"
      ]
     },
     "metadata": {},
     "output_type": "display_data"
    },
    {
     "data": {
      "text/html": [
       "<pre style=\"white-space:pre;overflow-x:auto;line-height:normal;font-family:Menlo,'DejaVu Sans Mono',consolas,'Courier New',monospace\">Average reward over last 5000 steps: 1.86\n",
       "</pre>\n"
      ],
      "text/plain": [
       "Average reward over last 5000 steps: 1.86\n"
      ]
     },
     "metadata": {},
     "output_type": "display_data"
    },
    {
     "data": {
      "text/html": [
       "<pre style=\"white-space:pre;overflow-x:auto;line-height:normal;font-family:Menlo,'DejaVu Sans Mono',consolas,'Courier New',monospace\">Average reward over last 5000 steps: 2.47\n",
       "</pre>\n"
      ],
      "text/plain": [
       "Average reward over last 5000 steps: 2.47\n"
      ]
     },
     "metadata": {},
     "output_type": "display_data"
    },
    {
     "data": {
      "text/html": [
       "<pre style=\"white-space:pre;overflow-x:auto;line-height:normal;font-family:Menlo,'DejaVu Sans Mono',consolas,'Courier New',monospace\">Average reward over last 5000 steps: 2.03\n",
       "</pre>\n"
      ],
      "text/plain": [
       "Average reward over last 5000 steps: 2.03\n"
      ]
     },
     "metadata": {},
     "output_type": "display_data"
    },
    {
     "data": {
      "text/html": [
       "<pre style=\"white-space:pre;overflow-x:auto;line-height:normal;font-family:Menlo,'DejaVu Sans Mono',consolas,'Courier New',monospace\">Average reward over last 5000 steps: 2.21\n",
       "</pre>\n"
      ],
      "text/plain": [
       "Average reward over last 5000 steps: 2.21\n"
      ]
     },
     "metadata": {},
     "output_type": "display_data"
    },
    {
     "data": {
      "text/html": [
       "<pre style=\"white-space:pre;overflow-x:auto;line-height:normal;font-family:Menlo,'DejaVu Sans Mono',consolas,'Courier New',monospace\">Average reward over last 5000 steps: 2.08\n",
       "</pre>\n"
      ],
      "text/plain": [
       "Average reward over last 5000 steps: 2.08\n"
      ]
     },
     "metadata": {},
     "output_type": "display_data"
    },
    {
     "data": {
      "text/html": [
       "<pre style=\"white-space:pre;overflow-x:auto;line-height:normal;font-family:Menlo,'DejaVu Sans Mono',consolas,'Courier New',monospace\">Average reward over last 5000 steps: 2.36\n",
       "</pre>\n"
      ],
      "text/plain": [
       "Average reward over last 5000 steps: 2.36\n"
      ]
     },
     "metadata": {},
     "output_type": "display_data"
    },
    {
     "data": {
      "text/html": [
       "<pre style=\"white-space:pre;overflow-x:auto;line-height:normal;font-family:Menlo,'DejaVu Sans Mono',consolas,'Courier New',monospace\">Average reward over last 5000 steps: 2.17\n",
       "</pre>\n"
      ],
      "text/plain": [
       "Average reward over last 5000 steps: 2.17\n"
      ]
     },
     "metadata": {},
     "output_type": "display_data"
    },
    {
     "data": {
      "text/html": [
       "<pre style=\"white-space:pre;overflow-x:auto;line-height:normal;font-family:Menlo,'DejaVu Sans Mono',consolas,'Courier New',monospace\">Average reward over last 5000 steps: 2.27\n",
       "</pre>\n"
      ],
      "text/plain": [
       "Average reward over last 5000 steps: 2.27\n"
      ]
     },
     "metadata": {},
     "output_type": "display_data"
    },
    {
     "data": {
      "text/html": [
       "<pre style=\"white-space:pre;overflow-x:auto;line-height:normal;font-family:Menlo,'DejaVu Sans Mono',consolas,'Courier New',monospace\">Average reward over last 5000 steps: 2.03\n",
       "</pre>\n"
      ],
      "text/plain": [
       "Average reward over last 5000 steps: 2.03\n"
      ]
     },
     "metadata": {},
     "output_type": "display_data"
    },
    {
     "data": {
      "text/html": [
       "<pre style=\"white-space:pre;overflow-x:auto;line-height:normal;font-family:Menlo,'DejaVu Sans Mono',consolas,'Courier New',monospace\">Average reward over last 5000 steps: 1.78\n",
       "</pre>\n"
      ],
      "text/plain": [
       "Average reward over last 5000 steps: 1.78\n"
      ]
     },
     "metadata": {},
     "output_type": "display_data"
    },
    {
     "data": {
      "text/html": [
       "<pre style=\"white-space:pre;overflow-x:auto;line-height:normal;font-family:Menlo,'DejaVu Sans Mono',consolas,'Courier New',monospace\">Average reward over last 5000 steps: 1.85\n",
       "</pre>\n"
      ],
      "text/plain": [
       "Average reward over last 5000 steps: 1.85\n"
      ]
     },
     "metadata": {},
     "output_type": "display_data"
    },
    {
     "data": {
      "text/html": [
       "<pre style=\"white-space:pre;overflow-x:auto;line-height:normal;font-family:Menlo,'DejaVu Sans Mono',consolas,'Courier New',monospace\">Average reward over last 5000 steps: 2.07\n",
       "</pre>\n"
      ],
      "text/plain": [
       "Average reward over last 5000 steps: 2.07\n"
      ]
     },
     "metadata": {},
     "output_type": "display_data"
    },
    {
     "data": {
      "text/html": [
       "<pre style=\"white-space:pre;overflow-x:auto;line-height:normal;font-family:Menlo,'DejaVu Sans Mono',consolas,'Courier New',monospace\">Average reward over last 5000 steps: 2.00\n",
       "</pre>\n"
      ],
      "text/plain": [
       "Average reward over last 5000 steps: 2.00\n"
      ]
     },
     "metadata": {},
     "output_type": "display_data"
    },
    {
     "data": {
      "text/html": [
       "<pre style=\"white-space:pre;overflow-x:auto;line-height:normal;font-family:Menlo,'DejaVu Sans Mono',consolas,'Courier New',monospace\">Average reward over last 5000 steps: 2.31\n",
       "</pre>\n"
      ],
      "text/plain": [
       "Average reward over last 5000 steps: 2.31\n"
      ]
     },
     "metadata": {},
     "output_type": "display_data"
    },
    {
     "data": {
      "text/html": [
       "<pre style=\"white-space:pre;overflow-x:auto;line-height:normal;font-family:Menlo,'DejaVu Sans Mono',consolas,'Courier New',monospace\">Average reward over last 5000 steps: 2.21\n",
       "</pre>\n"
      ],
      "text/plain": [
       "Average reward over last 5000 steps: 2.21\n"
      ]
     },
     "metadata": {},
     "output_type": "display_data"
    },
    {
     "data": {
      "text/html": [
       "<pre style=\"white-space:pre;overflow-x:auto;line-height:normal;font-family:Menlo,'DejaVu Sans Mono',consolas,'Courier New',monospace\">Average reward over last 5000 steps: 2.03\n",
       "</pre>\n"
      ],
      "text/plain": [
       "Average reward over last 5000 steps: 2.03\n"
      ]
     },
     "metadata": {},
     "output_type": "display_data"
    },
    {
     "data": {
      "text/html": [
       "<pre style=\"white-space:pre;overflow-x:auto;line-height:normal;font-family:Menlo,'DejaVu Sans Mono',consolas,'Courier New',monospace\">Average reward over last 5000 steps: 2.24\n",
       "</pre>\n"
      ],
      "text/plain": [
       "Average reward over last 5000 steps: 2.24\n"
      ]
     },
     "metadata": {},
     "output_type": "display_data"
    },
    {
     "data": {
      "text/html": [
       "<pre style=\"white-space:pre;overflow-x:auto;line-height:normal;font-family:Menlo,'DejaVu Sans Mono',consolas,'Courier New',monospace\">Average reward over last 5000 steps: 2.29\n",
       "</pre>\n"
      ],
      "text/plain": [
       "Average reward over last 5000 steps: 2.29\n"
      ]
     },
     "metadata": {},
     "output_type": "display_data"
    },
    {
     "data": {
      "text/html": [
       "<pre style=\"white-space:pre;overflow-x:auto;line-height:normal;font-family:Menlo,'DejaVu Sans Mono',consolas,'Courier New',monospace\">Average reward over last 5000 steps: 2.26\n",
       "</pre>\n"
      ],
      "text/plain": [
       "Average reward over last 5000 steps: 2.26\n"
      ]
     },
     "metadata": {},
     "output_type": "display_data"
    },
    {
     "data": {
      "text/html": [
       "<pre style=\"white-space:pre;overflow-x:auto;line-height:normal;font-family:Menlo,'DejaVu Sans Mono',consolas,'Courier New',monospace\">Average reward over last 5000 steps: 2.01\n",
       "</pre>\n"
      ],
      "text/plain": [
       "Average reward over last 5000 steps: 2.01\n"
      ]
     },
     "metadata": {},
     "output_type": "display_data"
    },
    {
     "data": {
      "text/html": [
       "<pre style=\"white-space:pre;overflow-x:auto;line-height:normal;font-family:Menlo,'DejaVu Sans Mono',consolas,'Courier New',monospace\">Average reward over last 5000 steps: 2.39\n",
       "</pre>\n"
      ],
      "text/plain": [
       "Average reward over last 5000 steps: 2.39\n"
      ]
     },
     "metadata": {},
     "output_type": "display_data"
    },
    {
     "data": {
      "text/html": [
       "<pre style=\"white-space:pre;overflow-x:auto;line-height:normal;font-family:Menlo,'DejaVu Sans Mono',consolas,'Courier New',monospace\">Average reward over last 5000 steps: 2.05\n",
       "</pre>\n"
      ],
      "text/plain": [
       "Average reward over last 5000 steps: 2.05\n"
      ]
     },
     "metadata": {},
     "output_type": "display_data"
    },
    {
     "data": {
      "text/html": [
       "<pre style=\"white-space:pre;overflow-x:auto;line-height:normal;font-family:Menlo,'DejaVu Sans Mono',consolas,'Courier New',monospace\">Average reward over last 5000 steps: 2.41\n",
       "</pre>\n"
      ],
      "text/plain": [
       "Average reward over last 5000 steps: 2.41\n"
      ]
     },
     "metadata": {},
     "output_type": "display_data"
    },
    {
     "data": {
      "text/html": [
       "<pre style=\"white-space:pre;overflow-x:auto;line-height:normal;font-family:Menlo,'DejaVu Sans Mono',consolas,'Courier New',monospace\">Average reward over last 5000 steps: 2.62\n",
       "</pre>\n"
      ],
      "text/plain": [
       "Average reward over last 5000 steps: 2.62\n"
      ]
     },
     "metadata": {},
     "output_type": "display_data"
    },
    {
     "data": {
      "text/html": [
       "<pre style=\"white-space:pre;overflow-x:auto;line-height:normal;font-family:Menlo,'DejaVu Sans Mono',consolas,'Courier New',monospace\">Average reward over last 5000 steps: 2.42\n",
       "</pre>\n"
      ],
      "text/plain": [
       "Average reward over last 5000 steps: 2.42\n"
      ]
     },
     "metadata": {},
     "output_type": "display_data"
    },
    {
     "data": {
      "text/html": [
       "<pre style=\"white-space:pre;overflow-x:auto;line-height:normal;font-family:Menlo,'DejaVu Sans Mono',consolas,'Courier New',monospace\">Average reward over last 5000 steps: 2.02\n",
       "</pre>\n"
      ],
      "text/plain": [
       "Average reward over last 5000 steps: 2.02\n"
      ]
     },
     "metadata": {},
     "output_type": "display_data"
    },
    {
     "data": {
      "text/html": [
       "<pre style=\"white-space:pre;overflow-x:auto;line-height:normal;font-family:Menlo,'DejaVu Sans Mono',consolas,'Courier New',monospace\">Average reward over last 5000 steps: 2.71\n",
       "</pre>\n"
      ],
      "text/plain": [
       "Average reward over last 5000 steps: 2.71\n"
      ]
     },
     "metadata": {},
     "output_type": "display_data"
    },
    {
     "data": {
      "text/html": [
       "<pre style=\"white-space:pre;overflow-x:auto;line-height:normal;font-family:Menlo,'DejaVu Sans Mono',consolas,'Courier New',monospace\">Average reward over last 5000 steps: 2.36\n",
       "</pre>\n"
      ],
      "text/plain": [
       "Average reward over last 5000 steps: 2.36\n"
      ]
     },
     "metadata": {},
     "output_type": "display_data"
    },
    {
     "data": {
      "text/html": [
       "<pre style=\"white-space:pre;overflow-x:auto;line-height:normal;font-family:Menlo,'DejaVu Sans Mono',consolas,'Courier New',monospace\">Average reward over last 5000 steps: 2.40\n",
       "</pre>\n"
      ],
      "text/plain": [
       "Average reward over last 5000 steps: 2.40\n"
      ]
     },
     "metadata": {},
     "output_type": "display_data"
    },
    {
     "data": {
      "text/html": [
       "<pre style=\"white-space:pre;overflow-x:auto;line-height:normal;font-family:Menlo,'DejaVu Sans Mono',consolas,'Courier New',monospace\">Average reward over last 5000 steps: 2.60\n",
       "</pre>\n"
      ],
      "text/plain": [
       "Average reward over last 5000 steps: 2.60\n"
      ]
     },
     "metadata": {},
     "output_type": "display_data"
    },
    {
     "data": {
      "text/html": [
       "<pre style=\"white-space:pre;overflow-x:auto;line-height:normal;font-family:Menlo,'DejaVu Sans Mono',consolas,'Courier New',monospace\">Average reward over last 5000 steps: 2.26\n",
       "</pre>\n"
      ],
      "text/plain": [
       "Average reward over last 5000 steps: 2.26\n"
      ]
     },
     "metadata": {},
     "output_type": "display_data"
    },
    {
     "data": {
      "text/html": [
       "<pre style=\"white-space:pre;overflow-x:auto;line-height:normal;font-family:Menlo,'DejaVu Sans Mono',consolas,'Courier New',monospace\">Average reward over last 5000 steps: 2.46\n",
       "</pre>\n"
      ],
      "text/plain": [
       "Average reward over last 5000 steps: 2.46\n"
      ]
     },
     "metadata": {},
     "output_type": "display_data"
    },
    {
     "data": {
      "text/html": [
       "<pre style=\"white-space:pre;overflow-x:auto;line-height:normal;font-family:Menlo,'DejaVu Sans Mono',consolas,'Courier New',monospace\">Average reward over last 5000 steps: 2.46\n",
       "</pre>\n"
      ],
      "text/plain": [
       "Average reward over last 5000 steps: 2.46\n"
      ]
     },
     "metadata": {},
     "output_type": "display_data"
    },
    {
     "data": {
      "text/html": [
       "<pre style=\"white-space:pre;overflow-x:auto;line-height:normal;font-family:Menlo,'DejaVu Sans Mono',consolas,'Courier New',monospace\">Average reward over last 5000 steps: 2.40\n",
       "</pre>\n"
      ],
      "text/plain": [
       "Average reward over last 5000 steps: 2.40\n"
      ]
     },
     "metadata": {},
     "output_type": "display_data"
    },
    {
     "data": {
      "text/html": [
       "<pre style=\"white-space:pre;overflow-x:auto;line-height:normal;font-family:Menlo,'DejaVu Sans Mono',consolas,'Courier New',monospace\">Average reward over last 5000 steps: 2.11\n",
       "</pre>\n"
      ],
      "text/plain": [
       "Average reward over last 5000 steps: 2.11\n"
      ]
     },
     "metadata": {},
     "output_type": "display_data"
    },
    {
     "data": {
      "text/html": [
       "<pre style=\"white-space:pre;overflow-x:auto;line-height:normal;font-family:Menlo,'DejaVu Sans Mono',consolas,'Courier New',monospace\">Average reward over last 5000 steps: 2.14\n",
       "</pre>\n"
      ],
      "text/plain": [
       "Average reward over last 5000 steps: 2.14\n"
      ]
     },
     "metadata": {},
     "output_type": "display_data"
    },
    {
     "data": {
      "text/html": [
       "<pre style=\"white-space:pre;overflow-x:auto;line-height:normal;font-family:Menlo,'DejaVu Sans Mono',consolas,'Courier New',monospace\">Average reward over last 5000 steps: 2.33\n",
       "</pre>\n"
      ],
      "text/plain": [
       "Average reward over last 5000 steps: 2.33\n"
      ]
     },
     "metadata": {},
     "output_type": "display_data"
    },
    {
     "data": {
      "text/html": [
       "<pre style=\"white-space:pre;overflow-x:auto;line-height:normal;font-family:Menlo,'DejaVu Sans Mono',consolas,'Courier New',monospace\">Average reward over last 5000 steps: 2.23\n",
       "</pre>\n"
      ],
      "text/plain": [
       "Average reward over last 5000 steps: 2.23\n"
      ]
     },
     "metadata": {},
     "output_type": "display_data"
    },
    {
     "data": {
      "text/html": [
       "<pre style=\"white-space:pre;overflow-x:auto;line-height:normal;font-family:Menlo,'DejaVu Sans Mono',consolas,'Courier New',monospace\">Average reward over last 5000 steps: 2.37\n",
       "</pre>\n"
      ],
      "text/plain": [
       "Average reward over last 5000 steps: 2.37\n"
      ]
     },
     "metadata": {},
     "output_type": "display_data"
    },
    {
     "data": {
      "text/html": [
       "<pre style=\"white-space:pre;overflow-x:auto;line-height:normal;font-family:Menlo,'DejaVu Sans Mono',consolas,'Courier New',monospace\">Average reward over last 5000 steps: 2.31\n",
       "</pre>\n"
      ],
      "text/plain": [
       "Average reward over last 5000 steps: 2.31\n"
      ]
     },
     "metadata": {},
     "output_type": "display_data"
    },
    {
     "data": {
      "text/html": [
       "<pre style=\"white-space:pre;overflow-x:auto;line-height:normal;font-family:Menlo,'DejaVu Sans Mono',consolas,'Courier New',monospace\">Average reward over last 5000 steps: 2.45\n",
       "</pre>\n"
      ],
      "text/plain": [
       "Average reward over last 5000 steps: 2.45\n"
      ]
     },
     "metadata": {},
     "output_type": "display_data"
    },
    {
     "data": {
      "text/html": [
       "<pre style=\"white-space:pre;overflow-x:auto;line-height:normal;font-family:Menlo,'DejaVu Sans Mono',consolas,'Courier New',monospace\">Average reward over last 5000 steps: 2.23\n",
       "</pre>\n"
      ],
      "text/plain": [
       "Average reward over last 5000 steps: 2.23\n"
      ]
     },
     "metadata": {},
     "output_type": "display_data"
    },
    {
     "data": {
      "text/html": [
       "<pre style=\"white-space:pre;overflow-x:auto;line-height:normal;font-family:Menlo,'DejaVu Sans Mono',consolas,'Courier New',monospace\">Average reward over last 5000 steps: 2.16\n",
       "</pre>\n"
      ],
      "text/plain": [
       "Average reward over last 5000 steps: 2.16\n"
      ]
     },
     "metadata": {},
     "output_type": "display_data"
    },
    {
     "data": {
      "text/html": [
       "<pre style=\"white-space:pre;overflow-x:auto;line-height:normal;font-family:Menlo,'DejaVu Sans Mono',consolas,'Courier New',monospace\">Average reward over last 5000 steps: 2.54\n",
       "</pre>\n"
      ],
      "text/plain": [
       "Average reward over last 5000 steps: 2.54\n"
      ]
     },
     "metadata": {},
     "output_type": "display_data"
    },
    {
     "data": {
      "text/html": [
       "<pre style=\"white-space:pre;overflow-x:auto;line-height:normal;font-family:Menlo,'DejaVu Sans Mono',consolas,'Courier New',monospace\">Average reward over last 5000 steps: 2.43\n",
       "</pre>\n"
      ],
      "text/plain": [
       "Average reward over last 5000 steps: 2.43\n"
      ]
     },
     "metadata": {},
     "output_type": "display_data"
    },
    {
     "data": {
      "text/html": [
       "<pre style=\"white-space:pre;overflow-x:auto;line-height:normal;font-family:Menlo,'DejaVu Sans Mono',consolas,'Courier New',monospace\">Average reward over last 5000 steps: 2.04\n",
       "</pre>\n"
      ],
      "text/plain": [
       "Average reward over last 5000 steps: 2.04\n"
      ]
     },
     "metadata": {},
     "output_type": "display_data"
    },
    {
     "data": {
      "text/html": [
       "<pre style=\"white-space:pre;overflow-x:auto;line-height:normal;font-family:Menlo,'DejaVu Sans Mono',consolas,'Courier New',monospace\">Average reward over last 5000 steps: 2.06\n",
       "</pre>\n"
      ],
      "text/plain": [
       "Average reward over last 5000 steps: 2.06\n"
      ]
     },
     "metadata": {},
     "output_type": "display_data"
    },
    {
     "data": {
      "text/html": [
       "<pre style=\"white-space:pre;overflow-x:auto;line-height:normal;font-family:Menlo,'DejaVu Sans Mono',consolas,'Courier New',monospace\">Average reward over last 5000 steps: 2.16\n",
       "</pre>\n"
      ],
      "text/plain": [
       "Average reward over last 5000 steps: 2.16\n"
      ]
     },
     "metadata": {},
     "output_type": "display_data"
    },
    {
     "data": {
      "text/html": [
       "<pre style=\"white-space:pre;overflow-x:auto;line-height:normal;font-family:Menlo,'DejaVu Sans Mono',consolas,'Courier New',monospace\">Average reward over last 5000 steps: 2.06\n",
       "</pre>\n"
      ],
      "text/plain": [
       "Average reward over last 5000 steps: 2.06\n"
      ]
     },
     "metadata": {},
     "output_type": "display_data"
    },
    {
     "data": {
      "text/html": [
       "<pre style=\"white-space:pre;overflow-x:auto;line-height:normal;font-family:Menlo,'DejaVu Sans Mono',consolas,'Courier New',monospace\">Average reward over last 5000 steps: 2.33\n",
       "</pre>\n"
      ],
      "text/plain": [
       "Average reward over last 5000 steps: 2.33\n"
      ]
     },
     "metadata": {},
     "output_type": "display_data"
    },
    {
     "data": {
      "text/html": [
       "<pre style=\"white-space:pre;overflow-x:auto;line-height:normal;font-family:Menlo,'DejaVu Sans Mono',consolas,'Courier New',monospace\">Average reward over last 5000 steps: 2.47\n",
       "</pre>\n"
      ],
      "text/plain": [
       "Average reward over last 5000 steps: 2.47\n"
      ]
     },
     "metadata": {},
     "output_type": "display_data"
    },
    {
     "data": {
      "text/html": [
       "<pre style=\"white-space:pre;overflow-x:auto;line-height:normal;font-family:Menlo,'DejaVu Sans Mono',consolas,'Courier New',monospace\">Average reward over last 5000 steps: 2.02\n",
       "</pre>\n"
      ],
      "text/plain": [
       "Average reward over last 5000 steps: 2.02\n"
      ]
     },
     "metadata": {},
     "output_type": "display_data"
    },
    {
     "data": {
      "text/html": [
       "<pre style=\"white-space:pre;overflow-x:auto;line-height:normal;font-family:Menlo,'DejaVu Sans Mono',consolas,'Courier New',monospace\">Average reward over last 5000 steps: 2.54\n",
       "</pre>\n"
      ],
      "text/plain": [
       "Average reward over last 5000 steps: 2.54\n"
      ]
     },
     "metadata": {},
     "output_type": "display_data"
    },
    {
     "data": {
      "text/html": [
       "<pre style=\"white-space:pre;overflow-x:auto;line-height:normal;font-family:Menlo,'DejaVu Sans Mono',consolas,'Courier New',monospace\">Average reward over last 5000 steps: 2.37\n",
       "</pre>\n"
      ],
      "text/plain": [
       "Average reward over last 5000 steps: 2.37\n"
      ]
     },
     "metadata": {},
     "output_type": "display_data"
    },
    {
     "data": {
      "text/html": [
       "<pre style=\"white-space:pre;overflow-x:auto;line-height:normal;font-family:Menlo,'DejaVu Sans Mono',consolas,'Courier New',monospace\">Average reward over last 5000 steps: 2.57\n",
       "</pre>\n"
      ],
      "text/plain": [
       "Average reward over last 5000 steps: 2.57\n"
      ]
     },
     "metadata": {},
     "output_type": "display_data"
    },
    {
     "data": {
      "text/html": [
       "<pre style=\"white-space:pre;overflow-x:auto;line-height:normal;font-family:Menlo,'DejaVu Sans Mono',consolas,'Courier New',monospace\">Average reward over last 5000 steps: 2.25\n",
       "</pre>\n"
      ],
      "text/plain": [
       "Average reward over last 5000 steps: 2.25\n"
      ]
     },
     "metadata": {},
     "output_type": "display_data"
    },
    {
     "data": {
      "text/html": [
       "<pre style=\"white-space:pre;overflow-x:auto;line-height:normal;font-family:Menlo,'DejaVu Sans Mono',consolas,'Courier New',monospace\">Average reward over last 5000 steps: 2.46\n",
       "</pre>\n"
      ],
      "text/plain": [
       "Average reward over last 5000 steps: 2.46\n"
      ]
     },
     "metadata": {},
     "output_type": "display_data"
    },
    {
     "data": {
      "text/html": [
       "<pre style=\"white-space:pre;overflow-x:auto;line-height:normal;font-family:Menlo,'DejaVu Sans Mono',consolas,'Courier New',monospace\">Average reward over last 5000 steps: 2.74\n",
       "</pre>\n"
      ],
      "text/plain": [
       "Average reward over last 5000 steps: 2.74\n"
      ]
     },
     "metadata": {},
     "output_type": "display_data"
    },
    {
     "data": {
      "text/html": [
       "<pre style=\"white-space:pre;overflow-x:auto;line-height:normal;font-family:Menlo,'DejaVu Sans Mono',consolas,'Courier New',monospace\">Average reward over last 5000 steps: 2.62\n",
       "</pre>\n"
      ],
      "text/plain": [
       "Average reward over last 5000 steps: 2.62\n"
      ]
     },
     "metadata": {},
     "output_type": "display_data"
    },
    {
     "data": {
      "text/html": [
       "<pre style=\"white-space:pre;overflow-x:auto;line-height:normal;font-family:Menlo,'DejaVu Sans Mono',consolas,'Courier New',monospace\">Average reward over last 5000 steps: 2.50\n",
       "</pre>\n"
      ],
      "text/plain": [
       "Average reward over last 5000 steps: 2.50\n"
      ]
     },
     "metadata": {},
     "output_type": "display_data"
    },
    {
     "data": {
      "text/html": [
       "<pre style=\"white-space:pre;overflow-x:auto;line-height:normal;font-family:Menlo,'DejaVu Sans Mono',consolas,'Courier New',monospace\">Average reward over last 5000 steps: 2.65\n",
       "</pre>\n"
      ],
      "text/plain": [
       "Average reward over last 5000 steps: 2.65\n"
      ]
     },
     "metadata": {},
     "output_type": "display_data"
    },
    {
     "data": {
      "text/html": [
       "<pre style=\"white-space:pre;overflow-x:auto;line-height:normal;font-family:Menlo,'DejaVu Sans Mono',consolas,'Courier New',monospace\">Average reward over last 5000 steps: 2.27\n",
       "</pre>\n"
      ],
      "text/plain": [
       "Average reward over last 5000 steps: 2.27\n"
      ]
     },
     "metadata": {},
     "output_type": "display_data"
    },
    {
     "data": {
      "text/html": [
       "<pre style=\"white-space:pre;overflow-x:auto;line-height:normal;font-family:Menlo,'DejaVu Sans Mono',consolas,'Courier New',monospace\">Average reward over last 5000 steps: 2.13\n",
       "</pre>\n"
      ],
      "text/plain": [
       "Average reward over last 5000 steps: 2.13\n"
      ]
     },
     "metadata": {},
     "output_type": "display_data"
    },
    {
     "data": {
      "text/html": [
       "<pre style=\"white-space:pre;overflow-x:auto;line-height:normal;font-family:Menlo,'DejaVu Sans Mono',consolas,'Courier New',monospace\">Average reward over last 5000 steps: 2.33\n",
       "</pre>\n"
      ],
      "text/plain": [
       "Average reward over last 5000 steps: 2.33\n"
      ]
     },
     "metadata": {},
     "output_type": "display_data"
    },
    {
     "data": {
      "text/html": [
       "<pre style=\"white-space:pre;overflow-x:auto;line-height:normal;font-family:Menlo,'DejaVu Sans Mono',consolas,'Courier New',monospace\">Average reward over last 5000 steps: 2.50\n",
       "</pre>\n"
      ],
      "text/plain": [
       "Average reward over last 5000 steps: 2.50\n"
      ]
     },
     "metadata": {},
     "output_type": "display_data"
    },
    {
     "data": {
      "text/html": [
       "<pre style=\"white-space:pre;overflow-x:auto;line-height:normal;font-family:Menlo,'DejaVu Sans Mono',consolas,'Courier New',monospace\">Average reward over last 5000 steps: 2.52\n",
       "</pre>\n"
      ],
      "text/plain": [
       "Average reward over last 5000 steps: 2.52\n"
      ]
     },
     "metadata": {},
     "output_type": "display_data"
    },
    {
     "data": {
      "text/html": [
       "<pre style=\"white-space:pre;overflow-x:auto;line-height:normal;font-family:Menlo,'DejaVu Sans Mono',consolas,'Courier New',monospace\">Average reward over last 5000 steps: 2.12\n",
       "</pre>\n"
      ],
      "text/plain": [
       "Average reward over last 5000 steps: 2.12\n"
      ]
     },
     "metadata": {},
     "output_type": "display_data"
    },
    {
     "data": {
      "text/html": [
       "<pre style=\"white-space:pre;overflow-x:auto;line-height:normal;font-family:Menlo,'DejaVu Sans Mono',consolas,'Courier New',monospace\">Average reward over last 5000 steps: 2.27\n",
       "</pre>\n"
      ],
      "text/plain": [
       "Average reward over last 5000 steps: 2.27\n"
      ]
     },
     "metadata": {},
     "output_type": "display_data"
    },
    {
     "data": {
      "text/html": [
       "<pre style=\"white-space:pre;overflow-x:auto;line-height:normal;font-family:Menlo,'DejaVu Sans Mono',consolas,'Courier New',monospace\">Average reward over last 5000 steps: 2.48\n",
       "</pre>\n"
      ],
      "text/plain": [
       "Average reward over last 5000 steps: 2.48\n"
      ]
     },
     "metadata": {},
     "output_type": "display_data"
    },
    {
     "data": {
      "text/html": [
       "<pre style=\"white-space:pre;overflow-x:auto;line-height:normal;font-family:Menlo,'DejaVu Sans Mono',consolas,'Courier New',monospace\">Average reward over last 5000 steps: 2.50\n",
       "</pre>\n"
      ],
      "text/plain": [
       "Average reward over last 5000 steps: 2.50\n"
      ]
     },
     "metadata": {},
     "output_type": "display_data"
    },
    {
     "data": {
      "text/html": [
       "<pre style=\"white-space:pre;overflow-x:auto;line-height:normal;font-family:Menlo,'DejaVu Sans Mono',consolas,'Courier New',monospace\">Average reward over last 5000 steps: 2.62\n",
       "</pre>\n"
      ],
      "text/plain": [
       "Average reward over last 5000 steps: 2.62\n"
      ]
     },
     "metadata": {},
     "output_type": "display_data"
    },
    {
     "data": {
      "text/html": [
       "<pre style=\"white-space:pre;overflow-x:auto;line-height:normal;font-family:Menlo,'DejaVu Sans Mono',consolas,'Courier New',monospace\">Average reward over last 5000 steps: 2.23\n",
       "</pre>\n"
      ],
      "text/plain": [
       "Average reward over last 5000 steps: 2.23\n"
      ]
     },
     "metadata": {},
     "output_type": "display_data"
    },
    {
     "data": {
      "text/html": [
       "<pre style=\"white-space:pre;overflow-x:auto;line-height:normal;font-family:Menlo,'DejaVu Sans Mono',consolas,'Courier New',monospace\">Average reward over last 5000 steps: 2.30\n",
       "</pre>\n"
      ],
      "text/plain": [
       "Average reward over last 5000 steps: 2.30\n"
      ]
     },
     "metadata": {},
     "output_type": "display_data"
    },
    {
     "data": {
      "text/html": [
       "<pre style=\"white-space:pre;overflow-x:auto;line-height:normal;font-family:Menlo,'DejaVu Sans Mono',consolas,'Courier New',monospace\">Average reward over last 5000 steps: 2.87\n",
       "</pre>\n"
      ],
      "text/plain": [
       "Average reward over last 5000 steps: 2.87\n"
      ]
     },
     "metadata": {},
     "output_type": "display_data"
    },
    {
     "data": {
      "text/html": [
       "<pre style=\"white-space:pre;overflow-x:auto;line-height:normal;font-family:Menlo,'DejaVu Sans Mono',consolas,'Courier New',monospace\">Average reward over last 5000 steps: 2.74\n",
       "</pre>\n"
      ],
      "text/plain": [
       "Average reward over last 5000 steps: 2.74\n"
      ]
     },
     "metadata": {},
     "output_type": "display_data"
    },
    {
     "data": {
      "text/html": [
       "<pre style=\"white-space:pre;overflow-x:auto;line-height:normal;font-family:Menlo,'DejaVu Sans Mono',consolas,'Courier New',monospace\">Average reward over last 5000 steps: 2.73\n",
       "</pre>\n"
      ],
      "text/plain": [
       "Average reward over last 5000 steps: 2.73\n"
      ]
     },
     "metadata": {},
     "output_type": "display_data"
    },
    {
     "data": {
      "text/html": [
       "<pre style=\"white-space:pre;overflow-x:auto;line-height:normal;font-family:Menlo,'DejaVu Sans Mono',consolas,'Courier New',monospace\">Average reward over last 5000 steps: 2.42\n",
       "</pre>\n"
      ],
      "text/plain": [
       "Average reward over last 5000 steps: 2.42\n"
      ]
     },
     "metadata": {},
     "output_type": "display_data"
    },
    {
     "data": {
      "text/html": [
       "<pre style=\"white-space:pre;overflow-x:auto;line-height:normal;font-family:Menlo,'DejaVu Sans Mono',consolas,'Courier New',monospace\">Average reward over last 5000 steps: 2.45\n",
       "</pre>\n"
      ],
      "text/plain": [
       "Average reward over last 5000 steps: 2.45\n"
      ]
     },
     "metadata": {},
     "output_type": "display_data"
    },
    {
     "data": {
      "text/html": [
       "<pre style=\"white-space:pre;overflow-x:auto;line-height:normal;font-family:Menlo,'DejaVu Sans Mono',consolas,'Courier New',monospace\">Average reward over last 5000 steps: 2.66\n",
       "</pre>\n"
      ],
      "text/plain": [
       "Average reward over last 5000 steps: 2.66\n"
      ]
     },
     "metadata": {},
     "output_type": "display_data"
    },
    {
     "data": {
      "text/html": [
       "<pre style=\"white-space:pre;overflow-x:auto;line-height:normal;font-family:Menlo,'DejaVu Sans Mono',consolas,'Courier New',monospace\">Average reward over last 5000 steps: 2.58\n",
       "</pre>\n"
      ],
      "text/plain": [
       "Average reward over last 5000 steps: 2.58\n"
      ]
     },
     "metadata": {},
     "output_type": "display_data"
    },
    {
     "data": {
      "text/html": [
       "<pre style=\"white-space:pre;overflow-x:auto;line-height:normal;font-family:Menlo,'DejaVu Sans Mono',consolas,'Courier New',monospace\">Average reward over last 5000 steps: 2.29\n",
       "</pre>\n"
      ],
      "text/plain": [
       "Average reward over last 5000 steps: 2.29\n"
      ]
     },
     "metadata": {},
     "output_type": "display_data"
    },
    {
     "data": {
      "text/html": [
       "<pre style=\"white-space:pre;overflow-x:auto;line-height:normal;font-family:Menlo,'DejaVu Sans Mono',consolas,'Courier New',monospace\">Average reward over last 5000 steps: 2.51\n",
       "</pre>\n"
      ],
      "text/plain": [
       "Average reward over last 5000 steps: 2.51\n"
      ]
     },
     "metadata": {},
     "output_type": "display_data"
    },
    {
     "data": {
      "text/html": [
       "<pre style=\"white-space:pre;overflow-x:auto;line-height:normal;font-family:Menlo,'DejaVu Sans Mono',consolas,'Courier New',monospace\">Average reward over last 5000 steps: 2.46\n",
       "</pre>\n"
      ],
      "text/plain": [
       "Average reward over last 5000 steps: 2.46\n"
      ]
     },
     "metadata": {},
     "output_type": "display_data"
    },
    {
     "data": {
      "text/html": [
       "<pre style=\"white-space:pre;overflow-x:auto;line-height:normal;font-family:Menlo,'DejaVu Sans Mono',consolas,'Courier New',monospace\">Average reward over last 5000 steps: 2.36\n",
       "</pre>\n"
      ],
      "text/plain": [
       "Average reward over last 5000 steps: 2.36\n"
      ]
     },
     "metadata": {},
     "output_type": "display_data"
    },
    {
     "data": {
      "text/html": [
       "<pre style=\"white-space:pre;overflow-x:auto;line-height:normal;font-family:Menlo,'DejaVu Sans Mono',consolas,'Courier New',monospace\">Average reward over last 5000 steps: 2.63\n",
       "</pre>\n"
      ],
      "text/plain": [
       "Average reward over last 5000 steps: 2.63\n"
      ]
     },
     "metadata": {},
     "output_type": "display_data"
    },
    {
     "data": {
      "text/html": [
       "<pre style=\"white-space:pre;overflow-x:auto;line-height:normal;font-family:Menlo,'DejaVu Sans Mono',consolas,'Courier New',monospace\">Average reward over last 5000 steps: 2.40\n",
       "</pre>\n"
      ],
      "text/plain": [
       "Average reward over last 5000 steps: 2.40\n"
      ]
     },
     "metadata": {},
     "output_type": "display_data"
    },
    {
     "data": {
      "text/html": [
       "<pre style=\"white-space:pre;overflow-x:auto;line-height:normal;font-family:Menlo,'DejaVu Sans Mono',consolas,'Courier New',monospace\">Average reward over last 5000 steps: 2.20\n",
       "</pre>\n"
      ],
      "text/plain": [
       "Average reward over last 5000 steps: 2.20\n"
      ]
     },
     "metadata": {},
     "output_type": "display_data"
    },
    {
     "data": {
      "text/html": [
       "<pre style=\"white-space:pre;overflow-x:auto;line-height:normal;font-family:Menlo,'DejaVu Sans Mono',consolas,'Courier New',monospace\">Average reward over last 5000 steps: 2.33\n",
       "</pre>\n"
      ],
      "text/plain": [
       "Average reward over last 5000 steps: 2.33\n"
      ]
     },
     "metadata": {},
     "output_type": "display_data"
    },
    {
     "data": {
      "text/html": [
       "<pre style=\"white-space:pre;overflow-x:auto;line-height:normal;font-family:Menlo,'DejaVu Sans Mono',consolas,'Courier New',monospace\">Average reward over last 5000 steps: 2.42\n",
       "</pre>\n"
      ],
      "text/plain": [
       "Average reward over last 5000 steps: 2.42\n"
      ]
     },
     "metadata": {},
     "output_type": "display_data"
    },
    {
     "data": {
      "text/html": [
       "<pre style=\"white-space:pre;overflow-x:auto;line-height:normal;font-family:Menlo,'DejaVu Sans Mono',consolas,'Courier New',monospace\">Average reward over last 5000 steps: 2.71\n",
       "</pre>\n"
      ],
      "text/plain": [
       "Average reward over last 5000 steps: 2.71\n"
      ]
     },
     "metadata": {},
     "output_type": "display_data"
    },
    {
     "data": {
      "text/html": [
       "<pre style=\"white-space:pre;overflow-x:auto;line-height:normal;font-family:Menlo,'DejaVu Sans Mono',consolas,'Courier New',monospace\">Average reward over last 5000 steps: 2.63\n",
       "</pre>\n"
      ],
      "text/plain": [
       "Average reward over last 5000 steps: 2.63\n"
      ]
     },
     "metadata": {},
     "output_type": "display_data"
    },
    {
     "data": {
      "text/html": [
       "<pre style=\"white-space:pre;overflow-x:auto;line-height:normal;font-family:Menlo,'DejaVu Sans Mono',consolas,'Courier New',monospace\">Average reward over last 5000 steps: 2.33\n",
       "</pre>\n"
      ],
      "text/plain": [
       "Average reward over last 5000 steps: 2.33\n"
      ]
     },
     "metadata": {},
     "output_type": "display_data"
    },
    {
     "data": {
      "text/html": [
       "<pre style=\"white-space:pre;overflow-x:auto;line-height:normal;font-family:Menlo,'DejaVu Sans Mono',consolas,'Courier New',monospace\">Average reward over last 5000 steps: 2.40\n",
       "</pre>\n"
      ],
      "text/plain": [
       "Average reward over last 5000 steps: 2.40\n"
      ]
     },
     "metadata": {},
     "output_type": "display_data"
    },
    {
     "data": {
      "text/html": [
       "<pre style=\"white-space:pre;overflow-x:auto;line-height:normal;font-family:Menlo,'DejaVu Sans Mono',consolas,'Courier New',monospace\">Average reward over last 5000 steps: 1.90\n",
       "</pre>\n"
      ],
      "text/plain": [
       "Average reward over last 5000 steps: 1.90\n"
      ]
     },
     "metadata": {},
     "output_type": "display_data"
    },
    {
     "data": {
      "text/html": [
       "<pre style=\"white-space:pre;overflow-x:auto;line-height:normal;font-family:Menlo,'DejaVu Sans Mono',consolas,'Courier New',monospace\">Average reward over last 5000 steps: 2.56\n",
       "</pre>\n"
      ],
      "text/plain": [
       "Average reward over last 5000 steps: 2.56\n"
      ]
     },
     "metadata": {},
     "output_type": "display_data"
    },
    {
     "data": {
      "text/html": [
       "<pre style=\"white-space:pre;overflow-x:auto;line-height:normal;font-family:Menlo,'DejaVu Sans Mono',consolas,'Courier New',monospace\">Average reward over last 5000 steps: 2.74\n",
       "</pre>\n"
      ],
      "text/plain": [
       "Average reward over last 5000 steps: 2.74\n"
      ]
     },
     "metadata": {},
     "output_type": "display_data"
    },
    {
     "data": {
      "text/html": [
       "<pre style=\"white-space:pre;overflow-x:auto;line-height:normal;font-family:Menlo,'DejaVu Sans Mono',consolas,'Courier New',monospace\">Average reward over last 5000 steps: 2.40\n",
       "</pre>\n"
      ],
      "text/plain": [
       "Average reward over last 5000 steps: 2.40\n"
      ]
     },
     "metadata": {},
     "output_type": "display_data"
    },
    {
     "data": {
      "text/html": [
       "<pre style=\"white-space:pre;overflow-x:auto;line-height:normal;font-family:Menlo,'DejaVu Sans Mono',consolas,'Courier New',monospace\">Average reward over last 5000 steps: 2.77\n",
       "</pre>\n"
      ],
      "text/plain": [
       "Average reward over last 5000 steps: 2.77\n"
      ]
     },
     "metadata": {},
     "output_type": "display_data"
    },
    {
     "data": {
      "text/html": [
       "<pre style=\"white-space:pre;overflow-x:auto;line-height:normal;font-family:Menlo,'DejaVu Sans Mono',consolas,'Courier New',monospace\">Average reward over last 5000 steps: 2.80\n",
       "</pre>\n"
      ],
      "text/plain": [
       "Average reward over last 5000 steps: 2.80\n"
      ]
     },
     "metadata": {},
     "output_type": "display_data"
    },
    {
     "data": {
      "text/html": [
       "<pre style=\"white-space:pre;overflow-x:auto;line-height:normal;font-family:Menlo,'DejaVu Sans Mono',consolas,'Courier New',monospace\">Average reward over last 5000 steps: 2.55\n",
       "</pre>\n"
      ],
      "text/plain": [
       "Average reward over last 5000 steps: 2.55\n"
      ]
     },
     "metadata": {},
     "output_type": "display_data"
    },
    {
     "data": {
      "text/html": [
       "<pre style=\"white-space:pre;overflow-x:auto;line-height:normal;font-family:Menlo,'DejaVu Sans Mono',consolas,'Courier New',monospace\">Average reward over last 5000 steps: 2.66\n",
       "</pre>\n"
      ],
      "text/plain": [
       "Average reward over last 5000 steps: 2.66\n"
      ]
     },
     "metadata": {},
     "output_type": "display_data"
    },
    {
     "data": {
      "text/html": [
       "<pre style=\"white-space:pre;overflow-x:auto;line-height:normal;font-family:Menlo,'DejaVu Sans Mono',consolas,'Courier New',monospace\">Average reward over last 5000 steps: 2.80\n",
       "</pre>\n"
      ],
      "text/plain": [
       "Average reward over last 5000 steps: 2.80\n"
      ]
     },
     "metadata": {},
     "output_type": "display_data"
    },
    {
     "data": {
      "text/html": [
       "<pre style=\"white-space:pre;overflow-x:auto;line-height:normal;font-family:Menlo,'DejaVu Sans Mono',consolas,'Courier New',monospace\"></pre>\n"
      ],
      "text/plain": []
     },
     "metadata": {},
     "output_type": "display_data"
    },
    {
     "data": {
      "text/html": [
       "<pre style=\"white-space:pre;overflow-x:auto;line-height:normal;font-family:Menlo,'DejaVu Sans Mono',consolas,'Courier New',monospace\">\n",
       "</pre>\n"
      ],
      "text/plain": [
       "\n"
      ]
     },
     "metadata": {},
     "output_type": "display_data"
    },
    {
     "data": {
      "text/plain": [
       "<sb3_contrib.ppo_recurrent.ppo_recurrent.RecurrentPPO at 0x7ea536c49eb0>"
      ]
     },
     "execution_count": 12,
     "metadata": {},
     "output_type": "execute_result"
    }
   ],
   "source": [
    "from stable_baselines3.common.callbacks import ProgressBarCallback\n",
    "from stable_baselines3.common.callbacks import EvalCallback\n",
    "from stable_baselines3.common.callbacks import CheckpointCallback, CallbackList\n",
    "\n",
    "\n",
    "# Define the evaluation callback\n",
    "# eval_callback = EvalCallback(\n",
    "#     vec_eval_env,\n",
    "#     best_model_save_path=\"./logs/recurrent_ppo_hangman_stable_baselines\",\n",
    "#     log_path=\"./logs/recurrent_ppo_hangman_stable_baselines_eval_logs\",\n",
    "#     eval_freq=5000,  # Evaluate every 5000 steps\n",
    "#     n_eval_episodes=10,  # Number of episodes to evaluate\n",
    "#     deterministic=True,\n",
    "#     render=False,\n",
    "# )\n",
    "\n",
    "\n",
    "# Train the model\n",
    "total_timesteps = 5_000_000  # Adjust as needed\n",
    "# total_timesteps = 1_0000  # Adjust as needed\n",
    "\n",
    "model.learn(total_timesteps=total_timesteps, callback=callback, progress_bar=True)"
   ]
  },
  {
   "cell_type": "code",
   "execution_count": 15,
   "id": "c6777b6e-6c7d-464f-b406-ff88a17bdc26",
   "metadata": {},
   "outputs": [
    {
     "name": "stdout",
     "output_type": "stream",
     "text": [
      "46.86981\n"
     ]
    }
   ],
   "source": [
    "from stable_baselines3.common.evaluation import evaluate_policy\n",
    "\n",
    "vec_env = model.get_env()\n",
    "mean_reward, std_reward = evaluate_policy(model, vec_env, n_eval_episodes=20, warn=False)\n",
    "print(mean_reward)"
   ]
  },
  {
   "cell_type": "code",
   "execution_count": 35,
   "id": "1bc89ba7-70ca-434f-990c-88daf0db598c",
   "metadata": {},
   "outputs": [
    {
     "data": {
      "text/html": [
       "<pre style=\"white-space:pre;overflow-x:auto;line-height:normal;font-family:Menlo,'DejaVu Sans Mono',consolas,'Courier New',monospace\">Curriculum state saved to curriculum_state.json\n",
       "</pre>\n"
      ],
      "text/plain": [
       "Curriculum state saved to curriculum_state.json\n"
      ]
     },
     "metadata": {},
     "output_type": "display_data"
    }
   ],
   "source": [
    "curriculum.save_state()"
   ]
  },
  {
   "cell_type": "markdown",
   "id": "580524fe-a63a-4f3c-8cba-5d70b7993ee4",
   "metadata": {},
   "source": [
    "# Load saved model and retrain"
   ]
  },
  {
   "cell_type": "code",
   "execution_count": 5,
   "id": "4a427544-d161-440e-afa9-924f2883c63b",
   "metadata": {},
   "outputs": [
    {
     "name": "stdout",
     "output_type": "stream",
     "text": [
      "Curriculum state loaded: Phase 6\n",
      "Using device: cuda\n",
      "Trained model loaded successfully.\n"
     ]
    }
   ],
   "source": [
    "from sb3_contrib import RecurrentPPO\n",
    "from stable_baselines3.common.vec_env import DummyVecEnv, VecMonitor\n",
    "import torch\n",
    "\n",
    "# Initialize the Curriculum instance (loads the saved state)\n",
    "curriculum = Curriculum(state_file='curriculum_state.json')\n",
    "\n",
    "# Initialize the Hangman environment with the loaded curriculum\n",
    "env = HangmanEnv(word_list=word_list, curriculum=curriculum, max_word_length=max_word_length)\n",
    "\n",
    "# Wrap the environment in DummyVecEnv and VecMonitor\n",
    "vec_env = DummyVecEnv([lambda: env])\n",
    "vec_env = VecMonitor(vec_env)\n",
    "\n",
    "# Check if GPU is available\n",
    "device = torch.device('cuda' if torch.cuda.is_available() else 'cpu')\n",
    "print(f\"Using device: {device}\")\n",
    "\n",
    "policy_kwargs = dict(\n",
    "    activation_fn=nn.ReLU,\n",
    "    net_arch=dict(pi=[256, 128], vf=[256, 128]),  # Increased network layers and units\n",
    "    lstm_hidden_size=128,\n",
    "    n_lstm_layers=1,\n",
    "    shared_lstm=True,\n",
    "    enable_critic_lstm=False,\n",
    ")\n",
    "\n",
    "\n",
    "\n",
    "# Load the trained model\n",
    "trained_model_path = \"./PPO_LSTM_MORE_ROUNDS/hangman_model_PPO_LSTM_5000000_steps.zip\"  # Update the path accordingly\n",
    "model = RecurrentPPO.load(trained_model_path, env=vec_env, device=device)\n",
    "\n",
    "print(\"Trained model loaded successfully.\")"
   ]
  },
  {
   "cell_type": "code",
   "execution_count": 6,
   "id": "2080a199-f9d7-4232-9612-c22821e98572",
   "metadata": {},
   "outputs": [],
   "source": [
    "from stable_baselines3.common.callbacks import CallbackList, CheckpointCallback, BaseCallback\n",
    "\n",
    "# Define new phase timesteps for continued training\n",
    "# Extend or adjust as needed based on curriculum design\n",
    "# additional_phase_timesteps = [5_600_000, 6_400_000, 7_200_000, 8_000_000]  # Example extensions\n",
    "\n",
    "# Combine with existing phase_timesteps if necessary\n",
    "phase_timesteps = [800_000, 1_600_000, 2_400_000, 3_200_000, 4_000_000]\n",
    "\n",
    "# Initialize the CurriculumCallback with updated phase_timesteps\n",
    "# curriculum_callback = CurriculumCallback(\n",
    "#     curriculum=curriculum,\n",
    "#     phase_timesteps=phase_timesteps,\n",
    "#     verbose=1\n",
    "# )\n",
    "\n",
    "class AdaptiveCurriculumCallback(BaseCallback):\n",
    "    \"\"\"\n",
    "    A custom callback to adaptively manage curriculum learning based on agent performance.\n",
    "    \"\"\"\n",
    "    def __init__(self, curriculum, phase_timesteps, performance_threshold=0.8, verbose=1):\n",
    "        \"\"\"\n",
    "        :param curriculum: Instance of Curriculum class.\n",
    "        :param phase_timesteps: List of timesteps at which to evaluate and potentially advance/regress the curriculum phases.\n",
    "        :param performance_threshold: Threshold to decide whether to advance or regress the curriculum phases.\n",
    "        :param verbose: Verbosity level.\n",
    "        \"\"\"\n",
    "        super(AdaptiveCurriculumCallback, self).__init__(verbose)\n",
    "        self.curriculum = curriculum\n",
    "        self.phase_timesteps = phase_timesteps\n",
    "        self.current_phase_index = 0\n",
    "        self.performance_threshold = performance_threshold\n",
    "        self.recent_rewards = []\n",
    "    \n",
    "    def _on_step(self) -> bool:\n",
    "        \"\"\"\n",
    "        Called at every step. Checks if it's time to adjust the curriculum based on performance.\n",
    "        \"\"\"\n",
    "        if self.current_phase_index >= len(self.phase_timesteps):\n",
    "            return True  # No more phases to adjust\n",
    "    \n",
    "        if self.num_timesteps >= self.phase_timesteps[self.current_phase_index]:\n",
    "            # Calculate average reward over the last check_freq steps\n",
    "            if len(self.recent_rewards) >= 5000:\n",
    "                avg_reward = np.mean(self.recent_rewards[-5000:])\n",
    "                if avg_reward >= self.performance_threshold:\n",
    "                    self.curriculum.advance_phase()\n",
    "                elif self.curriculum.current_phase > 1:\n",
    "                    self.curriculum.regress_phase()\n",
    "            self.current_phase_index += 1\n",
    "    \n",
    "        # Collect rewards\n",
    "        rewards = self.locals.get('rewards', [])\n",
    "        if rewards:\n",
    "            self.recent_rewards.extend(rewards)\n",
    "    \n",
    "        return True\n",
    "\n",
    "adaptive_curriculum_callback = AdaptiveCurriculumCallback(\n",
    "    curriculum=curriculum,\n",
    "    phase_timesteps=phase_timesteps,\n",
    "    performance_threshold=2.6,  # Adjust based on desired performance\n",
    "    verbose=1\n",
    ")\n",
    "\n",
    "\n",
    "# Initialize the AverageRewardCallback\n",
    "average_reward_callback = AverageRewardCallback(check_freq=5000, verbose=1)\n",
    "\n",
    "# Define the CheckpointCallback to save models periodically\n",
    "checkpoint_callback = CheckpointCallback(\n",
    "    save_freq=50000,               \n",
    "    save_path='./PPO_LSTM_MORE_ROUNDS_RETRAIN/',         \n",
    "    name_prefix='hangman_model_PPO_LSTM',   \n",
    "    save_replay_buffer=False,      \n",
    "    save_vecnormalize=False        \n",
    ")\n",
    "\n",
    "# Combine all callbacks\n",
    "callback = CallbackList([adaptive_curriculum_callback, average_reward_callback, checkpoint_callback])\n"
   ]
  },
  {
   "cell_type": "code",
   "execution_count": 7,
   "id": "3313cbd0-fcab-47d3-8f64-bd6e02cab5a9",
   "metadata": {
    "scrolled": true
   },
   "outputs": [
    {
     "data": {
      "application/vnd.jupyter.widget-view+json": {
       "model_id": "dd91ef38a9bf4e869d6d3b85f6d12978",
       "version_major": 2,
       "version_minor": 0
      },
      "text/plain": [
       "Output()"
      ]
     },
     "metadata": {},
     "output_type": "display_data"
    },
    {
     "data": {
      "text/html": [
       "<pre style=\"white-space:pre;overflow-x:auto;line-height:normal;font-family:Menlo,'DejaVu Sans Mono',consolas,'Courier New',monospace\">Average reward over last 5000 steps: 2.78\n",
       "</pre>\n"
      ],
      "text/plain": [
       "Average reward over last 5000 steps: 2.78\n"
      ]
     },
     "metadata": {},
     "output_type": "display_data"
    },
    {
     "data": {
      "text/html": [
       "<pre style=\"white-space:pre;overflow-x:auto;line-height:normal;font-family:Menlo,'DejaVu Sans Mono',consolas,'Courier New',monospace\">Average reward over last 5000 steps: 2.67\n",
       "</pre>\n"
      ],
      "text/plain": [
       "Average reward over last 5000 steps: 2.67\n"
      ]
     },
     "metadata": {},
     "output_type": "display_data"
    },
    {
     "data": {
      "text/html": [
       "<pre style=\"white-space:pre;overflow-x:auto;line-height:normal;font-family:Menlo,'DejaVu Sans Mono',consolas,'Courier New',monospace\">Average reward over last 5000 steps: 2.23\n",
       "</pre>\n"
      ],
      "text/plain": [
       "Average reward over last 5000 steps: 2.23\n"
      ]
     },
     "metadata": {},
     "output_type": "display_data"
    },
    {
     "data": {
      "text/html": [
       "<pre style=\"white-space:pre;overflow-x:auto;line-height:normal;font-family:Menlo,'DejaVu Sans Mono',consolas,'Courier New',monospace\">Average reward over last 5000 steps: 2.43\n",
       "</pre>\n"
      ],
      "text/plain": [
       "Average reward over last 5000 steps: 2.43\n"
      ]
     },
     "metadata": {},
     "output_type": "display_data"
    },
    {
     "data": {
      "text/html": [
       "<pre style=\"white-space:pre;overflow-x:auto;line-height:normal;font-family:Menlo,'DejaVu Sans Mono',consolas,'Courier New',monospace\">Average reward over last 5000 steps: 2.82\n",
       "</pre>\n"
      ],
      "text/plain": [
       "Average reward over last 5000 steps: 2.82\n"
      ]
     },
     "metadata": {},
     "output_type": "display_data"
    },
    {
     "data": {
      "text/html": [
       "<pre style=\"white-space:pre;overflow-x:auto;line-height:normal;font-family:Menlo,'DejaVu Sans Mono',consolas,'Courier New',monospace\">Average reward over last 5000 steps: 2.49\n",
       "</pre>\n"
      ],
      "text/plain": [
       "Average reward over last 5000 steps: 2.49\n"
      ]
     },
     "metadata": {},
     "output_type": "display_data"
    },
    {
     "data": {
      "text/html": [
       "<pre style=\"white-space:pre;overflow-x:auto;line-height:normal;font-family:Menlo,'DejaVu Sans Mono',consolas,'Courier New',monospace\">Average reward over last 5000 steps: 2.72\n",
       "</pre>\n"
      ],
      "text/plain": [
       "Average reward over last 5000 steps: 2.72\n"
      ]
     },
     "metadata": {},
     "output_type": "display_data"
    },
    {
     "data": {
      "text/html": [
       "<pre style=\"white-space:pre;overflow-x:auto;line-height:normal;font-family:Menlo,'DejaVu Sans Mono',consolas,'Courier New',monospace\">Average reward over last 5000 steps: 2.56\n",
       "</pre>\n"
      ],
      "text/plain": [
       "Average reward over last 5000 steps: 2.56\n"
      ]
     },
     "metadata": {},
     "output_type": "display_data"
    },
    {
     "data": {
      "text/html": [
       "<pre style=\"white-space:pre;overflow-x:auto;line-height:normal;font-family:Menlo,'DejaVu Sans Mono',consolas,'Courier New',monospace\">Average reward over last 5000 steps: 2.72\n",
       "</pre>\n"
      ],
      "text/plain": [
       "Average reward over last 5000 steps: 2.72\n"
      ]
     },
     "metadata": {},
     "output_type": "display_data"
    },
    {
     "data": {
      "text/html": [
       "<pre style=\"white-space:pre;overflow-x:auto;line-height:normal;font-family:Menlo,'DejaVu Sans Mono',consolas,'Courier New',monospace\">Average reward over last 5000 steps: 2.68\n",
       "</pre>\n"
      ],
      "text/plain": [
       "Average reward over last 5000 steps: 2.68\n"
      ]
     },
     "metadata": {},
     "output_type": "display_data"
    },
    {
     "data": {
      "text/html": [
       "<pre style=\"white-space:pre;overflow-x:auto;line-height:normal;font-family:Menlo,'DejaVu Sans Mono',consolas,'Courier New',monospace\">Average reward over last 5000 steps: 2.51\n",
       "</pre>\n"
      ],
      "text/plain": [
       "Average reward over last 5000 steps: 2.51\n"
      ]
     },
     "metadata": {},
     "output_type": "display_data"
    },
    {
     "data": {
      "text/html": [
       "<pre style=\"white-space:pre;overflow-x:auto;line-height:normal;font-family:Menlo,'DejaVu Sans Mono',consolas,'Courier New',monospace\">Average reward over last 5000 steps: 2.50\n",
       "</pre>\n"
      ],
      "text/plain": [
       "Average reward over last 5000 steps: 2.50\n"
      ]
     },
     "metadata": {},
     "output_type": "display_data"
    },
    {
     "data": {
      "text/html": [
       "<pre style=\"white-space:pre;overflow-x:auto;line-height:normal;font-family:Menlo,'DejaVu Sans Mono',consolas,'Courier New',monospace\">Average reward over last 5000 steps: 2.33\n",
       "</pre>\n"
      ],
      "text/plain": [
       "Average reward over last 5000 steps: 2.33\n"
      ]
     },
     "metadata": {},
     "output_type": "display_data"
    },
    {
     "data": {
      "text/html": [
       "<pre style=\"white-space:pre;overflow-x:auto;line-height:normal;font-family:Menlo,'DejaVu Sans Mono',consolas,'Courier New',monospace\">Average reward over last 5000 steps: 2.50\n",
       "</pre>\n"
      ],
      "text/plain": [
       "Average reward over last 5000 steps: 2.50\n"
      ]
     },
     "metadata": {},
     "output_type": "display_data"
    },
    {
     "data": {
      "text/html": [
       "<pre style=\"white-space:pre;overflow-x:auto;line-height:normal;font-family:Menlo,'DejaVu Sans Mono',consolas,'Courier New',monospace\">Average reward over last 5000 steps: 2.49\n",
       "</pre>\n"
      ],
      "text/plain": [
       "Average reward over last 5000 steps: 2.49\n"
      ]
     },
     "metadata": {},
     "output_type": "display_data"
    },
    {
     "data": {
      "text/html": [
       "<pre style=\"white-space:pre;overflow-x:auto;line-height:normal;font-family:Menlo,'DejaVu Sans Mono',consolas,'Courier New',monospace\">Average reward over last 5000 steps: 2.25\n",
       "</pre>\n"
      ],
      "text/plain": [
       "Average reward over last 5000 steps: 2.25\n"
      ]
     },
     "metadata": {},
     "output_type": "display_data"
    },
    {
     "data": {
      "text/html": [
       "<pre style=\"white-space:pre;overflow-x:auto;line-height:normal;font-family:Menlo,'DejaVu Sans Mono',consolas,'Courier New',monospace\">Average reward over last 5000 steps: 2.27\n",
       "</pre>\n"
      ],
      "text/plain": [
       "Average reward over last 5000 steps: 2.27\n"
      ]
     },
     "metadata": {},
     "output_type": "display_data"
    },
    {
     "data": {
      "text/html": [
       "<pre style=\"white-space:pre;overflow-x:auto;line-height:normal;font-family:Menlo,'DejaVu Sans Mono',consolas,'Courier New',monospace\">Average reward over last 5000 steps: 2.26\n",
       "</pre>\n"
      ],
      "text/plain": [
       "Average reward over last 5000 steps: 2.26\n"
      ]
     },
     "metadata": {},
     "output_type": "display_data"
    },
    {
     "data": {
      "text/html": [
       "<pre style=\"white-space:pre;overflow-x:auto;line-height:normal;font-family:Menlo,'DejaVu Sans Mono',consolas,'Courier New',monospace\">Average reward over last 5000 steps: 2.41\n",
       "</pre>\n"
      ],
      "text/plain": [
       "Average reward over last 5000 steps: 2.41\n"
      ]
     },
     "metadata": {},
     "output_type": "display_data"
    },
    {
     "data": {
      "text/html": [
       "<pre style=\"white-space:pre;overflow-x:auto;line-height:normal;font-family:Menlo,'DejaVu Sans Mono',consolas,'Courier New',monospace\">Average reward over last 5000 steps: 2.68\n",
       "</pre>\n"
      ],
      "text/plain": [
       "Average reward over last 5000 steps: 2.68\n"
      ]
     },
     "metadata": {},
     "output_type": "display_data"
    },
    {
     "data": {
      "text/html": [
       "<pre style=\"white-space:pre;overflow-x:auto;line-height:normal;font-family:Menlo,'DejaVu Sans Mono',consolas,'Courier New',monospace\">Average reward over last 5000 steps: 2.44\n",
       "</pre>\n"
      ],
      "text/plain": [
       "Average reward over last 5000 steps: 2.44\n"
      ]
     },
     "metadata": {},
     "output_type": "display_data"
    },
    {
     "data": {
      "text/html": [
       "<pre style=\"white-space:pre;overflow-x:auto;line-height:normal;font-family:Menlo,'DejaVu Sans Mono',consolas,'Courier New',monospace\">Average reward over last 5000 steps: 2.81\n",
       "</pre>\n"
      ],
      "text/plain": [
       "Average reward over last 5000 steps: 2.81\n"
      ]
     },
     "metadata": {},
     "output_type": "display_data"
    },
    {
     "data": {
      "text/html": [
       "<pre style=\"white-space:pre;overflow-x:auto;line-height:normal;font-family:Menlo,'DejaVu Sans Mono',consolas,'Courier New',monospace\">Average reward over last 5000 steps: 2.55\n",
       "</pre>\n"
      ],
      "text/plain": [
       "Average reward over last 5000 steps: 2.55\n"
      ]
     },
     "metadata": {},
     "output_type": "display_data"
    },
    {
     "data": {
      "text/html": [
       "<pre style=\"white-space:pre;overflow-x:auto;line-height:normal;font-family:Menlo,'DejaVu Sans Mono',consolas,'Courier New',monospace\">Average reward over last 5000 steps: 2.84\n",
       "</pre>\n"
      ],
      "text/plain": [
       "Average reward over last 5000 steps: 2.84\n"
      ]
     },
     "metadata": {},
     "output_type": "display_data"
    },
    {
     "data": {
      "text/html": [
       "<pre style=\"white-space:pre;overflow-x:auto;line-height:normal;font-family:Menlo,'DejaVu Sans Mono',consolas,'Courier New',monospace\">Average reward over last 5000 steps: 2.80\n",
       "</pre>\n"
      ],
      "text/plain": [
       "Average reward over last 5000 steps: 2.80\n"
      ]
     },
     "metadata": {},
     "output_type": "display_data"
    },
    {
     "data": {
      "text/html": [
       "<pre style=\"white-space:pre;overflow-x:auto;line-height:normal;font-family:Menlo,'DejaVu Sans Mono',consolas,'Courier New',monospace\">Average reward over last 5000 steps: 2.59\n",
       "</pre>\n"
      ],
      "text/plain": [
       "Average reward over last 5000 steps: 2.59\n"
      ]
     },
     "metadata": {},
     "output_type": "display_data"
    },
    {
     "data": {
      "text/html": [
       "<pre style=\"white-space:pre;overflow-x:auto;line-height:normal;font-family:Menlo,'DejaVu Sans Mono',consolas,'Courier New',monospace\">Average reward over last 5000 steps: 2.60\n",
       "</pre>\n"
      ],
      "text/plain": [
       "Average reward over last 5000 steps: 2.60\n"
      ]
     },
     "metadata": {},
     "output_type": "display_data"
    },
    {
     "data": {
      "text/html": [
       "<pre style=\"white-space:pre;overflow-x:auto;line-height:normal;font-family:Menlo,'DejaVu Sans Mono',consolas,'Courier New',monospace\">Average reward over last 5000 steps: 2.71\n",
       "</pre>\n"
      ],
      "text/plain": [
       "Average reward over last 5000 steps: 2.71\n"
      ]
     },
     "metadata": {},
     "output_type": "display_data"
    },
    {
     "data": {
      "text/html": [
       "<pre style=\"white-space:pre;overflow-x:auto;line-height:normal;font-family:Menlo,'DejaVu Sans Mono',consolas,'Courier New',monospace\">Average reward over last 5000 steps: 2.91\n",
       "</pre>\n"
      ],
      "text/plain": [
       "Average reward over last 5000 steps: 2.91\n"
      ]
     },
     "metadata": {},
     "output_type": "display_data"
    },
    {
     "data": {
      "text/html": [
       "<pre style=\"white-space:pre;overflow-x:auto;line-height:normal;font-family:Menlo,'DejaVu Sans Mono',consolas,'Courier New',monospace\">Average reward over last 5000 steps: 2.44\n",
       "</pre>\n"
      ],
      "text/plain": [
       "Average reward over last 5000 steps: 2.44\n"
      ]
     },
     "metadata": {},
     "output_type": "display_data"
    },
    {
     "data": {
      "text/html": [
       "<pre style=\"white-space:pre;overflow-x:auto;line-height:normal;font-family:Menlo,'DejaVu Sans Mono',consolas,'Courier New',monospace\">Average reward over last 5000 steps: 2.58\n",
       "</pre>\n"
      ],
      "text/plain": [
       "Average reward over last 5000 steps: 2.58\n"
      ]
     },
     "metadata": {},
     "output_type": "display_data"
    },
    {
     "data": {
      "text/html": [
       "<pre style=\"white-space:pre;overflow-x:auto;line-height:normal;font-family:Menlo,'DejaVu Sans Mono',consolas,'Courier New',monospace\">Average reward over last 5000 steps: 2.59\n",
       "</pre>\n"
      ],
      "text/plain": [
       "Average reward over last 5000 steps: 2.59\n"
      ]
     },
     "metadata": {},
     "output_type": "display_data"
    },
    {
     "data": {
      "text/html": [
       "<pre style=\"white-space:pre;overflow-x:auto;line-height:normal;font-family:Menlo,'DejaVu Sans Mono',consolas,'Courier New',monospace\">Average reward over last 5000 steps: 2.59\n",
       "</pre>\n"
      ],
      "text/plain": [
       "Average reward over last 5000 steps: 2.59\n"
      ]
     },
     "metadata": {},
     "output_type": "display_data"
    },
    {
     "data": {
      "text/html": [
       "<pre style=\"white-space:pre;overflow-x:auto;line-height:normal;font-family:Menlo,'DejaVu Sans Mono',consolas,'Courier New',monospace\">Average reward over last 5000 steps: 2.42\n",
       "</pre>\n"
      ],
      "text/plain": [
       "Average reward over last 5000 steps: 2.42\n"
      ]
     },
     "metadata": {},
     "output_type": "display_data"
    },
    {
     "data": {
      "text/html": [
       "<pre style=\"white-space:pre;overflow-x:auto;line-height:normal;font-family:Menlo,'DejaVu Sans Mono',consolas,'Courier New',monospace\">Average reward over last 5000 steps: 2.35\n",
       "</pre>\n"
      ],
      "text/plain": [
       "Average reward over last 5000 steps: 2.35\n"
      ]
     },
     "metadata": {},
     "output_type": "display_data"
    },
    {
     "data": {
      "text/html": [
       "<pre style=\"white-space:pre;overflow-x:auto;line-height:normal;font-family:Menlo,'DejaVu Sans Mono',consolas,'Courier New',monospace\">Average reward over last 5000 steps: 2.77\n",
       "</pre>\n"
      ],
      "text/plain": [
       "Average reward over last 5000 steps: 2.77\n"
      ]
     },
     "metadata": {},
     "output_type": "display_data"
    },
    {
     "data": {
      "text/html": [
       "<pre style=\"white-space:pre;overflow-x:auto;line-height:normal;font-family:Menlo,'DejaVu Sans Mono',consolas,'Courier New',monospace\">Average reward over last 5000 steps: 2.52\n",
       "</pre>\n"
      ],
      "text/plain": [
       "Average reward over last 5000 steps: 2.52\n"
      ]
     },
     "metadata": {},
     "output_type": "display_data"
    },
    {
     "data": {
      "text/html": [
       "<pre style=\"white-space:pre;overflow-x:auto;line-height:normal;font-family:Menlo,'DejaVu Sans Mono',consolas,'Courier New',monospace\">Average reward over last 5000 steps: 2.92\n",
       "</pre>\n"
      ],
      "text/plain": [
       "Average reward over last 5000 steps: 2.92\n"
      ]
     },
     "metadata": {},
     "output_type": "display_data"
    },
    {
     "data": {
      "text/html": [
       "<pre style=\"white-space:pre;overflow-x:auto;line-height:normal;font-family:Menlo,'DejaVu Sans Mono',consolas,'Courier New',monospace\">Average reward over last 5000 steps: 2.82\n",
       "</pre>\n"
      ],
      "text/plain": [
       "Average reward over last 5000 steps: 2.82\n"
      ]
     },
     "metadata": {},
     "output_type": "display_data"
    },
    {
     "data": {
      "text/html": [
       "<pre style=\"white-space:pre;overflow-x:auto;line-height:normal;font-family:Menlo,'DejaVu Sans Mono',consolas,'Courier New',monospace\">Average reward over last 5000 steps: 3.00\n",
       "</pre>\n"
      ],
      "text/plain": [
       "Average reward over last 5000 steps: 3.00\n"
      ]
     },
     "metadata": {},
     "output_type": "display_data"
    },
    {
     "data": {
      "text/html": [
       "<pre style=\"white-space:pre;overflow-x:auto;line-height:normal;font-family:Menlo,'DejaVu Sans Mono',consolas,'Courier New',monospace\">Average reward over last 5000 steps: 2.68\n",
       "</pre>\n"
      ],
      "text/plain": [
       "Average reward over last 5000 steps: 2.68\n"
      ]
     },
     "metadata": {},
     "output_type": "display_data"
    },
    {
     "data": {
      "text/html": [
       "<pre style=\"white-space:pre;overflow-x:auto;line-height:normal;font-family:Menlo,'DejaVu Sans Mono',consolas,'Courier New',monospace\">Average reward over last 5000 steps: 2.57\n",
       "</pre>\n"
      ],
      "text/plain": [
       "Average reward over last 5000 steps: 2.57\n"
      ]
     },
     "metadata": {},
     "output_type": "display_data"
    },
    {
     "data": {
      "text/html": [
       "<pre style=\"white-space:pre;overflow-x:auto;line-height:normal;font-family:Menlo,'DejaVu Sans Mono',consolas,'Courier New',monospace\">Average reward over last 5000 steps: 2.39\n",
       "</pre>\n"
      ],
      "text/plain": [
       "Average reward over last 5000 steps: 2.39\n"
      ]
     },
     "metadata": {},
     "output_type": "display_data"
    },
    {
     "data": {
      "text/html": [
       "<pre style=\"white-space:pre;overflow-x:auto;line-height:normal;font-family:Menlo,'DejaVu Sans Mono',consolas,'Courier New',monospace\">Average reward over last 5000 steps: 2.92\n",
       "</pre>\n"
      ],
      "text/plain": [
       "Average reward over last 5000 steps: 2.92\n"
      ]
     },
     "metadata": {},
     "output_type": "display_data"
    },
    {
     "data": {
      "text/html": [
       "<pre style=\"white-space:pre;overflow-x:auto;line-height:normal;font-family:Menlo,'DejaVu Sans Mono',consolas,'Courier New',monospace\">Average reward over last 5000 steps: 2.64\n",
       "</pre>\n"
      ],
      "text/plain": [
       "Average reward over last 5000 steps: 2.64\n"
      ]
     },
     "metadata": {},
     "output_type": "display_data"
    },
    {
     "data": {
      "text/html": [
       "<pre style=\"white-space:pre;overflow-x:auto;line-height:normal;font-family:Menlo,'DejaVu Sans Mono',consolas,'Courier New',monospace\">Average reward over last 5000 steps: 2.56\n",
       "</pre>\n"
      ],
      "text/plain": [
       "Average reward over last 5000 steps: 2.56\n"
      ]
     },
     "metadata": {},
     "output_type": "display_data"
    },
    {
     "data": {
      "text/html": [
       "<pre style=\"white-space:pre;overflow-x:auto;line-height:normal;font-family:Menlo,'DejaVu Sans Mono',consolas,'Courier New',monospace\">Average reward over last 5000 steps: 2.73\n",
       "</pre>\n"
      ],
      "text/plain": [
       "Average reward over last 5000 steps: 2.73\n"
      ]
     },
     "metadata": {},
     "output_type": "display_data"
    },
    {
     "data": {
      "text/html": [
       "<pre style=\"white-space:pre;overflow-x:auto;line-height:normal;font-family:Menlo,'DejaVu Sans Mono',consolas,'Courier New',monospace\">Average reward over last 5000 steps: 3.19\n",
       "</pre>\n"
      ],
      "text/plain": [
       "Average reward over last 5000 steps: 3.19\n"
      ]
     },
     "metadata": {},
     "output_type": "display_data"
    },
    {
     "data": {
      "text/html": [
       "<pre style=\"white-space:pre;overflow-x:auto;line-height:normal;font-family:Menlo,'DejaVu Sans Mono',consolas,'Courier New',monospace\">Average reward over last 5000 steps: 2.55\n",
       "</pre>\n"
      ],
      "text/plain": [
       "Average reward over last 5000 steps: 2.55\n"
      ]
     },
     "metadata": {},
     "output_type": "display_data"
    },
    {
     "data": {
      "text/html": [
       "<pre style=\"white-space:pre;overflow-x:auto;line-height:normal;font-family:Menlo,'DejaVu Sans Mono',consolas,'Courier New',monospace\">Average reward over last 5000 steps: 2.82\n",
       "</pre>\n"
      ],
      "text/plain": [
       "Average reward over last 5000 steps: 2.82\n"
      ]
     },
     "metadata": {},
     "output_type": "display_data"
    },
    {
     "data": {
      "text/html": [
       "<pre style=\"white-space:pre;overflow-x:auto;line-height:normal;font-family:Menlo,'DejaVu Sans Mono',consolas,'Courier New',monospace\">Average reward over last 5000 steps: 2.44\n",
       "</pre>\n"
      ],
      "text/plain": [
       "Average reward over last 5000 steps: 2.44\n"
      ]
     },
     "metadata": {},
     "output_type": "display_data"
    },
    {
     "data": {
      "text/html": [
       "<pre style=\"white-space:pre;overflow-x:auto;line-height:normal;font-family:Menlo,'DejaVu Sans Mono',consolas,'Courier New',monospace\">Average reward over last 5000 steps: 2.98\n",
       "</pre>\n"
      ],
      "text/plain": [
       "Average reward over last 5000 steps: 2.98\n"
      ]
     },
     "metadata": {},
     "output_type": "display_data"
    },
    {
     "data": {
      "text/html": [
       "<pre style=\"white-space:pre;overflow-x:auto;line-height:normal;font-family:Menlo,'DejaVu Sans Mono',consolas,'Courier New',monospace\">Average reward over last 5000 steps: 2.74\n",
       "</pre>\n"
      ],
      "text/plain": [
       "Average reward over last 5000 steps: 2.74\n"
      ]
     },
     "metadata": {},
     "output_type": "display_data"
    },
    {
     "data": {
      "text/html": [
       "<pre style=\"white-space:pre;overflow-x:auto;line-height:normal;font-family:Menlo,'DejaVu Sans Mono',consolas,'Courier New',monospace\">Average reward over last 5000 steps: 2.37\n",
       "</pre>\n"
      ],
      "text/plain": [
       "Average reward over last 5000 steps: 2.37\n"
      ]
     },
     "metadata": {},
     "output_type": "display_data"
    },
    {
     "data": {
      "text/html": [
       "<pre style=\"white-space:pre;overflow-x:auto;line-height:normal;font-family:Menlo,'DejaVu Sans Mono',consolas,'Courier New',monospace\">Average reward over last 5000 steps: 2.74\n",
       "</pre>\n"
      ],
      "text/plain": [
       "Average reward over last 5000 steps: 2.74\n"
      ]
     },
     "metadata": {},
     "output_type": "display_data"
    },
    {
     "data": {
      "text/html": [
       "<pre style=\"white-space:pre;overflow-x:auto;line-height:normal;font-family:Menlo,'DejaVu Sans Mono',consolas,'Courier New',monospace\">Average reward over last 5000 steps: 2.74\n",
       "</pre>\n"
      ],
      "text/plain": [
       "Average reward over last 5000 steps: 2.74\n"
      ]
     },
     "metadata": {},
     "output_type": "display_data"
    },
    {
     "data": {
      "text/html": [
       "<pre style=\"white-space:pre;overflow-x:auto;line-height:normal;font-family:Menlo,'DejaVu Sans Mono',consolas,'Courier New',monospace\">Average reward over last 5000 steps: 2.54\n",
       "</pre>\n"
      ],
      "text/plain": [
       "Average reward over last 5000 steps: 2.54\n"
      ]
     },
     "metadata": {},
     "output_type": "display_data"
    },
    {
     "data": {
      "text/html": [
       "<pre style=\"white-space:pre;overflow-x:auto;line-height:normal;font-family:Menlo,'DejaVu Sans Mono',consolas,'Courier New',monospace\">Average reward over last 5000 steps: 2.87\n",
       "</pre>\n"
      ],
      "text/plain": [
       "Average reward over last 5000 steps: 2.87\n"
      ]
     },
     "metadata": {},
     "output_type": "display_data"
    },
    {
     "data": {
      "text/html": [
       "<pre style=\"white-space:pre;overflow-x:auto;line-height:normal;font-family:Menlo,'DejaVu Sans Mono',consolas,'Courier New',monospace\">Average reward over last 5000 steps: 2.38\n",
       "</pre>\n"
      ],
      "text/plain": [
       "Average reward over last 5000 steps: 2.38\n"
      ]
     },
     "metadata": {},
     "output_type": "display_data"
    },
    {
     "data": {
      "text/html": [
       "<pre style=\"white-space:pre;overflow-x:auto;line-height:normal;font-family:Menlo,'DejaVu Sans Mono',consolas,'Courier New',monospace\">Average reward over last 5000 steps: 2.79\n",
       "</pre>\n"
      ],
      "text/plain": [
       "Average reward over last 5000 steps: 2.79\n"
      ]
     },
     "metadata": {},
     "output_type": "display_data"
    },
    {
     "data": {
      "text/html": [
       "<pre style=\"white-space:pre;overflow-x:auto;line-height:normal;font-family:Menlo,'DejaVu Sans Mono',consolas,'Courier New',monospace\">Average reward over last 5000 steps: 2.88\n",
       "</pre>\n"
      ],
      "text/plain": [
       "Average reward over last 5000 steps: 2.88\n"
      ]
     },
     "metadata": {},
     "output_type": "display_data"
    },
    {
     "data": {
      "text/html": [
       "<pre style=\"white-space:pre;overflow-x:auto;line-height:normal;font-family:Menlo,'DejaVu Sans Mono',consolas,'Courier New',monospace\">Average reward over last 5000 steps: 2.72\n",
       "</pre>\n"
      ],
      "text/plain": [
       "Average reward over last 5000 steps: 2.72\n"
      ]
     },
     "metadata": {},
     "output_type": "display_data"
    },
    {
     "data": {
      "text/html": [
       "<pre style=\"white-space:pre;overflow-x:auto;line-height:normal;font-family:Menlo,'DejaVu Sans Mono',consolas,'Courier New',monospace\">Average reward over last 5000 steps: 2.86\n",
       "</pre>\n"
      ],
      "text/plain": [
       "Average reward over last 5000 steps: 2.86\n"
      ]
     },
     "metadata": {},
     "output_type": "display_data"
    },
    {
     "data": {
      "text/html": [
       "<pre style=\"white-space:pre;overflow-x:auto;line-height:normal;font-family:Menlo,'DejaVu Sans Mono',consolas,'Courier New',monospace\">Average reward over last 5000 steps: 2.76\n",
       "</pre>\n"
      ],
      "text/plain": [
       "Average reward over last 5000 steps: 2.76\n"
      ]
     },
     "metadata": {},
     "output_type": "display_data"
    },
    {
     "data": {
      "text/html": [
       "<pre style=\"white-space:pre;overflow-x:auto;line-height:normal;font-family:Menlo,'DejaVu Sans Mono',consolas,'Courier New',monospace\">Average reward over last 5000 steps: 2.90\n",
       "</pre>\n"
      ],
      "text/plain": [
       "Average reward over last 5000 steps: 2.90\n"
      ]
     },
     "metadata": {},
     "output_type": "display_data"
    },
    {
     "data": {
      "text/html": [
       "<pre style=\"white-space:pre;overflow-x:auto;line-height:normal;font-family:Menlo,'DejaVu Sans Mono',consolas,'Courier New',monospace\">Average reward over last 5000 steps: 2.71\n",
       "</pre>\n"
      ],
      "text/plain": [
       "Average reward over last 5000 steps: 2.71\n"
      ]
     },
     "metadata": {},
     "output_type": "display_data"
    },
    {
     "data": {
      "text/html": [
       "<pre style=\"white-space:pre;overflow-x:auto;line-height:normal;font-family:Menlo,'DejaVu Sans Mono',consolas,'Courier New',monospace\">Average reward over last 5000 steps: 2.80\n",
       "</pre>\n"
      ],
      "text/plain": [
       "Average reward over last 5000 steps: 2.80\n"
      ]
     },
     "metadata": {},
     "output_type": "display_data"
    },
    {
     "data": {
      "text/html": [
       "<pre style=\"white-space:pre;overflow-x:auto;line-height:normal;font-family:Menlo,'DejaVu Sans Mono',consolas,'Courier New',monospace\">Average reward over last 5000 steps: 2.57\n",
       "</pre>\n"
      ],
      "text/plain": [
       "Average reward over last 5000 steps: 2.57\n"
      ]
     },
     "metadata": {},
     "output_type": "display_data"
    },
    {
     "data": {
      "text/html": [
       "<pre style=\"white-space:pre;overflow-x:auto;line-height:normal;font-family:Menlo,'DejaVu Sans Mono',consolas,'Courier New',monospace\">Average reward over last 5000 steps: 2.21\n",
       "</pre>\n"
      ],
      "text/plain": [
       "Average reward over last 5000 steps: 2.21\n"
      ]
     },
     "metadata": {},
     "output_type": "display_data"
    },
    {
     "data": {
      "text/html": [
       "<pre style=\"white-space:pre;overflow-x:auto;line-height:normal;font-family:Menlo,'DejaVu Sans Mono',consolas,'Courier New',monospace\">Average reward over last 5000 steps: 2.52\n",
       "</pre>\n"
      ],
      "text/plain": [
       "Average reward over last 5000 steps: 2.52\n"
      ]
     },
     "metadata": {},
     "output_type": "display_data"
    },
    {
     "data": {
      "text/html": [
       "<pre style=\"white-space:pre;overflow-x:auto;line-height:normal;font-family:Menlo,'DejaVu Sans Mono',consolas,'Courier New',monospace\">Average reward over last 5000 steps: 2.75\n",
       "</pre>\n"
      ],
      "text/plain": [
       "Average reward over last 5000 steps: 2.75\n"
      ]
     },
     "metadata": {},
     "output_type": "display_data"
    },
    {
     "data": {
      "text/html": [
       "<pre style=\"white-space:pre;overflow-x:auto;line-height:normal;font-family:Menlo,'DejaVu Sans Mono',consolas,'Courier New',monospace\">Average reward over last 5000 steps: 2.86\n",
       "</pre>\n"
      ],
      "text/plain": [
       "Average reward over last 5000 steps: 2.86\n"
      ]
     },
     "metadata": {},
     "output_type": "display_data"
    },
    {
     "data": {
      "text/html": [
       "<pre style=\"white-space:pre;overflow-x:auto;line-height:normal;font-family:Menlo,'DejaVu Sans Mono',consolas,'Courier New',monospace\">Average reward over last 5000 steps: 2.69\n",
       "</pre>\n"
      ],
      "text/plain": [
       "Average reward over last 5000 steps: 2.69\n"
      ]
     },
     "metadata": {},
     "output_type": "display_data"
    },
    {
     "data": {
      "text/html": [
       "<pre style=\"white-space:pre;overflow-x:auto;line-height:normal;font-family:Menlo,'DejaVu Sans Mono',consolas,'Courier New',monospace\">Average reward over last 5000 steps: 2.96\n",
       "</pre>\n"
      ],
      "text/plain": [
       "Average reward over last 5000 steps: 2.96\n"
      ]
     },
     "metadata": {},
     "output_type": "display_data"
    },
    {
     "data": {
      "text/html": [
       "<pre style=\"white-space:pre;overflow-x:auto;line-height:normal;font-family:Menlo,'DejaVu Sans Mono',consolas,'Courier New',monospace\">Average reward over last 5000 steps: 2.70\n",
       "</pre>\n"
      ],
      "text/plain": [
       "Average reward over last 5000 steps: 2.70\n"
      ]
     },
     "metadata": {},
     "output_type": "display_data"
    },
    {
     "data": {
      "text/html": [
       "<pre style=\"white-space:pre;overflow-x:auto;line-height:normal;font-family:Menlo,'DejaVu Sans Mono',consolas,'Courier New',monospace\">Average reward over last 5000 steps: 2.77\n",
       "</pre>\n"
      ],
      "text/plain": [
       "Average reward over last 5000 steps: 2.77\n"
      ]
     },
     "metadata": {},
     "output_type": "display_data"
    },
    {
     "data": {
      "text/html": [
       "<pre style=\"white-space:pre;overflow-x:auto;line-height:normal;font-family:Menlo,'DejaVu Sans Mono',consolas,'Courier New',monospace\">Average reward over last 5000 steps: 2.99\n",
       "</pre>\n"
      ],
      "text/plain": [
       "Average reward over last 5000 steps: 2.99\n"
      ]
     },
     "metadata": {},
     "output_type": "display_data"
    },
    {
     "data": {
      "text/html": [
       "<pre style=\"white-space:pre;overflow-x:auto;line-height:normal;font-family:Menlo,'DejaVu Sans Mono',consolas,'Courier New',monospace\">Average reward over last 5000 steps: 2.76\n",
       "</pre>\n"
      ],
      "text/plain": [
       "Average reward over last 5000 steps: 2.76\n"
      ]
     },
     "metadata": {},
     "output_type": "display_data"
    },
    {
     "data": {
      "text/html": [
       "<pre style=\"white-space:pre;overflow-x:auto;line-height:normal;font-family:Menlo,'DejaVu Sans Mono',consolas,'Courier New',monospace\">Average reward over last 5000 steps: 2.90\n",
       "</pre>\n"
      ],
      "text/plain": [
       "Average reward over last 5000 steps: 2.90\n"
      ]
     },
     "metadata": {},
     "output_type": "display_data"
    },
    {
     "data": {
      "text/html": [
       "<pre style=\"white-space:pre;overflow-x:auto;line-height:normal;font-family:Menlo,'DejaVu Sans Mono',consolas,'Courier New',monospace\">Average reward over last 5000 steps: 2.97\n",
       "</pre>\n"
      ],
      "text/plain": [
       "Average reward over last 5000 steps: 2.97\n"
      ]
     },
     "metadata": {},
     "output_type": "display_data"
    },
    {
     "data": {
      "text/html": [
       "<pre style=\"white-space:pre;overflow-x:auto;line-height:normal;font-family:Menlo,'DejaVu Sans Mono',consolas,'Courier New',monospace\">Average reward over last 5000 steps: 2.71\n",
       "</pre>\n"
      ],
      "text/plain": [
       "Average reward over last 5000 steps: 2.71\n"
      ]
     },
     "metadata": {},
     "output_type": "display_data"
    },
    {
     "data": {
      "text/html": [
       "<pre style=\"white-space:pre;overflow-x:auto;line-height:normal;font-family:Menlo,'DejaVu Sans Mono',consolas,'Courier New',monospace\">Average reward over last 5000 steps: 2.84\n",
       "</pre>\n"
      ],
      "text/plain": [
       "Average reward over last 5000 steps: 2.84\n"
      ]
     },
     "metadata": {},
     "output_type": "display_data"
    },
    {
     "data": {
      "text/html": [
       "<pre style=\"white-space:pre;overflow-x:auto;line-height:normal;font-family:Menlo,'DejaVu Sans Mono',consolas,'Courier New',monospace\">Average reward over last 5000 steps: 2.81\n",
       "</pre>\n"
      ],
      "text/plain": [
       "Average reward over last 5000 steps: 2.81\n"
      ]
     },
     "metadata": {},
     "output_type": "display_data"
    },
    {
     "data": {
      "text/html": [
       "<pre style=\"white-space:pre;overflow-x:auto;line-height:normal;font-family:Menlo,'DejaVu Sans Mono',consolas,'Courier New',monospace\">Average reward over last 5000 steps: 2.76\n",
       "</pre>\n"
      ],
      "text/plain": [
       "Average reward over last 5000 steps: 2.76\n"
      ]
     },
     "metadata": {},
     "output_type": "display_data"
    },
    {
     "data": {
      "text/html": [
       "<pre style=\"white-space:pre;overflow-x:auto;line-height:normal;font-family:Menlo,'DejaVu Sans Mono',consolas,'Courier New',monospace\">Average reward over last 5000 steps: 2.77\n",
       "</pre>\n"
      ],
      "text/plain": [
       "Average reward over last 5000 steps: 2.77\n"
      ]
     },
     "metadata": {},
     "output_type": "display_data"
    },
    {
     "data": {
      "text/html": [
       "<pre style=\"white-space:pre;overflow-x:auto;line-height:normal;font-family:Menlo,'DejaVu Sans Mono',consolas,'Courier New',monospace\">Average reward over last 5000 steps: 2.73\n",
       "</pre>\n"
      ],
      "text/plain": [
       "Average reward over last 5000 steps: 2.73\n"
      ]
     },
     "metadata": {},
     "output_type": "display_data"
    },
    {
     "data": {
      "text/html": [
       "<pre style=\"white-space:pre;overflow-x:auto;line-height:normal;font-family:Menlo,'DejaVu Sans Mono',consolas,'Courier New',monospace\">Average reward over last 5000 steps: 3.07\n",
       "</pre>\n"
      ],
      "text/plain": [
       "Average reward over last 5000 steps: 3.07\n"
      ]
     },
     "metadata": {},
     "output_type": "display_data"
    },
    {
     "data": {
      "text/html": [
       "<pre style=\"white-space:pre;overflow-x:auto;line-height:normal;font-family:Menlo,'DejaVu Sans Mono',consolas,'Courier New',monospace\">Average reward over last 5000 steps: 2.40\n",
       "</pre>\n"
      ],
      "text/plain": [
       "Average reward over last 5000 steps: 2.40\n"
      ]
     },
     "metadata": {},
     "output_type": "display_data"
    },
    {
     "data": {
      "text/html": [
       "<pre style=\"white-space:pre;overflow-x:auto;line-height:normal;font-family:Menlo,'DejaVu Sans Mono',consolas,'Courier New',monospace\">Average reward over last 5000 steps: 2.83\n",
       "</pre>\n"
      ],
      "text/plain": [
       "Average reward over last 5000 steps: 2.83\n"
      ]
     },
     "metadata": {},
     "output_type": "display_data"
    },
    {
     "data": {
      "text/html": [
       "<pre style=\"white-space:pre;overflow-x:auto;line-height:normal;font-family:Menlo,'DejaVu Sans Mono',consolas,'Courier New',monospace\">Average reward over last 5000 steps: 2.87\n",
       "</pre>\n"
      ],
      "text/plain": [
       "Average reward over last 5000 steps: 2.87\n"
      ]
     },
     "metadata": {},
     "output_type": "display_data"
    },
    {
     "data": {
      "text/html": [
       "<pre style=\"white-space:pre;overflow-x:auto;line-height:normal;font-family:Menlo,'DejaVu Sans Mono',consolas,'Courier New',monospace\">Average reward over last 5000 steps: 2.67\n",
       "</pre>\n"
      ],
      "text/plain": [
       "Average reward over last 5000 steps: 2.67\n"
      ]
     },
     "metadata": {},
     "output_type": "display_data"
    },
    {
     "data": {
      "text/html": [
       "<pre style=\"white-space:pre;overflow-x:auto;line-height:normal;font-family:Menlo,'DejaVu Sans Mono',consolas,'Courier New',monospace\">Average reward over last 5000 steps: 2.66\n",
       "</pre>\n"
      ],
      "text/plain": [
       "Average reward over last 5000 steps: 2.66\n"
      ]
     },
     "metadata": {},
     "output_type": "display_data"
    },
    {
     "data": {
      "text/html": [
       "<pre style=\"white-space:pre;overflow-x:auto;line-height:normal;font-family:Menlo,'DejaVu Sans Mono',consolas,'Courier New',monospace\">Average reward over last 5000 steps: 2.96\n",
       "</pre>\n"
      ],
      "text/plain": [
       "Average reward over last 5000 steps: 2.96\n"
      ]
     },
     "metadata": {},
     "output_type": "display_data"
    },
    {
     "data": {
      "text/html": [
       "<pre style=\"white-space:pre;overflow-x:auto;line-height:normal;font-family:Menlo,'DejaVu Sans Mono',consolas,'Courier New',monospace\">Average reward over last 5000 steps: 2.81\n",
       "</pre>\n"
      ],
      "text/plain": [
       "Average reward over last 5000 steps: 2.81\n"
      ]
     },
     "metadata": {},
     "output_type": "display_data"
    },
    {
     "data": {
      "text/html": [
       "<pre style=\"white-space:pre;overflow-x:auto;line-height:normal;font-family:Menlo,'DejaVu Sans Mono',consolas,'Courier New',monospace\">Average reward over last 5000 steps: 2.78\n",
       "</pre>\n"
      ],
      "text/plain": [
       "Average reward over last 5000 steps: 2.78\n"
      ]
     },
     "metadata": {},
     "output_type": "display_data"
    },
    {
     "data": {
      "text/html": [
       "<pre style=\"white-space:pre;overflow-x:auto;line-height:normal;font-family:Menlo,'DejaVu Sans Mono',consolas,'Courier New',monospace\">Average reward over last 5000 steps: 3.19\n",
       "</pre>\n"
      ],
      "text/plain": [
       "Average reward over last 5000 steps: 3.19\n"
      ]
     },
     "metadata": {},
     "output_type": "display_data"
    },
    {
     "data": {
      "text/html": [
       "<pre style=\"white-space:pre;overflow-x:auto;line-height:normal;font-family:Menlo,'DejaVu Sans Mono',consolas,'Courier New',monospace\">Average reward over last 5000 steps: 3.05\n",
       "</pre>\n"
      ],
      "text/plain": [
       "Average reward over last 5000 steps: 3.05\n"
      ]
     },
     "metadata": {},
     "output_type": "display_data"
    },
    {
     "data": {
      "text/html": [
       "<pre style=\"white-space:pre;overflow-x:auto;line-height:normal;font-family:Menlo,'DejaVu Sans Mono',consolas,'Courier New',monospace\">Average reward over last 5000 steps: 2.65\n",
       "</pre>\n"
      ],
      "text/plain": [
       "Average reward over last 5000 steps: 2.65\n"
      ]
     },
     "metadata": {},
     "output_type": "display_data"
    },
    {
     "data": {
      "text/html": [
       "<pre style=\"white-space:pre;overflow-x:auto;line-height:normal;font-family:Menlo,'DejaVu Sans Mono',consolas,'Courier New',monospace\">Average reward over last 5000 steps: 2.69\n",
       "</pre>\n"
      ],
      "text/plain": [
       "Average reward over last 5000 steps: 2.69\n"
      ]
     },
     "metadata": {},
     "output_type": "display_data"
    },
    {
     "data": {
      "text/html": [
       "<pre style=\"white-space:pre;overflow-x:auto;line-height:normal;font-family:Menlo,'DejaVu Sans Mono',consolas,'Courier New',monospace\">Average reward over last 5000 steps: 2.64\n",
       "</pre>\n"
      ],
      "text/plain": [
       "Average reward over last 5000 steps: 2.64\n"
      ]
     },
     "metadata": {},
     "output_type": "display_data"
    },
    {
     "data": {
      "text/html": [
       "<pre style=\"white-space:pre;overflow-x:auto;line-height:normal;font-family:Menlo,'DejaVu Sans Mono',consolas,'Courier New',monospace\">Average reward over last 5000 steps: 2.89\n",
       "</pre>\n"
      ],
      "text/plain": [
       "Average reward over last 5000 steps: 2.89\n"
      ]
     },
     "metadata": {},
     "output_type": "display_data"
    },
    {
     "data": {
      "text/html": [
       "<pre style=\"white-space:pre;overflow-x:auto;line-height:normal;font-family:Menlo,'DejaVu Sans Mono',consolas,'Courier New',monospace\">Average reward over last 5000 steps: 2.61\n",
       "</pre>\n"
      ],
      "text/plain": [
       "Average reward over last 5000 steps: 2.61\n"
      ]
     },
     "metadata": {},
     "output_type": "display_data"
    },
    {
     "data": {
      "text/html": [
       "<pre style=\"white-space:pre;overflow-x:auto;line-height:normal;font-family:Menlo,'DejaVu Sans Mono',consolas,'Courier New',monospace\">Average reward over last 5000 steps: 2.95\n",
       "</pre>\n"
      ],
      "text/plain": [
       "Average reward over last 5000 steps: 2.95\n"
      ]
     },
     "metadata": {},
     "output_type": "display_data"
    },
    {
     "data": {
      "text/html": [
       "<pre style=\"white-space:pre;overflow-x:auto;line-height:normal;font-family:Menlo,'DejaVu Sans Mono',consolas,'Courier New',monospace\">Average reward over last 5000 steps: 2.73\n",
       "</pre>\n"
      ],
      "text/plain": [
       "Average reward over last 5000 steps: 2.73\n"
      ]
     },
     "metadata": {},
     "output_type": "display_data"
    },
    {
     "data": {
      "text/html": [
       "<pre style=\"white-space:pre;overflow-x:auto;line-height:normal;font-family:Menlo,'DejaVu Sans Mono',consolas,'Courier New',monospace\">Average reward over last 5000 steps: 2.71\n",
       "</pre>\n"
      ],
      "text/plain": [
       "Average reward over last 5000 steps: 2.71\n"
      ]
     },
     "metadata": {},
     "output_type": "display_data"
    },
    {
     "data": {
      "text/html": [
       "<pre style=\"white-space:pre;overflow-x:auto;line-height:normal;font-family:Menlo,'DejaVu Sans Mono',consolas,'Courier New',monospace\">Average reward over last 5000 steps: 2.68\n",
       "</pre>\n"
      ],
      "text/plain": [
       "Average reward over last 5000 steps: 2.68\n"
      ]
     },
     "metadata": {},
     "output_type": "display_data"
    },
    {
     "data": {
      "text/html": [
       "<pre style=\"white-space:pre;overflow-x:auto;line-height:normal;font-family:Menlo,'DejaVu Sans Mono',consolas,'Courier New',monospace\">Average reward over last 5000 steps: 2.69\n",
       "</pre>\n"
      ],
      "text/plain": [
       "Average reward over last 5000 steps: 2.69\n"
      ]
     },
     "metadata": {},
     "output_type": "display_data"
    },
    {
     "data": {
      "text/html": [
       "<pre style=\"white-space:pre;overflow-x:auto;line-height:normal;font-family:Menlo,'DejaVu Sans Mono',consolas,'Courier New',monospace\">Average reward over last 5000 steps: 2.68\n",
       "</pre>\n"
      ],
      "text/plain": [
       "Average reward over last 5000 steps: 2.68\n"
      ]
     },
     "metadata": {},
     "output_type": "display_data"
    },
    {
     "data": {
      "text/html": [
       "<pre style=\"white-space:pre;overflow-x:auto;line-height:normal;font-family:Menlo,'DejaVu Sans Mono',consolas,'Courier New',monospace\">Average reward over last 5000 steps: 2.86\n",
       "</pre>\n"
      ],
      "text/plain": [
       "Average reward over last 5000 steps: 2.86\n"
      ]
     },
     "metadata": {},
     "output_type": "display_data"
    },
    {
     "data": {
      "text/html": [
       "<pre style=\"white-space:pre;overflow-x:auto;line-height:normal;font-family:Menlo,'DejaVu Sans Mono',consolas,'Courier New',monospace\">Average reward over last 5000 steps: 2.60\n",
       "</pre>\n"
      ],
      "text/plain": [
       "Average reward over last 5000 steps: 2.60\n"
      ]
     },
     "metadata": {},
     "output_type": "display_data"
    },
    {
     "data": {
      "text/html": [
       "<pre style=\"white-space:pre;overflow-x:auto;line-height:normal;font-family:Menlo,'DejaVu Sans Mono',consolas,'Courier New',monospace\">Average reward over last 5000 steps: 3.15\n",
       "</pre>\n"
      ],
      "text/plain": [
       "Average reward over last 5000 steps: 3.15\n"
      ]
     },
     "metadata": {},
     "output_type": "display_data"
    },
    {
     "data": {
      "text/html": [
       "<pre style=\"white-space:pre;overflow-x:auto;line-height:normal;font-family:Menlo,'DejaVu Sans Mono',consolas,'Courier New',monospace\">Average reward over last 5000 steps: 2.85\n",
       "</pre>\n"
      ],
      "text/plain": [
       "Average reward over last 5000 steps: 2.85\n"
      ]
     },
     "metadata": {},
     "output_type": "display_data"
    },
    {
     "data": {
      "text/html": [
       "<pre style=\"white-space:pre;overflow-x:auto;line-height:normal;font-family:Menlo,'DejaVu Sans Mono',consolas,'Courier New',monospace\">Average reward over last 5000 steps: 2.69\n",
       "</pre>\n"
      ],
      "text/plain": [
       "Average reward over last 5000 steps: 2.69\n"
      ]
     },
     "metadata": {},
     "output_type": "display_data"
    },
    {
     "data": {
      "text/html": [
       "<pre style=\"white-space:pre;overflow-x:auto;line-height:normal;font-family:Menlo,'DejaVu Sans Mono',consolas,'Courier New',monospace\">Average reward over last 5000 steps: 2.73\n",
       "</pre>\n"
      ],
      "text/plain": [
       "Average reward over last 5000 steps: 2.73\n"
      ]
     },
     "metadata": {},
     "output_type": "display_data"
    },
    {
     "data": {
      "text/html": [
       "<pre style=\"white-space:pre;overflow-x:auto;line-height:normal;font-family:Menlo,'DejaVu Sans Mono',consolas,'Courier New',monospace\">Average reward over last 5000 steps: 2.77\n",
       "</pre>\n"
      ],
      "text/plain": [
       "Average reward over last 5000 steps: 2.77\n"
      ]
     },
     "metadata": {},
     "output_type": "display_data"
    },
    {
     "data": {
      "text/html": [
       "<pre style=\"white-space:pre;overflow-x:auto;line-height:normal;font-family:Menlo,'DejaVu Sans Mono',consolas,'Courier New',monospace\">Average reward over last 5000 steps: 2.56\n",
       "</pre>\n"
      ],
      "text/plain": [
       "Average reward over last 5000 steps: 2.56\n"
      ]
     },
     "metadata": {},
     "output_type": "display_data"
    },
    {
     "data": {
      "text/html": [
       "<pre style=\"white-space:pre;overflow-x:auto;line-height:normal;font-family:Menlo,'DejaVu Sans Mono',consolas,'Courier New',monospace\">Average reward over last 5000 steps: 2.88\n",
       "</pre>\n"
      ],
      "text/plain": [
       "Average reward over last 5000 steps: 2.88\n"
      ]
     },
     "metadata": {},
     "output_type": "display_data"
    },
    {
     "data": {
      "text/html": [
       "<pre style=\"white-space:pre;overflow-x:auto;line-height:normal;font-family:Menlo,'DejaVu Sans Mono',consolas,'Courier New',monospace\">Average reward over last 5000 steps: 3.19\n",
       "</pre>\n"
      ],
      "text/plain": [
       "Average reward over last 5000 steps: 3.19\n"
      ]
     },
     "metadata": {},
     "output_type": "display_data"
    },
    {
     "data": {
      "text/html": [
       "<pre style=\"white-space:pre;overflow-x:auto;line-height:normal;font-family:Menlo,'DejaVu Sans Mono',consolas,'Courier New',monospace\">Average reward over last 5000 steps: 2.57\n",
       "</pre>\n"
      ],
      "text/plain": [
       "Average reward over last 5000 steps: 2.57\n"
      ]
     },
     "metadata": {},
     "output_type": "display_data"
    },
    {
     "data": {
      "text/html": [
       "<pre style=\"white-space:pre;overflow-x:auto;line-height:normal;font-family:Menlo,'DejaVu Sans Mono',consolas,'Courier New',monospace\">Average reward over last 5000 steps: 2.63\n",
       "</pre>\n"
      ],
      "text/plain": [
       "Average reward over last 5000 steps: 2.63\n"
      ]
     },
     "metadata": {},
     "output_type": "display_data"
    },
    {
     "data": {
      "text/html": [
       "<pre style=\"white-space:pre;overflow-x:auto;line-height:normal;font-family:Menlo,'DejaVu Sans Mono',consolas,'Courier New',monospace\">Average reward over last 5000 steps: 2.91\n",
       "</pre>\n"
      ],
      "text/plain": [
       "Average reward over last 5000 steps: 2.91\n"
      ]
     },
     "metadata": {},
     "output_type": "display_data"
    },
    {
     "data": {
      "text/html": [
       "<pre style=\"white-space:pre;overflow-x:auto;line-height:normal;font-family:Menlo,'DejaVu Sans Mono',consolas,'Courier New',monospace\">Average reward over last 5000 steps: 2.79\n",
       "</pre>\n"
      ],
      "text/plain": [
       "Average reward over last 5000 steps: 2.79\n"
      ]
     },
     "metadata": {},
     "output_type": "display_data"
    },
    {
     "data": {
      "text/html": [
       "<pre style=\"white-space:pre;overflow-x:auto;line-height:normal;font-family:Menlo,'DejaVu Sans Mono',consolas,'Courier New',monospace\">Average reward over last 5000 steps: 2.95\n",
       "</pre>\n"
      ],
      "text/plain": [
       "Average reward over last 5000 steps: 2.95\n"
      ]
     },
     "metadata": {},
     "output_type": "display_data"
    },
    {
     "data": {
      "text/html": [
       "<pre style=\"white-space:pre;overflow-x:auto;line-height:normal;font-family:Menlo,'DejaVu Sans Mono',consolas,'Courier New',monospace\">Average reward over last 5000 steps: 2.98\n",
       "</pre>\n"
      ],
      "text/plain": [
       "Average reward over last 5000 steps: 2.98\n"
      ]
     },
     "metadata": {},
     "output_type": "display_data"
    },
    {
     "data": {
      "text/html": [
       "<pre style=\"white-space:pre;overflow-x:auto;line-height:normal;font-family:Menlo,'DejaVu Sans Mono',consolas,'Courier New',monospace\">Average reward over last 5000 steps: 2.92\n",
       "</pre>\n"
      ],
      "text/plain": [
       "Average reward over last 5000 steps: 2.92\n"
      ]
     },
     "metadata": {},
     "output_type": "display_data"
    },
    {
     "data": {
      "text/html": [
       "<pre style=\"white-space:pre;overflow-x:auto;line-height:normal;font-family:Menlo,'DejaVu Sans Mono',consolas,'Courier New',monospace\">Average reward over last 5000 steps: 2.96\n",
       "</pre>\n"
      ],
      "text/plain": [
       "Average reward over last 5000 steps: 2.96\n"
      ]
     },
     "metadata": {},
     "output_type": "display_data"
    },
    {
     "data": {
      "text/html": [
       "<pre style=\"white-space:pre;overflow-x:auto;line-height:normal;font-family:Menlo,'DejaVu Sans Mono',consolas,'Courier New',monospace\">Average reward over last 5000 steps: 2.64\n",
       "</pre>\n"
      ],
      "text/plain": [
       "Average reward over last 5000 steps: 2.64\n"
      ]
     },
     "metadata": {},
     "output_type": "display_data"
    },
    {
     "data": {
      "text/html": [
       "<pre style=\"white-space:pre;overflow-x:auto;line-height:normal;font-family:Menlo,'DejaVu Sans Mono',consolas,'Courier New',monospace\">Average reward over last 5000 steps: 2.87\n",
       "</pre>\n"
      ],
      "text/plain": [
       "Average reward over last 5000 steps: 2.87\n"
      ]
     },
     "metadata": {},
     "output_type": "display_data"
    },
    {
     "data": {
      "text/html": [
       "<pre style=\"white-space:pre;overflow-x:auto;line-height:normal;font-family:Menlo,'DejaVu Sans Mono',consolas,'Courier New',monospace\">Average reward over last 5000 steps: 2.56\n",
       "</pre>\n"
      ],
      "text/plain": [
       "Average reward over last 5000 steps: 2.56\n"
      ]
     },
     "metadata": {},
     "output_type": "display_data"
    },
    {
     "data": {
      "text/html": [
       "<pre style=\"white-space:pre;overflow-x:auto;line-height:normal;font-family:Menlo,'DejaVu Sans Mono',consolas,'Courier New',monospace\">Average reward over last 5000 steps: 2.84\n",
       "</pre>\n"
      ],
      "text/plain": [
       "Average reward over last 5000 steps: 2.84\n"
      ]
     },
     "metadata": {},
     "output_type": "display_data"
    },
    {
     "data": {
      "text/html": [
       "<pre style=\"white-space:pre;overflow-x:auto;line-height:normal;font-family:Menlo,'DejaVu Sans Mono',consolas,'Courier New',monospace\">Average reward over last 5000 steps: 2.86\n",
       "</pre>\n"
      ],
      "text/plain": [
       "Average reward over last 5000 steps: 2.86\n"
      ]
     },
     "metadata": {},
     "output_type": "display_data"
    },
    {
     "data": {
      "text/html": [
       "<pre style=\"white-space:pre;overflow-x:auto;line-height:normal;font-family:Menlo,'DejaVu Sans Mono',consolas,'Courier New',monospace\">Average reward over last 5000 steps: 2.79\n",
       "</pre>\n"
      ],
      "text/plain": [
       "Average reward over last 5000 steps: 2.79\n"
      ]
     },
     "metadata": {},
     "output_type": "display_data"
    },
    {
     "data": {
      "text/html": [
       "<pre style=\"white-space:pre;overflow-x:auto;line-height:normal;font-family:Menlo,'DejaVu Sans Mono',consolas,'Courier New',monospace\">Average reward over last 5000 steps: 2.72\n",
       "</pre>\n"
      ],
      "text/plain": [
       "Average reward over last 5000 steps: 2.72\n"
      ]
     },
     "metadata": {},
     "output_type": "display_data"
    },
    {
     "data": {
      "text/html": [
       "<pre style=\"white-space:pre;overflow-x:auto;line-height:normal;font-family:Menlo,'DejaVu Sans Mono',consolas,'Courier New',monospace\">Average reward over last 5000 steps: 2.61\n",
       "</pre>\n"
      ],
      "text/plain": [
       "Average reward over last 5000 steps: 2.61\n"
      ]
     },
     "metadata": {},
     "output_type": "display_data"
    },
    {
     "data": {
      "text/html": [
       "<pre style=\"white-space:pre;overflow-x:auto;line-height:normal;font-family:Menlo,'DejaVu Sans Mono',consolas,'Courier New',monospace\">Average reward over last 5000 steps: 2.76\n",
       "</pre>\n"
      ],
      "text/plain": [
       "Average reward over last 5000 steps: 2.76\n"
      ]
     },
     "metadata": {},
     "output_type": "display_data"
    },
    {
     "data": {
      "text/html": [
       "<pre style=\"white-space:pre;overflow-x:auto;line-height:normal;font-family:Menlo,'DejaVu Sans Mono',consolas,'Courier New',monospace\">Average reward over last 5000 steps: 2.97\n",
       "</pre>\n"
      ],
      "text/plain": [
       "Average reward over last 5000 steps: 2.97\n"
      ]
     },
     "metadata": {},
     "output_type": "display_data"
    },
    {
     "data": {
      "text/html": [
       "<pre style=\"white-space:pre;overflow-x:auto;line-height:normal;font-family:Menlo,'DejaVu Sans Mono',consolas,'Courier New',monospace\">Average reward over last 5000 steps: 2.59\n",
       "</pre>\n"
      ],
      "text/plain": [
       "Average reward over last 5000 steps: 2.59\n"
      ]
     },
     "metadata": {},
     "output_type": "display_data"
    },
    {
     "data": {
      "text/html": [
       "<pre style=\"white-space:pre;overflow-x:auto;line-height:normal;font-family:Menlo,'DejaVu Sans Mono',consolas,'Courier New',monospace\">Average reward over last 5000 steps: 2.41\n",
       "</pre>\n"
      ],
      "text/plain": [
       "Average reward over last 5000 steps: 2.41\n"
      ]
     },
     "metadata": {},
     "output_type": "display_data"
    },
    {
     "data": {
      "text/html": [
       "<pre style=\"white-space:pre;overflow-x:auto;line-height:normal;font-family:Menlo,'DejaVu Sans Mono',consolas,'Courier New',monospace\">Average reward over last 5000 steps: 2.62\n",
       "</pre>\n"
      ],
      "text/plain": [
       "Average reward over last 5000 steps: 2.62\n"
      ]
     },
     "metadata": {},
     "output_type": "display_data"
    },
    {
     "data": {
      "text/html": [
       "<pre style=\"white-space:pre;overflow-x:auto;line-height:normal;font-family:Menlo,'DejaVu Sans Mono',consolas,'Courier New',monospace\">Average reward over last 5000 steps: 2.71\n",
       "</pre>\n"
      ],
      "text/plain": [
       "Average reward over last 5000 steps: 2.71\n"
      ]
     },
     "metadata": {},
     "output_type": "display_data"
    },
    {
     "data": {
      "text/html": [
       "<pre style=\"white-space:pre;overflow-x:auto;line-height:normal;font-family:Menlo,'DejaVu Sans Mono',consolas,'Courier New',monospace\">Average reward over last 5000 steps: 2.50\n",
       "</pre>\n"
      ],
      "text/plain": [
       "Average reward over last 5000 steps: 2.50\n"
      ]
     },
     "metadata": {},
     "output_type": "display_data"
    },
    {
     "data": {
      "text/html": [
       "<pre style=\"white-space:pre;overflow-x:auto;line-height:normal;font-family:Menlo,'DejaVu Sans Mono',consolas,'Courier New',monospace\">Average reward over last 5000 steps: 2.65\n",
       "</pre>\n"
      ],
      "text/plain": [
       "Average reward over last 5000 steps: 2.65\n"
      ]
     },
     "metadata": {},
     "output_type": "display_data"
    },
    {
     "data": {
      "text/html": [
       "<pre style=\"white-space:pre;overflow-x:auto;line-height:normal;font-family:Menlo,'DejaVu Sans Mono',consolas,'Courier New',monospace\">Average reward over last 5000 steps: 2.60\n",
       "</pre>\n"
      ],
      "text/plain": [
       "Average reward over last 5000 steps: 2.60\n"
      ]
     },
     "metadata": {},
     "output_type": "display_data"
    },
    {
     "data": {
      "text/html": [
       "<pre style=\"white-space:pre;overflow-x:auto;line-height:normal;font-family:Menlo,'DejaVu Sans Mono',consolas,'Courier New',monospace\">Average reward over last 5000 steps: 2.72\n",
       "</pre>\n"
      ],
      "text/plain": [
       "Average reward over last 5000 steps: 2.72\n"
      ]
     },
     "metadata": {},
     "output_type": "display_data"
    },
    {
     "data": {
      "text/html": [
       "<pre style=\"white-space:pre;overflow-x:auto;line-height:normal;font-family:Menlo,'DejaVu Sans Mono',consolas,'Courier New',monospace\">Average reward over last 5000 steps: 3.03\n",
       "</pre>\n"
      ],
      "text/plain": [
       "Average reward over last 5000 steps: 3.03\n"
      ]
     },
     "metadata": {},
     "output_type": "display_data"
    },
    {
     "data": {
      "text/html": [
       "<pre style=\"white-space:pre;overflow-x:auto;line-height:normal;font-family:Menlo,'DejaVu Sans Mono',consolas,'Courier New',monospace\">Average reward over last 5000 steps: 3.03\n",
       "</pre>\n"
      ],
      "text/plain": [
       "Average reward over last 5000 steps: 3.03\n"
      ]
     },
     "metadata": {},
     "output_type": "display_data"
    },
    {
     "data": {
      "text/html": [
       "<pre style=\"white-space:pre;overflow-x:auto;line-height:normal;font-family:Menlo,'DejaVu Sans Mono',consolas,'Courier New',monospace\">Average reward over last 5000 steps: 2.71\n",
       "</pre>\n"
      ],
      "text/plain": [
       "Average reward over last 5000 steps: 2.71\n"
      ]
     },
     "metadata": {},
     "output_type": "display_data"
    },
    {
     "data": {
      "text/html": [
       "<pre style=\"white-space:pre;overflow-x:auto;line-height:normal;font-family:Menlo,'DejaVu Sans Mono',consolas,'Courier New',monospace\">Average reward over last 5000 steps: 2.46\n",
       "</pre>\n"
      ],
      "text/plain": [
       "Average reward over last 5000 steps: 2.46\n"
      ]
     },
     "metadata": {},
     "output_type": "display_data"
    },
    {
     "data": {
      "text/html": [
       "<pre style=\"white-space:pre;overflow-x:auto;line-height:normal;font-family:Menlo,'DejaVu Sans Mono',consolas,'Courier New',monospace\">Average reward over last 5000 steps: 2.65\n",
       "</pre>\n"
      ],
      "text/plain": [
       "Average reward over last 5000 steps: 2.65\n"
      ]
     },
     "metadata": {},
     "output_type": "display_data"
    },
    {
     "data": {
      "text/html": [
       "<pre style=\"white-space:pre;overflow-x:auto;line-height:normal;font-family:Menlo,'DejaVu Sans Mono',consolas,'Courier New',monospace\">Average reward over last 5000 steps: 2.88\n",
       "</pre>\n"
      ],
      "text/plain": [
       "Average reward over last 5000 steps: 2.88\n"
      ]
     },
     "metadata": {},
     "output_type": "display_data"
    },
    {
     "data": {
      "text/html": [
       "<pre style=\"white-space:pre;overflow-x:auto;line-height:normal;font-family:Menlo,'DejaVu Sans Mono',consolas,'Courier New',monospace\">Average reward over last 5000 steps: 2.85\n",
       "</pre>\n"
      ],
      "text/plain": [
       "Average reward over last 5000 steps: 2.85\n"
      ]
     },
     "metadata": {},
     "output_type": "display_data"
    },
    {
     "data": {
      "text/html": [
       "<pre style=\"white-space:pre;overflow-x:auto;line-height:normal;font-family:Menlo,'DejaVu Sans Mono',consolas,'Courier New',monospace\">Average reward over last 5000 steps: 2.77\n",
       "</pre>\n"
      ],
      "text/plain": [
       "Average reward over last 5000 steps: 2.77\n"
      ]
     },
     "metadata": {},
     "output_type": "display_data"
    },
    {
     "data": {
      "text/html": [
       "<pre style=\"white-space:pre;overflow-x:auto;line-height:normal;font-family:Menlo,'DejaVu Sans Mono',consolas,'Courier New',monospace\">Average reward over last 5000 steps: 2.71\n",
       "</pre>\n"
      ],
      "text/plain": [
       "Average reward over last 5000 steps: 2.71\n"
      ]
     },
     "metadata": {},
     "output_type": "display_data"
    },
    {
     "data": {
      "text/html": [
       "<pre style=\"white-space:pre;overflow-x:auto;line-height:normal;font-family:Menlo,'DejaVu Sans Mono',consolas,'Courier New',monospace\">Average reward over last 5000 steps: 2.39\n",
       "</pre>\n"
      ],
      "text/plain": [
       "Average reward over last 5000 steps: 2.39\n"
      ]
     },
     "metadata": {},
     "output_type": "display_data"
    },
    {
     "data": {
      "text/html": [
       "<pre style=\"white-space:pre;overflow-x:auto;line-height:normal;font-family:Menlo,'DejaVu Sans Mono',consolas,'Courier New',monospace\">Average reward over last 5000 steps: 2.79\n",
       "</pre>\n"
      ],
      "text/plain": [
       "Average reward over last 5000 steps: 2.79\n"
      ]
     },
     "metadata": {},
     "output_type": "display_data"
    },
    {
     "data": {
      "text/html": [
       "<pre style=\"white-space:pre;overflow-x:auto;line-height:normal;font-family:Menlo,'DejaVu Sans Mono',consolas,'Courier New',monospace\">Average reward over last 5000 steps: 2.95\n",
       "</pre>\n"
      ],
      "text/plain": [
       "Average reward over last 5000 steps: 2.95\n"
      ]
     },
     "metadata": {},
     "output_type": "display_data"
    },
    {
     "data": {
      "text/html": [
       "<pre style=\"white-space:pre;overflow-x:auto;line-height:normal;font-family:Menlo,'DejaVu Sans Mono',consolas,'Courier New',monospace\">Average reward over last 5000 steps: 3.07\n",
       "</pre>\n"
      ],
      "text/plain": [
       "Average reward over last 5000 steps: 3.07\n"
      ]
     },
     "metadata": {},
     "output_type": "display_data"
    },
    {
     "data": {
      "text/html": [
       "<pre style=\"white-space:pre;overflow-x:auto;line-height:normal;font-family:Menlo,'DejaVu Sans Mono',consolas,'Courier New',monospace\">Average reward over last 5000 steps: 2.65\n",
       "</pre>\n"
      ],
      "text/plain": [
       "Average reward over last 5000 steps: 2.65\n"
      ]
     },
     "metadata": {},
     "output_type": "display_data"
    },
    {
     "data": {
      "text/html": [
       "<pre style=\"white-space:pre;overflow-x:auto;line-height:normal;font-family:Menlo,'DejaVu Sans Mono',consolas,'Courier New',monospace\">Already in the final curriculum phase.\n",
       "</pre>\n"
      ],
      "text/plain": [
       "Already in the final curriculum phase.\n"
      ]
     },
     "metadata": {},
     "output_type": "display_data"
    },
    {
     "data": {
      "text/html": [
       "<pre style=\"white-space:pre;overflow-x:auto;line-height:normal;font-family:Menlo,'DejaVu Sans Mono',consolas,'Courier New',monospace\">Average reward over last 5000 steps: 2.82\n",
       "</pre>\n"
      ],
      "text/plain": [
       "Average reward over last 5000 steps: 2.82\n"
      ]
     },
     "metadata": {},
     "output_type": "display_data"
    },
    {
     "data": {
      "text/html": [
       "<pre style=\"white-space:pre;overflow-x:auto;line-height:normal;font-family:Menlo,'DejaVu Sans Mono',consolas,'Courier New',monospace\">Average reward over last 5000 steps: 2.81\n",
       "</pre>\n"
      ],
      "text/plain": [
       "Average reward over last 5000 steps: 2.81\n"
      ]
     },
     "metadata": {},
     "output_type": "display_data"
    },
    {
     "data": {
      "text/html": [
       "<pre style=\"white-space:pre;overflow-x:auto;line-height:normal;font-family:Menlo,'DejaVu Sans Mono',consolas,'Courier New',monospace\">Average reward over last 5000 steps: 2.70\n",
       "</pre>\n"
      ],
      "text/plain": [
       "Average reward over last 5000 steps: 2.70\n"
      ]
     },
     "metadata": {},
     "output_type": "display_data"
    },
    {
     "data": {
      "text/html": [
       "<pre style=\"white-space:pre;overflow-x:auto;line-height:normal;font-family:Menlo,'DejaVu Sans Mono',consolas,'Courier New',monospace\">Average reward over last 5000 steps: 3.03\n",
       "</pre>\n"
      ],
      "text/plain": [
       "Average reward over last 5000 steps: 3.03\n"
      ]
     },
     "metadata": {},
     "output_type": "display_data"
    },
    {
     "data": {
      "text/html": [
       "<pre style=\"white-space:pre;overflow-x:auto;line-height:normal;font-family:Menlo,'DejaVu Sans Mono',consolas,'Courier New',monospace\">Average reward over last 5000 steps: 3.03\n",
       "</pre>\n"
      ],
      "text/plain": [
       "Average reward over last 5000 steps: 3.03\n"
      ]
     },
     "metadata": {},
     "output_type": "display_data"
    },
    {
     "data": {
      "text/html": [
       "<pre style=\"white-space:pre;overflow-x:auto;line-height:normal;font-family:Menlo,'DejaVu Sans Mono',consolas,'Courier New',monospace\">Average reward over last 5000 steps: 2.87\n",
       "</pre>\n"
      ],
      "text/plain": [
       "Average reward over last 5000 steps: 2.87\n"
      ]
     },
     "metadata": {},
     "output_type": "display_data"
    },
    {
     "data": {
      "text/html": [
       "<pre style=\"white-space:pre;overflow-x:auto;line-height:normal;font-family:Menlo,'DejaVu Sans Mono',consolas,'Courier New',monospace\">Average reward over last 5000 steps: 2.67\n",
       "</pre>\n"
      ],
      "text/plain": [
       "Average reward over last 5000 steps: 2.67\n"
      ]
     },
     "metadata": {},
     "output_type": "display_data"
    },
    {
     "data": {
      "text/html": [
       "<pre style=\"white-space:pre;overflow-x:auto;line-height:normal;font-family:Menlo,'DejaVu Sans Mono',consolas,'Courier New',monospace\">Average reward over last 5000 steps: 2.85\n",
       "</pre>\n"
      ],
      "text/plain": [
       "Average reward over last 5000 steps: 2.85\n"
      ]
     },
     "metadata": {},
     "output_type": "display_data"
    },
    {
     "data": {
      "text/html": [
       "<pre style=\"white-space:pre;overflow-x:auto;line-height:normal;font-family:Menlo,'DejaVu Sans Mono',consolas,'Courier New',monospace\">Average reward over last 5000 steps: 2.79\n",
       "</pre>\n"
      ],
      "text/plain": [
       "Average reward over last 5000 steps: 2.79\n"
      ]
     },
     "metadata": {},
     "output_type": "display_data"
    },
    {
     "data": {
      "text/html": [
       "<pre style=\"white-space:pre;overflow-x:auto;line-height:normal;font-family:Menlo,'DejaVu Sans Mono',consolas,'Courier New',monospace\">Average reward over last 5000 steps: 2.70\n",
       "</pre>\n"
      ],
      "text/plain": [
       "Average reward over last 5000 steps: 2.70\n"
      ]
     },
     "metadata": {},
     "output_type": "display_data"
    },
    {
     "data": {
      "text/html": [
       "<pre style=\"white-space:pre;overflow-x:auto;line-height:normal;font-family:Menlo,'DejaVu Sans Mono',consolas,'Courier New',monospace\">Average reward over last 5000 steps: 2.62\n",
       "</pre>\n"
      ],
      "text/plain": [
       "Average reward over last 5000 steps: 2.62\n"
      ]
     },
     "metadata": {},
     "output_type": "display_data"
    },
    {
     "data": {
      "text/html": [
       "<pre style=\"white-space:pre;overflow-x:auto;line-height:normal;font-family:Menlo,'DejaVu Sans Mono',consolas,'Courier New',monospace\">Average reward over last 5000 steps: 2.95\n",
       "</pre>\n"
      ],
      "text/plain": [
       "Average reward over last 5000 steps: 2.95\n"
      ]
     },
     "metadata": {},
     "output_type": "display_data"
    },
    {
     "data": {
      "text/html": [
       "<pre style=\"white-space:pre;overflow-x:auto;line-height:normal;font-family:Menlo,'DejaVu Sans Mono',consolas,'Courier New',monospace\">Average reward over last 5000 steps: 2.83\n",
       "</pre>\n"
      ],
      "text/plain": [
       "Average reward over last 5000 steps: 2.83\n"
      ]
     },
     "metadata": {},
     "output_type": "display_data"
    },
    {
     "data": {
      "text/html": [
       "<pre style=\"white-space:pre;overflow-x:auto;line-height:normal;font-family:Menlo,'DejaVu Sans Mono',consolas,'Courier New',monospace\">Average reward over last 5000 steps: 2.67\n",
       "</pre>\n"
      ],
      "text/plain": [
       "Average reward over last 5000 steps: 2.67\n"
      ]
     },
     "metadata": {},
     "output_type": "display_data"
    },
    {
     "data": {
      "text/html": [
       "<pre style=\"white-space:pre;overflow-x:auto;line-height:normal;font-family:Menlo,'DejaVu Sans Mono',consolas,'Courier New',monospace\">Average reward over last 5000 steps: 2.68\n",
       "</pre>\n"
      ],
      "text/plain": [
       "Average reward over last 5000 steps: 2.68\n"
      ]
     },
     "metadata": {},
     "output_type": "display_data"
    },
    {
     "data": {
      "text/html": [
       "<pre style=\"white-space:pre;overflow-x:auto;line-height:normal;font-family:Menlo,'DejaVu Sans Mono',consolas,'Courier New',monospace\">Average reward over last 5000 steps: 2.85\n",
       "</pre>\n"
      ],
      "text/plain": [
       "Average reward over last 5000 steps: 2.85\n"
      ]
     },
     "metadata": {},
     "output_type": "display_data"
    },
    {
     "data": {
      "text/html": [
       "<pre style=\"white-space:pre;overflow-x:auto;line-height:normal;font-family:Menlo,'DejaVu Sans Mono',consolas,'Courier New',monospace\">Average reward over last 5000 steps: 2.75\n",
       "</pre>\n"
      ],
      "text/plain": [
       "Average reward over last 5000 steps: 2.75\n"
      ]
     },
     "metadata": {},
     "output_type": "display_data"
    },
    {
     "data": {
      "text/html": [
       "<pre style=\"white-space:pre;overflow-x:auto;line-height:normal;font-family:Menlo,'DejaVu Sans Mono',consolas,'Courier New',monospace\">Average reward over last 5000 steps: 3.04\n",
       "</pre>\n"
      ],
      "text/plain": [
       "Average reward over last 5000 steps: 3.04\n"
      ]
     },
     "metadata": {},
     "output_type": "display_data"
    },
    {
     "data": {
      "text/html": [
       "<pre style=\"white-space:pre;overflow-x:auto;line-height:normal;font-family:Menlo,'DejaVu Sans Mono',consolas,'Courier New',monospace\">Average reward over last 5000 steps: 2.89\n",
       "</pre>\n"
      ],
      "text/plain": [
       "Average reward over last 5000 steps: 2.89\n"
      ]
     },
     "metadata": {},
     "output_type": "display_data"
    },
    {
     "data": {
      "text/html": [
       "<pre style=\"white-space:pre;overflow-x:auto;line-height:normal;font-family:Menlo,'DejaVu Sans Mono',consolas,'Courier New',monospace\">Average reward over last 5000 steps: 2.96\n",
       "</pre>\n"
      ],
      "text/plain": [
       "Average reward over last 5000 steps: 2.96\n"
      ]
     },
     "metadata": {},
     "output_type": "display_data"
    },
    {
     "data": {
      "text/html": [
       "<pre style=\"white-space:pre;overflow-x:auto;line-height:normal;font-family:Menlo,'DejaVu Sans Mono',consolas,'Courier New',monospace\">Average reward over last 5000 steps: 2.85\n",
       "</pre>\n"
      ],
      "text/plain": [
       "Average reward over last 5000 steps: 2.85\n"
      ]
     },
     "metadata": {},
     "output_type": "display_data"
    },
    {
     "data": {
      "text/html": [
       "<pre style=\"white-space:pre;overflow-x:auto;line-height:normal;font-family:Menlo,'DejaVu Sans Mono',consolas,'Courier New',monospace\">Average reward over last 5000 steps: 3.37\n",
       "</pre>\n"
      ],
      "text/plain": [
       "Average reward over last 5000 steps: 3.37\n"
      ]
     },
     "metadata": {},
     "output_type": "display_data"
    },
    {
     "data": {
      "text/html": [
       "<pre style=\"white-space:pre;overflow-x:auto;line-height:normal;font-family:Menlo,'DejaVu Sans Mono',consolas,'Courier New',monospace\">Average reward over last 5000 steps: 2.83\n",
       "</pre>\n"
      ],
      "text/plain": [
       "Average reward over last 5000 steps: 2.83\n"
      ]
     },
     "metadata": {},
     "output_type": "display_data"
    },
    {
     "data": {
      "text/html": [
       "<pre style=\"white-space:pre;overflow-x:auto;line-height:normal;font-family:Menlo,'DejaVu Sans Mono',consolas,'Courier New',monospace\">Average reward over last 5000 steps: 3.21\n",
       "</pre>\n"
      ],
      "text/plain": [
       "Average reward over last 5000 steps: 3.21\n"
      ]
     },
     "metadata": {},
     "output_type": "display_data"
    },
    {
     "data": {
      "text/html": [
       "<pre style=\"white-space:pre;overflow-x:auto;line-height:normal;font-family:Menlo,'DejaVu Sans Mono',consolas,'Courier New',monospace\">Average reward over last 5000 steps: 3.08\n",
       "</pre>\n"
      ],
      "text/plain": [
       "Average reward over last 5000 steps: 3.08\n"
      ]
     },
     "metadata": {},
     "output_type": "display_data"
    },
    {
     "data": {
      "text/html": [
       "<pre style=\"white-space:pre;overflow-x:auto;line-height:normal;font-family:Menlo,'DejaVu Sans Mono',consolas,'Courier New',monospace\">Average reward over last 5000 steps: 2.80\n",
       "</pre>\n"
      ],
      "text/plain": [
       "Average reward over last 5000 steps: 2.80\n"
      ]
     },
     "metadata": {},
     "output_type": "display_data"
    },
    {
     "data": {
      "text/html": [
       "<pre style=\"white-space:pre;overflow-x:auto;line-height:normal;font-family:Menlo,'DejaVu Sans Mono',consolas,'Courier New',monospace\">Average reward over last 5000 steps: 2.67\n",
       "</pre>\n"
      ],
      "text/plain": [
       "Average reward over last 5000 steps: 2.67\n"
      ]
     },
     "metadata": {},
     "output_type": "display_data"
    },
    {
     "data": {
      "text/html": [
       "<pre style=\"white-space:pre;overflow-x:auto;line-height:normal;font-family:Menlo,'DejaVu Sans Mono',consolas,'Courier New',monospace\">Average reward over last 5000 steps: 2.53\n",
       "</pre>\n"
      ],
      "text/plain": [
       "Average reward over last 5000 steps: 2.53\n"
      ]
     },
     "metadata": {},
     "output_type": "display_data"
    },
    {
     "data": {
      "text/html": [
       "<pre style=\"white-space:pre;overflow-x:auto;line-height:normal;font-family:Menlo,'DejaVu Sans Mono',consolas,'Courier New',monospace\">Average reward over last 5000 steps: 3.20\n",
       "</pre>\n"
      ],
      "text/plain": [
       "Average reward over last 5000 steps: 3.20\n"
      ]
     },
     "metadata": {},
     "output_type": "display_data"
    },
    {
     "data": {
      "text/html": [
       "<pre style=\"white-space:pre;overflow-x:auto;line-height:normal;font-family:Menlo,'DejaVu Sans Mono',consolas,'Courier New',monospace\">Average reward over last 5000 steps: 2.87\n",
       "</pre>\n"
      ],
      "text/plain": [
       "Average reward over last 5000 steps: 2.87\n"
      ]
     },
     "metadata": {},
     "output_type": "display_data"
    },
    {
     "data": {
      "text/html": [
       "<pre style=\"white-space:pre;overflow-x:auto;line-height:normal;font-family:Menlo,'DejaVu Sans Mono',consolas,'Courier New',monospace\">Average reward over last 5000 steps: 3.11\n",
       "</pre>\n"
      ],
      "text/plain": [
       "Average reward over last 5000 steps: 3.11\n"
      ]
     },
     "metadata": {},
     "output_type": "display_data"
    },
    {
     "data": {
      "text/html": [
       "<pre style=\"white-space:pre;overflow-x:auto;line-height:normal;font-family:Menlo,'DejaVu Sans Mono',consolas,'Courier New',monospace\">Average reward over last 5000 steps: 2.89\n",
       "</pre>\n"
      ],
      "text/plain": [
       "Average reward over last 5000 steps: 2.89\n"
      ]
     },
     "metadata": {},
     "output_type": "display_data"
    },
    {
     "data": {
      "text/html": [
       "<pre style=\"white-space:pre;overflow-x:auto;line-height:normal;font-family:Menlo,'DejaVu Sans Mono',consolas,'Courier New',monospace\">Average reward over last 5000 steps: 2.78\n",
       "</pre>\n"
      ],
      "text/plain": [
       "Average reward over last 5000 steps: 2.78\n"
      ]
     },
     "metadata": {},
     "output_type": "display_data"
    },
    {
     "data": {
      "text/html": [
       "<pre style=\"white-space:pre;overflow-x:auto;line-height:normal;font-family:Menlo,'DejaVu Sans Mono',consolas,'Courier New',monospace\">Average reward over last 5000 steps: 3.06\n",
       "</pre>\n"
      ],
      "text/plain": [
       "Average reward over last 5000 steps: 3.06\n"
      ]
     },
     "metadata": {},
     "output_type": "display_data"
    },
    {
     "data": {
      "text/html": [
       "<pre style=\"white-space:pre;overflow-x:auto;line-height:normal;font-family:Menlo,'DejaVu Sans Mono',consolas,'Courier New',monospace\">Average reward over last 5000 steps: 3.04\n",
       "</pre>\n"
      ],
      "text/plain": [
       "Average reward over last 5000 steps: 3.04\n"
      ]
     },
     "metadata": {},
     "output_type": "display_data"
    },
    {
     "data": {
      "text/html": [
       "<pre style=\"white-space:pre;overflow-x:auto;line-height:normal;font-family:Menlo,'DejaVu Sans Mono',consolas,'Courier New',monospace\">Average reward over last 5000 steps: 3.00\n",
       "</pre>\n"
      ],
      "text/plain": [
       "Average reward over last 5000 steps: 3.00\n"
      ]
     },
     "metadata": {},
     "output_type": "display_data"
    },
    {
     "data": {
      "text/html": [
       "<pre style=\"white-space:pre;overflow-x:auto;line-height:normal;font-family:Menlo,'DejaVu Sans Mono',consolas,'Courier New',monospace\">Average reward over last 5000 steps: 3.09\n",
       "</pre>\n"
      ],
      "text/plain": [
       "Average reward over last 5000 steps: 3.09\n"
      ]
     },
     "metadata": {},
     "output_type": "display_data"
    },
    {
     "data": {
      "text/html": [
       "<pre style=\"white-space:pre;overflow-x:auto;line-height:normal;font-family:Menlo,'DejaVu Sans Mono',consolas,'Courier New',monospace\">Average reward over last 5000 steps: 2.72\n",
       "</pre>\n"
      ],
      "text/plain": [
       "Average reward over last 5000 steps: 2.72\n"
      ]
     },
     "metadata": {},
     "output_type": "display_data"
    },
    {
     "data": {
      "text/html": [
       "<pre style=\"white-space:pre;overflow-x:auto;line-height:normal;font-family:Menlo,'DejaVu Sans Mono',consolas,'Courier New',monospace\">Average reward over last 5000 steps: 2.60\n",
       "</pre>\n"
      ],
      "text/plain": [
       "Average reward over last 5000 steps: 2.60\n"
      ]
     },
     "metadata": {},
     "output_type": "display_data"
    },
    {
     "data": {
      "text/html": [
       "<pre style=\"white-space:pre;overflow-x:auto;line-height:normal;font-family:Menlo,'DejaVu Sans Mono',consolas,'Courier New',monospace\">Average reward over last 5000 steps: 3.11\n",
       "</pre>\n"
      ],
      "text/plain": [
       "Average reward over last 5000 steps: 3.11\n"
      ]
     },
     "metadata": {},
     "output_type": "display_data"
    },
    {
     "data": {
      "text/html": [
       "<pre style=\"white-space:pre;overflow-x:auto;line-height:normal;font-family:Menlo,'DejaVu Sans Mono',consolas,'Courier New',monospace\">Average reward over last 5000 steps: 2.71\n",
       "</pre>\n"
      ],
      "text/plain": [
       "Average reward over last 5000 steps: 2.71\n"
      ]
     },
     "metadata": {},
     "output_type": "display_data"
    },
    {
     "data": {
      "text/html": [
       "<pre style=\"white-space:pre;overflow-x:auto;line-height:normal;font-family:Menlo,'DejaVu Sans Mono',consolas,'Courier New',monospace\">Average reward over last 5000 steps: 2.70\n",
       "</pre>\n"
      ],
      "text/plain": [
       "Average reward over last 5000 steps: 2.70\n"
      ]
     },
     "metadata": {},
     "output_type": "display_data"
    },
    {
     "data": {
      "text/html": [
       "<pre style=\"white-space:pre;overflow-x:auto;line-height:normal;font-family:Menlo,'DejaVu Sans Mono',consolas,'Courier New',monospace\">Average reward over last 5000 steps: 2.93\n",
       "</pre>\n"
      ],
      "text/plain": [
       "Average reward over last 5000 steps: 2.93\n"
      ]
     },
     "metadata": {},
     "output_type": "display_data"
    },
    {
     "data": {
      "text/html": [
       "<pre style=\"white-space:pre;overflow-x:auto;line-height:normal;font-family:Menlo,'DejaVu Sans Mono',consolas,'Courier New',monospace\">Average reward over last 5000 steps: 2.50\n",
       "</pre>\n"
      ],
      "text/plain": [
       "Average reward over last 5000 steps: 2.50\n"
      ]
     },
     "metadata": {},
     "output_type": "display_data"
    },
    {
     "data": {
      "text/html": [
       "<pre style=\"white-space:pre;overflow-x:auto;line-height:normal;font-family:Menlo,'DejaVu Sans Mono',consolas,'Courier New',monospace\">Average reward over last 5000 steps: 2.95\n",
       "</pre>\n"
      ],
      "text/plain": [
       "Average reward over last 5000 steps: 2.95\n"
      ]
     },
     "metadata": {},
     "output_type": "display_data"
    },
    {
     "data": {
      "text/html": [
       "<pre style=\"white-space:pre;overflow-x:auto;line-height:normal;font-family:Menlo,'DejaVu Sans Mono',consolas,'Courier New',monospace\">Average reward over last 5000 steps: 2.30\n",
       "</pre>\n"
      ],
      "text/plain": [
       "Average reward over last 5000 steps: 2.30\n"
      ]
     },
     "metadata": {},
     "output_type": "display_data"
    },
    {
     "data": {
      "text/html": [
       "<pre style=\"white-space:pre;overflow-x:auto;line-height:normal;font-family:Menlo,'DejaVu Sans Mono',consolas,'Courier New',monospace\">Average reward over last 5000 steps: 3.19\n",
       "</pre>\n"
      ],
      "text/plain": [
       "Average reward over last 5000 steps: 3.19\n"
      ]
     },
     "metadata": {},
     "output_type": "display_data"
    },
    {
     "data": {
      "text/html": [
       "<pre style=\"white-space:pre;overflow-x:auto;line-height:normal;font-family:Menlo,'DejaVu Sans Mono',consolas,'Courier New',monospace\">Average reward over last 5000 steps: 2.90\n",
       "</pre>\n"
      ],
      "text/plain": [
       "Average reward over last 5000 steps: 2.90\n"
      ]
     },
     "metadata": {},
     "output_type": "display_data"
    },
    {
     "data": {
      "text/html": [
       "<pre style=\"white-space:pre;overflow-x:auto;line-height:normal;font-family:Menlo,'DejaVu Sans Mono',consolas,'Courier New',monospace\">Average reward over last 5000 steps: 2.96\n",
       "</pre>\n"
      ],
      "text/plain": [
       "Average reward over last 5000 steps: 2.96\n"
      ]
     },
     "metadata": {},
     "output_type": "display_data"
    },
    {
     "data": {
      "text/html": [
       "<pre style=\"white-space:pre;overflow-x:auto;line-height:normal;font-family:Menlo,'DejaVu Sans Mono',consolas,'Courier New',monospace\">Average reward over last 5000 steps: 2.66\n",
       "</pre>\n"
      ],
      "text/plain": [
       "Average reward over last 5000 steps: 2.66\n"
      ]
     },
     "metadata": {},
     "output_type": "display_data"
    },
    {
     "data": {
      "text/html": [
       "<pre style=\"white-space:pre;overflow-x:auto;line-height:normal;font-family:Menlo,'DejaVu Sans Mono',consolas,'Courier New',monospace\">Average reward over last 5000 steps: 2.77\n",
       "</pre>\n"
      ],
      "text/plain": [
       "Average reward over last 5000 steps: 2.77\n"
      ]
     },
     "metadata": {},
     "output_type": "display_data"
    },
    {
     "data": {
      "text/html": [
       "<pre style=\"white-space:pre;overflow-x:auto;line-height:normal;font-family:Menlo,'DejaVu Sans Mono',consolas,'Courier New',monospace\">Average reward over last 5000 steps: 2.90\n",
       "</pre>\n"
      ],
      "text/plain": [
       "Average reward over last 5000 steps: 2.90\n"
      ]
     },
     "metadata": {},
     "output_type": "display_data"
    },
    {
     "data": {
      "text/html": [
       "<pre style=\"white-space:pre;overflow-x:auto;line-height:normal;font-family:Menlo,'DejaVu Sans Mono',consolas,'Courier New',monospace\">Average reward over last 5000 steps: 2.84\n",
       "</pre>\n"
      ],
      "text/plain": [
       "Average reward over last 5000 steps: 2.84\n"
      ]
     },
     "metadata": {},
     "output_type": "display_data"
    },
    {
     "data": {
      "text/html": [
       "<pre style=\"white-space:pre;overflow-x:auto;line-height:normal;font-family:Menlo,'DejaVu Sans Mono',consolas,'Courier New',monospace\">Average reward over last 5000 steps: 2.96\n",
       "</pre>\n"
      ],
      "text/plain": [
       "Average reward over last 5000 steps: 2.96\n"
      ]
     },
     "metadata": {},
     "output_type": "display_data"
    },
    {
     "data": {
      "text/html": [
       "<pre style=\"white-space:pre;overflow-x:auto;line-height:normal;font-family:Menlo,'DejaVu Sans Mono',consolas,'Courier New',monospace\">Average reward over last 5000 steps: 2.69\n",
       "</pre>\n"
      ],
      "text/plain": [
       "Average reward over last 5000 steps: 2.69\n"
      ]
     },
     "metadata": {},
     "output_type": "display_data"
    },
    {
     "data": {
      "text/html": [
       "<pre style=\"white-space:pre;overflow-x:auto;line-height:normal;font-family:Menlo,'DejaVu Sans Mono',consolas,'Courier New',monospace\">Average reward over last 5000 steps: 3.12\n",
       "</pre>\n"
      ],
      "text/plain": [
       "Average reward over last 5000 steps: 3.12\n"
      ]
     },
     "metadata": {},
     "output_type": "display_data"
    },
    {
     "data": {
      "text/html": [
       "<pre style=\"white-space:pre;overflow-x:auto;line-height:normal;font-family:Menlo,'DejaVu Sans Mono',consolas,'Courier New',monospace\">Average reward over last 5000 steps: 2.52\n",
       "</pre>\n"
      ],
      "text/plain": [
       "Average reward over last 5000 steps: 2.52\n"
      ]
     },
     "metadata": {},
     "output_type": "display_data"
    },
    {
     "data": {
      "text/html": [
       "<pre style=\"white-space:pre;overflow-x:auto;line-height:normal;font-family:Menlo,'DejaVu Sans Mono',consolas,'Courier New',monospace\">Average reward over last 5000 steps: 2.79\n",
       "</pre>\n"
      ],
      "text/plain": [
       "Average reward over last 5000 steps: 2.79\n"
      ]
     },
     "metadata": {},
     "output_type": "display_data"
    },
    {
     "data": {
      "text/html": [
       "<pre style=\"white-space:pre;overflow-x:auto;line-height:normal;font-family:Menlo,'DejaVu Sans Mono',consolas,'Courier New',monospace\">Average reward over last 5000 steps: 3.11\n",
       "</pre>\n"
      ],
      "text/plain": [
       "Average reward over last 5000 steps: 3.11\n"
      ]
     },
     "metadata": {},
     "output_type": "display_data"
    },
    {
     "data": {
      "text/html": [
       "<pre style=\"white-space:pre;overflow-x:auto;line-height:normal;font-family:Menlo,'DejaVu Sans Mono',consolas,'Courier New',monospace\">Average reward over last 5000 steps: 3.24\n",
       "</pre>\n"
      ],
      "text/plain": [
       "Average reward over last 5000 steps: 3.24\n"
      ]
     },
     "metadata": {},
     "output_type": "display_data"
    },
    {
     "data": {
      "text/html": [
       "<pre style=\"white-space:pre;overflow-x:auto;line-height:normal;font-family:Menlo,'DejaVu Sans Mono',consolas,'Courier New',monospace\">Average reward over last 5000 steps: 3.17\n",
       "</pre>\n"
      ],
      "text/plain": [
       "Average reward over last 5000 steps: 3.17\n"
      ]
     },
     "metadata": {},
     "output_type": "display_data"
    },
    {
     "data": {
      "text/html": [
       "<pre style=\"white-space:pre;overflow-x:auto;line-height:normal;font-family:Menlo,'DejaVu Sans Mono',consolas,'Courier New',monospace\">Average reward over last 5000 steps: 2.73\n",
       "</pre>\n"
      ],
      "text/plain": [
       "Average reward over last 5000 steps: 2.73\n"
      ]
     },
     "metadata": {},
     "output_type": "display_data"
    },
    {
     "data": {
      "text/html": [
       "<pre style=\"white-space:pre;overflow-x:auto;line-height:normal;font-family:Menlo,'DejaVu Sans Mono',consolas,'Courier New',monospace\">Average reward over last 5000 steps: 2.95\n",
       "</pre>\n"
      ],
      "text/plain": [
       "Average reward over last 5000 steps: 2.95\n"
      ]
     },
     "metadata": {},
     "output_type": "display_data"
    },
    {
     "data": {
      "text/html": [
       "<pre style=\"white-space:pre;overflow-x:auto;line-height:normal;font-family:Menlo,'DejaVu Sans Mono',consolas,'Courier New',monospace\">Average reward over last 5000 steps: 3.20\n",
       "</pre>\n"
      ],
      "text/plain": [
       "Average reward over last 5000 steps: 3.20\n"
      ]
     },
     "metadata": {},
     "output_type": "display_data"
    },
    {
     "data": {
      "text/html": [
       "<pre style=\"white-space:pre;overflow-x:auto;line-height:normal;font-family:Menlo,'DejaVu Sans Mono',consolas,'Courier New',monospace\">Average reward over last 5000 steps: 2.53\n",
       "</pre>\n"
      ],
      "text/plain": [
       "Average reward over last 5000 steps: 2.53\n"
      ]
     },
     "metadata": {},
     "output_type": "display_data"
    },
    {
     "data": {
      "text/html": [
       "<pre style=\"white-space:pre;overflow-x:auto;line-height:normal;font-family:Menlo,'DejaVu Sans Mono',consolas,'Courier New',monospace\">Average reward over last 5000 steps: 2.80\n",
       "</pre>\n"
      ],
      "text/plain": [
       "Average reward over last 5000 steps: 2.80\n"
      ]
     },
     "metadata": {},
     "output_type": "display_data"
    },
    {
     "data": {
      "text/html": [
       "<pre style=\"white-space:pre;overflow-x:auto;line-height:normal;font-family:Menlo,'DejaVu Sans Mono',consolas,'Courier New',monospace\">Average reward over last 5000 steps: 2.78\n",
       "</pre>\n"
      ],
      "text/plain": [
       "Average reward over last 5000 steps: 2.78\n"
      ]
     },
     "metadata": {},
     "output_type": "display_data"
    },
    {
     "data": {
      "text/html": [
       "<pre style=\"white-space:pre;overflow-x:auto;line-height:normal;font-family:Menlo,'DejaVu Sans Mono',consolas,'Courier New',monospace\">Average reward over last 5000 steps: 2.89\n",
       "</pre>\n"
      ],
      "text/plain": [
       "Average reward over last 5000 steps: 2.89\n"
      ]
     },
     "metadata": {},
     "output_type": "display_data"
    },
    {
     "data": {
      "text/html": [
       "<pre style=\"white-space:pre;overflow-x:auto;line-height:normal;font-family:Menlo,'DejaVu Sans Mono',consolas,'Courier New',monospace\">Average reward over last 5000 steps: 3.02\n",
       "</pre>\n"
      ],
      "text/plain": [
       "Average reward over last 5000 steps: 3.02\n"
      ]
     },
     "metadata": {},
     "output_type": "display_data"
    },
    {
     "data": {
      "text/html": [
       "<pre style=\"white-space:pre;overflow-x:auto;line-height:normal;font-family:Menlo,'DejaVu Sans Mono',consolas,'Courier New',monospace\">Average reward over last 5000 steps: 3.07\n",
       "</pre>\n"
      ],
      "text/plain": [
       "Average reward over last 5000 steps: 3.07\n"
      ]
     },
     "metadata": {},
     "output_type": "display_data"
    },
    {
     "data": {
      "text/html": [
       "<pre style=\"white-space:pre;overflow-x:auto;line-height:normal;font-family:Menlo,'DejaVu Sans Mono',consolas,'Courier New',monospace\">Average reward over last 5000 steps: 2.60\n",
       "</pre>\n"
      ],
      "text/plain": [
       "Average reward over last 5000 steps: 2.60\n"
      ]
     },
     "metadata": {},
     "output_type": "display_data"
    },
    {
     "data": {
      "text/html": [
       "<pre style=\"white-space:pre;overflow-x:auto;line-height:normal;font-family:Menlo,'DejaVu Sans Mono',consolas,'Courier New',monospace\">Average reward over last 5000 steps: 2.50\n",
       "</pre>\n"
      ],
      "text/plain": [
       "Average reward over last 5000 steps: 2.50\n"
      ]
     },
     "metadata": {},
     "output_type": "display_data"
    },
    {
     "data": {
      "text/html": [
       "<pre style=\"white-space:pre;overflow-x:auto;line-height:normal;font-family:Menlo,'DejaVu Sans Mono',consolas,'Courier New',monospace\">Average reward over last 5000 steps: 2.50\n",
       "</pre>\n"
      ],
      "text/plain": [
       "Average reward over last 5000 steps: 2.50\n"
      ]
     },
     "metadata": {},
     "output_type": "display_data"
    },
    {
     "data": {
      "text/html": [
       "<pre style=\"white-space:pre;overflow-x:auto;line-height:normal;font-family:Menlo,'DejaVu Sans Mono',consolas,'Courier New',monospace\">Average reward over last 5000 steps: 3.11\n",
       "</pre>\n"
      ],
      "text/plain": [
       "Average reward over last 5000 steps: 3.11\n"
      ]
     },
     "metadata": {},
     "output_type": "display_data"
    },
    {
     "data": {
      "text/html": [
       "<pre style=\"white-space:pre;overflow-x:auto;line-height:normal;font-family:Menlo,'DejaVu Sans Mono',consolas,'Courier New',monospace\">Average reward over last 5000 steps: 2.91\n",
       "</pre>\n"
      ],
      "text/plain": [
       "Average reward over last 5000 steps: 2.91\n"
      ]
     },
     "metadata": {},
     "output_type": "display_data"
    },
    {
     "data": {
      "text/html": [
       "<pre style=\"white-space:pre;overflow-x:auto;line-height:normal;font-family:Menlo,'DejaVu Sans Mono',consolas,'Courier New',monospace\">Average reward over last 5000 steps: 2.51\n",
       "</pre>\n"
      ],
      "text/plain": [
       "Average reward over last 5000 steps: 2.51\n"
      ]
     },
     "metadata": {},
     "output_type": "display_data"
    },
    {
     "data": {
      "text/html": [
       "<pre style=\"white-space:pre;overflow-x:auto;line-height:normal;font-family:Menlo,'DejaVu Sans Mono',consolas,'Courier New',monospace\">Average reward over last 5000 steps: 3.19\n",
       "</pre>\n"
      ],
      "text/plain": [
       "Average reward over last 5000 steps: 3.19\n"
      ]
     },
     "metadata": {},
     "output_type": "display_data"
    },
    {
     "data": {
      "text/html": [
       "<pre style=\"white-space:pre;overflow-x:auto;line-height:normal;font-family:Menlo,'DejaVu Sans Mono',consolas,'Courier New',monospace\">Average reward over last 5000 steps: 3.02\n",
       "</pre>\n"
      ],
      "text/plain": [
       "Average reward over last 5000 steps: 3.02\n"
      ]
     },
     "metadata": {},
     "output_type": "display_data"
    },
    {
     "data": {
      "text/html": [
       "<pre style=\"white-space:pre;overflow-x:auto;line-height:normal;font-family:Menlo,'DejaVu Sans Mono',consolas,'Courier New',monospace\">Average reward over last 5000 steps: 2.98\n",
       "</pre>\n"
      ],
      "text/plain": [
       "Average reward over last 5000 steps: 2.98\n"
      ]
     },
     "metadata": {},
     "output_type": "display_data"
    },
    {
     "data": {
      "text/html": [
       "<pre style=\"white-space:pre;overflow-x:auto;line-height:normal;font-family:Menlo,'DejaVu Sans Mono',consolas,'Courier New',monospace\">Average reward over last 5000 steps: 3.19\n",
       "</pre>\n"
      ],
      "text/plain": [
       "Average reward over last 5000 steps: 3.19\n"
      ]
     },
     "metadata": {},
     "output_type": "display_data"
    },
    {
     "data": {
      "text/html": [
       "<pre style=\"white-space:pre;overflow-x:auto;line-height:normal;font-family:Menlo,'DejaVu Sans Mono',consolas,'Courier New',monospace\">Average reward over last 5000 steps: 2.95\n",
       "</pre>\n"
      ],
      "text/plain": [
       "Average reward over last 5000 steps: 2.95\n"
      ]
     },
     "metadata": {},
     "output_type": "display_data"
    },
    {
     "data": {
      "text/html": [
       "<pre style=\"white-space:pre;overflow-x:auto;line-height:normal;font-family:Menlo,'DejaVu Sans Mono',consolas,'Courier New',monospace\">Average reward over last 5000 steps: 2.93\n",
       "</pre>\n"
      ],
      "text/plain": [
       "Average reward over last 5000 steps: 2.93\n"
      ]
     },
     "metadata": {},
     "output_type": "display_data"
    },
    {
     "data": {
      "text/html": [
       "<pre style=\"white-space:pre;overflow-x:auto;line-height:normal;font-family:Menlo,'DejaVu Sans Mono',consolas,'Courier New',monospace\">Average reward over last 5000 steps: 2.95\n",
       "</pre>\n"
      ],
      "text/plain": [
       "Average reward over last 5000 steps: 2.95\n"
      ]
     },
     "metadata": {},
     "output_type": "display_data"
    },
    {
     "data": {
      "text/html": [
       "<pre style=\"white-space:pre;overflow-x:auto;line-height:normal;font-family:Menlo,'DejaVu Sans Mono',consolas,'Courier New',monospace\">Average reward over last 5000 steps: 2.95\n",
       "</pre>\n"
      ],
      "text/plain": [
       "Average reward over last 5000 steps: 2.95\n"
      ]
     },
     "metadata": {},
     "output_type": "display_data"
    },
    {
     "data": {
      "text/html": [
       "<pre style=\"white-space:pre;overflow-x:auto;line-height:normal;font-family:Menlo,'DejaVu Sans Mono',consolas,'Courier New',monospace\">Average reward over last 5000 steps: 2.72\n",
       "</pre>\n"
      ],
      "text/plain": [
       "Average reward over last 5000 steps: 2.72\n"
      ]
     },
     "metadata": {},
     "output_type": "display_data"
    },
    {
     "data": {
      "text/html": [
       "<pre style=\"white-space:pre;overflow-x:auto;line-height:normal;font-family:Menlo,'DejaVu Sans Mono',consolas,'Courier New',monospace\">Average reward over last 5000 steps: 2.91\n",
       "</pre>\n"
      ],
      "text/plain": [
       "Average reward over last 5000 steps: 2.91\n"
      ]
     },
     "metadata": {},
     "output_type": "display_data"
    },
    {
     "data": {
      "text/html": [
       "<pre style=\"white-space:pre;overflow-x:auto;line-height:normal;font-family:Menlo,'DejaVu Sans Mono',consolas,'Courier New',monospace\">Average reward over last 5000 steps: 3.12\n",
       "</pre>\n"
      ],
      "text/plain": [
       "Average reward over last 5000 steps: 3.12\n"
      ]
     },
     "metadata": {},
     "output_type": "display_data"
    },
    {
     "data": {
      "text/html": [
       "<pre style=\"white-space:pre;overflow-x:auto;line-height:normal;font-family:Menlo,'DejaVu Sans Mono',consolas,'Courier New',monospace\">Average reward over last 5000 steps: 2.88\n",
       "</pre>\n"
      ],
      "text/plain": [
       "Average reward over last 5000 steps: 2.88\n"
      ]
     },
     "metadata": {},
     "output_type": "display_data"
    },
    {
     "data": {
      "text/html": [
       "<pre style=\"white-space:pre;overflow-x:auto;line-height:normal;font-family:Menlo,'DejaVu Sans Mono',consolas,'Courier New',monospace\">Average reward over last 5000 steps: 2.65\n",
       "</pre>\n"
      ],
      "text/plain": [
       "Average reward over last 5000 steps: 2.65\n"
      ]
     },
     "metadata": {},
     "output_type": "display_data"
    },
    {
     "data": {
      "text/html": [
       "<pre style=\"white-space:pre;overflow-x:auto;line-height:normal;font-family:Menlo,'DejaVu Sans Mono',consolas,'Courier New',monospace\">Average reward over last 5000 steps: 3.02\n",
       "</pre>\n"
      ],
      "text/plain": [
       "Average reward over last 5000 steps: 3.02\n"
      ]
     },
     "metadata": {},
     "output_type": "display_data"
    },
    {
     "data": {
      "text/html": [
       "<pre style=\"white-space:pre;overflow-x:auto;line-height:normal;font-family:Menlo,'DejaVu Sans Mono',consolas,'Courier New',monospace\">Average reward over last 5000 steps: 2.83\n",
       "</pre>\n"
      ],
      "text/plain": [
       "Average reward over last 5000 steps: 2.83\n"
      ]
     },
     "metadata": {},
     "output_type": "display_data"
    },
    {
     "data": {
      "text/html": [
       "<pre style=\"white-space:pre;overflow-x:auto;line-height:normal;font-family:Menlo,'DejaVu Sans Mono',consolas,'Courier New',monospace\">Average reward over last 5000 steps: 3.17\n",
       "</pre>\n"
      ],
      "text/plain": [
       "Average reward over last 5000 steps: 3.17\n"
      ]
     },
     "metadata": {},
     "output_type": "display_data"
    },
    {
     "data": {
      "text/html": [
       "<pre style=\"white-space:pre;overflow-x:auto;line-height:normal;font-family:Menlo,'DejaVu Sans Mono',consolas,'Courier New',monospace\">Average reward over last 5000 steps: 3.08\n",
       "</pre>\n"
      ],
      "text/plain": [
       "Average reward over last 5000 steps: 3.08\n"
      ]
     },
     "metadata": {},
     "output_type": "display_data"
    },
    {
     "data": {
      "text/html": [
       "<pre style=\"white-space:pre;overflow-x:auto;line-height:normal;font-family:Menlo,'DejaVu Sans Mono',consolas,'Courier New',monospace\">Average reward over last 5000 steps: 3.02\n",
       "</pre>\n"
      ],
      "text/plain": [
       "Average reward over last 5000 steps: 3.02\n"
      ]
     },
     "metadata": {},
     "output_type": "display_data"
    },
    {
     "data": {
      "text/html": [
       "<pre style=\"white-space:pre;overflow-x:auto;line-height:normal;font-family:Menlo,'DejaVu Sans Mono',consolas,'Courier New',monospace\">Average reward over last 5000 steps: 3.11\n",
       "</pre>\n"
      ],
      "text/plain": [
       "Average reward over last 5000 steps: 3.11\n"
      ]
     },
     "metadata": {},
     "output_type": "display_data"
    },
    {
     "data": {
      "text/html": [
       "<pre style=\"white-space:pre;overflow-x:auto;line-height:normal;font-family:Menlo,'DejaVu Sans Mono',consolas,'Courier New',monospace\">Average reward over last 5000 steps: 2.79\n",
       "</pre>\n"
      ],
      "text/plain": [
       "Average reward over last 5000 steps: 2.79\n"
      ]
     },
     "metadata": {},
     "output_type": "display_data"
    },
    {
     "data": {
      "text/html": [
       "<pre style=\"white-space:pre;overflow-x:auto;line-height:normal;font-family:Menlo,'DejaVu Sans Mono',consolas,'Courier New',monospace\">Average reward over last 5000 steps: 3.17\n",
       "</pre>\n"
      ],
      "text/plain": [
       "Average reward over last 5000 steps: 3.17\n"
      ]
     },
     "metadata": {},
     "output_type": "display_data"
    },
    {
     "data": {
      "text/html": [
       "<pre style=\"white-space:pre;overflow-x:auto;line-height:normal;font-family:Menlo,'DejaVu Sans Mono',consolas,'Courier New',monospace\">Average reward over last 5000 steps: 3.35\n",
       "</pre>\n"
      ],
      "text/plain": [
       "Average reward over last 5000 steps: 3.35\n"
      ]
     },
     "metadata": {},
     "output_type": "display_data"
    },
    {
     "data": {
      "text/html": [
       "<pre style=\"white-space:pre;overflow-x:auto;line-height:normal;font-family:Menlo,'DejaVu Sans Mono',consolas,'Courier New',monospace\">Average reward over last 5000 steps: 3.01\n",
       "</pre>\n"
      ],
      "text/plain": [
       "Average reward over last 5000 steps: 3.01\n"
      ]
     },
     "metadata": {},
     "output_type": "display_data"
    },
    {
     "data": {
      "text/html": [
       "<pre style=\"white-space:pre;overflow-x:auto;line-height:normal;font-family:Menlo,'DejaVu Sans Mono',consolas,'Courier New',monospace\">Average reward over last 5000 steps: 3.00\n",
       "</pre>\n"
      ],
      "text/plain": [
       "Average reward over last 5000 steps: 3.00\n"
      ]
     },
     "metadata": {},
     "output_type": "display_data"
    },
    {
     "data": {
      "text/html": [
       "<pre style=\"white-space:pre;overflow-x:auto;line-height:normal;font-family:Menlo,'DejaVu Sans Mono',consolas,'Courier New',monospace\">Average reward over last 5000 steps: 3.34\n",
       "</pre>\n"
      ],
      "text/plain": [
       "Average reward over last 5000 steps: 3.34\n"
      ]
     },
     "metadata": {},
     "output_type": "display_data"
    },
    {
     "data": {
      "text/html": [
       "<pre style=\"white-space:pre;overflow-x:auto;line-height:normal;font-family:Menlo,'DejaVu Sans Mono',consolas,'Courier New',monospace\">Average reward over last 5000 steps: 2.96\n",
       "</pre>\n"
      ],
      "text/plain": [
       "Average reward over last 5000 steps: 2.96\n"
      ]
     },
     "metadata": {},
     "output_type": "display_data"
    },
    {
     "data": {
      "text/html": [
       "<pre style=\"white-space:pre;overflow-x:auto;line-height:normal;font-family:Menlo,'DejaVu Sans Mono',consolas,'Courier New',monospace\">Average reward over last 5000 steps: 3.21\n",
       "</pre>\n"
      ],
      "text/plain": [
       "Average reward over last 5000 steps: 3.21\n"
      ]
     },
     "metadata": {},
     "output_type": "display_data"
    },
    {
     "data": {
      "text/html": [
       "<pre style=\"white-space:pre;overflow-x:auto;line-height:normal;font-family:Menlo,'DejaVu Sans Mono',consolas,'Courier New',monospace\">Average reward over last 5000 steps: 3.36\n",
       "</pre>\n"
      ],
      "text/plain": [
       "Average reward over last 5000 steps: 3.36\n"
      ]
     },
     "metadata": {},
     "output_type": "display_data"
    },
    {
     "data": {
      "text/html": [
       "<pre style=\"white-space:pre;overflow-x:auto;line-height:normal;font-family:Menlo,'DejaVu Sans Mono',consolas,'Courier New',monospace\">Average reward over last 5000 steps: 2.82\n",
       "</pre>\n"
      ],
      "text/plain": [
       "Average reward over last 5000 steps: 2.82\n"
      ]
     },
     "metadata": {},
     "output_type": "display_data"
    },
    {
     "data": {
      "text/html": [
       "<pre style=\"white-space:pre;overflow-x:auto;line-height:normal;font-family:Menlo,'DejaVu Sans Mono',consolas,'Courier New',monospace\">Average reward over last 5000 steps: 3.10\n",
       "</pre>\n"
      ],
      "text/plain": [
       "Average reward over last 5000 steps: 3.10\n"
      ]
     },
     "metadata": {},
     "output_type": "display_data"
    },
    {
     "data": {
      "text/html": [
       "<pre style=\"white-space:pre;overflow-x:auto;line-height:normal;font-family:Menlo,'DejaVu Sans Mono',consolas,'Courier New',monospace\">Average reward over last 5000 steps: 2.76\n",
       "</pre>\n"
      ],
      "text/plain": [
       "Average reward over last 5000 steps: 2.76\n"
      ]
     },
     "metadata": {},
     "output_type": "display_data"
    },
    {
     "data": {
      "text/html": [
       "<pre style=\"white-space:pre;overflow-x:auto;line-height:normal;font-family:Menlo,'DejaVu Sans Mono',consolas,'Courier New',monospace\">Average reward over last 5000 steps: 3.20\n",
       "</pre>\n"
      ],
      "text/plain": [
       "Average reward over last 5000 steps: 3.20\n"
      ]
     },
     "metadata": {},
     "output_type": "display_data"
    },
    {
     "data": {
      "text/html": [
       "<pre style=\"white-space:pre;overflow-x:auto;line-height:normal;font-family:Menlo,'DejaVu Sans Mono',consolas,'Courier New',monospace\">Average reward over last 5000 steps: 3.36\n",
       "</pre>\n"
      ],
      "text/plain": [
       "Average reward over last 5000 steps: 3.36\n"
      ]
     },
     "metadata": {},
     "output_type": "display_data"
    },
    {
     "data": {
      "text/html": [
       "<pre style=\"white-space:pre;overflow-x:auto;line-height:normal;font-family:Menlo,'DejaVu Sans Mono',consolas,'Courier New',monospace\">Average reward over last 5000 steps: 3.08\n",
       "</pre>\n"
      ],
      "text/plain": [
       "Average reward over last 5000 steps: 3.08\n"
      ]
     },
     "metadata": {},
     "output_type": "display_data"
    },
    {
     "data": {
      "text/html": [
       "<pre style=\"white-space:pre;overflow-x:auto;line-height:normal;font-family:Menlo,'DejaVu Sans Mono',consolas,'Courier New',monospace\">Average reward over last 5000 steps: 3.01\n",
       "</pre>\n"
      ],
      "text/plain": [
       "Average reward over last 5000 steps: 3.01\n"
      ]
     },
     "metadata": {},
     "output_type": "display_data"
    },
    {
     "data": {
      "text/html": [
       "<pre style=\"white-space:pre;overflow-x:auto;line-height:normal;font-family:Menlo,'DejaVu Sans Mono',consolas,'Courier New',monospace\">Average reward over last 5000 steps: 3.26\n",
       "</pre>\n"
      ],
      "text/plain": [
       "Average reward over last 5000 steps: 3.26\n"
      ]
     },
     "metadata": {},
     "output_type": "display_data"
    },
    {
     "data": {
      "text/html": [
       "<pre style=\"white-space:pre;overflow-x:auto;line-height:normal;font-family:Menlo,'DejaVu Sans Mono',consolas,'Courier New',monospace\">Average reward over last 5000 steps: 2.97\n",
       "</pre>\n"
      ],
      "text/plain": [
       "Average reward over last 5000 steps: 2.97\n"
      ]
     },
     "metadata": {},
     "output_type": "display_data"
    },
    {
     "data": {
      "text/html": [
       "<pre style=\"white-space:pre;overflow-x:auto;line-height:normal;font-family:Menlo,'DejaVu Sans Mono',consolas,'Courier New',monospace\">Average reward over last 5000 steps: 3.42\n",
       "</pre>\n"
      ],
      "text/plain": [
       "Average reward over last 5000 steps: 3.42\n"
      ]
     },
     "metadata": {},
     "output_type": "display_data"
    },
    {
     "data": {
      "text/html": [
       "<pre style=\"white-space:pre;overflow-x:auto;line-height:normal;font-family:Menlo,'DejaVu Sans Mono',consolas,'Courier New',monospace\">Average reward over last 5000 steps: 3.19\n",
       "</pre>\n"
      ],
      "text/plain": [
       "Average reward over last 5000 steps: 3.19\n"
      ]
     },
     "metadata": {},
     "output_type": "display_data"
    },
    {
     "data": {
      "text/html": [
       "<pre style=\"white-space:pre;overflow-x:auto;line-height:normal;font-family:Menlo,'DejaVu Sans Mono',consolas,'Courier New',monospace\">Average reward over last 5000 steps: 3.06\n",
       "</pre>\n"
      ],
      "text/plain": [
       "Average reward over last 5000 steps: 3.06\n"
      ]
     },
     "metadata": {},
     "output_type": "display_data"
    },
    {
     "data": {
      "text/html": [
       "<pre style=\"white-space:pre;overflow-x:auto;line-height:normal;font-family:Menlo,'DejaVu Sans Mono',consolas,'Courier New',monospace\">Average reward over last 5000 steps: 3.02\n",
       "</pre>\n"
      ],
      "text/plain": [
       "Average reward over last 5000 steps: 3.02\n"
      ]
     },
     "metadata": {},
     "output_type": "display_data"
    },
    {
     "data": {
      "text/html": [
       "<pre style=\"white-space:pre;overflow-x:auto;line-height:normal;font-family:Menlo,'DejaVu Sans Mono',consolas,'Courier New',monospace\">Average reward over last 5000 steps: 2.72\n",
       "</pre>\n"
      ],
      "text/plain": [
       "Average reward over last 5000 steps: 2.72\n"
      ]
     },
     "metadata": {},
     "output_type": "display_data"
    },
    {
     "data": {
      "text/html": [
       "<pre style=\"white-space:pre;overflow-x:auto;line-height:normal;font-family:Menlo,'DejaVu Sans Mono',consolas,'Courier New',monospace\">Average reward over last 5000 steps: 3.40\n",
       "</pre>\n"
      ],
      "text/plain": [
       "Average reward over last 5000 steps: 3.40\n"
      ]
     },
     "metadata": {},
     "output_type": "display_data"
    },
    {
     "data": {
      "text/html": [
       "<pre style=\"white-space:pre;overflow-x:auto;line-height:normal;font-family:Menlo,'DejaVu Sans Mono',consolas,'Courier New',monospace\">Average reward over last 5000 steps: 3.33\n",
       "</pre>\n"
      ],
      "text/plain": [
       "Average reward over last 5000 steps: 3.33\n"
      ]
     },
     "metadata": {},
     "output_type": "display_data"
    },
    {
     "data": {
      "text/html": [
       "<pre style=\"white-space:pre;overflow-x:auto;line-height:normal;font-family:Menlo,'DejaVu Sans Mono',consolas,'Courier New',monospace\">Average reward over last 5000 steps: 3.04\n",
       "</pre>\n"
      ],
      "text/plain": [
       "Average reward over last 5000 steps: 3.04\n"
      ]
     },
     "metadata": {},
     "output_type": "display_data"
    },
    {
     "data": {
      "text/html": [
       "<pre style=\"white-space:pre;overflow-x:auto;line-height:normal;font-family:Menlo,'DejaVu Sans Mono',consolas,'Courier New',monospace\">Average reward over last 5000 steps: 3.16\n",
       "</pre>\n"
      ],
      "text/plain": [
       "Average reward over last 5000 steps: 3.16\n"
      ]
     },
     "metadata": {},
     "output_type": "display_data"
    },
    {
     "data": {
      "text/html": [
       "<pre style=\"white-space:pre;overflow-x:auto;line-height:normal;font-family:Menlo,'DejaVu Sans Mono',consolas,'Courier New',monospace\">Average reward over last 5000 steps: 3.24\n",
       "</pre>\n"
      ],
      "text/plain": [
       "Average reward over last 5000 steps: 3.24\n"
      ]
     },
     "metadata": {},
     "output_type": "display_data"
    },
    {
     "data": {
      "text/html": [
       "<pre style=\"white-space:pre;overflow-x:auto;line-height:normal;font-family:Menlo,'DejaVu Sans Mono',consolas,'Courier New',monospace\">Average reward over last 5000 steps: 2.70\n",
       "</pre>\n"
      ],
      "text/plain": [
       "Average reward over last 5000 steps: 2.70\n"
      ]
     },
     "metadata": {},
     "output_type": "display_data"
    },
    {
     "data": {
      "text/html": [
       "<pre style=\"white-space:pre;overflow-x:auto;line-height:normal;font-family:Menlo,'DejaVu Sans Mono',consolas,'Courier New',monospace\">Average reward over last 5000 steps: 3.10\n",
       "</pre>\n"
      ],
      "text/plain": [
       "Average reward over last 5000 steps: 3.10\n"
      ]
     },
     "metadata": {},
     "output_type": "display_data"
    },
    {
     "data": {
      "text/html": [
       "<pre style=\"white-space:pre;overflow-x:auto;line-height:normal;font-family:Menlo,'DejaVu Sans Mono',consolas,'Courier New',monospace\">Average reward over last 5000 steps: 2.58\n",
       "</pre>\n"
      ],
      "text/plain": [
       "Average reward over last 5000 steps: 2.58\n"
      ]
     },
     "metadata": {},
     "output_type": "display_data"
    },
    {
     "data": {
      "text/html": [
       "<pre style=\"white-space:pre;overflow-x:auto;line-height:normal;font-family:Menlo,'DejaVu Sans Mono',consolas,'Courier New',monospace\">Average reward over last 5000 steps: 2.90\n",
       "</pre>\n"
      ],
      "text/plain": [
       "Average reward over last 5000 steps: 2.90\n"
      ]
     },
     "metadata": {},
     "output_type": "display_data"
    },
    {
     "data": {
      "text/html": [
       "<pre style=\"white-space:pre;overflow-x:auto;line-height:normal;font-family:Menlo,'DejaVu Sans Mono',consolas,'Courier New',monospace\">Average reward over last 5000 steps: 2.92\n",
       "</pre>\n"
      ],
      "text/plain": [
       "Average reward over last 5000 steps: 2.92\n"
      ]
     },
     "metadata": {},
     "output_type": "display_data"
    },
    {
     "data": {
      "text/html": [
       "<pre style=\"white-space:pre;overflow-x:auto;line-height:normal;font-family:Menlo,'DejaVu Sans Mono',consolas,'Courier New',monospace\">Average reward over last 5000 steps: 2.82\n",
       "</pre>\n"
      ],
      "text/plain": [
       "Average reward over last 5000 steps: 2.82\n"
      ]
     },
     "metadata": {},
     "output_type": "display_data"
    },
    {
     "data": {
      "text/html": [
       "<pre style=\"white-space:pre;overflow-x:auto;line-height:normal;font-family:Menlo,'DejaVu Sans Mono',consolas,'Courier New',monospace\">Average reward over last 5000 steps: 3.00\n",
       "</pre>\n"
      ],
      "text/plain": [
       "Average reward over last 5000 steps: 3.00\n"
      ]
     },
     "metadata": {},
     "output_type": "display_data"
    },
    {
     "data": {
      "text/html": [
       "<pre style=\"white-space:pre;overflow-x:auto;line-height:normal;font-family:Menlo,'DejaVu Sans Mono',consolas,'Courier New',monospace\">Average reward over last 5000 steps: 3.26\n",
       "</pre>\n"
      ],
      "text/plain": [
       "Average reward over last 5000 steps: 3.26\n"
      ]
     },
     "metadata": {},
     "output_type": "display_data"
    },
    {
     "data": {
      "text/html": [
       "<pre style=\"white-space:pre;overflow-x:auto;line-height:normal;font-family:Menlo,'DejaVu Sans Mono',consolas,'Courier New',monospace\">Average reward over last 5000 steps: 3.01\n",
       "</pre>\n"
      ],
      "text/plain": [
       "Average reward over last 5000 steps: 3.01\n"
      ]
     },
     "metadata": {},
     "output_type": "display_data"
    },
    {
     "data": {
      "text/html": [
       "<pre style=\"white-space:pre;overflow-x:auto;line-height:normal;font-family:Menlo,'DejaVu Sans Mono',consolas,'Courier New',monospace\">Average reward over last 5000 steps: 2.98\n",
       "</pre>\n"
      ],
      "text/plain": [
       "Average reward over last 5000 steps: 2.98\n"
      ]
     },
     "metadata": {},
     "output_type": "display_data"
    },
    {
     "data": {
      "text/html": [
       "<pre style=\"white-space:pre;overflow-x:auto;line-height:normal;font-family:Menlo,'DejaVu Sans Mono',consolas,'Courier New',monospace\">Average reward over last 5000 steps: 3.03\n",
       "</pre>\n"
      ],
      "text/plain": [
       "Average reward over last 5000 steps: 3.03\n"
      ]
     },
     "metadata": {},
     "output_type": "display_data"
    },
    {
     "data": {
      "text/html": [
       "<pre style=\"white-space:pre;overflow-x:auto;line-height:normal;font-family:Menlo,'DejaVu Sans Mono',consolas,'Courier New',monospace\">Average reward over last 5000 steps: 2.74\n",
       "</pre>\n"
      ],
      "text/plain": [
       "Average reward over last 5000 steps: 2.74\n"
      ]
     },
     "metadata": {},
     "output_type": "display_data"
    },
    {
     "data": {
      "text/html": [
       "<pre style=\"white-space:pre;overflow-x:auto;line-height:normal;font-family:Menlo,'DejaVu Sans Mono',consolas,'Courier New',monospace\">Average reward over last 5000 steps: 3.16\n",
       "</pre>\n"
      ],
      "text/plain": [
       "Average reward over last 5000 steps: 3.16\n"
      ]
     },
     "metadata": {},
     "output_type": "display_data"
    },
    {
     "data": {
      "text/html": [
       "<pre style=\"white-space:pre;overflow-x:auto;line-height:normal;font-family:Menlo,'DejaVu Sans Mono',consolas,'Courier New',monospace\">Average reward over last 5000 steps: 2.85\n",
       "</pre>\n"
      ],
      "text/plain": [
       "Average reward over last 5000 steps: 2.85\n"
      ]
     },
     "metadata": {},
     "output_type": "display_data"
    },
    {
     "data": {
      "text/html": [
       "<pre style=\"white-space:pre;overflow-x:auto;line-height:normal;font-family:Menlo,'DejaVu Sans Mono',consolas,'Courier New',monospace\">Average reward over last 5000 steps: 2.93\n",
       "</pre>\n"
      ],
      "text/plain": [
       "Average reward over last 5000 steps: 2.93\n"
      ]
     },
     "metadata": {},
     "output_type": "display_data"
    },
    {
     "data": {
      "text/html": [
       "<pre style=\"white-space:pre;overflow-x:auto;line-height:normal;font-family:Menlo,'DejaVu Sans Mono',consolas,'Courier New',monospace\">Average reward over last 5000 steps: 3.22\n",
       "</pre>\n"
      ],
      "text/plain": [
       "Average reward over last 5000 steps: 3.22\n"
      ]
     },
     "metadata": {},
     "output_type": "display_data"
    },
    {
     "data": {
      "text/html": [
       "<pre style=\"white-space:pre;overflow-x:auto;line-height:normal;font-family:Menlo,'DejaVu Sans Mono',consolas,'Courier New',monospace\">Average reward over last 5000 steps: 3.24\n",
       "</pre>\n"
      ],
      "text/plain": [
       "Average reward over last 5000 steps: 3.24\n"
      ]
     },
     "metadata": {},
     "output_type": "display_data"
    },
    {
     "data": {
      "text/html": [
       "<pre style=\"white-space:pre;overflow-x:auto;line-height:normal;font-family:Menlo,'DejaVu Sans Mono',consolas,'Courier New',monospace\">Average reward over last 5000 steps: 3.03\n",
       "</pre>\n"
      ],
      "text/plain": [
       "Average reward over last 5000 steps: 3.03\n"
      ]
     },
     "metadata": {},
     "output_type": "display_data"
    },
    {
     "data": {
      "text/html": [
       "<pre style=\"white-space:pre;overflow-x:auto;line-height:normal;font-family:Menlo,'DejaVu Sans Mono',consolas,'Courier New',monospace\">Average reward over last 5000 steps: 3.25\n",
       "</pre>\n"
      ],
      "text/plain": [
       "Average reward over last 5000 steps: 3.25\n"
      ]
     },
     "metadata": {},
     "output_type": "display_data"
    },
    {
     "data": {
      "text/html": [
       "<pre style=\"white-space:pre;overflow-x:auto;line-height:normal;font-family:Menlo,'DejaVu Sans Mono',consolas,'Courier New',monospace\">Average reward over last 5000 steps: 2.96\n",
       "</pre>\n"
      ],
      "text/plain": [
       "Average reward over last 5000 steps: 2.96\n"
      ]
     },
     "metadata": {},
     "output_type": "display_data"
    },
    {
     "data": {
      "text/html": [
       "<pre style=\"white-space:pre;overflow-x:auto;line-height:normal;font-family:Menlo,'DejaVu Sans Mono',consolas,'Courier New',monospace\">Average reward over last 5000 steps: 3.06\n",
       "</pre>\n"
      ],
      "text/plain": [
       "Average reward over last 5000 steps: 3.06\n"
      ]
     },
     "metadata": {},
     "output_type": "display_data"
    },
    {
     "data": {
      "text/html": [
       "<pre style=\"white-space:pre;overflow-x:auto;line-height:normal;font-family:Menlo,'DejaVu Sans Mono',consolas,'Courier New',monospace\">Average reward over last 5000 steps: 3.25\n",
       "</pre>\n"
      ],
      "text/plain": [
       "Average reward over last 5000 steps: 3.25\n"
      ]
     },
     "metadata": {},
     "output_type": "display_data"
    },
    {
     "data": {
      "text/html": [
       "<pre style=\"white-space:pre;overflow-x:auto;line-height:normal;font-family:Menlo,'DejaVu Sans Mono',consolas,'Courier New',monospace\">Average reward over last 5000 steps: 3.41\n",
       "</pre>\n"
      ],
      "text/plain": [
       "Average reward over last 5000 steps: 3.41\n"
      ]
     },
     "metadata": {},
     "output_type": "display_data"
    },
    {
     "data": {
      "text/html": [
       "<pre style=\"white-space:pre;overflow-x:auto;line-height:normal;font-family:Menlo,'DejaVu Sans Mono',consolas,'Courier New',monospace\">Average reward over last 5000 steps: 3.04\n",
       "</pre>\n"
      ],
      "text/plain": [
       "Average reward over last 5000 steps: 3.04\n"
      ]
     },
     "metadata": {},
     "output_type": "display_data"
    },
    {
     "data": {
      "text/html": [
       "<pre style=\"white-space:pre;overflow-x:auto;line-height:normal;font-family:Menlo,'DejaVu Sans Mono',consolas,'Courier New',monospace\">Average reward over last 5000 steps: 3.22\n",
       "</pre>\n"
      ],
      "text/plain": [
       "Average reward over last 5000 steps: 3.22\n"
      ]
     },
     "metadata": {},
     "output_type": "display_data"
    },
    {
     "data": {
      "text/html": [
       "<pre style=\"white-space:pre;overflow-x:auto;line-height:normal;font-family:Menlo,'DejaVu Sans Mono',consolas,'Courier New',monospace\">Average reward over last 5000 steps: 2.98\n",
       "</pre>\n"
      ],
      "text/plain": [
       "Average reward over last 5000 steps: 2.98\n"
      ]
     },
     "metadata": {},
     "output_type": "display_data"
    },
    {
     "data": {
      "text/html": [
       "<pre style=\"white-space:pre;overflow-x:auto;line-height:normal;font-family:Menlo,'DejaVu Sans Mono',consolas,'Courier New',monospace\">Average reward over last 5000 steps: 3.27\n",
       "</pre>\n"
      ],
      "text/plain": [
       "Average reward over last 5000 steps: 3.27\n"
      ]
     },
     "metadata": {},
     "output_type": "display_data"
    },
    {
     "data": {
      "text/html": [
       "<pre style=\"white-space:pre;overflow-x:auto;line-height:normal;font-family:Menlo,'DejaVu Sans Mono',consolas,'Courier New',monospace\">Average reward over last 5000 steps: 3.15\n",
       "</pre>\n"
      ],
      "text/plain": [
       "Average reward over last 5000 steps: 3.15\n"
      ]
     },
     "metadata": {},
     "output_type": "display_data"
    },
    {
     "data": {
      "text/html": [
       "<pre style=\"white-space:pre;overflow-x:auto;line-height:normal;font-family:Menlo,'DejaVu Sans Mono',consolas,'Courier New',monospace\">Average reward over last 5000 steps: 2.85\n",
       "</pre>\n"
      ],
      "text/plain": [
       "Average reward over last 5000 steps: 2.85\n"
      ]
     },
     "metadata": {},
     "output_type": "display_data"
    },
    {
     "data": {
      "text/html": [
       "<pre style=\"white-space:pre;overflow-x:auto;line-height:normal;font-family:Menlo,'DejaVu Sans Mono',consolas,'Courier New',monospace\">Average reward over last 5000 steps: 3.03\n",
       "</pre>\n"
      ],
      "text/plain": [
       "Average reward over last 5000 steps: 3.03\n"
      ]
     },
     "metadata": {},
     "output_type": "display_data"
    },
    {
     "data": {
      "text/html": [
       "<pre style=\"white-space:pre;overflow-x:auto;line-height:normal;font-family:Menlo,'DejaVu Sans Mono',consolas,'Courier New',monospace\">Average reward over last 5000 steps: 3.05\n",
       "</pre>\n"
      ],
      "text/plain": [
       "Average reward over last 5000 steps: 3.05\n"
      ]
     },
     "metadata": {},
     "output_type": "display_data"
    },
    {
     "data": {
      "text/html": [
       "<pre style=\"white-space:pre;overflow-x:auto;line-height:normal;font-family:Menlo,'DejaVu Sans Mono',consolas,'Courier New',monospace\">Average reward over last 5000 steps: 3.17\n",
       "</pre>\n"
      ],
      "text/plain": [
       "Average reward over last 5000 steps: 3.17\n"
      ]
     },
     "metadata": {},
     "output_type": "display_data"
    },
    {
     "data": {
      "text/html": [
       "<pre style=\"white-space:pre;overflow-x:auto;line-height:normal;font-family:Menlo,'DejaVu Sans Mono',consolas,'Courier New',monospace\">Average reward over last 5000 steps: 3.07\n",
       "</pre>\n"
      ],
      "text/plain": [
       "Average reward over last 5000 steps: 3.07\n"
      ]
     },
     "metadata": {},
     "output_type": "display_data"
    },
    {
     "data": {
      "text/html": [
       "<pre style=\"white-space:pre;overflow-x:auto;line-height:normal;font-family:Menlo,'DejaVu Sans Mono',consolas,'Courier New',monospace\">Average reward over last 5000 steps: 2.97\n",
       "</pre>\n"
      ],
      "text/plain": [
       "Average reward over last 5000 steps: 2.97\n"
      ]
     },
     "metadata": {},
     "output_type": "display_data"
    },
    {
     "data": {
      "text/html": [
       "<pre style=\"white-space:pre;overflow-x:auto;line-height:normal;font-family:Menlo,'DejaVu Sans Mono',consolas,'Courier New',monospace\">Average reward over last 5000 steps: 3.17\n",
       "</pre>\n"
      ],
      "text/plain": [
       "Average reward over last 5000 steps: 3.17\n"
      ]
     },
     "metadata": {},
     "output_type": "display_data"
    },
    {
     "data": {
      "text/html": [
       "<pre style=\"white-space:pre;overflow-x:auto;line-height:normal;font-family:Menlo,'DejaVu Sans Mono',consolas,'Courier New',monospace\">Average reward over last 5000 steps: 2.83\n",
       "</pre>\n"
      ],
      "text/plain": [
       "Average reward over last 5000 steps: 2.83\n"
      ]
     },
     "metadata": {},
     "output_type": "display_data"
    },
    {
     "data": {
      "text/html": [
       "<pre style=\"white-space:pre;overflow-x:auto;line-height:normal;font-family:Menlo,'DejaVu Sans Mono',consolas,'Courier New',monospace\">Already in the final curriculum phase.\n",
       "</pre>\n"
      ],
      "text/plain": [
       "Already in the final curriculum phase.\n"
      ]
     },
     "metadata": {},
     "output_type": "display_data"
    },
    {
     "data": {
      "text/html": [
       "<pre style=\"white-space:pre;overflow-x:auto;line-height:normal;font-family:Menlo,'DejaVu Sans Mono',consolas,'Courier New',monospace\">Average reward over last 5000 steps: 3.10\n",
       "</pre>\n"
      ],
      "text/plain": [
       "Average reward over last 5000 steps: 3.10\n"
      ]
     },
     "metadata": {},
     "output_type": "display_data"
    },
    {
     "data": {
      "text/html": [
       "<pre style=\"white-space:pre;overflow-x:auto;line-height:normal;font-family:Menlo,'DejaVu Sans Mono',consolas,'Courier New',monospace\">Average reward over last 5000 steps: 3.26\n",
       "</pre>\n"
      ],
      "text/plain": [
       "Average reward over last 5000 steps: 3.26\n"
      ]
     },
     "metadata": {},
     "output_type": "display_data"
    },
    {
     "data": {
      "text/html": [
       "<pre style=\"white-space:pre;overflow-x:auto;line-height:normal;font-family:Menlo,'DejaVu Sans Mono',consolas,'Courier New',monospace\">Average reward over last 5000 steps: 3.10\n",
       "</pre>\n"
      ],
      "text/plain": [
       "Average reward over last 5000 steps: 3.10\n"
      ]
     },
     "metadata": {},
     "output_type": "display_data"
    },
    {
     "data": {
      "text/html": [
       "<pre style=\"white-space:pre;overflow-x:auto;line-height:normal;font-family:Menlo,'DejaVu Sans Mono',consolas,'Courier New',monospace\">Average reward over last 5000 steps: 3.02\n",
       "</pre>\n"
      ],
      "text/plain": [
       "Average reward over last 5000 steps: 3.02\n"
      ]
     },
     "metadata": {},
     "output_type": "display_data"
    },
    {
     "data": {
      "text/html": [
       "<pre style=\"white-space:pre;overflow-x:auto;line-height:normal;font-family:Menlo,'DejaVu Sans Mono',consolas,'Courier New',monospace\">Average reward over last 5000 steps: 2.79\n",
       "</pre>\n"
      ],
      "text/plain": [
       "Average reward over last 5000 steps: 2.79\n"
      ]
     },
     "metadata": {},
     "output_type": "display_data"
    },
    {
     "data": {
      "text/html": [
       "<pre style=\"white-space:pre;overflow-x:auto;line-height:normal;font-family:Menlo,'DejaVu Sans Mono',consolas,'Courier New',monospace\">Average reward over last 5000 steps: 2.84\n",
       "</pre>\n"
      ],
      "text/plain": [
       "Average reward over last 5000 steps: 2.84\n"
      ]
     },
     "metadata": {},
     "output_type": "display_data"
    },
    {
     "data": {
      "text/html": [
       "<pre style=\"white-space:pre;overflow-x:auto;line-height:normal;font-family:Menlo,'DejaVu Sans Mono',consolas,'Courier New',monospace\">Average reward over last 5000 steps: 2.80\n",
       "</pre>\n"
      ],
      "text/plain": [
       "Average reward over last 5000 steps: 2.80\n"
      ]
     },
     "metadata": {},
     "output_type": "display_data"
    },
    {
     "data": {
      "text/html": [
       "<pre style=\"white-space:pre;overflow-x:auto;line-height:normal;font-family:Menlo,'DejaVu Sans Mono',consolas,'Courier New',monospace\">Average reward over last 5000 steps: 2.94\n",
       "</pre>\n"
      ],
      "text/plain": [
       "Average reward over last 5000 steps: 2.94\n"
      ]
     },
     "metadata": {},
     "output_type": "display_data"
    },
    {
     "data": {
      "text/html": [
       "<pre style=\"white-space:pre;overflow-x:auto;line-height:normal;font-family:Menlo,'DejaVu Sans Mono',consolas,'Courier New',monospace\">Average reward over last 5000 steps: 3.38\n",
       "</pre>\n"
      ],
      "text/plain": [
       "Average reward over last 5000 steps: 3.38\n"
      ]
     },
     "metadata": {},
     "output_type": "display_data"
    },
    {
     "data": {
      "text/html": [
       "<pre style=\"white-space:pre;overflow-x:auto;line-height:normal;font-family:Menlo,'DejaVu Sans Mono',consolas,'Courier New',monospace\">Average reward over last 5000 steps: 3.35\n",
       "</pre>\n"
      ],
      "text/plain": [
       "Average reward over last 5000 steps: 3.35\n"
      ]
     },
     "metadata": {},
     "output_type": "display_data"
    },
    {
     "data": {
      "text/html": [
       "<pre style=\"white-space:pre;overflow-x:auto;line-height:normal;font-family:Menlo,'DejaVu Sans Mono',consolas,'Courier New',monospace\">Average reward over last 5000 steps: 3.15\n",
       "</pre>\n"
      ],
      "text/plain": [
       "Average reward over last 5000 steps: 3.15\n"
      ]
     },
     "metadata": {},
     "output_type": "display_data"
    },
    {
     "data": {
      "text/html": [
       "<pre style=\"white-space:pre;overflow-x:auto;line-height:normal;font-family:Menlo,'DejaVu Sans Mono',consolas,'Courier New',monospace\">Average reward over last 5000 steps: 3.49\n",
       "</pre>\n"
      ],
      "text/plain": [
       "Average reward over last 5000 steps: 3.49\n"
      ]
     },
     "metadata": {},
     "output_type": "display_data"
    },
    {
     "data": {
      "text/html": [
       "<pre style=\"white-space:pre;overflow-x:auto;line-height:normal;font-family:Menlo,'DejaVu Sans Mono',consolas,'Courier New',monospace\">Average reward over last 5000 steps: 3.01\n",
       "</pre>\n"
      ],
      "text/plain": [
       "Average reward over last 5000 steps: 3.01\n"
      ]
     },
     "metadata": {},
     "output_type": "display_data"
    },
    {
     "data": {
      "text/html": [
       "<pre style=\"white-space:pre;overflow-x:auto;line-height:normal;font-family:Menlo,'DejaVu Sans Mono',consolas,'Courier New',monospace\">Average reward over last 5000 steps: 3.33\n",
       "</pre>\n"
      ],
      "text/plain": [
       "Average reward over last 5000 steps: 3.33\n"
      ]
     },
     "metadata": {},
     "output_type": "display_data"
    },
    {
     "data": {
      "text/html": [
       "<pre style=\"white-space:pre;overflow-x:auto;line-height:normal;font-family:Menlo,'DejaVu Sans Mono',consolas,'Courier New',monospace\">Average reward over last 5000 steps: 3.12\n",
       "</pre>\n"
      ],
      "text/plain": [
       "Average reward over last 5000 steps: 3.12\n"
      ]
     },
     "metadata": {},
     "output_type": "display_data"
    },
    {
     "data": {
      "text/html": [
       "<pre style=\"white-space:pre;overflow-x:auto;line-height:normal;font-family:Menlo,'DejaVu Sans Mono',consolas,'Courier New',monospace\">Average reward over last 5000 steps: 2.98\n",
       "</pre>\n"
      ],
      "text/plain": [
       "Average reward over last 5000 steps: 2.98\n"
      ]
     },
     "metadata": {},
     "output_type": "display_data"
    },
    {
     "data": {
      "text/html": [
       "<pre style=\"white-space:pre;overflow-x:auto;line-height:normal;font-family:Menlo,'DejaVu Sans Mono',consolas,'Courier New',monospace\">Average reward over last 5000 steps: 2.84\n",
       "</pre>\n"
      ],
      "text/plain": [
       "Average reward over last 5000 steps: 2.84\n"
      ]
     },
     "metadata": {},
     "output_type": "display_data"
    },
    {
     "data": {
      "text/html": [
       "<pre style=\"white-space:pre;overflow-x:auto;line-height:normal;font-family:Menlo,'DejaVu Sans Mono',consolas,'Courier New',monospace\">Average reward over last 5000 steps: 2.97\n",
       "</pre>\n"
      ],
      "text/plain": [
       "Average reward over last 5000 steps: 2.97\n"
      ]
     },
     "metadata": {},
     "output_type": "display_data"
    },
    {
     "data": {
      "text/html": [
       "<pre style=\"white-space:pre;overflow-x:auto;line-height:normal;font-family:Menlo,'DejaVu Sans Mono',consolas,'Courier New',monospace\">Average reward over last 5000 steps: 3.00\n",
       "</pre>\n"
      ],
      "text/plain": [
       "Average reward over last 5000 steps: 3.00\n"
      ]
     },
     "metadata": {},
     "output_type": "display_data"
    },
    {
     "data": {
      "text/html": [
       "<pre style=\"white-space:pre;overflow-x:auto;line-height:normal;font-family:Menlo,'DejaVu Sans Mono',consolas,'Courier New',monospace\">Average reward over last 5000 steps: 3.08\n",
       "</pre>\n"
      ],
      "text/plain": [
       "Average reward over last 5000 steps: 3.08\n"
      ]
     },
     "metadata": {},
     "output_type": "display_data"
    },
    {
     "data": {
      "text/html": [
       "<pre style=\"white-space:pre;overflow-x:auto;line-height:normal;font-family:Menlo,'DejaVu Sans Mono',consolas,'Courier New',monospace\">Average reward over last 5000 steps: 3.02\n",
       "</pre>\n"
      ],
      "text/plain": [
       "Average reward over last 5000 steps: 3.02\n"
      ]
     },
     "metadata": {},
     "output_type": "display_data"
    },
    {
     "data": {
      "text/html": [
       "<pre style=\"white-space:pre;overflow-x:auto;line-height:normal;font-family:Menlo,'DejaVu Sans Mono',consolas,'Courier New',monospace\">Average reward over last 5000 steps: 3.23\n",
       "</pre>\n"
      ],
      "text/plain": [
       "Average reward over last 5000 steps: 3.23\n"
      ]
     },
     "metadata": {},
     "output_type": "display_data"
    },
    {
     "data": {
      "text/html": [
       "<pre style=\"white-space:pre;overflow-x:auto;line-height:normal;font-family:Menlo,'DejaVu Sans Mono',consolas,'Courier New',monospace\">Average reward over last 5000 steps: 3.13\n",
       "</pre>\n"
      ],
      "text/plain": [
       "Average reward over last 5000 steps: 3.13\n"
      ]
     },
     "metadata": {},
     "output_type": "display_data"
    },
    {
     "data": {
      "text/html": [
       "<pre style=\"white-space:pre;overflow-x:auto;line-height:normal;font-family:Menlo,'DejaVu Sans Mono',consolas,'Courier New',monospace\">Average reward over last 5000 steps: 3.16\n",
       "</pre>\n"
      ],
      "text/plain": [
       "Average reward over last 5000 steps: 3.16\n"
      ]
     },
     "metadata": {},
     "output_type": "display_data"
    },
    {
     "data": {
      "text/html": [
       "<pre style=\"white-space:pre;overflow-x:auto;line-height:normal;font-family:Menlo,'DejaVu Sans Mono',consolas,'Courier New',monospace\">Average reward over last 5000 steps: 3.19\n",
       "</pre>\n"
      ],
      "text/plain": [
       "Average reward over last 5000 steps: 3.19\n"
      ]
     },
     "metadata": {},
     "output_type": "display_data"
    },
    {
     "data": {
      "text/html": [
       "<pre style=\"white-space:pre;overflow-x:auto;line-height:normal;font-family:Menlo,'DejaVu Sans Mono',consolas,'Courier New',monospace\">Average reward over last 5000 steps: 3.42\n",
       "</pre>\n"
      ],
      "text/plain": [
       "Average reward over last 5000 steps: 3.42\n"
      ]
     },
     "metadata": {},
     "output_type": "display_data"
    },
    {
     "data": {
      "text/html": [
       "<pre style=\"white-space:pre;overflow-x:auto;line-height:normal;font-family:Menlo,'DejaVu Sans Mono',consolas,'Courier New',monospace\">Average reward over last 5000 steps: 3.27\n",
       "</pre>\n"
      ],
      "text/plain": [
       "Average reward over last 5000 steps: 3.27\n"
      ]
     },
     "metadata": {},
     "output_type": "display_data"
    },
    {
     "data": {
      "text/html": [
       "<pre style=\"white-space:pre;overflow-x:auto;line-height:normal;font-family:Menlo,'DejaVu Sans Mono',consolas,'Courier New',monospace\">Average reward over last 5000 steps: 3.01\n",
       "</pre>\n"
      ],
      "text/plain": [
       "Average reward over last 5000 steps: 3.01\n"
      ]
     },
     "metadata": {},
     "output_type": "display_data"
    },
    {
     "data": {
      "text/html": [
       "<pre style=\"white-space:pre;overflow-x:auto;line-height:normal;font-family:Menlo,'DejaVu Sans Mono',consolas,'Courier New',monospace\">Average reward over last 5000 steps: 2.91\n",
       "</pre>\n"
      ],
      "text/plain": [
       "Average reward over last 5000 steps: 2.91\n"
      ]
     },
     "metadata": {},
     "output_type": "display_data"
    },
    {
     "data": {
      "text/html": [
       "<pre style=\"white-space:pre;overflow-x:auto;line-height:normal;font-family:Menlo,'DejaVu Sans Mono',consolas,'Courier New',monospace\">Average reward over last 5000 steps: 3.19\n",
       "</pre>\n"
      ],
      "text/plain": [
       "Average reward over last 5000 steps: 3.19\n"
      ]
     },
     "metadata": {},
     "output_type": "display_data"
    },
    {
     "data": {
      "text/html": [
       "<pre style=\"white-space:pre;overflow-x:auto;line-height:normal;font-family:Menlo,'DejaVu Sans Mono',consolas,'Courier New',monospace\">Average reward over last 5000 steps: 2.89\n",
       "</pre>\n"
      ],
      "text/plain": [
       "Average reward over last 5000 steps: 2.89\n"
      ]
     },
     "metadata": {},
     "output_type": "display_data"
    },
    {
     "data": {
      "text/html": [
       "<pre style=\"white-space:pre;overflow-x:auto;line-height:normal;font-family:Menlo,'DejaVu Sans Mono',consolas,'Courier New',monospace\">Average reward over last 5000 steps: 2.80\n",
       "</pre>\n"
      ],
      "text/plain": [
       "Average reward over last 5000 steps: 2.80\n"
      ]
     },
     "metadata": {},
     "output_type": "display_data"
    },
    {
     "data": {
      "text/html": [
       "<pre style=\"white-space:pre;overflow-x:auto;line-height:normal;font-family:Menlo,'DejaVu Sans Mono',consolas,'Courier New',monospace\">Average reward over last 5000 steps: 2.97\n",
       "</pre>\n"
      ],
      "text/plain": [
       "Average reward over last 5000 steps: 2.97\n"
      ]
     },
     "metadata": {},
     "output_type": "display_data"
    },
    {
     "data": {
      "text/html": [
       "<pre style=\"white-space:pre;overflow-x:auto;line-height:normal;font-family:Menlo,'DejaVu Sans Mono',consolas,'Courier New',monospace\">Average reward over last 5000 steps: 2.76\n",
       "</pre>\n"
      ],
      "text/plain": [
       "Average reward over last 5000 steps: 2.76\n"
      ]
     },
     "metadata": {},
     "output_type": "display_data"
    },
    {
     "data": {
      "text/html": [
       "<pre style=\"white-space:pre;overflow-x:auto;line-height:normal;font-family:Menlo,'DejaVu Sans Mono',consolas,'Courier New',monospace\">Average reward over last 5000 steps: 2.80\n",
       "</pre>\n"
      ],
      "text/plain": [
       "Average reward over last 5000 steps: 2.80\n"
      ]
     },
     "metadata": {},
     "output_type": "display_data"
    },
    {
     "data": {
      "text/html": [
       "<pre style=\"white-space:pre;overflow-x:auto;line-height:normal;font-family:Menlo,'DejaVu Sans Mono',consolas,'Courier New',monospace\">Average reward over last 5000 steps: 3.15\n",
       "</pre>\n"
      ],
      "text/plain": [
       "Average reward over last 5000 steps: 3.15\n"
      ]
     },
     "metadata": {},
     "output_type": "display_data"
    },
    {
     "data": {
      "text/html": [
       "<pre style=\"white-space:pre;overflow-x:auto;line-height:normal;font-family:Menlo,'DejaVu Sans Mono',consolas,'Courier New',monospace\">Average reward over last 5000 steps: 3.00\n",
       "</pre>\n"
      ],
      "text/plain": [
       "Average reward over last 5000 steps: 3.00\n"
      ]
     },
     "metadata": {},
     "output_type": "display_data"
    },
    {
     "data": {
      "text/html": [
       "<pre style=\"white-space:pre;overflow-x:auto;line-height:normal;font-family:Menlo,'DejaVu Sans Mono',consolas,'Courier New',monospace\">Average reward over last 5000 steps: 3.24\n",
       "</pre>\n"
      ],
      "text/plain": [
       "Average reward over last 5000 steps: 3.24\n"
      ]
     },
     "metadata": {},
     "output_type": "display_data"
    },
    {
     "data": {
      "text/html": [
       "<pre style=\"white-space:pre;overflow-x:auto;line-height:normal;font-family:Menlo,'DejaVu Sans Mono',consolas,'Courier New',monospace\">Average reward over last 5000 steps: 2.85\n",
       "</pre>\n"
      ],
      "text/plain": [
       "Average reward over last 5000 steps: 2.85\n"
      ]
     },
     "metadata": {},
     "output_type": "display_data"
    },
    {
     "data": {
      "text/html": [
       "<pre style=\"white-space:pre;overflow-x:auto;line-height:normal;font-family:Menlo,'DejaVu Sans Mono',consolas,'Courier New',monospace\">Average reward over last 5000 steps: 2.83\n",
       "</pre>\n"
      ],
      "text/plain": [
       "Average reward over last 5000 steps: 2.83\n"
      ]
     },
     "metadata": {},
     "output_type": "display_data"
    },
    {
     "data": {
      "text/html": [
       "<pre style=\"white-space:pre;overflow-x:auto;line-height:normal;font-family:Menlo,'DejaVu Sans Mono',consolas,'Courier New',monospace\">Average reward over last 5000 steps: 2.98\n",
       "</pre>\n"
      ],
      "text/plain": [
       "Average reward over last 5000 steps: 2.98\n"
      ]
     },
     "metadata": {},
     "output_type": "display_data"
    },
    {
     "data": {
      "text/html": [
       "<pre style=\"white-space:pre;overflow-x:auto;line-height:normal;font-family:Menlo,'DejaVu Sans Mono',consolas,'Courier New',monospace\">Average reward over last 5000 steps: 3.15\n",
       "</pre>\n"
      ],
      "text/plain": [
       "Average reward over last 5000 steps: 3.15\n"
      ]
     },
     "metadata": {},
     "output_type": "display_data"
    },
    {
     "data": {
      "text/html": [
       "<pre style=\"white-space:pre;overflow-x:auto;line-height:normal;font-family:Menlo,'DejaVu Sans Mono',consolas,'Courier New',monospace\">Average reward over last 5000 steps: 3.34\n",
       "</pre>\n"
      ],
      "text/plain": [
       "Average reward over last 5000 steps: 3.34\n"
      ]
     },
     "metadata": {},
     "output_type": "display_data"
    },
    {
     "data": {
      "text/html": [
       "<pre style=\"white-space:pre;overflow-x:auto;line-height:normal;font-family:Menlo,'DejaVu Sans Mono',consolas,'Courier New',monospace\">Average reward over last 5000 steps: 3.64\n",
       "</pre>\n"
      ],
      "text/plain": [
       "Average reward over last 5000 steps: 3.64\n"
      ]
     },
     "metadata": {},
     "output_type": "display_data"
    },
    {
     "data": {
      "text/html": [
       "<pre style=\"white-space:pre;overflow-x:auto;line-height:normal;font-family:Menlo,'DejaVu Sans Mono',consolas,'Courier New',monospace\">Average reward over last 5000 steps: 3.12\n",
       "</pre>\n"
      ],
      "text/plain": [
       "Average reward over last 5000 steps: 3.12\n"
      ]
     },
     "metadata": {},
     "output_type": "display_data"
    },
    {
     "data": {
      "text/html": [
       "<pre style=\"white-space:pre;overflow-x:auto;line-height:normal;font-family:Menlo,'DejaVu Sans Mono',consolas,'Courier New',monospace\">Average reward over last 5000 steps: 3.31\n",
       "</pre>\n"
      ],
      "text/plain": [
       "Average reward over last 5000 steps: 3.31\n"
      ]
     },
     "metadata": {},
     "output_type": "display_data"
    },
    {
     "data": {
      "text/html": [
       "<pre style=\"white-space:pre;overflow-x:auto;line-height:normal;font-family:Menlo,'DejaVu Sans Mono',consolas,'Courier New',monospace\">Average reward over last 5000 steps: 3.26\n",
       "</pre>\n"
      ],
      "text/plain": [
       "Average reward over last 5000 steps: 3.26\n"
      ]
     },
     "metadata": {},
     "output_type": "display_data"
    },
    {
     "data": {
      "text/html": [
       "<pre style=\"white-space:pre;overflow-x:auto;line-height:normal;font-family:Menlo,'DejaVu Sans Mono',consolas,'Courier New',monospace\">Average reward over last 5000 steps: 2.77\n",
       "</pre>\n"
      ],
      "text/plain": [
       "Average reward over last 5000 steps: 2.77\n"
      ]
     },
     "metadata": {},
     "output_type": "display_data"
    },
    {
     "data": {
      "text/html": [
       "<pre style=\"white-space:pre;overflow-x:auto;line-height:normal;font-family:Menlo,'DejaVu Sans Mono',consolas,'Courier New',monospace\">Average reward over last 5000 steps: 3.14\n",
       "</pre>\n"
      ],
      "text/plain": [
       "Average reward over last 5000 steps: 3.14\n"
      ]
     },
     "metadata": {},
     "output_type": "display_data"
    },
    {
     "data": {
      "text/html": [
       "<pre style=\"white-space:pre;overflow-x:auto;line-height:normal;font-family:Menlo,'DejaVu Sans Mono',consolas,'Courier New',monospace\">Average reward over last 5000 steps: 3.02\n",
       "</pre>\n"
      ],
      "text/plain": [
       "Average reward over last 5000 steps: 3.02\n"
      ]
     },
     "metadata": {},
     "output_type": "display_data"
    },
    {
     "data": {
      "text/html": [
       "<pre style=\"white-space:pre;overflow-x:auto;line-height:normal;font-family:Menlo,'DejaVu Sans Mono',consolas,'Courier New',monospace\">Average reward over last 5000 steps: 2.98\n",
       "</pre>\n"
      ],
      "text/plain": [
       "Average reward over last 5000 steps: 2.98\n"
      ]
     },
     "metadata": {},
     "output_type": "display_data"
    },
    {
     "data": {
      "text/html": [
       "<pre style=\"white-space:pre;overflow-x:auto;line-height:normal;font-family:Menlo,'DejaVu Sans Mono',consolas,'Courier New',monospace\">Average reward over last 5000 steps: 3.17\n",
       "</pre>\n"
      ],
      "text/plain": [
       "Average reward over last 5000 steps: 3.17\n"
      ]
     },
     "metadata": {},
     "output_type": "display_data"
    },
    {
     "data": {
      "text/html": [
       "<pre style=\"white-space:pre;overflow-x:auto;line-height:normal;font-family:Menlo,'DejaVu Sans Mono',consolas,'Courier New',monospace\">Average reward over last 5000 steps: 3.32\n",
       "</pre>\n"
      ],
      "text/plain": [
       "Average reward over last 5000 steps: 3.32\n"
      ]
     },
     "metadata": {},
     "output_type": "display_data"
    },
    {
     "data": {
      "text/html": [
       "<pre style=\"white-space:pre;overflow-x:auto;line-height:normal;font-family:Menlo,'DejaVu Sans Mono',consolas,'Courier New',monospace\">Average reward over last 5000 steps: 3.03\n",
       "</pre>\n"
      ],
      "text/plain": [
       "Average reward over last 5000 steps: 3.03\n"
      ]
     },
     "metadata": {},
     "output_type": "display_data"
    },
    {
     "data": {
      "text/html": [
       "<pre style=\"white-space:pre;overflow-x:auto;line-height:normal;font-family:Menlo,'DejaVu Sans Mono',consolas,'Courier New',monospace\">Average reward over last 5000 steps: 3.13\n",
       "</pre>\n"
      ],
      "text/plain": [
       "Average reward over last 5000 steps: 3.13\n"
      ]
     },
     "metadata": {},
     "output_type": "display_data"
    },
    {
     "data": {
      "text/html": [
       "<pre style=\"white-space:pre;overflow-x:auto;line-height:normal;font-family:Menlo,'DejaVu Sans Mono',consolas,'Courier New',monospace\">Average reward over last 5000 steps: 3.28\n",
       "</pre>\n"
      ],
      "text/plain": [
       "Average reward over last 5000 steps: 3.28\n"
      ]
     },
     "metadata": {},
     "output_type": "display_data"
    },
    {
     "data": {
      "text/html": [
       "<pre style=\"white-space:pre;overflow-x:auto;line-height:normal;font-family:Menlo,'DejaVu Sans Mono',consolas,'Courier New',monospace\">Average reward over last 5000 steps: 3.07\n",
       "</pre>\n"
      ],
      "text/plain": [
       "Average reward over last 5000 steps: 3.07\n"
      ]
     },
     "metadata": {},
     "output_type": "display_data"
    },
    {
     "data": {
      "text/html": [
       "<pre style=\"white-space:pre;overflow-x:auto;line-height:normal;font-family:Menlo,'DejaVu Sans Mono',consolas,'Courier New',monospace\">Average reward over last 5000 steps: 3.30\n",
       "</pre>\n"
      ],
      "text/plain": [
       "Average reward over last 5000 steps: 3.30\n"
      ]
     },
     "metadata": {},
     "output_type": "display_data"
    },
    {
     "data": {
      "text/html": [
       "<pre style=\"white-space:pre;overflow-x:auto;line-height:normal;font-family:Menlo,'DejaVu Sans Mono',consolas,'Courier New',monospace\">Average reward over last 5000 steps: 3.37\n",
       "</pre>\n"
      ],
      "text/plain": [
       "Average reward over last 5000 steps: 3.37\n"
      ]
     },
     "metadata": {},
     "output_type": "display_data"
    },
    {
     "data": {
      "text/html": [
       "<pre style=\"white-space:pre;overflow-x:auto;line-height:normal;font-family:Menlo,'DejaVu Sans Mono',consolas,'Courier New',monospace\">Average reward over last 5000 steps: 3.46\n",
       "</pre>\n"
      ],
      "text/plain": [
       "Average reward over last 5000 steps: 3.46\n"
      ]
     },
     "metadata": {},
     "output_type": "display_data"
    },
    {
     "data": {
      "text/html": [
       "<pre style=\"white-space:pre;overflow-x:auto;line-height:normal;font-family:Menlo,'DejaVu Sans Mono',consolas,'Courier New',monospace\">Average reward over last 5000 steps: 3.31\n",
       "</pre>\n"
      ],
      "text/plain": [
       "Average reward over last 5000 steps: 3.31\n"
      ]
     },
     "metadata": {},
     "output_type": "display_data"
    },
    {
     "data": {
      "text/html": [
       "<pre style=\"white-space:pre;overflow-x:auto;line-height:normal;font-family:Menlo,'DejaVu Sans Mono',consolas,'Courier New',monospace\">Average reward over last 5000 steps: 2.87\n",
       "</pre>\n"
      ],
      "text/plain": [
       "Average reward over last 5000 steps: 2.87\n"
      ]
     },
     "metadata": {},
     "output_type": "display_data"
    },
    {
     "data": {
      "text/html": [
       "<pre style=\"white-space:pre;overflow-x:auto;line-height:normal;font-family:Menlo,'DejaVu Sans Mono',consolas,'Courier New',monospace\">Average reward over last 5000 steps: 2.85\n",
       "</pre>\n"
      ],
      "text/plain": [
       "Average reward over last 5000 steps: 2.85\n"
      ]
     },
     "metadata": {},
     "output_type": "display_data"
    },
    {
     "data": {
      "text/html": [
       "<pre style=\"white-space:pre;overflow-x:auto;line-height:normal;font-family:Menlo,'DejaVu Sans Mono',consolas,'Courier New',monospace\">Average reward over last 5000 steps: 2.94\n",
       "</pre>\n"
      ],
      "text/plain": [
       "Average reward over last 5000 steps: 2.94\n"
      ]
     },
     "metadata": {},
     "output_type": "display_data"
    },
    {
     "data": {
      "text/html": [
       "<pre style=\"white-space:pre;overflow-x:auto;line-height:normal;font-family:Menlo,'DejaVu Sans Mono',consolas,'Courier New',monospace\">Average reward over last 5000 steps: 2.70\n",
       "</pre>\n"
      ],
      "text/plain": [
       "Average reward over last 5000 steps: 2.70\n"
      ]
     },
     "metadata": {},
     "output_type": "display_data"
    },
    {
     "data": {
      "text/html": [
       "<pre style=\"white-space:pre;overflow-x:auto;line-height:normal;font-family:Menlo,'DejaVu Sans Mono',consolas,'Courier New',monospace\">Average reward over last 5000 steps: 3.13\n",
       "</pre>\n"
      ],
      "text/plain": [
       "Average reward over last 5000 steps: 3.13\n"
      ]
     },
     "metadata": {},
     "output_type": "display_data"
    },
    {
     "data": {
      "text/html": [
       "<pre style=\"white-space:pre;overflow-x:auto;line-height:normal;font-family:Menlo,'DejaVu Sans Mono',consolas,'Courier New',monospace\">Average reward over last 5000 steps: 3.30\n",
       "</pre>\n"
      ],
      "text/plain": [
       "Average reward over last 5000 steps: 3.30\n"
      ]
     },
     "metadata": {},
     "output_type": "display_data"
    },
    {
     "data": {
      "text/html": [
       "<pre style=\"white-space:pre;overflow-x:auto;line-height:normal;font-family:Menlo,'DejaVu Sans Mono',consolas,'Courier New',monospace\">Average reward over last 5000 steps: 3.58\n",
       "</pre>\n"
      ],
      "text/plain": [
       "Average reward over last 5000 steps: 3.58\n"
      ]
     },
     "metadata": {},
     "output_type": "display_data"
    },
    {
     "data": {
      "text/html": [
       "<pre style=\"white-space:pre;overflow-x:auto;line-height:normal;font-family:Menlo,'DejaVu Sans Mono',consolas,'Courier New',monospace\">Average reward over last 5000 steps: 2.86\n",
       "</pre>\n"
      ],
      "text/plain": [
       "Average reward over last 5000 steps: 2.86\n"
      ]
     },
     "metadata": {},
     "output_type": "display_data"
    },
    {
     "data": {
      "text/html": [
       "<pre style=\"white-space:pre;overflow-x:auto;line-height:normal;font-family:Menlo,'DejaVu Sans Mono',consolas,'Courier New',monospace\">Average reward over last 5000 steps: 3.14\n",
       "</pre>\n"
      ],
      "text/plain": [
       "Average reward over last 5000 steps: 3.14\n"
      ]
     },
     "metadata": {},
     "output_type": "display_data"
    },
    {
     "data": {
      "text/html": [
       "<pre style=\"white-space:pre;overflow-x:auto;line-height:normal;font-family:Menlo,'DejaVu Sans Mono',consolas,'Courier New',monospace\">Average reward over last 5000 steps: 3.35\n",
       "</pre>\n"
      ],
      "text/plain": [
       "Average reward over last 5000 steps: 3.35\n"
      ]
     },
     "metadata": {},
     "output_type": "display_data"
    },
    {
     "data": {
      "text/html": [
       "<pre style=\"white-space:pre;overflow-x:auto;line-height:normal;font-family:Menlo,'DejaVu Sans Mono',consolas,'Courier New',monospace\">Average reward over last 5000 steps: 3.06\n",
       "</pre>\n"
      ],
      "text/plain": [
       "Average reward over last 5000 steps: 3.06\n"
      ]
     },
     "metadata": {},
     "output_type": "display_data"
    },
    {
     "data": {
      "text/html": [
       "<pre style=\"white-space:pre;overflow-x:auto;line-height:normal;font-family:Menlo,'DejaVu Sans Mono',consolas,'Courier New',monospace\">Average reward over last 5000 steps: 3.49\n",
       "</pre>\n"
      ],
      "text/plain": [
       "Average reward over last 5000 steps: 3.49\n"
      ]
     },
     "metadata": {},
     "output_type": "display_data"
    },
    {
     "data": {
      "text/html": [
       "<pre style=\"white-space:pre;overflow-x:auto;line-height:normal;font-family:Menlo,'DejaVu Sans Mono',consolas,'Courier New',monospace\">Average reward over last 5000 steps: 3.23\n",
       "</pre>\n"
      ],
      "text/plain": [
       "Average reward over last 5000 steps: 3.23\n"
      ]
     },
     "metadata": {},
     "output_type": "display_data"
    },
    {
     "data": {
      "text/html": [
       "<pre style=\"white-space:pre;overflow-x:auto;line-height:normal;font-family:Menlo,'DejaVu Sans Mono',consolas,'Courier New',monospace\">Average reward over last 5000 steps: 3.18\n",
       "</pre>\n"
      ],
      "text/plain": [
       "Average reward over last 5000 steps: 3.18\n"
      ]
     },
     "metadata": {},
     "output_type": "display_data"
    },
    {
     "data": {
      "text/html": [
       "<pre style=\"white-space:pre;overflow-x:auto;line-height:normal;font-family:Menlo,'DejaVu Sans Mono',consolas,'Courier New',monospace\">Average reward over last 5000 steps: 3.34\n",
       "</pre>\n"
      ],
      "text/plain": [
       "Average reward over last 5000 steps: 3.34\n"
      ]
     },
     "metadata": {},
     "output_type": "display_data"
    },
    {
     "data": {
      "text/html": [
       "<pre style=\"white-space:pre;overflow-x:auto;line-height:normal;font-family:Menlo,'DejaVu Sans Mono',consolas,'Courier New',monospace\">Average reward over last 5000 steps: 3.26\n",
       "</pre>\n"
      ],
      "text/plain": [
       "Average reward over last 5000 steps: 3.26\n"
      ]
     },
     "metadata": {},
     "output_type": "display_data"
    },
    {
     "data": {
      "text/html": [
       "<pre style=\"white-space:pre;overflow-x:auto;line-height:normal;font-family:Menlo,'DejaVu Sans Mono',consolas,'Courier New',monospace\">Average reward over last 5000 steps: 3.05\n",
       "</pre>\n"
      ],
      "text/plain": [
       "Average reward over last 5000 steps: 3.05\n"
      ]
     },
     "metadata": {},
     "output_type": "display_data"
    },
    {
     "data": {
      "text/html": [
       "<pre style=\"white-space:pre;overflow-x:auto;line-height:normal;font-family:Menlo,'DejaVu Sans Mono',consolas,'Courier New',monospace\">Average reward over last 5000 steps: 3.31\n",
       "</pre>\n"
      ],
      "text/plain": [
       "Average reward over last 5000 steps: 3.31\n"
      ]
     },
     "metadata": {},
     "output_type": "display_data"
    },
    {
     "data": {
      "text/html": [
       "<pre style=\"white-space:pre;overflow-x:auto;line-height:normal;font-family:Menlo,'DejaVu Sans Mono',consolas,'Courier New',monospace\">Average reward over last 5000 steps: 2.97\n",
       "</pre>\n"
      ],
      "text/plain": [
       "Average reward over last 5000 steps: 2.97\n"
      ]
     },
     "metadata": {},
     "output_type": "display_data"
    },
    {
     "data": {
      "text/html": [
       "<pre style=\"white-space:pre;overflow-x:auto;line-height:normal;font-family:Menlo,'DejaVu Sans Mono',consolas,'Courier New',monospace\">Average reward over last 5000 steps: 3.43\n",
       "</pre>\n"
      ],
      "text/plain": [
       "Average reward over last 5000 steps: 3.43\n"
      ]
     },
     "metadata": {},
     "output_type": "display_data"
    },
    {
     "data": {
      "text/html": [
       "<pre style=\"white-space:pre;overflow-x:auto;line-height:normal;font-family:Menlo,'DejaVu Sans Mono',consolas,'Courier New',monospace\">Average reward over last 5000 steps: 3.14\n",
       "</pre>\n"
      ],
      "text/plain": [
       "Average reward over last 5000 steps: 3.14\n"
      ]
     },
     "metadata": {},
     "output_type": "display_data"
    },
    {
     "data": {
      "text/html": [
       "<pre style=\"white-space:pre;overflow-x:auto;line-height:normal;font-family:Menlo,'DejaVu Sans Mono',consolas,'Courier New',monospace\">Average reward over last 5000 steps: 2.95\n",
       "</pre>\n"
      ],
      "text/plain": [
       "Average reward over last 5000 steps: 2.95\n"
      ]
     },
     "metadata": {},
     "output_type": "display_data"
    },
    {
     "data": {
      "text/html": [
       "<pre style=\"white-space:pre;overflow-x:auto;line-height:normal;font-family:Menlo,'DejaVu Sans Mono',consolas,'Courier New',monospace\">Average reward over last 5000 steps: 3.22\n",
       "</pre>\n"
      ],
      "text/plain": [
       "Average reward over last 5000 steps: 3.22\n"
      ]
     },
     "metadata": {},
     "output_type": "display_data"
    },
    {
     "data": {
      "text/html": [
       "<pre style=\"white-space:pre;overflow-x:auto;line-height:normal;font-family:Menlo,'DejaVu Sans Mono',consolas,'Courier New',monospace\">Average reward over last 5000 steps: 3.36\n",
       "</pre>\n"
      ],
      "text/plain": [
       "Average reward over last 5000 steps: 3.36\n"
      ]
     },
     "metadata": {},
     "output_type": "display_data"
    },
    {
     "data": {
      "text/html": [
       "<pre style=\"white-space:pre;overflow-x:auto;line-height:normal;font-family:Menlo,'DejaVu Sans Mono',consolas,'Courier New',monospace\">Average reward over last 5000 steps: 3.37\n",
       "</pre>\n"
      ],
      "text/plain": [
       "Average reward over last 5000 steps: 3.37\n"
      ]
     },
     "metadata": {},
     "output_type": "display_data"
    },
    {
     "data": {
      "text/html": [
       "<pre style=\"white-space:pre;overflow-x:auto;line-height:normal;font-family:Menlo,'DejaVu Sans Mono',consolas,'Courier New',monospace\">Average reward over last 5000 steps: 2.86\n",
       "</pre>\n"
      ],
      "text/plain": [
       "Average reward over last 5000 steps: 2.86\n"
      ]
     },
     "metadata": {},
     "output_type": "display_data"
    },
    {
     "data": {
      "text/html": [
       "<pre style=\"white-space:pre;overflow-x:auto;line-height:normal;font-family:Menlo,'DejaVu Sans Mono',consolas,'Courier New',monospace\">Average reward over last 5000 steps: 2.91\n",
       "</pre>\n"
      ],
      "text/plain": [
       "Average reward over last 5000 steps: 2.91\n"
      ]
     },
     "metadata": {},
     "output_type": "display_data"
    },
    {
     "data": {
      "text/html": [
       "<pre style=\"white-space:pre;overflow-x:auto;line-height:normal;font-family:Menlo,'DejaVu Sans Mono',consolas,'Courier New',monospace\">Average reward over last 5000 steps: 2.81\n",
       "</pre>\n"
      ],
      "text/plain": [
       "Average reward over last 5000 steps: 2.81\n"
      ]
     },
     "metadata": {},
     "output_type": "display_data"
    },
    {
     "data": {
      "text/html": [
       "<pre style=\"white-space:pre;overflow-x:auto;line-height:normal;font-family:Menlo,'DejaVu Sans Mono',consolas,'Courier New',monospace\">Average reward over last 5000 steps: 3.25\n",
       "</pre>\n"
      ],
      "text/plain": [
       "Average reward over last 5000 steps: 3.25\n"
      ]
     },
     "metadata": {},
     "output_type": "display_data"
    },
    {
     "data": {
      "text/html": [
       "<pre style=\"white-space:pre;overflow-x:auto;line-height:normal;font-family:Menlo,'DejaVu Sans Mono',consolas,'Courier New',monospace\">Average reward over last 5000 steps: 3.11\n",
       "</pre>\n"
      ],
      "text/plain": [
       "Average reward over last 5000 steps: 3.11\n"
      ]
     },
     "metadata": {},
     "output_type": "display_data"
    },
    {
     "data": {
      "text/html": [
       "<pre style=\"white-space:pre;overflow-x:auto;line-height:normal;font-family:Menlo,'DejaVu Sans Mono',consolas,'Courier New',monospace\">Average reward over last 5000 steps: 3.26\n",
       "</pre>\n"
      ],
      "text/plain": [
       "Average reward over last 5000 steps: 3.26\n"
      ]
     },
     "metadata": {},
     "output_type": "display_data"
    },
    {
     "data": {
      "text/html": [
       "<pre style=\"white-space:pre;overflow-x:auto;line-height:normal;font-family:Menlo,'DejaVu Sans Mono',consolas,'Courier New',monospace\">Average reward over last 5000 steps: 3.55\n",
       "</pre>\n"
      ],
      "text/plain": [
       "Average reward over last 5000 steps: 3.55\n"
      ]
     },
     "metadata": {},
     "output_type": "display_data"
    },
    {
     "data": {
      "text/html": [
       "<pre style=\"white-space:pre;overflow-x:auto;line-height:normal;font-family:Menlo,'DejaVu Sans Mono',consolas,'Courier New',monospace\">Average reward over last 5000 steps: 3.19\n",
       "</pre>\n"
      ],
      "text/plain": [
       "Average reward over last 5000 steps: 3.19\n"
      ]
     },
     "metadata": {},
     "output_type": "display_data"
    },
    {
     "data": {
      "text/html": [
       "<pre style=\"white-space:pre;overflow-x:auto;line-height:normal;font-family:Menlo,'DejaVu Sans Mono',consolas,'Courier New',monospace\">Average reward over last 5000 steps: 3.14\n",
       "</pre>\n"
      ],
      "text/plain": [
       "Average reward over last 5000 steps: 3.14\n"
      ]
     },
     "metadata": {},
     "output_type": "display_data"
    },
    {
     "data": {
      "text/html": [
       "<pre style=\"white-space:pre;overflow-x:auto;line-height:normal;font-family:Menlo,'DejaVu Sans Mono',consolas,'Courier New',monospace\">Average reward over last 5000 steps: 3.12\n",
       "</pre>\n"
      ],
      "text/plain": [
       "Average reward over last 5000 steps: 3.12\n"
      ]
     },
     "metadata": {},
     "output_type": "display_data"
    },
    {
     "data": {
      "text/html": [
       "<pre style=\"white-space:pre;overflow-x:auto;line-height:normal;font-family:Menlo,'DejaVu Sans Mono',consolas,'Courier New',monospace\">Average reward over last 5000 steps: 3.22\n",
       "</pre>\n"
      ],
      "text/plain": [
       "Average reward over last 5000 steps: 3.22\n"
      ]
     },
     "metadata": {},
     "output_type": "display_data"
    },
    {
     "data": {
      "text/html": [
       "<pre style=\"white-space:pre;overflow-x:auto;line-height:normal;font-family:Menlo,'DejaVu Sans Mono',consolas,'Courier New',monospace\">Average reward over last 5000 steps: 2.96\n",
       "</pre>\n"
      ],
      "text/plain": [
       "Average reward over last 5000 steps: 2.96\n"
      ]
     },
     "metadata": {},
     "output_type": "display_data"
    },
    {
     "data": {
      "text/html": [
       "<pre style=\"white-space:pre;overflow-x:auto;line-height:normal;font-family:Menlo,'DejaVu Sans Mono',consolas,'Courier New',monospace\">Average reward over last 5000 steps: 3.18\n",
       "</pre>\n"
      ],
      "text/plain": [
       "Average reward over last 5000 steps: 3.18\n"
      ]
     },
     "metadata": {},
     "output_type": "display_data"
    },
    {
     "data": {
      "text/html": [
       "<pre style=\"white-space:pre;overflow-x:auto;line-height:normal;font-family:Menlo,'DejaVu Sans Mono',consolas,'Courier New',monospace\">Average reward over last 5000 steps: 3.16\n",
       "</pre>\n"
      ],
      "text/plain": [
       "Average reward over last 5000 steps: 3.16\n"
      ]
     },
     "metadata": {},
     "output_type": "display_data"
    },
    {
     "data": {
      "text/html": [
       "<pre style=\"white-space:pre;overflow-x:auto;line-height:normal;font-family:Menlo,'DejaVu Sans Mono',consolas,'Courier New',monospace\">Average reward over last 5000 steps: 3.04\n",
       "</pre>\n"
      ],
      "text/plain": [
       "Average reward over last 5000 steps: 3.04\n"
      ]
     },
     "metadata": {},
     "output_type": "display_data"
    },
    {
     "data": {
      "text/html": [
       "<pre style=\"white-space:pre;overflow-x:auto;line-height:normal;font-family:Menlo,'DejaVu Sans Mono',consolas,'Courier New',monospace\">Average reward over last 5000 steps: 3.09\n",
       "</pre>\n"
      ],
      "text/plain": [
       "Average reward over last 5000 steps: 3.09\n"
      ]
     },
     "metadata": {},
     "output_type": "display_data"
    },
    {
     "data": {
      "text/html": [
       "<pre style=\"white-space:pre;overflow-x:auto;line-height:normal;font-family:Menlo,'DejaVu Sans Mono',consolas,'Courier New',monospace\">Average reward over last 5000 steps: 2.93\n",
       "</pre>\n"
      ],
      "text/plain": [
       "Average reward over last 5000 steps: 2.93\n"
      ]
     },
     "metadata": {},
     "output_type": "display_data"
    },
    {
     "data": {
      "text/html": [
       "<pre style=\"white-space:pre;overflow-x:auto;line-height:normal;font-family:Menlo,'DejaVu Sans Mono',consolas,'Courier New',monospace\">Average reward over last 5000 steps: 2.85\n",
       "</pre>\n"
      ],
      "text/plain": [
       "Average reward over last 5000 steps: 2.85\n"
      ]
     },
     "metadata": {},
     "output_type": "display_data"
    },
    {
     "data": {
      "text/html": [
       "<pre style=\"white-space:pre;overflow-x:auto;line-height:normal;font-family:Menlo,'DejaVu Sans Mono',consolas,'Courier New',monospace\">Average reward over last 5000 steps: 3.29\n",
       "</pre>\n"
      ],
      "text/plain": [
       "Average reward over last 5000 steps: 3.29\n"
      ]
     },
     "metadata": {},
     "output_type": "display_data"
    },
    {
     "data": {
      "text/html": [
       "<pre style=\"white-space:pre;overflow-x:auto;line-height:normal;font-family:Menlo,'DejaVu Sans Mono',consolas,'Courier New',monospace\">Average reward over last 5000 steps: 3.01\n",
       "</pre>\n"
      ],
      "text/plain": [
       "Average reward over last 5000 steps: 3.01\n"
      ]
     },
     "metadata": {},
     "output_type": "display_data"
    },
    {
     "data": {
      "text/html": [
       "<pre style=\"white-space:pre;overflow-x:auto;line-height:normal;font-family:Menlo,'DejaVu Sans Mono',consolas,'Courier New',monospace\">Average reward over last 5000 steps: 2.98\n",
       "</pre>\n"
      ],
      "text/plain": [
       "Average reward over last 5000 steps: 2.98\n"
      ]
     },
     "metadata": {},
     "output_type": "display_data"
    },
    {
     "data": {
      "text/html": [
       "<pre style=\"white-space:pre;overflow-x:auto;line-height:normal;font-family:Menlo,'DejaVu Sans Mono',consolas,'Courier New',monospace\">Average reward over last 5000 steps: 3.01\n",
       "</pre>\n"
      ],
      "text/plain": [
       "Average reward over last 5000 steps: 3.01\n"
      ]
     },
     "metadata": {},
     "output_type": "display_data"
    },
    {
     "data": {
      "text/html": [
       "<pre style=\"white-space:pre;overflow-x:auto;line-height:normal;font-family:Menlo,'DejaVu Sans Mono',consolas,'Courier New',monospace\">Average reward over last 5000 steps: 3.36\n",
       "</pre>\n"
      ],
      "text/plain": [
       "Average reward over last 5000 steps: 3.36\n"
      ]
     },
     "metadata": {},
     "output_type": "display_data"
    },
    {
     "data": {
      "text/html": [
       "<pre style=\"white-space:pre;overflow-x:auto;line-height:normal;font-family:Menlo,'DejaVu Sans Mono',consolas,'Courier New',monospace\">Average reward over last 5000 steps: 3.01\n",
       "</pre>\n"
      ],
      "text/plain": [
       "Average reward over last 5000 steps: 3.01\n"
      ]
     },
     "metadata": {},
     "output_type": "display_data"
    },
    {
     "data": {
      "text/html": [
       "<pre style=\"white-space:pre;overflow-x:auto;line-height:normal;font-family:Menlo,'DejaVu Sans Mono',consolas,'Courier New',monospace\">Average reward over last 5000 steps: 3.30\n",
       "</pre>\n"
      ],
      "text/plain": [
       "Average reward over last 5000 steps: 3.30\n"
      ]
     },
     "metadata": {},
     "output_type": "display_data"
    },
    {
     "data": {
      "text/html": [
       "<pre style=\"white-space:pre;overflow-x:auto;line-height:normal;font-family:Menlo,'DejaVu Sans Mono',consolas,'Courier New',monospace\">Average reward over last 5000 steps: 3.25\n",
       "</pre>\n"
      ],
      "text/plain": [
       "Average reward over last 5000 steps: 3.25\n"
      ]
     },
     "metadata": {},
     "output_type": "display_data"
    },
    {
     "data": {
      "text/html": [
       "<pre style=\"white-space:pre;overflow-x:auto;line-height:normal;font-family:Menlo,'DejaVu Sans Mono',consolas,'Courier New',monospace\">Average reward over last 5000 steps: 3.01\n",
       "</pre>\n"
      ],
      "text/plain": [
       "Average reward over last 5000 steps: 3.01\n"
      ]
     },
     "metadata": {},
     "output_type": "display_data"
    },
    {
     "data": {
      "text/html": [
       "<pre style=\"white-space:pre;overflow-x:auto;line-height:normal;font-family:Menlo,'DejaVu Sans Mono',consolas,'Courier New',monospace\">Average reward over last 5000 steps: 3.28\n",
       "</pre>\n"
      ],
      "text/plain": [
       "Average reward over last 5000 steps: 3.28\n"
      ]
     },
     "metadata": {},
     "output_type": "display_data"
    },
    {
     "data": {
      "text/html": [
       "<pre style=\"white-space:pre;overflow-x:auto;line-height:normal;font-family:Menlo,'DejaVu Sans Mono',consolas,'Courier New',monospace\">Average reward over last 5000 steps: 3.31\n",
       "</pre>\n"
      ],
      "text/plain": [
       "Average reward over last 5000 steps: 3.31\n"
      ]
     },
     "metadata": {},
     "output_type": "display_data"
    },
    {
     "data": {
      "text/html": [
       "<pre style=\"white-space:pre;overflow-x:auto;line-height:normal;font-family:Menlo,'DejaVu Sans Mono',consolas,'Courier New',monospace\">Average reward over last 5000 steps: 3.29\n",
       "</pre>\n"
      ],
      "text/plain": [
       "Average reward over last 5000 steps: 3.29\n"
      ]
     },
     "metadata": {},
     "output_type": "display_data"
    },
    {
     "data": {
      "text/html": [
       "<pre style=\"white-space:pre;overflow-x:auto;line-height:normal;font-family:Menlo,'DejaVu Sans Mono',consolas,'Courier New',monospace\">Average reward over last 5000 steps: 3.24\n",
       "</pre>\n"
      ],
      "text/plain": [
       "Average reward over last 5000 steps: 3.24\n"
      ]
     },
     "metadata": {},
     "output_type": "display_data"
    },
    {
     "data": {
      "text/html": [
       "<pre style=\"white-space:pre;overflow-x:auto;line-height:normal;font-family:Menlo,'DejaVu Sans Mono',consolas,'Courier New',monospace\">Average reward over last 5000 steps: 3.39\n",
       "</pre>\n"
      ],
      "text/plain": [
       "Average reward over last 5000 steps: 3.39\n"
      ]
     },
     "metadata": {},
     "output_type": "display_data"
    },
    {
     "data": {
      "text/html": [
       "<pre style=\"white-space:pre;overflow-x:auto;line-height:normal;font-family:Menlo,'DejaVu Sans Mono',consolas,'Courier New',monospace\">Average reward over last 5000 steps: 3.37\n",
       "</pre>\n"
      ],
      "text/plain": [
       "Average reward over last 5000 steps: 3.37\n"
      ]
     },
     "metadata": {},
     "output_type": "display_data"
    },
    {
     "data": {
      "text/html": [
       "<pre style=\"white-space:pre;overflow-x:auto;line-height:normal;font-family:Menlo,'DejaVu Sans Mono',consolas,'Courier New',monospace\">Average reward over last 5000 steps: 3.26\n",
       "</pre>\n"
      ],
      "text/plain": [
       "Average reward over last 5000 steps: 3.26\n"
      ]
     },
     "metadata": {},
     "output_type": "display_data"
    },
    {
     "data": {
      "text/html": [
       "<pre style=\"white-space:pre;overflow-x:auto;line-height:normal;font-family:Menlo,'DejaVu Sans Mono',consolas,'Courier New',monospace\">Average reward over last 5000 steps: 3.18\n",
       "</pre>\n"
      ],
      "text/plain": [
       "Average reward over last 5000 steps: 3.18\n"
      ]
     },
     "metadata": {},
     "output_type": "display_data"
    },
    {
     "data": {
      "text/html": [
       "<pre style=\"white-space:pre;overflow-x:auto;line-height:normal;font-family:Menlo,'DejaVu Sans Mono',consolas,'Courier New',monospace\">Average reward over last 5000 steps: 2.94\n",
       "</pre>\n"
      ],
      "text/plain": [
       "Average reward over last 5000 steps: 2.94\n"
      ]
     },
     "metadata": {},
     "output_type": "display_data"
    },
    {
     "data": {
      "text/html": [
       "<pre style=\"white-space:pre;overflow-x:auto;line-height:normal;font-family:Menlo,'DejaVu Sans Mono',consolas,'Courier New',monospace\">Average reward over last 5000 steps: 3.04\n",
       "</pre>\n"
      ],
      "text/plain": [
       "Average reward over last 5000 steps: 3.04\n"
      ]
     },
     "metadata": {},
     "output_type": "display_data"
    },
    {
     "data": {
      "text/html": [
       "<pre style=\"white-space:pre;overflow-x:auto;line-height:normal;font-family:Menlo,'DejaVu Sans Mono',consolas,'Courier New',monospace\">Average reward over last 5000 steps: 3.13\n",
       "</pre>\n"
      ],
      "text/plain": [
       "Average reward over last 5000 steps: 3.13\n"
      ]
     },
     "metadata": {},
     "output_type": "display_data"
    },
    {
     "data": {
      "text/html": [
       "<pre style=\"white-space:pre;overflow-x:auto;line-height:normal;font-family:Menlo,'DejaVu Sans Mono',consolas,'Courier New',monospace\">Average reward over last 5000 steps: 2.78\n",
       "</pre>\n"
      ],
      "text/plain": [
       "Average reward over last 5000 steps: 2.78\n"
      ]
     },
     "metadata": {},
     "output_type": "display_data"
    },
    {
     "data": {
      "text/html": [
       "<pre style=\"white-space:pre;overflow-x:auto;line-height:normal;font-family:Menlo,'DejaVu Sans Mono',consolas,'Courier New',monospace\">Average reward over last 5000 steps: 3.08\n",
       "</pre>\n"
      ],
      "text/plain": [
       "Average reward over last 5000 steps: 3.08\n"
      ]
     },
     "metadata": {},
     "output_type": "display_data"
    },
    {
     "data": {
      "text/html": [
       "<pre style=\"white-space:pre;overflow-x:auto;line-height:normal;font-family:Menlo,'DejaVu Sans Mono',consolas,'Courier New',monospace\">Average reward over last 5000 steps: 2.97\n",
       "</pre>\n"
      ],
      "text/plain": [
       "Average reward over last 5000 steps: 2.97\n"
      ]
     },
     "metadata": {},
     "output_type": "display_data"
    },
    {
     "data": {
      "text/html": [
       "<pre style=\"white-space:pre;overflow-x:auto;line-height:normal;font-family:Menlo,'DejaVu Sans Mono',consolas,'Courier New',monospace\">Average reward over last 5000 steps: 3.16\n",
       "</pre>\n"
      ],
      "text/plain": [
       "Average reward over last 5000 steps: 3.16\n"
      ]
     },
     "metadata": {},
     "output_type": "display_data"
    },
    {
     "data": {
      "text/html": [
       "<pre style=\"white-space:pre;overflow-x:auto;line-height:normal;font-family:Menlo,'DejaVu Sans Mono',consolas,'Courier New',monospace\">Average reward over last 5000 steps: 3.04\n",
       "</pre>\n"
      ],
      "text/plain": [
       "Average reward over last 5000 steps: 3.04\n"
      ]
     },
     "metadata": {},
     "output_type": "display_data"
    },
    {
     "data": {
      "text/html": [
       "<pre style=\"white-space:pre;overflow-x:auto;line-height:normal;font-family:Menlo,'DejaVu Sans Mono',consolas,'Courier New',monospace\">Average reward over last 5000 steps: 3.10\n",
       "</pre>\n"
      ],
      "text/plain": [
       "Average reward over last 5000 steps: 3.10\n"
      ]
     },
     "metadata": {},
     "output_type": "display_data"
    },
    {
     "data": {
      "text/html": [
       "<pre style=\"white-space:pre;overflow-x:auto;line-height:normal;font-family:Menlo,'DejaVu Sans Mono',consolas,'Courier New',monospace\">Average reward over last 5000 steps: 3.36\n",
       "</pre>\n"
      ],
      "text/plain": [
       "Average reward over last 5000 steps: 3.36\n"
      ]
     },
     "metadata": {},
     "output_type": "display_data"
    },
    {
     "data": {
      "text/html": [
       "<pre style=\"white-space:pre;overflow-x:auto;line-height:normal;font-family:Menlo,'DejaVu Sans Mono',consolas,'Courier New',monospace\">Average reward over last 5000 steps: 2.87\n",
       "</pre>\n"
      ],
      "text/plain": [
       "Average reward over last 5000 steps: 2.87\n"
      ]
     },
     "metadata": {},
     "output_type": "display_data"
    },
    {
     "data": {
      "text/html": [
       "<pre style=\"white-space:pre;overflow-x:auto;line-height:normal;font-family:Menlo,'DejaVu Sans Mono',consolas,'Courier New',monospace\">Average reward over last 5000 steps: 3.09\n",
       "</pre>\n"
      ],
      "text/plain": [
       "Average reward over last 5000 steps: 3.09\n"
      ]
     },
     "metadata": {},
     "output_type": "display_data"
    },
    {
     "data": {
      "text/html": [
       "<pre style=\"white-space:pre;overflow-x:auto;line-height:normal;font-family:Menlo,'DejaVu Sans Mono',consolas,'Courier New',monospace\">Average reward over last 5000 steps: 2.92\n",
       "</pre>\n"
      ],
      "text/plain": [
       "Average reward over last 5000 steps: 2.92\n"
      ]
     },
     "metadata": {},
     "output_type": "display_data"
    },
    {
     "data": {
      "text/html": [
       "<pre style=\"white-space:pre;overflow-x:auto;line-height:normal;font-family:Menlo,'DejaVu Sans Mono',consolas,'Courier New',monospace\">Average reward over last 5000 steps: 2.99\n",
       "</pre>\n"
      ],
      "text/plain": [
       "Average reward over last 5000 steps: 2.99\n"
      ]
     },
     "metadata": {},
     "output_type": "display_data"
    },
    {
     "data": {
      "text/html": [
       "<pre style=\"white-space:pre;overflow-x:auto;line-height:normal;font-family:Menlo,'DejaVu Sans Mono',consolas,'Courier New',monospace\">Average reward over last 5000 steps: 2.93\n",
       "</pre>\n"
      ],
      "text/plain": [
       "Average reward over last 5000 steps: 2.93\n"
      ]
     },
     "metadata": {},
     "output_type": "display_data"
    },
    {
     "data": {
      "text/html": [
       "<pre style=\"white-space:pre;overflow-x:auto;line-height:normal;font-family:Menlo,'DejaVu Sans Mono',consolas,'Courier New',monospace\">Average reward over last 5000 steps: 2.98\n",
       "</pre>\n"
      ],
      "text/plain": [
       "Average reward over last 5000 steps: 2.98\n"
      ]
     },
     "metadata": {},
     "output_type": "display_data"
    },
    {
     "data": {
      "text/html": [
       "<pre style=\"white-space:pre;overflow-x:auto;line-height:normal;font-family:Menlo,'DejaVu Sans Mono',consolas,'Courier New',monospace\">Average reward over last 5000 steps: 2.72\n",
       "</pre>\n"
      ],
      "text/plain": [
       "Average reward over last 5000 steps: 2.72\n"
      ]
     },
     "metadata": {},
     "output_type": "display_data"
    },
    {
     "data": {
      "text/html": [
       "<pre style=\"white-space:pre;overflow-x:auto;line-height:normal;font-family:Menlo,'DejaVu Sans Mono',consolas,'Courier New',monospace\">Average reward over last 5000 steps: 3.17\n",
       "</pre>\n"
      ],
      "text/plain": [
       "Average reward over last 5000 steps: 3.17\n"
      ]
     },
     "metadata": {},
     "output_type": "display_data"
    },
    {
     "data": {
      "text/html": [
       "<pre style=\"white-space:pre;overflow-x:auto;line-height:normal;font-family:Menlo,'DejaVu Sans Mono',consolas,'Courier New',monospace\">Average reward over last 5000 steps: 2.96\n",
       "</pre>\n"
      ],
      "text/plain": [
       "Average reward over last 5000 steps: 2.96\n"
      ]
     },
     "metadata": {},
     "output_type": "display_data"
    },
    {
     "data": {
      "text/html": [
       "<pre style=\"white-space:pre;overflow-x:auto;line-height:normal;font-family:Menlo,'DejaVu Sans Mono',consolas,'Courier New',monospace\">Average reward over last 5000 steps: 3.02\n",
       "</pre>\n"
      ],
      "text/plain": [
       "Average reward over last 5000 steps: 3.02\n"
      ]
     },
     "metadata": {},
     "output_type": "display_data"
    },
    {
     "data": {
      "text/html": [
       "<pre style=\"white-space:pre;overflow-x:auto;line-height:normal;font-family:Menlo,'DejaVu Sans Mono',consolas,'Courier New',monospace\">Average reward over last 5000 steps: 3.26\n",
       "</pre>\n"
      ],
      "text/plain": [
       "Average reward over last 5000 steps: 3.26\n"
      ]
     },
     "metadata": {},
     "output_type": "display_data"
    },
    {
     "data": {
      "text/html": [
       "<pre style=\"white-space:pre;overflow-x:auto;line-height:normal;font-family:Menlo,'DejaVu Sans Mono',consolas,'Courier New',monospace\">Average reward over last 5000 steps: 3.08\n",
       "</pre>\n"
      ],
      "text/plain": [
       "Average reward over last 5000 steps: 3.08\n"
      ]
     },
     "metadata": {},
     "output_type": "display_data"
    },
    {
     "data": {
      "text/html": [
       "<pre style=\"white-space:pre;overflow-x:auto;line-height:normal;font-family:Menlo,'DejaVu Sans Mono',consolas,'Courier New',monospace\">Average reward over last 5000 steps: 2.77\n",
       "</pre>\n"
      ],
      "text/plain": [
       "Average reward over last 5000 steps: 2.77\n"
      ]
     },
     "metadata": {},
     "output_type": "display_data"
    },
    {
     "data": {
      "text/html": [
       "<pre style=\"white-space:pre;overflow-x:auto;line-height:normal;font-family:Menlo,'DejaVu Sans Mono',consolas,'Courier New',monospace\">Average reward over last 5000 steps: 3.36\n",
       "</pre>\n"
      ],
      "text/plain": [
       "Average reward over last 5000 steps: 3.36\n"
      ]
     },
     "metadata": {},
     "output_type": "display_data"
    },
    {
     "data": {
      "text/html": [
       "<pre style=\"white-space:pre;overflow-x:auto;line-height:normal;font-family:Menlo,'DejaVu Sans Mono',consolas,'Courier New',monospace\">Average reward over last 5000 steps: 3.11\n",
       "</pre>\n"
      ],
      "text/plain": [
       "Average reward over last 5000 steps: 3.11\n"
      ]
     },
     "metadata": {},
     "output_type": "display_data"
    },
    {
     "data": {
      "text/html": [
       "<pre style=\"white-space:pre;overflow-x:auto;line-height:normal;font-family:Menlo,'DejaVu Sans Mono',consolas,'Courier New',monospace\">Average reward over last 5000 steps: 3.29\n",
       "</pre>\n"
      ],
      "text/plain": [
       "Average reward over last 5000 steps: 3.29\n"
      ]
     },
     "metadata": {},
     "output_type": "display_data"
    },
    {
     "data": {
      "text/html": [
       "<pre style=\"white-space:pre;overflow-x:auto;line-height:normal;font-family:Menlo,'DejaVu Sans Mono',consolas,'Courier New',monospace\">Average reward over last 5000 steps: 3.39\n",
       "</pre>\n"
      ],
      "text/plain": [
       "Average reward over last 5000 steps: 3.39\n"
      ]
     },
     "metadata": {},
     "output_type": "display_data"
    },
    {
     "data": {
      "text/html": [
       "<pre style=\"white-space:pre;overflow-x:auto;line-height:normal;font-family:Menlo,'DejaVu Sans Mono',consolas,'Courier New',monospace\">Average reward over last 5000 steps: 2.95\n",
       "</pre>\n"
      ],
      "text/plain": [
       "Average reward over last 5000 steps: 2.95\n"
      ]
     },
     "metadata": {},
     "output_type": "display_data"
    },
    {
     "data": {
      "text/html": [
       "<pre style=\"white-space:pre;overflow-x:auto;line-height:normal;font-family:Menlo,'DejaVu Sans Mono',consolas,'Courier New',monospace\">Average reward over last 5000 steps: 2.99\n",
       "</pre>\n"
      ],
      "text/plain": [
       "Average reward over last 5000 steps: 2.99\n"
      ]
     },
     "metadata": {},
     "output_type": "display_data"
    },
    {
     "data": {
      "text/html": [
       "<pre style=\"white-space:pre;overflow-x:auto;line-height:normal;font-family:Menlo,'DejaVu Sans Mono',consolas,'Courier New',monospace\">Average reward over last 5000 steps: 3.19\n",
       "</pre>\n"
      ],
      "text/plain": [
       "Average reward over last 5000 steps: 3.19\n"
      ]
     },
     "metadata": {},
     "output_type": "display_data"
    },
    {
     "data": {
      "text/html": [
       "<pre style=\"white-space:pre;overflow-x:auto;line-height:normal;font-family:Menlo,'DejaVu Sans Mono',consolas,'Courier New',monospace\">Average reward over last 5000 steps: 3.32\n",
       "</pre>\n"
      ],
      "text/plain": [
       "Average reward over last 5000 steps: 3.32\n"
      ]
     },
     "metadata": {},
     "output_type": "display_data"
    },
    {
     "data": {
      "text/html": [
       "<pre style=\"white-space:pre;overflow-x:auto;line-height:normal;font-family:Menlo,'DejaVu Sans Mono',consolas,'Courier New',monospace\">Average reward over last 5000 steps: 3.16\n",
       "</pre>\n"
      ],
      "text/plain": [
       "Average reward over last 5000 steps: 3.16\n"
      ]
     },
     "metadata": {},
     "output_type": "display_data"
    },
    {
     "data": {
      "text/html": [
       "<pre style=\"white-space:pre;overflow-x:auto;line-height:normal;font-family:Menlo,'DejaVu Sans Mono',consolas,'Courier New',monospace\">Average reward over last 5000 steps: 3.27\n",
       "</pre>\n"
      ],
      "text/plain": [
       "Average reward over last 5000 steps: 3.27\n"
      ]
     },
     "metadata": {},
     "output_type": "display_data"
    },
    {
     "data": {
      "text/html": [
       "<pre style=\"white-space:pre;overflow-x:auto;line-height:normal;font-family:Menlo,'DejaVu Sans Mono',consolas,'Courier New',monospace\">Average reward over last 5000 steps: 3.04\n",
       "</pre>\n"
      ],
      "text/plain": [
       "Average reward over last 5000 steps: 3.04\n"
      ]
     },
     "metadata": {},
     "output_type": "display_data"
    },
    {
     "data": {
      "text/html": [
       "<pre style=\"white-space:pre;overflow-x:auto;line-height:normal;font-family:Menlo,'DejaVu Sans Mono',consolas,'Courier New',monospace\">Average reward over last 5000 steps: 3.43\n",
       "</pre>\n"
      ],
      "text/plain": [
       "Average reward over last 5000 steps: 3.43\n"
      ]
     },
     "metadata": {},
     "output_type": "display_data"
    },
    {
     "data": {
      "text/html": [
       "<pre style=\"white-space:pre;overflow-x:auto;line-height:normal;font-family:Menlo,'DejaVu Sans Mono',consolas,'Courier New',monospace\">Average reward over last 5000 steps: 3.25\n",
       "</pre>\n"
      ],
      "text/plain": [
       "Average reward over last 5000 steps: 3.25\n"
      ]
     },
     "metadata": {},
     "output_type": "display_data"
    },
    {
     "data": {
      "text/html": [
       "<pre style=\"white-space:pre;overflow-x:auto;line-height:normal;font-family:Menlo,'DejaVu Sans Mono',consolas,'Courier New',monospace\">Average reward over last 5000 steps: 2.81\n",
       "</pre>\n"
      ],
      "text/plain": [
       "Average reward over last 5000 steps: 2.81\n"
      ]
     },
     "metadata": {},
     "output_type": "display_data"
    },
    {
     "data": {
      "text/html": [
       "<pre style=\"white-space:pre;overflow-x:auto;line-height:normal;font-family:Menlo,'DejaVu Sans Mono',consolas,'Courier New',monospace\">Average reward over last 5000 steps: 2.91\n",
       "</pre>\n"
      ],
      "text/plain": [
       "Average reward over last 5000 steps: 2.91\n"
      ]
     },
     "metadata": {},
     "output_type": "display_data"
    },
    {
     "data": {
      "text/html": [
       "<pre style=\"white-space:pre;overflow-x:auto;line-height:normal;font-family:Menlo,'DejaVu Sans Mono',consolas,'Courier New',monospace\">Already in the final curriculum phase.\n",
       "</pre>\n"
      ],
      "text/plain": [
       "Already in the final curriculum phase.\n"
      ]
     },
     "metadata": {},
     "output_type": "display_data"
    },
    {
     "data": {
      "text/html": [
       "<pre style=\"white-space:pre;overflow-x:auto;line-height:normal;font-family:Menlo,'DejaVu Sans Mono',consolas,'Courier New',monospace\">Average reward over last 5000 steps: 3.36\n",
       "</pre>\n"
      ],
      "text/plain": [
       "Average reward over last 5000 steps: 3.36\n"
      ]
     },
     "metadata": {},
     "output_type": "display_data"
    },
    {
     "data": {
      "text/html": [
       "<pre style=\"white-space:pre;overflow-x:auto;line-height:normal;font-family:Menlo,'DejaVu Sans Mono',consolas,'Courier New',monospace\">Average reward over last 5000 steps: 3.17\n",
       "</pre>\n"
      ],
      "text/plain": [
       "Average reward over last 5000 steps: 3.17\n"
      ]
     },
     "metadata": {},
     "output_type": "display_data"
    },
    {
     "data": {
      "text/html": [
       "<pre style=\"white-space:pre;overflow-x:auto;line-height:normal;font-family:Menlo,'DejaVu Sans Mono',consolas,'Courier New',monospace\">Average reward over last 5000 steps: 2.98\n",
       "</pre>\n"
      ],
      "text/plain": [
       "Average reward over last 5000 steps: 2.98\n"
      ]
     },
     "metadata": {},
     "output_type": "display_data"
    },
    {
     "data": {
      "text/html": [
       "<pre style=\"white-space:pre;overflow-x:auto;line-height:normal;font-family:Menlo,'DejaVu Sans Mono',consolas,'Courier New',monospace\">Average reward over last 5000 steps: 2.84\n",
       "</pre>\n"
      ],
      "text/plain": [
       "Average reward over last 5000 steps: 2.84\n"
      ]
     },
     "metadata": {},
     "output_type": "display_data"
    },
    {
     "data": {
      "text/html": [
       "<pre style=\"white-space:pre;overflow-x:auto;line-height:normal;font-family:Menlo,'DejaVu Sans Mono',consolas,'Courier New',monospace\">Average reward over last 5000 steps: 3.44\n",
       "</pre>\n"
      ],
      "text/plain": [
       "Average reward over last 5000 steps: 3.44\n"
      ]
     },
     "metadata": {},
     "output_type": "display_data"
    },
    {
     "data": {
      "text/html": [
       "<pre style=\"white-space:pre;overflow-x:auto;line-height:normal;font-family:Menlo,'DejaVu Sans Mono',consolas,'Courier New',monospace\">Average reward over last 5000 steps: 3.32\n",
       "</pre>\n"
      ],
      "text/plain": [
       "Average reward over last 5000 steps: 3.32\n"
      ]
     },
     "metadata": {},
     "output_type": "display_data"
    },
    {
     "data": {
      "text/html": [
       "<pre style=\"white-space:pre;overflow-x:auto;line-height:normal;font-family:Menlo,'DejaVu Sans Mono',consolas,'Courier New',monospace\">Average reward over last 5000 steps: 3.37\n",
       "</pre>\n"
      ],
      "text/plain": [
       "Average reward over last 5000 steps: 3.37\n"
      ]
     },
     "metadata": {},
     "output_type": "display_data"
    },
    {
     "data": {
      "text/html": [
       "<pre style=\"white-space:pre;overflow-x:auto;line-height:normal;font-family:Menlo,'DejaVu Sans Mono',consolas,'Courier New',monospace\">Average reward over last 5000 steps: 3.34\n",
       "</pre>\n"
      ],
      "text/plain": [
       "Average reward over last 5000 steps: 3.34\n"
      ]
     },
     "metadata": {},
     "output_type": "display_data"
    },
    {
     "data": {
      "text/html": [
       "<pre style=\"white-space:pre;overflow-x:auto;line-height:normal;font-family:Menlo,'DejaVu Sans Mono',consolas,'Courier New',monospace\">Average reward over last 5000 steps: 3.09\n",
       "</pre>\n"
      ],
      "text/plain": [
       "Average reward over last 5000 steps: 3.09\n"
      ]
     },
     "metadata": {},
     "output_type": "display_data"
    },
    {
     "data": {
      "text/html": [
       "<pre style=\"white-space:pre;overflow-x:auto;line-height:normal;font-family:Menlo,'DejaVu Sans Mono',consolas,'Courier New',monospace\">Average reward over last 5000 steps: 3.45\n",
       "</pre>\n"
      ],
      "text/plain": [
       "Average reward over last 5000 steps: 3.45\n"
      ]
     },
     "metadata": {},
     "output_type": "display_data"
    },
    {
     "data": {
      "text/html": [
       "<pre style=\"white-space:pre;overflow-x:auto;line-height:normal;font-family:Menlo,'DejaVu Sans Mono',consolas,'Courier New',monospace\">Average reward over last 5000 steps: 3.22\n",
       "</pre>\n"
      ],
      "text/plain": [
       "Average reward over last 5000 steps: 3.22\n"
      ]
     },
     "metadata": {},
     "output_type": "display_data"
    },
    {
     "data": {
      "text/html": [
       "<pre style=\"white-space:pre;overflow-x:auto;line-height:normal;font-family:Menlo,'DejaVu Sans Mono',consolas,'Courier New',monospace\">Average reward over last 5000 steps: 3.32\n",
       "</pre>\n"
      ],
      "text/plain": [
       "Average reward over last 5000 steps: 3.32\n"
      ]
     },
     "metadata": {},
     "output_type": "display_data"
    },
    {
     "data": {
      "text/html": [
       "<pre style=\"white-space:pre;overflow-x:auto;line-height:normal;font-family:Menlo,'DejaVu Sans Mono',consolas,'Courier New',monospace\">Average reward over last 5000 steps: 3.26\n",
       "</pre>\n"
      ],
      "text/plain": [
       "Average reward over last 5000 steps: 3.26\n"
      ]
     },
     "metadata": {},
     "output_type": "display_data"
    },
    {
     "data": {
      "text/html": [
       "<pre style=\"white-space:pre;overflow-x:auto;line-height:normal;font-family:Menlo,'DejaVu Sans Mono',consolas,'Courier New',monospace\">Average reward over last 5000 steps: 3.15\n",
       "</pre>\n"
      ],
      "text/plain": [
       "Average reward over last 5000 steps: 3.15\n"
      ]
     },
     "metadata": {},
     "output_type": "display_data"
    },
    {
     "data": {
      "text/html": [
       "<pre style=\"white-space:pre;overflow-x:auto;line-height:normal;font-family:Menlo,'DejaVu Sans Mono',consolas,'Courier New',monospace\">Average reward over last 5000 steps: 3.18\n",
       "</pre>\n"
      ],
      "text/plain": [
       "Average reward over last 5000 steps: 3.18\n"
      ]
     },
     "metadata": {},
     "output_type": "display_data"
    },
    {
     "data": {
      "text/html": [
       "<pre style=\"white-space:pre;overflow-x:auto;line-height:normal;font-family:Menlo,'DejaVu Sans Mono',consolas,'Courier New',monospace\">Average reward over last 5000 steps: 3.19\n",
       "</pre>\n"
      ],
      "text/plain": [
       "Average reward over last 5000 steps: 3.19\n"
      ]
     },
     "metadata": {},
     "output_type": "display_data"
    },
    {
     "data": {
      "text/html": [
       "<pre style=\"white-space:pre;overflow-x:auto;line-height:normal;font-family:Menlo,'DejaVu Sans Mono',consolas,'Courier New',monospace\">Average reward over last 5000 steps: 3.39\n",
       "</pre>\n"
      ],
      "text/plain": [
       "Average reward over last 5000 steps: 3.39\n"
      ]
     },
     "metadata": {},
     "output_type": "display_data"
    },
    {
     "data": {
      "text/html": [
       "<pre style=\"white-space:pre;overflow-x:auto;line-height:normal;font-family:Menlo,'DejaVu Sans Mono',consolas,'Courier New',monospace\">Average reward over last 5000 steps: 2.74\n",
       "</pre>\n"
      ],
      "text/plain": [
       "Average reward over last 5000 steps: 2.74\n"
      ]
     },
     "metadata": {},
     "output_type": "display_data"
    },
    {
     "data": {
      "text/html": [
       "<pre style=\"white-space:pre;overflow-x:auto;line-height:normal;font-family:Menlo,'DejaVu Sans Mono',consolas,'Courier New',monospace\">Average reward over last 5000 steps: 3.20\n",
       "</pre>\n"
      ],
      "text/plain": [
       "Average reward over last 5000 steps: 3.20\n"
      ]
     },
     "metadata": {},
     "output_type": "display_data"
    },
    {
     "data": {
      "text/html": [
       "<pre style=\"white-space:pre;overflow-x:auto;line-height:normal;font-family:Menlo,'DejaVu Sans Mono',consolas,'Courier New',monospace\">Average reward over last 5000 steps: 3.00\n",
       "</pre>\n"
      ],
      "text/plain": [
       "Average reward over last 5000 steps: 3.00\n"
      ]
     },
     "metadata": {},
     "output_type": "display_data"
    },
    {
     "data": {
      "text/html": [
       "<pre style=\"white-space:pre;overflow-x:auto;line-height:normal;font-family:Menlo,'DejaVu Sans Mono',consolas,'Courier New',monospace\">Average reward over last 5000 steps: 3.05\n",
       "</pre>\n"
      ],
      "text/plain": [
       "Average reward over last 5000 steps: 3.05\n"
      ]
     },
     "metadata": {},
     "output_type": "display_data"
    },
    {
     "data": {
      "text/html": [
       "<pre style=\"white-space:pre;overflow-x:auto;line-height:normal;font-family:Menlo,'DejaVu Sans Mono',consolas,'Courier New',monospace\">Average reward over last 5000 steps: 3.18\n",
       "</pre>\n"
      ],
      "text/plain": [
       "Average reward over last 5000 steps: 3.18\n"
      ]
     },
     "metadata": {},
     "output_type": "display_data"
    },
    {
     "data": {
      "text/html": [
       "<pre style=\"white-space:pre;overflow-x:auto;line-height:normal;font-family:Menlo,'DejaVu Sans Mono',consolas,'Courier New',monospace\">Average reward over last 5000 steps: 3.25\n",
       "</pre>\n"
      ],
      "text/plain": [
       "Average reward over last 5000 steps: 3.25\n"
      ]
     },
     "metadata": {},
     "output_type": "display_data"
    },
    {
     "data": {
      "text/html": [
       "<pre style=\"white-space:pre;overflow-x:auto;line-height:normal;font-family:Menlo,'DejaVu Sans Mono',consolas,'Courier New',monospace\">Average reward over last 5000 steps: 2.95\n",
       "</pre>\n"
      ],
      "text/plain": [
       "Average reward over last 5000 steps: 2.95\n"
      ]
     },
     "metadata": {},
     "output_type": "display_data"
    },
    {
     "data": {
      "text/html": [
       "<pre style=\"white-space:pre;overflow-x:auto;line-height:normal;font-family:Menlo,'DejaVu Sans Mono',consolas,'Courier New',monospace\">Average reward over last 5000 steps: 3.10\n",
       "</pre>\n"
      ],
      "text/plain": [
       "Average reward over last 5000 steps: 3.10\n"
      ]
     },
     "metadata": {},
     "output_type": "display_data"
    },
    {
     "data": {
      "text/html": [
       "<pre style=\"white-space:pre;overflow-x:auto;line-height:normal;font-family:Menlo,'DejaVu Sans Mono',consolas,'Courier New',monospace\">Average reward over last 5000 steps: 3.44\n",
       "</pre>\n"
      ],
      "text/plain": [
       "Average reward over last 5000 steps: 3.44\n"
      ]
     },
     "metadata": {},
     "output_type": "display_data"
    },
    {
     "data": {
      "text/html": [
       "<pre style=\"white-space:pre;overflow-x:auto;line-height:normal;font-family:Menlo,'DejaVu Sans Mono',consolas,'Courier New',monospace\">Average reward over last 5000 steps: 3.50\n",
       "</pre>\n"
      ],
      "text/plain": [
       "Average reward over last 5000 steps: 3.50\n"
      ]
     },
     "metadata": {},
     "output_type": "display_data"
    },
    {
     "data": {
      "text/html": [
       "<pre style=\"white-space:pre;overflow-x:auto;line-height:normal;font-family:Menlo,'DejaVu Sans Mono',consolas,'Courier New',monospace\">Average reward over last 5000 steps: 3.32\n",
       "</pre>\n"
      ],
      "text/plain": [
       "Average reward over last 5000 steps: 3.32\n"
      ]
     },
     "metadata": {},
     "output_type": "display_data"
    },
    {
     "data": {
      "text/html": [
       "<pre style=\"white-space:pre;overflow-x:auto;line-height:normal;font-family:Menlo,'DejaVu Sans Mono',consolas,'Courier New',monospace\">Average reward over last 5000 steps: 3.46\n",
       "</pre>\n"
      ],
      "text/plain": [
       "Average reward over last 5000 steps: 3.46\n"
      ]
     },
     "metadata": {},
     "output_type": "display_data"
    },
    {
     "data": {
      "text/html": [
       "<pre style=\"white-space:pre;overflow-x:auto;line-height:normal;font-family:Menlo,'DejaVu Sans Mono',consolas,'Courier New',monospace\">Average reward over last 5000 steps: 3.24\n",
       "</pre>\n"
      ],
      "text/plain": [
       "Average reward over last 5000 steps: 3.24\n"
      ]
     },
     "metadata": {},
     "output_type": "display_data"
    },
    {
     "data": {
      "text/html": [
       "<pre style=\"white-space:pre;overflow-x:auto;line-height:normal;font-family:Menlo,'DejaVu Sans Mono',consolas,'Courier New',monospace\">Average reward over last 5000 steps: 3.14\n",
       "</pre>\n"
      ],
      "text/plain": [
       "Average reward over last 5000 steps: 3.14\n"
      ]
     },
     "metadata": {},
     "output_type": "display_data"
    },
    {
     "data": {
      "text/html": [
       "<pre style=\"white-space:pre;overflow-x:auto;line-height:normal;font-family:Menlo,'DejaVu Sans Mono',consolas,'Courier New',monospace\">Average reward over last 5000 steps: 3.46\n",
       "</pre>\n"
      ],
      "text/plain": [
       "Average reward over last 5000 steps: 3.46\n"
      ]
     },
     "metadata": {},
     "output_type": "display_data"
    },
    {
     "data": {
      "text/html": [
       "<pre style=\"white-space:pre;overflow-x:auto;line-height:normal;font-family:Menlo,'DejaVu Sans Mono',consolas,'Courier New',monospace\">Average reward over last 5000 steps: 3.41\n",
       "</pre>\n"
      ],
      "text/plain": [
       "Average reward over last 5000 steps: 3.41\n"
      ]
     },
     "metadata": {},
     "output_type": "display_data"
    },
    {
     "data": {
      "text/html": [
       "<pre style=\"white-space:pre;overflow-x:auto;line-height:normal;font-family:Menlo,'DejaVu Sans Mono',consolas,'Courier New',monospace\">Average reward over last 5000 steps: 3.03\n",
       "</pre>\n"
      ],
      "text/plain": [
       "Average reward over last 5000 steps: 3.03\n"
      ]
     },
     "metadata": {},
     "output_type": "display_data"
    },
    {
     "data": {
      "text/html": [
       "<pre style=\"white-space:pre;overflow-x:auto;line-height:normal;font-family:Menlo,'DejaVu Sans Mono',consolas,'Courier New',monospace\">Average reward over last 5000 steps: 3.15\n",
       "</pre>\n"
      ],
      "text/plain": [
       "Average reward over last 5000 steps: 3.15\n"
      ]
     },
     "metadata": {},
     "output_type": "display_data"
    },
    {
     "data": {
      "text/html": [
       "<pre style=\"white-space:pre;overflow-x:auto;line-height:normal;font-family:Menlo,'DejaVu Sans Mono',consolas,'Courier New',monospace\">Average reward over last 5000 steps: 3.49\n",
       "</pre>\n"
      ],
      "text/plain": [
       "Average reward over last 5000 steps: 3.49\n"
      ]
     },
     "metadata": {},
     "output_type": "display_data"
    },
    {
     "data": {
      "text/html": [
       "<pre style=\"white-space:pre;overflow-x:auto;line-height:normal;font-family:Menlo,'DejaVu Sans Mono',consolas,'Courier New',monospace\">Average reward over last 5000 steps: 3.08\n",
       "</pre>\n"
      ],
      "text/plain": [
       "Average reward over last 5000 steps: 3.08\n"
      ]
     },
     "metadata": {},
     "output_type": "display_data"
    },
    {
     "data": {
      "text/html": [
       "<pre style=\"white-space:pre;overflow-x:auto;line-height:normal;font-family:Menlo,'DejaVu Sans Mono',consolas,'Courier New',monospace\">Average reward over last 5000 steps: 3.33\n",
       "</pre>\n"
      ],
      "text/plain": [
       "Average reward over last 5000 steps: 3.33\n"
      ]
     },
     "metadata": {},
     "output_type": "display_data"
    },
    {
     "data": {
      "text/html": [
       "<pre style=\"white-space:pre;overflow-x:auto;line-height:normal;font-family:Menlo,'DejaVu Sans Mono',consolas,'Courier New',monospace\">Average reward over last 5000 steps: 2.97\n",
       "</pre>\n"
      ],
      "text/plain": [
       "Average reward over last 5000 steps: 2.97\n"
      ]
     },
     "metadata": {},
     "output_type": "display_data"
    },
    {
     "data": {
      "text/html": [
       "<pre style=\"white-space:pre;overflow-x:auto;line-height:normal;font-family:Menlo,'DejaVu Sans Mono',consolas,'Courier New',monospace\">Average reward over last 5000 steps: 3.12\n",
       "</pre>\n"
      ],
      "text/plain": [
       "Average reward over last 5000 steps: 3.12\n"
      ]
     },
     "metadata": {},
     "output_type": "display_data"
    },
    {
     "data": {
      "text/html": [
       "<pre style=\"white-space:pre;overflow-x:auto;line-height:normal;font-family:Menlo,'DejaVu Sans Mono',consolas,'Courier New',monospace\">Average reward over last 5000 steps: 2.91\n",
       "</pre>\n"
      ],
      "text/plain": [
       "Average reward over last 5000 steps: 2.91\n"
      ]
     },
     "metadata": {},
     "output_type": "display_data"
    },
    {
     "data": {
      "text/html": [
       "<pre style=\"white-space:pre;overflow-x:auto;line-height:normal;font-family:Menlo,'DejaVu Sans Mono',consolas,'Courier New',monospace\">Average reward over last 5000 steps: 3.46\n",
       "</pre>\n"
      ],
      "text/plain": [
       "Average reward over last 5000 steps: 3.46\n"
      ]
     },
     "metadata": {},
     "output_type": "display_data"
    },
    {
     "data": {
      "text/html": [
       "<pre style=\"white-space:pre;overflow-x:auto;line-height:normal;font-family:Menlo,'DejaVu Sans Mono',consolas,'Courier New',monospace\">Average reward over last 5000 steps: 2.92\n",
       "</pre>\n"
      ],
      "text/plain": [
       "Average reward over last 5000 steps: 2.92\n"
      ]
     },
     "metadata": {},
     "output_type": "display_data"
    },
    {
     "data": {
      "text/html": [
       "<pre style=\"white-space:pre;overflow-x:auto;line-height:normal;font-family:Menlo,'DejaVu Sans Mono',consolas,'Courier New',monospace\">Average reward over last 5000 steps: 3.14\n",
       "</pre>\n"
      ],
      "text/plain": [
       "Average reward over last 5000 steps: 3.14\n"
      ]
     },
     "metadata": {},
     "output_type": "display_data"
    },
    {
     "data": {
      "text/html": [
       "<pre style=\"white-space:pre;overflow-x:auto;line-height:normal;font-family:Menlo,'DejaVu Sans Mono',consolas,'Courier New',monospace\">Average reward over last 5000 steps: 3.55\n",
       "</pre>\n"
      ],
      "text/plain": [
       "Average reward over last 5000 steps: 3.55\n"
      ]
     },
     "metadata": {},
     "output_type": "display_data"
    },
    {
     "data": {
      "text/html": [
       "<pre style=\"white-space:pre;overflow-x:auto;line-height:normal;font-family:Menlo,'DejaVu Sans Mono',consolas,'Courier New',monospace\">Average reward over last 5000 steps: 3.39\n",
       "</pre>\n"
      ],
      "text/plain": [
       "Average reward over last 5000 steps: 3.39\n"
      ]
     },
     "metadata": {},
     "output_type": "display_data"
    },
    {
     "data": {
      "text/html": [
       "<pre style=\"white-space:pre;overflow-x:auto;line-height:normal;font-family:Menlo,'DejaVu Sans Mono',consolas,'Courier New',monospace\">Average reward over last 5000 steps: 3.04\n",
       "</pre>\n"
      ],
      "text/plain": [
       "Average reward over last 5000 steps: 3.04\n"
      ]
     },
     "metadata": {},
     "output_type": "display_data"
    },
    {
     "data": {
      "text/html": [
       "<pre style=\"white-space:pre;overflow-x:auto;line-height:normal;font-family:Menlo,'DejaVu Sans Mono',consolas,'Courier New',monospace\">Average reward over last 5000 steps: 3.34\n",
       "</pre>\n"
      ],
      "text/plain": [
       "Average reward over last 5000 steps: 3.34\n"
      ]
     },
     "metadata": {},
     "output_type": "display_data"
    },
    {
     "data": {
      "text/html": [
       "<pre style=\"white-space:pre;overflow-x:auto;line-height:normal;font-family:Menlo,'DejaVu Sans Mono',consolas,'Courier New',monospace\">Average reward over last 5000 steps: 3.50\n",
       "</pre>\n"
      ],
      "text/plain": [
       "Average reward over last 5000 steps: 3.50\n"
      ]
     },
     "metadata": {},
     "output_type": "display_data"
    },
    {
     "data": {
      "text/html": [
       "<pre style=\"white-space:pre;overflow-x:auto;line-height:normal;font-family:Menlo,'DejaVu Sans Mono',consolas,'Courier New',monospace\">Average reward over last 5000 steps: 2.84\n",
       "</pre>\n"
      ],
      "text/plain": [
       "Average reward over last 5000 steps: 2.84\n"
      ]
     },
     "metadata": {},
     "output_type": "display_data"
    },
    {
     "data": {
      "text/html": [
       "<pre style=\"white-space:pre;overflow-x:auto;line-height:normal;font-family:Menlo,'DejaVu Sans Mono',consolas,'Courier New',monospace\">Average reward over last 5000 steps: 3.16\n",
       "</pre>\n"
      ],
      "text/plain": [
       "Average reward over last 5000 steps: 3.16\n"
      ]
     },
     "metadata": {},
     "output_type": "display_data"
    },
    {
     "data": {
      "text/html": [
       "<pre style=\"white-space:pre;overflow-x:auto;line-height:normal;font-family:Menlo,'DejaVu Sans Mono',consolas,'Courier New',monospace\">Average reward over last 5000 steps: 3.33\n",
       "</pre>\n"
      ],
      "text/plain": [
       "Average reward over last 5000 steps: 3.33\n"
      ]
     },
     "metadata": {},
     "output_type": "display_data"
    },
    {
     "data": {
      "text/html": [
       "<pre style=\"white-space:pre;overflow-x:auto;line-height:normal;font-family:Menlo,'DejaVu Sans Mono',consolas,'Courier New',monospace\">Average reward over last 5000 steps: 2.99\n",
       "</pre>\n"
      ],
      "text/plain": [
       "Average reward over last 5000 steps: 2.99\n"
      ]
     },
     "metadata": {},
     "output_type": "display_data"
    },
    {
     "data": {
      "text/html": [
       "<pre style=\"white-space:pre;overflow-x:auto;line-height:normal;font-family:Menlo,'DejaVu Sans Mono',consolas,'Courier New',monospace\">Average reward over last 5000 steps: 3.44\n",
       "</pre>\n"
      ],
      "text/plain": [
       "Average reward over last 5000 steps: 3.44\n"
      ]
     },
     "metadata": {},
     "output_type": "display_data"
    },
    {
     "data": {
      "text/html": [
       "<pre style=\"white-space:pre;overflow-x:auto;line-height:normal;font-family:Menlo,'DejaVu Sans Mono',consolas,'Courier New',monospace\">Average reward over last 5000 steps: 2.76\n",
       "</pre>\n"
      ],
      "text/plain": [
       "Average reward over last 5000 steps: 2.76\n"
      ]
     },
     "metadata": {},
     "output_type": "display_data"
    },
    {
     "data": {
      "text/html": [
       "<pre style=\"white-space:pre;overflow-x:auto;line-height:normal;font-family:Menlo,'DejaVu Sans Mono',consolas,'Courier New',monospace\">Average reward over last 5000 steps: 3.28\n",
       "</pre>\n"
      ],
      "text/plain": [
       "Average reward over last 5000 steps: 3.28\n"
      ]
     },
     "metadata": {},
     "output_type": "display_data"
    },
    {
     "data": {
      "text/html": [
       "<pre style=\"white-space:pre;overflow-x:auto;line-height:normal;font-family:Menlo,'DejaVu Sans Mono',consolas,'Courier New',monospace\">Average reward over last 5000 steps: 3.14\n",
       "</pre>\n"
      ],
      "text/plain": [
       "Average reward over last 5000 steps: 3.14\n"
      ]
     },
     "metadata": {},
     "output_type": "display_data"
    },
    {
     "data": {
      "text/html": [
       "<pre style=\"white-space:pre;overflow-x:auto;line-height:normal;font-family:Menlo,'DejaVu Sans Mono',consolas,'Courier New',monospace\">Average reward over last 5000 steps: 3.41\n",
       "</pre>\n"
      ],
      "text/plain": [
       "Average reward over last 5000 steps: 3.41\n"
      ]
     },
     "metadata": {},
     "output_type": "display_data"
    },
    {
     "data": {
      "text/html": [
       "<pre style=\"white-space:pre;overflow-x:auto;line-height:normal;font-family:Menlo,'DejaVu Sans Mono',consolas,'Courier New',monospace\">Average reward over last 5000 steps: 3.20\n",
       "</pre>\n"
      ],
      "text/plain": [
       "Average reward over last 5000 steps: 3.20\n"
      ]
     },
     "metadata": {},
     "output_type": "display_data"
    },
    {
     "data": {
      "text/html": [
       "<pre style=\"white-space:pre;overflow-x:auto;line-height:normal;font-family:Menlo,'DejaVu Sans Mono',consolas,'Courier New',monospace\">Average reward over last 5000 steps: 3.20\n",
       "</pre>\n"
      ],
      "text/plain": [
       "Average reward over last 5000 steps: 3.20\n"
      ]
     },
     "metadata": {},
     "output_type": "display_data"
    },
    {
     "data": {
      "text/html": [
       "<pre style=\"white-space:pre;overflow-x:auto;line-height:normal;font-family:Menlo,'DejaVu Sans Mono',consolas,'Courier New',monospace\">Average reward over last 5000 steps: 3.33\n",
       "</pre>\n"
      ],
      "text/plain": [
       "Average reward over last 5000 steps: 3.33\n"
      ]
     },
     "metadata": {},
     "output_type": "display_data"
    },
    {
     "data": {
      "text/html": [
       "<pre style=\"white-space:pre;overflow-x:auto;line-height:normal;font-family:Menlo,'DejaVu Sans Mono',consolas,'Courier New',monospace\">Average reward over last 5000 steps: 3.00\n",
       "</pre>\n"
      ],
      "text/plain": [
       "Average reward over last 5000 steps: 3.00\n"
      ]
     },
     "metadata": {},
     "output_type": "display_data"
    },
    {
     "data": {
      "text/html": [
       "<pre style=\"white-space:pre;overflow-x:auto;line-height:normal;font-family:Menlo,'DejaVu Sans Mono',consolas,'Courier New',monospace\">Average reward over last 5000 steps: 3.15\n",
       "</pre>\n"
      ],
      "text/plain": [
       "Average reward over last 5000 steps: 3.15\n"
      ]
     },
     "metadata": {},
     "output_type": "display_data"
    },
    {
     "data": {
      "text/html": [
       "<pre style=\"white-space:pre;overflow-x:auto;line-height:normal;font-family:Menlo,'DejaVu Sans Mono',consolas,'Courier New',monospace\">Average reward over last 5000 steps: 3.45\n",
       "</pre>\n"
      ],
      "text/plain": [
       "Average reward over last 5000 steps: 3.45\n"
      ]
     },
     "metadata": {},
     "output_type": "display_data"
    },
    {
     "data": {
      "text/html": [
       "<pre style=\"white-space:pre;overflow-x:auto;line-height:normal;font-family:Menlo,'DejaVu Sans Mono',consolas,'Courier New',monospace\">Average reward over last 5000 steps: 3.13\n",
       "</pre>\n"
      ],
      "text/plain": [
       "Average reward over last 5000 steps: 3.13\n"
      ]
     },
     "metadata": {},
     "output_type": "display_data"
    },
    {
     "data": {
      "text/html": [
       "<pre style=\"white-space:pre;overflow-x:auto;line-height:normal;font-family:Menlo,'DejaVu Sans Mono',consolas,'Courier New',monospace\">Average reward over last 5000 steps: 3.28\n",
       "</pre>\n"
      ],
      "text/plain": [
       "Average reward over last 5000 steps: 3.28\n"
      ]
     },
     "metadata": {},
     "output_type": "display_data"
    },
    {
     "data": {
      "text/html": [
       "<pre style=\"white-space:pre;overflow-x:auto;line-height:normal;font-family:Menlo,'DejaVu Sans Mono',consolas,'Courier New',monospace\">Average reward over last 5000 steps: 3.40\n",
       "</pre>\n"
      ],
      "text/plain": [
       "Average reward over last 5000 steps: 3.40\n"
      ]
     },
     "metadata": {},
     "output_type": "display_data"
    },
    {
     "data": {
      "text/html": [
       "<pre style=\"white-space:pre;overflow-x:auto;line-height:normal;font-family:Menlo,'DejaVu Sans Mono',consolas,'Courier New',monospace\">Average reward over last 5000 steps: 3.26\n",
       "</pre>\n"
      ],
      "text/plain": [
       "Average reward over last 5000 steps: 3.26\n"
      ]
     },
     "metadata": {},
     "output_type": "display_data"
    },
    {
     "data": {
      "text/html": [
       "<pre style=\"white-space:pre;overflow-x:auto;line-height:normal;font-family:Menlo,'DejaVu Sans Mono',consolas,'Courier New',monospace\">Average reward over last 5000 steps: 3.34\n",
       "</pre>\n"
      ],
      "text/plain": [
       "Average reward over last 5000 steps: 3.34\n"
      ]
     },
     "metadata": {},
     "output_type": "display_data"
    },
    {
     "data": {
      "text/html": [
       "<pre style=\"white-space:pre;overflow-x:auto;line-height:normal;font-family:Menlo,'DejaVu Sans Mono',consolas,'Courier New',monospace\">Average reward over last 5000 steps: 3.31\n",
       "</pre>\n"
      ],
      "text/plain": [
       "Average reward over last 5000 steps: 3.31\n"
      ]
     },
     "metadata": {},
     "output_type": "display_data"
    },
    {
     "data": {
      "text/html": [
       "<pre style=\"white-space:pre;overflow-x:auto;line-height:normal;font-family:Menlo,'DejaVu Sans Mono',consolas,'Courier New',monospace\">Average reward over last 5000 steps: 3.30\n",
       "</pre>\n"
      ],
      "text/plain": [
       "Average reward over last 5000 steps: 3.30\n"
      ]
     },
     "metadata": {},
     "output_type": "display_data"
    },
    {
     "data": {
      "text/html": [
       "<pre style=\"white-space:pre;overflow-x:auto;line-height:normal;font-family:Menlo,'DejaVu Sans Mono',consolas,'Courier New',monospace\">Average reward over last 5000 steps: 3.62\n",
       "</pre>\n"
      ],
      "text/plain": [
       "Average reward over last 5000 steps: 3.62\n"
      ]
     },
     "metadata": {},
     "output_type": "display_data"
    },
    {
     "data": {
      "text/html": [
       "<pre style=\"white-space:pre;overflow-x:auto;line-height:normal;font-family:Menlo,'DejaVu Sans Mono',consolas,'Courier New',monospace\">Average reward over last 5000 steps: 3.10\n",
       "</pre>\n"
      ],
      "text/plain": [
       "Average reward over last 5000 steps: 3.10\n"
      ]
     },
     "metadata": {},
     "output_type": "display_data"
    },
    {
     "data": {
      "text/html": [
       "<pre style=\"white-space:pre;overflow-x:auto;line-height:normal;font-family:Menlo,'DejaVu Sans Mono',consolas,'Courier New',monospace\">Average reward over last 5000 steps: 3.29\n",
       "</pre>\n"
      ],
      "text/plain": [
       "Average reward over last 5000 steps: 3.29\n"
      ]
     },
     "metadata": {},
     "output_type": "display_data"
    },
    {
     "data": {
      "text/html": [
       "<pre style=\"white-space:pre;overflow-x:auto;line-height:normal;font-family:Menlo,'DejaVu Sans Mono',consolas,'Courier New',monospace\">Average reward over last 5000 steps: 3.34\n",
       "</pre>\n"
      ],
      "text/plain": [
       "Average reward over last 5000 steps: 3.34\n"
      ]
     },
     "metadata": {},
     "output_type": "display_data"
    },
    {
     "data": {
      "text/html": [
       "<pre style=\"white-space:pre;overflow-x:auto;line-height:normal;font-family:Menlo,'DejaVu Sans Mono',consolas,'Courier New',monospace\">Average reward over last 5000 steps: 3.06\n",
       "</pre>\n"
      ],
      "text/plain": [
       "Average reward over last 5000 steps: 3.06\n"
      ]
     },
     "metadata": {},
     "output_type": "display_data"
    },
    {
     "data": {
      "text/html": [
       "<pre style=\"white-space:pre;overflow-x:auto;line-height:normal;font-family:Menlo,'DejaVu Sans Mono',consolas,'Courier New',monospace\">Average reward over last 5000 steps: 3.35\n",
       "</pre>\n"
      ],
      "text/plain": [
       "Average reward over last 5000 steps: 3.35\n"
      ]
     },
     "metadata": {},
     "output_type": "display_data"
    },
    {
     "data": {
      "text/html": [
       "<pre style=\"white-space:pre;overflow-x:auto;line-height:normal;font-family:Menlo,'DejaVu Sans Mono',consolas,'Courier New',monospace\">Average reward over last 5000 steps: 3.28\n",
       "</pre>\n"
      ],
      "text/plain": [
       "Average reward over last 5000 steps: 3.28\n"
      ]
     },
     "metadata": {},
     "output_type": "display_data"
    },
    {
     "data": {
      "text/html": [
       "<pre style=\"white-space:pre;overflow-x:auto;line-height:normal;font-family:Menlo,'DejaVu Sans Mono',consolas,'Courier New',monospace\">Average reward over last 5000 steps: 3.33\n",
       "</pre>\n"
      ],
      "text/plain": [
       "Average reward over last 5000 steps: 3.33\n"
      ]
     },
     "metadata": {},
     "output_type": "display_data"
    },
    {
     "data": {
      "text/html": [
       "<pre style=\"white-space:pre;overflow-x:auto;line-height:normal;font-family:Menlo,'DejaVu Sans Mono',consolas,'Courier New',monospace\">Average reward over last 5000 steps: 3.09\n",
       "</pre>\n"
      ],
      "text/plain": [
       "Average reward over last 5000 steps: 3.09\n"
      ]
     },
     "metadata": {},
     "output_type": "display_data"
    },
    {
     "data": {
      "text/html": [
       "<pre style=\"white-space:pre;overflow-x:auto;line-height:normal;font-family:Menlo,'DejaVu Sans Mono',consolas,'Courier New',monospace\">Average reward over last 5000 steps: 3.44\n",
       "</pre>\n"
      ],
      "text/plain": [
       "Average reward over last 5000 steps: 3.44\n"
      ]
     },
     "metadata": {},
     "output_type": "display_data"
    },
    {
     "data": {
      "text/html": [
       "<pre style=\"white-space:pre;overflow-x:auto;line-height:normal;font-family:Menlo,'DejaVu Sans Mono',consolas,'Courier New',monospace\">Average reward over last 5000 steps: 3.21\n",
       "</pre>\n"
      ],
      "text/plain": [
       "Average reward over last 5000 steps: 3.21\n"
      ]
     },
     "metadata": {},
     "output_type": "display_data"
    },
    {
     "data": {
      "text/html": [
       "<pre style=\"white-space:pre;overflow-x:auto;line-height:normal;font-family:Menlo,'DejaVu Sans Mono',consolas,'Courier New',monospace\">Average reward over last 5000 steps: 3.11\n",
       "</pre>\n"
      ],
      "text/plain": [
       "Average reward over last 5000 steps: 3.11\n"
      ]
     },
     "metadata": {},
     "output_type": "display_data"
    },
    {
     "data": {
      "text/html": [
       "<pre style=\"white-space:pre;overflow-x:auto;line-height:normal;font-family:Menlo,'DejaVu Sans Mono',consolas,'Courier New',monospace\">Average reward over last 5000 steps: 3.24\n",
       "</pre>\n"
      ],
      "text/plain": [
       "Average reward over last 5000 steps: 3.24\n"
      ]
     },
     "metadata": {},
     "output_type": "display_data"
    },
    {
     "data": {
      "text/html": [
       "<pre style=\"white-space:pre;overflow-x:auto;line-height:normal;font-family:Menlo,'DejaVu Sans Mono',consolas,'Courier New',monospace\">Average reward over last 5000 steps: 3.50\n",
       "</pre>\n"
      ],
      "text/plain": [
       "Average reward over last 5000 steps: 3.50\n"
      ]
     },
     "metadata": {},
     "output_type": "display_data"
    },
    {
     "data": {
      "text/html": [
       "<pre style=\"white-space:pre;overflow-x:auto;line-height:normal;font-family:Menlo,'DejaVu Sans Mono',consolas,'Courier New',monospace\">Average reward over last 5000 steps: 3.21\n",
       "</pre>\n"
      ],
      "text/plain": [
       "Average reward over last 5000 steps: 3.21\n"
      ]
     },
     "metadata": {},
     "output_type": "display_data"
    },
    {
     "data": {
      "text/html": [
       "<pre style=\"white-space:pre;overflow-x:auto;line-height:normal;font-family:Menlo,'DejaVu Sans Mono',consolas,'Courier New',monospace\">Average reward over last 5000 steps: 3.32\n",
       "</pre>\n"
      ],
      "text/plain": [
       "Average reward over last 5000 steps: 3.32\n"
      ]
     },
     "metadata": {},
     "output_type": "display_data"
    },
    {
     "data": {
      "text/html": [
       "<pre style=\"white-space:pre;overflow-x:auto;line-height:normal;font-family:Menlo,'DejaVu Sans Mono',consolas,'Courier New',monospace\">Average reward over last 5000 steps: 3.41\n",
       "</pre>\n"
      ],
      "text/plain": [
       "Average reward over last 5000 steps: 3.41\n"
      ]
     },
     "metadata": {},
     "output_type": "display_data"
    },
    {
     "data": {
      "text/html": [
       "<pre style=\"white-space:pre;overflow-x:auto;line-height:normal;font-family:Menlo,'DejaVu Sans Mono',consolas,'Courier New',monospace\">Average reward over last 5000 steps: 3.07\n",
       "</pre>\n"
      ],
      "text/plain": [
       "Average reward over last 5000 steps: 3.07\n"
      ]
     },
     "metadata": {},
     "output_type": "display_data"
    },
    {
     "data": {
      "text/html": [
       "<pre style=\"white-space:pre;overflow-x:auto;line-height:normal;font-family:Menlo,'DejaVu Sans Mono',consolas,'Courier New',monospace\">Average reward over last 5000 steps: 3.28\n",
       "</pre>\n"
      ],
      "text/plain": [
       "Average reward over last 5000 steps: 3.28\n"
      ]
     },
     "metadata": {},
     "output_type": "display_data"
    },
    {
     "data": {
      "text/html": [
       "<pre style=\"white-space:pre;overflow-x:auto;line-height:normal;font-family:Menlo,'DejaVu Sans Mono',consolas,'Courier New',monospace\">Average reward over last 5000 steps: 2.97\n",
       "</pre>\n"
      ],
      "text/plain": [
       "Average reward over last 5000 steps: 2.97\n"
      ]
     },
     "metadata": {},
     "output_type": "display_data"
    },
    {
     "data": {
      "text/html": [
       "<pre style=\"white-space:pre;overflow-x:auto;line-height:normal;font-family:Menlo,'DejaVu Sans Mono',consolas,'Courier New',monospace\">Average reward over last 5000 steps: 2.85\n",
       "</pre>\n"
      ],
      "text/plain": [
       "Average reward over last 5000 steps: 2.85\n"
      ]
     },
     "metadata": {},
     "output_type": "display_data"
    },
    {
     "data": {
      "text/html": [
       "<pre style=\"white-space:pre;overflow-x:auto;line-height:normal;font-family:Menlo,'DejaVu Sans Mono',consolas,'Courier New',monospace\">Average reward over last 5000 steps: 3.00\n",
       "</pre>\n"
      ],
      "text/plain": [
       "Average reward over last 5000 steps: 3.00\n"
      ]
     },
     "metadata": {},
     "output_type": "display_data"
    },
    {
     "data": {
      "text/html": [
       "<pre style=\"white-space:pre;overflow-x:auto;line-height:normal;font-family:Menlo,'DejaVu Sans Mono',consolas,'Courier New',monospace\">Average reward over last 5000 steps: 3.30\n",
       "</pre>\n"
      ],
      "text/plain": [
       "Average reward over last 5000 steps: 3.30\n"
      ]
     },
     "metadata": {},
     "output_type": "display_data"
    },
    {
     "data": {
      "text/html": [
       "<pre style=\"white-space:pre;overflow-x:auto;line-height:normal;font-family:Menlo,'DejaVu Sans Mono',consolas,'Courier New',monospace\">Average reward over last 5000 steps: 3.19\n",
       "</pre>\n"
      ],
      "text/plain": [
       "Average reward over last 5000 steps: 3.19\n"
      ]
     },
     "metadata": {},
     "output_type": "display_data"
    },
    {
     "data": {
      "text/html": [
       "<pre style=\"white-space:pre;overflow-x:auto;line-height:normal;font-family:Menlo,'DejaVu Sans Mono',consolas,'Courier New',monospace\">Average reward over last 5000 steps: 3.63\n",
       "</pre>\n"
      ],
      "text/plain": [
       "Average reward over last 5000 steps: 3.63\n"
      ]
     },
     "metadata": {},
     "output_type": "display_data"
    },
    {
     "data": {
      "text/html": [
       "<pre style=\"white-space:pre;overflow-x:auto;line-height:normal;font-family:Menlo,'DejaVu Sans Mono',consolas,'Courier New',monospace\">Average reward over last 5000 steps: 3.87\n",
       "</pre>\n"
      ],
      "text/plain": [
       "Average reward over last 5000 steps: 3.87\n"
      ]
     },
     "metadata": {},
     "output_type": "display_data"
    },
    {
     "data": {
      "text/html": [
       "<pre style=\"white-space:pre;overflow-x:auto;line-height:normal;font-family:Menlo,'DejaVu Sans Mono',consolas,'Courier New',monospace\">Average reward over last 5000 steps: 3.64\n",
       "</pre>\n"
      ],
      "text/plain": [
       "Average reward over last 5000 steps: 3.64\n"
      ]
     },
     "metadata": {},
     "output_type": "display_data"
    },
    {
     "data": {
      "text/html": [
       "<pre style=\"white-space:pre;overflow-x:auto;line-height:normal;font-family:Menlo,'DejaVu Sans Mono',consolas,'Courier New',monospace\">Average reward over last 5000 steps: 3.48\n",
       "</pre>\n"
      ],
      "text/plain": [
       "Average reward over last 5000 steps: 3.48\n"
      ]
     },
     "metadata": {},
     "output_type": "display_data"
    },
    {
     "data": {
      "text/html": [
       "<pre style=\"white-space:pre;overflow-x:auto;line-height:normal;font-family:Menlo,'DejaVu Sans Mono',consolas,'Courier New',monospace\">Average reward over last 5000 steps: 3.44\n",
       "</pre>\n"
      ],
      "text/plain": [
       "Average reward over last 5000 steps: 3.44\n"
      ]
     },
     "metadata": {},
     "output_type": "display_data"
    },
    {
     "data": {
      "text/html": [
       "<pre style=\"white-space:pre;overflow-x:auto;line-height:normal;font-family:Menlo,'DejaVu Sans Mono',consolas,'Courier New',monospace\">Average reward over last 5000 steps: 3.42\n",
       "</pre>\n"
      ],
      "text/plain": [
       "Average reward over last 5000 steps: 3.42\n"
      ]
     },
     "metadata": {},
     "output_type": "display_data"
    },
    {
     "data": {
      "text/html": [
       "<pre style=\"white-space:pre;overflow-x:auto;line-height:normal;font-family:Menlo,'DejaVu Sans Mono',consolas,'Courier New',monospace\">Average reward over last 5000 steps: 2.94\n",
       "</pre>\n"
      ],
      "text/plain": [
       "Average reward over last 5000 steps: 2.94\n"
      ]
     },
     "metadata": {},
     "output_type": "display_data"
    },
    {
     "data": {
      "text/html": [
       "<pre style=\"white-space:pre;overflow-x:auto;line-height:normal;font-family:Menlo,'DejaVu Sans Mono',consolas,'Courier New',monospace\">Average reward over last 5000 steps: 3.18\n",
       "</pre>\n"
      ],
      "text/plain": [
       "Average reward over last 5000 steps: 3.18\n"
      ]
     },
     "metadata": {},
     "output_type": "display_data"
    },
    {
     "data": {
      "text/html": [
       "<pre style=\"white-space:pre;overflow-x:auto;line-height:normal;font-family:Menlo,'DejaVu Sans Mono',consolas,'Courier New',monospace\">Average reward over last 5000 steps: 3.54\n",
       "</pre>\n"
      ],
      "text/plain": [
       "Average reward over last 5000 steps: 3.54\n"
      ]
     },
     "metadata": {},
     "output_type": "display_data"
    },
    {
     "data": {
      "text/html": [
       "<pre style=\"white-space:pre;overflow-x:auto;line-height:normal;font-family:Menlo,'DejaVu Sans Mono',consolas,'Courier New',monospace\">Average reward over last 5000 steps: 3.10\n",
       "</pre>\n"
      ],
      "text/plain": [
       "Average reward over last 5000 steps: 3.10\n"
      ]
     },
     "metadata": {},
     "output_type": "display_data"
    },
    {
     "data": {
      "text/html": [
       "<pre style=\"white-space:pre;overflow-x:auto;line-height:normal;font-family:Menlo,'DejaVu Sans Mono',consolas,'Courier New',monospace\">Average reward over last 5000 steps: 3.10\n",
       "</pre>\n"
      ],
      "text/plain": [
       "Average reward over last 5000 steps: 3.10\n"
      ]
     },
     "metadata": {},
     "output_type": "display_data"
    },
    {
     "data": {
      "text/html": [
       "<pre style=\"white-space:pre;overflow-x:auto;line-height:normal;font-family:Menlo,'DejaVu Sans Mono',consolas,'Courier New',monospace\">Average reward over last 5000 steps: 3.31\n",
       "</pre>\n"
      ],
      "text/plain": [
       "Average reward over last 5000 steps: 3.31\n"
      ]
     },
     "metadata": {},
     "output_type": "display_data"
    },
    {
     "data": {
      "text/html": [
       "<pre style=\"white-space:pre;overflow-x:auto;line-height:normal;font-family:Menlo,'DejaVu Sans Mono',consolas,'Courier New',monospace\">Average reward over last 5000 steps: 3.02\n",
       "</pre>\n"
      ],
      "text/plain": [
       "Average reward over last 5000 steps: 3.02\n"
      ]
     },
     "metadata": {},
     "output_type": "display_data"
    },
    {
     "data": {
      "text/html": [
       "<pre style=\"white-space:pre;overflow-x:auto;line-height:normal;font-family:Menlo,'DejaVu Sans Mono',consolas,'Courier New',monospace\">Average reward over last 5000 steps: 3.46\n",
       "</pre>\n"
      ],
      "text/plain": [
       "Average reward over last 5000 steps: 3.46\n"
      ]
     },
     "metadata": {},
     "output_type": "display_data"
    },
    {
     "data": {
      "text/html": [
       "<pre style=\"white-space:pre;overflow-x:auto;line-height:normal;font-family:Menlo,'DejaVu Sans Mono',consolas,'Courier New',monospace\">Average reward over last 5000 steps: 3.15\n",
       "</pre>\n"
      ],
      "text/plain": [
       "Average reward over last 5000 steps: 3.15\n"
      ]
     },
     "metadata": {},
     "output_type": "display_data"
    },
    {
     "data": {
      "text/html": [
       "<pre style=\"white-space:pre;overflow-x:auto;line-height:normal;font-family:Menlo,'DejaVu Sans Mono',consolas,'Courier New',monospace\">Average reward over last 5000 steps: 3.16\n",
       "</pre>\n"
      ],
      "text/plain": [
       "Average reward over last 5000 steps: 3.16\n"
      ]
     },
     "metadata": {},
     "output_type": "display_data"
    },
    {
     "data": {
      "text/html": [
       "<pre style=\"white-space:pre;overflow-x:auto;line-height:normal;font-family:Menlo,'DejaVu Sans Mono',consolas,'Courier New',monospace\">Average reward over last 5000 steps: 3.31\n",
       "</pre>\n"
      ],
      "text/plain": [
       "Average reward over last 5000 steps: 3.31\n"
      ]
     },
     "metadata": {},
     "output_type": "display_data"
    },
    {
     "data": {
      "text/html": [
       "<pre style=\"white-space:pre;overflow-x:auto;line-height:normal;font-family:Menlo,'DejaVu Sans Mono',consolas,'Courier New',monospace\">Average reward over last 5000 steps: 3.20\n",
       "</pre>\n"
      ],
      "text/plain": [
       "Average reward over last 5000 steps: 3.20\n"
      ]
     },
     "metadata": {},
     "output_type": "display_data"
    },
    {
     "data": {
      "text/html": [
       "<pre style=\"white-space:pre;overflow-x:auto;line-height:normal;font-family:Menlo,'DejaVu Sans Mono',consolas,'Courier New',monospace\">Average reward over last 5000 steps: 3.03\n",
       "</pre>\n"
      ],
      "text/plain": [
       "Average reward over last 5000 steps: 3.03\n"
      ]
     },
     "metadata": {},
     "output_type": "display_data"
    },
    {
     "data": {
      "text/html": [
       "<pre style=\"white-space:pre;overflow-x:auto;line-height:normal;font-family:Menlo,'DejaVu Sans Mono',consolas,'Courier New',monospace\">Average reward over last 5000 steps: 3.14\n",
       "</pre>\n"
      ],
      "text/plain": [
       "Average reward over last 5000 steps: 3.14\n"
      ]
     },
     "metadata": {},
     "output_type": "display_data"
    },
    {
     "data": {
      "text/html": [
       "<pre style=\"white-space:pre;overflow-x:auto;line-height:normal;font-family:Menlo,'DejaVu Sans Mono',consolas,'Courier New',monospace\">Average reward over last 5000 steps: 3.26\n",
       "</pre>\n"
      ],
      "text/plain": [
       "Average reward over last 5000 steps: 3.26\n"
      ]
     },
     "metadata": {},
     "output_type": "display_data"
    },
    {
     "data": {
      "text/html": [
       "<pre style=\"white-space:pre;overflow-x:auto;line-height:normal;font-family:Menlo,'DejaVu Sans Mono',consolas,'Courier New',monospace\">Average reward over last 5000 steps: 3.19\n",
       "</pre>\n"
      ],
      "text/plain": [
       "Average reward over last 5000 steps: 3.19\n"
      ]
     },
     "metadata": {},
     "output_type": "display_data"
    },
    {
     "data": {
      "text/html": [
       "<pre style=\"white-space:pre;overflow-x:auto;line-height:normal;font-family:Menlo,'DejaVu Sans Mono',consolas,'Courier New',monospace\">Average reward over last 5000 steps: 3.35\n",
       "</pre>\n"
      ],
      "text/plain": [
       "Average reward over last 5000 steps: 3.35\n"
      ]
     },
     "metadata": {},
     "output_type": "display_data"
    },
    {
     "data": {
      "text/html": [
       "<pre style=\"white-space:pre;overflow-x:auto;line-height:normal;font-family:Menlo,'DejaVu Sans Mono',consolas,'Courier New',monospace\">Average reward over last 5000 steps: 3.21\n",
       "</pre>\n"
      ],
      "text/plain": [
       "Average reward over last 5000 steps: 3.21\n"
      ]
     },
     "metadata": {},
     "output_type": "display_data"
    },
    {
     "data": {
      "text/html": [
       "<pre style=\"white-space:pre;overflow-x:auto;line-height:normal;font-family:Menlo,'DejaVu Sans Mono',consolas,'Courier New',monospace\">Average reward over last 5000 steps: 3.68\n",
       "</pre>\n"
      ],
      "text/plain": [
       "Average reward over last 5000 steps: 3.68\n"
      ]
     },
     "metadata": {},
     "output_type": "display_data"
    },
    {
     "data": {
      "text/html": [
       "<pre style=\"white-space:pre;overflow-x:auto;line-height:normal;font-family:Menlo,'DejaVu Sans Mono',consolas,'Courier New',monospace\">Average reward over last 5000 steps: 3.16\n",
       "</pre>\n"
      ],
      "text/plain": [
       "Average reward over last 5000 steps: 3.16\n"
      ]
     },
     "metadata": {},
     "output_type": "display_data"
    },
    {
     "data": {
      "text/html": [
       "<pre style=\"white-space:pre;overflow-x:auto;line-height:normal;font-family:Menlo,'DejaVu Sans Mono',consolas,'Courier New',monospace\">Average reward over last 5000 steps: 3.04\n",
       "</pre>\n"
      ],
      "text/plain": [
       "Average reward over last 5000 steps: 3.04\n"
      ]
     },
     "metadata": {},
     "output_type": "display_data"
    },
    {
     "data": {
      "text/html": [
       "<pre style=\"white-space:pre;overflow-x:auto;line-height:normal;font-family:Menlo,'DejaVu Sans Mono',consolas,'Courier New',monospace\">Average reward over last 5000 steps: 3.13\n",
       "</pre>\n"
      ],
      "text/plain": [
       "Average reward over last 5000 steps: 3.13\n"
      ]
     },
     "metadata": {},
     "output_type": "display_data"
    },
    {
     "data": {
      "text/html": [
       "<pre style=\"white-space:pre;overflow-x:auto;line-height:normal;font-family:Menlo,'DejaVu Sans Mono',consolas,'Courier New',monospace\">Average reward over last 5000 steps: 3.01\n",
       "</pre>\n"
      ],
      "text/plain": [
       "Average reward over last 5000 steps: 3.01\n"
      ]
     },
     "metadata": {},
     "output_type": "display_data"
    },
    {
     "data": {
      "text/html": [
       "<pre style=\"white-space:pre;overflow-x:auto;line-height:normal;font-family:Menlo,'DejaVu Sans Mono',consolas,'Courier New',monospace\">Average reward over last 5000 steps: 3.24\n",
       "</pre>\n"
      ],
      "text/plain": [
       "Average reward over last 5000 steps: 3.24\n"
      ]
     },
     "metadata": {},
     "output_type": "display_data"
    },
    {
     "data": {
      "text/html": [
       "<pre style=\"white-space:pre;overflow-x:auto;line-height:normal;font-family:Menlo,'DejaVu Sans Mono',consolas,'Courier New',monospace\">Average reward over last 5000 steps: 3.29\n",
       "</pre>\n"
      ],
      "text/plain": [
       "Average reward over last 5000 steps: 3.29\n"
      ]
     },
     "metadata": {},
     "output_type": "display_data"
    },
    {
     "data": {
      "text/html": [
       "<pre style=\"white-space:pre;overflow-x:auto;line-height:normal;font-family:Menlo,'DejaVu Sans Mono',consolas,'Courier New',monospace\">Average reward over last 5000 steps: 3.19\n",
       "</pre>\n"
      ],
      "text/plain": [
       "Average reward over last 5000 steps: 3.19\n"
      ]
     },
     "metadata": {},
     "output_type": "display_data"
    },
    {
     "data": {
      "text/html": [
       "<pre style=\"white-space:pre;overflow-x:auto;line-height:normal;font-family:Menlo,'DejaVu Sans Mono',consolas,'Courier New',monospace\">Average reward over last 5000 steps: 3.05\n",
       "</pre>\n"
      ],
      "text/plain": [
       "Average reward over last 5000 steps: 3.05\n"
      ]
     },
     "metadata": {},
     "output_type": "display_data"
    },
    {
     "data": {
      "text/html": [
       "<pre style=\"white-space:pre;overflow-x:auto;line-height:normal;font-family:Menlo,'DejaVu Sans Mono',consolas,'Courier New',monospace\">Average reward over last 5000 steps: 2.92\n",
       "</pre>\n"
      ],
      "text/plain": [
       "Average reward over last 5000 steps: 2.92\n"
      ]
     },
     "metadata": {},
     "output_type": "display_data"
    },
    {
     "data": {
      "text/html": [
       "<pre style=\"white-space:pre;overflow-x:auto;line-height:normal;font-family:Menlo,'DejaVu Sans Mono',consolas,'Courier New',monospace\">Average reward over last 5000 steps: 3.23\n",
       "</pre>\n"
      ],
      "text/plain": [
       "Average reward over last 5000 steps: 3.23\n"
      ]
     },
     "metadata": {},
     "output_type": "display_data"
    },
    {
     "data": {
      "text/html": [
       "<pre style=\"white-space:pre;overflow-x:auto;line-height:normal;font-family:Menlo,'DejaVu Sans Mono',consolas,'Courier New',monospace\">Average reward over last 5000 steps: 3.03\n",
       "</pre>\n"
      ],
      "text/plain": [
       "Average reward over last 5000 steps: 3.03\n"
      ]
     },
     "metadata": {},
     "output_type": "display_data"
    },
    {
     "data": {
      "text/html": [
       "<pre style=\"white-space:pre;overflow-x:auto;line-height:normal;font-family:Menlo,'DejaVu Sans Mono',consolas,'Courier New',monospace\">Average reward over last 5000 steps: 3.05\n",
       "</pre>\n"
      ],
      "text/plain": [
       "Average reward over last 5000 steps: 3.05\n"
      ]
     },
     "metadata": {},
     "output_type": "display_data"
    },
    {
     "data": {
      "text/html": [
       "<pre style=\"white-space:pre;overflow-x:auto;line-height:normal;font-family:Menlo,'DejaVu Sans Mono',consolas,'Courier New',monospace\">Average reward over last 5000 steps: 2.96\n",
       "</pre>\n"
      ],
      "text/plain": [
       "Average reward over last 5000 steps: 2.96\n"
      ]
     },
     "metadata": {},
     "output_type": "display_data"
    },
    {
     "data": {
      "text/html": [
       "<pre style=\"white-space:pre;overflow-x:auto;line-height:normal;font-family:Menlo,'DejaVu Sans Mono',consolas,'Courier New',monospace\">Average reward over last 5000 steps: 3.11\n",
       "</pre>\n"
      ],
      "text/plain": [
       "Average reward over last 5000 steps: 3.11\n"
      ]
     },
     "metadata": {},
     "output_type": "display_data"
    },
    {
     "data": {
      "text/html": [
       "<pre style=\"white-space:pre;overflow-x:auto;line-height:normal;font-family:Menlo,'DejaVu Sans Mono',consolas,'Courier New',monospace\">Average reward over last 5000 steps: 3.05\n",
       "</pre>\n"
      ],
      "text/plain": [
       "Average reward over last 5000 steps: 3.05\n"
      ]
     },
     "metadata": {},
     "output_type": "display_data"
    },
    {
     "data": {
      "text/html": [
       "<pre style=\"white-space:pre;overflow-x:auto;line-height:normal;font-family:Menlo,'DejaVu Sans Mono',consolas,'Courier New',monospace\">Average reward over last 5000 steps: 2.92\n",
       "</pre>\n"
      ],
      "text/plain": [
       "Average reward over last 5000 steps: 2.92\n"
      ]
     },
     "metadata": {},
     "output_type": "display_data"
    },
    {
     "data": {
      "text/html": [
       "<pre style=\"white-space:pre;overflow-x:auto;line-height:normal;font-family:Menlo,'DejaVu Sans Mono',consolas,'Courier New',monospace\">Average reward over last 5000 steps: 3.16\n",
       "</pre>\n"
      ],
      "text/plain": [
       "Average reward over last 5000 steps: 3.16\n"
      ]
     },
     "metadata": {},
     "output_type": "display_data"
    },
    {
     "data": {
      "text/html": [
       "<pre style=\"white-space:pre;overflow-x:auto;line-height:normal;font-family:Menlo,'DejaVu Sans Mono',consolas,'Courier New',monospace\">Average reward over last 5000 steps: 3.45\n",
       "</pre>\n"
      ],
      "text/plain": [
       "Average reward over last 5000 steps: 3.45\n"
      ]
     },
     "metadata": {},
     "output_type": "display_data"
    },
    {
     "data": {
      "text/html": [
       "<pre style=\"white-space:pre;overflow-x:auto;line-height:normal;font-family:Menlo,'DejaVu Sans Mono',consolas,'Courier New',monospace\">Average reward over last 5000 steps: 3.59\n",
       "</pre>\n"
      ],
      "text/plain": [
       "Average reward over last 5000 steps: 3.59\n"
      ]
     },
     "metadata": {},
     "output_type": "display_data"
    },
    {
     "data": {
      "text/html": [
       "<pre style=\"white-space:pre;overflow-x:auto;line-height:normal;font-family:Menlo,'DejaVu Sans Mono',consolas,'Courier New',monospace\">Average reward over last 5000 steps: 3.71\n",
       "</pre>\n"
      ],
      "text/plain": [
       "Average reward over last 5000 steps: 3.71\n"
      ]
     },
     "metadata": {},
     "output_type": "display_data"
    },
    {
     "data": {
      "text/html": [
       "<pre style=\"white-space:pre;overflow-x:auto;line-height:normal;font-family:Menlo,'DejaVu Sans Mono',consolas,'Courier New',monospace\">Average reward over last 5000 steps: 3.16\n",
       "</pre>\n"
      ],
      "text/plain": [
       "Average reward over last 5000 steps: 3.16\n"
      ]
     },
     "metadata": {},
     "output_type": "display_data"
    },
    {
     "data": {
      "text/html": [
       "<pre style=\"white-space:pre;overflow-x:auto;line-height:normal;font-family:Menlo,'DejaVu Sans Mono',consolas,'Courier New',monospace\">Average reward over last 5000 steps: 3.38\n",
       "</pre>\n"
      ],
      "text/plain": [
       "Average reward over last 5000 steps: 3.38\n"
      ]
     },
     "metadata": {},
     "output_type": "display_data"
    },
    {
     "data": {
      "text/html": [
       "<pre style=\"white-space:pre;overflow-x:auto;line-height:normal;font-family:Menlo,'DejaVu Sans Mono',consolas,'Courier New',monospace\">Average reward over last 5000 steps: 3.16\n",
       "</pre>\n"
      ],
      "text/plain": [
       "Average reward over last 5000 steps: 3.16\n"
      ]
     },
     "metadata": {},
     "output_type": "display_data"
    },
    {
     "data": {
      "text/html": [
       "<pre style=\"white-space:pre;overflow-x:auto;line-height:normal;font-family:Menlo,'DejaVu Sans Mono',consolas,'Courier New',monospace\">Average reward over last 5000 steps: 3.51\n",
       "</pre>\n"
      ],
      "text/plain": [
       "Average reward over last 5000 steps: 3.51\n"
      ]
     },
     "metadata": {},
     "output_type": "display_data"
    },
    {
     "data": {
      "text/html": [
       "<pre style=\"white-space:pre;overflow-x:auto;line-height:normal;font-family:Menlo,'DejaVu Sans Mono',consolas,'Courier New',monospace\">Average reward over last 5000 steps: 3.34\n",
       "</pre>\n"
      ],
      "text/plain": [
       "Average reward over last 5000 steps: 3.34\n"
      ]
     },
     "metadata": {},
     "output_type": "display_data"
    },
    {
     "data": {
      "text/html": [
       "<pre style=\"white-space:pre;overflow-x:auto;line-height:normal;font-family:Menlo,'DejaVu Sans Mono',consolas,'Courier New',monospace\">Average reward over last 5000 steps: 2.87\n",
       "</pre>\n"
      ],
      "text/plain": [
       "Average reward over last 5000 steps: 2.87\n"
      ]
     },
     "metadata": {},
     "output_type": "display_data"
    },
    {
     "data": {
      "text/html": [
       "<pre style=\"white-space:pre;overflow-x:auto;line-height:normal;font-family:Menlo,'DejaVu Sans Mono',consolas,'Courier New',monospace\">Average reward over last 5000 steps: 3.09\n",
       "</pre>\n"
      ],
      "text/plain": [
       "Average reward over last 5000 steps: 3.09\n"
      ]
     },
     "metadata": {},
     "output_type": "display_data"
    },
    {
     "data": {
      "text/html": [
       "<pre style=\"white-space:pre;overflow-x:auto;line-height:normal;font-family:Menlo,'DejaVu Sans Mono',consolas,'Courier New',monospace\">Average reward over last 5000 steps: 2.84\n",
       "</pre>\n"
      ],
      "text/plain": [
       "Average reward over last 5000 steps: 2.84\n"
      ]
     },
     "metadata": {},
     "output_type": "display_data"
    },
    {
     "data": {
      "text/html": [
       "<pre style=\"white-space:pre;overflow-x:auto;line-height:normal;font-family:Menlo,'DejaVu Sans Mono',consolas,'Courier New',monospace\">Average reward over last 5000 steps: 2.92\n",
       "</pre>\n"
      ],
      "text/plain": [
       "Average reward over last 5000 steps: 2.92\n"
      ]
     },
     "metadata": {},
     "output_type": "display_data"
    },
    {
     "data": {
      "text/html": [
       "<pre style=\"white-space:pre;overflow-x:auto;line-height:normal;font-family:Menlo,'DejaVu Sans Mono',consolas,'Courier New',monospace\">Average reward over last 5000 steps: 3.07\n",
       "</pre>\n"
      ],
      "text/plain": [
       "Average reward over last 5000 steps: 3.07\n"
      ]
     },
     "metadata": {},
     "output_type": "display_data"
    },
    {
     "data": {
      "text/html": [
       "<pre style=\"white-space:pre;overflow-x:auto;line-height:normal;font-family:Menlo,'DejaVu Sans Mono',consolas,'Courier New',monospace\">Average reward over last 5000 steps: 3.55\n",
       "</pre>\n"
      ],
      "text/plain": [
       "Average reward over last 5000 steps: 3.55\n"
      ]
     },
     "metadata": {},
     "output_type": "display_data"
    },
    {
     "data": {
      "text/html": [
       "<pre style=\"white-space:pre;overflow-x:auto;line-height:normal;font-family:Menlo,'DejaVu Sans Mono',consolas,'Courier New',monospace\">Average reward over last 5000 steps: 3.22\n",
       "</pre>\n"
      ],
      "text/plain": [
       "Average reward over last 5000 steps: 3.22\n"
      ]
     },
     "metadata": {},
     "output_type": "display_data"
    },
    {
     "data": {
      "text/html": [
       "<pre style=\"white-space:pre;overflow-x:auto;line-height:normal;font-family:Menlo,'DejaVu Sans Mono',consolas,'Courier New',monospace\">Average reward over last 5000 steps: 3.72\n",
       "</pre>\n"
      ],
      "text/plain": [
       "Average reward over last 5000 steps: 3.72\n"
      ]
     },
     "metadata": {},
     "output_type": "display_data"
    },
    {
     "data": {
      "text/html": [
       "<pre style=\"white-space:pre;overflow-x:auto;line-height:normal;font-family:Menlo,'DejaVu Sans Mono',consolas,'Courier New',monospace\">Average reward over last 5000 steps: 2.89\n",
       "</pre>\n"
      ],
      "text/plain": [
       "Average reward over last 5000 steps: 2.89\n"
      ]
     },
     "metadata": {},
     "output_type": "display_data"
    },
    {
     "data": {
      "text/html": [
       "<pre style=\"white-space:pre;overflow-x:auto;line-height:normal;font-family:Menlo,'DejaVu Sans Mono',consolas,'Courier New',monospace\">Average reward over last 5000 steps: 3.43\n",
       "</pre>\n"
      ],
      "text/plain": [
       "Average reward over last 5000 steps: 3.43\n"
      ]
     },
     "metadata": {},
     "output_type": "display_data"
    },
    {
     "data": {
      "text/html": [
       "<pre style=\"white-space:pre;overflow-x:auto;line-height:normal;font-family:Menlo,'DejaVu Sans Mono',consolas,'Courier New',monospace\">Average reward over last 5000 steps: 3.08\n",
       "</pre>\n"
      ],
      "text/plain": [
       "Average reward over last 5000 steps: 3.08\n"
      ]
     },
     "metadata": {},
     "output_type": "display_data"
    },
    {
     "data": {
      "text/html": [
       "<pre style=\"white-space:pre;overflow-x:auto;line-height:normal;font-family:Menlo,'DejaVu Sans Mono',consolas,'Courier New',monospace\">Average reward over last 5000 steps: 2.95\n",
       "</pre>\n"
      ],
      "text/plain": [
       "Average reward over last 5000 steps: 2.95\n"
      ]
     },
     "metadata": {},
     "output_type": "display_data"
    },
    {
     "data": {
      "text/html": [
       "<pre style=\"white-space:pre;overflow-x:auto;line-height:normal;font-family:Menlo,'DejaVu Sans Mono',consolas,'Courier New',monospace\">Average reward over last 5000 steps: 3.00\n",
       "</pre>\n"
      ],
      "text/plain": [
       "Average reward over last 5000 steps: 3.00\n"
      ]
     },
     "metadata": {},
     "output_type": "display_data"
    },
    {
     "data": {
      "text/html": [
       "<pre style=\"white-space:pre;overflow-x:auto;line-height:normal;font-family:Menlo,'DejaVu Sans Mono',consolas,'Courier New',monospace\">Average reward over last 5000 steps: 3.13\n",
       "</pre>\n"
      ],
      "text/plain": [
       "Average reward over last 5000 steps: 3.13\n"
      ]
     },
     "metadata": {},
     "output_type": "display_data"
    },
    {
     "data": {
      "text/html": [
       "<pre style=\"white-space:pre;overflow-x:auto;line-height:normal;font-family:Menlo,'DejaVu Sans Mono',consolas,'Courier New',monospace\">Already in the final curriculum phase.\n",
       "</pre>\n"
      ],
      "text/plain": [
       "Already in the final curriculum phase.\n"
      ]
     },
     "metadata": {},
     "output_type": "display_data"
    },
    {
     "data": {
      "text/html": [
       "<pre style=\"white-space:pre;overflow-x:auto;line-height:normal;font-family:Menlo,'DejaVu Sans Mono',consolas,'Courier New',monospace\">Average reward over last 5000 steps: 3.21\n",
       "</pre>\n"
      ],
      "text/plain": [
       "Average reward over last 5000 steps: 3.21\n"
      ]
     },
     "metadata": {},
     "output_type": "display_data"
    },
    {
     "data": {
      "text/html": [
       "<pre style=\"white-space:pre;overflow-x:auto;line-height:normal;font-family:Menlo,'DejaVu Sans Mono',consolas,'Courier New',monospace\">Average reward over last 5000 steps: 3.07\n",
       "</pre>\n"
      ],
      "text/plain": [
       "Average reward over last 5000 steps: 3.07\n"
      ]
     },
     "metadata": {},
     "output_type": "display_data"
    },
    {
     "data": {
      "text/html": [
       "<pre style=\"white-space:pre;overflow-x:auto;line-height:normal;font-family:Menlo,'DejaVu Sans Mono',consolas,'Courier New',monospace\">Average reward over last 5000 steps: 3.24\n",
       "</pre>\n"
      ],
      "text/plain": [
       "Average reward over last 5000 steps: 3.24\n"
      ]
     },
     "metadata": {},
     "output_type": "display_data"
    },
    {
     "data": {
      "text/html": [
       "<pre style=\"white-space:pre;overflow-x:auto;line-height:normal;font-family:Menlo,'DejaVu Sans Mono',consolas,'Courier New',monospace\">Average reward over last 5000 steps: 3.63\n",
       "</pre>\n"
      ],
      "text/plain": [
       "Average reward over last 5000 steps: 3.63\n"
      ]
     },
     "metadata": {},
     "output_type": "display_data"
    },
    {
     "data": {
      "text/html": [
       "<pre style=\"white-space:pre;overflow-x:auto;line-height:normal;font-family:Menlo,'DejaVu Sans Mono',consolas,'Courier New',monospace\">Average reward over last 5000 steps: 3.55\n",
       "</pre>\n"
      ],
      "text/plain": [
       "Average reward over last 5000 steps: 3.55\n"
      ]
     },
     "metadata": {},
     "output_type": "display_data"
    },
    {
     "data": {
      "text/html": [
       "<pre style=\"white-space:pre;overflow-x:auto;line-height:normal;font-family:Menlo,'DejaVu Sans Mono',consolas,'Courier New',monospace\">Average reward over last 5000 steps: 3.46\n",
       "</pre>\n"
      ],
      "text/plain": [
       "Average reward over last 5000 steps: 3.46\n"
      ]
     },
     "metadata": {},
     "output_type": "display_data"
    },
    {
     "data": {
      "text/html": [
       "<pre style=\"white-space:pre;overflow-x:auto;line-height:normal;font-family:Menlo,'DejaVu Sans Mono',consolas,'Courier New',monospace\">Average reward over last 5000 steps: 3.14\n",
       "</pre>\n"
      ],
      "text/plain": [
       "Average reward over last 5000 steps: 3.14\n"
      ]
     },
     "metadata": {},
     "output_type": "display_data"
    },
    {
     "data": {
      "text/html": [
       "<pre style=\"white-space:pre;overflow-x:auto;line-height:normal;font-family:Menlo,'DejaVu Sans Mono',consolas,'Courier New',monospace\">Average reward over last 5000 steps: 3.26\n",
       "</pre>\n"
      ],
      "text/plain": [
       "Average reward over last 5000 steps: 3.26\n"
      ]
     },
     "metadata": {},
     "output_type": "display_data"
    },
    {
     "data": {
      "text/html": [
       "<pre style=\"white-space:pre;overflow-x:auto;line-height:normal;font-family:Menlo,'DejaVu Sans Mono',consolas,'Courier New',monospace\">Average reward over last 5000 steps: 3.10\n",
       "</pre>\n"
      ],
      "text/plain": [
       "Average reward over last 5000 steps: 3.10\n"
      ]
     },
     "metadata": {},
     "output_type": "display_data"
    },
    {
     "data": {
      "text/html": [
       "<pre style=\"white-space:pre;overflow-x:auto;line-height:normal;font-family:Menlo,'DejaVu Sans Mono',consolas,'Courier New',monospace\">Average reward over last 5000 steps: 3.05\n",
       "</pre>\n"
      ],
      "text/plain": [
       "Average reward over last 5000 steps: 3.05\n"
      ]
     },
     "metadata": {},
     "output_type": "display_data"
    },
    {
     "data": {
      "text/html": [
       "<pre style=\"white-space:pre;overflow-x:auto;line-height:normal;font-family:Menlo,'DejaVu Sans Mono',consolas,'Courier New',monospace\">Average reward over last 5000 steps: 3.56\n",
       "</pre>\n"
      ],
      "text/plain": [
       "Average reward over last 5000 steps: 3.56\n"
      ]
     },
     "metadata": {},
     "output_type": "display_data"
    },
    {
     "data": {
      "text/html": [
       "<pre style=\"white-space:pre;overflow-x:auto;line-height:normal;font-family:Menlo,'DejaVu Sans Mono',consolas,'Courier New',monospace\">Average reward over last 5000 steps: 3.34\n",
       "</pre>\n"
      ],
      "text/plain": [
       "Average reward over last 5000 steps: 3.34\n"
      ]
     },
     "metadata": {},
     "output_type": "display_data"
    },
    {
     "data": {
      "text/html": [
       "<pre style=\"white-space:pre;overflow-x:auto;line-height:normal;font-family:Menlo,'DejaVu Sans Mono',consolas,'Courier New',monospace\">Average reward over last 5000 steps: 3.36\n",
       "</pre>\n"
      ],
      "text/plain": [
       "Average reward over last 5000 steps: 3.36\n"
      ]
     },
     "metadata": {},
     "output_type": "display_data"
    },
    {
     "data": {
      "text/html": [
       "<pre style=\"white-space:pre;overflow-x:auto;line-height:normal;font-family:Menlo,'DejaVu Sans Mono',consolas,'Courier New',monospace\">Average reward over last 5000 steps: 3.44\n",
       "</pre>\n"
      ],
      "text/plain": [
       "Average reward over last 5000 steps: 3.44\n"
      ]
     },
     "metadata": {},
     "output_type": "display_data"
    },
    {
     "data": {
      "text/html": [
       "<pre style=\"white-space:pre;overflow-x:auto;line-height:normal;font-family:Menlo,'DejaVu Sans Mono',consolas,'Courier New',monospace\">Average reward over last 5000 steps: 3.42\n",
       "</pre>\n"
      ],
      "text/plain": [
       "Average reward over last 5000 steps: 3.42\n"
      ]
     },
     "metadata": {},
     "output_type": "display_data"
    },
    {
     "data": {
      "text/html": [
       "<pre style=\"white-space:pre;overflow-x:auto;line-height:normal;font-family:Menlo,'DejaVu Sans Mono',consolas,'Courier New',monospace\">Average reward over last 5000 steps: 3.36\n",
       "</pre>\n"
      ],
      "text/plain": [
       "Average reward over last 5000 steps: 3.36\n"
      ]
     },
     "metadata": {},
     "output_type": "display_data"
    },
    {
     "data": {
      "text/html": [
       "<pre style=\"white-space:pre;overflow-x:auto;line-height:normal;font-family:Menlo,'DejaVu Sans Mono',consolas,'Courier New',monospace\">Average reward over last 5000 steps: 3.43\n",
       "</pre>\n"
      ],
      "text/plain": [
       "Average reward over last 5000 steps: 3.43\n"
      ]
     },
     "metadata": {},
     "output_type": "display_data"
    },
    {
     "data": {
      "text/html": [
       "<pre style=\"white-space:pre;overflow-x:auto;line-height:normal;font-family:Menlo,'DejaVu Sans Mono',consolas,'Courier New',monospace\">Average reward over last 5000 steps: 3.27\n",
       "</pre>\n"
      ],
      "text/plain": [
       "Average reward over last 5000 steps: 3.27\n"
      ]
     },
     "metadata": {},
     "output_type": "display_data"
    },
    {
     "data": {
      "text/html": [
       "<pre style=\"white-space:pre;overflow-x:auto;line-height:normal;font-family:Menlo,'DejaVu Sans Mono',consolas,'Courier New',monospace\">Average reward over last 5000 steps: 3.25\n",
       "</pre>\n"
      ],
      "text/plain": [
       "Average reward over last 5000 steps: 3.25\n"
      ]
     },
     "metadata": {},
     "output_type": "display_data"
    },
    {
     "data": {
      "text/html": [
       "<pre style=\"white-space:pre;overflow-x:auto;line-height:normal;font-family:Menlo,'DejaVu Sans Mono',consolas,'Courier New',monospace\">Average reward over last 5000 steps: 3.41\n",
       "</pre>\n"
      ],
      "text/plain": [
       "Average reward over last 5000 steps: 3.41\n"
      ]
     },
     "metadata": {},
     "output_type": "display_data"
    },
    {
     "data": {
      "text/html": [
       "<pre style=\"white-space:pre;overflow-x:auto;line-height:normal;font-family:Menlo,'DejaVu Sans Mono',consolas,'Courier New',monospace\">Average reward over last 5000 steps: 3.46\n",
       "</pre>\n"
      ],
      "text/plain": [
       "Average reward over last 5000 steps: 3.46\n"
      ]
     },
     "metadata": {},
     "output_type": "display_data"
    },
    {
     "data": {
      "text/html": [
       "<pre style=\"white-space:pre;overflow-x:auto;line-height:normal;font-family:Menlo,'DejaVu Sans Mono',consolas,'Courier New',monospace\">Average reward over last 5000 steps: 3.22\n",
       "</pre>\n"
      ],
      "text/plain": [
       "Average reward over last 5000 steps: 3.22\n"
      ]
     },
     "metadata": {},
     "output_type": "display_data"
    },
    {
     "data": {
      "text/html": [
       "<pre style=\"white-space:pre;overflow-x:auto;line-height:normal;font-family:Menlo,'DejaVu Sans Mono',consolas,'Courier New',monospace\">Average reward over last 5000 steps: 3.22\n",
       "</pre>\n"
      ],
      "text/plain": [
       "Average reward over last 5000 steps: 3.22\n"
      ]
     },
     "metadata": {},
     "output_type": "display_data"
    },
    {
     "data": {
      "text/html": [
       "<pre style=\"white-space:pre;overflow-x:auto;line-height:normal;font-family:Menlo,'DejaVu Sans Mono',consolas,'Courier New',monospace\">Average reward over last 5000 steps: 3.20\n",
       "</pre>\n"
      ],
      "text/plain": [
       "Average reward over last 5000 steps: 3.20\n"
      ]
     },
     "metadata": {},
     "output_type": "display_data"
    },
    {
     "data": {
      "text/html": [
       "<pre style=\"white-space:pre;overflow-x:auto;line-height:normal;font-family:Menlo,'DejaVu Sans Mono',consolas,'Courier New',monospace\">Average reward over last 5000 steps: 3.05\n",
       "</pre>\n"
      ],
      "text/plain": [
       "Average reward over last 5000 steps: 3.05\n"
      ]
     },
     "metadata": {},
     "output_type": "display_data"
    },
    {
     "data": {
      "text/html": [
       "<pre style=\"white-space:pre;overflow-x:auto;line-height:normal;font-family:Menlo,'DejaVu Sans Mono',consolas,'Courier New',monospace\">Average reward over last 5000 steps: 3.19\n",
       "</pre>\n"
      ],
      "text/plain": [
       "Average reward over last 5000 steps: 3.19\n"
      ]
     },
     "metadata": {},
     "output_type": "display_data"
    },
    {
     "data": {
      "text/html": [
       "<pre style=\"white-space:pre;overflow-x:auto;line-height:normal;font-family:Menlo,'DejaVu Sans Mono',consolas,'Courier New',monospace\">Average reward over last 5000 steps: 3.17\n",
       "</pre>\n"
      ],
      "text/plain": [
       "Average reward over last 5000 steps: 3.17\n"
      ]
     },
     "metadata": {},
     "output_type": "display_data"
    },
    {
     "data": {
      "text/html": [
       "<pre style=\"white-space:pre;overflow-x:auto;line-height:normal;font-family:Menlo,'DejaVu Sans Mono',consolas,'Courier New',monospace\">Average reward over last 5000 steps: 2.84\n",
       "</pre>\n"
      ],
      "text/plain": [
       "Average reward over last 5000 steps: 2.84\n"
      ]
     },
     "metadata": {},
     "output_type": "display_data"
    },
    {
     "data": {
      "text/html": [
       "<pre style=\"white-space:pre;overflow-x:auto;line-height:normal;font-family:Menlo,'DejaVu Sans Mono',consolas,'Courier New',monospace\">Average reward over last 5000 steps: 2.97\n",
       "</pre>\n"
      ],
      "text/plain": [
       "Average reward over last 5000 steps: 2.97\n"
      ]
     },
     "metadata": {},
     "output_type": "display_data"
    },
    {
     "data": {
      "text/html": [
       "<pre style=\"white-space:pre;overflow-x:auto;line-height:normal;font-family:Menlo,'DejaVu Sans Mono',consolas,'Courier New',monospace\">Average reward over last 5000 steps: 3.19\n",
       "</pre>\n"
      ],
      "text/plain": [
       "Average reward over last 5000 steps: 3.19\n"
      ]
     },
     "metadata": {},
     "output_type": "display_data"
    },
    {
     "data": {
      "text/html": [
       "<pre style=\"white-space:pre;overflow-x:auto;line-height:normal;font-family:Menlo,'DejaVu Sans Mono',consolas,'Courier New',monospace\">Average reward over last 5000 steps: 3.27\n",
       "</pre>\n"
      ],
      "text/plain": [
       "Average reward over last 5000 steps: 3.27\n"
      ]
     },
     "metadata": {},
     "output_type": "display_data"
    },
    {
     "data": {
      "text/html": [
       "<pre style=\"white-space:pre;overflow-x:auto;line-height:normal;font-family:Menlo,'DejaVu Sans Mono',consolas,'Courier New',monospace\">Average reward over last 5000 steps: 3.19\n",
       "</pre>\n"
      ],
      "text/plain": [
       "Average reward over last 5000 steps: 3.19\n"
      ]
     },
     "metadata": {},
     "output_type": "display_data"
    },
    {
     "data": {
      "text/html": [
       "<pre style=\"white-space:pre;overflow-x:auto;line-height:normal;font-family:Menlo,'DejaVu Sans Mono',consolas,'Courier New',monospace\">Average reward over last 5000 steps: 3.10\n",
       "</pre>\n"
      ],
      "text/plain": [
       "Average reward over last 5000 steps: 3.10\n"
      ]
     },
     "metadata": {},
     "output_type": "display_data"
    },
    {
     "data": {
      "text/html": [
       "<pre style=\"white-space:pre;overflow-x:auto;line-height:normal;font-family:Menlo,'DejaVu Sans Mono',consolas,'Courier New',monospace\">Average reward over last 5000 steps: 2.98\n",
       "</pre>\n"
      ],
      "text/plain": [
       "Average reward over last 5000 steps: 2.98\n"
      ]
     },
     "metadata": {},
     "output_type": "display_data"
    },
    {
     "data": {
      "text/html": [
       "<pre style=\"white-space:pre;overflow-x:auto;line-height:normal;font-family:Menlo,'DejaVu Sans Mono',consolas,'Courier New',monospace\">Average reward over last 5000 steps: 3.19\n",
       "</pre>\n"
      ],
      "text/plain": [
       "Average reward over last 5000 steps: 3.19\n"
      ]
     },
     "metadata": {},
     "output_type": "display_data"
    },
    {
     "data": {
      "text/html": [
       "<pre style=\"white-space:pre;overflow-x:auto;line-height:normal;font-family:Menlo,'DejaVu Sans Mono',consolas,'Courier New',monospace\">Average reward over last 5000 steps: 3.54\n",
       "</pre>\n"
      ],
      "text/plain": [
       "Average reward over last 5000 steps: 3.54\n"
      ]
     },
     "metadata": {},
     "output_type": "display_data"
    },
    {
     "data": {
      "text/html": [
       "<pre style=\"white-space:pre;overflow-x:auto;line-height:normal;font-family:Menlo,'DejaVu Sans Mono',consolas,'Courier New',monospace\">Average reward over last 5000 steps: 3.08\n",
       "</pre>\n"
      ],
      "text/plain": [
       "Average reward over last 5000 steps: 3.08\n"
      ]
     },
     "metadata": {},
     "output_type": "display_data"
    },
    {
     "data": {
      "text/html": [
       "<pre style=\"white-space:pre;overflow-x:auto;line-height:normal;font-family:Menlo,'DejaVu Sans Mono',consolas,'Courier New',monospace\">Average reward over last 5000 steps: 3.48\n",
       "</pre>\n"
      ],
      "text/plain": [
       "Average reward over last 5000 steps: 3.48\n"
      ]
     },
     "metadata": {},
     "output_type": "display_data"
    },
    {
     "data": {
      "text/html": [
       "<pre style=\"white-space:pre;overflow-x:auto;line-height:normal;font-family:Menlo,'DejaVu Sans Mono',consolas,'Courier New',monospace\">Average reward over last 5000 steps: 3.36\n",
       "</pre>\n"
      ],
      "text/plain": [
       "Average reward over last 5000 steps: 3.36\n"
      ]
     },
     "metadata": {},
     "output_type": "display_data"
    },
    {
     "data": {
      "text/html": [
       "<pre style=\"white-space:pre;overflow-x:auto;line-height:normal;font-family:Menlo,'DejaVu Sans Mono',consolas,'Courier New',monospace\">Average reward over last 5000 steps: 3.22\n",
       "</pre>\n"
      ],
      "text/plain": [
       "Average reward over last 5000 steps: 3.22\n"
      ]
     },
     "metadata": {},
     "output_type": "display_data"
    },
    {
     "data": {
      "text/html": [
       "<pre style=\"white-space:pre;overflow-x:auto;line-height:normal;font-family:Menlo,'DejaVu Sans Mono',consolas,'Courier New',monospace\">Average reward over last 5000 steps: 3.52\n",
       "</pre>\n"
      ],
      "text/plain": [
       "Average reward over last 5000 steps: 3.52\n"
      ]
     },
     "metadata": {},
     "output_type": "display_data"
    },
    {
     "data": {
      "text/html": [
       "<pre style=\"white-space:pre;overflow-x:auto;line-height:normal;font-family:Menlo,'DejaVu Sans Mono',consolas,'Courier New',monospace\">Average reward over last 5000 steps: 3.11\n",
       "</pre>\n"
      ],
      "text/plain": [
       "Average reward over last 5000 steps: 3.11\n"
      ]
     },
     "metadata": {},
     "output_type": "display_data"
    },
    {
     "data": {
      "text/html": [
       "<pre style=\"white-space:pre;overflow-x:auto;line-height:normal;font-family:Menlo,'DejaVu Sans Mono',consolas,'Courier New',monospace\">Average reward over last 5000 steps: 2.95\n",
       "</pre>\n"
      ],
      "text/plain": [
       "Average reward over last 5000 steps: 2.95\n"
      ]
     },
     "metadata": {},
     "output_type": "display_data"
    },
    {
     "data": {
      "text/html": [
       "<pre style=\"white-space:pre;overflow-x:auto;line-height:normal;font-family:Menlo,'DejaVu Sans Mono',consolas,'Courier New',monospace\">Average reward over last 5000 steps: 2.91\n",
       "</pre>\n"
      ],
      "text/plain": [
       "Average reward over last 5000 steps: 2.91\n"
      ]
     },
     "metadata": {},
     "output_type": "display_data"
    },
    {
     "data": {
      "text/html": [
       "<pre style=\"white-space:pre;overflow-x:auto;line-height:normal;font-family:Menlo,'DejaVu Sans Mono',consolas,'Courier New',monospace\">Average reward over last 5000 steps: 2.87\n",
       "</pre>\n"
      ],
      "text/plain": [
       "Average reward over last 5000 steps: 2.87\n"
      ]
     },
     "metadata": {},
     "output_type": "display_data"
    },
    {
     "data": {
      "text/html": [
       "<pre style=\"white-space:pre;overflow-x:auto;line-height:normal;font-family:Menlo,'DejaVu Sans Mono',consolas,'Courier New',monospace\">Average reward over last 5000 steps: 3.02\n",
       "</pre>\n"
      ],
      "text/plain": [
       "Average reward over last 5000 steps: 3.02\n"
      ]
     },
     "metadata": {},
     "output_type": "display_data"
    },
    {
     "data": {
      "text/html": [
       "<pre style=\"white-space:pre;overflow-x:auto;line-height:normal;font-family:Menlo,'DejaVu Sans Mono',consolas,'Courier New',monospace\">Average reward over last 5000 steps: 3.07\n",
       "</pre>\n"
      ],
      "text/plain": [
       "Average reward over last 5000 steps: 3.07\n"
      ]
     },
     "metadata": {},
     "output_type": "display_data"
    },
    {
     "data": {
      "text/html": [
       "<pre style=\"white-space:pre;overflow-x:auto;line-height:normal;font-family:Menlo,'DejaVu Sans Mono',consolas,'Courier New',monospace\">Average reward over last 5000 steps: 3.60\n",
       "</pre>\n"
      ],
      "text/plain": [
       "Average reward over last 5000 steps: 3.60\n"
      ]
     },
     "metadata": {},
     "output_type": "display_data"
    },
    {
     "data": {
      "text/html": [
       "<pre style=\"white-space:pre;overflow-x:auto;line-height:normal;font-family:Menlo,'DejaVu Sans Mono',consolas,'Courier New',monospace\">Average reward over last 5000 steps: 3.23\n",
       "</pre>\n"
      ],
      "text/plain": [
       "Average reward over last 5000 steps: 3.23\n"
      ]
     },
     "metadata": {},
     "output_type": "display_data"
    },
    {
     "data": {
      "text/html": [
       "<pre style=\"white-space:pre;overflow-x:auto;line-height:normal;font-family:Menlo,'DejaVu Sans Mono',consolas,'Courier New',monospace\">Average reward over last 5000 steps: 3.19\n",
       "</pre>\n"
      ],
      "text/plain": [
       "Average reward over last 5000 steps: 3.19\n"
      ]
     },
     "metadata": {},
     "output_type": "display_data"
    },
    {
     "data": {
      "text/html": [
       "<pre style=\"white-space:pre;overflow-x:auto;line-height:normal;font-family:Menlo,'DejaVu Sans Mono',consolas,'Courier New',monospace\">Average reward over last 5000 steps: 3.09\n",
       "</pre>\n"
      ],
      "text/plain": [
       "Average reward over last 5000 steps: 3.09\n"
      ]
     },
     "metadata": {},
     "output_type": "display_data"
    },
    {
     "data": {
      "text/html": [
       "<pre style=\"white-space:pre;overflow-x:auto;line-height:normal;font-family:Menlo,'DejaVu Sans Mono',consolas,'Courier New',monospace\">Average reward over last 5000 steps: 3.23\n",
       "</pre>\n"
      ],
      "text/plain": [
       "Average reward over last 5000 steps: 3.23\n"
      ]
     },
     "metadata": {},
     "output_type": "display_data"
    },
    {
     "data": {
      "text/html": [
       "<pre style=\"white-space:pre;overflow-x:auto;line-height:normal;font-family:Menlo,'DejaVu Sans Mono',consolas,'Courier New',monospace\">Average reward over last 5000 steps: 3.12\n",
       "</pre>\n"
      ],
      "text/plain": [
       "Average reward over last 5000 steps: 3.12\n"
      ]
     },
     "metadata": {},
     "output_type": "display_data"
    },
    {
     "data": {
      "text/html": [
       "<pre style=\"white-space:pre;overflow-x:auto;line-height:normal;font-family:Menlo,'DejaVu Sans Mono',consolas,'Courier New',monospace\">Average reward over last 5000 steps: 3.44\n",
       "</pre>\n"
      ],
      "text/plain": [
       "Average reward over last 5000 steps: 3.44\n"
      ]
     },
     "metadata": {},
     "output_type": "display_data"
    },
    {
     "data": {
      "text/html": [
       "<pre style=\"white-space:pre;overflow-x:auto;line-height:normal;font-family:Menlo,'DejaVu Sans Mono',consolas,'Courier New',monospace\">Average reward over last 5000 steps: 2.90\n",
       "</pre>\n"
      ],
      "text/plain": [
       "Average reward over last 5000 steps: 2.90\n"
      ]
     },
     "metadata": {},
     "output_type": "display_data"
    },
    {
     "data": {
      "text/html": [
       "<pre style=\"white-space:pre;overflow-x:auto;line-height:normal;font-family:Menlo,'DejaVu Sans Mono',consolas,'Courier New',monospace\">Average reward over last 5000 steps: 3.10\n",
       "</pre>\n"
      ],
      "text/plain": [
       "Average reward over last 5000 steps: 3.10\n"
      ]
     },
     "metadata": {},
     "output_type": "display_data"
    },
    {
     "data": {
      "text/html": [
       "<pre style=\"white-space:pre;overflow-x:auto;line-height:normal;font-family:Menlo,'DejaVu Sans Mono',consolas,'Courier New',monospace\">Average reward over last 5000 steps: 3.14\n",
       "</pre>\n"
      ],
      "text/plain": [
       "Average reward over last 5000 steps: 3.14\n"
      ]
     },
     "metadata": {},
     "output_type": "display_data"
    },
    {
     "data": {
      "text/html": [
       "<pre style=\"white-space:pre;overflow-x:auto;line-height:normal;font-family:Menlo,'DejaVu Sans Mono',consolas,'Courier New',monospace\">Average reward over last 5000 steps: 2.71\n",
       "</pre>\n"
      ],
      "text/plain": [
       "Average reward over last 5000 steps: 2.71\n"
      ]
     },
     "metadata": {},
     "output_type": "display_data"
    },
    {
     "data": {
      "text/html": [
       "<pre style=\"white-space:pre;overflow-x:auto;line-height:normal;font-family:Menlo,'DejaVu Sans Mono',consolas,'Courier New',monospace\">Average reward over last 5000 steps: 3.08\n",
       "</pre>\n"
      ],
      "text/plain": [
       "Average reward over last 5000 steps: 3.08\n"
      ]
     },
     "metadata": {},
     "output_type": "display_data"
    },
    {
     "data": {
      "text/html": [
       "<pre style=\"white-space:pre;overflow-x:auto;line-height:normal;font-family:Menlo,'DejaVu Sans Mono',consolas,'Courier New',monospace\">Average reward over last 5000 steps: 2.79\n",
       "</pre>\n"
      ],
      "text/plain": [
       "Average reward over last 5000 steps: 2.79\n"
      ]
     },
     "metadata": {},
     "output_type": "display_data"
    },
    {
     "data": {
      "text/html": [
       "<pre style=\"white-space:pre;overflow-x:auto;line-height:normal;font-family:Menlo,'DejaVu Sans Mono',consolas,'Courier New',monospace\">Average reward over last 5000 steps: 3.38\n",
       "</pre>\n"
      ],
      "text/plain": [
       "Average reward over last 5000 steps: 3.38\n"
      ]
     },
     "metadata": {},
     "output_type": "display_data"
    },
    {
     "data": {
      "text/html": [
       "<pre style=\"white-space:pre;overflow-x:auto;line-height:normal;font-family:Menlo,'DejaVu Sans Mono',consolas,'Courier New',monospace\">Average reward over last 5000 steps: 3.00\n",
       "</pre>\n"
      ],
      "text/plain": [
       "Average reward over last 5000 steps: 3.00\n"
      ]
     },
     "metadata": {},
     "output_type": "display_data"
    },
    {
     "data": {
      "text/html": [
       "<pre style=\"white-space:pre;overflow-x:auto;line-height:normal;font-family:Menlo,'DejaVu Sans Mono',consolas,'Courier New',monospace\">Average reward over last 5000 steps: 3.24\n",
       "</pre>\n"
      ],
      "text/plain": [
       "Average reward over last 5000 steps: 3.24\n"
      ]
     },
     "metadata": {},
     "output_type": "display_data"
    },
    {
     "data": {
      "text/html": [
       "<pre style=\"white-space:pre;overflow-x:auto;line-height:normal;font-family:Menlo,'DejaVu Sans Mono',consolas,'Courier New',monospace\">Average reward over last 5000 steps: 3.36\n",
       "</pre>\n"
      ],
      "text/plain": [
       "Average reward over last 5000 steps: 3.36\n"
      ]
     },
     "metadata": {},
     "output_type": "display_data"
    },
    {
     "data": {
      "text/html": [
       "<pre style=\"white-space:pre;overflow-x:auto;line-height:normal;font-family:Menlo,'DejaVu Sans Mono',consolas,'Courier New',monospace\">Average reward over last 5000 steps: 3.12\n",
       "</pre>\n"
      ],
      "text/plain": [
       "Average reward over last 5000 steps: 3.12\n"
      ]
     },
     "metadata": {},
     "output_type": "display_data"
    },
    {
     "data": {
      "text/html": [
       "<pre style=\"white-space:pre;overflow-x:auto;line-height:normal;font-family:Menlo,'DejaVu Sans Mono',consolas,'Courier New',monospace\">Average reward over last 5000 steps: 2.82\n",
       "</pre>\n"
      ],
      "text/plain": [
       "Average reward over last 5000 steps: 2.82\n"
      ]
     },
     "metadata": {},
     "output_type": "display_data"
    },
    {
     "data": {
      "text/html": [
       "<pre style=\"white-space:pre;overflow-x:auto;line-height:normal;font-family:Menlo,'DejaVu Sans Mono',consolas,'Courier New',monospace\">Average reward over last 5000 steps: 3.24\n",
       "</pre>\n"
      ],
      "text/plain": [
       "Average reward over last 5000 steps: 3.24\n"
      ]
     },
     "metadata": {},
     "output_type": "display_data"
    },
    {
     "data": {
      "text/html": [
       "<pre style=\"white-space:pre;overflow-x:auto;line-height:normal;font-family:Menlo,'DejaVu Sans Mono',consolas,'Courier New',monospace\">Average reward over last 5000 steps: 3.24\n",
       "</pre>\n"
      ],
      "text/plain": [
       "Average reward over last 5000 steps: 3.24\n"
      ]
     },
     "metadata": {},
     "output_type": "display_data"
    },
    {
     "data": {
      "text/html": [
       "<pre style=\"white-space:pre;overflow-x:auto;line-height:normal;font-family:Menlo,'DejaVu Sans Mono',consolas,'Courier New',monospace\">Average reward over last 5000 steps: 3.22\n",
       "</pre>\n"
      ],
      "text/plain": [
       "Average reward over last 5000 steps: 3.22\n"
      ]
     },
     "metadata": {},
     "output_type": "display_data"
    },
    {
     "data": {
      "text/html": [
       "<pre style=\"white-space:pre;overflow-x:auto;line-height:normal;font-family:Menlo,'DejaVu Sans Mono',consolas,'Courier New',monospace\">Average reward over last 5000 steps: 3.25\n",
       "</pre>\n"
      ],
      "text/plain": [
       "Average reward over last 5000 steps: 3.25\n"
      ]
     },
     "metadata": {},
     "output_type": "display_data"
    },
    {
     "data": {
      "text/html": [
       "<pre style=\"white-space:pre;overflow-x:auto;line-height:normal;font-family:Menlo,'DejaVu Sans Mono',consolas,'Courier New',monospace\">Average reward over last 5000 steps: 3.04\n",
       "</pre>\n"
      ],
      "text/plain": [
       "Average reward over last 5000 steps: 3.04\n"
      ]
     },
     "metadata": {},
     "output_type": "display_data"
    },
    {
     "data": {
      "text/html": [
       "<pre style=\"white-space:pre;overflow-x:auto;line-height:normal;font-family:Menlo,'DejaVu Sans Mono',consolas,'Courier New',monospace\">Average reward over last 5000 steps: 3.04\n",
       "</pre>\n"
      ],
      "text/plain": [
       "Average reward over last 5000 steps: 3.04\n"
      ]
     },
     "metadata": {},
     "output_type": "display_data"
    },
    {
     "data": {
      "text/html": [
       "<pre style=\"white-space:pre;overflow-x:auto;line-height:normal;font-family:Menlo,'DejaVu Sans Mono',consolas,'Courier New',monospace\">Average reward over last 5000 steps: 2.96\n",
       "</pre>\n"
      ],
      "text/plain": [
       "Average reward over last 5000 steps: 2.96\n"
      ]
     },
     "metadata": {},
     "output_type": "display_data"
    },
    {
     "data": {
      "text/html": [
       "<pre style=\"white-space:pre;overflow-x:auto;line-height:normal;font-family:Menlo,'DejaVu Sans Mono',consolas,'Courier New',monospace\">Average reward over last 5000 steps: 2.80\n",
       "</pre>\n"
      ],
      "text/plain": [
       "Average reward over last 5000 steps: 2.80\n"
      ]
     },
     "metadata": {},
     "output_type": "display_data"
    },
    {
     "data": {
      "text/html": [
       "<pre style=\"white-space:pre;overflow-x:auto;line-height:normal;font-family:Menlo,'DejaVu Sans Mono',consolas,'Courier New',monospace\">Average reward over last 5000 steps: 3.07\n",
       "</pre>\n"
      ],
      "text/plain": [
       "Average reward over last 5000 steps: 3.07\n"
      ]
     },
     "metadata": {},
     "output_type": "display_data"
    },
    {
     "data": {
      "text/html": [
       "<pre style=\"white-space:pre;overflow-x:auto;line-height:normal;font-family:Menlo,'DejaVu Sans Mono',consolas,'Courier New',monospace\">Average reward over last 5000 steps: 3.18\n",
       "</pre>\n"
      ],
      "text/plain": [
       "Average reward over last 5000 steps: 3.18\n"
      ]
     },
     "metadata": {},
     "output_type": "display_data"
    },
    {
     "data": {
      "text/html": [
       "<pre style=\"white-space:pre;overflow-x:auto;line-height:normal;font-family:Menlo,'DejaVu Sans Mono',consolas,'Courier New',monospace\">Average reward over last 5000 steps: 3.07\n",
       "</pre>\n"
      ],
      "text/plain": [
       "Average reward over last 5000 steps: 3.07\n"
      ]
     },
     "metadata": {},
     "output_type": "display_data"
    },
    {
     "data": {
      "text/html": [
       "<pre style=\"white-space:pre;overflow-x:auto;line-height:normal;font-family:Menlo,'DejaVu Sans Mono',consolas,'Courier New',monospace\">Average reward over last 5000 steps: 3.09\n",
       "</pre>\n"
      ],
      "text/plain": [
       "Average reward over last 5000 steps: 3.09\n"
      ]
     },
     "metadata": {},
     "output_type": "display_data"
    },
    {
     "data": {
      "text/html": [
       "<pre style=\"white-space:pre;overflow-x:auto;line-height:normal;font-family:Menlo,'DejaVu Sans Mono',consolas,'Courier New',monospace\">Average reward over last 5000 steps: 3.03\n",
       "</pre>\n"
      ],
      "text/plain": [
       "Average reward over last 5000 steps: 3.03\n"
      ]
     },
     "metadata": {},
     "output_type": "display_data"
    },
    {
     "data": {
      "text/html": [
       "<pre style=\"white-space:pre;overflow-x:auto;line-height:normal;font-family:Menlo,'DejaVu Sans Mono',consolas,'Courier New',monospace\">Average reward over last 5000 steps: 2.94\n",
       "</pre>\n"
      ],
      "text/plain": [
       "Average reward over last 5000 steps: 2.94\n"
      ]
     },
     "metadata": {},
     "output_type": "display_data"
    },
    {
     "data": {
      "text/html": [
       "<pre style=\"white-space:pre;overflow-x:auto;line-height:normal;font-family:Menlo,'DejaVu Sans Mono',consolas,'Courier New',monospace\">Average reward over last 5000 steps: 3.38\n",
       "</pre>\n"
      ],
      "text/plain": [
       "Average reward over last 5000 steps: 3.38\n"
      ]
     },
     "metadata": {},
     "output_type": "display_data"
    },
    {
     "data": {
      "text/html": [
       "<pre style=\"white-space:pre;overflow-x:auto;line-height:normal;font-family:Menlo,'DejaVu Sans Mono',consolas,'Courier New',monospace\">Average reward over last 5000 steps: 3.47\n",
       "</pre>\n"
      ],
      "text/plain": [
       "Average reward over last 5000 steps: 3.47\n"
      ]
     },
     "metadata": {},
     "output_type": "display_data"
    },
    {
     "data": {
      "text/html": [
       "<pre style=\"white-space:pre;overflow-x:auto;line-height:normal;font-family:Menlo,'DejaVu Sans Mono',consolas,'Courier New',monospace\">Average reward over last 5000 steps: 3.00\n",
       "</pre>\n"
      ],
      "text/plain": [
       "Average reward over last 5000 steps: 3.00\n"
      ]
     },
     "metadata": {},
     "output_type": "display_data"
    },
    {
     "data": {
      "text/html": [
       "<pre style=\"white-space:pre;overflow-x:auto;line-height:normal;font-family:Menlo,'DejaVu Sans Mono',consolas,'Courier New',monospace\">Average reward over last 5000 steps: 3.30\n",
       "</pre>\n"
      ],
      "text/plain": [
       "Average reward over last 5000 steps: 3.30\n"
      ]
     },
     "metadata": {},
     "output_type": "display_data"
    },
    {
     "data": {
      "text/html": [
       "<pre style=\"white-space:pre;overflow-x:auto;line-height:normal;font-family:Menlo,'DejaVu Sans Mono',consolas,'Courier New',monospace\">Average reward over last 5000 steps: 3.38\n",
       "</pre>\n"
      ],
      "text/plain": [
       "Average reward over last 5000 steps: 3.38\n"
      ]
     },
     "metadata": {},
     "output_type": "display_data"
    },
    {
     "data": {
      "text/html": [
       "<pre style=\"white-space:pre;overflow-x:auto;line-height:normal;font-family:Menlo,'DejaVu Sans Mono',consolas,'Courier New',monospace\">Average reward over last 5000 steps: 2.72\n",
       "</pre>\n"
      ],
      "text/plain": [
       "Average reward over last 5000 steps: 2.72\n"
      ]
     },
     "metadata": {},
     "output_type": "display_data"
    },
    {
     "data": {
      "text/html": [
       "<pre style=\"white-space:pre;overflow-x:auto;line-height:normal;font-family:Menlo,'DejaVu Sans Mono',consolas,'Courier New',monospace\">Average reward over last 5000 steps: 3.35\n",
       "</pre>\n"
      ],
      "text/plain": [
       "Average reward over last 5000 steps: 3.35\n"
      ]
     },
     "metadata": {},
     "output_type": "display_data"
    },
    {
     "data": {
      "text/html": [
       "<pre style=\"white-space:pre;overflow-x:auto;line-height:normal;font-family:Menlo,'DejaVu Sans Mono',consolas,'Courier New',monospace\">Average reward over last 5000 steps: 3.05\n",
       "</pre>\n"
      ],
      "text/plain": [
       "Average reward over last 5000 steps: 3.05\n"
      ]
     },
     "metadata": {},
     "output_type": "display_data"
    },
    {
     "data": {
      "text/html": [
       "<pre style=\"white-space:pre;overflow-x:auto;line-height:normal;font-family:Menlo,'DejaVu Sans Mono',consolas,'Courier New',monospace\">Average reward over last 5000 steps: 3.11\n",
       "</pre>\n"
      ],
      "text/plain": [
       "Average reward over last 5000 steps: 3.11\n"
      ]
     },
     "metadata": {},
     "output_type": "display_data"
    },
    {
     "data": {
      "text/html": [
       "<pre style=\"white-space:pre;overflow-x:auto;line-height:normal;font-family:Menlo,'DejaVu Sans Mono',consolas,'Courier New',monospace\">Average reward over last 5000 steps: 3.38\n",
       "</pre>\n"
      ],
      "text/plain": [
       "Average reward over last 5000 steps: 3.38\n"
      ]
     },
     "metadata": {},
     "output_type": "display_data"
    },
    {
     "data": {
      "text/html": [
       "<pre style=\"white-space:pre;overflow-x:auto;line-height:normal;font-family:Menlo,'DejaVu Sans Mono',consolas,'Courier New',monospace\">Average reward over last 5000 steps: 3.44\n",
       "</pre>\n"
      ],
      "text/plain": [
       "Average reward over last 5000 steps: 3.44\n"
      ]
     },
     "metadata": {},
     "output_type": "display_data"
    },
    {
     "data": {
      "text/html": [
       "<pre style=\"white-space:pre;overflow-x:auto;line-height:normal;font-family:Menlo,'DejaVu Sans Mono',consolas,'Courier New',monospace\">Average reward over last 5000 steps: 3.24\n",
       "</pre>\n"
      ],
      "text/plain": [
       "Average reward over last 5000 steps: 3.24\n"
      ]
     },
     "metadata": {},
     "output_type": "display_data"
    },
    {
     "data": {
      "text/html": [
       "<pre style=\"white-space:pre;overflow-x:auto;line-height:normal;font-family:Menlo,'DejaVu Sans Mono',consolas,'Courier New',monospace\">Average reward over last 5000 steps: 2.85\n",
       "</pre>\n"
      ],
      "text/plain": [
       "Average reward over last 5000 steps: 2.85\n"
      ]
     },
     "metadata": {},
     "output_type": "display_data"
    },
    {
     "data": {
      "text/html": [
       "<pre style=\"white-space:pre;overflow-x:auto;line-height:normal;font-family:Menlo,'DejaVu Sans Mono',consolas,'Courier New',monospace\">Average reward over last 5000 steps: 3.11\n",
       "</pre>\n"
      ],
      "text/plain": [
       "Average reward over last 5000 steps: 3.11\n"
      ]
     },
     "metadata": {},
     "output_type": "display_data"
    },
    {
     "data": {
      "text/html": [
       "<pre style=\"white-space:pre;overflow-x:auto;line-height:normal;font-family:Menlo,'DejaVu Sans Mono',consolas,'Courier New',monospace\">Average reward over last 5000 steps: 3.24\n",
       "</pre>\n"
      ],
      "text/plain": [
       "Average reward over last 5000 steps: 3.24\n"
      ]
     },
     "metadata": {},
     "output_type": "display_data"
    },
    {
     "data": {
      "text/html": [
       "<pre style=\"white-space:pre;overflow-x:auto;line-height:normal;font-family:Menlo,'DejaVu Sans Mono',consolas,'Courier New',monospace\">Average reward over last 5000 steps: 3.23\n",
       "</pre>\n"
      ],
      "text/plain": [
       "Average reward over last 5000 steps: 3.23\n"
      ]
     },
     "metadata": {},
     "output_type": "display_data"
    },
    {
     "data": {
      "text/html": [
       "<pre style=\"white-space:pre;overflow-x:auto;line-height:normal;font-family:Menlo,'DejaVu Sans Mono',consolas,'Courier New',monospace\">Average reward over last 5000 steps: 3.39\n",
       "</pre>\n"
      ],
      "text/plain": [
       "Average reward over last 5000 steps: 3.39\n"
      ]
     },
     "metadata": {},
     "output_type": "display_data"
    },
    {
     "data": {
      "text/html": [
       "<pre style=\"white-space:pre;overflow-x:auto;line-height:normal;font-family:Menlo,'DejaVu Sans Mono',consolas,'Courier New',monospace\">Average reward over last 5000 steps: 2.98\n",
       "</pre>\n"
      ],
      "text/plain": [
       "Average reward over last 5000 steps: 2.98\n"
      ]
     },
     "metadata": {},
     "output_type": "display_data"
    },
    {
     "data": {
      "text/html": [
       "<pre style=\"white-space:pre;overflow-x:auto;line-height:normal;font-family:Menlo,'DejaVu Sans Mono',consolas,'Courier New',monospace\">Average reward over last 5000 steps: 3.00\n",
       "</pre>\n"
      ],
      "text/plain": [
       "Average reward over last 5000 steps: 3.00\n"
      ]
     },
     "metadata": {},
     "output_type": "display_data"
    },
    {
     "data": {
      "text/html": [
       "<pre style=\"white-space:pre;overflow-x:auto;line-height:normal;font-family:Menlo,'DejaVu Sans Mono',consolas,'Courier New',monospace\">Average reward over last 5000 steps: 3.23\n",
       "</pre>\n"
      ],
      "text/plain": [
       "Average reward over last 5000 steps: 3.23\n"
      ]
     },
     "metadata": {},
     "output_type": "display_data"
    },
    {
     "data": {
      "text/html": [
       "<pre style=\"white-space:pre;overflow-x:auto;line-height:normal;font-family:Menlo,'DejaVu Sans Mono',consolas,'Courier New',monospace\">Average reward over last 5000 steps: 3.30\n",
       "</pre>\n"
      ],
      "text/plain": [
       "Average reward over last 5000 steps: 3.30\n"
      ]
     },
     "metadata": {},
     "output_type": "display_data"
    },
    {
     "data": {
      "text/html": [
       "<pre style=\"white-space:pre;overflow-x:auto;line-height:normal;font-family:Menlo,'DejaVu Sans Mono',consolas,'Courier New',monospace\">Average reward over last 5000 steps: 3.15\n",
       "</pre>\n"
      ],
      "text/plain": [
       "Average reward over last 5000 steps: 3.15\n"
      ]
     },
     "metadata": {},
     "output_type": "display_data"
    },
    {
     "data": {
      "text/html": [
       "<pre style=\"white-space:pre;overflow-x:auto;line-height:normal;font-family:Menlo,'DejaVu Sans Mono',consolas,'Courier New',monospace\">Average reward over last 5000 steps: 3.10\n",
       "</pre>\n"
      ],
      "text/plain": [
       "Average reward over last 5000 steps: 3.10\n"
      ]
     },
     "metadata": {},
     "output_type": "display_data"
    },
    {
     "data": {
      "text/html": [
       "<pre style=\"white-space:pre;overflow-x:auto;line-height:normal;font-family:Menlo,'DejaVu Sans Mono',consolas,'Courier New',monospace\">Average reward over last 5000 steps: 3.27\n",
       "</pre>\n"
      ],
      "text/plain": [
       "Average reward over last 5000 steps: 3.27\n"
      ]
     },
     "metadata": {},
     "output_type": "display_data"
    },
    {
     "data": {
      "text/html": [
       "<pre style=\"white-space:pre;overflow-x:auto;line-height:normal;font-family:Menlo,'DejaVu Sans Mono',consolas,'Courier New',monospace\">Average reward over last 5000 steps: 3.26\n",
       "</pre>\n"
      ],
      "text/plain": [
       "Average reward over last 5000 steps: 3.26\n"
      ]
     },
     "metadata": {},
     "output_type": "display_data"
    },
    {
     "data": {
      "text/html": [
       "<pre style=\"white-space:pre;overflow-x:auto;line-height:normal;font-family:Menlo,'DejaVu Sans Mono',consolas,'Courier New',monospace\">Average reward over last 5000 steps: 3.63\n",
       "</pre>\n"
      ],
      "text/plain": [
       "Average reward over last 5000 steps: 3.63\n"
      ]
     },
     "metadata": {},
     "output_type": "display_data"
    },
    {
     "data": {
      "text/html": [
       "<pre style=\"white-space:pre;overflow-x:auto;line-height:normal;font-family:Menlo,'DejaVu Sans Mono',consolas,'Courier New',monospace\">Average reward over last 5000 steps: 2.91\n",
       "</pre>\n"
      ],
      "text/plain": [
       "Average reward over last 5000 steps: 2.91\n"
      ]
     },
     "metadata": {},
     "output_type": "display_data"
    },
    {
     "data": {
      "text/html": [
       "<pre style=\"white-space:pre;overflow-x:auto;line-height:normal;font-family:Menlo,'DejaVu Sans Mono',consolas,'Courier New',monospace\">Average reward over last 5000 steps: 3.30\n",
       "</pre>\n"
      ],
      "text/plain": [
       "Average reward over last 5000 steps: 3.30\n"
      ]
     },
     "metadata": {},
     "output_type": "display_data"
    },
    {
     "data": {
      "text/html": [
       "<pre style=\"white-space:pre;overflow-x:auto;line-height:normal;font-family:Menlo,'DejaVu Sans Mono',consolas,'Courier New',monospace\">Average reward over last 5000 steps: 3.24\n",
       "</pre>\n"
      ],
      "text/plain": [
       "Average reward over last 5000 steps: 3.24\n"
      ]
     },
     "metadata": {},
     "output_type": "display_data"
    },
    {
     "data": {
      "text/html": [
       "<pre style=\"white-space:pre;overflow-x:auto;line-height:normal;font-family:Menlo,'DejaVu Sans Mono',consolas,'Courier New',monospace\">Average reward over last 5000 steps: 3.21\n",
       "</pre>\n"
      ],
      "text/plain": [
       "Average reward over last 5000 steps: 3.21\n"
      ]
     },
     "metadata": {},
     "output_type": "display_data"
    },
    {
     "data": {
      "text/html": [
       "<pre style=\"white-space:pre;overflow-x:auto;line-height:normal;font-family:Menlo,'DejaVu Sans Mono',consolas,'Courier New',monospace\">Average reward over last 5000 steps: 3.18\n",
       "</pre>\n"
      ],
      "text/plain": [
       "Average reward over last 5000 steps: 3.18\n"
      ]
     },
     "metadata": {},
     "output_type": "display_data"
    },
    {
     "data": {
      "text/html": [
       "<pre style=\"white-space:pre;overflow-x:auto;line-height:normal;font-family:Menlo,'DejaVu Sans Mono',consolas,'Courier New',monospace\">Average reward over last 5000 steps: 3.10\n",
       "</pre>\n"
      ],
      "text/plain": [
       "Average reward over last 5000 steps: 3.10\n"
      ]
     },
     "metadata": {},
     "output_type": "display_data"
    },
    {
     "data": {
      "text/html": [
       "<pre style=\"white-space:pre;overflow-x:auto;line-height:normal;font-family:Menlo,'DejaVu Sans Mono',consolas,'Courier New',monospace\">Average reward over last 5000 steps: 3.25\n",
       "</pre>\n"
      ],
      "text/plain": [
       "Average reward over last 5000 steps: 3.25\n"
      ]
     },
     "metadata": {},
     "output_type": "display_data"
    },
    {
     "data": {
      "text/html": [
       "<pre style=\"white-space:pre;overflow-x:auto;line-height:normal;font-family:Menlo,'DejaVu Sans Mono',consolas,'Courier New',monospace\">Average reward over last 5000 steps: 3.16\n",
       "</pre>\n"
      ],
      "text/plain": [
       "Average reward over last 5000 steps: 3.16\n"
      ]
     },
     "metadata": {},
     "output_type": "display_data"
    },
    {
     "data": {
      "text/html": [
       "<pre style=\"white-space:pre;overflow-x:auto;line-height:normal;font-family:Menlo,'DejaVu Sans Mono',consolas,'Courier New',monospace\">Average reward over last 5000 steps: 3.29\n",
       "</pre>\n"
      ],
      "text/plain": [
       "Average reward over last 5000 steps: 3.29\n"
      ]
     },
     "metadata": {},
     "output_type": "display_data"
    },
    {
     "data": {
      "text/html": [
       "<pre style=\"white-space:pre;overflow-x:auto;line-height:normal;font-family:Menlo,'DejaVu Sans Mono',consolas,'Courier New',monospace\">Average reward over last 5000 steps: 3.11\n",
       "</pre>\n"
      ],
      "text/plain": [
       "Average reward over last 5000 steps: 3.11\n"
      ]
     },
     "metadata": {},
     "output_type": "display_data"
    },
    {
     "data": {
      "text/html": [
       "<pre style=\"white-space:pre;overflow-x:auto;line-height:normal;font-family:Menlo,'DejaVu Sans Mono',consolas,'Courier New',monospace\">Average reward over last 5000 steps: 3.24\n",
       "</pre>\n"
      ],
      "text/plain": [
       "Average reward over last 5000 steps: 3.24\n"
      ]
     },
     "metadata": {},
     "output_type": "display_data"
    },
    {
     "data": {
      "text/html": [
       "<pre style=\"white-space:pre;overflow-x:auto;line-height:normal;font-family:Menlo,'DejaVu Sans Mono',consolas,'Courier New',monospace\">Average reward over last 5000 steps: 3.75\n",
       "</pre>\n"
      ],
      "text/plain": [
       "Average reward over last 5000 steps: 3.75\n"
      ]
     },
     "metadata": {},
     "output_type": "display_data"
    },
    {
     "data": {
      "text/html": [
       "<pre style=\"white-space:pre;overflow-x:auto;line-height:normal;font-family:Menlo,'DejaVu Sans Mono',consolas,'Courier New',monospace\">Average reward over last 5000 steps: 3.49\n",
       "</pre>\n"
      ],
      "text/plain": [
       "Average reward over last 5000 steps: 3.49\n"
      ]
     },
     "metadata": {},
     "output_type": "display_data"
    },
    {
     "data": {
      "text/html": [
       "<pre style=\"white-space:pre;overflow-x:auto;line-height:normal;font-family:Menlo,'DejaVu Sans Mono',consolas,'Courier New',monospace\">Average reward over last 5000 steps: 3.03\n",
       "</pre>\n"
      ],
      "text/plain": [
       "Average reward over last 5000 steps: 3.03\n"
      ]
     },
     "metadata": {},
     "output_type": "display_data"
    },
    {
     "data": {
      "text/html": [
       "<pre style=\"white-space:pre;overflow-x:auto;line-height:normal;font-family:Menlo,'DejaVu Sans Mono',consolas,'Courier New',monospace\">Average reward over last 5000 steps: 3.31\n",
       "</pre>\n"
      ],
      "text/plain": [
       "Average reward over last 5000 steps: 3.31\n"
      ]
     },
     "metadata": {},
     "output_type": "display_data"
    },
    {
     "data": {
      "text/html": [
       "<pre style=\"white-space:pre;overflow-x:auto;line-height:normal;font-family:Menlo,'DejaVu Sans Mono',consolas,'Courier New',monospace\">Average reward over last 5000 steps: 2.96\n",
       "</pre>\n"
      ],
      "text/plain": [
       "Average reward over last 5000 steps: 2.96\n"
      ]
     },
     "metadata": {},
     "output_type": "display_data"
    },
    {
     "data": {
      "text/html": [
       "<pre style=\"white-space:pre;overflow-x:auto;line-height:normal;font-family:Menlo,'DejaVu Sans Mono',consolas,'Courier New',monospace\">Average reward over last 5000 steps: 3.25\n",
       "</pre>\n"
      ],
      "text/plain": [
       "Average reward over last 5000 steps: 3.25\n"
      ]
     },
     "metadata": {},
     "output_type": "display_data"
    },
    {
     "data": {
      "text/html": [
       "<pre style=\"white-space:pre;overflow-x:auto;line-height:normal;font-family:Menlo,'DejaVu Sans Mono',consolas,'Courier New',monospace\">Average reward over last 5000 steps: 3.21\n",
       "</pre>\n"
      ],
      "text/plain": [
       "Average reward over last 5000 steps: 3.21\n"
      ]
     },
     "metadata": {},
     "output_type": "display_data"
    },
    {
     "data": {
      "text/html": [
       "<pre style=\"white-space:pre;overflow-x:auto;line-height:normal;font-family:Menlo,'DejaVu Sans Mono',consolas,'Courier New',monospace\">Average reward over last 5000 steps: 3.44\n",
       "</pre>\n"
      ],
      "text/plain": [
       "Average reward over last 5000 steps: 3.44\n"
      ]
     },
     "metadata": {},
     "output_type": "display_data"
    },
    {
     "data": {
      "text/html": [
       "<pre style=\"white-space:pre;overflow-x:auto;line-height:normal;font-family:Menlo,'DejaVu Sans Mono',consolas,'Courier New',monospace\">Average reward over last 5000 steps: 3.09\n",
       "</pre>\n"
      ],
      "text/plain": [
       "Average reward over last 5000 steps: 3.09\n"
      ]
     },
     "metadata": {},
     "output_type": "display_data"
    },
    {
     "data": {
      "text/html": [
       "<pre style=\"white-space:pre;overflow-x:auto;line-height:normal;font-family:Menlo,'DejaVu Sans Mono',consolas,'Courier New',monospace\">Average reward over last 5000 steps: 3.56\n",
       "</pre>\n"
      ],
      "text/plain": [
       "Average reward over last 5000 steps: 3.56\n"
      ]
     },
     "metadata": {},
     "output_type": "display_data"
    },
    {
     "data": {
      "text/html": [
       "<pre style=\"white-space:pre;overflow-x:auto;line-height:normal;font-family:Menlo,'DejaVu Sans Mono',consolas,'Courier New',monospace\">Average reward over last 5000 steps: 3.59\n",
       "</pre>\n"
      ],
      "text/plain": [
       "Average reward over last 5000 steps: 3.59\n"
      ]
     },
     "metadata": {},
     "output_type": "display_data"
    },
    {
     "data": {
      "text/html": [
       "<pre style=\"white-space:pre;overflow-x:auto;line-height:normal;font-family:Menlo,'DejaVu Sans Mono',consolas,'Courier New',monospace\">Average reward over last 5000 steps: 3.27\n",
       "</pre>\n"
      ],
      "text/plain": [
       "Average reward over last 5000 steps: 3.27\n"
      ]
     },
     "metadata": {},
     "output_type": "display_data"
    },
    {
     "data": {
      "text/html": [
       "<pre style=\"white-space:pre;overflow-x:auto;line-height:normal;font-family:Menlo,'DejaVu Sans Mono',consolas,'Courier New',monospace\">Average reward over last 5000 steps: 3.08\n",
       "</pre>\n"
      ],
      "text/plain": [
       "Average reward over last 5000 steps: 3.08\n"
      ]
     },
     "metadata": {},
     "output_type": "display_data"
    },
    {
     "data": {
      "text/html": [
       "<pre style=\"white-space:pre;overflow-x:auto;line-height:normal;font-family:Menlo,'DejaVu Sans Mono',consolas,'Courier New',monospace\">Average reward over last 5000 steps: 3.12\n",
       "</pre>\n"
      ],
      "text/plain": [
       "Average reward over last 5000 steps: 3.12\n"
      ]
     },
     "metadata": {},
     "output_type": "display_data"
    },
    {
     "data": {
      "text/html": [
       "<pre style=\"white-space:pre;overflow-x:auto;line-height:normal;font-family:Menlo,'DejaVu Sans Mono',consolas,'Courier New',monospace\">Average reward over last 5000 steps: 3.24\n",
       "</pre>\n"
      ],
      "text/plain": [
       "Average reward over last 5000 steps: 3.24\n"
      ]
     },
     "metadata": {},
     "output_type": "display_data"
    },
    {
     "data": {
      "text/html": [
       "<pre style=\"white-space:pre;overflow-x:auto;line-height:normal;font-family:Menlo,'DejaVu Sans Mono',consolas,'Courier New',monospace\">Average reward over last 5000 steps: 2.98\n",
       "</pre>\n"
      ],
      "text/plain": [
       "Average reward over last 5000 steps: 2.98\n"
      ]
     },
     "metadata": {},
     "output_type": "display_data"
    },
    {
     "data": {
      "text/html": [
       "<pre style=\"white-space:pre;overflow-x:auto;line-height:normal;font-family:Menlo,'DejaVu Sans Mono',consolas,'Courier New',monospace\">Average reward over last 5000 steps: 3.04\n",
       "</pre>\n"
      ],
      "text/plain": [
       "Average reward over last 5000 steps: 3.04\n"
      ]
     },
     "metadata": {},
     "output_type": "display_data"
    },
    {
     "data": {
      "text/html": [
       "<pre style=\"white-space:pre;overflow-x:auto;line-height:normal;font-family:Menlo,'DejaVu Sans Mono',consolas,'Courier New',monospace\">Average reward over last 5000 steps: 2.91\n",
       "</pre>\n"
      ],
      "text/plain": [
       "Average reward over last 5000 steps: 2.91\n"
      ]
     },
     "metadata": {},
     "output_type": "display_data"
    },
    {
     "data": {
      "text/html": [
       "<pre style=\"white-space:pre;overflow-x:auto;line-height:normal;font-family:Menlo,'DejaVu Sans Mono',consolas,'Courier New',monospace\">Average reward over last 5000 steps: 3.05\n",
       "</pre>\n"
      ],
      "text/plain": [
       "Average reward over last 5000 steps: 3.05\n"
      ]
     },
     "metadata": {},
     "output_type": "display_data"
    },
    {
     "data": {
      "text/html": [
       "<pre style=\"white-space:pre;overflow-x:auto;line-height:normal;font-family:Menlo,'DejaVu Sans Mono',consolas,'Courier New',monospace\">Average reward over last 5000 steps: 3.07\n",
       "</pre>\n"
      ],
      "text/plain": [
       "Average reward over last 5000 steps: 3.07\n"
      ]
     },
     "metadata": {},
     "output_type": "display_data"
    },
    {
     "data": {
      "text/html": [
       "<pre style=\"white-space:pre;overflow-x:auto;line-height:normal;font-family:Menlo,'DejaVu Sans Mono',consolas,'Courier New',monospace\">Average reward over last 5000 steps: 3.03\n",
       "</pre>\n"
      ],
      "text/plain": [
       "Average reward over last 5000 steps: 3.03\n"
      ]
     },
     "metadata": {},
     "output_type": "display_data"
    },
    {
     "data": {
      "text/html": [
       "<pre style=\"white-space:pre;overflow-x:auto;line-height:normal;font-family:Menlo,'DejaVu Sans Mono',consolas,'Courier New',monospace\">Average reward over last 5000 steps: 3.11\n",
       "</pre>\n"
      ],
      "text/plain": [
       "Average reward over last 5000 steps: 3.11\n"
      ]
     },
     "metadata": {},
     "output_type": "display_data"
    },
    {
     "data": {
      "text/html": [
       "<pre style=\"white-space:pre;overflow-x:auto;line-height:normal;font-family:Menlo,'DejaVu Sans Mono',consolas,'Courier New',monospace\">Average reward over last 5000 steps: 3.42\n",
       "</pre>\n"
      ],
      "text/plain": [
       "Average reward over last 5000 steps: 3.42\n"
      ]
     },
     "metadata": {},
     "output_type": "display_data"
    },
    {
     "data": {
      "text/html": [
       "<pre style=\"white-space:pre;overflow-x:auto;line-height:normal;font-family:Menlo,'DejaVu Sans Mono',consolas,'Courier New',monospace\">Average reward over last 5000 steps: 3.26\n",
       "</pre>\n"
      ],
      "text/plain": [
       "Average reward over last 5000 steps: 3.26\n"
      ]
     },
     "metadata": {},
     "output_type": "display_data"
    },
    {
     "data": {
      "text/html": [
       "<pre style=\"white-space:pre;overflow-x:auto;line-height:normal;font-family:Menlo,'DejaVu Sans Mono',consolas,'Courier New',monospace\">Average reward over last 5000 steps: 3.08\n",
       "</pre>\n"
      ],
      "text/plain": [
       "Average reward over last 5000 steps: 3.08\n"
      ]
     },
     "metadata": {},
     "output_type": "display_data"
    },
    {
     "data": {
      "text/html": [
       "<pre style=\"white-space:pre;overflow-x:auto;line-height:normal;font-family:Menlo,'DejaVu Sans Mono',consolas,'Courier New',monospace\">Average reward over last 5000 steps: 3.30\n",
       "</pre>\n"
      ],
      "text/plain": [
       "Average reward over last 5000 steps: 3.30\n"
      ]
     },
     "metadata": {},
     "output_type": "display_data"
    },
    {
     "data": {
      "text/html": [
       "<pre style=\"white-space:pre;overflow-x:auto;line-height:normal;font-family:Menlo,'DejaVu Sans Mono',consolas,'Courier New',monospace\">Average reward over last 5000 steps: 3.26\n",
       "</pre>\n"
      ],
      "text/plain": [
       "Average reward over last 5000 steps: 3.26\n"
      ]
     },
     "metadata": {},
     "output_type": "display_data"
    },
    {
     "data": {
      "text/html": [
       "<pre style=\"white-space:pre;overflow-x:auto;line-height:normal;font-family:Menlo,'DejaVu Sans Mono',consolas,'Courier New',monospace\">Average reward over last 5000 steps: 3.30\n",
       "</pre>\n"
      ],
      "text/plain": [
       "Average reward over last 5000 steps: 3.30\n"
      ]
     },
     "metadata": {},
     "output_type": "display_data"
    },
    {
     "data": {
      "text/html": [
       "<pre style=\"white-space:pre;overflow-x:auto;line-height:normal;font-family:Menlo,'DejaVu Sans Mono',consolas,'Courier New',monospace\">Average reward over last 5000 steps: 3.29\n",
       "</pre>\n"
      ],
      "text/plain": [
       "Average reward over last 5000 steps: 3.29\n"
      ]
     },
     "metadata": {},
     "output_type": "display_data"
    },
    {
     "data": {
      "text/html": [
       "<pre style=\"white-space:pre;overflow-x:auto;line-height:normal;font-family:Menlo,'DejaVu Sans Mono',consolas,'Courier New',monospace\">Average reward over last 5000 steps: 3.48\n",
       "</pre>\n"
      ],
      "text/plain": [
       "Average reward over last 5000 steps: 3.48\n"
      ]
     },
     "metadata": {},
     "output_type": "display_data"
    },
    {
     "data": {
      "text/html": [
       "<pre style=\"white-space:pre;overflow-x:auto;line-height:normal;font-family:Menlo,'DejaVu Sans Mono',consolas,'Courier New',monospace\">Average reward over last 5000 steps: 3.21\n",
       "</pre>\n"
      ],
      "text/plain": [
       "Average reward over last 5000 steps: 3.21\n"
      ]
     },
     "metadata": {},
     "output_type": "display_data"
    },
    {
     "data": {
      "text/html": [
       "<pre style=\"white-space:pre;overflow-x:auto;line-height:normal;font-family:Menlo,'DejaVu Sans Mono',consolas,'Courier New',monospace\">Average reward over last 5000 steps: 3.30\n",
       "</pre>\n"
      ],
      "text/plain": [
       "Average reward over last 5000 steps: 3.30\n"
      ]
     },
     "metadata": {},
     "output_type": "display_data"
    },
    {
     "data": {
      "text/html": [
       "<pre style=\"white-space:pre;overflow-x:auto;line-height:normal;font-family:Menlo,'DejaVu Sans Mono',consolas,'Courier New',monospace\">Average reward over last 5000 steps: 3.61\n",
       "</pre>\n"
      ],
      "text/plain": [
       "Average reward over last 5000 steps: 3.61\n"
      ]
     },
     "metadata": {},
     "output_type": "display_data"
    },
    {
     "data": {
      "text/html": [
       "<pre style=\"white-space:pre;overflow-x:auto;line-height:normal;font-family:Menlo,'DejaVu Sans Mono',consolas,'Courier New',monospace\">Average reward over last 5000 steps: 3.64\n",
       "</pre>\n"
      ],
      "text/plain": [
       "Average reward over last 5000 steps: 3.64\n"
      ]
     },
     "metadata": {},
     "output_type": "display_data"
    },
    {
     "data": {
      "text/html": [
       "<pre style=\"white-space:pre;overflow-x:auto;line-height:normal;font-family:Menlo,'DejaVu Sans Mono',consolas,'Courier New',monospace\">Average reward over last 5000 steps: 3.18\n",
       "</pre>\n"
      ],
      "text/plain": [
       "Average reward over last 5000 steps: 3.18\n"
      ]
     },
     "metadata": {},
     "output_type": "display_data"
    },
    {
     "data": {
      "text/html": [
       "<pre style=\"white-space:pre;overflow-x:auto;line-height:normal;font-family:Menlo,'DejaVu Sans Mono',consolas,'Courier New',monospace\">Average reward over last 5000 steps: 3.21\n",
       "</pre>\n"
      ],
      "text/plain": [
       "Average reward over last 5000 steps: 3.21\n"
      ]
     },
     "metadata": {},
     "output_type": "display_data"
    },
    {
     "data": {
      "text/html": [
       "<pre style=\"white-space:pre;overflow-x:auto;line-height:normal;font-family:Menlo,'DejaVu Sans Mono',consolas,'Courier New',monospace\">Average reward over last 5000 steps: 3.10\n",
       "</pre>\n"
      ],
      "text/plain": [
       "Average reward over last 5000 steps: 3.10\n"
      ]
     },
     "metadata": {},
     "output_type": "display_data"
    },
    {
     "data": {
      "text/html": [
       "<pre style=\"white-space:pre;overflow-x:auto;line-height:normal;font-family:Menlo,'DejaVu Sans Mono',consolas,'Courier New',monospace\">Average reward over last 5000 steps: 3.24\n",
       "</pre>\n"
      ],
      "text/plain": [
       "Average reward over last 5000 steps: 3.24\n"
      ]
     },
     "metadata": {},
     "output_type": "display_data"
    },
    {
     "data": {
      "text/html": [
       "<pre style=\"white-space:pre;overflow-x:auto;line-height:normal;font-family:Menlo,'DejaVu Sans Mono',consolas,'Courier New',monospace\">Average reward over last 5000 steps: 3.29\n",
       "</pre>\n"
      ],
      "text/plain": [
       "Average reward over last 5000 steps: 3.29\n"
      ]
     },
     "metadata": {},
     "output_type": "display_data"
    },
    {
     "data": {
      "text/html": [
       "<pre style=\"white-space:pre;overflow-x:auto;line-height:normal;font-family:Menlo,'DejaVu Sans Mono',consolas,'Courier New',monospace\">Average reward over last 5000 steps: 3.71\n",
       "</pre>\n"
      ],
      "text/plain": [
       "Average reward over last 5000 steps: 3.71\n"
      ]
     },
     "metadata": {},
     "output_type": "display_data"
    },
    {
     "data": {
      "text/html": [
       "<pre style=\"white-space:pre;overflow-x:auto;line-height:normal;font-family:Menlo,'DejaVu Sans Mono',consolas,'Courier New',monospace\">Average reward over last 5000 steps: 3.53\n",
       "</pre>\n"
      ],
      "text/plain": [
       "Average reward over last 5000 steps: 3.53\n"
      ]
     },
     "metadata": {},
     "output_type": "display_data"
    },
    {
     "data": {
      "text/html": [
       "<pre style=\"white-space:pre;overflow-x:auto;line-height:normal;font-family:Menlo,'DejaVu Sans Mono',consolas,'Courier New',monospace\">Already in the final curriculum phase.\n",
       "</pre>\n"
      ],
      "text/plain": [
       "Already in the final curriculum phase.\n"
      ]
     },
     "metadata": {},
     "output_type": "display_data"
    },
    {
     "data": {
      "text/html": [
       "<pre style=\"white-space:pre;overflow-x:auto;line-height:normal;font-family:Menlo,'DejaVu Sans Mono',consolas,'Courier New',monospace\">Average reward over last 5000 steps: 3.47\n",
       "</pre>\n"
      ],
      "text/plain": [
       "Average reward over last 5000 steps: 3.47\n"
      ]
     },
     "metadata": {},
     "output_type": "display_data"
    },
    {
     "data": {
      "text/html": [
       "<pre style=\"white-space:pre;overflow-x:auto;line-height:normal;font-family:Menlo,'DejaVu Sans Mono',consolas,'Courier New',monospace\">Average reward over last 5000 steps: 3.24\n",
       "</pre>\n"
      ],
      "text/plain": [
       "Average reward over last 5000 steps: 3.24\n"
      ]
     },
     "metadata": {},
     "output_type": "display_data"
    },
    {
     "data": {
      "text/html": [
       "<pre style=\"white-space:pre;overflow-x:auto;line-height:normal;font-family:Menlo,'DejaVu Sans Mono',consolas,'Courier New',monospace\">Average reward over last 5000 steps: 3.45\n",
       "</pre>\n"
      ],
      "text/plain": [
       "Average reward over last 5000 steps: 3.45\n"
      ]
     },
     "metadata": {},
     "output_type": "display_data"
    },
    {
     "data": {
      "text/html": [
       "<pre style=\"white-space:pre;overflow-x:auto;line-height:normal;font-family:Menlo,'DejaVu Sans Mono',consolas,'Courier New',monospace\">Average reward over last 5000 steps: 3.01\n",
       "</pre>\n"
      ],
      "text/plain": [
       "Average reward over last 5000 steps: 3.01\n"
      ]
     },
     "metadata": {},
     "output_type": "display_data"
    },
    {
     "data": {
      "text/html": [
       "<pre style=\"white-space:pre;overflow-x:auto;line-height:normal;font-family:Menlo,'DejaVu Sans Mono',consolas,'Courier New',monospace\">Average reward over last 5000 steps: 3.45\n",
       "</pre>\n"
      ],
      "text/plain": [
       "Average reward over last 5000 steps: 3.45\n"
      ]
     },
     "metadata": {},
     "output_type": "display_data"
    },
    {
     "data": {
      "text/html": [
       "<pre style=\"white-space:pre;overflow-x:auto;line-height:normal;font-family:Menlo,'DejaVu Sans Mono',consolas,'Courier New',monospace\">Average reward over last 5000 steps: 3.19\n",
       "</pre>\n"
      ],
      "text/plain": [
       "Average reward over last 5000 steps: 3.19\n"
      ]
     },
     "metadata": {},
     "output_type": "display_data"
    },
    {
     "data": {
      "text/html": [
       "<pre style=\"white-space:pre;overflow-x:auto;line-height:normal;font-family:Menlo,'DejaVu Sans Mono',consolas,'Courier New',monospace\">Average reward over last 5000 steps: 3.66\n",
       "</pre>\n"
      ],
      "text/plain": [
       "Average reward over last 5000 steps: 3.66\n"
      ]
     },
     "metadata": {},
     "output_type": "display_data"
    },
    {
     "data": {
      "text/html": [
       "<pre style=\"white-space:pre;overflow-x:auto;line-height:normal;font-family:Menlo,'DejaVu Sans Mono',consolas,'Courier New',monospace\">Average reward over last 5000 steps: 3.41\n",
       "</pre>\n"
      ],
      "text/plain": [
       "Average reward over last 5000 steps: 3.41\n"
      ]
     },
     "metadata": {},
     "output_type": "display_data"
    },
    {
     "data": {
      "text/html": [
       "<pre style=\"white-space:pre;overflow-x:auto;line-height:normal;font-family:Menlo,'DejaVu Sans Mono',consolas,'Courier New',monospace\">Average reward over last 5000 steps: 3.19\n",
       "</pre>\n"
      ],
      "text/plain": [
       "Average reward over last 5000 steps: 3.19\n"
      ]
     },
     "metadata": {},
     "output_type": "display_data"
    },
    {
     "data": {
      "text/html": [
       "<pre style=\"white-space:pre;overflow-x:auto;line-height:normal;font-family:Menlo,'DejaVu Sans Mono',consolas,'Courier New',monospace\">Average reward over last 5000 steps: 3.20\n",
       "</pre>\n"
      ],
      "text/plain": [
       "Average reward over last 5000 steps: 3.20\n"
      ]
     },
     "metadata": {},
     "output_type": "display_data"
    },
    {
     "data": {
      "text/html": [
       "<pre style=\"white-space:pre;overflow-x:auto;line-height:normal;font-family:Menlo,'DejaVu Sans Mono',consolas,'Courier New',monospace\">Average reward over last 5000 steps: 3.35\n",
       "</pre>\n"
      ],
      "text/plain": [
       "Average reward over last 5000 steps: 3.35\n"
      ]
     },
     "metadata": {},
     "output_type": "display_data"
    },
    {
     "data": {
      "text/html": [
       "<pre style=\"white-space:pre;overflow-x:auto;line-height:normal;font-family:Menlo,'DejaVu Sans Mono',consolas,'Courier New',monospace\">Average reward over last 5000 steps: 3.60\n",
       "</pre>\n"
      ],
      "text/plain": [
       "Average reward over last 5000 steps: 3.60\n"
      ]
     },
     "metadata": {},
     "output_type": "display_data"
    },
    {
     "data": {
      "text/html": [
       "<pre style=\"white-space:pre;overflow-x:auto;line-height:normal;font-family:Menlo,'DejaVu Sans Mono',consolas,'Courier New',monospace\">Average reward over last 5000 steps: 3.59\n",
       "</pre>\n"
      ],
      "text/plain": [
       "Average reward over last 5000 steps: 3.59\n"
      ]
     },
     "metadata": {},
     "output_type": "display_data"
    },
    {
     "data": {
      "text/html": [
       "<pre style=\"white-space:pre;overflow-x:auto;line-height:normal;font-family:Menlo,'DejaVu Sans Mono',consolas,'Courier New',monospace\">Average reward over last 5000 steps: 3.62\n",
       "</pre>\n"
      ],
      "text/plain": [
       "Average reward over last 5000 steps: 3.62\n"
      ]
     },
     "metadata": {},
     "output_type": "display_data"
    },
    {
     "data": {
      "text/html": [
       "<pre style=\"white-space:pre;overflow-x:auto;line-height:normal;font-family:Menlo,'DejaVu Sans Mono',consolas,'Courier New',monospace\">Average reward over last 5000 steps: 3.29\n",
       "</pre>\n"
      ],
      "text/plain": [
       "Average reward over last 5000 steps: 3.29\n"
      ]
     },
     "metadata": {},
     "output_type": "display_data"
    },
    {
     "data": {
      "text/html": [
       "<pre style=\"white-space:pre;overflow-x:auto;line-height:normal;font-family:Menlo,'DejaVu Sans Mono',consolas,'Courier New',monospace\">Average reward over last 5000 steps: 3.35\n",
       "</pre>\n"
      ],
      "text/plain": [
       "Average reward over last 5000 steps: 3.35\n"
      ]
     },
     "metadata": {},
     "output_type": "display_data"
    },
    {
     "data": {
      "text/html": [
       "<pre style=\"white-space:pre;overflow-x:auto;line-height:normal;font-family:Menlo,'DejaVu Sans Mono',consolas,'Courier New',monospace\">Average reward over last 5000 steps: 3.27\n",
       "</pre>\n"
      ],
      "text/plain": [
       "Average reward over last 5000 steps: 3.27\n"
      ]
     },
     "metadata": {},
     "output_type": "display_data"
    },
    {
     "data": {
      "text/html": [
       "<pre style=\"white-space:pre;overflow-x:auto;line-height:normal;font-family:Menlo,'DejaVu Sans Mono',consolas,'Courier New',monospace\">Average reward over last 5000 steps: 3.04\n",
       "</pre>\n"
      ],
      "text/plain": [
       "Average reward over last 5000 steps: 3.04\n"
      ]
     },
     "metadata": {},
     "output_type": "display_data"
    },
    {
     "data": {
      "text/html": [
       "<pre style=\"white-space:pre;overflow-x:auto;line-height:normal;font-family:Menlo,'DejaVu Sans Mono',consolas,'Courier New',monospace\">Average reward over last 5000 steps: 3.55\n",
       "</pre>\n"
      ],
      "text/plain": [
       "Average reward over last 5000 steps: 3.55\n"
      ]
     },
     "metadata": {},
     "output_type": "display_data"
    },
    {
     "data": {
      "text/html": [
       "<pre style=\"white-space:pre;overflow-x:auto;line-height:normal;font-family:Menlo,'DejaVu Sans Mono',consolas,'Courier New',monospace\">Average reward over last 5000 steps: 3.55\n",
       "</pre>\n"
      ],
      "text/plain": [
       "Average reward over last 5000 steps: 3.55\n"
      ]
     },
     "metadata": {},
     "output_type": "display_data"
    },
    {
     "data": {
      "text/html": [
       "<pre style=\"white-space:pre;overflow-x:auto;line-height:normal;font-family:Menlo,'DejaVu Sans Mono',consolas,'Courier New',monospace\">Average reward over last 5000 steps: 3.33\n",
       "</pre>\n"
      ],
      "text/plain": [
       "Average reward over last 5000 steps: 3.33\n"
      ]
     },
     "metadata": {},
     "output_type": "display_data"
    },
    {
     "data": {
      "text/html": [
       "<pre style=\"white-space:pre;overflow-x:auto;line-height:normal;font-family:Menlo,'DejaVu Sans Mono',consolas,'Courier New',monospace\">Average reward over last 5000 steps: 3.31\n",
       "</pre>\n"
      ],
      "text/plain": [
       "Average reward over last 5000 steps: 3.31\n"
      ]
     },
     "metadata": {},
     "output_type": "display_data"
    },
    {
     "data": {
      "text/html": [
       "<pre style=\"white-space:pre;overflow-x:auto;line-height:normal;font-family:Menlo,'DejaVu Sans Mono',consolas,'Courier New',monospace\">Average reward over last 5000 steps: 3.32\n",
       "</pre>\n"
      ],
      "text/plain": [
       "Average reward over last 5000 steps: 3.32\n"
      ]
     },
     "metadata": {},
     "output_type": "display_data"
    },
    {
     "data": {
      "text/html": [
       "<pre style=\"white-space:pre;overflow-x:auto;line-height:normal;font-family:Menlo,'DejaVu Sans Mono',consolas,'Courier New',monospace\">Average reward over last 5000 steps: 3.32\n",
       "</pre>\n"
      ],
      "text/plain": [
       "Average reward over last 5000 steps: 3.32\n"
      ]
     },
     "metadata": {},
     "output_type": "display_data"
    },
    {
     "data": {
      "text/html": [
       "<pre style=\"white-space:pre;overflow-x:auto;line-height:normal;font-family:Menlo,'DejaVu Sans Mono',consolas,'Courier New',monospace\">Average reward over last 5000 steps: 3.31\n",
       "</pre>\n"
      ],
      "text/plain": [
       "Average reward over last 5000 steps: 3.31\n"
      ]
     },
     "metadata": {},
     "output_type": "display_data"
    },
    {
     "data": {
      "text/html": [
       "<pre style=\"white-space:pre;overflow-x:auto;line-height:normal;font-family:Menlo,'DejaVu Sans Mono',consolas,'Courier New',monospace\">Average reward over last 5000 steps: 3.24\n",
       "</pre>\n"
      ],
      "text/plain": [
       "Average reward over last 5000 steps: 3.24\n"
      ]
     },
     "metadata": {},
     "output_type": "display_data"
    },
    {
     "data": {
      "text/html": [
       "<pre style=\"white-space:pre;overflow-x:auto;line-height:normal;font-family:Menlo,'DejaVu Sans Mono',consolas,'Courier New',monospace\">Average reward over last 5000 steps: 3.20\n",
       "</pre>\n"
      ],
      "text/plain": [
       "Average reward over last 5000 steps: 3.20\n"
      ]
     },
     "metadata": {},
     "output_type": "display_data"
    },
    {
     "data": {
      "text/html": [
       "<pre style=\"white-space:pre;overflow-x:auto;line-height:normal;font-family:Menlo,'DejaVu Sans Mono',consolas,'Courier New',monospace\">Average reward over last 5000 steps: 3.33\n",
       "</pre>\n"
      ],
      "text/plain": [
       "Average reward over last 5000 steps: 3.33\n"
      ]
     },
     "metadata": {},
     "output_type": "display_data"
    },
    {
     "data": {
      "text/html": [
       "<pre style=\"white-space:pre;overflow-x:auto;line-height:normal;font-family:Menlo,'DejaVu Sans Mono',consolas,'Courier New',monospace\">Average reward over last 5000 steps: 3.08\n",
       "</pre>\n"
      ],
      "text/plain": [
       "Average reward over last 5000 steps: 3.08\n"
      ]
     },
     "metadata": {},
     "output_type": "display_data"
    },
    {
     "data": {
      "text/html": [
       "<pre style=\"white-space:pre;overflow-x:auto;line-height:normal;font-family:Menlo,'DejaVu Sans Mono',consolas,'Courier New',monospace\">Average reward over last 5000 steps: 3.41\n",
       "</pre>\n"
      ],
      "text/plain": [
       "Average reward over last 5000 steps: 3.41\n"
      ]
     },
     "metadata": {},
     "output_type": "display_data"
    },
    {
     "data": {
      "text/html": [
       "<pre style=\"white-space:pre;overflow-x:auto;line-height:normal;font-family:Menlo,'DejaVu Sans Mono',consolas,'Courier New',monospace\">Average reward over last 5000 steps: 3.13\n",
       "</pre>\n"
      ],
      "text/plain": [
       "Average reward over last 5000 steps: 3.13\n"
      ]
     },
     "metadata": {},
     "output_type": "display_data"
    },
    {
     "data": {
      "text/html": [
       "<pre style=\"white-space:pre;overflow-x:auto;line-height:normal;font-family:Menlo,'DejaVu Sans Mono',consolas,'Courier New',monospace\">Average reward over last 5000 steps: 3.28\n",
       "</pre>\n"
      ],
      "text/plain": [
       "Average reward over last 5000 steps: 3.28\n"
      ]
     },
     "metadata": {},
     "output_type": "display_data"
    },
    {
     "data": {
      "text/html": [
       "<pre style=\"white-space:pre;overflow-x:auto;line-height:normal;font-family:Menlo,'DejaVu Sans Mono',consolas,'Courier New',monospace\">Average reward over last 5000 steps: 3.17\n",
       "</pre>\n"
      ],
      "text/plain": [
       "Average reward over last 5000 steps: 3.17\n"
      ]
     },
     "metadata": {},
     "output_type": "display_data"
    },
    {
     "data": {
      "text/html": [
       "<pre style=\"white-space:pre;overflow-x:auto;line-height:normal;font-family:Menlo,'DejaVu Sans Mono',consolas,'Courier New',monospace\">Average reward over last 5000 steps: 3.51\n",
       "</pre>\n"
      ],
      "text/plain": [
       "Average reward over last 5000 steps: 3.51\n"
      ]
     },
     "metadata": {},
     "output_type": "display_data"
    },
    {
     "data": {
      "text/html": [
       "<pre style=\"white-space:pre;overflow-x:auto;line-height:normal;font-family:Menlo,'DejaVu Sans Mono',consolas,'Courier New',monospace\">Average reward over last 5000 steps: 3.29\n",
       "</pre>\n"
      ],
      "text/plain": [
       "Average reward over last 5000 steps: 3.29\n"
      ]
     },
     "metadata": {},
     "output_type": "display_data"
    },
    {
     "data": {
      "text/html": [
       "<pre style=\"white-space:pre;overflow-x:auto;line-height:normal;font-family:Menlo,'DejaVu Sans Mono',consolas,'Courier New',monospace\">Average reward over last 5000 steps: 3.76\n",
       "</pre>\n"
      ],
      "text/plain": [
       "Average reward over last 5000 steps: 3.76\n"
      ]
     },
     "metadata": {},
     "output_type": "display_data"
    },
    {
     "data": {
      "text/html": [
       "<pre style=\"white-space:pre;overflow-x:auto;line-height:normal;font-family:Menlo,'DejaVu Sans Mono',consolas,'Courier New',monospace\">Average reward over last 5000 steps: 3.59\n",
       "</pre>\n"
      ],
      "text/plain": [
       "Average reward over last 5000 steps: 3.59\n"
      ]
     },
     "metadata": {},
     "output_type": "display_data"
    },
    {
     "data": {
      "text/html": [
       "<pre style=\"white-space:pre;overflow-x:auto;line-height:normal;font-family:Menlo,'DejaVu Sans Mono',consolas,'Courier New',monospace\">Average reward over last 5000 steps: 3.59\n",
       "</pre>\n"
      ],
      "text/plain": [
       "Average reward over last 5000 steps: 3.59\n"
      ]
     },
     "metadata": {},
     "output_type": "display_data"
    },
    {
     "data": {
      "text/html": [
       "<pre style=\"white-space:pre;overflow-x:auto;line-height:normal;font-family:Menlo,'DejaVu Sans Mono',consolas,'Courier New',monospace\">Average reward over last 5000 steps: 3.52\n",
       "</pre>\n"
      ],
      "text/plain": [
       "Average reward over last 5000 steps: 3.52\n"
      ]
     },
     "metadata": {},
     "output_type": "display_data"
    },
    {
     "data": {
      "text/html": [
       "<pre style=\"white-space:pre;overflow-x:auto;line-height:normal;font-family:Menlo,'DejaVu Sans Mono',consolas,'Courier New',monospace\">Average reward over last 5000 steps: 3.03\n",
       "</pre>\n"
      ],
      "text/plain": [
       "Average reward over last 5000 steps: 3.03\n"
      ]
     },
     "metadata": {},
     "output_type": "display_data"
    },
    {
     "data": {
      "text/html": [
       "<pre style=\"white-space:pre;overflow-x:auto;line-height:normal;font-family:Menlo,'DejaVu Sans Mono',consolas,'Courier New',monospace\">Average reward over last 5000 steps: 3.46\n",
       "</pre>\n"
      ],
      "text/plain": [
       "Average reward over last 5000 steps: 3.46\n"
      ]
     },
     "metadata": {},
     "output_type": "display_data"
    },
    {
     "data": {
      "text/html": [
       "<pre style=\"white-space:pre;overflow-x:auto;line-height:normal;font-family:Menlo,'DejaVu Sans Mono',consolas,'Courier New',monospace\">Average reward over last 5000 steps: 3.54\n",
       "</pre>\n"
      ],
      "text/plain": [
       "Average reward over last 5000 steps: 3.54\n"
      ]
     },
     "metadata": {},
     "output_type": "display_data"
    },
    {
     "data": {
      "text/html": [
       "<pre style=\"white-space:pre;overflow-x:auto;line-height:normal;font-family:Menlo,'DejaVu Sans Mono',consolas,'Courier New',monospace\">Average reward over last 5000 steps: 3.22\n",
       "</pre>\n"
      ],
      "text/plain": [
       "Average reward over last 5000 steps: 3.22\n"
      ]
     },
     "metadata": {},
     "output_type": "display_data"
    },
    {
     "data": {
      "text/html": [
       "<pre style=\"white-space:pre;overflow-x:auto;line-height:normal;font-family:Menlo,'DejaVu Sans Mono',consolas,'Courier New',monospace\">Average reward over last 5000 steps: 3.43\n",
       "</pre>\n"
      ],
      "text/plain": [
       "Average reward over last 5000 steps: 3.43\n"
      ]
     },
     "metadata": {},
     "output_type": "display_data"
    },
    {
     "data": {
      "text/html": [
       "<pre style=\"white-space:pre;overflow-x:auto;line-height:normal;font-family:Menlo,'DejaVu Sans Mono',consolas,'Courier New',monospace\">Average reward over last 5000 steps: 3.30\n",
       "</pre>\n"
      ],
      "text/plain": [
       "Average reward over last 5000 steps: 3.30\n"
      ]
     },
     "metadata": {},
     "output_type": "display_data"
    },
    {
     "data": {
      "text/html": [
       "<pre style=\"white-space:pre;overflow-x:auto;line-height:normal;font-family:Menlo,'DejaVu Sans Mono',consolas,'Courier New',monospace\">Average reward over last 5000 steps: 3.55\n",
       "</pre>\n"
      ],
      "text/plain": [
       "Average reward over last 5000 steps: 3.55\n"
      ]
     },
     "metadata": {},
     "output_type": "display_data"
    },
    {
     "data": {
      "text/html": [
       "<pre style=\"white-space:pre;overflow-x:auto;line-height:normal;font-family:Menlo,'DejaVu Sans Mono',consolas,'Courier New',monospace\">Average reward over last 5000 steps: 3.50\n",
       "</pre>\n"
      ],
      "text/plain": [
       "Average reward over last 5000 steps: 3.50\n"
      ]
     },
     "metadata": {},
     "output_type": "display_data"
    },
    {
     "data": {
      "text/html": [
       "<pre style=\"white-space:pre;overflow-x:auto;line-height:normal;font-family:Menlo,'DejaVu Sans Mono',consolas,'Courier New',monospace\">Average reward over last 5000 steps: 3.58\n",
       "</pre>\n"
      ],
      "text/plain": [
       "Average reward over last 5000 steps: 3.58\n"
      ]
     },
     "metadata": {},
     "output_type": "display_data"
    },
    {
     "data": {
      "text/html": [
       "<pre style=\"white-space:pre;overflow-x:auto;line-height:normal;font-family:Menlo,'DejaVu Sans Mono',consolas,'Courier New',monospace\">Average reward over last 5000 steps: 3.75\n",
       "</pre>\n"
      ],
      "text/plain": [
       "Average reward over last 5000 steps: 3.75\n"
      ]
     },
     "metadata": {},
     "output_type": "display_data"
    },
    {
     "data": {
      "text/html": [
       "<pre style=\"white-space:pre;overflow-x:auto;line-height:normal;font-family:Menlo,'DejaVu Sans Mono',consolas,'Courier New',monospace\">Average reward over last 5000 steps: 3.63\n",
       "</pre>\n"
      ],
      "text/plain": [
       "Average reward over last 5000 steps: 3.63\n"
      ]
     },
     "metadata": {},
     "output_type": "display_data"
    },
    {
     "data": {
      "text/html": [
       "<pre style=\"white-space:pre;overflow-x:auto;line-height:normal;font-family:Menlo,'DejaVu Sans Mono',consolas,'Courier New',monospace\">Average reward over last 5000 steps: 3.17\n",
       "</pre>\n"
      ],
      "text/plain": [
       "Average reward over last 5000 steps: 3.17\n"
      ]
     },
     "metadata": {},
     "output_type": "display_data"
    },
    {
     "data": {
      "text/html": [
       "<pre style=\"white-space:pre;overflow-x:auto;line-height:normal;font-family:Menlo,'DejaVu Sans Mono',consolas,'Courier New',monospace\">Average reward over last 5000 steps: 2.99\n",
       "</pre>\n"
      ],
      "text/plain": [
       "Average reward over last 5000 steps: 2.99\n"
      ]
     },
     "metadata": {},
     "output_type": "display_data"
    },
    {
     "data": {
      "text/html": [
       "<pre style=\"white-space:pre;overflow-x:auto;line-height:normal;font-family:Menlo,'DejaVu Sans Mono',consolas,'Courier New',monospace\">Average reward over last 5000 steps: 2.86\n",
       "</pre>\n"
      ],
      "text/plain": [
       "Average reward over last 5000 steps: 2.86\n"
      ]
     },
     "metadata": {},
     "output_type": "display_data"
    },
    {
     "data": {
      "text/html": [
       "<pre style=\"white-space:pre;overflow-x:auto;line-height:normal;font-family:Menlo,'DejaVu Sans Mono',consolas,'Courier New',monospace\">Average reward over last 5000 steps: 3.57\n",
       "</pre>\n"
      ],
      "text/plain": [
       "Average reward over last 5000 steps: 3.57\n"
      ]
     },
     "metadata": {},
     "output_type": "display_data"
    },
    {
     "data": {
      "text/html": [
       "<pre style=\"white-space:pre;overflow-x:auto;line-height:normal;font-family:Menlo,'DejaVu Sans Mono',consolas,'Courier New',monospace\">Average reward over last 5000 steps: 3.26\n",
       "</pre>\n"
      ],
      "text/plain": [
       "Average reward over last 5000 steps: 3.26\n"
      ]
     },
     "metadata": {},
     "output_type": "display_data"
    },
    {
     "data": {
      "text/html": [
       "<pre style=\"white-space:pre;overflow-x:auto;line-height:normal;font-family:Menlo,'DejaVu Sans Mono',consolas,'Courier New',monospace\">Average reward over last 5000 steps: 3.44\n",
       "</pre>\n"
      ],
      "text/plain": [
       "Average reward over last 5000 steps: 3.44\n"
      ]
     },
     "metadata": {},
     "output_type": "display_data"
    },
    {
     "data": {
      "text/html": [
       "<pre style=\"white-space:pre;overflow-x:auto;line-height:normal;font-family:Menlo,'DejaVu Sans Mono',consolas,'Courier New',monospace\">Average reward over last 5000 steps: 3.16\n",
       "</pre>\n"
      ],
      "text/plain": [
       "Average reward over last 5000 steps: 3.16\n"
      ]
     },
     "metadata": {},
     "output_type": "display_data"
    },
    {
     "data": {
      "text/html": [
       "<pre style=\"white-space:pre;overflow-x:auto;line-height:normal;font-family:Menlo,'DejaVu Sans Mono',consolas,'Courier New',monospace\">Average reward over last 5000 steps: 3.15\n",
       "</pre>\n"
      ],
      "text/plain": [
       "Average reward over last 5000 steps: 3.15\n"
      ]
     },
     "metadata": {},
     "output_type": "display_data"
    },
    {
     "data": {
      "text/html": [
       "<pre style=\"white-space:pre;overflow-x:auto;line-height:normal;font-family:Menlo,'DejaVu Sans Mono',consolas,'Courier New',monospace\">Average reward over last 5000 steps: 3.32\n",
       "</pre>\n"
      ],
      "text/plain": [
       "Average reward over last 5000 steps: 3.32\n"
      ]
     },
     "metadata": {},
     "output_type": "display_data"
    },
    {
     "data": {
      "text/html": [
       "<pre style=\"white-space:pre;overflow-x:auto;line-height:normal;font-family:Menlo,'DejaVu Sans Mono',consolas,'Courier New',monospace\">Average reward over last 5000 steps: 3.12\n",
       "</pre>\n"
      ],
      "text/plain": [
       "Average reward over last 5000 steps: 3.12\n"
      ]
     },
     "metadata": {},
     "output_type": "display_data"
    },
    {
     "data": {
      "text/html": [
       "<pre style=\"white-space:pre;overflow-x:auto;line-height:normal;font-family:Menlo,'DejaVu Sans Mono',consolas,'Courier New',monospace\">Average reward over last 5000 steps: 3.25\n",
       "</pre>\n"
      ],
      "text/plain": [
       "Average reward over last 5000 steps: 3.25\n"
      ]
     },
     "metadata": {},
     "output_type": "display_data"
    },
    {
     "data": {
      "text/html": [
       "<pre style=\"white-space:pre;overflow-x:auto;line-height:normal;font-family:Menlo,'DejaVu Sans Mono',consolas,'Courier New',monospace\">Average reward over last 5000 steps: 3.48\n",
       "</pre>\n"
      ],
      "text/plain": [
       "Average reward over last 5000 steps: 3.48\n"
      ]
     },
     "metadata": {},
     "output_type": "display_data"
    },
    {
     "data": {
      "text/html": [
       "<pre style=\"white-space:pre;overflow-x:auto;line-height:normal;font-family:Menlo,'DejaVu Sans Mono',consolas,'Courier New',monospace\">Average reward over last 5000 steps: 3.45\n",
       "</pre>\n"
      ],
      "text/plain": [
       "Average reward over last 5000 steps: 3.45\n"
      ]
     },
     "metadata": {},
     "output_type": "display_data"
    },
    {
     "data": {
      "text/html": [
       "<pre style=\"white-space:pre;overflow-x:auto;line-height:normal;font-family:Menlo,'DejaVu Sans Mono',consolas,'Courier New',monospace\">Average reward over last 5000 steps: 3.46\n",
       "</pre>\n"
      ],
      "text/plain": [
       "Average reward over last 5000 steps: 3.46\n"
      ]
     },
     "metadata": {},
     "output_type": "display_data"
    },
    {
     "data": {
      "text/html": [
       "<pre style=\"white-space:pre;overflow-x:auto;line-height:normal;font-family:Menlo,'DejaVu Sans Mono',consolas,'Courier New',monospace\">Average reward over last 5000 steps: 3.44\n",
       "</pre>\n"
      ],
      "text/plain": [
       "Average reward over last 5000 steps: 3.44\n"
      ]
     },
     "metadata": {},
     "output_type": "display_data"
    },
    {
     "data": {
      "text/html": [
       "<pre style=\"white-space:pre;overflow-x:auto;line-height:normal;font-family:Menlo,'DejaVu Sans Mono',consolas,'Courier New',monospace\">Average reward over last 5000 steps: 3.85\n",
       "</pre>\n"
      ],
      "text/plain": [
       "Average reward over last 5000 steps: 3.85\n"
      ]
     },
     "metadata": {},
     "output_type": "display_data"
    },
    {
     "data": {
      "text/html": [
       "<pre style=\"white-space:pre;overflow-x:auto;line-height:normal;font-family:Menlo,'DejaVu Sans Mono',consolas,'Courier New',monospace\">Average reward over last 5000 steps: 3.17\n",
       "</pre>\n"
      ],
      "text/plain": [
       "Average reward over last 5000 steps: 3.17\n"
      ]
     },
     "metadata": {},
     "output_type": "display_data"
    },
    {
     "data": {
      "text/html": [
       "<pre style=\"white-space:pre;overflow-x:auto;line-height:normal;font-family:Menlo,'DejaVu Sans Mono',consolas,'Courier New',monospace\">Average reward over last 5000 steps: 3.40\n",
       "</pre>\n"
      ],
      "text/plain": [
       "Average reward over last 5000 steps: 3.40\n"
      ]
     },
     "metadata": {},
     "output_type": "display_data"
    },
    {
     "data": {
      "text/html": [
       "<pre style=\"white-space:pre;overflow-x:auto;line-height:normal;font-family:Menlo,'DejaVu Sans Mono',consolas,'Courier New',monospace\">Average reward over last 5000 steps: 3.19\n",
       "</pre>\n"
      ],
      "text/plain": [
       "Average reward over last 5000 steps: 3.19\n"
      ]
     },
     "metadata": {},
     "output_type": "display_data"
    },
    {
     "data": {
      "text/html": [
       "<pre style=\"white-space:pre;overflow-x:auto;line-height:normal;font-family:Menlo,'DejaVu Sans Mono',consolas,'Courier New',monospace\">Average reward over last 5000 steps: 3.19\n",
       "</pre>\n"
      ],
      "text/plain": [
       "Average reward over last 5000 steps: 3.19\n"
      ]
     },
     "metadata": {},
     "output_type": "display_data"
    },
    {
     "data": {
      "text/html": [
       "<pre style=\"white-space:pre;overflow-x:auto;line-height:normal;font-family:Menlo,'DejaVu Sans Mono',consolas,'Courier New',monospace\">Average reward over last 5000 steps: 3.12\n",
       "</pre>\n"
      ],
      "text/plain": [
       "Average reward over last 5000 steps: 3.12\n"
      ]
     },
     "metadata": {},
     "output_type": "display_data"
    },
    {
     "data": {
      "text/html": [
       "<pre style=\"white-space:pre;overflow-x:auto;line-height:normal;font-family:Menlo,'DejaVu Sans Mono',consolas,'Courier New',monospace\">Average reward over last 5000 steps: 2.77\n",
       "</pre>\n"
      ],
      "text/plain": [
       "Average reward over last 5000 steps: 2.77\n"
      ]
     },
     "metadata": {},
     "output_type": "display_data"
    },
    {
     "data": {
      "text/html": [
       "<pre style=\"white-space:pre;overflow-x:auto;line-height:normal;font-family:Menlo,'DejaVu Sans Mono',consolas,'Courier New',monospace\">Average reward over last 5000 steps: 2.69\n",
       "</pre>\n"
      ],
      "text/plain": [
       "Average reward over last 5000 steps: 2.69\n"
      ]
     },
     "metadata": {},
     "output_type": "display_data"
    },
    {
     "data": {
      "text/html": [
       "<pre style=\"white-space:pre;overflow-x:auto;line-height:normal;font-family:Menlo,'DejaVu Sans Mono',consolas,'Courier New',monospace\">Average reward over last 5000 steps: 3.36\n",
       "</pre>\n"
      ],
      "text/plain": [
       "Average reward over last 5000 steps: 3.36\n"
      ]
     },
     "metadata": {},
     "output_type": "display_data"
    },
    {
     "data": {
      "text/html": [
       "<pre style=\"white-space:pre;overflow-x:auto;line-height:normal;font-family:Menlo,'DejaVu Sans Mono',consolas,'Courier New',monospace\">Average reward over last 5000 steps: 2.78\n",
       "</pre>\n"
      ],
      "text/plain": [
       "Average reward over last 5000 steps: 2.78\n"
      ]
     },
     "metadata": {},
     "output_type": "display_data"
    },
    {
     "data": {
      "text/html": [
       "<pre style=\"white-space:pre;overflow-x:auto;line-height:normal;font-family:Menlo,'DejaVu Sans Mono',consolas,'Courier New',monospace\">Average reward over last 5000 steps: 3.15\n",
       "</pre>\n"
      ],
      "text/plain": [
       "Average reward over last 5000 steps: 3.15\n"
      ]
     },
     "metadata": {},
     "output_type": "display_data"
    },
    {
     "data": {
      "text/html": [
       "<pre style=\"white-space:pre;overflow-x:auto;line-height:normal;font-family:Menlo,'DejaVu Sans Mono',consolas,'Courier New',monospace\">Average reward over last 5000 steps: 3.00\n",
       "</pre>\n"
      ],
      "text/plain": [
       "Average reward over last 5000 steps: 3.00\n"
      ]
     },
     "metadata": {},
     "output_type": "display_data"
    },
    {
     "data": {
      "text/html": [
       "<pre style=\"white-space:pre;overflow-x:auto;line-height:normal;font-family:Menlo,'DejaVu Sans Mono',consolas,'Courier New',monospace\">Average reward over last 5000 steps: 3.44\n",
       "</pre>\n"
      ],
      "text/plain": [
       "Average reward over last 5000 steps: 3.44\n"
      ]
     },
     "metadata": {},
     "output_type": "display_data"
    },
    {
     "data": {
      "text/html": [
       "<pre style=\"white-space:pre;overflow-x:auto;line-height:normal;font-family:Menlo,'DejaVu Sans Mono',consolas,'Courier New',monospace\">Average reward over last 5000 steps: 3.18\n",
       "</pre>\n"
      ],
      "text/plain": [
       "Average reward over last 5000 steps: 3.18\n"
      ]
     },
     "metadata": {},
     "output_type": "display_data"
    },
    {
     "data": {
      "text/html": [
       "<pre style=\"white-space:pre;overflow-x:auto;line-height:normal;font-family:Menlo,'DejaVu Sans Mono',consolas,'Courier New',monospace\">Average reward over last 5000 steps: 3.30\n",
       "</pre>\n"
      ],
      "text/plain": [
       "Average reward over last 5000 steps: 3.30\n"
      ]
     },
     "metadata": {},
     "output_type": "display_data"
    },
    {
     "data": {
      "text/html": [
       "<pre style=\"white-space:pre;overflow-x:auto;line-height:normal;font-family:Menlo,'DejaVu Sans Mono',consolas,'Courier New',monospace\">Average reward over last 5000 steps: 3.21\n",
       "</pre>\n"
      ],
      "text/plain": [
       "Average reward over last 5000 steps: 3.21\n"
      ]
     },
     "metadata": {},
     "output_type": "display_data"
    },
    {
     "data": {
      "text/html": [
       "<pre style=\"white-space:pre;overflow-x:auto;line-height:normal;font-family:Menlo,'DejaVu Sans Mono',consolas,'Courier New',monospace\">Average reward over last 5000 steps: 3.37\n",
       "</pre>\n"
      ],
      "text/plain": [
       "Average reward over last 5000 steps: 3.37\n"
      ]
     },
     "metadata": {},
     "output_type": "display_data"
    },
    {
     "data": {
      "text/html": [
       "<pre style=\"white-space:pre;overflow-x:auto;line-height:normal;font-family:Menlo,'DejaVu Sans Mono',consolas,'Courier New',monospace\">Average reward over last 5000 steps: 3.17\n",
       "</pre>\n"
      ],
      "text/plain": [
       "Average reward over last 5000 steps: 3.17\n"
      ]
     },
     "metadata": {},
     "output_type": "display_data"
    },
    {
     "data": {
      "text/html": [
       "<pre style=\"white-space:pre;overflow-x:auto;line-height:normal;font-family:Menlo,'DejaVu Sans Mono',consolas,'Courier New',monospace\">Average reward over last 5000 steps: 3.59\n",
       "</pre>\n"
      ],
      "text/plain": [
       "Average reward over last 5000 steps: 3.59\n"
      ]
     },
     "metadata": {},
     "output_type": "display_data"
    },
    {
     "data": {
      "text/html": [
       "<pre style=\"white-space:pre;overflow-x:auto;line-height:normal;font-family:Menlo,'DejaVu Sans Mono',consolas,'Courier New',monospace\">Average reward over last 5000 steps: 3.48\n",
       "</pre>\n"
      ],
      "text/plain": [
       "Average reward over last 5000 steps: 3.48\n"
      ]
     },
     "metadata": {},
     "output_type": "display_data"
    },
    {
     "data": {
      "text/html": [
       "<pre style=\"white-space:pre;overflow-x:auto;line-height:normal;font-family:Menlo,'DejaVu Sans Mono',consolas,'Courier New',monospace\">Average reward over last 5000 steps: 3.14\n",
       "</pre>\n"
      ],
      "text/plain": [
       "Average reward over last 5000 steps: 3.14\n"
      ]
     },
     "metadata": {},
     "output_type": "display_data"
    },
    {
     "data": {
      "text/html": [
       "<pre style=\"white-space:pre;overflow-x:auto;line-height:normal;font-family:Menlo,'DejaVu Sans Mono',consolas,'Courier New',monospace\">Average reward over last 5000 steps: 3.35\n",
       "</pre>\n"
      ],
      "text/plain": [
       "Average reward over last 5000 steps: 3.35\n"
      ]
     },
     "metadata": {},
     "output_type": "display_data"
    },
    {
     "data": {
      "text/html": [
       "<pre style=\"white-space:pre;overflow-x:auto;line-height:normal;font-family:Menlo,'DejaVu Sans Mono',consolas,'Courier New',monospace\">Average reward over last 5000 steps: 3.06\n",
       "</pre>\n"
      ],
      "text/plain": [
       "Average reward over last 5000 steps: 3.06\n"
      ]
     },
     "metadata": {},
     "output_type": "display_data"
    },
    {
     "data": {
      "text/html": [
       "<pre style=\"white-space:pre;overflow-x:auto;line-height:normal;font-family:Menlo,'DejaVu Sans Mono',consolas,'Courier New',monospace\">Average reward over last 5000 steps: 3.45\n",
       "</pre>\n"
      ],
      "text/plain": [
       "Average reward over last 5000 steps: 3.45\n"
      ]
     },
     "metadata": {},
     "output_type": "display_data"
    },
    {
     "data": {
      "text/html": [
       "<pre style=\"white-space:pre;overflow-x:auto;line-height:normal;font-family:Menlo,'DejaVu Sans Mono',consolas,'Courier New',monospace\">Average reward over last 5000 steps: 3.37\n",
       "</pre>\n"
      ],
      "text/plain": [
       "Average reward over last 5000 steps: 3.37\n"
      ]
     },
     "metadata": {},
     "output_type": "display_data"
    },
    {
     "data": {
      "text/html": [
       "<pre style=\"white-space:pre;overflow-x:auto;line-height:normal;font-family:Menlo,'DejaVu Sans Mono',consolas,'Courier New',monospace\">Average reward over last 5000 steps: 3.59\n",
       "</pre>\n"
      ],
      "text/plain": [
       "Average reward over last 5000 steps: 3.59\n"
      ]
     },
     "metadata": {},
     "output_type": "display_data"
    },
    {
     "data": {
      "text/html": [
       "<pre style=\"white-space:pre;overflow-x:auto;line-height:normal;font-family:Menlo,'DejaVu Sans Mono',consolas,'Courier New',monospace\">Average reward over last 5000 steps: 3.35\n",
       "</pre>\n"
      ],
      "text/plain": [
       "Average reward over last 5000 steps: 3.35\n"
      ]
     },
     "metadata": {},
     "output_type": "display_data"
    },
    {
     "data": {
      "text/html": [
       "<pre style=\"white-space:pre;overflow-x:auto;line-height:normal;font-family:Menlo,'DejaVu Sans Mono',consolas,'Courier New',monospace\">Average reward over last 5000 steps: 3.36\n",
       "</pre>\n"
      ],
      "text/plain": [
       "Average reward over last 5000 steps: 3.36\n"
      ]
     },
     "metadata": {},
     "output_type": "display_data"
    },
    {
     "data": {
      "text/html": [
       "<pre style=\"white-space:pre;overflow-x:auto;line-height:normal;font-family:Menlo,'DejaVu Sans Mono',consolas,'Courier New',monospace\">Average reward over last 5000 steps: 3.27\n",
       "</pre>\n"
      ],
      "text/plain": [
       "Average reward over last 5000 steps: 3.27\n"
      ]
     },
     "metadata": {},
     "output_type": "display_data"
    },
    {
     "data": {
      "text/html": [
       "<pre style=\"white-space:pre;overflow-x:auto;line-height:normal;font-family:Menlo,'DejaVu Sans Mono',consolas,'Courier New',monospace\">Average reward over last 5000 steps: 3.17\n",
       "</pre>\n"
      ],
      "text/plain": [
       "Average reward over last 5000 steps: 3.17\n"
      ]
     },
     "metadata": {},
     "output_type": "display_data"
    },
    {
     "data": {
      "text/html": [
       "<pre style=\"white-space:pre;overflow-x:auto;line-height:normal;font-family:Menlo,'DejaVu Sans Mono',consolas,'Courier New',monospace\">Average reward over last 5000 steps: 3.04\n",
       "</pre>\n"
      ],
      "text/plain": [
       "Average reward over last 5000 steps: 3.04\n"
      ]
     },
     "metadata": {},
     "output_type": "display_data"
    },
    {
     "data": {
      "text/html": [
       "<pre style=\"white-space:pre;overflow-x:auto;line-height:normal;font-family:Menlo,'DejaVu Sans Mono',consolas,'Courier New',monospace\">Average reward over last 5000 steps: 3.39\n",
       "</pre>\n"
      ],
      "text/plain": [
       "Average reward over last 5000 steps: 3.39\n"
      ]
     },
     "metadata": {},
     "output_type": "display_data"
    },
    {
     "data": {
      "text/html": [
       "<pre style=\"white-space:pre;overflow-x:auto;line-height:normal;font-family:Menlo,'DejaVu Sans Mono',consolas,'Courier New',monospace\">Average reward over last 5000 steps: 3.58\n",
       "</pre>\n"
      ],
      "text/plain": [
       "Average reward over last 5000 steps: 3.58\n"
      ]
     },
     "metadata": {},
     "output_type": "display_data"
    },
    {
     "data": {
      "text/html": [
       "<pre style=\"white-space:pre;overflow-x:auto;line-height:normal;font-family:Menlo,'DejaVu Sans Mono',consolas,'Courier New',monospace\">Average reward over last 5000 steps: 3.28\n",
       "</pre>\n"
      ],
      "text/plain": [
       "Average reward over last 5000 steps: 3.28\n"
      ]
     },
     "metadata": {},
     "output_type": "display_data"
    },
    {
     "data": {
      "text/html": [
       "<pre style=\"white-space:pre;overflow-x:auto;line-height:normal;font-family:Menlo,'DejaVu Sans Mono',consolas,'Courier New',monospace\">Average reward over last 5000 steps: 3.35\n",
       "</pre>\n"
      ],
      "text/plain": [
       "Average reward over last 5000 steps: 3.35\n"
      ]
     },
     "metadata": {},
     "output_type": "display_data"
    },
    {
     "data": {
      "text/html": [
       "<pre style=\"white-space:pre;overflow-x:auto;line-height:normal;font-family:Menlo,'DejaVu Sans Mono',consolas,'Courier New',monospace\">Average reward over last 5000 steps: 3.33\n",
       "</pre>\n"
      ],
      "text/plain": [
       "Average reward over last 5000 steps: 3.33\n"
      ]
     },
     "metadata": {},
     "output_type": "display_data"
    },
    {
     "data": {
      "text/html": [
       "<pre style=\"white-space:pre;overflow-x:auto;line-height:normal;font-family:Menlo,'DejaVu Sans Mono',consolas,'Courier New',monospace\">Average reward over last 5000 steps: 3.41\n",
       "</pre>\n"
      ],
      "text/plain": [
       "Average reward over last 5000 steps: 3.41\n"
      ]
     },
     "metadata": {},
     "output_type": "display_data"
    },
    {
     "data": {
      "text/html": [
       "<pre style=\"white-space:pre;overflow-x:auto;line-height:normal;font-family:Menlo,'DejaVu Sans Mono',consolas,'Courier New',monospace\">Average reward over last 5000 steps: 3.38\n",
       "</pre>\n"
      ],
      "text/plain": [
       "Average reward over last 5000 steps: 3.38\n"
      ]
     },
     "metadata": {},
     "output_type": "display_data"
    },
    {
     "data": {
      "text/html": [
       "<pre style=\"white-space:pre;overflow-x:auto;line-height:normal;font-family:Menlo,'DejaVu Sans Mono',consolas,'Courier New',monospace\">Average reward over last 5000 steps: 3.02\n",
       "</pre>\n"
      ],
      "text/plain": [
       "Average reward over last 5000 steps: 3.02\n"
      ]
     },
     "metadata": {},
     "output_type": "display_data"
    },
    {
     "data": {
      "text/html": [
       "<pre style=\"white-space:pre;overflow-x:auto;line-height:normal;font-family:Menlo,'DejaVu Sans Mono',consolas,'Courier New',monospace\">Average reward over last 5000 steps: 3.39\n",
       "</pre>\n"
      ],
      "text/plain": [
       "Average reward over last 5000 steps: 3.39\n"
      ]
     },
     "metadata": {},
     "output_type": "display_data"
    },
    {
     "data": {
      "text/html": [
       "<pre style=\"white-space:pre;overflow-x:auto;line-height:normal;font-family:Menlo,'DejaVu Sans Mono',consolas,'Courier New',monospace\">Average reward over last 5000 steps: 3.24\n",
       "</pre>\n"
      ],
      "text/plain": [
       "Average reward over last 5000 steps: 3.24\n"
      ]
     },
     "metadata": {},
     "output_type": "display_data"
    },
    {
     "data": {
      "text/html": [
       "<pre style=\"white-space:pre;overflow-x:auto;line-height:normal;font-family:Menlo,'DejaVu Sans Mono',consolas,'Courier New',monospace\">Average reward over last 5000 steps: 3.33\n",
       "</pre>\n"
      ],
      "text/plain": [
       "Average reward over last 5000 steps: 3.33\n"
      ]
     },
     "metadata": {},
     "output_type": "display_data"
    },
    {
     "data": {
      "text/html": [
       "<pre style=\"white-space:pre;overflow-x:auto;line-height:normal;font-family:Menlo,'DejaVu Sans Mono',consolas,'Courier New',monospace\">Average reward over last 5000 steps: 2.92\n",
       "</pre>\n"
      ],
      "text/plain": [
       "Average reward over last 5000 steps: 2.92\n"
      ]
     },
     "metadata": {},
     "output_type": "display_data"
    },
    {
     "data": {
      "text/html": [
       "<pre style=\"white-space:pre;overflow-x:auto;line-height:normal;font-family:Menlo,'DejaVu Sans Mono',consolas,'Courier New',monospace\">Average reward over last 5000 steps: 3.16\n",
       "</pre>\n"
      ],
      "text/plain": [
       "Average reward over last 5000 steps: 3.16\n"
      ]
     },
     "metadata": {},
     "output_type": "display_data"
    },
    {
     "data": {
      "text/html": [
       "<pre style=\"white-space:pre;overflow-x:auto;line-height:normal;font-family:Menlo,'DejaVu Sans Mono',consolas,'Courier New',monospace\">Average reward over last 5000 steps: 3.51\n",
       "</pre>\n"
      ],
      "text/plain": [
       "Average reward over last 5000 steps: 3.51\n"
      ]
     },
     "metadata": {},
     "output_type": "display_data"
    },
    {
     "data": {
      "text/html": [
       "<pre style=\"white-space:pre;overflow-x:auto;line-height:normal;font-family:Menlo,'DejaVu Sans Mono',consolas,'Courier New',monospace\">Average reward over last 5000 steps: 3.35\n",
       "</pre>\n"
      ],
      "text/plain": [
       "Average reward over last 5000 steps: 3.35\n"
      ]
     },
     "metadata": {},
     "output_type": "display_data"
    },
    {
     "data": {
      "text/html": [
       "<pre style=\"white-space:pre;overflow-x:auto;line-height:normal;font-family:Menlo,'DejaVu Sans Mono',consolas,'Courier New',monospace\">Average reward over last 5000 steps: 3.45\n",
       "</pre>\n"
      ],
      "text/plain": [
       "Average reward over last 5000 steps: 3.45\n"
      ]
     },
     "metadata": {},
     "output_type": "display_data"
    },
    {
     "data": {
      "text/html": [
       "<pre style=\"white-space:pre;overflow-x:auto;line-height:normal;font-family:Menlo,'DejaVu Sans Mono',consolas,'Courier New',monospace\">Average reward over last 5000 steps: 3.38\n",
       "</pre>\n"
      ],
      "text/plain": [
       "Average reward over last 5000 steps: 3.38\n"
      ]
     },
     "metadata": {},
     "output_type": "display_data"
    },
    {
     "data": {
      "text/html": [
       "<pre style=\"white-space:pre;overflow-x:auto;line-height:normal;font-family:Menlo,'DejaVu Sans Mono',consolas,'Courier New',monospace\">Average reward over last 5000 steps: 3.04\n",
       "</pre>\n"
      ],
      "text/plain": [
       "Average reward over last 5000 steps: 3.04\n"
      ]
     },
     "metadata": {},
     "output_type": "display_data"
    },
    {
     "data": {
      "text/html": [
       "<pre style=\"white-space:pre;overflow-x:auto;line-height:normal;font-family:Menlo,'DejaVu Sans Mono',consolas,'Courier New',monospace\">Average reward over last 5000 steps: 3.43\n",
       "</pre>\n"
      ],
      "text/plain": [
       "Average reward over last 5000 steps: 3.43\n"
      ]
     },
     "metadata": {},
     "output_type": "display_data"
    },
    {
     "data": {
      "text/html": [
       "<pre style=\"white-space:pre;overflow-x:auto;line-height:normal;font-family:Menlo,'DejaVu Sans Mono',consolas,'Courier New',monospace\">Average reward over last 5000 steps: 3.27\n",
       "</pre>\n"
      ],
      "text/plain": [
       "Average reward over last 5000 steps: 3.27\n"
      ]
     },
     "metadata": {},
     "output_type": "display_data"
    },
    {
     "data": {
      "text/html": [
       "<pre style=\"white-space:pre;overflow-x:auto;line-height:normal;font-family:Menlo,'DejaVu Sans Mono',consolas,'Courier New',monospace\">Average reward over last 5000 steps: 3.16\n",
       "</pre>\n"
      ],
      "text/plain": [
       "Average reward over last 5000 steps: 3.16\n"
      ]
     },
     "metadata": {},
     "output_type": "display_data"
    },
    {
     "data": {
      "text/html": [
       "<pre style=\"white-space:pre;overflow-x:auto;line-height:normal;font-family:Menlo,'DejaVu Sans Mono',consolas,'Courier New',monospace\">Average reward over last 5000 steps: 3.26\n",
       "</pre>\n"
      ],
      "text/plain": [
       "Average reward over last 5000 steps: 3.26\n"
      ]
     },
     "metadata": {},
     "output_type": "display_data"
    },
    {
     "data": {
      "text/html": [
       "<pre style=\"white-space:pre;overflow-x:auto;line-height:normal;font-family:Menlo,'DejaVu Sans Mono',consolas,'Courier New',monospace\">Average reward over last 5000 steps: 3.23\n",
       "</pre>\n"
      ],
      "text/plain": [
       "Average reward over last 5000 steps: 3.23\n"
      ]
     },
     "metadata": {},
     "output_type": "display_data"
    },
    {
     "data": {
      "text/html": [
       "<pre style=\"white-space:pre;overflow-x:auto;line-height:normal;font-family:Menlo,'DejaVu Sans Mono',consolas,'Courier New',monospace\">Average reward over last 5000 steps: 3.44\n",
       "</pre>\n"
      ],
      "text/plain": [
       "Average reward over last 5000 steps: 3.44\n"
      ]
     },
     "metadata": {},
     "output_type": "display_data"
    },
    {
     "data": {
      "text/html": [
       "<pre style=\"white-space:pre;overflow-x:auto;line-height:normal;font-family:Menlo,'DejaVu Sans Mono',consolas,'Courier New',monospace\">Average reward over last 5000 steps: 3.43\n",
       "</pre>\n"
      ],
      "text/plain": [
       "Average reward over last 5000 steps: 3.43\n"
      ]
     },
     "metadata": {},
     "output_type": "display_data"
    },
    {
     "data": {
      "text/html": [
       "<pre style=\"white-space:pre;overflow-x:auto;line-height:normal;font-family:Menlo,'DejaVu Sans Mono',consolas,'Courier New',monospace\">Average reward over last 5000 steps: 3.40\n",
       "</pre>\n"
      ],
      "text/plain": [
       "Average reward over last 5000 steps: 3.40\n"
      ]
     },
     "metadata": {},
     "output_type": "display_data"
    },
    {
     "data": {
      "text/html": [
       "<pre style=\"white-space:pre;overflow-x:auto;line-height:normal;font-family:Menlo,'DejaVu Sans Mono',consolas,'Courier New',monospace\">Average reward over last 5000 steps: 3.61\n",
       "</pre>\n"
      ],
      "text/plain": [
       "Average reward over last 5000 steps: 3.61\n"
      ]
     },
     "metadata": {},
     "output_type": "display_data"
    },
    {
     "data": {
      "text/html": [
       "<pre style=\"white-space:pre;overflow-x:auto;line-height:normal;font-family:Menlo,'DejaVu Sans Mono',consolas,'Courier New',monospace\">Average reward over last 5000 steps: 3.15\n",
       "</pre>\n"
      ],
      "text/plain": [
       "Average reward over last 5000 steps: 3.15\n"
      ]
     },
     "metadata": {},
     "output_type": "display_data"
    },
    {
     "data": {
      "text/html": [
       "<pre style=\"white-space:pre;overflow-x:auto;line-height:normal;font-family:Menlo,'DejaVu Sans Mono',consolas,'Courier New',monospace\">Average reward over last 5000 steps: 3.10\n",
       "</pre>\n"
      ],
      "text/plain": [
       "Average reward over last 5000 steps: 3.10\n"
      ]
     },
     "metadata": {},
     "output_type": "display_data"
    },
    {
     "data": {
      "text/html": [
       "<pre style=\"white-space:pre;overflow-x:auto;line-height:normal;font-family:Menlo,'DejaVu Sans Mono',consolas,'Courier New',monospace\">Average reward over last 5000 steps: 3.54\n",
       "</pre>\n"
      ],
      "text/plain": [
       "Average reward over last 5000 steps: 3.54\n"
      ]
     },
     "metadata": {},
     "output_type": "display_data"
    },
    {
     "data": {
      "text/html": [
       "<pre style=\"white-space:pre;overflow-x:auto;line-height:normal;font-family:Menlo,'DejaVu Sans Mono',consolas,'Courier New',monospace\">Average reward over last 5000 steps: 3.37\n",
       "</pre>\n"
      ],
      "text/plain": [
       "Average reward over last 5000 steps: 3.37\n"
      ]
     },
     "metadata": {},
     "output_type": "display_data"
    },
    {
     "data": {
      "text/html": [
       "<pre style=\"white-space:pre;overflow-x:auto;line-height:normal;font-family:Menlo,'DejaVu Sans Mono',consolas,'Courier New',monospace\">Average reward over last 5000 steps: 3.57\n",
       "</pre>\n"
      ],
      "text/plain": [
       "Average reward over last 5000 steps: 3.57\n"
      ]
     },
     "metadata": {},
     "output_type": "display_data"
    },
    {
     "data": {
      "text/html": [
       "<pre style=\"white-space:pre;overflow-x:auto;line-height:normal;font-family:Menlo,'DejaVu Sans Mono',consolas,'Courier New',monospace\">Average reward over last 5000 steps: 3.36\n",
       "</pre>\n"
      ],
      "text/plain": [
       "Average reward over last 5000 steps: 3.36\n"
      ]
     },
     "metadata": {},
     "output_type": "display_data"
    },
    {
     "data": {
      "text/html": [
       "<pre style=\"white-space:pre;overflow-x:auto;line-height:normal;font-family:Menlo,'DejaVu Sans Mono',consolas,'Courier New',monospace\">Average reward over last 5000 steps: 3.41\n",
       "</pre>\n"
      ],
      "text/plain": [
       "Average reward over last 5000 steps: 3.41\n"
      ]
     },
     "metadata": {},
     "output_type": "display_data"
    },
    {
     "data": {
      "text/html": [
       "<pre style=\"white-space:pre;overflow-x:auto;line-height:normal;font-family:Menlo,'DejaVu Sans Mono',consolas,'Courier New',monospace\">Average reward over last 5000 steps: 3.08\n",
       "</pre>\n"
      ],
      "text/plain": [
       "Average reward over last 5000 steps: 3.08\n"
      ]
     },
     "metadata": {},
     "output_type": "display_data"
    },
    {
     "data": {
      "text/html": [
       "<pre style=\"white-space:pre;overflow-x:auto;line-height:normal;font-family:Menlo,'DejaVu Sans Mono',consolas,'Courier New',monospace\">Average reward over last 5000 steps: 3.06\n",
       "</pre>\n"
      ],
      "text/plain": [
       "Average reward over last 5000 steps: 3.06\n"
      ]
     },
     "metadata": {},
     "output_type": "display_data"
    },
    {
     "data": {
      "text/html": [
       "<pre style=\"white-space:pre;overflow-x:auto;line-height:normal;font-family:Menlo,'DejaVu Sans Mono',consolas,'Courier New',monospace\">Average reward over last 5000 steps: 3.23\n",
       "</pre>\n"
      ],
      "text/plain": [
       "Average reward over last 5000 steps: 3.23\n"
      ]
     },
     "metadata": {},
     "output_type": "display_data"
    },
    {
     "data": {
      "text/html": [
       "<pre style=\"white-space:pre;overflow-x:auto;line-height:normal;font-family:Menlo,'DejaVu Sans Mono',consolas,'Courier New',monospace\">Average reward over last 5000 steps: 3.42\n",
       "</pre>\n"
      ],
      "text/plain": [
       "Average reward over last 5000 steps: 3.42\n"
      ]
     },
     "metadata": {},
     "output_type": "display_data"
    },
    {
     "data": {
      "text/html": [
       "<pre style=\"white-space:pre;overflow-x:auto;line-height:normal;font-family:Menlo,'DejaVu Sans Mono',consolas,'Courier New',monospace\">Average reward over last 5000 steps: 3.12\n",
       "</pre>\n"
      ],
      "text/plain": [
       "Average reward over last 5000 steps: 3.12\n"
      ]
     },
     "metadata": {},
     "output_type": "display_data"
    },
    {
     "data": {
      "text/html": [
       "<pre style=\"white-space:pre;overflow-x:auto;line-height:normal;font-family:Menlo,'DejaVu Sans Mono',consolas,'Courier New',monospace\">Average reward over last 5000 steps: 3.07\n",
       "</pre>\n"
      ],
      "text/plain": [
       "Average reward over last 5000 steps: 3.07\n"
      ]
     },
     "metadata": {},
     "output_type": "display_data"
    },
    {
     "data": {
      "text/html": [
       "<pre style=\"white-space:pre;overflow-x:auto;line-height:normal;font-family:Menlo,'DejaVu Sans Mono',consolas,'Courier New',monospace\">Average reward over last 5000 steps: 3.36\n",
       "</pre>\n"
      ],
      "text/plain": [
       "Average reward over last 5000 steps: 3.36\n"
      ]
     },
     "metadata": {},
     "output_type": "display_data"
    },
    {
     "data": {
      "text/html": [
       "<pre style=\"white-space:pre;overflow-x:auto;line-height:normal;font-family:Menlo,'DejaVu Sans Mono',consolas,'Courier New',monospace\">Average reward over last 5000 steps: 3.16\n",
       "</pre>\n"
      ],
      "text/plain": [
       "Average reward over last 5000 steps: 3.16\n"
      ]
     },
     "metadata": {},
     "output_type": "display_data"
    },
    {
     "data": {
      "text/html": [
       "<pre style=\"white-space:pre;overflow-x:auto;line-height:normal;font-family:Menlo,'DejaVu Sans Mono',consolas,'Courier New',monospace\">Average reward over last 5000 steps: 3.16\n",
       "</pre>\n"
      ],
      "text/plain": [
       "Average reward over last 5000 steps: 3.16\n"
      ]
     },
     "metadata": {},
     "output_type": "display_data"
    },
    {
     "data": {
      "text/html": [
       "<pre style=\"white-space:pre;overflow-x:auto;line-height:normal;font-family:Menlo,'DejaVu Sans Mono',consolas,'Courier New',monospace\">Average reward over last 5000 steps: 3.44\n",
       "</pre>\n"
      ],
      "text/plain": [
       "Average reward over last 5000 steps: 3.44\n"
      ]
     },
     "metadata": {},
     "output_type": "display_data"
    },
    {
     "data": {
      "text/html": [
       "<pre style=\"white-space:pre;overflow-x:auto;line-height:normal;font-family:Menlo,'DejaVu Sans Mono',consolas,'Courier New',monospace\">Average reward over last 5000 steps: 3.20\n",
       "</pre>\n"
      ],
      "text/plain": [
       "Average reward over last 5000 steps: 3.20\n"
      ]
     },
     "metadata": {},
     "output_type": "display_data"
    },
    {
     "data": {
      "text/html": [
       "<pre style=\"white-space:pre;overflow-x:auto;line-height:normal;font-family:Menlo,'DejaVu Sans Mono',consolas,'Courier New',monospace\">Average reward over last 5000 steps: 3.36\n",
       "</pre>\n"
      ],
      "text/plain": [
       "Average reward over last 5000 steps: 3.36\n"
      ]
     },
     "metadata": {},
     "output_type": "display_data"
    },
    {
     "data": {
      "text/html": [
       "<pre style=\"white-space:pre;overflow-x:auto;line-height:normal;font-family:Menlo,'DejaVu Sans Mono',consolas,'Courier New',monospace\">Average reward over last 5000 steps: 3.06\n",
       "</pre>\n"
      ],
      "text/plain": [
       "Average reward over last 5000 steps: 3.06\n"
      ]
     },
     "metadata": {},
     "output_type": "display_data"
    },
    {
     "data": {
      "text/html": [
       "<pre style=\"white-space:pre;overflow-x:auto;line-height:normal;font-family:Menlo,'DejaVu Sans Mono',consolas,'Courier New',monospace\">Average reward over last 5000 steps: 3.04\n",
       "</pre>\n"
      ],
      "text/plain": [
       "Average reward over last 5000 steps: 3.04\n"
      ]
     },
     "metadata": {},
     "output_type": "display_data"
    },
    {
     "data": {
      "text/html": [
       "<pre style=\"white-space:pre;overflow-x:auto;line-height:normal;font-family:Menlo,'DejaVu Sans Mono',consolas,'Courier New',monospace\">Average reward over last 5000 steps: 3.53\n",
       "</pre>\n"
      ],
      "text/plain": [
       "Average reward over last 5000 steps: 3.53\n"
      ]
     },
     "metadata": {},
     "output_type": "display_data"
    },
    {
     "data": {
      "text/html": [
       "<pre style=\"white-space:pre;overflow-x:auto;line-height:normal;font-family:Menlo,'DejaVu Sans Mono',consolas,'Courier New',monospace\">Average reward over last 5000 steps: 3.50\n",
       "</pre>\n"
      ],
      "text/plain": [
       "Average reward over last 5000 steps: 3.50\n"
      ]
     },
     "metadata": {},
     "output_type": "display_data"
    },
    {
     "data": {
      "text/html": [
       "<pre style=\"white-space:pre;overflow-x:auto;line-height:normal;font-family:Menlo,'DejaVu Sans Mono',consolas,'Courier New',monospace\">Average reward over last 5000 steps: 3.35\n",
       "</pre>\n"
      ],
      "text/plain": [
       "Average reward over last 5000 steps: 3.35\n"
      ]
     },
     "metadata": {},
     "output_type": "display_data"
    },
    {
     "data": {
      "text/html": [
       "<pre style=\"white-space:pre;overflow-x:auto;line-height:normal;font-family:Menlo,'DejaVu Sans Mono',consolas,'Courier New',monospace\">Average reward over last 5000 steps: 3.11\n",
       "</pre>\n"
      ],
      "text/plain": [
       "Average reward over last 5000 steps: 3.11\n"
      ]
     },
     "metadata": {},
     "output_type": "display_data"
    },
    {
     "data": {
      "text/html": [
       "<pre style=\"white-space:pre;overflow-x:auto;line-height:normal;font-family:Menlo,'DejaVu Sans Mono',consolas,'Courier New',monospace\">Average reward over last 5000 steps: 3.93\n",
       "</pre>\n"
      ],
      "text/plain": [
       "Average reward over last 5000 steps: 3.93\n"
      ]
     },
     "metadata": {},
     "output_type": "display_data"
    },
    {
     "data": {
      "text/html": [
       "<pre style=\"white-space:pre;overflow-x:auto;line-height:normal;font-family:Menlo,'DejaVu Sans Mono',consolas,'Courier New',monospace\">Average reward over last 5000 steps: 3.62\n",
       "</pre>\n"
      ],
      "text/plain": [
       "Average reward over last 5000 steps: 3.62\n"
      ]
     },
     "metadata": {},
     "output_type": "display_data"
    },
    {
     "data": {
      "text/html": [
       "<pre style=\"white-space:pre;overflow-x:auto;line-height:normal;font-family:Menlo,'DejaVu Sans Mono',consolas,'Courier New',monospace\">Average reward over last 5000 steps: 3.70\n",
       "</pre>\n"
      ],
      "text/plain": [
       "Average reward over last 5000 steps: 3.70\n"
      ]
     },
     "metadata": {},
     "output_type": "display_data"
    },
    {
     "data": {
      "text/html": [
       "<pre style=\"white-space:pre;overflow-x:auto;line-height:normal;font-family:Menlo,'DejaVu Sans Mono',consolas,'Courier New',monospace\">Average reward over last 5000 steps: 3.37\n",
       "</pre>\n"
      ],
      "text/plain": [
       "Average reward over last 5000 steps: 3.37\n"
      ]
     },
     "metadata": {},
     "output_type": "display_data"
    },
    {
     "data": {
      "text/html": [
       "<pre style=\"white-space:pre;overflow-x:auto;line-height:normal;font-family:Menlo,'DejaVu Sans Mono',consolas,'Courier New',monospace\">Average reward over last 5000 steps: 3.40\n",
       "</pre>\n"
      ],
      "text/plain": [
       "Average reward over last 5000 steps: 3.40\n"
      ]
     },
     "metadata": {},
     "output_type": "display_data"
    },
    {
     "data": {
      "text/html": [
       "<pre style=\"white-space:pre;overflow-x:auto;line-height:normal;font-family:Menlo,'DejaVu Sans Mono',consolas,'Courier New',monospace\">Average reward over last 5000 steps: 3.72\n",
       "</pre>\n"
      ],
      "text/plain": [
       "Average reward over last 5000 steps: 3.72\n"
      ]
     },
     "metadata": {},
     "output_type": "display_data"
    },
    {
     "data": {
      "text/html": [
       "<pre style=\"white-space:pre;overflow-x:auto;line-height:normal;font-family:Menlo,'DejaVu Sans Mono',consolas,'Courier New',monospace\">Average reward over last 5000 steps: 3.06\n",
       "</pre>\n"
      ],
      "text/plain": [
       "Average reward over last 5000 steps: 3.06\n"
      ]
     },
     "metadata": {},
     "output_type": "display_data"
    },
    {
     "data": {
      "text/html": [
       "<pre style=\"white-space:pre;overflow-x:auto;line-height:normal;font-family:Menlo,'DejaVu Sans Mono',consolas,'Courier New',monospace\">Average reward over last 5000 steps: 2.87\n",
       "</pre>\n"
      ],
      "text/plain": [
       "Average reward over last 5000 steps: 2.87\n"
      ]
     },
     "metadata": {},
     "output_type": "display_data"
    },
    {
     "data": {
      "text/html": [
       "<pre style=\"white-space:pre;overflow-x:auto;line-height:normal;font-family:Menlo,'DejaVu Sans Mono',consolas,'Courier New',monospace\">Average reward over last 5000 steps: 3.20\n",
       "</pre>\n"
      ],
      "text/plain": [
       "Average reward over last 5000 steps: 3.20\n"
      ]
     },
     "metadata": {},
     "output_type": "display_data"
    },
    {
     "data": {
      "text/html": [
       "<pre style=\"white-space:pre;overflow-x:auto;line-height:normal;font-family:Menlo,'DejaVu Sans Mono',consolas,'Courier New',monospace\">Average reward over last 5000 steps: 3.16\n",
       "</pre>\n"
      ],
      "text/plain": [
       "Average reward over last 5000 steps: 3.16\n"
      ]
     },
     "metadata": {},
     "output_type": "display_data"
    },
    {
     "data": {
      "text/html": [
       "<pre style=\"white-space:pre;overflow-x:auto;line-height:normal;font-family:Menlo,'DejaVu Sans Mono',consolas,'Courier New',monospace\">Average reward over last 5000 steps: 3.09\n",
       "</pre>\n"
      ],
      "text/plain": [
       "Average reward over last 5000 steps: 3.09\n"
      ]
     },
     "metadata": {},
     "output_type": "display_data"
    },
    {
     "data": {
      "text/html": [
       "<pre style=\"white-space:pre;overflow-x:auto;line-height:normal;font-family:Menlo,'DejaVu Sans Mono',consolas,'Courier New',monospace\">Average reward over last 5000 steps: 3.44\n",
       "</pre>\n"
      ],
      "text/plain": [
       "Average reward over last 5000 steps: 3.44\n"
      ]
     },
     "metadata": {},
     "output_type": "display_data"
    },
    {
     "data": {
      "text/html": [
       "<pre style=\"white-space:pre;overflow-x:auto;line-height:normal;font-family:Menlo,'DejaVu Sans Mono',consolas,'Courier New',monospace\">Average reward over last 5000 steps: 3.44\n",
       "</pre>\n"
      ],
      "text/plain": [
       "Average reward over last 5000 steps: 3.44\n"
      ]
     },
     "metadata": {},
     "output_type": "display_data"
    },
    {
     "data": {
      "text/html": [
       "<pre style=\"white-space:pre;overflow-x:auto;line-height:normal;font-family:Menlo,'DejaVu Sans Mono',consolas,'Courier New',monospace\">Average reward over last 5000 steps: 2.77\n",
       "</pre>\n"
      ],
      "text/plain": [
       "Average reward over last 5000 steps: 2.77\n"
      ]
     },
     "metadata": {},
     "output_type": "display_data"
    },
    {
     "data": {
      "text/html": [
       "<pre style=\"white-space:pre;overflow-x:auto;line-height:normal;font-family:Menlo,'DejaVu Sans Mono',consolas,'Courier New',monospace\">Average reward over last 5000 steps: 3.30\n",
       "</pre>\n"
      ],
      "text/plain": [
       "Average reward over last 5000 steps: 3.30\n"
      ]
     },
     "metadata": {},
     "output_type": "display_data"
    },
    {
     "data": {
      "text/html": [
       "<pre style=\"white-space:pre;overflow-x:auto;line-height:normal;font-family:Menlo,'DejaVu Sans Mono',consolas,'Courier New',monospace\">Average reward over last 5000 steps: 2.72\n",
       "</pre>\n"
      ],
      "text/plain": [
       "Average reward over last 5000 steps: 2.72\n"
      ]
     },
     "metadata": {},
     "output_type": "display_data"
    },
    {
     "data": {
      "text/html": [
       "<pre style=\"white-space:pre;overflow-x:auto;line-height:normal;font-family:Menlo,'DejaVu Sans Mono',consolas,'Courier New',monospace\">Average reward over last 5000 steps: 3.44\n",
       "</pre>\n"
      ],
      "text/plain": [
       "Average reward over last 5000 steps: 3.44\n"
      ]
     },
     "metadata": {},
     "output_type": "display_data"
    },
    {
     "data": {
      "text/html": [
       "<pre style=\"white-space:pre;overflow-x:auto;line-height:normal;font-family:Menlo,'DejaVu Sans Mono',consolas,'Courier New',monospace\">Average reward over last 5000 steps: 3.07\n",
       "</pre>\n"
      ],
      "text/plain": [
       "Average reward over last 5000 steps: 3.07\n"
      ]
     },
     "metadata": {},
     "output_type": "display_data"
    },
    {
     "data": {
      "text/html": [
       "<pre style=\"white-space:pre;overflow-x:auto;line-height:normal;font-family:Menlo,'DejaVu Sans Mono',consolas,'Courier New',monospace\">Average reward over last 5000 steps: 3.56\n",
       "</pre>\n"
      ],
      "text/plain": [
       "Average reward over last 5000 steps: 3.56\n"
      ]
     },
     "metadata": {},
     "output_type": "display_data"
    },
    {
     "data": {
      "text/html": [
       "<pre style=\"white-space:pre;overflow-x:auto;line-height:normal;font-family:Menlo,'DejaVu Sans Mono',consolas,'Courier New',monospace\">Average reward over last 5000 steps: 3.34\n",
       "</pre>\n"
      ],
      "text/plain": [
       "Average reward over last 5000 steps: 3.34\n"
      ]
     },
     "metadata": {},
     "output_type": "display_data"
    },
    {
     "data": {
      "text/html": [
       "<pre style=\"white-space:pre;overflow-x:auto;line-height:normal;font-family:Menlo,'DejaVu Sans Mono',consolas,'Courier New',monospace\">Average reward over last 5000 steps: 3.05\n",
       "</pre>\n"
      ],
      "text/plain": [
       "Average reward over last 5000 steps: 3.05\n"
      ]
     },
     "metadata": {},
     "output_type": "display_data"
    },
    {
     "data": {
      "text/html": [
       "<pre style=\"white-space:pre;overflow-x:auto;line-height:normal;font-family:Menlo,'DejaVu Sans Mono',consolas,'Courier New',monospace\">Average reward over last 5000 steps: 3.17\n",
       "</pre>\n"
      ],
      "text/plain": [
       "Average reward over last 5000 steps: 3.17\n"
      ]
     },
     "metadata": {},
     "output_type": "display_data"
    },
    {
     "data": {
      "text/html": [
       "<pre style=\"white-space:pre;overflow-x:auto;line-height:normal;font-family:Menlo,'DejaVu Sans Mono',consolas,'Courier New',monospace\">Average reward over last 5000 steps: 3.39\n",
       "</pre>\n"
      ],
      "text/plain": [
       "Average reward over last 5000 steps: 3.39\n"
      ]
     },
     "metadata": {},
     "output_type": "display_data"
    },
    {
     "data": {
      "text/html": [
       "<pre style=\"white-space:pre;overflow-x:auto;line-height:normal;font-family:Menlo,'DejaVu Sans Mono',consolas,'Courier New',monospace\">Average reward over last 5000 steps: 2.87\n",
       "</pre>\n"
      ],
      "text/plain": [
       "Average reward over last 5000 steps: 2.87\n"
      ]
     },
     "metadata": {},
     "output_type": "display_data"
    },
    {
     "data": {
      "text/html": [
       "<pre style=\"white-space:pre;overflow-x:auto;line-height:normal;font-family:Menlo,'DejaVu Sans Mono',consolas,'Courier New',monospace\">Average reward over last 5000 steps: 3.11\n",
       "</pre>\n"
      ],
      "text/plain": [
       "Average reward over last 5000 steps: 3.11\n"
      ]
     },
     "metadata": {},
     "output_type": "display_data"
    },
    {
     "data": {
      "text/html": [
       "<pre style=\"white-space:pre;overflow-x:auto;line-height:normal;font-family:Menlo,'DejaVu Sans Mono',consolas,'Courier New',monospace\">Average reward over last 5000 steps: 2.94\n",
       "</pre>\n"
      ],
      "text/plain": [
       "Average reward over last 5000 steps: 2.94\n"
      ]
     },
     "metadata": {},
     "output_type": "display_data"
    },
    {
     "data": {
      "text/html": [
       "<pre style=\"white-space:pre;overflow-x:auto;line-height:normal;font-family:Menlo,'DejaVu Sans Mono',consolas,'Courier New',monospace\">Average reward over last 5000 steps: 3.25\n",
       "</pre>\n"
      ],
      "text/plain": [
       "Average reward over last 5000 steps: 3.25\n"
      ]
     },
     "metadata": {},
     "output_type": "display_data"
    },
    {
     "data": {
      "text/html": [
       "<pre style=\"white-space:pre;overflow-x:auto;line-height:normal;font-family:Menlo,'DejaVu Sans Mono',consolas,'Courier New',monospace\">Average reward over last 5000 steps: 3.22\n",
       "</pre>\n"
      ],
      "text/plain": [
       "Average reward over last 5000 steps: 3.22\n"
      ]
     },
     "metadata": {},
     "output_type": "display_data"
    },
    {
     "data": {
      "text/html": [
       "<pre style=\"white-space:pre;overflow-x:auto;line-height:normal;font-family:Menlo,'DejaVu Sans Mono',consolas,'Courier New',monospace\">Average reward over last 5000 steps: 2.89\n",
       "</pre>\n"
      ],
      "text/plain": [
       "Average reward over last 5000 steps: 2.89\n"
      ]
     },
     "metadata": {},
     "output_type": "display_data"
    },
    {
     "data": {
      "text/html": [
       "<pre style=\"white-space:pre;overflow-x:auto;line-height:normal;font-family:Menlo,'DejaVu Sans Mono',consolas,'Courier New',monospace\">Average reward over last 5000 steps: 2.90\n",
       "</pre>\n"
      ],
      "text/plain": [
       "Average reward over last 5000 steps: 2.90\n"
      ]
     },
     "metadata": {},
     "output_type": "display_data"
    },
    {
     "data": {
      "text/html": [
       "<pre style=\"white-space:pre;overflow-x:auto;line-height:normal;font-family:Menlo,'DejaVu Sans Mono',consolas,'Courier New',monospace\">Average reward over last 5000 steps: 2.73\n",
       "</pre>\n"
      ],
      "text/plain": [
       "Average reward over last 5000 steps: 2.73\n"
      ]
     },
     "metadata": {},
     "output_type": "display_data"
    },
    {
     "data": {
      "text/html": [
       "<pre style=\"white-space:pre;overflow-x:auto;line-height:normal;font-family:Menlo,'DejaVu Sans Mono',consolas,'Courier New',monospace\">Average reward over last 5000 steps: 3.06\n",
       "</pre>\n"
      ],
      "text/plain": [
       "Average reward over last 5000 steps: 3.06\n"
      ]
     },
     "metadata": {},
     "output_type": "display_data"
    },
    {
     "data": {
      "text/html": [
       "<pre style=\"white-space:pre;overflow-x:auto;line-height:normal;font-family:Menlo,'DejaVu Sans Mono',consolas,'Courier New',monospace\">Average reward over last 5000 steps: 3.09\n",
       "</pre>\n"
      ],
      "text/plain": [
       "Average reward over last 5000 steps: 3.09\n"
      ]
     },
     "metadata": {},
     "output_type": "display_data"
    },
    {
     "data": {
      "text/html": [
       "<pre style=\"white-space:pre;overflow-x:auto;line-height:normal;font-family:Menlo,'DejaVu Sans Mono',consolas,'Courier New',monospace\">Average reward over last 5000 steps: 3.30\n",
       "</pre>\n"
      ],
      "text/plain": [
       "Average reward over last 5000 steps: 3.30\n"
      ]
     },
     "metadata": {},
     "output_type": "display_data"
    },
    {
     "data": {
      "text/html": [
       "<pre style=\"white-space:pre;overflow-x:auto;line-height:normal;font-family:Menlo,'DejaVu Sans Mono',consolas,'Courier New',monospace\">Average reward over last 5000 steps: 3.60\n",
       "</pre>\n"
      ],
      "text/plain": [
       "Average reward over last 5000 steps: 3.60\n"
      ]
     },
     "metadata": {},
     "output_type": "display_data"
    },
    {
     "data": {
      "text/html": [
       "<pre style=\"white-space:pre;overflow-x:auto;line-height:normal;font-family:Menlo,'DejaVu Sans Mono',consolas,'Courier New',monospace\">Average reward over last 5000 steps: 2.94\n",
       "</pre>\n"
      ],
      "text/plain": [
       "Average reward over last 5000 steps: 2.94\n"
      ]
     },
     "metadata": {},
     "output_type": "display_data"
    },
    {
     "data": {
      "text/html": [
       "<pre style=\"white-space:pre;overflow-x:auto;line-height:normal;font-family:Menlo,'DejaVu Sans Mono',consolas,'Courier New',monospace\">Average reward over last 5000 steps: 3.29\n",
       "</pre>\n"
      ],
      "text/plain": [
       "Average reward over last 5000 steps: 3.29\n"
      ]
     },
     "metadata": {},
     "output_type": "display_data"
    },
    {
     "data": {
      "text/html": [
       "<pre style=\"white-space:pre;overflow-x:auto;line-height:normal;font-family:Menlo,'DejaVu Sans Mono',consolas,'Courier New',monospace\">Average reward over last 5000 steps: 3.72\n",
       "</pre>\n"
      ],
      "text/plain": [
       "Average reward over last 5000 steps: 3.72\n"
      ]
     },
     "metadata": {},
     "output_type": "display_data"
    },
    {
     "data": {
      "text/html": [
       "<pre style=\"white-space:pre;overflow-x:auto;line-height:normal;font-family:Menlo,'DejaVu Sans Mono',consolas,'Courier New',monospace\">Average reward over last 5000 steps: 3.28\n",
       "</pre>\n"
      ],
      "text/plain": [
       "Average reward over last 5000 steps: 3.28\n"
      ]
     },
     "metadata": {},
     "output_type": "display_data"
    },
    {
     "data": {
      "text/html": [
       "<pre style=\"white-space:pre;overflow-x:auto;line-height:normal;font-family:Menlo,'DejaVu Sans Mono',consolas,'Courier New',monospace\">Average reward over last 5000 steps: 3.72\n",
       "</pre>\n"
      ],
      "text/plain": [
       "Average reward over last 5000 steps: 3.72\n"
      ]
     },
     "metadata": {},
     "output_type": "display_data"
    },
    {
     "data": {
      "text/html": [
       "<pre style=\"white-space:pre;overflow-x:auto;line-height:normal;font-family:Menlo,'DejaVu Sans Mono',consolas,'Courier New',monospace\">Average reward over last 5000 steps: 3.36\n",
       "</pre>\n"
      ],
      "text/plain": [
       "Average reward over last 5000 steps: 3.36\n"
      ]
     },
     "metadata": {},
     "output_type": "display_data"
    },
    {
     "data": {
      "text/html": [
       "<pre style=\"white-space:pre;overflow-x:auto;line-height:normal;font-family:Menlo,'DejaVu Sans Mono',consolas,'Courier New',monospace\">Average reward over last 5000 steps: 3.32\n",
       "</pre>\n"
      ],
      "text/plain": [
       "Average reward over last 5000 steps: 3.32\n"
      ]
     },
     "metadata": {},
     "output_type": "display_data"
    },
    {
     "data": {
      "text/html": [
       "<pre style=\"white-space:pre;overflow-x:auto;line-height:normal;font-family:Menlo,'DejaVu Sans Mono',consolas,'Courier New',monospace\">Average reward over last 5000 steps: 3.57\n",
       "</pre>\n"
      ],
      "text/plain": [
       "Average reward over last 5000 steps: 3.57\n"
      ]
     },
     "metadata": {},
     "output_type": "display_data"
    },
    {
     "data": {
      "text/html": [
       "<pre style=\"white-space:pre;overflow-x:auto;line-height:normal;font-family:Menlo,'DejaVu Sans Mono',consolas,'Courier New',monospace\">Average reward over last 5000 steps: 3.43\n",
       "</pre>\n"
      ],
      "text/plain": [
       "Average reward over last 5000 steps: 3.43\n"
      ]
     },
     "metadata": {},
     "output_type": "display_data"
    },
    {
     "data": {
      "text/html": [
       "<pre style=\"white-space:pre;overflow-x:auto;line-height:normal;font-family:Menlo,'DejaVu Sans Mono',consolas,'Courier New',monospace\">Average reward over last 5000 steps: 3.33\n",
       "</pre>\n"
      ],
      "text/plain": [
       "Average reward over last 5000 steps: 3.33\n"
      ]
     },
     "metadata": {},
     "output_type": "display_data"
    },
    {
     "data": {
      "text/html": [
       "<pre style=\"white-space:pre;overflow-x:auto;line-height:normal;font-family:Menlo,'DejaVu Sans Mono',consolas,'Courier New',monospace\">Average reward over last 5000 steps: 3.22\n",
       "</pre>\n"
      ],
      "text/plain": [
       "Average reward over last 5000 steps: 3.22\n"
      ]
     },
     "metadata": {},
     "output_type": "display_data"
    },
    {
     "data": {
      "text/html": [
       "<pre style=\"white-space:pre;overflow-x:auto;line-height:normal;font-family:Menlo,'DejaVu Sans Mono',consolas,'Courier New',monospace\">Average reward over last 5000 steps: 3.25\n",
       "</pre>\n"
      ],
      "text/plain": [
       "Average reward over last 5000 steps: 3.25\n"
      ]
     },
     "metadata": {},
     "output_type": "display_data"
    },
    {
     "data": {
      "text/html": [
       "<pre style=\"white-space:pre;overflow-x:auto;line-height:normal;font-family:Menlo,'DejaVu Sans Mono',consolas,'Courier New',monospace\">Average reward over last 5000 steps: 3.56\n",
       "</pre>\n"
      ],
      "text/plain": [
       "Average reward over last 5000 steps: 3.56\n"
      ]
     },
     "metadata": {},
     "output_type": "display_data"
    },
    {
     "data": {
      "text/html": [
       "<pre style=\"white-space:pre;overflow-x:auto;line-height:normal;font-family:Menlo,'DejaVu Sans Mono',consolas,'Courier New',monospace\">Average reward over last 5000 steps: 3.04\n",
       "</pre>\n"
      ],
      "text/plain": [
       "Average reward over last 5000 steps: 3.04\n"
      ]
     },
     "metadata": {},
     "output_type": "display_data"
    },
    {
     "data": {
      "text/html": [
       "<pre style=\"white-space:pre;overflow-x:auto;line-height:normal;font-family:Menlo,'DejaVu Sans Mono',consolas,'Courier New',monospace\">Average reward over last 5000 steps: 3.44\n",
       "</pre>\n"
      ],
      "text/plain": [
       "Average reward over last 5000 steps: 3.44\n"
      ]
     },
     "metadata": {},
     "output_type": "display_data"
    },
    {
     "data": {
      "text/html": [
       "<pre style=\"white-space:pre;overflow-x:auto;line-height:normal;font-family:Menlo,'DejaVu Sans Mono',consolas,'Courier New',monospace\">Average reward over last 5000 steps: 3.23\n",
       "</pre>\n"
      ],
      "text/plain": [
       "Average reward over last 5000 steps: 3.23\n"
      ]
     },
     "metadata": {},
     "output_type": "display_data"
    },
    {
     "data": {
      "text/html": [
       "<pre style=\"white-space:pre;overflow-x:auto;line-height:normal;font-family:Menlo,'DejaVu Sans Mono',consolas,'Courier New',monospace\">Average reward over last 5000 steps: 3.29\n",
       "</pre>\n"
      ],
      "text/plain": [
       "Average reward over last 5000 steps: 3.29\n"
      ]
     },
     "metadata": {},
     "output_type": "display_data"
    },
    {
     "data": {
      "text/html": [
       "<pre style=\"white-space:pre;overflow-x:auto;line-height:normal;font-family:Menlo,'DejaVu Sans Mono',consolas,'Courier New',monospace\"></pre>\n"
      ],
      "text/plain": []
     },
     "metadata": {},
     "output_type": "display_data"
    },
    {
     "data": {
      "text/html": [
       "<pre style=\"white-space:pre;overflow-x:auto;line-height:normal;font-family:Menlo,'DejaVu Sans Mono',consolas,'Courier New',monospace\">\n",
       "</pre>\n"
      ],
      "text/plain": [
       "\n"
      ]
     },
     "metadata": {},
     "output_type": "display_data"
    },
    {
     "data": {
      "text/plain": [
       "<sb3_contrib.ppo_recurrent.ppo_recurrent.RecurrentPPO at 0x7e8a254f2d00>"
      ]
     },
     "execution_count": 7,
     "metadata": {},
     "output_type": "execute_result"
    }
   ],
   "source": [
    "# Define additional timesteps for continued training\n",
    "additional_timesteps = 5_000_000  # Adjust as needed\n",
    "\n",
    "# Continue training\n",
    "model.learn(total_timesteps=additional_timesteps, callback=callback, progress_bar=True)\n",
    "\n",
    "# Save the continued model\n",
    "#model.save(\"hangman_model_continued\")\n",
    "#print(\"Model continued training and saved as hangman_model_continued.zip\")"
   ]
  },
  {
   "cell_type": "code",
   "execution_count": 8,
   "id": "c198a3e9-6668-49aa-a861-5abf4edfc5c5",
   "metadata": {},
   "outputs": [
    {
     "name": "stdout",
     "output_type": "stream",
     "text": [
      "47.20339\n"
     ]
    }
   ],
   "source": [
    "from stable_baselines3.common.evaluation import evaluate_policy\n",
    "\n",
    "vec_env = model.get_env()\n",
    "mean_reward, std_reward = evaluate_policy(model, vec_env, n_eval_episodes=20, warn=False)\n",
    "print(mean_reward)"
   ]
  },
  {
   "cell_type": "code",
   "execution_count": 27,
   "id": "637a7bd5-746c-40dc-a52b-b86a660a635d",
   "metadata": {},
   "outputs": [
    {
     "name": "stdout",
     "output_type": "stream",
     "text": [
      "Letter frequencies saved.\n"
     ]
    }
   ],
   "source": [
    "np.save(\"letter_frequencies.npy\", env.letter_frequencies)\n",
    "print(\"Letter frequencies saved.\")"
   ]
  },
  {
   "cell_type": "code",
   "execution_count": null,
   "id": "777ad8d3-da1a-4503-8a00-a21627be70e3",
   "metadata": {},
   "outputs": [],
   "source": []
  },
  {
   "cell_type": "code",
   "execution_count": null,
   "id": "4030d57d-0cdc-44a7-b6b4-16c487509e08",
   "metadata": {},
   "outputs": [],
   "source": []
  },
  {
   "cell_type": "code",
   "execution_count": null,
   "id": "ea4895b0-9030-4aac-9345-3094274898a6",
   "metadata": {},
   "outputs": [],
   "source": []
  },
  {
   "cell_type": "code",
   "execution_count": null,
   "id": "f5224f34-38e2-42e1-bbbc-7c3d9e00d443",
   "metadata": {},
   "outputs": [],
   "source": []
  },
  {
   "cell_type": "code",
   "execution_count": null,
   "id": "b791ec65-c9c6-40f6-9a91-db213dc4104c",
   "metadata": {},
   "outputs": [],
   "source": [
    "# Save the trained model\n",
    "# model.save(\"recurrent_ppo_hangman_stable_baselines\")"
   ]
  },
  {
   "cell_type": "code",
   "execution_count": 9,
   "id": "5f27a28a-0e4e-4ef0-888d-cf11e39e802c",
   "metadata": {},
   "outputs": [
    {
     "name": "stderr",
     "output_type": "stream",
     "text": [
      "100%|███████████████████████████████████████| 1000/1000 [02:51<00:00,  5.84it/s]"
     ]
    },
    {
     "name": "stdout",
     "output_type": "stream",
     "text": [
      "Agent won 152 out of 1000 games.\n",
      "Win percentage: 15.20%\n"
     ]
    },
    {
     "name": "stderr",
     "output_type": "stream",
     "text": [
      "\n"
     ]
    }
   ],
   "source": [
    "from tqdm import tqdm\n",
    "import numpy as np\n",
    "\n",
    "# Prepare the validation set\n",
    "validation_words = random.sample(word_list, min(1000, len(word_list)))\n",
    "#env = HangmanEnv(word_list=word_list, max_attempts=6, max_word_length=max_word_length)\n",
    "\n",
    "def evaluate_agent(model, env, validation_words):\n",
    "    wins = 0\n",
    "    total_games = len(validation_words)\n",
    "\n",
    "    for idx, word in enumerate(tqdm(validation_words)):\n",
    "        # Reset the environment with the validation word\n",
    "        obs, info = env.reset(word=word)\n",
    "        done = False\n",
    "\n",
    "        # Initialize the LSTM states\n",
    "        lstm_states = None  # (h, c)\n",
    "        episode_starts = True  # True at the beginning of each episode\n",
    "        step_counter = 0\n",
    "        max_steps_per_episode = 1000  # Set a reasonable limit\n",
    "\n",
    "        while not done and step_counter < max_steps_per_episode:\n",
    "            # Predict the action and update the LSTM states\n",
    "            action, lstm_states = model.predict(\n",
    "                obs,\n",
    "                state=lstm_states,\n",
    "                episode_start=np.array([episode_starts]),\n",
    "                deterministic=True\n",
    "            )\n",
    "            obs, reward, terminated, truncated, info = env.step(action)\n",
    "            done = terminated or truncated\n",
    "            episode_starts = done  # Reset LSTM states if episode is done\n",
    "            step_counter += 1\n",
    "\n",
    "        if step_counter >= max_steps_per_episode:\n",
    "            print(f\"Exceeded maximum steps for word '{word}'\")\n",
    "\n",
    "        # Check if the agent won\n",
    "        if env.remaining_attempts > 0:\n",
    "            wins += 1\n",
    "\n",
    "    win_percentage = (wins / total_games) * 100\n",
    "    print(f\"Agent won {wins} out of {total_games} games.\")\n",
    "    print(f\"Win percentage: {win_percentage:.2f}%\")\n",
    "\n",
    "# Evaluate the agent\n",
    "evaluate_agent(model, env, validation_words)"
   ]
  },
  {
   "cell_type": "code",
   "execution_count": null,
   "id": "bc11b472-7e88-4fd5-859f-2db9d927c95c",
   "metadata": {},
   "outputs": [],
   "source": []
  },
  {
   "cell_type": "code",
   "execution_count": 59,
   "id": "f9a10b27-9d3a-4032-8ce0-fb4bdc3ba7d5",
   "metadata": {},
   "outputs": [
    {
     "name": "stdout",
     "output_type": "stream",
     "text": [
      "nonpasserine\n",
      "Word to guess: nonpasserine\n",
      "==============================\n",
      "Word: ____________\n",
      "Guessed Letters: []\n",
      "Remaining Attempts: 6\n",
      "Word: ____a_______\n",
      "Guessed Letters: ['a']\n",
      "Remaining Attempts: 6\n",
      "Word: ____a__e___e\n",
      "Guessed Letters: ['a', 'e']\n",
      "Remaining Attempts: 6\n",
      "Word: ____a__e_i_e\n",
      "Guessed Letters: ['a', 'e', 'i']\n",
      "Remaining Attempts: 6\n",
      "Word: ____a__eri_e\n",
      "Guessed Letters: ['a', 'e', 'i', 'r']\n",
      "Remaining Attempts: 6\n",
      "Word: _o__a__eri_e\n",
      "Guessed Letters: ['a', 'e', 'i', 'o', 'r']\n",
      "Remaining Attempts: 6\n",
      "Word: _o__a__eri_e\n",
      "Guessed Letters: ['a', 'e', 'i', 'l', 'o', 'r']\n",
      "Remaining Attempts: 5\n",
      "Word: non_a__erine\n",
      "Guessed Letters: ['a', 'e', 'i', 'l', 'n', 'o', 'r']\n",
      "Remaining Attempts: 5\n",
      "Word: non_a__erine\n",
      "Guessed Letters: ['a', 'e', 'i', 'l', 'n', 'o', 'r', 't']\n",
      "Remaining Attempts: 4\n",
      "Word: non_asserine\n",
      "Guessed Letters: ['a', 'e', 'i', 'l', 'n', 'o', 'r', 's', 't']\n",
      "Remaining Attempts: 4\n",
      "Word: non_asserine\n",
      "Guessed Letters: ['a', 'c', 'e', 'i', 'l', 'n', 'o', 'r', 's', 't']\n",
      "Remaining Attempts: 3\n",
      "Word: non_asserine\n",
      "Guessed Letters: ['a', 'c', 'e', 'i', 'l', 'n', 'o', 'r', 's', 't', 'u']\n",
      "Remaining Attempts: 2\n",
      "Word: non_asserine\n",
      "Guessed Letters: ['a', 'c', 'e', 'h', 'i', 'l', 'n', 'o', 'r', 's', 't', 'u']\n",
      "Remaining Attempts: 1\n",
      "\n",
      "Final state:\n",
      "Word: nonpasserine\n",
      "Guessed Letters: ['a', 'c', 'e', 'h', 'i', 'l', 'n', 'o', 'p', 'r', 's', 't', 'u']\n",
      "Remaining Attempts: 1\n",
      "\n",
      "The agent won!\n",
      "==============================\n"
     ]
    }
   ],
   "source": [
    "import time\n",
    "from tqdm import tqdm\n",
    "import numpy as np\n",
    "\n",
    "def visualize_agent_playing(model, env, word):\n",
    "    \"\"\"\n",
    "    Visualize the Hangman agent playing a single game.\n",
    "    \n",
    "    :param model: Trained RecurrentPPO model.\n",
    "    :param env: Hangman environment.\n",
    "    :param word: The word for the environment to guess.\n",
    "    \"\"\"\n",
    "    # Reset the environment with the specified word\n",
    "    obs, info = env.reset(word=word)\n",
    "    done = False\n",
    "\n",
    "    # Initialize LSTM states and flags\n",
    "    lstm_states = None  # (h, c)\n",
    "    episode_starts = True  # True at the beginning of each episode\n",
    "    step_counter = 0\n",
    "    max_steps_per_episode = 1000  # Set a reasonable limit\n",
    "\n",
    "    print(f\"Word to guess: {word}\")\n",
    "    print(\"=\" * 30)\n",
    "\n",
    "    while not done and step_counter < max_steps_per_episode:\n",
    "        # Render the current state of the environment\n",
    "        env.render()\n",
    "\n",
    "        # Predict the action and update LSTM states\n",
    "        action, lstm_states = model.predict(\n",
    "            obs,\n",
    "            state=lstm_states,\n",
    "            episode_start=np.array([episode_starts]),\n",
    "            deterministic=True\n",
    "        )\n",
    "        obs, reward, terminated, truncated, info = env.step(action)\n",
    "        done = terminated or truncated\n",
    "        episode_starts = done  # Reset LSTM states if the episode is done\n",
    "        step_counter += 1\n",
    "\n",
    "        # Sleep to visualize progress\n",
    "        time.sleep(0.5)\n",
    "\n",
    "    # Render the final state of the game\n",
    "    print(\"\\nFinal state:\")\n",
    "    env.render()\n",
    "\n",
    "    # Display result\n",
    "    if env.remaining_attempts > 0:\n",
    "        print(\"\\nThe agent won!\")\n",
    "    else:\n",
    "        print(\"\\nThe agent lost!\")\n",
    "    print(\"=\" * 30)\n",
    "\n",
    "# Example usage\n",
    "# Pick a random word from the word list to visualize\n",
    "random_word = random.choice(word_list)\n",
    "print(random_word)\n",
    "\n",
    "# Visualize the agent playing the game\n",
    "visualize_agent_playing(model, env, random_word)\n"
   ]
  },
  {
   "cell_type": "code",
   "execution_count": null,
   "id": "791928af-caaf-46a3-a1cf-87f2362f1270",
   "metadata": {},
   "outputs": [],
   "source": [
    "# 1. Load the trained model\n",
    "# Replace the path with the actual path to your trained model\n",
    "trained_model_path = \"./models/hangman_model_PPO_LSTM_1000000_steps.zip\"\n",
    "model = RecurrentPPO.load(trained_model_path, device='cpu')\n",
    "\n",
    "# 2. Initialize the environment\n",
    "# Assuming you have the HangmanEnv class defined as per your code\n",
    "# and that 'word_list' is already loaded and filtered\n",
    "\n",
    "# Initialize the Curriculum instance\n",
    "curriculum = Curriculum()\n",
    "\n",
    "# Initialize the Hangman environment\n",
    "env = HangmanEnv(word_list=word_list, curriculum=curriculum, max_word_length=max_word_length)\n",
    "\n",
    "# Wrap the environment in DummyVecEnv\n",
    "vec_env = DummyVecEnv([lambda: env])\n",
    "vec_env = VecMonitor(vec_env)\n",
    "\n",
    "# 3. Play the game with a specific word\n",
    "word_to_guess = 'apple'  # Example word\n",
    "\n",
    "# Call the playback function\n",
    "win, steps = play_with_agent(model, vec_env, word_to_guess, verbose=True)\n"
   ]
  },
  {
   "cell_type": "code",
   "execution_count": null,
   "id": "0e579e68-58ef-4052-8097-5fa26c0bf489",
   "metadata": {},
   "outputs": [],
   "source": []
  }
 ],
 "metadata": {
  "kernelspec": {
   "display_name": "Python 3 (ipykernel)",
   "language": "python",
   "name": "python3"
  },
  "language_info": {
   "codemirror_mode": {
    "name": "ipython",
    "version": 3
   },
   "file_extension": ".py",
   "mimetype": "text/x-python",
   "name": "python",
   "nbconvert_exporter": "python",
   "pygments_lexer": "ipython3",
   "version": "3.9.18"
  }
 },
 "nbformat": 4,
 "nbformat_minor": 5
}
